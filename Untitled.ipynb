{
 "cells": [
  {
   "cell_type": "code",
   "execution_count": 1,
   "metadata": {
    "ExecuteTime": {
     "end_time": "2020-04-21T14:58:07.551091Z",
     "start_time": "2020-04-21T14:58:06.019022Z"
    }
   },
   "outputs": [],
   "source": [
    "import requests\n",
    "from bs4 import BeautifulSoup\n",
    "\n",
    "import json\n",
    "import os\n",
    "\n",
    "os.environ[\"PRO_PUBLICA_API_KEY\"] = \"xwiuchap9kE9Ts4kNKTmBsoCM3XjgO3meCWW7qsx\"\n",
    "\n",
    "import pandas as pd\n",
    "import numpy as np\n",
    "\n",
    "import zipfile\n",
    "import pathlib\n",
    "import tempfile\n",
    "import itertools\n",
    "import shutil\n",
    "\n",
    "from pymongo import MongoClient"
   ]
  },
  {
   "cell_type": "code",
   "execution_count": null,
   "metadata": {
    "ExecuteTime": {
     "end_time": "2020-04-20T15:30:22.212691Z",
     "start_time": "2020-04-20T15:30:22.194076Z"
    }
   },
   "outputs": [],
   "source": [
    "class FileMigrator(object):\n",
    "\n",
    "    def __init__(self, congress):\n",
    "        self.dir = tempfile.TemporaryDirectory()\n",
    "        self.congress = str(congress)\n",
    "        print(f\"{self.dir.name}\")\n",
    "        \n",
    "    def __enter__(self):\n",
    "        return self\n",
    "    \n",
    "    def __exit__(self, *args):\n",
    "        self.dir.cleanup()\n",
    "        \n",
    "    def extract_file(self, f):\n",
    "        with zipfile.ZipFile(f,\"r\") as zip_ref:\n",
    "            zip_ref.extractall(self.dir.name)\n",
    "\n",
    "    def get_filetypes(self, ftype=\".json\"):\n",
    "        found = []\n",
    "        for root, dirs, files in os.walk(self.dir.name):\n",
    "            for file in files:\n",
    "                if file.endswith(ftype):\n",
    "                    found.append(os.path.join(root, file))\n",
    "        return found\n",
    "    \n",
    "    def migrate(self, files, loc):\n",
    "        p = pathlib.Path(loc)\n",
    "        p.mkdir(parents=True, exist_ok=True)\n",
    "        for f in files:\n",
    "            simpleid = f.split(\"/\")[-2]\n",
    "            shutil.move(f, os.path.join(loc, self.congress + \".\" + simpleid + \".json\"))\n",
    "    \n",
    "    def migrate_to_mongo(self, files, db=\"congress\", collection=\"bills\", batchsize=1000):  \n",
    "        client = MongoClient('localhost', 27017)\n",
    "        coll = client[db][collection]\n",
    "        \n",
    "        batches = np.array_split(files, int(len(files) / batchsize) + 1)\n",
    "        \n",
    "        for batch in batches:\n",
    "            batch_data = []\n",
    "            for file in batch:\n",
    "                data = json.load(open(file, \"r\"))\n",
    "                batch_data.append(data)\n",
    "            coll.insert_many(batch_data)\n",
    "            \n",
    "        client.close()\n",
    "            \n",
    "    def migrate_to_mongo_one_at_time(self, files, db=\"congress\", collection=\"bills\", batchsize=1000):  \n",
    "        client = MongoClient('localhost', 27017)\n",
    "        db = client[db]\n",
    "        coll = db[collection]\n",
    "        \n",
    "        nerrors = 0\n",
    "        try:\n",
    "            for file in files:\n",
    "                data = json.load(open(file, \"r\"))\n",
    "                res = coll.insert_one(data)\n",
    "                if not res:\n",
    "                    nerrors += 1\n",
    "        except:\n",
    "            nerrors += 1\n",
    "            \n",
    "        print(len(files), nerrors)\n",
    "            \n",
    "        client.close()\n",
    "            \n",
    "                "
   ]
  },
  {
   "cell_type": "code",
   "execution_count": null,
   "metadata": {
    "ExecuteTime": {
     "end_time": "2020-04-20T15:40:51.576276Z",
     "start_time": "2020-04-20T15:30:28.121885Z"
    },
    "scrolled": false
   },
   "outputs": [],
   "source": [
    "for i in range(93, 116):\n",
    "    with FileMigrator(i) as migrator:\n",
    "        fname = migrator.dir\n",
    "        migrator.extract_file(f\"/Users/benellis/Downloads/all_bills/{i}.zip\")\n",
    "        files = migrator.get_filetypes()\n",
    "        migrator.migrate_to_mongo_one_at_time(files)"
   ]
  },
  {
   "cell_type": "code",
   "execution_count": 59,
   "metadata": {
    "ExecuteTime": {
     "end_time": "2020-04-22T02:46:32.022725Z",
     "start_time": "2020-04-22T02:46:32.008629Z"
    }
   },
   "outputs": [],
   "source": [
    "def fetch_bill_text(bill_type, bill_id, congress):\n",
    "        ordinal = lambda n: \"%d%s\" % (n,\"tsnrhtdd\"[(n/10%10!=1)*(n%10<4)*n%10::4])\n",
    "        mapper = {\n",
    "            \"hconres\": \"house-concurrent-resolution\",\n",
    "            \"hjres\": \"house-joint-resolution\",\n",
    "            \"hr\": \"house-bill\",\n",
    "            \"hres\": \"house-resolution\",\n",
    "            \"s\": \"senate-bill\",\n",
    "            \"sconres\": \"senate-concurrent-resolution\",\n",
    "            \"sjres\" : \"senate-joint-resolution\",\n",
    "            \"sres\": \"senate-resolution\"\n",
    "        }\n",
    "        if bill_type not in mapper:\n",
    "            return None\n",
    "        \n",
    "        bill_num = bill_id.split(\"-\")[0]\n",
    "        bill_num = \"\".join([i for i in bill_num if i.isdigit()])\n",
    "        \n",
    "        url = f\"https://www.congress.gov/bill/{ordinal(int(congress))}-congress/{mapper[bill_type]}/{bill_num}/text?format=txt\"\n",
    "        \n",
    "        try:\n",
    "            p = BeautifulSoup(requests.get(url).text)\n",
    "            body = p.find(id=\"billTextContainer\").get_text()\n",
    "        except AttributeError:\n",
    "            print(bill_type, bill_id, congress, url)\n",
    "        return body\n",
    "    \n",
    "    \n",
    "def fetch_bodies(congress):\n",
    "    client = MongoClient('localhost', 27017)\n",
    "    db = client[\"congress\"]\n",
    "    coll = db[\"bills\"]\n",
    "    data = coll.find(\n",
    "        {\"congress\": {\"$eq\": congress}, \"bill_id\": {\"$exists\": True}, \"bill_body\": {\"$eq\": \"NO BODY\"}},\n",
    "        {\"bill_type\": True, \"bill_id\": True, \"congress\": True}\n",
    "    )\n",
    "    \n",
    "    errors = []\n",
    "    \n",
    "    for i, entry in enumerate(data):\n",
    "        try:\n",
    "            body = fetch_bill_text(entry[\"bill_type\"], entry[\"bill_id\"], entry[\"congress\"])\n",
    "            if body is None:\n",
    "                adder = {\"bill_body\": \"NO BODY\"}\n",
    "            else:\n",
    "                adder = {\"bill_body\": body}\n",
    "            coll.update_one({\"_id\": entry[\"_id\"]}, {\"$set\": adder})\n",
    "        except Exception as e:\n",
    "            print(e)\n",
    "\n",
    "    client.close()"
   ]
  },
  {
   "cell_type": "code",
   "execution_count": 54,
   "metadata": {
    "ExecuteTime": {
     "end_time": "2020-04-22T00:20:07.435406Z",
     "start_time": "2020-04-22T00:20:07.423406Z"
    }
   },
   "outputs": [],
   "source": [
    "def test_congress_billbody_avail():\n",
    "    good_ones = []\n",
    "    client = MongoClient('localhost', 27017)\n",
    "    db = client[\"congress\"]\n",
    "    coll = db[\"bills\"]\n",
    "    for c in coll.distinct(\"congress\"):\n",
    "        data = coll.find_one(\n",
    "            {\"congress\": {\"$eq\": str(c)}, \"bill_id\": {\"$exists\": True}},  # amendments have no bill_id\n",
    "            {\"bill_type\": True, \"bill_id\": True, \"congress\": True}        # only need these cols to fetch bodies\n",
    "        )\n",
    "        body = fetch_bill_text(data[\"bill_type\"], data[\"bill_id\"], data[\"congress\"])\n",
    "        if body is not None:\n",
    "            good_ones.append(str(c))\n",
    "    client.close()\n",
    "    return good_ones"
   ]
  },
  {
   "cell_type": "code",
   "execution_count": 4,
   "metadata": {
    "ExecuteTime": {
     "end_time": "2020-04-21T14:58:54.688069Z",
     "start_time": "2020-04-21T14:58:16.422958Z"
    }
   },
   "outputs": [],
   "source": [
    "good_congresses = test_congress_billbody_avail()"
   ]
  },
  {
   "cell_type": "code",
   "execution_count": 5,
   "metadata": {
    "ExecuteTime": {
     "end_time": "2020-04-21T14:58:54.704032Z",
     "start_time": "2020-04-21T14:58:54.690301Z"
    }
   },
   "outputs": [
    {
     "data": {
      "text/plain": [
       "['101',\n",
       " '102',\n",
       " '103',\n",
       " '104',\n",
       " '105',\n",
       " '106',\n",
       " '107',\n",
       " '108',\n",
       " '109',\n",
       " '110',\n",
       " '111',\n",
       " '112',\n",
       " '113',\n",
       " '114',\n",
       " '115']"
      ]
     },
     "execution_count": 5,
     "metadata": {},
     "output_type": "execute_result"
    }
   ],
   "source": [
    "good_congresses"
   ]
  },
  {
   "cell_type": "raw",
   "metadata": {
    "ExecuteTime": {
     "end_time": "2020-04-22T14:40:46.434133Z",
     "start_time": "2020-04-22T06:16:12.220989Z"
    }
   },
   "source": [
    "for c in good_congresses[2:]:\n",
    "    print(f\"***** {c} *****\")\n",
    "    fetch_bodies(c)"
   ]
  },
  {
   "cell_type": "code",
   "execution_count": 65,
   "metadata": {
    "ExecuteTime": {
     "end_time": "2020-04-22T19:45:54.332953Z",
     "start_time": "2020-04-22T19:45:54.328790Z"
    }
   },
   "outputs": [],
   "source": [
    "import multiprocessing.dummy as mp"
   ]
  },
  {
   "cell_type": "code",
   "execution_count": 68,
   "metadata": {
    "ExecuteTime": {
     "end_time": "2020-04-23T18:56:22.322125Z",
     "start_time": "2020-04-23T18:16:53.921078Z"
    },
    "scrolled": false
   },
   "outputs": [
    {
     "name": "stdout",
     "output_type": "stream",
     "text": [
      "hconres hconres330-101 101 https://www.congress.gov/bill/101st-congress/house-concurrent-resolution/330/text?format=txt\n",
      "local variable 'body' referenced before assignment\n",
      "hconres hconres258-102 102 https://www.congress.gov/bill/102nd-congress/house-concurrent-resolution/258/text?format=txt\n",
      "local variable 'body' referenced before assignment\n",
      "hr hr419-103 103 https://www.congress.gov/bill/103rd-congress/house-bill/419/text?format=txt\n",
      "local variable 'body' referenced before assignment\n",
      "s s1795-104 104 https://www.congress.gov/bill/104th-congress/senate-bill/1795/text?format=txt\n",
      "local variable 'body' referenced before assignment\n",
      "hr hr1592-101 101 https://www.congress.gov/bill/101st-congress/house-bill/1592/text?format=txt\n",
      "local variable 'body' referenced before assignment\n",
      "hjres hjres265-102 102 https://www.congress.gov/bill/102nd-congress/house-joint-resolution/265/text?format=txt\n",
      "local variable 'body' referenced before assignment\n",
      "hr hr2199-101 101 https://www.congress.gov/bill/101st-congress/house-bill/2199/text?format=txt\n",
      "local variable 'body' referenced before assignment\n",
      "hr hr101-102 102 https://www.congress.gov/bill/102nd-congress/house-bill/101/text?format=txt\n",
      "local variable 'body' referenced before assignment\n",
      "hr hr2201-101 101 https://www.congress.gov/bill/101st-congress/house-bill/2201/text?format=txt\n",
      "local variable 'body' referenced before assignment\n",
      "hres hres282-102 102 https://www.congress.gov/bill/102nd-congress/house-resolution/282/text?format=txt\n",
      "local variable 'body' referenced before assignment\n",
      "hr hr2202-101 101 https://www.congress.gov/bill/101st-congress/house-bill/2202/text?format=txt\n",
      "local variable 'body' referenced before assignment\n",
      "hres hres525-102 102 https://www.congress.gov/bill/102nd-congress/house-resolution/525/text?format=txt\n",
      "local variable 'body' referenced before assignment\n",
      "hr hr2203-101 101 https://www.congress.gov/bill/101st-congress/house-bill/2203/text?format=txt\n",
      "local variable 'body' referenced before assignment\n",
      "hres hres497-106 106 https://www.congress.gov/bill/106th-congress/house-resolution/497/text?format=txt\n",
      "local variable 'body' referenced before assignment\n",
      "hres hres533-102 102 https://www.congress.gov/bill/102nd-congress/house-resolution/533/text?format=txt\n",
      "local variable 'body' referenced before assignment\n",
      "s s2545-106 106 https://www.congress.gov/bill/106th-congress/senate-bill/2545/text?format=txt\n",
      "local variable 'body' referenced before assignment\n",
      "hr hr2204-101 101 https://www.congress.gov/bill/101st-congress/house-bill/2204/text?format=txt\n",
      "local variable 'body' referenced before assignment\n",
      "s s1-102 102 https://www.congress.gov/bill/102nd-congress/senate-bill/1/text?format=txt\n",
      "local variable 'body' referenced before assignment\n",
      "s s3126-106 106 https://www.congress.gov/bill/106th-congress/senate-bill/3126/text?format=txt\n",
      "local variable 'body' referenced before assignment\n",
      "s s751-102 102 https://www.congress.gov/bill/102nd-congress/senate-bill/751/text?format=txt\n",
      "local variable 'body' referenced before assignment\n",
      "hr hr2205-101 101 https://www.congress.gov/bill/101st-congress/house-bill/2205/text?format=txt\n",
      "local variable 'body' referenced before assignment\n",
      "hr hr2206-101 101 https://www.congress.gov/bill/101st-congress/house-bill/2206/text?format=txt\n",
      "local variable 'body' referenced before assignment\n",
      "hr hr2207-101 101 https://www.congress.gov/bill/101st-congress/house-bill/2207/text?format=txt\n",
      "local variable 'body' referenced before assignment\n",
      "hr hr2208-101 101 https://www.congress.gov/bill/101st-congress/house-bill/2208/text?format=txt\n",
      "local variable 'body' referenced before assignment\n",
      "hr hr2210-101 101 https://www.congress.gov/bill/101st-congress/house-bill/2210/text?format=txt\n",
      "local variable 'body' referenced before assignment\n",
      "hr hr2212-101 101 https://www.congress.gov/bill/101st-congress/house-bill/2212/text?format=txt\n",
      "local variable 'body' referenced before assignment\n",
      "hr hr2214-101 101 https://www.congress.gov/bill/101st-congress/house-bill/2214/text?format=txt\n",
      "local variable 'body' referenced before assignment\n",
      "hr hr2217-101 101 https://www.congress.gov/bill/101st-congress/house-bill/2217/text?format=txt\n",
      "local variable 'body' referenced before assignment\n",
      "hr hr2223-101 101 https://www.congress.gov/bill/101st-congress/house-bill/2223/text?format=txt\n",
      "local variable 'body' referenced before assignment\n",
      "hr hr2226-101 101 https://www.congress.gov/bill/101st-congress/house-bill/2226/text?format=txt\n",
      "local variable 'body' referenced before assignment\n",
      "hr hr1-109 109 https://www.congress.gov/bill/109th-congress/house-bill/1/text?format=txt\n",
      "local variable 'body' referenced before assignment\n",
      "hr hr10-109 109 https://www.congress.gov/bill/109th-congress/house-bill/10/text?format=txt\n",
      "local variable 'body' referenced before assignment\n",
      "hr hr2228-101 101 https://www.congress.gov/bill/101st-congress/house-bill/2228/text?format=txt\n",
      "local variable 'body' referenced before assignment\n",
      "hr hr3-108 108 https://www.congress.gov/bill/108th-congress/house-bill/3/text?format=txt\n",
      "local variable 'body' referenced before assignment\n",
      "hr hr2-109 109 https://www.congress.gov/bill/109th-congress/house-bill/2/text?format=txt\n",
      "local variable 'body' referenced before assignment\n",
      "hr hr5188-101 101 https://www.congress.gov/bill/101st-congress/house-bill/5188/text?format=txt\n",
      "local variable 'body' referenced before assignment\n",
      "hr hr9-108 108 https://www.congress.gov/bill/108th-congress/house-bill/9/text?format=txt\n",
      "local variable 'body' referenced before assignment\n",
      "hr hr7-109 109 https://www.congress.gov/bill/109th-congress/house-bill/7/text?format=txt\n",
      "local variable 'body' referenced before assignment\n",
      "hr hr771-101 101 https://www.congress.gov/bill/101st-congress/house-bill/771/text?format=txt\n",
      "local variable 'body' referenced before assignment\n",
      "hres hres841-109 109 https://www.congress.gov/bill/109th-congress/house-resolution/841/text?format=txt\n",
      "local variable 'body' referenced before assignment\n",
      "hr hr778-101 101 https://www.congress.gov/bill/101st-congress/house-bill/778/text?format=txt\n",
      "local variable 'body' referenced before assignment\n",
      "hres hres507-101 101 https://www.congress.gov/bill/101st-congress/house-resolution/507/text?format=txt\n",
      "local variable 'body' referenced before assignment\n",
      "s s934-101 101 https://www.congress.gov/bill/101st-congress/senate-bill/934/text?format=txt\n",
      "local variable 'body' referenced before assignment\n",
      "hconres hconres271-110 110 https://www.congress.gov/bill/110th-congress/house-concurrent-resolution/271/text?format=txt\n",
      "local variable 'body' referenced before assignment\n",
      "hr hr10-110 110 https://www.congress.gov/bill/110th-congress/house-bill/10/text?format=txt\n",
      "local variable 'body' referenced before assignment\n",
      "s s998-101 101 https://www.congress.gov/bill/101st-congress/senate-bill/998/text?format=txt\n",
      "local variable 'body' referenced before assignment\n",
      "hr hr1672-110 110 https://www.congress.gov/bill/110th-congress/house-bill/1672/text?format=txt\n",
      "local variable 'body' referenced before assignment\n",
      "hr hr48-110 110 https://www.congress.gov/bill/110th-congress/house-bill/48/text?format=txt\n",
      "local variable 'body' referenced before assignment\n",
      "hr hr7-110 110 https://www.congress.gov/bill/110th-congress/house-bill/7/text?format=txt\n",
      "local variable 'body' referenced before assignment\n",
      "hr hr8-110 110 https://www.congress.gov/bill/110th-congress/house-bill/8/text?format=txt\n",
      "local variable 'body' referenced before assignment\n",
      "hr hr3273-113 113 https://www.congress.gov/bill/113rd-congress/house-bill/3273/text?format=txt\n",
      "local variable 'body' referenced before assignment\n",
      "hr hr9-110 110 https://www.congress.gov/bill/110th-congress/house-bill/9/text?format=txt\n",
      "local variable 'body' referenced before assignment\n"
     ]
    }
   ],
   "source": [
    "with mp.Pool(4) as pool:\n",
    "    pool.map(fetch_bodies, good_congresses)"
   ]
  },
  {
   "cell_type": "code",
   "execution_count": 69,
   "metadata": {
    "ExecuteTime": {
     "end_time": "2020-04-23T19:16:49.031834Z",
     "start_time": "2020-04-23T19:16:49.014616Z"
    }
   },
   "outputs": [
    {
     "name": "stdout",
     "output_type": "stream",
     "text": [
      "DONE\n"
     ]
    }
   ],
   "source": [
    "print(\"DONE\")"
   ]
  },
  {
   "cell_type": "code",
   "execution_count": 101,
   "metadata": {
    "ExecuteTime": {
     "end_time": "2020-04-23T21:02:07.591180Z",
     "start_time": "2020-04-23T21:02:02.851885Z"
    }
   },
   "outputs": [],
   "source": [
    "client = MongoClient('localhost', 27017)\n",
    "db = client[\"congress\"]\n",
    "coll = db[\"bills\"]\n",
    "data = coll.find({\"bill_body\": {\"$ne\": \"NO BODY\"}, \"bill_body\": {\"$exists\": True}})\n",
    "data_list = []\n",
    "for i, d in enumerate(data):\n",
    "    data_list.append(d)\n",
    "    if i == 250:\n",
    "        break\n",
    "client.close()"
   ]
  },
  {
   "cell_type": "code",
   "execution_count": 102,
   "metadata": {
    "ExecuteTime": {
     "end_time": "2020-04-23T21:02:07.601543Z",
     "start_time": "2020-04-23T21:02:07.593627Z"
    }
   },
   "outputs": [
    {
     "data": {
      "text/plain": [
       "['_id',\n",
       " 'actions',\n",
       " 'amendments',\n",
       " 'bill_body',\n",
       " 'bill_id',\n",
       " 'bill_type',\n",
       " 'committees',\n",
       " 'congress',\n",
       " 'cosponsors',\n",
       " 'enacted_as',\n",
       " 'history',\n",
       " 'introduced_at',\n",
       " 'number',\n",
       " 'official_title',\n",
       " 'popular_title',\n",
       " 'related_bills',\n",
       " 'short_title',\n",
       " 'sponsor',\n",
       " 'status',\n",
       " 'status_at',\n",
       " 'subjects',\n",
       " 'subjects_top_term',\n",
       " 'summary',\n",
       " 'titles',\n",
       " 'updated_at']"
      ]
     },
     "execution_count": 102,
     "metadata": {},
     "output_type": "execute_result"
    }
   ],
   "source": [
    "sorted(data_list[0].keys())"
   ]
  },
  {
   "cell_type": "code",
   "execution_count": 118,
   "metadata": {
    "ExecuteTime": {
     "end_time": "2020-04-23T21:09:36.665504Z",
     "start_time": "2020-04-23T21:09:36.620918Z"
    }
   },
   "outputs": [
    {
     "name": "stdout",
     "output_type": "stream",
     "text": [
      "2013-02-02T20:09:18-05:00\n",
      "2013-02-02T20:09:19-05:00\n",
      "2013-02-02T20:09:21-05:00\n",
      "2013-02-02T20:09:21-05:00\n",
      "2013-02-02T20:09:21-05:00\n",
      "2013-02-02T20:09:21-05:00\n",
      "2013-02-02T20:09:21-05:00\n",
      "2013-02-02T20:09:21-05:00\n",
      "2013-02-02T20:09:22-05:00\n",
      "2013-02-02T20:09:22-05:00\n",
      "2013-02-02T20:09:22-05:00\n",
      "2013-02-02T20:09:22-05:00\n",
      "2013-02-02T20:09:19-05:00\n",
      "2013-02-02T20:09:22-05:00\n",
      "2013-02-02T20:09:22-05:00\n",
      "2013-02-02T20:09:22-05:00\n",
      "2013-02-02T20:09:22-05:00\n",
      "2013-02-02T20:09:22-05:00\n",
      "2013-02-02T20:09:22-05:00\n",
      "2013-02-02T20:09:22-05:00\n",
      "2013-02-02T20:09:22-05:00\n",
      "2013-02-02T20:09:22-05:00\n",
      "2013-02-02T20:09:22-05:00\n",
      "2013-02-02T20:09:19-05:00\n",
      "2013-02-02T20:09:22-05:00\n",
      "2013-02-02T20:09:22-05:00\n",
      "2013-02-02T20:09:22-05:00\n",
      "2013-02-02T20:09:22-05:00\n",
      "2013-02-02T20:09:22-05:00\n",
      "2013-02-02T20:09:22-05:00\n",
      "2013-02-02T20:09:22-05:00\n",
      "2013-02-02T20:09:22-05:00\n",
      "2013-02-02T20:09:22-05:00\n",
      "2013-02-02T20:09:22-05:00\n",
      "2013-02-02T20:09:19-05:00\n",
      "2013-02-02T20:09:22-05:00\n",
      "2013-02-02T20:09:22-05:00\n",
      "2013-02-02T20:09:22-05:00\n",
      "2013-02-02T20:09:22-05:00\n",
      "2013-02-02T20:09:22-05:00\n",
      "2013-02-02T20:09:22-05:00\n",
      "2013-02-02T20:09:22-05:00\n",
      "2013-02-02T20:09:22-05:00\n",
      "2013-02-02T20:09:22-05:00\n",
      "2013-02-02T20:09:22-05:00\n",
      "2013-02-02T20:09:19-05:00\n",
      "2013-02-02T20:09:22-05:00\n",
      "2013-02-02T20:09:23-05:00\n",
      "2013-02-02T20:09:23-05:00\n",
      "2013-02-02T20:09:23-05:00\n",
      "2013-02-02T20:09:23-05:00\n",
      "2013-02-02T20:09:23-05:00\n",
      "2013-02-02T20:09:23-05:00\n",
      "2013-02-02T20:09:23-05:00\n",
      "2013-02-02T20:09:23-05:00\n",
      "2013-02-02T20:09:23-05:00\n",
      "2013-02-02T20:09:19-05:00\n",
      "2013-02-02T20:09:23-05:00\n",
      "2013-02-02T20:09:23-05:00\n",
      "2013-02-02T20:09:23-05:00\n",
      "2013-02-02T20:09:23-05:00\n",
      "2013-02-02T20:09:23-05:00\n",
      "2013-02-02T20:09:23-05:00\n",
      "2013-02-02T20:09:23-05:00\n",
      "2013-02-02T20:09:23-05:00\n",
      "2013-02-02T20:09:23-05:00\n",
      "2013-02-02T20:09:23-05:00\n",
      "2013-02-02T20:09:19-05:00\n",
      "2013-02-02T20:09:23-05:00\n",
      "2013-02-02T20:09:23-05:00\n",
      "2013-02-02T20:09:23-05:00\n",
      "2013-02-02T20:09:23-05:00\n",
      "2013-02-02T20:09:23-05:00\n",
      "2013-02-02T20:09:23-05:00\n",
      "2013-02-02T20:09:23-05:00\n",
      "2013-02-02T20:09:23-05:00\n",
      "2013-02-02T20:09:23-05:00\n",
      "2013-02-02T20:09:24-05:00\n",
      "2013-02-02T20:09:19-05:00\n",
      "2013-02-02T20:09:24-05:00\n",
      "2013-02-02T20:09:24-05:00\n",
      "2013-02-02T20:09:24-05:00\n",
      "2013-02-02T20:09:24-05:00\n",
      "2013-02-02T20:09:24-05:00\n",
      "2013-02-02T20:09:24-05:00\n",
      "2013-02-02T20:09:24-05:00\n",
      "2013-02-02T20:09:24-05:00\n",
      "2013-02-02T20:09:24-05:00\n",
      "2013-02-02T20:09:24-05:00\n",
      "2013-02-02T20:09:19-05:00\n",
      "2013-02-02T20:09:24-05:00\n",
      "2013-02-02T20:09:24-05:00\n",
      "2013-02-02T20:09:24-05:00\n",
      "2013-02-02T20:09:24-05:00\n",
      "2013-02-02T20:09:24-05:00\n",
      "2013-02-02T20:09:24-05:00\n",
      "2013-02-02T20:09:24-05:00\n",
      "2013-02-02T20:09:24-05:00\n",
      "2013-02-02T20:09:24-05:00\n",
      "2013-02-02T20:09:24-05:00\n",
      "2013-02-02T20:09:19-05:00\n",
      "2013-02-02T20:09:24-05:00\n",
      "2013-02-02T20:09:24-05:00\n",
      "2013-02-02T20:09:24-05:00\n",
      "2013-02-02T20:09:24-05:00\n",
      "2013-02-02T20:09:24-05:00\n",
      "2013-02-02T20:09:24-05:00\n",
      "2013-02-02T20:09:24-05:00\n",
      "2013-02-02T20:09:24-05:00\n",
      "2013-02-02T20:09:24-05:00\n",
      "2013-02-02T20:09:24-05:00\n",
      "2013-02-02T20:09:18-05:00\n",
      "2013-02-02T20:09:19-05:00\n",
      "2013-02-02T20:09:24-05:00\n",
      "2013-02-02T20:09:25-05:00\n",
      "2013-02-02T20:09:25-05:00\n",
      "2013-02-02T20:09:25-05:00\n",
      "2013-02-02T20:09:25-05:00\n",
      "2013-02-02T20:09:25-05:00\n",
      "2013-02-02T20:09:25-05:00\n",
      "2013-02-02T20:09:25-05:00\n",
      "2013-02-02T20:09:25-05:00\n",
      "2013-02-02T20:09:25-05:00\n",
      "2013-02-02T20:09:19-05:00\n",
      "2013-02-02T20:09:25-05:00\n",
      "2013-02-02T20:09:25-05:00\n",
      "2013-02-02T20:09:25-05:00\n",
      "2013-02-02T20:09:25-05:00\n",
      "2013-02-02T20:09:25-05:00\n",
      "2013-02-02T20:09:25-05:00\n",
      "2013-02-02T20:09:25-05:00\n",
      "2013-02-02T20:09:25-05:00\n",
      "2013-02-02T20:09:25-05:00\n",
      "2013-02-02T20:09:25-05:00\n",
      "2013-02-02T20:09:19-05:00\n",
      "2013-02-02T20:09:25-05:00\n",
      "2013-02-02T20:09:25-05:00\n",
      "2013-02-02T20:09:25-05:00\n",
      "2013-02-02T20:09:25-05:00\n",
      "2013-02-02T20:09:25-05:00\n",
      "2013-02-02T20:09:25-05:00\n",
      "2013-02-02T20:09:25-05:00\n",
      "2013-02-02T20:09:25-05:00\n",
      "2013-02-02T20:09:25-05:00\n",
      "2013-02-02T20:09:25-05:00\n",
      "2013-02-02T20:09:19-05:00\n",
      "2013-02-02T20:09:25-05:00\n",
      "2013-02-02T20:09:25-05:00\n",
      "2013-02-02T20:09:25-05:00\n",
      "2013-02-02T20:09:25-05:00\n",
      "2013-02-02T20:09:25-05:00\n",
      "2013-02-02T20:09:26-05:00\n",
      "2013-02-02T20:09:26-05:00\n",
      "2013-02-02T20:09:26-05:00\n",
      "2013-02-02T20:09:26-05:00\n",
      "2013-02-02T20:09:26-05:00\n",
      "2013-02-02T20:09:19-05:00\n",
      "2013-02-02T20:09:26-05:00\n",
      "2013-02-02T20:09:26-05:00\n",
      "2013-02-02T20:09:26-05:00\n",
      "2013-02-02T20:09:26-05:00\n",
      "2013-02-02T20:09:26-05:00\n",
      "2013-02-02T20:09:26-05:00\n",
      "2013-02-02T20:09:26-05:00\n",
      "2013-02-02T20:09:26-05:00\n",
      "2013-02-02T20:09:26-05:00\n",
      "2013-02-02T20:09:26-05:00\n",
      "2013-02-02T20:09:19-05:00\n",
      "2013-02-02T20:09:26-05:00\n",
      "2013-02-02T20:09:26-05:00\n",
      "2013-02-02T20:09:26-05:00\n",
      "2013-02-02T20:09:26-05:00\n",
      "2013-02-02T20:09:26-05:00\n",
      "2013-02-02T20:09:26-05:00\n",
      "2013-02-02T20:09:26-05:00\n",
      "2013-02-02T20:09:26-05:00\n",
      "2013-02-02T20:09:26-05:00\n",
      "2013-02-02T20:09:26-05:00\n",
      "2013-02-02T20:09:19-05:00\n",
      "2013-02-02T20:09:26-05:00\n",
      "2013-02-02T20:09:26-05:00\n",
      "2013-02-02T20:09:26-05:00\n",
      "2013-02-02T20:09:26-05:00\n",
      "2013-02-02T20:09:26-05:00\n",
      "2013-02-02T20:09:26-05:00\n",
      "2013-02-02T20:09:27-05:00\n",
      "2013-02-02T20:09:27-05:00\n",
      "2013-02-02T20:09:27-05:00\n",
      "2013-02-02T20:09:27-05:00\n",
      "2013-02-02T20:09:19-05:00\n",
      "2013-02-02T20:09:27-05:00\n",
      "2013-02-02T20:09:27-05:00\n",
      "2013-02-02T20:09:27-05:00\n",
      "2013-02-02T20:09:27-05:00\n",
      "2013-02-02T20:09:27-05:00\n",
      "2013-02-02T20:09:27-05:00\n",
      "2013-02-02T20:09:27-05:00\n",
      "2013-02-02T20:09:27-05:00\n",
      "2013-02-02T20:09:27-05:00\n",
      "2013-02-02T20:09:27-05:00\n",
      "2013-02-02T20:09:19-05:00\n",
      "2013-02-02T20:09:27-05:00\n",
      "2013-02-02T20:09:27-05:00\n",
      "2013-02-02T20:09:27-05:00\n",
      "2013-02-02T20:09:27-05:00\n",
      "2013-02-02T20:09:27-05:00\n",
      "2013-02-02T20:09:27-05:00\n",
      "2013-02-02T20:09:27-05:00\n",
      "2013-02-02T20:09:27-05:00\n",
      "2013-02-02T20:09:27-05:00\n",
      "2013-02-02T20:09:27-05:00\n",
      "2013-02-02T20:09:19-05:00\n",
      "2013-02-02T20:09:27-05:00\n",
      "2013-02-02T20:09:27-05:00\n",
      "2013-02-02T20:09:28-05:00\n",
      "2013-02-02T20:09:28-05:00\n",
      "2013-02-02T20:09:28-05:00\n",
      "2013-02-02T20:09:28-05:00\n",
      "2013-02-02T20:09:28-05:00\n",
      "2013-02-02T20:09:28-05:00\n",
      "2013-02-02T20:09:28-05:00\n",
      "2013-02-02T20:09:28-05:00\n",
      "2013-02-02T20:09:18-05:00\n",
      "2013-02-02T20:09:19-05:00\n",
      "2013-02-02T20:09:28-05:00\n",
      "2013-02-02T20:09:28-05:00\n",
      "2013-02-02T20:09:28-05:00\n",
      "2013-02-02T20:09:28-05:00\n",
      "2013-02-02T20:09:28-05:00\n",
      "2013-02-02T20:09:28-05:00\n",
      "2013-02-02T20:09:28-05:00\n",
      "2013-02-02T20:09:28-05:00\n",
      "2013-02-02T20:09:28-05:00\n",
      "2013-02-02T20:09:28-05:00\n",
      "2013-02-02T20:09:19-05:00\n",
      "2013-02-02T20:09:28-05:00\n",
      "2013-02-02T20:09:28-05:00\n",
      "2013-02-02T20:09:28-05:00\n",
      "2013-02-02T20:09:28-05:00\n",
      "2013-02-02T20:09:28-05:00\n",
      "2013-02-02T20:09:28-05:00\n",
      "2013-02-02T20:09:28-05:00\n",
      "2013-02-02T20:09:28-05:00\n",
      "2013-02-02T20:09:28-05:00\n",
      "2013-02-02T20:09:28-05:00\n",
      "2013-02-02T20:09:19-05:00\n",
      "2013-02-02T20:09:28-05:00\n",
      "2013-02-02T20:09:28-05:00\n",
      "2013-02-02T20:09:29-05:00\n",
      "2013-02-02T20:09:29-05:00\n",
      "2013-02-02T20:09:29-05:00\n"
     ]
    }
   ],
   "source": [
    "# data_list[2][\"popular_title\"]\n",
    "for i in data_list:\n",
    "    print(i[\"updated_at\"])"
   ]
  },
  {
   "cell_type": "raw",
   "metadata": {
    "ExecuteTime": {
     "end_time": "2020-04-21T15:18:50.596777Z",
     "start_time": "2020-04-21T15:18:50.588300Z"
    }
   },
   "source": [
    "def move_bodies(congress):\n",
    "    client = MongoClient('localhost', 27017)\n",
    "    db = client[\"congress\"]\n",
    "    coll = db[\"bills\"]\n",
    "    data = coll.find(\n",
    "        {\"congress\": {\"$eq\": congress}, \"bill_id\": {\"$exists\": True}, \"bill_body\": {\"$exists\": False}},\n",
    "        {\"bill_type\": True, \"bill_id\": True, \"congress\": True}\n",
    "    )\n",
    "    \n",
    "    errors = []\n",
    "    \n",
    "    for i, entry in enumerate(data):\n",
    "        try:\n",
    "            conn = sqlite3.connect(\"congress.db\")\n",
    "            body = conn.execute(f\"select bill_body from bill_bodies where bill_id='{entry['bill_id']}'\").fetchall()[0][0]\n",
    "            conn.close()\n",
    "            if body is None:\n",
    "                adder = {\"bill_body\": \"NO BODY\"}\n",
    "            else:\n",
    "                adder = {\"bill_body\": body}\n",
    "            coll.update_one({\"_id\": entry[\"_id\"]}, {\"$set\": adder})\n",
    "        except Exception as e:\n",
    "            print(e, entry)\n",
    "\n",
    "    client.close()"
   ]
  },
  {
   "cell_type": "raw",
   "metadata": {
    "ExecuteTime": {
     "end_time": "2020-04-21T15:20:32.454663Z",
     "start_time": "2020-04-21T15:20:08.982970Z"
    }
   },
   "source": [
    "move_bodies('110')"
   ]
  },
  {
   "cell_type": "raw",
   "metadata": {
    "ExecuteTime": {
     "end_time": "2020-04-21T15:20:54.998513Z",
     "start_time": "2020-04-21T15:20:54.992425Z"
    }
   },
   "source": [
    "import sqlite3\n",
    "conn = sqlite3.connect(\"congress.db\")\n",
    "body = conn.execute(\"select * from bill_bodies limit 5\").fetchall()\n",
    "conn.close()"
   ]
  },
  {
   "cell_type": "raw",
   "metadata": {
    "ExecuteTime": {
     "end_time": "2020-04-21T15:20:55.232717Z",
     "start_time": "2020-04-21T15:20:55.226273Z"
    }
   },
   "source": [
    "body"
   ]
  },
  {
   "cell_type": "code",
   "execution_count": null,
   "metadata": {},
   "outputs": [],
   "source": []
  }
 ],
 "metadata": {
  "kernelspec": {
   "display_name": "Python 3",
   "language": "python",
   "name": "python3"
  },
  "language_info": {
   "codemirror_mode": {
    "name": "ipython",
    "version": 3
   },
   "file_extension": ".py",
   "mimetype": "text/x-python",
   "name": "python",
   "nbconvert_exporter": "python",
   "pygments_lexer": "ipython3",
   "version": "3.6.9"
  },
  "toc": {
   "colors": {
    "hover_highlight": "#DAA520",
    "navigate_num": "#000000",
    "navigate_text": "#333333",
    "running_highlight": "#FF0000",
    "selected_highlight": "#FFD700",
    "sidebar_border": "#EEEEEE",
    "wrapper_background": "#FFFFFF"
   },
   "moveMenuLeft": true,
   "nav_menu": {
    "height": "11.9922px",
    "width": "251.992px"
   },
   "navigate_menu": true,
   "number_sections": true,
   "sideBar": true,
   "threshold": 4,
   "toc_cell": false,
   "toc_section_display": "block",
   "toc_window_display": false,
   "widenNotebook": false
  }
 },
 "nbformat": 4,
 "nbformat_minor": 2
}
