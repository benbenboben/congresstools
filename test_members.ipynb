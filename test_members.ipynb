{
 "cells": [
  {
   "cell_type": "code",
   "execution_count": 1,
   "metadata": {
    "ExecuteTime": {
     "end_time": "2020-04-26T20:27:55.597144Z",
     "start_time": "2020-04-26T20:27:54.537168Z"
    }
   },
   "outputs": [],
   "source": [
    "from congress.etl.members import LegislatorsToDB\n",
    "import os"
   ]
  },
  {
   "cell_type": "code",
   "execution_count": 2,
   "metadata": {
    "ExecuteTime": {
     "end_time": "2020-04-26T20:27:55.604296Z",
     "start_time": "2020-04-26T20:27:55.600266Z"
    }
   },
   "outputs": [],
   "source": [
    "legis = LegislatorsToDB(os.environ['PRO_PUBLICA_API_KEY'])"
   ]
  },
  {
   "cell_type": "code",
   "execution_count": 3,
   "metadata": {
    "ExecuteTime": {
     "end_time": "2020-04-26T20:30:32.670561Z",
     "start_time": "2020-04-26T20:27:57.079567Z"
    }
   },
   "outputs": [
    {
     "name": "stdout",
     "output_type": "stream",
     "text": [
      "house 102\n",
      "house 103\n",
      "house 104\n",
      "house 105\n",
      "house 106\n",
      "house 107\n",
      "house 108\n",
      "house 109\n",
      "house 110\n",
      "house 111\n",
      "house 112\n",
      "house 113\n",
      "house 114\n",
      "house 115\n",
      "senate 80\n",
      "senate 81\n",
      "senate 82\n",
      "senate 83\n",
      "senate 84\n",
      "senate 85\n",
      "senate 86\n",
      "senate 87\n",
      "senate 88\n",
      "senate 89\n",
      "senate 90\n",
      "senate 91\n",
      "senate 92\n",
      "senate 93\n",
      "senate 94\n",
      "senate 95\n",
      "senate 96\n",
      "senate 97\n",
      "senate 98\n",
      "senate 99\n",
      "senate 100\n",
      "senate 101\n",
      "senate 102\n",
      "senate 103\n",
      "senate 104\n",
      "senate 105\n",
      "senate 106\n",
      "senate 107\n",
      "senate 108\n",
      "senate 109\n",
      "senate 110\n",
      "senate 111\n",
      "senate 112\n",
      "senate 113\n",
      "senate 114\n",
      "senate 115\n"
     ]
    },
    {
     "name": "stderr",
     "output_type": "stream",
     "text": [
      "/Users/benellis/Projects/congress/congress/etl/members.py:72: FutureWarning: Sorting because non-concatenation axis is not aligned. A future version\n",
      "of pandas will change to not sort by default.\n",
      "\n",
      "To accept the future behavior, pass 'sort=False'.\n",
      "\n",
      "To retain the current behavior and silence the warning, pass 'sort=True'.\n",
      "\n",
      "  df = pd.concat(all_members)\n"
     ]
    }
   ],
   "source": [
    "d = legis.fetch_members({\"house\": [str(i) for i in range(102, 116)], \"senate\": [str(i) for i in range(80, 116)]}, db='testdb')"
   ]
  },
  {
   "cell_type": "code",
   "execution_count": null,
   "metadata": {
    "ExecuteTime": {
     "end_time": "2020-04-26T20:15:47.960532Z",
     "start_time": "2020-04-26T20:14:13.449Z"
    }
   },
   "outputs": [],
   "source": [
    "len(d['results'])"
   ]
  },
  {
   "cell_type": "code",
   "execution_count": null,
   "metadata": {},
   "outputs": [],
   "source": []
  }
 ],
 "metadata": {
  "kernelspec": {
   "display_name": "Python 3",
   "language": "python",
   "name": "python3"
  },
  "language_info": {
   "codemirror_mode": {
    "name": "ipython",
    "version": 3
   },
   "file_extension": ".py",
   "mimetype": "text/x-python",
   "name": "python",
   "nbconvert_exporter": "python",
   "pygments_lexer": "ipython3",
   "version": "3.6.9"
  },
  "toc": {
   "colors": {
    "hover_highlight": "#DAA520",
    "navigate_num": "#000000",
    "navigate_text": "#333333",
    "running_highlight": "#FF0000",
    "selected_highlight": "#FFD700",
    "sidebar_border": "#EEEEEE",
    "wrapper_background": "#FFFFFF"
   },
   "moveMenuLeft": true,
   "nav_menu": {
    "height": "11.9922px",
    "width": "251.992px"
   },
   "navigate_menu": true,
   "number_sections": true,
   "sideBar": true,
   "threshold": 4,
   "toc_cell": false,
   "toc_section_display": "block",
   "toc_window_display": false,
   "widenNotebook": false
  }
 },
 "nbformat": 4,
 "nbformat_minor": 2
}
