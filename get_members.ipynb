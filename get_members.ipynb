{
 "cells": [
  {
   "cell_type": "code",
   "execution_count": 4,
   "metadata": {
    "ExecuteTime": {
     "end_time": "2020-04-25T21:40:03.937709Z",
     "start_time": "2020-04-25T21:40:03.934651Z"
    }
   },
   "outputs": [],
   "source": [
    "from etl import FileMigrator\n",
    "import os\n",
    "import psycopg2"
   ]
  },
  {
   "cell_type": "code",
   "execution_count": 6,
   "metadata": {
    "ExecuteTime": {
     "end_time": "2020-04-25T21:40:13.569525Z",
     "start_time": "2020-04-25T21:40:13.566226Z"
    }
   },
   "outputs": [],
   "source": [
    "from etl import CongressionalAPI"
   ]
  },
  {
   "cell_type": "code",
   "execution_count": 8,
   "metadata": {
    "ExecuteTime": {
     "end_time": "2020-04-25T21:40:49.999886Z",
     "start_time": "2020-04-25T21:40:49.996329Z"
    }
   },
   "outputs": [],
   "source": [
    "api = CongressionalAPI(os.environ[\"PRO_PUBLICA_API_KEY\"])"
   ]
  },
  {
   "cell_type": "code",
   "execution_count": 14,
   "metadata": {
    "ExecuteTime": {
     "end_time": "2020-04-25T21:44:55.193025Z",
     "start_time": "2020-04-25T21:43:36.349857Z"
    }
   },
   "outputs": [
    {
     "name": "stderr",
     "output_type": "stream",
     "text": [
      "/Users/benellis/Projects/congress/etl.py:267: FutureWarning: Sorting because non-concatenation axis is not aligned. A future version\n",
      "of pandas will change to not sort by default.\n",
      "\n",
      "To accept the future behavior, pass 'sort=False'.\n",
      "\n",
      "To retain the current behavior and silence the warning, pass 'sort=True'.\n",
      "\n",
      "  return pd.concat(all_members)\n"
     ]
    }
   ],
   "source": [
    "mems = api.fetch_members({\"house\": [str(i) for i in range(102, 116)], \"senate\": [str(i) for i in range(80, 116)]})"
   ]
  },
  {
   "cell_type": "raw",
   "metadata": {
    "ExecuteTime": {
     "end_time": "2020-04-25T21:46:02.027355Z",
     "start_time": "2020-04-25T21:46:01.983806Z"
    }
   },
   "source": [
    "mems.info()"
   ]
  },
  {
   "cell_type": "code",
   "execution_count": 37,
   "metadata": {
    "ExecuteTime": {
     "end_time": "2020-04-25T22:06:32.546968Z",
     "start_time": "2020-04-25T22:06:32.525175Z"
    }
   },
   "outputs": [
    {
     "name": "stdout",
     "output_type": "stream",
     "text": [
      "CREATE TABLE IF NOT EXISTS members(\n",
      "api_uri TEXT,\n",
      "at_large TEXT,\n",
      "chamber TEXT,\n",
      "congress TEXT,\n",
      "contact_form TEXT,\n",
      "cook_pvi TEXT,\n",
      "crp_id TEXT,\n",
      "cspan_id TEXT,\n",
      "date_of_birth DATE\n",
      "district TEXT,\n",
      "dw_nominate TEXT,\n",
      "facebook_account TEXT,\n",
      "fax TEXT,\n",
      "fec_candidate_id TEXT,\n",
      "first_name TEXT,\n",
      "gender TEXT,\n",
      "geoid TEXT,\n",
      "google_entity_id TEXT,\n",
      "govtrack_id TEXT,\n",
      "icpsr_id TEXT,\n",
      "id TEXT,\n",
      "ideal_point TEXT,\n",
      "in_office BOOLEAN,\n",
      "last_name TEXT,\n",
      "last_updated TEXT,\n",
      "leadership_role TEXT,\n",
      "lis_id TEXT,\n",
      "middle_name TEXT,\n",
      "missed_votes TEXT,\n",
      "missed_votes_pct DECIMAL,\n",
      "next_election TEXT,\n",
      "ocd_id TEXT,\n",
      "office TEXT,\n",
      "party TEXT,\n",
      "phone TEXT,\n",
      "rss_url TEXT,\n",
      "senate_class TEXT,\n",
      "seniority TEXT,\n",
      "short_title TEXT,\n",
      "state TEXT,\n",
      "state_rank TEXT,\n",
      "suffix TEXT,\n",
      "title TEXT,\n",
      "total_present TEXT,\n",
      "total_votes TEXT,\n",
      "twitter_account TEXT,\n",
      "url TEXT,\n",
      "votes_against_party_pct DECIMAL,\n",
      "votes_with_party_pct DECIMAL,\n",
      "votesmart_id TEXT,\n",
      "youtube_account TEXT,\n",
      "PRIMARY KEY (last_name, first_name, congress, chamber)\n",
      ")\n"
     ]
    }
   ],
   "source": [
    "dtype_mapper = {\n",
    "    \"object\": \"TEXT\",\n",
    "    'float64': \"DECIMAL\",\n",
    "    'bool': 'BOOLEAN'\n",
    "}\n",
    "print(\"CREATE TABLE IF NOT EXISTS members(\")\n",
    "for i in mems.columns:\n",
    "    if i == 'date_of_birth':\n",
    "        print(i, 'DATE')\n",
    "    else:\n",
    "        print(i, dtype_mapper[str(mems[i].dtype)] + \",\")\n",
    "print(\"PRIMARY KEY (last_name, first_name, congress, chamber)\")\n",
    "print(\")\")"
   ]
  },
  {
   "cell_type": "code",
   "execution_count": 63,
   "metadata": {
    "ExecuteTime": {
     "end_time": "2020-04-25T22:25:11.734213Z",
     "start_time": "2020-04-25T22:25:11.722001Z"
    }
   },
   "outputs": [],
   "source": [
    "def prep_for_psql(d):\n",
    "    vals = []\n",
    "    for c in ['api_uri', 'at_large', 'chamber', 'congress', 'contact_form', 'cook_pvi', \n",
    "              'crp_id', 'cspan_id', 'date_of_birth', 'district', 'dw_nominate', 'facebook_account', \n",
    "              'fax', 'fec_candidate_id', 'first_name', 'gender', 'geoid', 'google_entity_id', \n",
    "              'govtrack_id', 'icpsr_id', 'id', 'ideal_point', 'in_office', 'last_name', 'last_updated', \n",
    "              'leadership_role', 'lis_id', 'middle_name', 'missed_votes', 'missed_votes_pct', \n",
    "              'next_election', 'ocd_id', 'office', 'party', 'phone', 'rss_url', 'senate_class', \n",
    "              'seniority', 'short_title', 'state', 'state_rank', 'suffix', 'title', 'total_present', \n",
    "              'total_votes', 'twitter_account', 'url', 'votes_against_party_pct', 'votes_with_party_pct', \n",
    "              'votesmart_id', 'youtube_account']:\n",
    "        if c == 'date_of_birth' and d[c] == '':\n",
    "            d[c] = '1900-01-01'\n",
    "        vals.append(d[c])\n",
    "    return vals\n",
    "\n",
    "\n",
    "def df_to_psql(df):\n",
    "    for row in df.to_dict(orient=\"records\"):\n",
    "        q = \\\n",
    "        \"\"\"\n",
    "        INSERT INTO members \n",
    "            (api_uri, at_large, chamber, congress, contact_form, cook_pvi, crp_id,\n",
    "             cspan_id, date_of_birth, district, dw_nominate, facebook_account,\n",
    "             fax, fec_candidate_id, first_name, gender, geoid, google_entity_id,\n",
    "             govtrack_id, icpsr_id, id, ideal_point, in_office, last_name, last_updated, \n",
    "             leadership_role, lis_id, middle_name, missed_votes, missed_votes_pct,\n",
    "             next_election, ocd_id, office, party, phone, rss_url, senate_class,\n",
    "             seniority, short_title, state, state_rank, suffix, title, total_present,\n",
    "             total_votes, twitter_account, url, votes_against_party_pct, votes_with_party_pct,\n",
    "             votesmart_id, youtube_account)\n",
    "        VALUES\n",
    "            (%s,%s,%s,%s,%s,%s,%s,%s,%s,%s,%s,%s,%s,%s,%s,%s,%s,%s,%s,%s,%s,%s,%s,%s,%s,\n",
    "             %s,%s,%s,%s,%s,%s,%s,%s,%s,%s,%s,%s,%s,%s,%s,%s,%s,%s,%s,%s,%s,%s,%s,%s,%s,%s)\n",
    "        ON CONFLICT ON CONSTRAINT members_pkey DO NOTHING\n",
    "        \"\"\"\n",
    "        conn = psycopg2.connect(\n",
    "            user=os.environ.get('PSQL_USER', 'benellis'), \n",
    "            password=os.environ.get('PSQL_PASSWORD', 'daisythedog'), \n",
    "            database='congress', \n",
    "            host=os.environ.get('PSQL_HOST', 'localhost'), \n",
    "            port=os.environ.get('PSQL_PORT', '5432')\n",
    "        )\n",
    "        cursor = conn.cursor()\n",
    "        command = cursor.mogrify(q, (prep_for_psql(row)))\n",
    "        cursor.execute(command)\n",
    "        conn.commit()\n",
    "        conn.close()"
   ]
  },
  {
   "cell_type": "code",
   "execution_count": 64,
   "metadata": {
    "ExecuteTime": {
     "end_time": "2020-04-25T22:26:34.304835Z",
     "start_time": "2020-04-25T22:25:12.191074Z"
    }
   },
   "outputs": [],
   "source": [
    "df_to_psql(mems)"
   ]
  },
  {
   "cell_type": "code",
   "execution_count": 51,
   "metadata": {
    "ExecuteTime": {
     "end_time": "2020-04-25T22:19:24.770626Z",
     "start_time": "2020-04-25T22:19:24.767445Z"
    }
   },
   "outputs": [],
   "source": []
  },
  {
   "cell_type": "code",
   "execution_count": null,
   "metadata": {},
   "outputs": [],
   "source": []
  }
 ],
 "metadata": {
  "kernelspec": {
   "display_name": "Python 3",
   "language": "python",
   "name": "python3"
  },
  "language_info": {
   "codemirror_mode": {
    "name": "ipython",
    "version": 3
   },
   "file_extension": ".py",
   "mimetype": "text/x-python",
   "name": "python",
   "nbconvert_exporter": "python",
   "pygments_lexer": "ipython3",
   "version": "3.6.9"
  },
  "toc": {
   "colors": {
    "hover_highlight": "#DAA520",
    "navigate_num": "#000000",
    "navigate_text": "#333333",
    "running_highlight": "#FF0000",
    "selected_highlight": "#FFD700",
    "sidebar_border": "#EEEEEE",
    "wrapper_background": "#FFFFFF"
   },
   "moveMenuLeft": true,
   "nav_menu": {
    "height": "11.9922px",
    "width": "251.992px"
   },
   "navigate_menu": true,
   "number_sections": true,
   "sideBar": true,
   "threshold": 4,
   "toc_cell": false,
   "toc_section_display": "block",
   "toc_window_display": false,
   "widenNotebook": false
  }
 },
 "nbformat": 4,
 "nbformat_minor": 2
}
