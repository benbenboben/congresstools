{
 "cells": [
  {
   "cell_type": "code",
   "execution_count": 1,
   "metadata": {
    "ExecuteTime": {
     "end_time": "2020-05-19T04:45:19.151013Z",
     "start_time": "2020-05-19T04:45:18.345430Z"
    }
   },
   "outputs": [],
   "source": [
    "import psycopg2\n",
    "import pandas as pd\n",
    "import os"
   ]
  },
  {
   "cell_type": "code",
   "execution_count": 2,
   "metadata": {
    "ExecuteTime": {
     "end_time": "2020-05-19T04:46:20.603521Z",
     "start_time": "2020-05-19T04:45:19.153189Z"
    }
   },
   "outputs": [],
   "source": [
    "query = \"\"\"\n",
    "with atable as (\n",
    "    select \n",
    "        split_part(sponsor::json->>'name', ',', 1) as last_name,\n",
    "        sponsor::json->>'state' as state,\n",
    "        congress,\n",
    "        bill_id, \n",
    "        bill_type, \n",
    "        official_title,\n",
    "        summary::json->>'text' as summary,\n",
    "        bill_body\n",
    "    from \n",
    "        bills\n",
    ")\n",
    "select \n",
    "    atable.*, \n",
    "    b.party\n",
    "from \n",
    "    atable\n",
    "join \n",
    "    members b \n",
    "on \n",
    "    cast(atable.congress as integer) = cast(b.congress as integer) and \n",
    "    atable.state = b.state and \n",
    "    atable.last_name = b.last_name\n",
    "where \n",
    "    atable.bill_body != 'NO BODY';\n",
    "\"\"\"\n",
    "conn = psycopg2.connect(\n",
    "    user=os.environ.get('PSQL_USER'),\n",
    "    password=os.environ.get('PSQL_PASSWORD'),\n",
    "    database='congress',\n",
    "    host=os.environ.get('PSQL_HOST'),\n",
    "    port=os.environ.get('PSQL_PORT')\n",
    ")\n",
    "cursor = conn.cursor()\n",
    "cursor.execute(query)\n",
    "vals = cursor.fetchall()\n",
    "cursor.close()\n",
    "conn.close()\n",
    "df = pd.DataFrame(vals, columns=[\n",
    "    'sponsor_last_name', 'sponsor_state', 'congress', 'bill_id', \n",
    "    'bill_type', 'official_title', 'summary', 'bill_body', 'party']\n",
    ")"
   ]
  },
  {
   "cell_type": "code",
   "execution_count": 3,
   "metadata": {
    "ExecuteTime": {
     "end_time": "2020-05-19T04:46:22.235267Z",
     "start_time": "2020-05-19T04:46:20.609033Z"
    }
   },
   "outputs": [],
   "source": [
    "import nltk"
   ]
  },
  {
   "cell_type": "code",
   "execution_count": 4,
   "metadata": {
    "ExecuteTime": {
     "end_time": "2020-05-19T04:46:22.247626Z",
     "start_time": "2020-05-19T04:46:22.237618Z"
    }
   },
   "outputs": [],
   "source": [
    "bodies = df['bill_body'].values"
   ]
  },
  {
   "cell_type": "raw",
   "metadata": {
    "ExecuteTime": {
     "end_time": "2020-05-19T04:49:02.732554Z",
     "start_time": "2020-05-19T04:49:02.673145Z"
    }
   },
   "source": [
    "df[df['summary'].isna()]"
   ]
  },
  {
   "cell_type": "code",
   "execution_count": 6,
   "metadata": {
    "ExecuteTime": {
     "end_time": "2020-05-19T04:49:15.707843Z",
     "start_time": "2020-05-19T04:49:15.704034Z"
    }
   },
   "outputs": [],
   "source": [
    "from nltk.corpus import stopwords \n",
    "from nltk.tokenize import word_tokenize \n",
    "from nltk.stem import WordNetLemmatizer \n",
    "\n",
    "lemmatizer = WordNetLemmatizer()\n",
    "\n",
    "import string\n",
    "import re"
   ]
  },
  {
   "cell_type": "code",
   "execution_count": 7,
   "metadata": {
    "ExecuteTime": {
     "end_time": "2020-05-19T04:49:18.156373Z",
     "start_time": "2020-05-19T04:49:18.147004Z"
    }
   },
   "outputs": [],
   "source": [
    "stop_words = set(stopwords.words('english')) \n",
    "\n",
    "def preprocess_text(x, return_list=True):\n",
    "    x = x.replace('.', ' ')\n",
    "    x = x.replace(',', '')\n",
    "    x = x.replace('-', ' ')\n",
    "    x = re.sub('[0-9]+', '', x)\n",
    "    x = word_tokenize(x.lower())\n",
    "    x = [lemmatizer.lemmatize(w) for w in x if w not in stop_words]\n",
    "    if return_list:\n",
    "        return x\n",
    "    else:\n",
    "        return ' '.join(x)"
   ]
  },
  {
   "cell_type": "code",
   "execution_count": 9,
   "metadata": {
    "ExecuteTime": {
     "end_time": "2020-05-19T04:51:19.440100Z",
     "start_time": "2020-05-19T04:51:19.436270Z"
    }
   },
   "outputs": [],
   "source": [
    "import multiprocessing as mp\n",
    "import functools\n",
    "preprocess_to_str = functools.partial(preprocess_text, return_list=False)"
   ]
  },
  {
   "cell_type": "code",
   "execution_count": 10,
   "metadata": {
    "ExecuteTime": {
     "end_time": "2020-05-19T05:18:28.201504Z",
     "start_time": "2020-05-19T04:51:46.409837Z"
    }
   },
   "outputs": [],
   "source": [
    "with mp.Pool() as pool:\n",
    "    titles_preproc = pool.map(preprocess_to_str, bodies)"
   ]
  },
  {
   "cell_type": "code",
   "execution_count": 12,
   "metadata": {
    "ExecuteTime": {
     "end_time": "2020-05-19T05:19:09.732694Z",
     "start_time": "2020-05-19T05:19:09.727161Z"
    }
   },
   "outputs": [],
   "source": [
    "from sklearn.feature_extraction.text import CountVectorizer"
   ]
  },
  {
   "cell_type": "code",
   "execution_count": 14,
   "metadata": {
    "ExecuteTime": {
     "end_time": "2020-05-19T05:19:37.232506Z",
     "start_time": "2020-05-19T05:19:35.644387Z"
    }
   },
   "outputs": [
    {
     "data": {
      "text/plain": [
       "\"calendar st congress st session [ report ] bill establish joint federal state commission policy program affecting alaska native september ( legislative day september ) reported amendment r calendar st congress st session [ report ] establish joint federal state commission policy program affecting alaska native senate united state july ( legislative day january ) mr murkowski ( mr stevens mr inouye mr mccain ) introduced following bill ; read twice referred select committee indian affair september ( legislative day september ) reported mr inouye amendment [ strike enacting clause insert part printed italic ] bill establish joint federal state commission policy program affecting alaska native enacted senate house representative united state america congress assembled [ struck > ] finding purpose [ ] section ( ) congress conducted preliminary review social economic circumstance alaska native governmental policy program affecting alaska native find [ ] ( ) period rapid cultural change among alaska native growing social economic crisis characterized among thing alcohol abuse violence grave health problem low level educational achievement joblessness lack employment opportunity growing dependency upon transfer payment ; [ ] ( ) condition exist even though public policy program adopted recent decade intended assist alaska native protecting traditional culture subsistence economy encouraging economic self sufficiency individual group village self determination ; [ ] ( ) alaska native state alaska expressed need review public policy program desire make policy program effective accomplishing intention [ ] ( b ) congress hereby declares timely essential conduct cooperation state alaska participation alaska native comprehensive review federal state policy program affecting alaska native order identify specific action may taken congress state alaska help assure public policy goal fully realized among alaska native [ ] definition [ ] sec purpose act [ ] ( ) term ` alaska native ' meaning given term ` native ' section ( b ) alaska native claim settlement act ( u c ( b ) ) [ ] ( ) term ` commission ' mean joint federal state commission policy program affecting alaska native [ ] establishment commission [ ] sec ( ) hereby established commission known ` joint federal state commission policy program affecting alaska native ' [ ] ( b ) ( ) commission shall consist following member : [ ] ( ) seven individual appointed president least three shall alaska native two may officer employee federal government [ ] ( b ) seven individual appointed governor state alaska [ ] ( c ) president senate state alaska designated representative president [ ] ( ) speaker house representative state alaska designated representative speaker [ ] ( e ) chairman select committee indian affair senate designated representative chairman [ ] ( f ) ranking minority member select committee indian affair senate designated representative member [ ] ( g ) chairman committee energy natural resource senate designated representative chairman [ ] ( h ) ranking minority member committee energy natural resource senate designated representative member [ ] ( ) chairman committee interior insular affair house representative designated representative chairman [ ] ( j ) ranking minority member committee interior insular affair house representative designated representative member [ ] ( k ) member congress represents people state alaska designated representative member [ ] ( ) commission shall hold first meeting later date day date member commission appointed appointed [ ] ( ) member commission appointed commission subparagraph ( ) ( b ) paragraph ( ) shall entitled one vote shall equal vote every member commission appointed commission subparagraph ( ) ( b ) paragraph ( ) member commission described subparagraph paragraph ( ) subparagraph ( ) ( b ) shall ex officio nonvoting member commission [ ] ( ) individual voting member commission may removed commission person appointed individual neglect duty malfeasance office [ ] ( ) vacancy commission shall affect power shall filled manner original appointment made [ ] ( ) time appointment made paragraph ( ) president shall designate individual appointed paragraph ( ) ( ) co chairman commission governor state alaska shall designate individual appointed paragraph ( ) ( b ) co chairman commission [ ] ( ) seven voting member commission shall constitute quorum transaction business [ ] ( ) commission may adopt rule ( consistent provision act ) may necessary establish procedure govern manner operation organization ( including task force ) personnel [ ] ( c ) ( ) member commission otherwise employed united state government state alaska shall receive compensation rate equal daily rate g general schedule section title united state code day including traveltime member engaged actual performance duty member commission [ ] ( ) except provided paragraph ( ) member commission otherwise officer employee united state government state alaska shall serve commission without additional compensation [ ] ( ) member commission shall reimbursed travel per diem lieu subsistence expense performance duty commission away home regular place business accordance subchapter chapter title united state code [ ] ( ) notwithstanding provision act individual appointed commission governor state alaska subsection ( b ) ( ) ( b ) shall participate proceeding commission vote business commission receive compensation expense reimbursement act state alaska federal government concluded equitable agreement share expense incurred commission event agreement reached within reasonable period time member commission described subparagraph subsection ( b ) ( ) subparagraph ( b ) shall proceed work commission without participation individual appointed subsection ( b ) ( ) ( b ) quorum required transaction business commission shall member commission appointed subsection ( b ) ( ) ( ) [ ] duty [ ] sec commission shall [ ] ( ) conduct comprehensive study [ ] ( ) social economic status alaska native [ ] ( b ) effectiveness policy program federal government state alaska affect alaska native [ ] ( ) conduct public hearing subject study [ ] ( ) recommend specific action congress state alaska [ ] ( ) help assure alaska native life opportunity comparable american respecting unique tradition culture special status alaska native [ ] ( b ) address among thing need alaska native self determination economic self sufficiency improved level educational achievement improved health status reduced incidence social problem [ ] ( ) make every effort developing recommendation respect important cultural difference characterize alaska native group [ ] ( ) submit later date month date first meeting commission report study together recommendation developed paragraph ( ) president congress governor state alaska legislature state alaska [ ] power [ ] sec ( ) ( ) subject rule regulation may adopted commission co chairman commission shall power [ ] ( ) appoint terminate fix compensation ( without regard provision title united state code governing appointment competitive service without regard provision chapter subchapter iii chapter title provision law relating number classification general schedule rate ) executive director commission personnel co chairman deem advisable assist performance duty commission rate exceed rate equal maximum rate g general schedule section title ; [ ] ( b ) procure authorized section title united state code temporary intermittent service extent authorized law agency executive branch rate exceed daily equivalent maximum annual rate basic pay effect grade g general schedule [ ] ( ) service individual member commission employment individual commission attorney expert business professional field part time full time basis without compensation shall considered service employment bringing individual within provision federal law relating conflict interest otherwise imposing restriction requirement penalty relation employment person performance service payment receipt compensation connection claim proceeding matter involving united state service member commission employee commission shall considered service appointive elective position government purpose section title united state code comparable provision federal law [ ] ( b ) commission authorized [ ] ( ) hold hearing sit act time [ ] ( ) take testimony [ ] ( ) printing binding done [ ] ( ) enter contract arrangement [ ] ( ) make expenditure [ ] ( ) take action [ ] commission may deem advisable member commission may administer oath affirmation witness appearing commission [ ] ( c ) commission authorized accept gift property service fund expend fund derived source federal government including state alaska private nonprofit organization corporation foundation determined appropriate necessary carry provision act [ ] ( ) provision federal advisory committee act shall apply commission established section [ ] ( e ) ( ) commission authorized secure directly officer department agency establishment instrumentality federal government information commission may require purpose section officer department agency establishment instrumentality authorized directed furnish extent permitted law information suggestion estimate statistic directly commission upon request made co chairman commission [ ] ( ) upon request co chairman commission head federal department agency instrumentality shall make facility service department agency instrumentality available commission detail personnel department agency instrumentality commission nonreimbursable basis assist commission carrying duty section [ ] ( ) commission may use united state mail manner condition department agency united state [ ] termination [ ] sec commission shall cease exist date day date commission submits report required section ( ) record document material commission shall transferred national archive record administration date commission cease exist [ ] authorization appropriation [ ] sec ( ) authorized appropriated commission sum necessary carry provision act sum shall remain available without fiscal year limitation expended [ ] ( b ) fund appropriated authority subsection ( ) salary expense incurred commission shall paid contingent fund senate upon voucher approved co chairman commission total amount fund paid contingent fund shall reimbursed contingent fund fund appropriated authority subsection ( ) [\""
      ]
     },
     "execution_count": 14,
     "metadata": {},
     "output_type": "execute_result"
    }
   ],
   "source": [
    "titles_preproc[0]"
   ]
  },
  {
   "cell_type": "code",
   "execution_count": 15,
   "metadata": {
    "ExecuteTime": {
     "end_time": "2020-05-19T05:21:15.054420Z",
     "start_time": "2020-05-19T05:21:15.044782Z"
    }
   },
   "outputs": [],
   "source": [
    "countvec = CountVectorizer(analyzer='word', min_df=5, max_df=0.8)"
   ]
  },
  {
   "cell_type": "code",
   "execution_count": 16,
   "metadata": {
    "ExecuteTime": {
     "end_time": "2020-05-19T05:23:29.125920Z",
     "start_time": "2020-05-19T05:21:16.773502Z"
    }
   },
   "outputs": [],
   "source": [
    "Xcv = countvec.fit_transform(titles_preproc)"
   ]
  },
  {
   "cell_type": "code",
   "execution_count": 17,
   "metadata": {
    "ExecuteTime": {
     "end_time": "2020-05-19T05:23:33.813569Z",
     "start_time": "2020-05-19T05:23:33.715494Z"
    }
   },
   "outputs": [],
   "source": [
    "from sklearn.decomposition import LatentDirichletAllocation as LDA"
   ]
  },
  {
   "cell_type": "code",
   "execution_count": 18,
   "metadata": {
    "ExecuteTime": {
     "end_time": "2020-05-19T06:13:28.619372Z",
     "start_time": "2020-05-19T05:23:37.982268Z"
    }
   },
   "outputs": [
    {
     "data": {
      "text/plain": [
       "LatentDirichletAllocation(n_components=50, n_jobs=-1)"
      ]
     },
     "execution_count": 18,
     "metadata": {},
     "output_type": "execute_result"
    }
   ],
   "source": [
    "def print_topics(model, count_vectorizer, n_top_words):\n",
    "    words = count_vectorizer.get_feature_names()\n",
    "    for topic_idx, topic in enumerate(model.components_):\n",
    "        print(\"\\nTopic #%d:\" % topic_idx)\n",
    "        print(\" \".join([words[i]\n",
    "                        for i in topic.argsort()[:-n_top_words - 1:-1]]))\n",
    "        \n",
    "# Tweak the two parameters below\n",
    "number_topics = 50\n",
    "number_words = 10\n",
    "# Create and fit the LDA model\n",
    "lda = LDA(n_components=number_topics, n_jobs=-1)\n",
    "lda.fit(Xcv)"
   ]
  },
  {
   "cell_type": "code",
   "execution_count": 19,
   "metadata": {
    "ExecuteTime": {
     "end_time": "2020-05-19T06:19:53.584577Z",
     "start_time": "2020-05-19T06:19:53.268779Z"
    },
    "scrolled": false
   },
   "outputs": [
    {
     "name": "stdout",
     "output_type": "stream",
     "text": [
      "\n",
      "Topic #0:\n",
      "whereas american national re resolution people day world therefore service\n",
      "\n",
      "Topic #1:\n",
      "energy shall fuel secretary year gas vehicle electric emission subsection\n",
      "\n",
      "Topic #2:\n",
      "resolution whereas nation shall amendment re president people republic rule\n",
      "\n",
      "Topic #3:\n",
      "grant crime enforcement general program law shall attorney justice sec\n",
      "\n",
      "Topic #4:\n",
      "title benefit service individual shall security social employee date subsection\n",
      "\n",
      "Topic #5:\n",
      "veteran secretary affair department shall service member title force armed\n",
      "\n",
      "Topic #6:\n",
      "woman human child right including assistance hiv people country international\n",
      "\n",
      "Topic #7:\n",
      "shall water administrator environmental program federal plan agency including subsection\n",
      "\n",
      "Topic #8:\n",
      "shall care health drug secretary plan part term benefit coverage\n",
      "\n",
      "Topic #9:\n",
      "defense secretary sec title subsection shall military year force department\n",
      "\n",
      "Topic #10:\n",
      "security shall secretary intelligence national homeland information sec system report\n",
      "\n",
      "Topic #11:\n",
      "defense sec force military secretary program department subsection shall year\n",
      "\n",
      "Topic #12:\n",
      "secretary area project shall management federal resource land national water\n",
      "\n",
      "Topic #13:\n",
      "individual amount year shall account income child subsection paragraph ii\n",
      "\n",
      "Topic #14:\n",
      "service secretary care shall program payment paragraph social ii subsection\n",
      "\n",
      "Topic #15:\n",
      "facility nuclear waste shall material energy may commission term solid\n",
      "\n",
      "Topic #16:\n",
      "country trade foreign international agreement export president shall subsection sec\n",
      "\n",
      "Topic #17:\n",
      "person title shall law offense sec code violation term subsection\n",
      "\n",
      "Topic #18:\n",
      "amend ih title domestic st violence cited short amended sexual\n",
      "\n",
      "Topic #19:\n",
      "secretary shall indian tribe land water agreement right federal law\n",
      "\n",
      "Topic #20:\n",
      "native permanent status hawaiian shall visa immigrant immigration alien nationality\n",
      "\n",
      "Topic #21:\n",
      "alien shall secretary immigration employer employee employment may subsection general\n",
      "\n",
      "Topic #22:\n",
      "inserting striking amended paragraph subsection subparagraph plan ii year shall\n",
      "\n",
      "Topic #23:\n",
      "business small indian program shall tribal administrator organization grant contract\n",
      "\n",
      "Topic #24:\n",
      "secretary shall vessel oil disaster sec coin fishery lease gas\n",
      "\n",
      "Topic #25:\n",
      "product drug secretary shall food tobacco subsection use may manufacturer\n",
      "\n",
      "Topic #26:\n",
      "service communication commission internet shall provider station television telecommunication network\n",
      "\n",
      "Topic #27:\n",
      "district service corporation columbia national organization sec island may community\n",
      "\n",
      "Topic #28:\n",
      "year fiscal budget shall resolution new authority joint report outlay\n",
      "\n",
      "Topic #29:\n",
      "health plan coverage care shall insurance individual service group provider\n",
      "\n",
      "Topic #30:\n",
      "land national shall wilderness forest map area secretary approximately acre\n",
      "\n",
      "Topic #31:\n",
      "shall agency commission federal member information may director report general\n",
      "\n",
      "Topic #32:\n",
      "fund available provided shall assistance made appropriation amount note program\n",
      "\n",
      "Topic #33:\n",
      "shall court action title may order subsection person sec claim\n",
      "\n",
      "Topic #34:\n",
      "change duty date heading subheading inserting free amended provided sec\n",
      "\n",
      "Topic #35:\n",
      "health service care secretary disease shall public center program medical\n",
      "\n",
      "Topic #36:\n",
      "shall candidate person election subsection paragraph federal administrator political substance\n",
      "\n",
      "Topic #37:\n",
      "shall fund provided expense available service authorized may law necessary\n",
      "\n",
      "Topic #38:\n",
      "secretary housing shall program assistance sec project agricultural subsection may\n",
      "\n",
      "Topic #39:\n",
      "research space shall substance national program administration mental service grant\n",
      "\n",
      "Topic #40:\n",
      "program shall service individual training grant secretary local activity area\n",
      "\n",
      "Topic #41:\n",
      "research technology program development shall national science secretary sec activity\n",
      "\n",
      "Topic #42:\n",
      "tax shall year taxable credit subsection qualified code property amount\n",
      "\n",
      "Topic #43:\n",
      "election shall vote voter voting medal individual registration sec ballot\n",
      "\n",
      "Topic #44:\n",
      "deleted shall ii paragraph subsection sec including inserting general striking\n",
      "\n",
      "Topic #45:\n",
      "school child agency educational program education local shall student grant\n",
      "\n",
      "Topic #46:\n",
      "education student institution loan program higher secretary shall year eligible\n",
      "\n",
      "Topic #47:\n",
      "shall insurance loan corporation consumer credit may mortgage federal board\n",
      "\n",
      "Topic #48:\n",
      "financial company bank institution security federal shall transaction investment person\n",
      "\n",
      "Topic #49:\n",
      "transportation secretary project shall title safety vehicle highway subsection year\n"
     ]
    }
   ],
   "source": [
    "print_topics(lda, countvec, 10)"
   ]
  },
  {
   "cell_type": "code",
   "execution_count": 20,
   "metadata": {
    "ExecuteTime": {
     "end_time": "2020-05-19T06:23:48.645943Z",
     "start_time": "2020-05-19T06:20:12.700739Z"
    }
   },
   "outputs": [],
   "source": [
    "X_post_lda = lda.transform(Xcv)"
   ]
  },
  {
   "cell_type": "code",
   "execution_count": 21,
   "metadata": {
    "ExecuteTime": {
     "end_time": "2020-05-19T06:23:48.659632Z",
     "start_time": "2020-05-19T06:23:48.651125Z"
    }
   },
   "outputs": [],
   "source": [
    "import numpy as np"
   ]
  },
  {
   "cell_type": "code",
   "execution_count": 22,
   "metadata": {
    "ExecuteTime": {
     "end_time": "2020-05-19T06:27:26.980157Z",
     "start_time": "2020-05-19T06:27:26.931447Z"
    }
   },
   "outputs": [],
   "source": [
    "df['body_topic'] = np.argmax(X_post_lda, axis=1)"
   ]
  },
  {
   "cell_type": "code",
   "execution_count": 23,
   "metadata": {
    "ExecuteTime": {
     "end_time": "2020-05-19T06:27:28.307046Z",
     "start_time": "2020-05-19T06:27:27.926659Z"
    }
   },
   "outputs": [
    {
     "name": "stdout",
     "output_type": "stream",
     "text": [
      "Populating the interactive namespace from numpy and matplotlib\n"
     ]
    }
   ],
   "source": [
    "import seaborn as sns\n",
    "%pylab inline"
   ]
  },
  {
   "cell_type": "code",
   "execution_count": 24,
   "metadata": {
    "ExecuteTime": {
     "end_time": "2020-05-19T06:27:28.369053Z",
     "start_time": "2020-05-19T06:27:28.362571Z"
    }
   },
   "outputs": [],
   "source": [
    "df['ones'] = 1"
   ]
  },
  {
   "cell_type": "code",
   "execution_count": 26,
   "metadata": {
    "ExecuteTime": {
     "end_time": "2020-05-19T06:27:45.643758Z",
     "start_time": "2020-05-19T06:27:45.519372Z"
    }
   },
   "outputs": [],
   "source": [
    "party_and_topic_count = pd.DataFrame(df.groupby('party')['body_topic'].value_counts()).rename(columns={'body_topic': 'num_bills'}).reset_index()"
   ]
  },
  {
   "cell_type": "code",
   "execution_count": 27,
   "metadata": {
    "ExecuteTime": {
     "end_time": "2020-05-19T06:27:53.319358Z",
     "start_time": "2020-05-19T06:27:49.464266Z"
    }
   },
   "outputs": [
    {
     "data": {
      "text/plain": [
       "<matplotlib.axes._subplots.AxesSubplot at 0x13801cc18>"
      ]
     },
     "execution_count": 27,
     "metadata": {},
     "output_type": "execute_result"
    },
    {
     "data": {
      "image/png": "[encoded data removed]",
      "text/plain": [
       "<Figure size 1440x360 with 1 Axes>"
      ]
     },
     "metadata": {
      "needs_background": "light"
     },
     "output_type": "display_data"
    }
   ],
   "source": [
    "fig, ax = plt.subplots(figsize=(20, 5))\n",
    "sns.countplot(hue='party', x='body_topic', data=df)"
   ]
  },
  {
   "cell_type": "code",
   "execution_count": 29,
   "metadata": {
    "ExecuteTime": {
     "end_time": "2020-05-19T06:28:18.503188Z",
     "start_time": "2020-05-19T06:28:16.814354Z"
    }
   },
   "outputs": [
    {
     "data": {
      "text/html": [
       "<div>\n",
       "<style scoped>\n",
       "    .dataframe tbody tr th:only-of-type {\n",
       "        vertical-align: middle;\n",
       "    }\n",
       "\n",
       "    .dataframe tbody tr th {\n",
       "        vertical-align: top;\n",
       "    }\n",
       "\n",
       "    .dataframe thead th {\n",
       "        text-align: right;\n",
       "    }\n",
       "</style>\n",
       "<table border=\"1\" class=\"dataframe\">\n",
       "  <thead>\n",
       "    <tr style=\"text-align: right;\">\n",
       "      <th></th>\n",
       "      <th>official_title</th>\n",
       "      <th>party</th>\n",
       "      <th>body_topic</th>\n",
       "    </tr>\n",
       "  </thead>\n",
       "  <tbody>\n",
       "    <tr>\n",
       "      <th>7</th>\n",
       "      <td>A joint resolution to designate March 23, 1990 as \"National Energy Education Day\".</td>\n",
       "      <td>R</td>\n",
       "      <td>0</td>\n",
       "    </tr>\n",
       "    <tr>\n",
       "      <th>107269</th>\n",
       "      <td>A resolution recognizing National Native American Heritage Month and celebrating the heritages and cultures of Native Americans and the contributions of Native Americans to the United States.</td>\n",
       "      <td>R</td>\n",
       "      <td>0</td>\n",
       "    </tr>\n",
       "    <tr>\n",
       "      <th>107277</th>\n",
       "      <td>A resolution celebrating the 125th anniversary of the State of Wyoming.</td>\n",
       "      <td>R</td>\n",
       "      <td>0</td>\n",
       "    </tr>\n",
       "    <tr>\n",
       "      <th>107282</th>\n",
       "      <td>A resolution designating November 7, 2015, as National Bison Day.</td>\n",
       "      <td>R</td>\n",
       "      <td>0</td>\n",
       "    </tr>\n",
       "    <tr>\n",
       "      <th>107284</th>\n",
       "      <td>A resolution recognizing the Boy Scouts of America on the 100th anniversary of the organization being granted a Federal charter and for the long history of heritage and service of the Boy Scouts o...</td>\n",
       "      <td>R</td>\n",
       "      <td>0</td>\n",
       "    </tr>\n",
       "    <tr>\n",
       "      <th>...</th>\n",
       "      <td>...</td>\n",
       "      <td>...</td>\n",
       "      <td>...</td>\n",
       "    </tr>\n",
       "    <tr>\n",
       "      <th>59189</th>\n",
       "      <td>A resolution expressing the sense of the Senate that a postage stamp should be issued in commemoration of Diwali, a festival celebrated by people of Indian origin.</td>\n",
       "      <td>D</td>\n",
       "      <td>0</td>\n",
       "    </tr>\n",
       "    <tr>\n",
       "      <th>59190</th>\n",
       "      <td>A resolution calling on the President to condemn the anti-Semitic sentiments expressed by Dr. Mahathir Mohamad, the outgoing prime minister of Malaysia.</td>\n",
       "      <td>D</td>\n",
       "      <td>0</td>\n",
       "    </tr>\n",
       "    <tr>\n",
       "      <th>59194</th>\n",
       "      <td>Electing a named Member to standing committees of the House of Representatives.</td>\n",
       "      <td>D</td>\n",
       "      <td>0</td>\n",
       "    </tr>\n",
       "    <tr>\n",
       "      <th>59436</th>\n",
       "      <td>A resolution expressing support for the emergency first responders and communities which are the front lines of the Nation's homeland defense.</td>\n",
       "      <td>D</td>\n",
       "      <td>0</td>\n",
       "    </tr>\n",
       "    <tr>\n",
       "      <th>166941</th>\n",
       "      <td>A resolution designating July 22, 2017, as \"National Day of the American Cowboy\".</td>\n",
       "      <td>R</td>\n",
       "      <td>0</td>\n",
       "    </tr>\n",
       "  </tbody>\n",
       "</table>\n",
       "<p>13415 rows × 3 columns</p>\n",
       "</div>"
      ],
      "text/plain": [
       "                                                                                                                                                                                                 official_title  \\\n",
       "7                                                                                                                            A joint resolution to designate March 23, 1990 as \"National Energy Education Day\".   \n",
       "107269          A resolution recognizing National Native American Heritage Month and celebrating the heritages and cultures of Native Americans and the contributions of Native Americans to the United States.   \n",
       "107277                                                                                                                                  A resolution celebrating the 125th anniversary of the State of Wyoming.   \n",
       "107282                                                                                                                                        A resolution designating November 7, 2015, as National Bison Day.   \n",
       "107284  A resolution recognizing the Boy Scouts of America on the 100th anniversary of the organization being granted a Federal charter and for the long history of heritage and service of the Boy Scouts o...   \n",
       "...                                                                                                                                                                                                         ...   \n",
       "59189                                       A resolution expressing the sense of the Senate that a postage stamp should be issued in commemoration of Diwali, a festival celebrated by people of Indian origin.   \n",
       "59190                                                  A resolution calling on the President to condemn the anti-Semitic sentiments expressed by Dr. Mahathir Mohamad, the outgoing prime minister of Malaysia.   \n",
       "59194                                                                                                                           Electing a named Member to standing committees of the House of Representatives.   \n",
       "59436                                                            A resolution expressing support for the emergency first responders and communities which are the front lines of the Nation's homeland defense.   \n",
       "166941                                                                                                                        A resolution designating July 22, 2017, as \"National Day of the American Cowboy\".   \n",
       "\n",
       "       party  body_topic  \n",
       "7          R           0  \n",
       "107269     R           0  \n",
       "107277     R           0  \n",
       "107282     R           0  \n",
       "107284     R           0  \n",
       "...      ...         ...  \n",
       "59189      D           0  \n",
       "59190      D           0  \n",
       "59194      D           0  \n",
       "59436      D           0  \n",
       "166941     R           0  \n",
       "\n",
       "[13415 rows x 3 columns]"
      ]
     },
     "execution_count": 29,
     "metadata": {},
     "output_type": "execute_result"
    }
   ],
   "source": [
    "pd.set_option('display.max_colwidth', 200)\n",
    "df[df['body_topic'].isin([0])][['official_title', 'party', 'body_topic']].sort_values('body_topic')"
   ]
  },
  {
   "cell_type": "code",
   "execution_count": 30,
   "metadata": {
    "ExecuteTime": {
     "end_time": "2020-05-19T06:28:32.362779Z",
     "start_time": "2020-05-19T06:28:32.356410Z"
    }
   },
   "outputs": [],
   "source": [
    "from sklearn.naive_bayes import MultinomialNB\n",
    "from sklearn.preprocessing import LabelEncoder"
   ]
  },
  {
   "cell_type": "code",
   "execution_count": 31,
   "metadata": {
    "ExecuteTime": {
     "end_time": "2020-05-19T06:28:32.799886Z",
     "start_time": "2020-05-19T06:28:32.796230Z"
    }
   },
   "outputs": [],
   "source": [
    "le = LabelEncoder()"
   ]
  },
  {
   "cell_type": "code",
   "execution_count": 32,
   "metadata": {
    "ExecuteTime": {
     "end_time": "2020-05-19T06:28:33.343382Z",
     "start_time": "2020-05-19T06:28:33.309059Z"
    }
   },
   "outputs": [
    {
     "data": {
      "text/plain": [
       "array([3, 3, 3, 3, 3, 3, 3, 3, 3, 3, 3, 3, 3, 3, 3, 3, 3, 3, 3, 3, 0, 0,\n",
       "       0, 0, 0, 0, 0, 0, 0, 0, 0, 0, 0, 0, 0, 0, 0, 0, 0, 0, 0, 0, 0, 0,\n",
       "       0, 0, 0, 0, 0, 0])"
      ]
     },
     "execution_count": 32,
     "metadata": {},
     "output_type": "execute_result"
    }
   ],
   "source": [
    "le.fit_transform(df['party'])[:50]"
   ]
  },
  {
   "cell_type": "code",
   "execution_count": 33,
   "metadata": {
    "ExecuteTime": {
     "end_time": "2020-05-19T06:28:34.894235Z",
     "start_time": "2020-05-19T06:28:34.889617Z"
    }
   },
   "outputs": [],
   "source": [
    "nb = MultinomialNB()"
   ]
  },
  {
   "cell_type": "code",
   "execution_count": 52,
   "metadata": {
    "ExecuteTime": {
     "end_time": "2020-05-19T06:56:00.555909Z",
     "start_time": "2020-05-19T06:56:00.510777Z"
    }
   },
   "outputs": [],
   "source": [
    "import lightgbm"
   ]
  },
  {
   "cell_type": "code",
   "execution_count": 53,
   "metadata": {
    "ExecuteTime": {
     "end_time": "2020-05-19T07:13:49.568453Z",
     "start_time": "2020-05-19T07:13:49.564837Z"
    }
   },
   "outputs": [],
   "source": [
    "clf = lightgbm.LGBMClassifier()"
   ]
  },
  {
   "cell_type": "code",
   "execution_count": null,
   "metadata": {
    "ExecuteTime": {
     "start_time": "2020-05-19T07:13:53.633Z"
    }
   },
   "outputs": [],
   "source": [
    "clf.fit(Xcv, le.fit_transform(df['party']))"
   ]
  },
  {
   "cell_type": "code",
   "execution_count": 35,
   "metadata": {
    "ExecuteTime": {
     "end_time": "2020-05-19T06:28:39.432624Z",
     "start_time": "2020-05-19T06:28:38.935864Z"
    }
   },
   "outputs": [],
   "source": [
    "df['predicted_party'] = le.inverse_transform(nb.predict(Xcv))"
   ]
  },
  {
   "cell_type": "code",
   "execution_count": 36,
   "metadata": {
    "ExecuteTime": {
     "end_time": "2020-05-19T06:28:40.801498Z",
     "start_time": "2020-05-19T06:28:40.797945Z"
    }
   },
   "outputs": [],
   "source": [
    "from sklearn.metrics import confusion_matrix"
   ]
  },
  {
   "cell_type": "raw",
   "metadata": {
    "ExecuteTime": {
     "end_time": "2020-05-17T00:20:43.879112Z",
     "start_time": "2020-05-17T00:20:40.586268Z"
    }
   },
   "source": [
    "!pip install --upgrade scikit-learn==0.23.0"
   ]
  },
  {
   "cell_type": "code",
   "execution_count": 43,
   "metadata": {
    "ExecuteTime": {
     "end_time": "2020-05-19T06:29:04.353525Z",
     "start_time": "2020-05-19T06:29:03.755752Z"
    }
   },
   "outputs": [],
   "source": [
    "cm = confusion_matrix(df['party'], df['predicted_party'], normalize='true')"
   ]
  },
  {
   "cell_type": "code",
   "execution_count": 47,
   "metadata": {
    "ExecuteTime": {
     "end_time": "2020-05-19T06:29:55.109666Z",
     "start_time": "2020-05-19T06:29:55.096936Z"
    }
   },
   "outputs": [
    {
     "data": {
      "text/html": [
       "<div>\n",
       "<style scoped>\n",
       "    .dataframe tbody tr th:only-of-type {\n",
       "        vertical-align: middle;\n",
       "    }\n",
       "\n",
       "    .dataframe tbody tr th {\n",
       "        vertical-align: top;\n",
       "    }\n",
       "\n",
       "    .dataframe thead th {\n",
       "        text-align: right;\n",
       "    }\n",
       "</style>\n",
       "<table border=\"1\" class=\"dataframe\">\n",
       "  <thead>\n",
       "    <tr style=\"text-align: right;\">\n",
       "      <th></th>\n",
       "      <th>D</th>\n",
       "      <th>I</th>\n",
       "      <th>ID</th>\n",
       "      <th>R</th>\n",
       "    </tr>\n",
       "  </thead>\n",
       "  <tbody>\n",
       "    <tr>\n",
       "      <th>D</th>\n",
       "      <td>0.550507</td>\n",
       "      <td>0.018141</td>\n",
       "      <td>0.054582</td>\n",
       "      <td>0.376770</td>\n",
       "    </tr>\n",
       "    <tr>\n",
       "      <th>I</th>\n",
       "      <td>0.251613</td>\n",
       "      <td>0.470968</td>\n",
       "      <td>0.025806</td>\n",
       "      <td>0.251613</td>\n",
       "    </tr>\n",
       "    <tr>\n",
       "      <th>ID</th>\n",
       "      <td>0.256684</td>\n",
       "      <td>0.055258</td>\n",
       "      <td>0.468806</td>\n",
       "      <td>0.219251</td>\n",
       "    </tr>\n",
       "    <tr>\n",
       "      <th>R</th>\n",
       "      <td>0.246249</td>\n",
       "      <td>0.013858</td>\n",
       "      <td>0.036293</td>\n",
       "      <td>0.703600</td>\n",
       "    </tr>\n",
       "  </tbody>\n",
       "</table>\n",
       "</div>"
      ],
      "text/plain": [
       "           D         I        ID         R\n",
       "D   0.550507  0.018141  0.054582  0.376770\n",
       "I   0.251613  0.470968  0.025806  0.251613\n",
       "ID  0.256684  0.055258  0.468806  0.219251\n",
       "R   0.246249  0.013858  0.036293  0.703600"
      ]
     },
     "execution_count": 47,
     "metadata": {},
     "output_type": "execute_result"
    }
   ],
   "source": [
    "pd.DataFrame(cm, index=le.inverse_transform([0, 1, 2, 3]), columns=le.inverse_transform([0, 1, 2, 3]))"
   ]
  },
  {
   "cell_type": "code",
   "execution_count": 48,
   "metadata": {
    "ExecuteTime": {
     "end_time": "2020-05-19T06:30:09.769108Z",
     "start_time": "2020-05-19T06:30:09.155520Z"
    }
   },
   "outputs": [
    {
     "data": {
      "text/html": [
       "<div>\n",
       "<style scoped>\n",
       "    .dataframe tbody tr th:only-of-type {\n",
       "        vertical-align: middle;\n",
       "    }\n",
       "\n",
       "    .dataframe tbody tr th {\n",
       "        vertical-align: top;\n",
       "    }\n",
       "\n",
       "    .dataframe thead th {\n",
       "        text-align: right;\n",
       "    }\n",
       "</style>\n",
       "<table border=\"1\" class=\"dataframe\">\n",
       "  <thead>\n",
       "    <tr style=\"text-align: right;\">\n",
       "      <th></th>\n",
       "      <th>D</th>\n",
       "      <th>I</th>\n",
       "      <th>ID</th>\n",
       "      <th>R</th>\n",
       "    </tr>\n",
       "  </thead>\n",
       "  <tbody>\n",
       "    <tr>\n",
       "      <th>D</th>\n",
       "      <td>48765</td>\n",
       "      <td>1607</td>\n",
       "      <td>4835</td>\n",
       "      <td>33375</td>\n",
       "    </tr>\n",
       "    <tr>\n",
       "      <th>I</th>\n",
       "      <td>39</td>\n",
       "      <td>73</td>\n",
       "      <td>4</td>\n",
       "      <td>39</td>\n",
       "    </tr>\n",
       "    <tr>\n",
       "      <th>ID</th>\n",
       "      <td>144</td>\n",
       "      <td>31</td>\n",
       "      <td>263</td>\n",
       "      <td>123</td>\n",
       "    </tr>\n",
       "    <tr>\n",
       "      <th>R</th>\n",
       "      <td>19120</td>\n",
       "      <td>1076</td>\n",
       "      <td>2818</td>\n",
       "      <td>54631</td>\n",
       "    </tr>\n",
       "  </tbody>\n",
       "</table>\n",
       "</div>"
      ],
      "text/plain": [
       "        D     I    ID      R\n",
       "D   48765  1607  4835  33375\n",
       "I      39    73     4     39\n",
       "ID    144    31   263    123\n",
       "R   19120  1076  2818  54631"
      ]
     },
     "execution_count": 48,
     "metadata": {},
     "output_type": "execute_result"
    }
   ],
   "source": [
    "cm = confusion_matrix(df['party'], df['predicted_party'])\n",
    "pd.DataFrame(cm, index=le.inverse_transform([0, 1, 2, 3]), columns=le.inverse_transform([0, 1, 2, 3]))"
   ]
  },
  {
   "cell_type": "code",
   "execution_count": null,
   "metadata": {},
   "outputs": [],
   "source": []
  }
 ],
 "metadata": {
  "kernelspec": {
   "display_name": "Python 3",
   "language": "python",
   "name": "python3"
  },
  "language_info": {
   "codemirror_mode": {
    "name": "ipython",
    "version": 3
   },
   "file_extension": ".py",
   "mimetype": "text/x-python",
   "name": "python",
   "nbconvert_exporter": "python",
   "pygments_lexer": "ipython3",
   "version": "3.6.9"
  },
  "toc": {
   "colors": {
    "hover_highlight": "#DAA520",
    "navigate_num": "#000000",
    "navigate_text": "#333333",
    "running_highlight": "#FF0000",
    "selected_highlight": "#FFD700",
    "sidebar_border": "#EEEEEE",
    "wrapper_background": "#FFFFFF"
   },
   "moveMenuLeft": true,
   "nav_menu": {
    "height": "11.9922px",
    "width": "251.992px"
   },
   "navigate_menu": true,
   "number_sections": true,
   "sideBar": true,
   "threshold": 4,
   "toc_cell": false,
   "toc_section_display": "block",
   "toc_window_display": false,
   "widenNotebook": false
  }
 },
 "nbformat": 4,
 "nbformat_minor": 2
}
