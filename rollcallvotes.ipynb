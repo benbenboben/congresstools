{
 "cells": [
  {
   "cell_type": "code",
   "execution_count": 1,
   "metadata": {
    "ExecuteTime": {
     "end_time": "2020-05-15T05:16:57.599600Z",
     "start_time": "2020-05-15T05:16:56.714079Z"
    }
   },
   "outputs": [],
   "source": [
    "import requests\n",
    "from bs4 import BeautifulSoup\n",
    "import os\n",
    "import pandas as pd\n",
    "import fractions\n",
    "from congress.etl import house_votes"
   ]
  },
  {
   "cell_type": "code",
   "execution_count": 2,
   "metadata": {
    "ExecuteTime": {
     "end_time": "2020-05-15T05:16:57.605736Z",
     "start_time": "2020-05-15T05:16:57.601679Z"
    }
   },
   "outputs": [],
   "source": [
    "obj = house_votes.HouseVotes2DB()"
   ]
  },
  {
   "cell_type": "raw",
   "metadata": {
    "ExecuteTime": {
     "start_time": "2020-05-14T05:38:49.445Z"
    }
   },
   "source": [
    "for year in range(1990, 2020):\n",
    "    obj.roll_call_summary_to_psql(year)"
   ]
  },
  {
   "cell_type": "code",
   "execution_count": 3,
   "metadata": {
    "ExecuteTime": {
     "end_time": "2020-05-15T05:16:58.301782Z",
     "start_time": "2020-05-15T05:16:58.201329Z"
    }
   },
   "outputs": [],
   "source": [
    "import psycopg2\n",
    "conn = psycopg2.connect(\n",
    "    user=os.environ.get('PSQL_USER'),\n",
    "    password=os.environ.get('PSQL_PASSWORD'),\n",
    "    database='congress',\n",
    "    host=os.environ.get('PSQL_HOST'),\n",
    "    port=os.environ.get('PSQL_PORT')\n",
    ")\n",
    "cursor = conn.cursor()\n",
    "cursor.execute('select date, rollcall from house_votes')\n",
    "vals = cursor.fetchall()\n",
    "cursor.close()\n",
    "conn.close()"
   ]
  },
  {
   "cell_type": "code",
   "execution_count": 4,
   "metadata": {
    "ExecuteTime": {
     "end_time": "2020-05-15T05:16:58.599324Z",
     "start_time": "2020-05-15T05:16:58.584420Z"
    }
   },
   "outputs": [],
   "source": [
    "df = pd.DataFrame(vals, columns=['date', 'rollcall'])"
   ]
  },
  {
   "cell_type": "code",
   "execution_count": 5,
   "metadata": {
    "ExecuteTime": {
     "end_time": "2020-05-15T05:16:58.949435Z",
     "start_time": "2020-05-15T05:16:58.919222Z"
    }
   },
   "outputs": [
    {
     "data": {
      "text/html": [
       "<div>\n",
       "<style scoped>\n",
       "    .dataframe tbody tr th:only-of-type {\n",
       "        vertical-align: middle;\n",
       "    }\n",
       "\n",
       "    .dataframe tbody tr th {\n",
       "        vertical-align: top;\n",
       "    }\n",
       "\n",
       "    .dataframe thead th {\n",
       "        text-align: right;\n",
       "    }\n",
       "</style>\n",
       "<table border=\"1\" class=\"dataframe\">\n",
       "  <thead>\n",
       "    <tr style=\"text-align: right;\">\n",
       "      <th></th>\n",
       "      <th>date</th>\n",
       "      <th>rollcall</th>\n",
       "    </tr>\n",
       "  </thead>\n",
       "  <tbody>\n",
       "    <tr>\n",
       "      <th>0</th>\n",
       "      <td>1990-05-08</td>\n",
       "      <td>99</td>\n",
       "    </tr>\n",
       "    <tr>\n",
       "      <th>1</th>\n",
       "      <td>1990-05-08</td>\n",
       "      <td>98</td>\n",
       "    </tr>\n",
       "    <tr>\n",
       "      <th>2</th>\n",
       "      <td>1990-05-03</td>\n",
       "      <td>96</td>\n",
       "    </tr>\n",
       "    <tr>\n",
       "      <th>3</th>\n",
       "      <td>1990-05-02</td>\n",
       "      <td>94</td>\n",
       "    </tr>\n",
       "    <tr>\n",
       "      <th>4</th>\n",
       "      <td>1990-05-02</td>\n",
       "      <td>93</td>\n",
       "    </tr>\n",
       "  </tbody>\n",
       "</table>\n",
       "</div>"
      ],
      "text/plain": [
       "         date  rollcall\n",
       "0  1990-05-08        99\n",
       "1  1990-05-08        98\n",
       "2  1990-05-03        96\n",
       "3  1990-05-02        94\n",
       "4  1990-05-02        93"
      ]
     },
     "execution_count": 5,
     "metadata": {},
     "output_type": "execute_result"
    }
   ],
   "source": [
    "df.head()"
   ]
  },
  {
   "cell_type": "code",
   "execution_count": 6,
   "metadata": {
    "ExecuteTime": {
     "end_time": "2020-05-15T05:16:59.234221Z",
     "start_time": "2020-05-15T05:16:59.202433Z"
    }
   },
   "outputs": [],
   "source": [
    "df['year'] = df['date'].astype(str).apply(lambda x: x.split('-')[0])"
   ]
  },
  {
   "cell_type": "code",
   "execution_count": 7,
   "metadata": {
    "ExecuteTime": {
     "end_time": "2020-05-15T05:16:59.643288Z",
     "start_time": "2020-05-15T05:16:59.639179Z"
    }
   },
   "outputs": [],
   "source": [
    "import multiprocessing as mp"
   ]
  },
  {
   "cell_type": "code",
   "execution_count": 8,
   "metadata": {
    "ExecuteTime": {
     "end_time": "2020-05-15T05:17:00.292164Z",
     "start_time": "2020-05-15T05:17:00.287557Z"
    }
   },
   "outputs": [],
   "source": [
    "import traceback\n",
    "def house_rollcall_individual_parallel(year, rollcall):\n",
    "    if int(year) < 2003: \n",
    "        return\n",
    "    obj = house_votes.HouseVotes2DB()\n",
    "    try:\n",
    "        obj.roll_call_single_to_psql(year, rollcall)\n",
    "    except Exception as e:\n",
    "        traceback.print_exc()"
   ]
  },
  {
   "cell_type": "code",
   "execution_count": 9,
   "metadata": {
    "ExecuteTime": {
     "end_time": "2020-05-15T06:12:15.590243Z",
     "start_time": "2020-05-15T05:17:01.565487Z"
    }
   },
   "outputs": [
    {
     "name": "stdout",
     "output_type": "stream",
     "text": [
      "http://clerk.house.gov/evs/2007/roll447.xml\n",
      "http://clerk.house.gov/evs/2003/roll099.xml\n",
      "http://clerk.house.gov/evs/2003/roll280.xml\n",
      "http://clerk.house.gov/evs/2005/roll125.xml\n"
     ]
    },
    {
     "name": "stderr",
     "output_type": "stream",
     "text": [
      "/Users/benellis/Projects/congress/congress/etl/house_votes.py:138: UserWarning: No parser was explicitly specified, so I'm using the best available HTML parser for this system (\"lxml\"). This usually isn't a problem, but if you run this code on another system, or in a different virtual environment, it may use a different parser and behave differently.\n",
      "\n",
      "The code that caused this warning is on line 138 of the file /Users/benellis/Projects/congress/congress/etl/house_votes.py. To get rid of this warning, pass the additional argument 'features=\"lxml\"' to the BeautifulSoup constructor.\n",
      "\n",
      "  soup = BeautifulSoup(data.text)\n",
      "/Users/benellis/Projects/congress/congress/etl/house_votes.py:138: UserWarning: No parser was explicitly specified, so I'm using the best available HTML parser for this system (\"lxml\"). This usually isn't a problem, but if you run this code on another system, or in a different virtual environment, it may use a different parser and behave differently.\n",
      "\n",
      "The code that caused this warning is on line 138 of the file /Users/benellis/Projects/congress/congress/etl/house_votes.py. To get rid of this warning, pass the additional argument 'features=\"lxml\"' to the BeautifulSoup constructor.\n",
      "\n",
      "  soup = BeautifulSoup(data.text)\n",
      "/Users/benellis/Projects/congress/congress/etl/house_votes.py:138: UserWarning: No parser was explicitly specified, so I'm using the best available HTML parser for this system (\"lxml\"). This usually isn't a problem, but if you run this code on another system, or in a different virtual environment, it may use a different parser and behave differently.\n",
      "\n",
      "The code that caused this warning is on line 138 of the file /Users/benellis/Projects/congress/congress/etl/house_votes.py. To get rid of this warning, pass the additional argument 'features=\"lxml\"' to the BeautifulSoup constructor.\n",
      "\n",
      "  soup = BeautifulSoup(data.text)\n",
      "/Users/benellis/Projects/congress/congress/etl/house_votes.py:138: UserWarning: No parser was explicitly specified, so I'm using the best available HTML parser for this system (\"lxml\"). This usually isn't a problem, but if you run this code on another system, or in a different virtual environment, it may use a different parser and behave differently.\n",
      "\n",
      "The code that caused this warning is on line 138 of the file /Users/benellis/Projects/congress/congress/etl/house_votes.py. To get rid of this warning, pass the additional argument 'features=\"lxml\"' to the BeautifulSoup constructor.\n",
      "\n",
      "  soup = BeautifulSoup(data.text)\n"
     ]
    },
    {
     "name": "stdout",
     "output_type": "stream",
     "text": [
      "http://clerk.house.gov/evs/2007/roll180.xml\n",
      "http://clerk.house.gov/evs/2003/roll098.xml\n",
      "http://clerk.house.gov/evs/2003/roll279.xml\n",
      "http://clerk.house.gov/evs/2005/roll124.xml\n",
      "http://clerk.house.gov/evs/2003/roll097.xml\n",
      "http://clerk.house.gov/evs/2003/roll278.xml\n",
      "http://clerk.house.gov/evs/2005/roll123.xml\n",
      "http://clerk.house.gov/evs/2007/roll179.xml\n",
      "http://clerk.house.gov/evs/2003/roll096.xml\n",
      "http://clerk.house.gov/evs/2005/roll122.xml\n",
      "http://clerk.house.gov/evs/2003/roll277.xml\n",
      "http://clerk.house.gov/evs/2007/roll178.xml\n",
      "http://clerk.house.gov/evs/2003/roll095.xml\n",
      "http://clerk.house.gov/evs/2007/roll177.xml\n",
      "http://clerk.house.gov/evs/2003/roll276.xml\n",
      "http://clerk.house.gov/evs/2005/roll121.xml\n",
      "http://clerk.house.gov/evs/2003/roll094.xml\n",
      "http://clerk.house.gov/evs/2003/roll275.xml\n",
      "http://clerk.house.gov/evs/2007/roll176.xml\n",
      "http://clerk.house.gov/evs/2005/roll120.xml\n",
      "http://clerk.house.gov/evs/2003/roll093.xml\n",
      "http://clerk.house.gov/evs/2003/roll274.xml\n",
      "http://clerk.house.gov/evs/2007/roll175.xml\n",
      "http://clerk.house.gov/evs/2005/roll119.xml\n",
      "http://clerk.house.gov/evs/2003/roll092.xml\n",
      "http://clerk.house.gov/evs/2003/roll273.xml\n",
      "http://clerk.house.gov/evs/2007/roll174.xml\n",
      "http://clerk.house.gov/evs/2005/roll118.xml\n",
      "http://clerk.house.gov/evs/2003/roll091.xml\n",
      "http://clerk.house.gov/evs/2007/roll173.xml\n",
      "http://clerk.house.gov/evs/2005/roll117.xml\n",
      "http://clerk.house.gov/evs/2003/roll272.xml\n",
      "http://clerk.house.gov/evs/2003/roll090.xml\n",
      "http://clerk.house.gov/evs/2007/roll172.xml\n",
      "http://clerk.house.gov/evs/2003/roll271.xml\n",
      "http://clerk.house.gov/evs/2005/roll116.xml\n",
      "http://clerk.house.gov/evs/2003/roll089.xml\n",
      "http://clerk.house.gov/evs/2007/roll171.xml\n",
      "http://clerk.house.gov/evs/2003/roll270.xml\n",
      "http://clerk.house.gov/evs/2005/roll115.xml\n",
      "http://clerk.house.gov/evs/2003/roll088.xml\n",
      "http://clerk.house.gov/evs/2003/roll269.xml\n",
      "http://clerk.house.gov/evs/2007/roll170.xml\n",
      "http://clerk.house.gov/evs/2005/roll114.xml\n",
      "http://clerk.house.gov/evs/2003/roll087.xml\n",
      "http://clerk.house.gov/evs/2003/roll268.xml\n",
      "http://clerk.house.gov/evs/2007/roll169.xml\n",
      "http://clerk.house.gov/evs/2003/roll086.xml\n",
      "http://clerk.house.gov/evs/2005/roll113.xml\n"
     ]
    },
    {
     "name": "stderr",
     "output_type": "stream",
     "text": [
      "Traceback (most recent call last):\n",
      "  File \"<ipython-input-8-530adc215787>\", line 7, in house_rollcall_individual_parallel\n",
      "    obj.roll_call_single_to_psql(year, rollcall)\n",
      "  File \"/Users/benellis/Projects/congress/congress/etl/house_votes.py\", line 183, in roll_call_single_to_psql\n",
      "    df = self.roll_call_single(year, roll)\n",
      "  File \"/Users/benellis/Projects/congress/congress/etl/house_votes.py\", line 142, in roll_call_single\n",
      "    chamber = soup.find('chamber').text\n",
      "AttributeError: 'NoneType' object has no attribute 'text'\n"
     ]
    },
    {
     "name": "stdout",
     "output_type": "stream",
     "text": [
      "http://clerk.house.gov/evs/2007/roll168.xml\n"
     ]
    },
    {
     "name": "stderr",
     "output_type": "stream",
     "text": [
      "Traceback (most recent call last):\n",
      "  File \"<ipython-input-8-530adc215787>\", line 7, in house_rollcall_individual_parallel\n",
      "    obj.roll_call_single_to_psql(year, rollcall)\n",
      "  File \"/Users/benellis/Projects/congress/congress/etl/house_votes.py\", line 183, in roll_call_single_to_psql\n",
      "    df = self.roll_call_single(year, roll)\n",
      "  File \"/Users/benellis/Projects/congress/congress/etl/house_votes.py\", line 142, in roll_call_single\n",
      "    chamber = soup.find('chamber').text\n",
      "AttributeError: 'NoneType' object has no attribute 'text'\n"
     ]
    },
    {
     "name": "stdout",
     "output_type": "stream",
     "text": [
      "http://clerk.house.gov/evs/2007/roll166.xml\n"
     ]
    },
    {
     "name": "stderr",
     "output_type": "stream",
     "text": [
      "Traceback (most recent call last):\n",
      "  File \"<ipython-input-8-530adc215787>\", line 7, in house_rollcall_individual_parallel\n",
      "    obj.roll_call_single_to_psql(year, rollcall)\n",
      "  File \"/Users/benellis/Projects/congress/congress/etl/house_votes.py\", line 183, in roll_call_single_to_psql\n",
      "    df = self.roll_call_single(year, roll)\n",
      "  File \"/Users/benellis/Projects/congress/congress/etl/house_votes.py\", line 142, in roll_call_single\n",
      "    chamber = soup.find('chamber').text\n",
      "AttributeError: 'NoneType' object has no attribute 'text'\n"
     ]
    },
    {
     "name": "stdout",
     "output_type": "stream",
     "text": [
      "http://clerk.house.gov/evs/2007/roll165.xml\n"
     ]
    },
    {
     "name": "stderr",
     "output_type": "stream",
     "text": [
      "Traceback (most recent call last):\n",
      "  File \"<ipython-input-8-530adc215787>\", line 7, in house_rollcall_individual_parallel\n",
      "    obj.roll_call_single_to_psql(year, rollcall)\n",
      "  File \"/Users/benellis/Projects/congress/congress/etl/house_votes.py\", line 183, in roll_call_single_to_psql\n",
      "    df = self.roll_call_single(year, roll)\n",
      "  File \"/Users/benellis/Projects/congress/congress/etl/house_votes.py\", line 142, in roll_call_single\n",
      "    chamber = soup.find('chamber').text\n",
      "AttributeError: 'NoneType' object has no attribute 'text'\n"
     ]
    },
    {
     "name": "stdout",
     "output_type": "stream",
     "text": [
      "http://clerk.house.gov/evs/2007/roll164.xml\n"
     ]
    },
    {
     "name": "stderr",
     "output_type": "stream",
     "text": [
      "Traceback (most recent call last):\n",
      "  File \"<ipython-input-8-530adc215787>\", line 7, in house_rollcall_individual_parallel\n",
      "    obj.roll_call_single_to_psql(year, rollcall)\n",
      "  File \"/Users/benellis/Projects/congress/congress/etl/house_votes.py\", line 183, in roll_call_single_to_psql\n",
      "    df = self.roll_call_single(year, roll)\n",
      "  File \"/Users/benellis/Projects/congress/congress/etl/house_votes.py\", line 142, in roll_call_single\n",
      "    chamber = soup.find('chamber').text\n",
      "AttributeError: 'NoneType' object has no attribute 'text'\n"
     ]
    },
    {
     "name": "stdout",
     "output_type": "stream",
     "text": [
      "http://clerk.house.gov/evs/2007/roll162.xml\n",
      "http://clerk.house.gov/evs/2003/roll266.xml\n",
      "http://clerk.house.gov/evs/2003/roll085.xml\n",
      "http://clerk.house.gov/evs/2005/roll112.xml\n",
      "http://clerk.house.gov/evs/2007/roll161.xml\n",
      "http://clerk.house.gov/evs/2005/roll111.xml\n",
      "http://clerk.house.gov/evs/2003/roll265.xml\n",
      "http://clerk.house.gov/evs/2003/roll084.xml\n",
      "http://clerk.house.gov/evs/2007/roll160.xml\n",
      "http://clerk.house.gov/evs/2003/roll083.xml\n",
      "http://clerk.house.gov/evs/2005/roll110.xml\n",
      "http://clerk.house.gov/evs/2003/roll264.xml\n",
      "http://clerk.house.gov/evs/2007/roll159.xml\n",
      "http://clerk.house.gov/evs/2003/roll082.xml\n",
      "http://clerk.house.gov/evs/2003/roll263.xml\n",
      "http://clerk.house.gov/evs/2005/roll109.xml\n",
      "http://clerk.house.gov/evs/2007/roll158.xml\n",
      "http://clerk.house.gov/evs/2003/roll081.xml\n",
      "http://clerk.house.gov/evs/2003/roll262.xml\n",
      "http://clerk.house.gov/evs/2005/roll108.xml\n",
      "http://clerk.house.gov/evs/2007/roll157.xml\n",
      "http://clerk.house.gov/evs/2003/roll080.xml\n",
      "http://clerk.house.gov/evs/2003/roll261.xml\n",
      "http://clerk.house.gov/evs/2005/roll107.xml\n",
      "http://clerk.house.gov/evs/2007/roll156.xml\n",
      "http://clerk.house.gov/evs/2003/roll079.xml\n",
      "http://clerk.house.gov/evs/2003/roll260.xml\n",
      "http://clerk.house.gov/evs/2007/roll155.xml\n",
      "http://clerk.house.gov/evs/2005/roll106.xml\n",
      "http://clerk.house.gov/evs/2003/roll078.xml\n",
      "http://clerk.house.gov/evs/2003/roll259.xml\n",
      "http://clerk.house.gov/evs/2007/roll154.xml\n",
      "http://clerk.house.gov/evs/2005/roll105.xml\n",
      "http://clerk.house.gov/evs/2003/roll077.xml\n",
      "http://clerk.house.gov/evs/2003/roll258.xml\n",
      "http://clerk.house.gov/evs/2005/roll104.xml\n",
      "http://clerk.house.gov/evs/2007/roll153.xml\n",
      "http://clerk.house.gov/evs/2003/roll076.xml\n",
      "http://clerk.house.gov/evs/2003/roll257.xml\n",
      "http://clerk.house.gov/evs/2007/roll152.xml\n",
      "http://clerk.house.gov/evs/2005/roll102.xml\n",
      "http://clerk.house.gov/evs/2003/roll074.xml\n",
      "http://clerk.house.gov/evs/2003/roll256.xml\n",
      "http://clerk.house.gov/evs/2007/roll151.xml\n",
      "http://clerk.house.gov/evs/2005/roll101.xml\n",
      "http://clerk.house.gov/evs/2003/roll073.xml\n",
      "http://clerk.house.gov/evs/2003/roll255.xml\n",
      "http://clerk.house.gov/evs/2007/roll150.xml\n",
      "http://clerk.house.gov/evs/2005/roll100.xml\n"
     ]
    },
    {
     "name": "stderr",
     "output_type": "stream",
     "text": [
      "Traceback (most recent call last):\n",
      "  File \"<ipython-input-8-530adc215787>\", line 7, in house_rollcall_individual_parallel\n",
      "    obj.roll_call_single_to_psql(year, rollcall)\n",
      "  File \"/Users/benellis/Projects/congress/congress/etl/house_votes.py\", line 183, in roll_call_single_to_psql\n",
      "    df = self.roll_call_single(year, roll)\n",
      "  File \"/Users/benellis/Projects/congress/congress/etl/house_votes.py\", line 142, in roll_call_single\n",
      "    chamber = soup.find('chamber').text\n",
      "AttributeError: 'NoneType' object has no attribute 'text'\n"
     ]
    },
    {
     "name": "stdout",
     "output_type": "stream",
     "text": [
      "http://clerk.house.gov/evs/2007/roll149.xml\n"
     ]
    },
    {
     "name": "stderr",
     "output_type": "stream",
     "text": [
      "Traceback (most recent call last):\n",
      "  File \"<ipython-input-8-530adc215787>\", line 7, in house_rollcall_individual_parallel\n",
      "    obj.roll_call_single_to_psql(year, rollcall)\n",
      "  File \"/Users/benellis/Projects/congress/congress/etl/house_votes.py\", line 183, in roll_call_single_to_psql\n",
      "    df = self.roll_call_single(year, roll)\n",
      "  File \"/Users/benellis/Projects/congress/congress/etl/house_votes.py\", line 142, in roll_call_single\n",
      "    chamber = soup.find('chamber').text\n",
      "AttributeError: 'NoneType' object has no attribute 'text'\n"
     ]
    },
    {
     "name": "stdout",
     "output_type": "stream",
     "text": [
      "http://clerk.house.gov/evs/2007/roll146.xml\n",
      "http://clerk.house.gov/evs/2003/roll072.xml\n",
      "http://clerk.house.gov/evs/2003/roll254.xml\n",
      "http://clerk.house.gov/evs/2005/roll299.xml\n",
      "http://clerk.house.gov/evs/2007/roll145.xml\n",
      "http://clerk.house.gov/evs/2003/roll071.xml\n",
      "http://clerk.house.gov/evs/2003/roll253.xml\n",
      "http://clerk.house.gov/evs/2005/roll298.xml\n",
      "http://clerk.house.gov/evs/2007/roll144.xml\n",
      "http://clerk.house.gov/evs/2003/roll070.xml\n",
      "http://clerk.house.gov/evs/2003/roll252.xml\n",
      "http://clerk.house.gov/evs/2005/roll297.xml\n",
      "http://clerk.house.gov/evs/2007/roll143.xml\n",
      "http://clerk.house.gov/evs/2003/roll069.xml\n",
      "http://clerk.house.gov/evs/2003/roll251.xml\n",
      "http://clerk.house.gov/evs/2005/roll296.xml\n",
      "http://clerk.house.gov/evs/2007/roll142.xml\n",
      "http://clerk.house.gov/evs/2003/roll068.xml\n",
      "http://clerk.house.gov/evs/2003/roll250.xml\n",
      "http://clerk.house.gov/evs/2005/roll233.xml\n",
      "http://clerk.house.gov/evs/2007/roll141.xml\n",
      "http://clerk.house.gov/evs/2003/roll067.xml\n",
      "http://clerk.house.gov/evs/2003/roll249.xml\n",
      "http://clerk.house.gov/evs/2005/roll295.xml\n",
      "http://clerk.house.gov/evs/2007/roll140.xml\n",
      "http://clerk.house.gov/evs/2003/roll066.xml\n",
      "http://clerk.house.gov/evs/2003/roll248.xml\n",
      "http://clerk.house.gov/evs/2005/roll294.xml\n",
      "http://clerk.house.gov/evs/2007/roll139.xml\n",
      "http://clerk.house.gov/evs/2003/roll065.xml\n",
      "http://clerk.house.gov/evs/2003/roll247.xml\n",
      "http://clerk.house.gov/evs/2005/roll293.xml\n",
      "http://clerk.house.gov/evs/2007/roll138.xml\n",
      "http://clerk.house.gov/evs/2003/roll064.xml\n",
      "http://clerk.house.gov/evs/2003/roll246.xml\n",
      "http://clerk.house.gov/evs/2005/roll292.xml\n",
      "http://clerk.house.gov/evs/2007/roll137.xml\n",
      "http://clerk.house.gov/evs/2003/roll063.xml\n",
      "http://clerk.house.gov/evs/2003/roll245.xml\n",
      "http://clerk.house.gov/evs/2005/roll291.xml\n",
      "http://clerk.house.gov/evs/2007/roll136.xml\n",
      "http://clerk.house.gov/evs/2003/roll062.xml\n",
      "http://clerk.house.gov/evs/2003/roll244.xml\n",
      "http://clerk.house.gov/evs/2005/roll290.xml\n",
      "http://clerk.house.gov/evs/2007/roll135.xml\n",
      "http://clerk.house.gov/evs/2003/roll061.xml\n",
      "http://clerk.house.gov/evs/2003/roll243.xml\n",
      "http://clerk.house.gov/evs/2005/roll289.xml\n",
      "http://clerk.house.gov/evs/2007/roll134.xml\n",
      "http://clerk.house.gov/evs/2003/roll060.xml\n",
      "http://clerk.house.gov/evs/2003/roll242.xml\n",
      "http://clerk.house.gov/evs/2005/roll288.xml\n",
      "http://clerk.house.gov/evs/2007/roll133.xml\n"
     ]
    },
    {
     "name": "stderr",
     "output_type": "stream",
     "text": [
      "Traceback (most recent call last):\n",
      "  File \"<ipython-input-8-530adc215787>\", line 7, in house_rollcall_individual_parallel\n",
      "    obj.roll_call_single_to_psql(year, rollcall)\n",
      "  File \"/Users/benellis/Projects/congress/congress/etl/house_votes.py\", line 183, in roll_call_single_to_psql\n",
      "    df = self.roll_call_single(year, roll)\n",
      "  File \"/Users/benellis/Projects/congress/congress/etl/house_votes.py\", line 142, in roll_call_single\n",
      "    chamber = soup.find('chamber').text\n",
      "AttributeError: 'NoneType' object has no attribute 'text'\n"
     ]
    },
    {
     "name": "stdout",
     "output_type": "stream",
     "text": [
      "http://clerk.house.gov/evs/2007/roll132.xml\n",
      "http://clerk.house.gov/evs/2003/roll059.xml\n",
      "http://clerk.house.gov/evs/2003/roll241.xml\n",
      "http://clerk.house.gov/evs/2005/roll287.xml\n",
      "http://clerk.house.gov/evs/2007/roll131.xml\n",
      "http://clerk.house.gov/evs/2003/roll058.xml\n",
      "http://clerk.house.gov/evs/2003/roll240.xml\n",
      "http://clerk.house.gov/evs/2005/roll286.xml\n",
      "http://clerk.house.gov/evs/2007/roll130.xml\n",
      "http://clerk.house.gov/evs/2003/roll057.xml\n",
      "http://clerk.house.gov/evs/2003/roll239.xml\n",
      "http://clerk.house.gov/evs/2005/roll285.xml\n",
      "http://clerk.house.gov/evs/2007/roll129.xml\n",
      "http://clerk.house.gov/evs/2003/roll056.xml\n",
      "http://clerk.house.gov/evs/2003/roll238.xml\n",
      "http://clerk.house.gov/evs/2005/roll284.xml\n",
      "http://clerk.house.gov/evs/2007/roll128.xml\n"
     ]
    },
    {
     "name": "stderr",
     "output_type": "stream",
     "text": [
      "Traceback (most recent call last):\n",
      "  File \"<ipython-input-8-530adc215787>\", line 7, in house_rollcall_individual_parallel\n",
      "    obj.roll_call_single_to_psql(year, rollcall)\n",
      "  File \"/Users/benellis/Projects/congress/congress/etl/house_votes.py\", line 183, in roll_call_single_to_psql\n",
      "    df = self.roll_call_single(year, roll)\n",
      "  File \"/Users/benellis/Projects/congress/congress/etl/house_votes.py\", line 142, in roll_call_single\n",
      "    chamber = soup.find('chamber').text\n",
      "AttributeError: 'NoneType' object has no attribute 'text'\n"
     ]
    },
    {
     "name": "stdout",
     "output_type": "stream",
     "text": [
      "http://clerk.house.gov/evs/2007/roll127.xml\n",
      "http://clerk.house.gov/evs/2003/roll055.xml\n",
      "http://clerk.house.gov/evs/2003/roll237.xml\n",
      "http://clerk.house.gov/evs/2005/roll283.xml\n",
      "http://clerk.house.gov/evs/2007/roll126.xml\n",
      "http://clerk.house.gov/evs/2003/roll054.xml\n",
      "http://clerk.house.gov/evs/2003/roll236.xml\n",
      "http://clerk.house.gov/evs/2005/roll282.xml\n",
      "http://clerk.house.gov/evs/2007/roll125.xml\n",
      "http://clerk.house.gov/evs/2003/roll052.xml\n",
      "http://clerk.house.gov/evs/2003/roll235.xml\n",
      "http://clerk.house.gov/evs/2005/roll281.xml\n",
      "http://clerk.house.gov/evs/2007/roll124.xml\n",
      "http://clerk.house.gov/evs/2003/roll051.xml\n",
      "http://clerk.house.gov/evs/2005/roll280.xml\n",
      "http://clerk.house.gov/evs/2003/roll234.xml\n",
      "http://clerk.house.gov/evs/2007/roll123.xml\n",
      "http://clerk.house.gov/evs/2003/roll050.xml\n"
     ]
    },
    {
     "name": "stderr",
     "output_type": "stream",
     "text": [
      "Traceback (most recent call last):\n",
      "  File \"<ipython-input-8-530adc215787>\", line 7, in house_rollcall_individual_parallel\n",
      "    obj.roll_call_single_to_psql(year, rollcall)\n",
      "  File \"/Users/benellis/Projects/congress/congress/etl/house_votes.py\", line 183, in roll_call_single_to_psql\n",
      "    df = self.roll_call_single(year, roll)\n",
      "  File \"/Users/benellis/Projects/congress/congress/etl/house_votes.py\", line 142, in roll_call_single\n",
      "    chamber = soup.find('chamber').text\n",
      "AttributeError: 'NoneType' object has no attribute 'text'\n"
     ]
    },
    {
     "name": "stdout",
     "output_type": "stream",
     "text": [
      "http://clerk.house.gov/evs/2007/roll122.xml\n",
      "http://clerk.house.gov/evs/2005/roll279.xml\n",
      "http://clerk.house.gov/evs/2003/roll233.xml\n",
      "http://clerk.house.gov/evs/2007/roll121.xml\n",
      "http://clerk.house.gov/evs/2003/roll047.xml\n",
      "http://clerk.house.gov/evs/2005/roll278.xml\n",
      "http://clerk.house.gov/evs/2003/roll232.xml\n",
      "http://clerk.house.gov/evs/2007/roll120.xml\n",
      "http://clerk.house.gov/evs/2003/roll046.xml\n",
      "http://clerk.house.gov/evs/2005/roll277.xml\n",
      "http://clerk.house.gov/evs/2003/roll231.xml\n",
      "http://clerk.house.gov/evs/2007/roll119.xml\n",
      "http://clerk.house.gov/evs/2003/roll045.xml\n",
      "http://clerk.house.gov/evs/2005/roll276.xml\n",
      "http://clerk.house.gov/evs/2003/roll230.xml\n",
      "http://clerk.house.gov/evs/2003/roll044.xml\n",
      "http://clerk.house.gov/evs/2007/roll117.xml\n",
      "http://clerk.house.gov/evs/2005/roll275.xml\n",
      "http://clerk.house.gov/evs/2003/roll229.xml\n",
      "http://clerk.house.gov/evs/2003/roll042.xml\n",
      "http://clerk.house.gov/evs/2007/roll116.xml\n"
     ]
    },
    {
     "name": "stderr",
     "output_type": "stream",
     "text": [
      "Traceback (most recent call last):\n",
      "  File \"<ipython-input-8-530adc215787>\", line 7, in house_rollcall_individual_parallel\n",
      "    obj.roll_call_single_to_psql(year, rollcall)\n",
      "  File \"/Users/benellis/Projects/congress/congress/etl/house_votes.py\", line 183, in roll_call_single_to_psql\n",
      "    df = self.roll_call_single(year, roll)\n",
      "  File \"/Users/benellis/Projects/congress/congress/etl/house_votes.py\", line 142, in roll_call_single\n",
      "    chamber = soup.find('chamber').text\n",
      "AttributeError: 'NoneType' object has no attribute 'text'\n"
     ]
    },
    {
     "name": "stdout",
     "output_type": "stream",
     "text": [
      "http://clerk.house.gov/evs/2007/roll115.xml\n"
     ]
    },
    {
     "name": "stderr",
     "output_type": "stream",
     "text": [
      "Traceback (most recent call last):\n",
      "  File \"<ipython-input-8-530adc215787>\", line 7, in house_rollcall_individual_parallel\n",
      "    obj.roll_call_single_to_psql(year, rollcall)\n",
      "  File \"/Users/benellis/Projects/congress/congress/etl/house_votes.py\", line 183, in roll_call_single_to_psql\n",
      "    df = self.roll_call_single(year, roll)\n",
      "  File \"/Users/benellis/Projects/congress/congress/etl/house_votes.py\", line 142, in roll_call_single\n",
      "    chamber = soup.find('chamber').text\n",
      "AttributeError: 'NoneType' object has no attribute 'text'\n"
     ]
    },
    {
     "name": "stdout",
     "output_type": "stream",
     "text": [
      "http://clerk.house.gov/evs/2007/roll114.xml\n"
     ]
    },
    {
     "name": "stderr",
     "output_type": "stream",
     "text": [
      "Traceback (most recent call last):\n",
      "  File \"<ipython-input-8-530adc215787>\", line 7, in house_rollcall_individual_parallel\n",
      "    obj.roll_call_single_to_psql(year, rollcall)\n",
      "  File \"/Users/benellis/Projects/congress/congress/etl/house_votes.py\", line 183, in roll_call_single_to_psql\n",
      "    df = self.roll_call_single(year, roll)\n",
      "  File \"/Users/benellis/Projects/congress/congress/etl/house_votes.py\", line 142, in roll_call_single\n",
      "    chamber = soup.find('chamber').text\n",
      "AttributeError: 'NoneType' object has no attribute 'text'\n"
     ]
    },
    {
     "name": "stdout",
     "output_type": "stream",
     "text": [
      "http://clerk.house.gov/evs/2007/roll113.xml\n",
      "http://clerk.house.gov/evs/2005/roll274.xml\n",
      "http://clerk.house.gov/evs/2003/roll228.xml\n",
      "http://clerk.house.gov/evs/2003/roll041.xml\n",
      "http://clerk.house.gov/evs/2007/roll112.xml\n",
      "http://clerk.house.gov/evs/2005/roll273.xml\n",
      "http://clerk.house.gov/evs/2003/roll227.xml\n",
      "http://clerk.house.gov/evs/2003/roll040.xml\n",
      "http://clerk.house.gov/evs/2007/roll111.xml\n",
      "http://clerk.house.gov/evs/2005/roll272.xml\n",
      "http://clerk.house.gov/evs/2003/roll226.xml\n",
      "http://clerk.house.gov/evs/2003/roll039.xml\n",
      "http://clerk.house.gov/evs/2007/roll110.xml\n",
      "http://clerk.house.gov/evs/2005/roll271.xml\n",
      "http://clerk.house.gov/evs/2003/roll225.xml\n",
      "http://clerk.house.gov/evs/2003/roll038.xml\n",
      "http://clerk.house.gov/evs/2007/roll109.xml\n",
      "http://clerk.house.gov/evs/2005/roll270.xml\n",
      "http://clerk.house.gov/evs/2003/roll224.xml\n",
      "http://clerk.house.gov/evs/2003/roll037.xml\n",
      "http://clerk.house.gov/evs/2007/roll108.xml\n"
     ]
    },
    {
     "name": "stderr",
     "output_type": "stream",
     "text": [
      "Traceback (most recent call last):\n",
      "  File \"<ipython-input-8-530adc215787>\", line 7, in house_rollcall_individual_parallel\n",
      "    obj.roll_call_single_to_psql(year, rollcall)\n",
      "  File \"/Users/benellis/Projects/congress/congress/etl/house_votes.py\", line 183, in roll_call_single_to_psql\n",
      "    df = self.roll_call_single(year, roll)\n",
      "  File \"/Users/benellis/Projects/congress/congress/etl/house_votes.py\", line 142, in roll_call_single\n",
      "    chamber = soup.find('chamber').text\n",
      "AttributeError: 'NoneType' object has no attribute 'text'\n"
     ]
    },
    {
     "name": "stdout",
     "output_type": "stream",
     "text": [
      "http://clerk.house.gov/evs/2007/roll107.xml\n",
      "http://clerk.house.gov/evs/2005/roll269.xml\n"
     ]
    },
    {
     "name": "stderr",
     "output_type": "stream",
     "text": [
      "Traceback (most recent call last):\n",
      "  File \"<ipython-input-8-530adc215787>\", line 7, in house_rollcall_individual_parallel\n",
      "    obj.roll_call_single_to_psql(year, rollcall)\n",
      "  File \"/Users/benellis/Projects/congress/congress/etl/house_votes.py\", line 183, in roll_call_single_to_psql\n",
      "    df = self.roll_call_single(year, roll)\n",
      "  File \"/Users/benellis/Projects/congress/congress/etl/house_votes.py\", line 142, in roll_call_single\n",
      "    chamber = soup.find('chamber').text\n",
      "AttributeError: 'NoneType' object has no attribute 'text'\n"
     ]
    },
    {
     "name": "stdout",
     "output_type": "stream",
     "text": [
      "http://clerk.house.gov/evs/2007/roll106.xml\n",
      "http://clerk.house.gov/evs/2003/roll223.xml\n"
     ]
    },
    {
     "name": "stderr",
     "output_type": "stream",
     "text": [
      "Traceback (most recent call last):\n",
      "  File \"<ipython-input-8-530adc215787>\", line 7, in house_rollcall_individual_parallel\n",
      "    obj.roll_call_single_to_psql(year, rollcall)\n",
      "  File \"/Users/benellis/Projects/congress/congress/etl/house_votes.py\", line 183, in roll_call_single_to_psql\n",
      "    df = self.roll_call_single(year, roll)\n",
      "  File \"/Users/benellis/Projects/congress/congress/etl/house_votes.py\", line 142, in roll_call_single\n",
      "    chamber = soup.find('chamber').text\n",
      "AttributeError: 'NoneType' object has no attribute 'text'\n"
     ]
    },
    {
     "name": "stdout",
     "output_type": "stream",
     "text": [
      "http://clerk.house.gov/evs/2007/roll105.xml\n",
      "http://clerk.house.gov/evs/2003/roll036.xml\n",
      "http://clerk.house.gov/evs/2005/roll268.xml\n",
      "http://clerk.house.gov/evs/2007/roll104.xml\n",
      "http://clerk.house.gov/evs/2003/roll222.xml\n",
      "http://clerk.house.gov/evs/2003/roll035.xml\n",
      "http://clerk.house.gov/evs/2005/roll267.xml\n",
      "http://clerk.house.gov/evs/2003/roll221.xml\n",
      "http://clerk.house.gov/evs/2007/roll103.xml\n",
      "http://clerk.house.gov/evs/2003/roll034.xml\n",
      "http://clerk.house.gov/evs/2005/roll266.xml\n",
      "http://clerk.house.gov/evs/2003/roll220.xml\n",
      "http://clerk.house.gov/evs/2007/roll102.xml\n",
      "http://clerk.house.gov/evs/2003/roll033.xml\n",
      "http://clerk.house.gov/evs/2005/roll265.xml\n",
      "http://clerk.house.gov/evs/2003/roll219.xml\n",
      "http://clerk.house.gov/evs/2007/roll101.xml\n",
      "http://clerk.house.gov/evs/2003/roll032.xml\n",
      "http://clerk.house.gov/evs/2003/roll218.xml\n",
      "http://clerk.house.gov/evs/2005/roll264.xml\n",
      "http://clerk.house.gov/evs/2007/roll100.xml\n",
      "http://clerk.house.gov/evs/2003/roll031.xml\n",
      "http://clerk.house.gov/evs/2003/roll217.xml\n",
      "http://clerk.house.gov/evs/2005/roll263.xml\n",
      "http://clerk.house.gov/evs/2007/roll299.xml\n",
      "http://clerk.house.gov/evs/2003/roll030.xml\n",
      "http://clerk.house.gov/evs/2003/roll216.xml\n",
      "http://clerk.house.gov/evs/2005/roll262.xml\n",
      "http://clerk.house.gov/evs/2007/roll298.xml\n",
      "http://clerk.house.gov/evs/2003/roll029.xml\n",
      "http://clerk.house.gov/evs/2003/roll215.xml\n",
      "http://clerk.house.gov/evs/2005/roll261.xml\n",
      "http://clerk.house.gov/evs/2007/roll297.xml\n",
      "http://clerk.house.gov/evs/2003/roll028.xml\n",
      "http://clerk.house.gov/evs/2003/roll214.xml\n",
      "http://clerk.house.gov/evs/2005/roll260.xml\n",
      "http://clerk.house.gov/evs/2007/roll296.xml\n",
      "http://clerk.house.gov/evs/2003/roll027.xml\n",
      "http://clerk.house.gov/evs/2003/roll213.xml\n",
      "http://clerk.house.gov/evs/2005/roll259.xml\n",
      "http://clerk.house.gov/evs/2007/roll295.xml\n",
      "http://clerk.house.gov/evs/2003/roll026.xml\n",
      "http://clerk.house.gov/evs/2003/roll212.xml\n",
      "http://clerk.house.gov/evs/2005/roll258.xml\n",
      "http://clerk.house.gov/evs/2007/roll294.xml\n",
      "http://clerk.house.gov/evs/2003/roll025.xml\n"
     ]
    },
    {
     "name": "stderr",
     "output_type": "stream",
     "text": [
      "Traceback (most recent call last):\n",
      "  File \"<ipython-input-8-530adc215787>\", line 7, in house_rollcall_individual_parallel\n",
      "    obj.roll_call_single_to_psql(year, rollcall)\n",
      "  File \"/Users/benellis/Projects/congress/congress/etl/house_votes.py\", line 183, in roll_call_single_to_psql\n",
      "    df = self.roll_call_single(year, roll)\n",
      "  File \"/Users/benellis/Projects/congress/congress/etl/house_votes.py\", line 142, in roll_call_single\n",
      "    chamber = soup.find('chamber').text\n",
      "AttributeError: 'NoneType' object has no attribute 'text'\n"
     ]
    },
    {
     "name": "stdout",
     "output_type": "stream",
     "text": [
      "http://clerk.house.gov/evs/2007/roll293.xml\n"
     ]
    },
    {
     "name": "stderr",
     "output_type": "stream",
     "text": [
      "Traceback (most recent call last):\n",
      "  File \"<ipython-input-8-530adc215787>\", line 7, in house_rollcall_individual_parallel\n",
      "    obj.roll_call_single_to_psql(year, rollcall)\n",
      "  File \"/Users/benellis/Projects/congress/congress/etl/house_votes.py\", line 183, in roll_call_single_to_psql\n",
      "    df = self.roll_call_single(year, roll)\n",
      "  File \"/Users/benellis/Projects/congress/congress/etl/house_votes.py\", line 142, in roll_call_single\n",
      "    chamber = soup.find('chamber').text\n",
      "AttributeError: 'NoneType' object has no attribute 'text'\n"
     ]
    },
    {
     "name": "stdout",
     "output_type": "stream",
     "text": [
      "http://clerk.house.gov/evs/2007/roll292.xml\n"
     ]
    },
    {
     "name": "stderr",
     "output_type": "stream",
     "text": [
      "Traceback (most recent call last):\n",
      "  File \"<ipython-input-8-530adc215787>\", line 7, in house_rollcall_individual_parallel\n",
      "    obj.roll_call_single_to_psql(year, rollcall)\n",
      "  File \"/Users/benellis/Projects/congress/congress/etl/house_votes.py\", line 183, in roll_call_single_to_psql\n",
      "    df = self.roll_call_single(year, roll)\n",
      "  File \"/Users/benellis/Projects/congress/congress/etl/house_votes.py\", line 142, in roll_call_single\n",
      "    chamber = soup.find('chamber').text\n",
      "AttributeError: 'NoneType' object has no attribute 'text'\n"
     ]
    },
    {
     "name": "stdout",
     "output_type": "stream",
     "text": [
      "http://clerk.house.gov/evs/2007/roll291.xml\n"
     ]
    },
    {
     "name": "stderr",
     "output_type": "stream",
     "text": [
      "Traceback (most recent call last):\n",
      "  File \"<ipython-input-8-530adc215787>\", line 7, in house_rollcall_individual_parallel\n",
      "    obj.roll_call_single_to_psql(year, rollcall)\n",
      "  File \"/Users/benellis/Projects/congress/congress/etl/house_votes.py\", line 183, in roll_call_single_to_psql\n",
      "    df = self.roll_call_single(year, roll)\n",
      "  File \"/Users/benellis/Projects/congress/congress/etl/house_votes.py\", line 142, in roll_call_single\n",
      "    chamber = soup.find('chamber').text\n",
      "AttributeError: 'NoneType' object has no attribute 'text'\n"
     ]
    },
    {
     "name": "stdout",
     "output_type": "stream",
     "text": [
      "http://clerk.house.gov/evs/2007/roll290.xml\n",
      "http://clerk.house.gov/evs/2003/roll211.xml\n",
      "http://clerk.house.gov/evs/2005/roll257.xml\n"
     ]
    },
    {
     "name": "stderr",
     "output_type": "stream",
     "text": [
      "Traceback (most recent call last):\n",
      "  File \"<ipython-input-8-530adc215787>\", line 7, in house_rollcall_individual_parallel\n",
      "    obj.roll_call_single_to_psql(year, rollcall)\n",
      "  File \"/Users/benellis/Projects/congress/congress/etl/house_votes.py\", line 183, in roll_call_single_to_psql\n",
      "    df = self.roll_call_single(year, roll)\n",
      "  File \"/Users/benellis/Projects/congress/congress/etl/house_votes.py\", line 142, in roll_call_single\n",
      "    chamber = soup.find('chamber').text\n",
      "AttributeError: 'NoneType' object has no attribute 'text'\n"
     ]
    },
    {
     "name": "stdout",
     "output_type": "stream",
     "text": [
      "http://clerk.house.gov/evs/2007/roll289.xml\n",
      "http://clerk.house.gov/evs/2003/roll024.xml\n"
     ]
    },
    {
     "name": "stderr",
     "output_type": "stream",
     "text": [
      "Traceback (most recent call last):\n",
      "  File \"<ipython-input-8-530adc215787>\", line 7, in house_rollcall_individual_parallel\n",
      "    obj.roll_call_single_to_psql(year, rollcall)\n",
      "  File \"/Users/benellis/Projects/congress/congress/etl/house_votes.py\", line 183, in roll_call_single_to_psql\n",
      "    df = self.roll_call_single(year, roll)\n",
      "  File \"/Users/benellis/Projects/congress/congress/etl/house_votes.py\", line 142, in roll_call_single\n",
      "    chamber = soup.find('chamber').text\n",
      "AttributeError: 'NoneType' object has no attribute 'text'\n"
     ]
    },
    {
     "name": "stdout",
     "output_type": "stream",
     "text": [
      "http://clerk.house.gov/evs/2007/roll288.xml\n"
     ]
    },
    {
     "name": "stderr",
     "output_type": "stream",
     "text": [
      "Traceback (most recent call last):\n",
      "  File \"<ipython-input-8-530adc215787>\", line 7, in house_rollcall_individual_parallel\n",
      "    obj.roll_call_single_to_psql(year, rollcall)\n",
      "  File \"/Users/benellis/Projects/congress/congress/etl/house_votes.py\", line 183, in roll_call_single_to_psql\n",
      "    df = self.roll_call_single(year, roll)\n",
      "  File \"/Users/benellis/Projects/congress/congress/etl/house_votes.py\", line 142, in roll_call_single\n",
      "    chamber = soup.find('chamber').text\n",
      "AttributeError: 'NoneType' object has no attribute 'text'\n"
     ]
    },
    {
     "name": "stdout",
     "output_type": "stream",
     "text": [
      "http://clerk.house.gov/evs/2007/roll287.xml\n"
     ]
    },
    {
     "name": "stderr",
     "output_type": "stream",
     "text": [
      "Traceback (most recent call last):\n",
      "  File \"<ipython-input-8-530adc215787>\", line 7, in house_rollcall_individual_parallel\n",
      "    obj.roll_call_single_to_psql(year, rollcall)\n",
      "  File \"/Users/benellis/Projects/congress/congress/etl/house_votes.py\", line 183, in roll_call_single_to_psql\n",
      "    df = self.roll_call_single(year, roll)\n",
      "  File \"/Users/benellis/Projects/congress/congress/etl/house_votes.py\", line 142, in roll_call_single\n",
      "    chamber = soup.find('chamber').text\n",
      "AttributeError: 'NoneType' object has no attribute 'text'\n"
     ]
    },
    {
     "name": "stdout",
     "output_type": "stream",
     "text": [
      "http://clerk.house.gov/evs/2007/roll286.xml\n",
      "http://clerk.house.gov/evs/2003/roll210.xml\n",
      "http://clerk.house.gov/evs/2005/roll256.xml\n",
      "http://clerk.house.gov/evs/2003/roll023.xml\n",
      "http://clerk.house.gov/evs/2007/roll285.xml\n",
      "http://clerk.house.gov/evs/2003/roll209.xml\n",
      "http://clerk.house.gov/evs/2005/roll255.xml\n",
      "http://clerk.house.gov/evs/2003/roll022.xml\n",
      "http://clerk.house.gov/evs/2007/roll284.xml\n",
      "http://clerk.house.gov/evs/2003/roll208.xml\n",
      "http://clerk.house.gov/evs/2005/roll254.xml\n",
      "http://clerk.house.gov/evs/2003/roll021.xml\n",
      "http://clerk.house.gov/evs/2007/roll283.xml\n"
     ]
    },
    {
     "name": "stderr",
     "output_type": "stream",
     "text": [
      "Traceback (most recent call last):\n",
      "  File \"<ipython-input-8-530adc215787>\", line 7, in house_rollcall_individual_parallel\n",
      "    obj.roll_call_single_to_psql(year, rollcall)\n",
      "  File \"/Users/benellis/Projects/congress/congress/etl/house_votes.py\", line 183, in roll_call_single_to_psql\n",
      "    df = self.roll_call_single(year, roll)\n",
      "  File \"/Users/benellis/Projects/congress/congress/etl/house_votes.py\", line 142, in roll_call_single\n",
      "    chamber = soup.find('chamber').text\n",
      "AttributeError: 'NoneType' object has no attribute 'text'\n"
     ]
    },
    {
     "name": "stdout",
     "output_type": "stream",
     "text": [
      "http://clerk.house.gov/evs/2007/roll282.xml\n"
     ]
    },
    {
     "name": "stderr",
     "output_type": "stream",
     "text": [
      "Traceback (most recent call last):\n",
      "  File \"<ipython-input-8-530adc215787>\", line 7, in house_rollcall_individual_parallel\n",
      "    obj.roll_call_single_to_psql(year, rollcall)\n",
      "  File \"/Users/benellis/Projects/congress/congress/etl/house_votes.py\", line 183, in roll_call_single_to_psql\n",
      "    df = self.roll_call_single(year, roll)\n",
      "  File \"/Users/benellis/Projects/congress/congress/etl/house_votes.py\", line 142, in roll_call_single\n",
      "    chamber = soup.find('chamber').text\n",
      "AttributeError: 'NoneType' object has no attribute 'text'\n"
     ]
    },
    {
     "name": "stdout",
     "output_type": "stream",
     "text": [
      "http://clerk.house.gov/evs/2007/roll281.xml\n"
     ]
    },
    {
     "name": "stderr",
     "output_type": "stream",
     "text": [
      "Traceback (most recent call last):\n",
      "  File \"<ipython-input-8-530adc215787>\", line 7, in house_rollcall_individual_parallel\n",
      "    obj.roll_call_single_to_psql(year, rollcall)\n",
      "  File \"/Users/benellis/Projects/congress/congress/etl/house_votes.py\", line 183, in roll_call_single_to_psql\n",
      "    df = self.roll_call_single(year, roll)\n",
      "  File \"/Users/benellis/Projects/congress/congress/etl/house_votes.py\", line 142, in roll_call_single\n",
      "    chamber = soup.find('chamber').text\n",
      "AttributeError: 'NoneType' object has no attribute 'text'\n"
     ]
    },
    {
     "name": "stdout",
     "output_type": "stream",
     "text": [
      "http://clerk.house.gov/evs/2007/roll280.xml\n",
      "http://clerk.house.gov/evs/2003/roll207.xml\n",
      "http://clerk.house.gov/evs/2005/roll253.xml\n"
     ]
    },
    {
     "name": "stderr",
     "output_type": "stream",
     "text": [
      "Traceback (most recent call last):\n",
      "  File \"<ipython-input-8-530adc215787>\", line 7, in house_rollcall_individual_parallel\n",
      "    obj.roll_call_single_to_psql(year, rollcall)\n",
      "  File \"/Users/benellis/Projects/congress/congress/etl/house_votes.py\", line 183, in roll_call_single_to_psql\n",
      "    df = self.roll_call_single(year, roll)\n",
      "  File \"/Users/benellis/Projects/congress/congress/etl/house_votes.py\", line 142, in roll_call_single\n",
      "    chamber = soup.find('chamber').text\n",
      "AttributeError: 'NoneType' object has no attribute 'text'\n"
     ]
    },
    {
     "name": "stdout",
     "output_type": "stream",
     "text": [
      "http://clerk.house.gov/evs/2007/roll279.xml\n",
      "http://clerk.house.gov/evs/2003/roll020.xml\n"
     ]
    },
    {
     "name": "stderr",
     "output_type": "stream",
     "text": [
      "Traceback (most recent call last):\n",
      "  File \"<ipython-input-8-530adc215787>\", line 7, in house_rollcall_individual_parallel\n",
      "    obj.roll_call_single_to_psql(year, rollcall)\n",
      "  File \"/Users/benellis/Projects/congress/congress/etl/house_votes.py\", line 183, in roll_call_single_to_psql\n",
      "    df = self.roll_call_single(year, roll)\n",
      "  File \"/Users/benellis/Projects/congress/congress/etl/house_votes.py\", line 142, in roll_call_single\n",
      "    chamber = soup.find('chamber').text\n",
      "AttributeError: 'NoneType' object has no attribute 'text'\n"
     ]
    },
    {
     "name": "stdout",
     "output_type": "stream",
     "text": [
      "http://clerk.house.gov/evs/2007/roll278.xml\n"
     ]
    },
    {
     "name": "stderr",
     "output_type": "stream",
     "text": [
      "Traceback (most recent call last):\n",
      "  File \"<ipython-input-8-530adc215787>\", line 7, in house_rollcall_individual_parallel\n",
      "    obj.roll_call_single_to_psql(year, rollcall)\n",
      "  File \"/Users/benellis/Projects/congress/congress/etl/house_votes.py\", line 183, in roll_call_single_to_psql\n",
      "    df = self.roll_call_single(year, roll)\n",
      "  File \"/Users/benellis/Projects/congress/congress/etl/house_votes.py\", line 142, in roll_call_single\n",
      "    chamber = soup.find('chamber').text\n",
      "AttributeError: 'NoneType' object has no attribute 'text'\n"
     ]
    },
    {
     "name": "stdout",
     "output_type": "stream",
     "text": [
      "http://clerk.house.gov/evs/2007/roll277.xml\n"
     ]
    },
    {
     "name": "stderr",
     "output_type": "stream",
     "text": [
      "Traceback (most recent call last):\n",
      "  File \"<ipython-input-8-530adc215787>\", line 7, in house_rollcall_individual_parallel\n",
      "    obj.roll_call_single_to_psql(year, rollcall)\n",
      "  File \"/Users/benellis/Projects/congress/congress/etl/house_votes.py\", line 183, in roll_call_single_to_psql\n",
      "    df = self.roll_call_single(year, roll)\n",
      "  File \"/Users/benellis/Projects/congress/congress/etl/house_votes.py\", line 142, in roll_call_single\n",
      "    chamber = soup.find('chamber').text\n",
      "AttributeError: 'NoneType' object has no attribute 'text'\n"
     ]
    },
    {
     "name": "stdout",
     "output_type": "stream",
     "text": [
      "http://clerk.house.gov/evs/2007/roll276.xml\n",
      "http://clerk.house.gov/evs/2003/roll206.xml\n",
      "http://clerk.house.gov/evs/2005/roll252.xml\n",
      "http://clerk.house.gov/evs/2003/roll019.xml\n",
      "http://clerk.house.gov/evs/2007/roll275.xml\n",
      "http://clerk.house.gov/evs/2003/roll205.xml\n",
      "http://clerk.house.gov/evs/2005/roll251.xml\n",
      "http://clerk.house.gov/evs/2003/roll018.xml\n",
      "http://clerk.house.gov/evs/2007/roll274.xml\n",
      "http://clerk.house.gov/evs/2003/roll204.xml\n",
      "http://clerk.house.gov/evs/2005/roll250.xml\n",
      "http://clerk.house.gov/evs/2003/roll017.xml\n",
      "http://clerk.house.gov/evs/2007/roll273.xml\n",
      "http://clerk.house.gov/evs/2003/roll203.xml\n",
      "http://clerk.house.gov/evs/2005/roll249.xml\n",
      "http://clerk.house.gov/evs/2003/roll016.xml\n",
      "http://clerk.house.gov/evs/2007/roll272.xml\n",
      "http://clerk.house.gov/evs/2003/roll202.xml\n",
      "http://clerk.house.gov/evs/2005/roll248.xml\n",
      "http://clerk.house.gov/evs/2003/roll015.xml\n",
      "http://clerk.house.gov/evs/2007/roll271.xml\n",
      "http://clerk.house.gov/evs/2003/roll201.xml\n",
      "http://clerk.house.gov/evs/2005/roll247.xml\n",
      "http://clerk.house.gov/evs/2003/roll014.xml\n",
      "http://clerk.house.gov/evs/2007/roll270.xml\n",
      "http://clerk.house.gov/evs/2003/roll200.xml\n",
      "http://clerk.house.gov/evs/2005/roll246.xml\n",
      "http://clerk.house.gov/evs/2003/roll013.xml\n",
      "http://clerk.house.gov/evs/2007/roll269.xml\n",
      "http://clerk.house.gov/evs/2003/roll399.xml\n",
      "http://clerk.house.gov/evs/2005/roll245.xml\n",
      "http://clerk.house.gov/evs/2007/roll268.xml\n",
      "http://clerk.house.gov/evs/2003/roll160.xml\n",
      "http://clerk.house.gov/evs/2003/roll398.xml\n",
      "http://clerk.house.gov/evs/2005/roll244.xml\n",
      "http://clerk.house.gov/evs/2003/roll012.xml\n",
      "http://clerk.house.gov/evs/2007/roll267.xml\n"
     ]
    },
    {
     "name": "stderr",
     "output_type": "stream",
     "text": [
      "Traceback (most recent call last):\n",
      "  File \"<ipython-input-8-530adc215787>\", line 7, in house_rollcall_individual_parallel\n",
      "    obj.roll_call_single_to_psql(year, rollcall)\n",
      "  File \"/Users/benellis/Projects/congress/congress/etl/house_votes.py\", line 183, in roll_call_single_to_psql\n",
      "    df = self.roll_call_single(year, roll)\n",
      "  File \"/Users/benellis/Projects/congress/congress/etl/house_votes.py\", line 142, in roll_call_single\n",
      "    chamber = soup.find('chamber').text\n",
      "AttributeError: 'NoneType' object has no attribute 'text'\n"
     ]
    },
    {
     "name": "stdout",
     "output_type": "stream",
     "text": [
      "http://clerk.house.gov/evs/2007/roll367.xml\n"
     ]
    },
    {
     "name": "stderr",
     "output_type": "stream",
     "text": [
      "Traceback (most recent call last):\n",
      "  File \"<ipython-input-8-530adc215787>\", line 7, in house_rollcall_individual_parallel\n",
      "    obj.roll_call_single_to_psql(year, rollcall)\n",
      "  File \"/Users/benellis/Projects/congress/congress/etl/house_votes.py\", line 183, in roll_call_single_to_psql\n",
      "    df = self.roll_call_single(year, roll)\n",
      "  File \"/Users/benellis/Projects/congress/congress/etl/house_votes.py\", line 142, in roll_call_single\n",
      "    chamber = soup.find('chamber').text\n",
      "AttributeError: 'NoneType' object has no attribute 'text'\n"
     ]
    },
    {
     "name": "stdout",
     "output_type": "stream",
     "text": [
      "http://clerk.house.gov/evs/2007/roll266.xml\n",
      "http://clerk.house.gov/evs/2003/roll397.xml\n",
      "http://clerk.house.gov/evs/2005/roll243.xml\n",
      "http://clerk.house.gov/evs/2003/roll011.xml\n",
      "http://clerk.house.gov/evs/2007/roll265.xml\n",
      "http://clerk.house.gov/evs/2003/roll396.xml\n",
      "http://clerk.house.gov/evs/2005/roll242.xml\n",
      "http://clerk.house.gov/evs/2003/roll010.xml\n",
      "http://clerk.house.gov/evs/2007/roll264.xml\n",
      "http://clerk.house.gov/evs/2003/roll395.xml\n",
      "http://clerk.house.gov/evs/2005/roll241.xml\n",
      "http://clerk.house.gov/evs/2003/roll008.xml\n",
      "http://clerk.house.gov/evs/2007/roll263.xml\n",
      "http://clerk.house.gov/evs/2003/roll394.xml\n",
      "http://clerk.house.gov/evs/2005/roll240.xml\n",
      "http://clerk.house.gov/evs/2003/roll007.xml\n",
      "http://clerk.house.gov/evs/2007/roll262.xml\n",
      "http://clerk.house.gov/evs/2003/roll393.xml\n",
      "http://clerk.house.gov/evs/2005/roll239.xml\n",
      "http://clerk.house.gov/evs/2003/roll006.xml\n",
      "http://clerk.house.gov/evs/2007/roll261.xml\n",
      "http://clerk.house.gov/evs/2003/roll392.xml\n",
      "http://clerk.house.gov/evs/2005/roll238.xml\n",
      "http://clerk.house.gov/evs/2003/roll005.xml\n",
      "http://clerk.house.gov/evs/2007/roll260.xml\n",
      "http://clerk.house.gov/evs/2003/roll391.xml\n",
      "http://clerk.house.gov/evs/2005/roll237.xml\n",
      "http://clerk.house.gov/evs/2003/roll004.xml\n",
      "http://clerk.house.gov/evs/2007/roll259.xml\n",
      "http://clerk.house.gov/evs/2003/roll390.xml\n",
      "http://clerk.house.gov/evs/2005/roll236.xml\n",
      "http://clerk.house.gov/evs/2003/roll003.xml\n",
      "http://clerk.house.gov/evs/2007/roll258.xml\n",
      "http://clerk.house.gov/evs/2003/roll389.xml\n",
      "http://clerk.house.gov/evs/2005/roll235.xml\n",
      "http://clerk.house.gov/evs/2003/roll199.xml\n",
      "http://clerk.house.gov/evs/2007/roll257.xml\n",
      "http://clerk.house.gov/evs/2003/roll388.xml\n",
      "http://clerk.house.gov/evs/2005/roll231.xml\n",
      "http://clerk.house.gov/evs/2003/roll198.xml\n",
      "http://clerk.house.gov/evs/2007/roll256.xml\n",
      "http://clerk.house.gov/evs/2003/roll387.xml\n",
      "http://clerk.house.gov/evs/2005/roll230.xml\n",
      "http://clerk.house.gov/evs/2003/roll197.xml\n",
      "http://clerk.house.gov/evs/2007/roll255.xml\n"
     ]
    },
    {
     "name": "stderr",
     "output_type": "stream",
     "text": [
      "Traceback (most recent call last):\n",
      "  File \"<ipython-input-8-530adc215787>\", line 7, in house_rollcall_individual_parallel\n",
      "    obj.roll_call_single_to_psql(year, rollcall)\n",
      "  File \"/Users/benellis/Projects/congress/congress/etl/house_votes.py\", line 183, in roll_call_single_to_psql\n",
      "    df = self.roll_call_single(year, roll)\n",
      "  File \"/Users/benellis/Projects/congress/congress/etl/house_votes.py\", line 142, in roll_call_single\n",
      "    chamber = soup.find('chamber').text\n",
      "AttributeError: 'NoneType' object has no attribute 'text'\n"
     ]
    },
    {
     "name": "stdout",
     "output_type": "stream",
     "text": [
      "http://clerk.house.gov/evs/2007/roll254.xml\n",
      "http://clerk.house.gov/evs/2003/roll386.xml\n",
      "http://clerk.house.gov/evs/2005/roll229.xml\n",
      "http://clerk.house.gov/evs/2003/roll196.xml\n",
      "http://clerk.house.gov/evs/2007/roll253.xml\n",
      "http://clerk.house.gov/evs/2003/roll385.xml\n",
      "http://clerk.house.gov/evs/2005/roll228.xml\n",
      "http://clerk.house.gov/evs/2003/roll195.xml\n",
      "http://clerk.house.gov/evs/2007/roll252.xml\n",
      "http://clerk.house.gov/evs/2003/roll384.xml\n",
      "http://clerk.house.gov/evs/2005/roll227.xml\n",
      "http://clerk.house.gov/evs/2003/roll194.xml\n",
      "http://clerk.house.gov/evs/2007/roll251.xml\n",
      "http://clerk.house.gov/evs/2003/roll383.xml\n",
      "http://clerk.house.gov/evs/2005/roll226.xml\n",
      "http://clerk.house.gov/evs/2003/roll193.xml\n",
      "http://clerk.house.gov/evs/2007/roll250.xml\n",
      "http://clerk.house.gov/evs/2003/roll382.xml\n",
      "http://clerk.house.gov/evs/2005/roll225.xml\n",
      "http://clerk.house.gov/evs/2003/roll192.xml\n",
      "http://clerk.house.gov/evs/2007/roll249.xml\n",
      "http://clerk.house.gov/evs/2003/roll381.xml\n",
      "http://clerk.house.gov/evs/2005/roll224.xml\n",
      "http://clerk.house.gov/evs/2003/roll191.xml\n",
      "http://clerk.house.gov/evs/2007/roll248.xml\n",
      "http://clerk.house.gov/evs/2003/roll380.xml\n",
      "http://clerk.house.gov/evs/2005/roll223.xml\n",
      "http://clerk.house.gov/evs/2003/roll190.xml\n",
      "http://clerk.house.gov/evs/2007/roll247.xml\n",
      "http://clerk.house.gov/evs/2003/roll379.xml\n",
      "http://clerk.house.gov/evs/2005/roll222.xml\n",
      "http://clerk.house.gov/evs/2003/roll189.xml\n",
      "http://clerk.house.gov/evs/2007/roll246.xml\n",
      "http://clerk.house.gov/evs/2003/roll378.xml\n",
      "http://clerk.house.gov/evs/2005/roll221.xml\n",
      "http://clerk.house.gov/evs/2003/roll188.xml\n",
      "http://clerk.house.gov/evs/2007/roll245.xml\n",
      "http://clerk.house.gov/evs/2003/roll377.xml\n",
      "http://clerk.house.gov/evs/2005/roll220.xml\n",
      "http://clerk.house.gov/evs/2003/roll187.xml\n",
      "http://clerk.house.gov/evs/2007/roll244.xml\n",
      "http://clerk.house.gov/evs/2003/roll376.xml\n",
      "http://clerk.house.gov/evs/2005/roll219.xml\n",
      "http://clerk.house.gov/evs/2003/roll186.xml\n",
      "http://clerk.house.gov/evs/2007/roll243.xml\n",
      "http://clerk.house.gov/evs/2003/roll375.xml\n",
      "http://clerk.house.gov/evs/2005/roll218.xml\n",
      "http://clerk.house.gov/evs/2003/roll185.xml\n",
      "http://clerk.house.gov/evs/2007/roll242.xml\n"
     ]
    },
    {
     "name": "stderr",
     "output_type": "stream",
     "text": [
      "Traceback (most recent call last):\n",
      "  File \"<ipython-input-8-530adc215787>\", line 7, in house_rollcall_individual_parallel\n",
      "    obj.roll_call_single_to_psql(year, rollcall)\n",
      "  File \"/Users/benellis/Projects/congress/congress/etl/house_votes.py\", line 183, in roll_call_single_to_psql\n",
      "    df = self.roll_call_single(year, roll)\n",
      "  File \"/Users/benellis/Projects/congress/congress/etl/house_votes.py\", line 142, in roll_call_single\n",
      "    chamber = soup.find('chamber').text\n",
      "AttributeError: 'NoneType' object has no attribute 'text'\n"
     ]
    },
    {
     "name": "stdout",
     "output_type": "stream",
     "text": [
      "http://clerk.house.gov/evs/2007/roll241.xml\n"
     ]
    },
    {
     "name": "stderr",
     "output_type": "stream",
     "text": [
      "Traceback (most recent call last):\n",
      "  File \"<ipython-input-8-530adc215787>\", line 7, in house_rollcall_individual_parallel\n",
      "    obj.roll_call_single_to_psql(year, rollcall)\n",
      "  File \"/Users/benellis/Projects/congress/congress/etl/house_votes.py\", line 183, in roll_call_single_to_psql\n",
      "    df = self.roll_call_single(year, roll)\n",
      "  File \"/Users/benellis/Projects/congress/congress/etl/house_votes.py\", line 142, in roll_call_single\n",
      "    chamber = soup.find('chamber').text\n",
      "AttributeError: 'NoneType' object has no attribute 'text'\n"
     ]
    },
    {
     "name": "stdout",
     "output_type": "stream",
     "text": [
      "http://clerk.house.gov/evs/2007/roll240.xml\n",
      "http://clerk.house.gov/evs/2003/roll374.xml\n"
     ]
    },
    {
     "name": "stderr",
     "output_type": "stream",
     "text": [
      "Traceback (most recent call last):\n",
      "  File \"<ipython-input-8-530adc215787>\", line 7, in house_rollcall_individual_parallel\n",
      "    obj.roll_call_single_to_psql(year, rollcall)\n",
      "  File \"/Users/benellis/Projects/congress/congress/etl/house_votes.py\", line 183, in roll_call_single_to_psql\n",
      "    df = self.roll_call_single(year, roll)\n",
      "  File \"/Users/benellis/Projects/congress/congress/etl/house_votes.py\", line 142, in roll_call_single\n",
      "    chamber = soup.find('chamber').text\n",
      "AttributeError: 'NoneType' object has no attribute 'text'\n"
     ]
    },
    {
     "name": "stdout",
     "output_type": "stream",
     "text": [
      "http://clerk.house.gov/evs/2007/roll239.xml\n"
     ]
    },
    {
     "name": "stderr",
     "output_type": "stream",
     "text": [
      "Traceback (most recent call last):\n",
      "  File \"<ipython-input-8-530adc215787>\", line 7, in house_rollcall_individual_parallel\n",
      "    obj.roll_call_single_to_psql(year, rollcall)\n",
      "  File \"/Users/benellis/Projects/congress/congress/etl/house_votes.py\", line 183, in roll_call_single_to_psql\n",
      "    df = self.roll_call_single(year, roll)\n",
      "  File \"/Users/benellis/Projects/congress/congress/etl/house_votes.py\", line 142, in roll_call_single\n",
      "    chamber = soup.find('chamber').text\n",
      "AttributeError: 'NoneType' object has no attribute 'text'\n"
     ]
    },
    {
     "name": "stdout",
     "output_type": "stream",
     "text": [
      "http://clerk.house.gov/evs/2007/roll238.xml\n",
      "http://clerk.house.gov/evs/2005/roll217.xml\n",
      "http://clerk.house.gov/evs/2003/roll184.xml\n"
     ]
    },
    {
     "name": "stderr",
     "output_type": "stream",
     "text": [
      "Traceback (most recent call last):\n",
      "  File \"<ipython-input-8-530adc215787>\", line 7, in house_rollcall_individual_parallel\n",
      "    obj.roll_call_single_to_psql(year, rollcall)\n",
      "  File \"/Users/benellis/Projects/congress/congress/etl/house_votes.py\", line 183, in roll_call_single_to_psql\n",
      "    df = self.roll_call_single(year, roll)\n",
      "  File \"/Users/benellis/Projects/congress/congress/etl/house_votes.py\", line 142, in roll_call_single\n",
      "    chamber = soup.find('chamber').text\n",
      "AttributeError: 'NoneType' object has no attribute 'text'\n"
     ]
    },
    {
     "name": "stdout",
     "output_type": "stream",
     "text": [
      "http://clerk.house.gov/evs/2007/roll237.xml\n"
     ]
    },
    {
     "name": "stderr",
     "output_type": "stream",
     "text": [
      "Traceback (most recent call last):\n",
      "  File \"<ipython-input-8-530adc215787>\", line 7, in house_rollcall_individual_parallel\n",
      "    obj.roll_call_single_to_psql(year, rollcall)\n",
      "  File \"/Users/benellis/Projects/congress/congress/etl/house_votes.py\", line 183, in roll_call_single_to_psql\n",
      "    df = self.roll_call_single(year, roll)\n",
      "  File \"/Users/benellis/Projects/congress/congress/etl/house_votes.py\", line 142, in roll_call_single\n",
      "    chamber = soup.find('chamber').text\n",
      "AttributeError: 'NoneType' object has no attribute 'text'\n"
     ]
    },
    {
     "name": "stdout",
     "output_type": "stream",
     "text": [
      "http://clerk.house.gov/evs/2007/roll236.xml\n"
     ]
    },
    {
     "name": "stderr",
     "output_type": "stream",
     "text": [
      "Traceback (most recent call last):\n",
      "  File \"<ipython-input-8-530adc215787>\", line 7, in house_rollcall_individual_parallel\n",
      "    obj.roll_call_single_to_psql(year, rollcall)\n",
      "  File \"/Users/benellis/Projects/congress/congress/etl/house_votes.py\", line 183, in roll_call_single_to_psql\n",
      "    df = self.roll_call_single(year, roll)\n",
      "  File \"/Users/benellis/Projects/congress/congress/etl/house_votes.py\", line 142, in roll_call_single\n",
      "    chamber = soup.find('chamber').text\n",
      "AttributeError: 'NoneType' object has no attribute 'text'\n"
     ]
    },
    {
     "name": "stdout",
     "output_type": "stream",
     "text": [
      "http://clerk.house.gov/evs/2007/roll235.xml\n",
      "http://clerk.house.gov/evs/2003/roll373.xml\n",
      "http://clerk.house.gov/evs/2005/roll216.xml\n",
      "http://clerk.house.gov/evs/2003/roll183.xml\n",
      "http://clerk.house.gov/evs/2007/roll234.xml\n",
      "http://clerk.house.gov/evs/2003/roll372.xml\n",
      "http://clerk.house.gov/evs/2003/roll182.xml\n",
      "http://clerk.house.gov/evs/2005/roll215.xml\n",
      "http://clerk.house.gov/evs/2007/roll233.xml\n",
      "http://clerk.house.gov/evs/2003/roll371.xml\n",
      "http://clerk.house.gov/evs/2003/roll181.xml\n",
      "http://clerk.house.gov/evs/2005/roll214.xml\n",
      "http://clerk.house.gov/evs/2007/roll232.xml\n",
      "http://clerk.house.gov/evs/2003/roll370.xml\n",
      "http://clerk.house.gov/evs/2003/roll180.xml\n",
      "http://clerk.house.gov/evs/2005/roll213.xml\n",
      "http://clerk.house.gov/evs/2007/roll231.xml\n",
      "http://clerk.house.gov/evs/2003/roll369.xml\n",
      "http://clerk.house.gov/evs/2003/roll179.xml\n",
      "http://clerk.house.gov/evs/2005/roll212.xml\n",
      "http://clerk.house.gov/evs/2007/roll230.xml\n",
      "http://clerk.house.gov/evs/2003/roll368.xml\n",
      "http://clerk.house.gov/evs/2003/roll178.xml\n",
      "http://clerk.house.gov/evs/2005/roll211.xml\n",
      "http://clerk.house.gov/evs/2007/roll229.xml\n",
      "http://clerk.house.gov/evs/2003/roll367.xml\n",
      "http://clerk.house.gov/evs/2003/roll176.xml\n",
      "http://clerk.house.gov/evs/2005/roll210.xml\n",
      "http://clerk.house.gov/evs/2007/roll228.xml\n",
      "http://clerk.house.gov/evs/2003/roll366.xml\n",
      "http://clerk.house.gov/evs/2003/roll175.xml\n",
      "http://clerk.house.gov/evs/2005/roll209.xml\n",
      "http://clerk.house.gov/evs/2007/roll227.xml\n",
      "http://clerk.house.gov/evs/2003/roll365.xml\n",
      "http://clerk.house.gov/evs/2003/roll174.xml\n",
      "http://clerk.house.gov/evs/2005/roll208.xml\n",
      "http://clerk.house.gov/evs/2007/roll226.xml\n",
      "http://clerk.house.gov/evs/2003/roll364.xml\n",
      "http://clerk.house.gov/evs/2003/roll173.xml\n",
      "http://clerk.house.gov/evs/2005/roll207.xml\n",
      "http://clerk.house.gov/evs/2007/roll225.xml\n",
      "http://clerk.house.gov/evs/2003/roll363.xml\n",
      "http://clerk.house.gov/evs/2003/roll172.xml\n",
      "http://clerk.house.gov/evs/2005/roll206.xml\n",
      "http://clerk.house.gov/evs/2007/roll224.xml\n",
      "http://clerk.house.gov/evs/2003/roll362.xml\n",
      "http://clerk.house.gov/evs/2003/roll171.xml\n",
      "http://clerk.house.gov/evs/2005/roll205.xml\n",
      "http://clerk.house.gov/evs/2007/roll223.xml\n"
     ]
    },
    {
     "name": "stderr",
     "output_type": "stream",
     "text": [
      "Traceback (most recent call last):\n",
      "  File \"<ipython-input-8-530adc215787>\", line 7, in house_rollcall_individual_parallel\n",
      "    obj.roll_call_single_to_psql(year, rollcall)\n",
      "  File \"/Users/benellis/Projects/congress/congress/etl/house_votes.py\", line 183, in roll_call_single_to_psql\n",
      "    df = self.roll_call_single(year, roll)\n",
      "  File \"/Users/benellis/Projects/congress/congress/etl/house_votes.py\", line 142, in roll_call_single\n",
      "    chamber = soup.find('chamber').text\n",
      "AttributeError: 'NoneType' object has no attribute 'text'\n"
     ]
    },
    {
     "name": "stdout",
     "output_type": "stream",
     "text": [
      "http://clerk.house.gov/evs/2007/roll222.xml\n",
      "http://clerk.house.gov/evs/2003/roll361.xml\n"
     ]
    },
    {
     "name": "stderr",
     "output_type": "stream",
     "text": [
      "Traceback (most recent call last):\n",
      "  File \"<ipython-input-8-530adc215787>\", line 7, in house_rollcall_individual_parallel\n",
      "    obj.roll_call_single_to_psql(year, rollcall)\n",
      "  File \"/Users/benellis/Projects/congress/congress/etl/house_votes.py\", line 183, in roll_call_single_to_psql\n",
      "    df = self.roll_call_single(year, roll)\n",
      "  File \"/Users/benellis/Projects/congress/congress/etl/house_votes.py\", line 142, in roll_call_single\n",
      "    chamber = soup.find('chamber').text\n",
      "AttributeError: 'NoneType' object has no attribute 'text'\n"
     ]
    },
    {
     "name": "stdout",
     "output_type": "stream",
     "text": [
      "http://clerk.house.gov/evs/2007/roll221.xml\n",
      "http://clerk.house.gov/evs/2003/roll170.xml\n",
      "http://clerk.house.gov/evs/2005/roll204.xml\n",
      "http://clerk.house.gov/evs/2003/roll360.xml\n",
      "http://clerk.house.gov/evs/2007/roll220.xml\n",
      "http://clerk.house.gov/evs/2003/roll169.xml\n",
      "http://clerk.house.gov/evs/2005/roll203.xml\n",
      "http://clerk.house.gov/evs/2003/roll359.xml\n",
      "http://clerk.house.gov/evs/2007/roll219.xml\n",
      "http://clerk.house.gov/evs/2003/roll168.xml\n",
      "http://clerk.house.gov/evs/2005/roll202.xml\n",
      "http://clerk.house.gov/evs/2003/roll358.xml\n",
      "http://clerk.house.gov/evs/2007/roll218.xml\n",
      "http://clerk.house.gov/evs/2003/roll167.xml\n",
      "http://clerk.house.gov/evs/2005/roll201.xml\n",
      "http://clerk.house.gov/evs/2003/roll357.xml\n",
      "http://clerk.house.gov/evs/2007/roll217.xml\n",
      "http://clerk.house.gov/evs/2005/roll200.xml\n",
      "http://clerk.house.gov/evs/2003/roll166.xml\n",
      "http://clerk.house.gov/evs/2003/roll356.xml\n",
      "http://clerk.house.gov/evs/2007/roll216.xml\n",
      "http://clerk.house.gov/evs/2005/roll399.xml\n",
      "http://clerk.house.gov/evs/2003/roll165.xml\n",
      "http://clerk.house.gov/evs/2003/roll355.xml\n",
      "http://clerk.house.gov/evs/2007/roll215.xml\n",
      "http://clerk.house.gov/evs/2003/roll164.xml\n",
      "http://clerk.house.gov/evs/2005/roll398.xml\n",
      "http://clerk.house.gov/evs/2003/roll354.xml\n",
      "http://clerk.house.gov/evs/2007/roll214.xml\n",
      "http://clerk.house.gov/evs/2005/roll397.xml\n",
      "http://clerk.house.gov/evs/2003/roll163.xml\n",
      "http://clerk.house.gov/evs/2003/roll353.xml\n",
      "http://clerk.house.gov/evs/2007/roll213.xml\n",
      "http://clerk.house.gov/evs/2005/roll396.xml\n",
      "http://clerk.house.gov/evs/2003/roll162.xml\n",
      "http://clerk.house.gov/evs/2003/roll352.xml\n",
      "http://clerk.house.gov/evs/2007/roll212.xml\n",
      "http://clerk.house.gov/evs/2005/roll395.xml\n",
      "http://clerk.house.gov/evs/2003/roll161.xml\n",
      "http://clerk.house.gov/evs/2003/roll351.xml\n",
      "http://clerk.house.gov/evs/2007/roll211.xml\n"
     ]
    },
    {
     "name": "stderr",
     "output_type": "stream",
     "text": [
      "Traceback (most recent call last):\n",
      "  File \"<ipython-input-8-530adc215787>\", line 7, in house_rollcall_individual_parallel\n",
      "    obj.roll_call_single_to_psql(year, rollcall)\n",
      "  File \"/Users/benellis/Projects/congress/congress/etl/house_votes.py\", line 183, in roll_call_single_to_psql\n",
      "    df = self.roll_call_single(year, roll)\n",
      "  File \"/Users/benellis/Projects/congress/congress/etl/house_votes.py\", line 142, in roll_call_single\n",
      "    chamber = soup.find('chamber').text\n",
      "AttributeError: 'NoneType' object has no attribute 'text'\n"
     ]
    },
    {
     "name": "stdout",
     "output_type": "stream",
     "text": [
      "http://clerk.house.gov/evs/2007/roll210.xml\n",
      "http://clerk.house.gov/evs/2003/roll159.xml\n",
      "http://clerk.house.gov/evs/2005/roll394.xml\n"
     ]
    },
    {
     "name": "stderr",
     "output_type": "stream",
     "text": [
      "Traceback (most recent call last):\n",
      "  File \"<ipython-input-8-530adc215787>\", line 7, in house_rollcall_individual_parallel\n",
      "    obj.roll_call_single_to_psql(year, rollcall)\n",
      "  File \"/Users/benellis/Projects/congress/congress/etl/house_votes.py\", line 183, in roll_call_single_to_psql\n",
      "    df = self.roll_call_single(year, roll)\n",
      "  File \"/Users/benellis/Projects/congress/congress/etl/house_votes.py\", line 142, in roll_call_single\n",
      "    chamber = soup.find('chamber').text\n",
      "AttributeError: 'NoneType' object has no attribute 'text'\n"
     ]
    },
    {
     "name": "stdout",
     "output_type": "stream",
     "text": [
      "http://clerk.house.gov/evs/2007/roll209.xml\n"
     ]
    },
    {
     "name": "stderr",
     "output_type": "stream",
     "text": [
      "Traceback (most recent call last):\n",
      "  File \"<ipython-input-8-530adc215787>\", line 7, in house_rollcall_individual_parallel\n",
      "    obj.roll_call_single_to_psql(year, rollcall)\n",
      "  File \"/Users/benellis/Projects/congress/congress/etl/house_votes.py\", line 183, in roll_call_single_to_psql\n",
      "    df = self.roll_call_single(year, roll)\n",
      "  File \"/Users/benellis/Projects/congress/congress/etl/house_votes.py\", line 142, in roll_call_single\n",
      "    chamber = soup.find('chamber').text\n",
      "AttributeError: 'NoneType' object has no attribute 'text'\n"
     ]
    },
    {
     "name": "stdout",
     "output_type": "stream",
     "text": [
      "http://clerk.house.gov/evs/2007/roll208.xml\n",
      "http://clerk.house.gov/evs/2003/roll350.xml\n",
      "http://clerk.house.gov/evs/2003/roll158.xml\n",
      "http://clerk.house.gov/evs/2005/roll393.xml\n",
      "http://clerk.house.gov/evs/2007/roll207.xml\n",
      "http://clerk.house.gov/evs/2003/roll349.xml\n",
      "http://clerk.house.gov/evs/2003/roll157.xml\n",
      "http://clerk.house.gov/evs/2005/roll392.xml\n",
      "http://clerk.house.gov/evs/2007/roll206.xml\n"
     ]
    },
    {
     "name": "stderr",
     "output_type": "stream",
     "text": [
      "Traceback (most recent call last):\n",
      "  File \"<ipython-input-8-530adc215787>\", line 7, in house_rollcall_individual_parallel\n",
      "    obj.roll_call_single_to_psql(year, rollcall)\n",
      "  File \"/Users/benellis/Projects/congress/congress/etl/house_votes.py\", line 183, in roll_call_single_to_psql\n",
      "    df = self.roll_call_single(year, roll)\n",
      "  File \"/Users/benellis/Projects/congress/congress/etl/house_votes.py\", line 142, in roll_call_single\n",
      "    chamber = soup.find('chamber').text\n",
      "AttributeError: 'NoneType' object has no attribute 'text'\n"
     ]
    },
    {
     "name": "stdout",
     "output_type": "stream",
     "text": [
      "http://clerk.house.gov/evs/2007/roll205.xml\n",
      "http://clerk.house.gov/evs/2003/roll348.xml\n",
      "http://clerk.house.gov/evs/2005/roll391.xml\n",
      "http://clerk.house.gov/evs/2003/roll156.xml\n",
      "http://clerk.house.gov/evs/2007/roll204.xml\n",
      "http://clerk.house.gov/evs/2003/roll347.xml\n",
      "http://clerk.house.gov/evs/2005/roll390.xml\n",
      "http://clerk.house.gov/evs/2003/roll155.xml\n",
      "http://clerk.house.gov/evs/2007/roll203.xml\n",
      "http://clerk.house.gov/evs/2003/roll345.xml\n",
      "http://clerk.house.gov/evs/2005/roll389.xml\n",
      "http://clerk.house.gov/evs/2003/roll154.xml\n",
      "http://clerk.house.gov/evs/2007/roll202.xml\n",
      "http://clerk.house.gov/evs/2003/roll343.xml\n",
      "http://clerk.house.gov/evs/2005/roll388.xml\n",
      "http://clerk.house.gov/evs/2003/roll153.xml\n",
      "http://clerk.house.gov/evs/2003/roll342.xml\n",
      "http://clerk.house.gov/evs/2007/roll201.xml\n",
      "http://clerk.house.gov/evs/2005/roll387.xml\n",
      "http://clerk.house.gov/evs/2003/roll152.xml\n",
      "http://clerk.house.gov/evs/2003/roll341.xml\n",
      "http://clerk.house.gov/evs/2007/roll200.xml\n",
      "http://clerk.house.gov/evs/2005/roll386.xml\n",
      "http://clerk.house.gov/evs/2003/roll151.xml\n",
      "http://clerk.house.gov/evs/2003/roll340.xml\n",
      "http://clerk.house.gov/evs/2007/roll399.xml\n",
      "http://clerk.house.gov/evs/2005/roll385.xml\n",
      "http://clerk.house.gov/evs/2003/roll150.xml\n",
      "http://clerk.house.gov/evs/2003/roll339.xml\n",
      "http://clerk.house.gov/evs/2007/roll398.xml\n",
      "http://clerk.house.gov/evs/2005/roll384.xml\n",
      "http://clerk.house.gov/evs/2003/roll149.xml\n",
      "http://clerk.house.gov/evs/2003/roll338.xml\n",
      "http://clerk.house.gov/evs/2007/roll397.xml\n",
      "http://clerk.house.gov/evs/2005/roll383.xml\n",
      "http://clerk.house.gov/evs/2003/roll148.xml\n",
      "http://clerk.house.gov/evs/2003/roll337.xml\n",
      "http://clerk.house.gov/evs/2007/roll396.xml\n",
      "http://clerk.house.gov/evs/2005/roll382.xml\n",
      "http://clerk.house.gov/evs/2003/roll147.xml\n",
      "http://clerk.house.gov/evs/2003/roll336.xml\n",
      "http://clerk.house.gov/evs/2007/roll395.xml\n",
      "http://clerk.house.gov/evs/2005/roll381.xml\n",
      "http://clerk.house.gov/evs/2003/roll146.xml\n",
      "http://clerk.house.gov/evs/2003/roll335.xml\n",
      "http://clerk.house.gov/evs/2007/roll394.xml\n",
      "http://clerk.house.gov/evs/2005/roll380.xml\n",
      "http://clerk.house.gov/evs/2003/roll145.xml\n",
      "http://clerk.house.gov/evs/2003/roll334.xml\n",
      "http://clerk.house.gov/evs/2007/roll393.xml\n"
     ]
    },
    {
     "name": "stderr",
     "output_type": "stream",
     "text": [
      "Traceback (most recent call last):\n",
      "  File \"<ipython-input-8-530adc215787>\", line 7, in house_rollcall_individual_parallel\n",
      "    obj.roll_call_single_to_psql(year, rollcall)\n",
      "  File \"/Users/benellis/Projects/congress/congress/etl/house_votes.py\", line 183, in roll_call_single_to_psql\n",
      "    df = self.roll_call_single(year, roll)\n",
      "  File \"/Users/benellis/Projects/congress/congress/etl/house_votes.py\", line 142, in roll_call_single\n",
      "    chamber = soup.find('chamber').text\n",
      "AttributeError: 'NoneType' object has no attribute 'text'\n"
     ]
    },
    {
     "name": "stdout",
     "output_type": "stream",
     "text": [
      "http://clerk.house.gov/evs/2007/roll392.xml\n"
     ]
    },
    {
     "name": "stderr",
     "output_type": "stream",
     "text": [
      "Traceback (most recent call last):\n",
      "  File \"<ipython-input-8-530adc215787>\", line 7, in house_rollcall_individual_parallel\n",
      "    obj.roll_call_single_to_psql(year, rollcall)\n",
      "  File \"/Users/benellis/Projects/congress/congress/etl/house_votes.py\", line 183, in roll_call_single_to_psql\n",
      "    df = self.roll_call_single(year, roll)\n",
      "  File \"/Users/benellis/Projects/congress/congress/etl/house_votes.py\", line 142, in roll_call_single\n",
      "    chamber = soup.find('chamber').text\n",
      "AttributeError: 'NoneType' object has no attribute 'text'\n"
     ]
    },
    {
     "name": "stdout",
     "output_type": "stream",
     "text": [
      "http://clerk.house.gov/evs/2007/roll391.xml\n"
     ]
    },
    {
     "name": "stderr",
     "output_type": "stream",
     "text": [
      "Traceback (most recent call last):\n",
      "  File \"<ipython-input-8-530adc215787>\", line 7, in house_rollcall_individual_parallel\n",
      "    obj.roll_call_single_to_psql(year, rollcall)\n",
      "  File \"/Users/benellis/Projects/congress/congress/etl/house_votes.py\", line 183, in roll_call_single_to_psql\n",
      "    df = self.roll_call_single(year, roll)\n",
      "  File \"/Users/benellis/Projects/congress/congress/etl/house_votes.py\", line 142, in roll_call_single\n",
      "    chamber = soup.find('chamber').text\n",
      "AttributeError: 'NoneType' object has no attribute 'text'\n"
     ]
    },
    {
     "name": "stdout",
     "output_type": "stream",
     "text": [
      "http://clerk.house.gov/evs/2007/roll390.xml\n",
      "http://clerk.house.gov/evs/2005/roll379.xml\n"
     ]
    },
    {
     "name": "stderr",
     "output_type": "stream",
     "text": [
      "Traceback (most recent call last):\n",
      "  File \"<ipython-input-8-530adc215787>\", line 7, in house_rollcall_individual_parallel\n",
      "    obj.roll_call_single_to_psql(year, rollcall)\n",
      "  File \"/Users/benellis/Projects/congress/congress/etl/house_votes.py\", line 183, in roll_call_single_to_psql\n",
      "    df = self.roll_call_single(year, roll)\n",
      "  File \"/Users/benellis/Projects/congress/congress/etl/house_votes.py\", line 142, in roll_call_single\n",
      "    chamber = soup.find('chamber').text\n",
      "AttributeError: 'NoneType' object has no attribute 'text'\n"
     ]
    },
    {
     "name": "stdout",
     "output_type": "stream",
     "text": [
      "http://clerk.house.gov/evs/2007/roll389.xml\n",
      "http://clerk.house.gov/evs/2003/roll144.xml\n"
     ]
    },
    {
     "name": "stderr",
     "output_type": "stream",
     "text": [
      "Traceback (most recent call last):\n",
      "  File \"<ipython-input-8-530adc215787>\", line 7, in house_rollcall_individual_parallel\n",
      "    obj.roll_call_single_to_psql(year, rollcall)\n",
      "  File \"/Users/benellis/Projects/congress/congress/etl/house_votes.py\", line 183, in roll_call_single_to_psql\n",
      "    df = self.roll_call_single(year, roll)\n",
      "  File \"/Users/benellis/Projects/congress/congress/etl/house_votes.py\", line 142, in roll_call_single\n",
      "    chamber = soup.find('chamber').text\n",
      "AttributeError: 'NoneType' object has no attribute 'text'\n"
     ]
    },
    {
     "name": "stdout",
     "output_type": "stream",
     "text": [
      "http://clerk.house.gov/evs/2007/roll388.xml\n",
      "http://clerk.house.gov/evs/2003/roll333.xml\n"
     ]
    },
    {
     "name": "stderr",
     "output_type": "stream",
     "text": [
      "Traceback (most recent call last):\n",
      "  File \"<ipython-input-8-530adc215787>\", line 7, in house_rollcall_individual_parallel\n",
      "    obj.roll_call_single_to_psql(year, rollcall)\n",
      "  File \"/Users/benellis/Projects/congress/congress/etl/house_votes.py\", line 183, in roll_call_single_to_psql\n",
      "    df = self.roll_call_single(year, roll)\n",
      "  File \"/Users/benellis/Projects/congress/congress/etl/house_votes.py\", line 142, in roll_call_single\n",
      "    chamber = soup.find('chamber').text\n",
      "AttributeError: 'NoneType' object has no attribute 'text'\n"
     ]
    },
    {
     "name": "stdout",
     "output_type": "stream",
     "text": [
      "http://clerk.house.gov/evs/2007/roll387.xml\n"
     ]
    },
    {
     "name": "stderr",
     "output_type": "stream",
     "text": [
      "Traceback (most recent call last):\n",
      "  File \"<ipython-input-8-530adc215787>\", line 7, in house_rollcall_individual_parallel\n",
      "    obj.roll_call_single_to_psql(year, rollcall)\n",
      "  File \"/Users/benellis/Projects/congress/congress/etl/house_votes.py\", line 183, in roll_call_single_to_psql\n",
      "    df = self.roll_call_single(year, roll)\n",
      "  File \"/Users/benellis/Projects/congress/congress/etl/house_votes.py\", line 142, in roll_call_single\n",
      "    chamber = soup.find('chamber').text\n",
      "AttributeError: 'NoneType' object has no attribute 'text'\n"
     ]
    },
    {
     "name": "stdout",
     "output_type": "stream",
     "text": [
      "http://clerk.house.gov/evs/2007/roll386.xml\n"
     ]
    },
    {
     "name": "stderr",
     "output_type": "stream",
     "text": [
      "Traceback (most recent call last):\n",
      "  File \"<ipython-input-8-530adc215787>\", line 7, in house_rollcall_individual_parallel\n",
      "    obj.roll_call_single_to_psql(year, rollcall)\n",
      "  File \"/Users/benellis/Projects/congress/congress/etl/house_votes.py\", line 183, in roll_call_single_to_psql\n",
      "    df = self.roll_call_single(year, roll)\n",
      "  File \"/Users/benellis/Projects/congress/congress/etl/house_votes.py\", line 142, in roll_call_single\n",
      "    chamber = soup.find('chamber').text\n",
      "AttributeError: 'NoneType' object has no attribute 'text'\n"
     ]
    },
    {
     "name": "stdout",
     "output_type": "stream",
     "text": [
      "http://clerk.house.gov/evs/2007/roll385.xml\n",
      "http://clerk.house.gov/evs/2005/roll378.xml\n",
      "http://clerk.house.gov/evs/2003/roll143.xml\n",
      "http://clerk.house.gov/evs/2003/roll332.xml\n",
      "http://clerk.house.gov/evs/2007/roll384.xml\n",
      "http://clerk.house.gov/evs/2005/roll377.xml\n",
      "http://clerk.house.gov/evs/2003/roll142.xml\n",
      "http://clerk.house.gov/evs/2003/roll331.xml\n",
      "http://clerk.house.gov/evs/2007/roll383.xml\n"
     ]
    },
    {
     "name": "stderr",
     "output_type": "stream",
     "text": [
      "Traceback (most recent call last):\n",
      "  File \"<ipython-input-8-530adc215787>\", line 7, in house_rollcall_individual_parallel\n",
      "    obj.roll_call_single_to_psql(year, rollcall)\n",
      "  File \"/Users/benellis/Projects/congress/congress/etl/house_votes.py\", line 183, in roll_call_single_to_psql\n",
      "    df = self.roll_call_single(year, roll)\n",
      "  File \"/Users/benellis/Projects/congress/congress/etl/house_votes.py\", line 142, in roll_call_single\n",
      "    chamber = soup.find('chamber').text\n",
      "AttributeError: 'NoneType' object has no attribute 'text'\n"
     ]
    },
    {
     "name": "stdout",
     "output_type": "stream",
     "text": [
      "http://clerk.house.gov/evs/2007/roll382.xml\n"
     ]
    },
    {
     "name": "stderr",
     "output_type": "stream",
     "text": [
      "Traceback (most recent call last):\n",
      "  File \"<ipython-input-8-530adc215787>\", line 7, in house_rollcall_individual_parallel\n",
      "    obj.roll_call_single_to_psql(year, rollcall)\n",
      "  File \"/Users/benellis/Projects/congress/congress/etl/house_votes.py\", line 183, in roll_call_single_to_psql\n",
      "    df = self.roll_call_single(year, roll)\n",
      "  File \"/Users/benellis/Projects/congress/congress/etl/house_votes.py\", line 142, in roll_call_single\n",
      "    chamber = soup.find('chamber').text\n",
      "AttributeError: 'NoneType' object has no attribute 'text'\n"
     ]
    },
    {
     "name": "stdout",
     "output_type": "stream",
     "text": [
      "http://clerk.house.gov/evs/2007/roll381.xml\n"
     ]
    },
    {
     "name": "stderr",
     "output_type": "stream",
     "text": [
      "Traceback (most recent call last):\n",
      "  File \"<ipython-input-8-530adc215787>\", line 7, in house_rollcall_individual_parallel\n",
      "    obj.roll_call_single_to_psql(year, rollcall)\n",
      "  File \"/Users/benellis/Projects/congress/congress/etl/house_votes.py\", line 183, in roll_call_single_to_psql\n",
      "    df = self.roll_call_single(year, roll)\n",
      "  File \"/Users/benellis/Projects/congress/congress/etl/house_votes.py\", line 142, in roll_call_single\n",
      "    chamber = soup.find('chamber').text\n",
      "AttributeError: 'NoneType' object has no attribute 'text'\n"
     ]
    },
    {
     "name": "stdout",
     "output_type": "stream",
     "text": [
      "http://clerk.house.gov/evs/2007/roll380.xml\n"
     ]
    },
    {
     "name": "stderr",
     "output_type": "stream",
     "text": [
      "Traceback (most recent call last):\n",
      "  File \"<ipython-input-8-530adc215787>\", line 7, in house_rollcall_individual_parallel\n",
      "    obj.roll_call_single_to_psql(year, rollcall)\n",
      "  File \"/Users/benellis/Projects/congress/congress/etl/house_votes.py\", line 183, in roll_call_single_to_psql\n",
      "    df = self.roll_call_single(year, roll)\n",
      "  File \"/Users/benellis/Projects/congress/congress/etl/house_votes.py\", line 142, in roll_call_single\n",
      "    chamber = soup.find('chamber').text\n",
      "AttributeError: 'NoneType' object has no attribute 'text'\n"
     ]
    },
    {
     "name": "stdout",
     "output_type": "stream",
     "text": [
      "http://clerk.house.gov/evs/2007/roll379.xml\n",
      "http://clerk.house.gov/evs/2005/roll376.xml\n"
     ]
    },
    {
     "name": "stderr",
     "output_type": "stream",
     "text": [
      "Traceback (most recent call last):\n",
      "  File \"<ipython-input-8-530adc215787>\", line 7, in house_rollcall_individual_parallel\n",
      "    obj.roll_call_single_to_psql(year, rollcall)\n",
      "  File \"/Users/benellis/Projects/congress/congress/etl/house_votes.py\", line 183, in roll_call_single_to_psql\n",
      "    df = self.roll_call_single(year, roll)\n",
      "  File \"/Users/benellis/Projects/congress/congress/etl/house_votes.py\", line 142, in roll_call_single\n",
      "    chamber = soup.find('chamber').text\n",
      "AttributeError: 'NoneType' object has no attribute 'text'\n"
     ]
    },
    {
     "name": "stdout",
     "output_type": "stream",
     "text": [
      "http://clerk.house.gov/evs/2003/roll141.xml\n",
      "http://clerk.house.gov/evs/2007/roll378.xml\n",
      "http://clerk.house.gov/evs/2003/roll330.xml\n"
     ]
    },
    {
     "name": "stderr",
     "output_type": "stream",
     "text": [
      "Traceback (most recent call last):\n",
      "  File \"<ipython-input-8-530adc215787>\", line 7, in house_rollcall_individual_parallel\n",
      "    obj.roll_call_single_to_psql(year, rollcall)\n",
      "  File \"/Users/benellis/Projects/congress/congress/etl/house_votes.py\", line 183, in roll_call_single_to_psql\n",
      "    df = self.roll_call_single(year, roll)\n",
      "  File \"/Users/benellis/Projects/congress/congress/etl/house_votes.py\", line 142, in roll_call_single\n",
      "    chamber = soup.find('chamber').text\n",
      "AttributeError: 'NoneType' object has no attribute 'text'\n"
     ]
    },
    {
     "name": "stdout",
     "output_type": "stream",
     "text": [
      "http://clerk.house.gov/evs/2007/roll377.xml\n",
      "http://clerk.house.gov/evs/2003/roll140.xml\n",
      "http://clerk.house.gov/evs/2005/roll375.xml\n",
      "http://clerk.house.gov/evs/2003/roll328.xml\n",
      "http://clerk.house.gov/evs/2007/roll376.xml\n",
      "http://clerk.house.gov/evs/2003/roll139.xml\n",
      "http://clerk.house.gov/evs/2005/roll374.xml\n",
      "http://clerk.house.gov/evs/2003/roll326.xml\n",
      "http://clerk.house.gov/evs/2007/roll375.xml\n",
      "http://clerk.house.gov/evs/2003/roll138.xml\n",
      "http://clerk.house.gov/evs/2005/roll373.xml\n",
      "http://clerk.house.gov/evs/2007/roll374.xml\n",
      "http://clerk.house.gov/evs/2003/roll325.xml\n",
      "http://clerk.house.gov/evs/2003/roll137.xml\n",
      "http://clerk.house.gov/evs/2005/roll372.xml\n",
      "http://clerk.house.gov/evs/2003/roll324.xml\n",
      "http://clerk.house.gov/evs/2007/roll373.xml\n",
      "http://clerk.house.gov/evs/2003/roll136.xml\n",
      "http://clerk.house.gov/evs/2005/roll371.xml\n",
      "http://clerk.house.gov/evs/2003/roll323.xml\n",
      "http://clerk.house.gov/evs/2007/roll372.xml\n",
      "http://clerk.house.gov/evs/2005/roll370.xml\n",
      "http://clerk.house.gov/evs/2003/roll135.xml\n",
      "http://clerk.house.gov/evs/2003/roll322.xml\n",
      "http://clerk.house.gov/evs/2007/roll371.xml\n"
     ]
    },
    {
     "name": "stderr",
     "output_type": "stream",
     "text": [
      "Traceback (most recent call last):\n",
      "  File \"<ipython-input-8-530adc215787>\", line 7, in house_rollcall_individual_parallel\n",
      "    obj.roll_call_single_to_psql(year, rollcall)\n",
      "  File \"/Users/benellis/Projects/congress/congress/etl/house_votes.py\", line 183, in roll_call_single_to_psql\n",
      "    df = self.roll_call_single(year, roll)\n",
      "  File \"/Users/benellis/Projects/congress/congress/etl/house_votes.py\", line 142, in roll_call_single\n",
      "    chamber = soup.find('chamber').text\n",
      "AttributeError: 'NoneType' object has no attribute 'text'\n"
     ]
    },
    {
     "name": "stdout",
     "output_type": "stream",
     "text": [
      "http://clerk.house.gov/evs/2007/roll370.xml\n"
     ]
    },
    {
     "name": "stderr",
     "output_type": "stream",
     "text": [
      "Traceback (most recent call last):\n",
      "  File \"<ipython-input-8-530adc215787>\", line 7, in house_rollcall_individual_parallel\n",
      "    obj.roll_call_single_to_psql(year, rollcall)\n",
      "  File \"/Users/benellis/Projects/congress/congress/etl/house_votes.py\", line 183, in roll_call_single_to_psql\n",
      "    df = self.roll_call_single(year, roll)\n",
      "  File \"/Users/benellis/Projects/congress/congress/etl/house_votes.py\", line 142, in roll_call_single\n",
      "    chamber = soup.find('chamber').text\n",
      "AttributeError: 'NoneType' object has no attribute 'text'\n"
     ]
    },
    {
     "name": "stdout",
     "output_type": "stream",
     "text": [
      "http://clerk.house.gov/evs/2007/roll369.xml\n"
     ]
    },
    {
     "name": "stderr",
     "output_type": "stream",
     "text": [
      "Traceback (most recent call last):\n",
      "  File \"<ipython-input-8-530adc215787>\", line 7, in house_rollcall_individual_parallel\n",
      "    obj.roll_call_single_to_psql(year, rollcall)\n",
      "  File \"/Users/benellis/Projects/congress/congress/etl/house_votes.py\", line 183, in roll_call_single_to_psql\n",
      "    df = self.roll_call_single(year, roll)\n",
      "  File \"/Users/benellis/Projects/congress/congress/etl/house_votes.py\", line 142, in roll_call_single\n",
      "    chamber = soup.find('chamber').text\n",
      "AttributeError: 'NoneType' object has no attribute 'text'\n"
     ]
    },
    {
     "name": "stdout",
     "output_type": "stream",
     "text": [
      "http://clerk.house.gov/evs/2007/roll368.xml\n"
     ]
    },
    {
     "name": "stderr",
     "output_type": "stream",
     "text": [
      "Traceback (most recent call last):\n",
      "  File \"<ipython-input-8-530adc215787>\", line 7, in house_rollcall_individual_parallel\n",
      "    obj.roll_call_single_to_psql(year, rollcall)\n",
      "  File \"/Users/benellis/Projects/congress/congress/etl/house_votes.py\", line 183, in roll_call_single_to_psql\n",
      "    df = self.roll_call_single(year, roll)\n",
      "  File \"/Users/benellis/Projects/congress/congress/etl/house_votes.py\", line 142, in roll_call_single\n",
      "    chamber = soup.find('chamber').text\n",
      "AttributeError: 'NoneType' object has no attribute 'text'\n"
     ]
    },
    {
     "name": "stdout",
     "output_type": "stream",
     "text": [
      "http://clerk.house.gov/evs/2007/roll366.xml\n",
      "http://clerk.house.gov/evs/2003/roll134.xml\n",
      "http://clerk.house.gov/evs/2005/roll369.xml\n",
      "http://clerk.house.gov/evs/2003/roll321.xml\n"
     ]
    },
    {
     "name": "stderr",
     "output_type": "stream",
     "text": [
      "Traceback (most recent call last):\n",
      "  File \"<ipython-input-8-530adc215787>\", line 7, in house_rollcall_individual_parallel\n",
      "    obj.roll_call_single_to_psql(year, rollcall)\n",
      "  File \"/Users/benellis/Projects/congress/congress/etl/house_votes.py\", line 183, in roll_call_single_to_psql\n",
      "    df = self.roll_call_single(year, roll)\n",
      "  File \"/Users/benellis/Projects/congress/congress/etl/house_votes.py\", line 142, in roll_call_single\n",
      "    chamber = soup.find('chamber').text\n",
      "AttributeError: 'NoneType' object has no attribute 'text'\n"
     ]
    },
    {
     "name": "stdout",
     "output_type": "stream",
     "text": [
      "http://clerk.house.gov/evs/2007/roll365.xml\n"
     ]
    },
    {
     "name": "stderr",
     "output_type": "stream",
     "text": [
      "Traceback (most recent call last):\n",
      "  File \"<ipython-input-8-530adc215787>\", line 7, in house_rollcall_individual_parallel\n",
      "    obj.roll_call_single_to_psql(year, rollcall)\n",
      "  File \"/Users/benellis/Projects/congress/congress/etl/house_votes.py\", line 183, in roll_call_single_to_psql\n",
      "    df = self.roll_call_single(year, roll)\n",
      "  File \"/Users/benellis/Projects/congress/congress/etl/house_votes.py\", line 142, in roll_call_single\n",
      "    chamber = soup.find('chamber').text\n",
      "AttributeError: 'NoneType' object has no attribute 'text'\n"
     ]
    },
    {
     "name": "stdout",
     "output_type": "stream",
     "text": [
      "http://clerk.house.gov/evs/2007/roll364.xml\n"
     ]
    },
    {
     "name": "stderr",
     "output_type": "stream",
     "text": [
      "Traceback (most recent call last):\n",
      "  File \"<ipython-input-8-530adc215787>\", line 7, in house_rollcall_individual_parallel\n",
      "    obj.roll_call_single_to_psql(year, rollcall)\n",
      "  File \"/Users/benellis/Projects/congress/congress/etl/house_votes.py\", line 183, in roll_call_single_to_psql\n",
      "    df = self.roll_call_single(year, roll)\n",
      "  File \"/Users/benellis/Projects/congress/congress/etl/house_votes.py\", line 142, in roll_call_single\n",
      "    chamber = soup.find('chamber').text\n",
      "AttributeError: 'NoneType' object has no attribute 'text'\n"
     ]
    },
    {
     "name": "stdout",
     "output_type": "stream",
     "text": [
      "http://clerk.house.gov/evs/2007/roll363.xml\n"
     ]
    },
    {
     "name": "stderr",
     "output_type": "stream",
     "text": [
      "Traceback (most recent call last):\n",
      "  File \"<ipython-input-8-530adc215787>\", line 7, in house_rollcall_individual_parallel\n",
      "    obj.roll_call_single_to_psql(year, rollcall)\n",
      "  File \"/Users/benellis/Projects/congress/congress/etl/house_votes.py\", line 183, in roll_call_single_to_psql\n",
      "    df = self.roll_call_single(year, roll)\n",
      "  File \"/Users/benellis/Projects/congress/congress/etl/house_votes.py\", line 142, in roll_call_single\n",
      "    chamber = soup.find('chamber').text\n",
      "AttributeError: 'NoneType' object has no attribute 'text'\n"
     ]
    },
    {
     "name": "stdout",
     "output_type": "stream",
     "text": [
      "http://clerk.house.gov/evs/2007/roll361.xml\n"
     ]
    },
    {
     "name": "stderr",
     "output_type": "stream",
     "text": [
      "Traceback (most recent call last):\n",
      "  File \"<ipython-input-8-530adc215787>\", line 7, in house_rollcall_individual_parallel\n",
      "    obj.roll_call_single_to_psql(year, rollcall)\n",
      "  File \"/Users/benellis/Projects/congress/congress/etl/house_votes.py\", line 183, in roll_call_single_to_psql\n",
      "    df = self.roll_call_single(year, roll)\n",
      "  File \"/Users/benellis/Projects/congress/congress/etl/house_votes.py\", line 142, in roll_call_single\n",
      "    chamber = soup.find('chamber').text\n",
      "AttributeError: 'NoneType' object has no attribute 'text'\n"
     ]
    },
    {
     "name": "stdout",
     "output_type": "stream",
     "text": [
      "http://clerk.house.gov/evs/2007/roll359.xml\n"
     ]
    },
    {
     "name": "stderr",
     "output_type": "stream",
     "text": [
      "Traceback (most recent call last):\n",
      "  File \"<ipython-input-8-530adc215787>\", line 7, in house_rollcall_individual_parallel\n",
      "    obj.roll_call_single_to_psql(year, rollcall)\n",
      "  File \"/Users/benellis/Projects/congress/congress/etl/house_votes.py\", line 183, in roll_call_single_to_psql\n",
      "    df = self.roll_call_single(year, roll)\n",
      "  File \"/Users/benellis/Projects/congress/congress/etl/house_votes.py\", line 142, in roll_call_single\n",
      "    chamber = soup.find('chamber').text\n",
      "AttributeError: 'NoneType' object has no attribute 'text'\n"
     ]
    },
    {
     "name": "stdout",
     "output_type": "stream",
     "text": [
      "http://clerk.house.gov/evs/2007/roll357.xml\n",
      "http://clerk.house.gov/evs/2005/roll368.xml\n",
      "http://clerk.house.gov/evs/2003/roll133.xml\n",
      "http://clerk.house.gov/evs/2003/roll320.xml\n"
     ]
    },
    {
     "name": "stderr",
     "output_type": "stream",
     "text": [
      "Traceback (most recent call last):\n",
      "  File \"<ipython-input-8-530adc215787>\", line 7, in house_rollcall_individual_parallel\n",
      "    obj.roll_call_single_to_psql(year, rollcall)\n",
      "  File \"/Users/benellis/Projects/congress/congress/etl/house_votes.py\", line 183, in roll_call_single_to_psql\n",
      "    df = self.roll_call_single(year, roll)\n",
      "  File \"/Users/benellis/Projects/congress/congress/etl/house_votes.py\", line 142, in roll_call_single\n",
      "    chamber = soup.find('chamber').text\n",
      "AttributeError: 'NoneType' object has no attribute 'text'\n"
     ]
    },
    {
     "name": "stdout",
     "output_type": "stream",
     "text": [
      "http://clerk.house.gov/evs/2007/roll355.xml\n"
     ]
    },
    {
     "name": "stderr",
     "output_type": "stream",
     "text": [
      "Traceback (most recent call last):\n",
      "  File \"<ipython-input-8-530adc215787>\", line 7, in house_rollcall_individual_parallel\n",
      "    obj.roll_call_single_to_psql(year, rollcall)\n",
      "  File \"/Users/benellis/Projects/congress/congress/etl/house_votes.py\", line 183, in roll_call_single_to_psql\n",
      "    df = self.roll_call_single(year, roll)\n",
      "  File \"/Users/benellis/Projects/congress/congress/etl/house_votes.py\", line 142, in roll_call_single\n",
      "    chamber = soup.find('chamber').text\n",
      "AttributeError: 'NoneType' object has no attribute 'text'\n"
     ]
    },
    {
     "name": "stdout",
     "output_type": "stream",
     "text": [
      "http://clerk.house.gov/evs/2007/roll352.xml\n",
      "http://clerk.house.gov/evs/2003/roll132.xml\n",
      "http://clerk.house.gov/evs/2005/roll367.xml\n",
      "http://clerk.house.gov/evs/2003/roll319.xml\n",
      "http://clerk.house.gov/evs/2007/roll351.xml\n",
      "http://clerk.house.gov/evs/2003/roll131.xml\n",
      "http://clerk.house.gov/evs/2005/roll366.xml\n",
      "http://clerk.house.gov/evs/2003/roll318.xml\n",
      "http://clerk.house.gov/evs/2007/roll349.xml\n",
      "http://clerk.house.gov/evs/2003/roll130.xml\n",
      "http://clerk.house.gov/evs/2005/roll365.xml\n",
      "http://clerk.house.gov/evs/2003/roll317.xml\n",
      "http://clerk.house.gov/evs/2007/roll348.xml\n",
      "http://clerk.house.gov/evs/2003/roll129.xml\n",
      "http://clerk.house.gov/evs/2005/roll364.xml\n",
      "http://clerk.house.gov/evs/2003/roll316.xml\n",
      "http://clerk.house.gov/evs/2007/roll347.xml\n",
      "http://clerk.house.gov/evs/2003/roll128.xml\n",
      "http://clerk.house.gov/evs/2005/roll363.xml\n",
      "http://clerk.house.gov/evs/2007/roll346.xml\n",
      "http://clerk.house.gov/evs/2003/roll315.xml\n",
      "http://clerk.house.gov/evs/2003/roll127.xml\n",
      "http://clerk.house.gov/evs/2005/roll362.xml\n",
      "http://clerk.house.gov/evs/2007/roll345.xml\n",
      "http://clerk.house.gov/evs/2003/roll314.xml\n",
      "http://clerk.house.gov/evs/2003/roll126.xml\n",
      "http://clerk.house.gov/evs/2005/roll361.xml\n",
      "http://clerk.house.gov/evs/2003/roll313.xml\n",
      "http://clerk.house.gov/evs/2007/roll344.xml\n",
      "http://clerk.house.gov/evs/2003/roll125.xml\n",
      "http://clerk.house.gov/evs/2005/roll360.xml\n",
      "http://clerk.house.gov/evs/2003/roll312.xml\n",
      "http://clerk.house.gov/evs/2007/roll343.xml\n",
      "http://clerk.house.gov/evs/2003/roll124.xml\n",
      "http://clerk.house.gov/evs/2005/roll359.xml\n",
      "http://clerk.house.gov/evs/2003/roll311.xml\n",
      "http://clerk.house.gov/evs/2007/roll342.xml\n",
      "http://clerk.house.gov/evs/2003/roll123.xml\n",
      "http://clerk.house.gov/evs/2005/roll358.xml\n",
      "http://clerk.house.gov/evs/2003/roll310.xml\n",
      "http://clerk.house.gov/evs/2007/roll341.xml\n",
      "http://clerk.house.gov/evs/2003/roll122.xml\n",
      "http://clerk.house.gov/evs/2005/roll357.xml\n",
      "http://clerk.house.gov/evs/2007/roll340.xml\n",
      "http://clerk.house.gov/evs/2003/roll309.xml\n",
      "http://clerk.house.gov/evs/2003/roll121.xml\n",
      "http://clerk.house.gov/evs/2005/roll356.xml\n",
      "http://clerk.house.gov/evs/2007/roll339.xml\n",
      "http://clerk.house.gov/evs/2003/roll308.xml\n"
     ]
    },
    {
     "name": "stderr",
     "output_type": "stream",
     "text": [
      "Traceback (most recent call last):\n",
      "  File \"<ipython-input-8-530adc215787>\", line 7, in house_rollcall_individual_parallel\n",
      "    obj.roll_call_single_to_psql(year, rollcall)\n",
      "  File \"/Users/benellis/Projects/congress/congress/etl/house_votes.py\", line 183, in roll_call_single_to_psql\n",
      "    df = self.roll_call_single(year, roll)\n",
      "  File \"/Users/benellis/Projects/congress/congress/etl/house_votes.py\", line 142, in roll_call_single\n",
      "    chamber = soup.find('chamber').text\n",
      "AttributeError: 'NoneType' object has no attribute 'text'\n"
     ]
    },
    {
     "name": "stdout",
     "output_type": "stream",
     "text": [
      "http://clerk.house.gov/evs/2007/roll338.xml\n",
      "http://clerk.house.gov/evs/2003/roll120.xml\n"
     ]
    },
    {
     "name": "stderr",
     "output_type": "stream",
     "text": [
      "Traceback (most recent call last):\n",
      "  File \"<ipython-input-8-530adc215787>\", line 7, in house_rollcall_individual_parallel\n",
      "    obj.roll_call_single_to_psql(year, rollcall)\n",
      "  File \"/Users/benellis/Projects/congress/congress/etl/house_votes.py\", line 183, in roll_call_single_to_psql\n",
      "    df = self.roll_call_single(year, roll)\n",
      "  File \"/Users/benellis/Projects/congress/congress/etl/house_votes.py\", line 142, in roll_call_single\n",
      "    chamber = soup.find('chamber').text\n",
      "AttributeError: 'NoneType' object has no attribute 'text'\n"
     ]
    },
    {
     "name": "stdout",
     "output_type": "stream",
     "text": [
      "http://clerk.house.gov/evs/2007/roll337.xml\n",
      "http://clerk.house.gov/evs/2005/roll355.xml\n"
     ]
    },
    {
     "name": "stderr",
     "output_type": "stream",
     "text": [
      "Traceback (most recent call last):\n",
      "  File \"<ipython-input-8-530adc215787>\", line 7, in house_rollcall_individual_parallel\n",
      "    obj.roll_call_single_to_psql(year, rollcall)\n",
      "  File \"/Users/benellis/Projects/congress/congress/etl/house_votes.py\", line 183, in roll_call_single_to_psql\n",
      "    df = self.roll_call_single(year, roll)\n",
      "  File \"/Users/benellis/Projects/congress/congress/etl/house_votes.py\", line 142, in roll_call_single\n",
      "    chamber = soup.find('chamber').text\n",
      "AttributeError: 'NoneType' object has no attribute 'text'\n"
     ]
    },
    {
     "name": "stdout",
     "output_type": "stream",
     "text": [
      "http://clerk.house.gov/evs/2007/roll336.xml\n",
      "http://clerk.house.gov/evs/2003/roll307.xml\n",
      "http://clerk.house.gov/evs/2003/roll118.xml\n",
      "http://clerk.house.gov/evs/2005/roll354.xml\n",
      "http://clerk.house.gov/evs/2007/roll335.xml\n",
      "http://clerk.house.gov/evs/2003/roll306.xml\n",
      "http://clerk.house.gov/evs/2003/roll117.xml\n",
      "http://clerk.house.gov/evs/2005/roll353.xml\n",
      "http://clerk.house.gov/evs/2007/roll333.xml\n",
      "http://clerk.house.gov/evs/2003/roll305.xml\n",
      "http://clerk.house.gov/evs/2003/roll116.xml\n",
      "http://clerk.house.gov/evs/2005/roll352.xml\n",
      "http://clerk.house.gov/evs/2007/roll332.xml\n",
      "http://clerk.house.gov/evs/2003/roll304.xml\n",
      "http://clerk.house.gov/evs/2003/roll115.xml\n",
      "http://clerk.house.gov/evs/2005/roll351.xml\n",
      "http://clerk.house.gov/evs/2007/roll330.xml\n",
      "http://clerk.house.gov/evs/2003/roll303.xml\n",
      "http://clerk.house.gov/evs/2003/roll114.xml\n",
      "http://clerk.house.gov/evs/2005/roll350.xml\n",
      "http://clerk.house.gov/evs/2007/roll329.xml\n",
      "http://clerk.house.gov/evs/2003/roll302.xml\n",
      "http://clerk.house.gov/evs/2003/roll113.xml\n",
      "http://clerk.house.gov/evs/2005/roll349.xml\n",
      "http://clerk.house.gov/evs/2007/roll327.xml\n",
      "http://clerk.house.gov/evs/2003/roll301.xml\n",
      "http://clerk.house.gov/evs/2003/roll112.xml\n",
      "http://clerk.house.gov/evs/2005/roll348.xml\n",
      "http://clerk.house.gov/evs/2007/roll326.xml\n",
      "http://clerk.house.gov/evs/2003/roll300.xml\n",
      "http://clerk.house.gov/evs/2003/roll111.xml\n",
      "http://clerk.house.gov/evs/2005/roll347.xml\n",
      "http://clerk.house.gov/evs/2007/roll325.xml\n",
      "http://clerk.house.gov/evs/2003/roll499.xml\n",
      "http://clerk.house.gov/evs/2003/roll110.xml\n",
      "http://clerk.house.gov/evs/2005/roll346.xml\n",
      "http://clerk.house.gov/evs/2007/roll324.xml\n",
      "http://clerk.house.gov/evs/2003/roll498.xml\n",
      "http://clerk.house.gov/evs/2003/roll109.xml\n",
      "http://clerk.house.gov/evs/2005/roll345.xml\n",
      "http://clerk.house.gov/evs/2007/roll323.xml\n",
      "http://clerk.house.gov/evs/2003/roll497.xml\n",
      "http://clerk.house.gov/evs/2003/roll108.xml\n",
      "http://clerk.house.gov/evs/2005/roll344.xml\n",
      "http://clerk.house.gov/evs/2007/roll322.xml\n",
      "http://clerk.house.gov/evs/2003/roll496.xml\n",
      "http://clerk.house.gov/evs/2003/roll107.xml\n",
      "http://clerk.house.gov/evs/2005/roll343.xml\n",
      "http://clerk.house.gov/evs/2007/roll321.xml\n"
     ]
    },
    {
     "name": "stderr",
     "output_type": "stream",
     "text": [
      "Traceback (most recent call last):\n",
      "  File \"<ipython-input-8-530adc215787>\", line 7, in house_rollcall_individual_parallel\n",
      "    obj.roll_call_single_to_psql(year, rollcall)\n",
      "  File \"/Users/benellis/Projects/congress/congress/etl/house_votes.py\", line 183, in roll_call_single_to_psql\n",
      "    df = self.roll_call_single(year, roll)\n",
      "  File \"/Users/benellis/Projects/congress/congress/etl/house_votes.py\", line 142, in roll_call_single\n",
      "    chamber = soup.find('chamber').text\n",
      "AttributeError: 'NoneType' object has no attribute 'text'\n"
     ]
    },
    {
     "name": "stdout",
     "output_type": "stream",
     "text": [
      "http://clerk.house.gov/evs/2007/roll320.xml\n"
     ]
    },
    {
     "name": "stderr",
     "output_type": "stream",
     "text": [
      "Traceback (most recent call last):\n",
      "  File \"<ipython-input-8-530adc215787>\", line 7, in house_rollcall_individual_parallel\n",
      "    obj.roll_call_single_to_psql(year, rollcall)\n",
      "  File \"/Users/benellis/Projects/congress/congress/etl/house_votes.py\", line 183, in roll_call_single_to_psql\n",
      "    df = self.roll_call_single(year, roll)\n",
      "  File \"/Users/benellis/Projects/congress/congress/etl/house_votes.py\", line 142, in roll_call_single\n",
      "    chamber = soup.find('chamber').text\n",
      "AttributeError: 'NoneType' object has no attribute 'text'\n"
     ]
    },
    {
     "name": "stdout",
     "output_type": "stream",
     "text": [
      "http://clerk.house.gov/evs/2007/roll319.xml\n",
      "http://clerk.house.gov/evs/2003/roll495.xml\n",
      "http://clerk.house.gov/evs/2005/roll342.xml\n"
     ]
    },
    {
     "name": "stderr",
     "output_type": "stream",
     "text": [
      "Traceback (most recent call last):\n",
      "  File \"<ipython-input-8-530adc215787>\", line 7, in house_rollcall_individual_parallel\n",
      "    obj.roll_call_single_to_psql(year, rollcall)\n",
      "  File \"/Users/benellis/Projects/congress/congress/etl/house_votes.py\", line 183, in roll_call_single_to_psql\n",
      "    df = self.roll_call_single(year, roll)\n",
      "  File \"/Users/benellis/Projects/congress/congress/etl/house_votes.py\", line 142, in roll_call_single\n",
      "    chamber = soup.find('chamber').text\n",
      "AttributeError: 'NoneType' object has no attribute 'text'\n"
     ]
    },
    {
     "name": "stdout",
     "output_type": "stream",
     "text": [
      "http://clerk.house.gov/evs/2007/roll318.xml\n",
      "http://clerk.house.gov/evs/2003/roll106.xml\n",
      "http://clerk.house.gov/evs/2003/roll494.xml\n",
      "http://clerk.house.gov/evs/2007/roll317.xml\n",
      "http://clerk.house.gov/evs/2003/roll105.xml\n",
      "http://clerk.house.gov/evs/2005/roll341.xml\n",
      "http://clerk.house.gov/evs/2003/roll493.xml\n",
      "http://clerk.house.gov/evs/2007/roll316.xml\n",
      "http://clerk.house.gov/evs/2005/roll340.xml\n",
      "http://clerk.house.gov/evs/2003/roll104.xml\n",
      "http://clerk.house.gov/evs/2003/roll492.xml\n",
      "http://clerk.house.gov/evs/2007/roll315.xml\n",
      "http://clerk.house.gov/evs/2003/roll103.xml\n",
      "http://clerk.house.gov/evs/2005/roll339.xml\n"
     ]
    },
    {
     "name": "stderr",
     "output_type": "stream",
     "text": [
      "Traceback (most recent call last):\n",
      "  File \"<ipython-input-8-530adc215787>\", line 7, in house_rollcall_individual_parallel\n",
      "    obj.roll_call_single_to_psql(year, rollcall)\n",
      "  File \"/Users/benellis/Projects/congress/congress/etl/house_votes.py\", line 183, in roll_call_single_to_psql\n",
      "    df = self.roll_call_single(year, roll)\n",
      "  File \"/Users/benellis/Projects/congress/congress/etl/house_votes.py\", line 142, in roll_call_single\n",
      "    chamber = soup.find('chamber').text\n",
      "AttributeError: 'NoneType' object has no attribute 'text'\n"
     ]
    },
    {
     "name": "stdout",
     "output_type": "stream",
     "text": [
      "http://clerk.house.gov/evs/2007/roll314.xml\n"
     ]
    },
    {
     "name": "stderr",
     "output_type": "stream",
     "text": [
      "Traceback (most recent call last):\n",
      "  File \"<ipython-input-8-530adc215787>\", line 7, in house_rollcall_individual_parallel\n",
      "    obj.roll_call_single_to_psql(year, rollcall)\n",
      "  File \"/Users/benellis/Projects/congress/congress/etl/house_votes.py\", line 183, in roll_call_single_to_psql\n",
      "    df = self.roll_call_single(year, roll)\n",
      "  File \"/Users/benellis/Projects/congress/congress/etl/house_votes.py\", line 142, in roll_call_single\n",
      "    chamber = soup.find('chamber').text\n",
      "AttributeError: 'NoneType' object has no attribute 'text'\n"
     ]
    },
    {
     "name": "stdout",
     "output_type": "stream",
     "text": [
      "http://clerk.house.gov/evs/2007/roll313.xml\n",
      "http://clerk.house.gov/evs/2003/roll491.xml\n",
      "http://clerk.house.gov/evs/2003/roll102.xml\n",
      "http://clerk.house.gov/evs/2005/roll338.xml\n",
      "http://clerk.house.gov/evs/2007/roll312.xml\n",
      "http://clerk.house.gov/evs/2003/roll490.xml\n",
      "http://clerk.house.gov/evs/2003/roll101.xml\n",
      "http://clerk.house.gov/evs/2005/roll337.xml\n",
      "http://clerk.house.gov/evs/2007/roll311.xml\n",
      "http://clerk.house.gov/evs/2003/roll489.xml\n",
      "http://clerk.house.gov/evs/2003/roll100.xml\n",
      "http://clerk.house.gov/evs/2005/roll336.xml\n",
      "http://clerk.house.gov/evs/2007/roll310.xml\n",
      "http://clerk.house.gov/evs/2003/roll488.xml\n",
      "http://clerk.house.gov/evs/2003/roll299.xml\n",
      "http://clerk.house.gov/evs/2005/roll335.xml\n",
      "http://clerk.house.gov/evs/2007/roll309.xml\n",
      "http://clerk.house.gov/evs/2003/roll487.xml\n",
      "http://clerk.house.gov/evs/2003/roll298.xml\n",
      "http://clerk.house.gov/evs/2005/roll334.xml\n",
      "http://clerk.house.gov/evs/2007/roll308.xml\n",
      "http://clerk.house.gov/evs/2003/roll486.xml\n",
      "http://clerk.house.gov/evs/2003/roll297.xml\n",
      "http://clerk.house.gov/evs/2005/roll333.xml\n",
      "http://clerk.house.gov/evs/2007/roll307.xml\n",
      "http://clerk.house.gov/evs/2003/roll485.xml\n",
      "http://clerk.house.gov/evs/2003/roll296.xml\n",
      "http://clerk.house.gov/evs/2005/roll332.xml\n",
      "http://clerk.house.gov/evs/2007/roll448.xml\n",
      "http://clerk.house.gov/evs/2003/roll484.xml\n",
      "http://clerk.house.gov/evs/2003/roll295.xml\n",
      "http://clerk.house.gov/evs/2005/roll331.xml\n",
      "http://clerk.house.gov/evs/2007/roll306.xml\n",
      "http://clerk.house.gov/evs/2003/roll483.xml\n",
      "http://clerk.house.gov/evs/2003/roll294.xml\n",
      "http://clerk.house.gov/evs/2005/roll330.xml\n",
      "http://clerk.house.gov/evs/2007/roll305.xml\n",
      "http://clerk.house.gov/evs/2003/roll482.xml\n",
      "http://clerk.house.gov/evs/2003/roll293.xml\n",
      "http://clerk.house.gov/evs/2005/roll329.xml\n",
      "http://clerk.house.gov/evs/2007/roll304.xml\n",
      "http://clerk.house.gov/evs/2003/roll481.xml\n",
      "http://clerk.house.gov/evs/2003/roll292.xml\n",
      "http://clerk.house.gov/evs/2005/roll546.xml\n",
      "http://clerk.house.gov/evs/2007/roll303.xml\n",
      "http://clerk.house.gov/evs/2003/roll480.xml\n",
      "http://clerk.house.gov/evs/2003/roll291.xml\n",
      "http://clerk.house.gov/evs/2005/roll328.xml\n",
      "http://clerk.house.gov/evs/2007/roll302.xml\n",
      "http://clerk.house.gov/evs/2003/roll479.xml\n",
      "http://clerk.house.gov/evs/2003/roll290.xml\n",
      "http://clerk.house.gov/evs/2005/roll327.xml\n",
      "http://clerk.house.gov/evs/2007/roll301.xml\n",
      "http://clerk.house.gov/evs/2003/roll478.xml\n",
      "http://clerk.house.gov/evs/2003/roll289.xml\n",
      "http://clerk.house.gov/evs/2005/roll326.xml\n",
      "http://clerk.house.gov/evs/2007/roll300.xml\n",
      "http://clerk.house.gov/evs/2003/roll477.xml\n",
      "http://clerk.house.gov/evs/2003/roll288.xml\n",
      "http://clerk.house.gov/evs/2005/roll325.xml\n",
      "http://clerk.house.gov/evs/2007/roll499.xml\n",
      "http://clerk.house.gov/evs/2003/roll476.xml\n",
      "http://clerk.house.gov/evs/2003/roll287.xml\n",
      "http://clerk.house.gov/evs/2005/roll324.xml\n",
      "http://clerk.house.gov/evs/2007/roll498.xml\n",
      "http://clerk.house.gov/evs/2003/roll475.xml\n",
      "http://clerk.house.gov/evs/2003/roll285.xml\n",
      "http://clerk.house.gov/evs/2005/roll323.xml\n",
      "http://clerk.house.gov/evs/2007/roll497.xml\n"
     ]
    },
    {
     "name": "stderr",
     "output_type": "stream",
     "text": [
      "Traceback (most recent call last):\n",
      "  File \"<ipython-input-8-530adc215787>\", line 7, in house_rollcall_individual_parallel\n",
      "    obj.roll_call_single_to_psql(year, rollcall)\n",
      "  File \"/Users/benellis/Projects/congress/congress/etl/house_votes.py\", line 183, in roll_call_single_to_psql\n",
      "    df = self.roll_call_single(year, roll)\n",
      "  File \"/Users/benellis/Projects/congress/congress/etl/house_votes.py\", line 142, in roll_call_single\n",
      "    chamber = soup.find('chamber').text\n",
      "AttributeError: 'NoneType' object has no attribute 'text'\n"
     ]
    },
    {
     "name": "stdout",
     "output_type": "stream",
     "text": [
      "http://clerk.house.gov/evs/2007/roll496.xml\n"
     ]
    },
    {
     "name": "stderr",
     "output_type": "stream",
     "text": [
      "Traceback (most recent call last):\n",
      "  File \"<ipython-input-8-530adc215787>\", line 7, in house_rollcall_individual_parallel\n",
      "    obj.roll_call_single_to_psql(year, rollcall)\n",
      "  File \"/Users/benellis/Projects/congress/congress/etl/house_votes.py\", line 183, in roll_call_single_to_psql\n",
      "    df = self.roll_call_single(year, roll)\n",
      "  File \"/Users/benellis/Projects/congress/congress/etl/house_votes.py\", line 142, in roll_call_single\n",
      "    chamber = soup.find('chamber').text\n",
      "AttributeError: 'NoneType' object has no attribute 'text'\n"
     ]
    },
    {
     "name": "stdout",
     "output_type": "stream",
     "text": [
      "http://clerk.house.gov/evs/2007/roll495.xml\n",
      "http://clerk.house.gov/evs/2003/roll474.xml\n"
     ]
    },
    {
     "name": "stderr",
     "output_type": "stream",
     "text": [
      "Traceback (most recent call last):\n",
      "  File \"<ipython-input-8-530adc215787>\", line 7, in house_rollcall_individual_parallel\n",
      "    obj.roll_call_single_to_psql(year, rollcall)\n",
      "  File \"/Users/benellis/Projects/congress/congress/etl/house_votes.py\", line 183, in roll_call_single_to_psql\n",
      "    df = self.roll_call_single(year, roll)\n",
      "  File \"/Users/benellis/Projects/congress/congress/etl/house_votes.py\", line 142, in roll_call_single\n",
      "    chamber = soup.find('chamber').text\n",
      "AttributeError: 'NoneType' object has no attribute 'text'\n"
     ]
    },
    {
     "name": "stdout",
     "output_type": "stream",
     "text": [
      "http://clerk.house.gov/evs/2007/roll494.xml\n",
      "http://clerk.house.gov/evs/2003/roll284.xml\n"
     ]
    },
    {
     "name": "stderr",
     "output_type": "stream",
     "text": [
      "Traceback (most recent call last):\n",
      "  File \"<ipython-input-8-530adc215787>\", line 7, in house_rollcall_individual_parallel\n",
      "    obj.roll_call_single_to_psql(year, rollcall)\n",
      "  File \"/Users/benellis/Projects/congress/congress/etl/house_votes.py\", line 183, in roll_call_single_to_psql\n",
      "    df = self.roll_call_single(year, roll)\n",
      "  File \"/Users/benellis/Projects/congress/congress/etl/house_votes.py\", line 142, in roll_call_single\n",
      "    chamber = soup.find('chamber').text\n",
      "AttributeError: 'NoneType' object has no attribute 'text'\n"
     ]
    },
    {
     "name": "stdout",
     "output_type": "stream",
     "text": [
      "http://clerk.house.gov/evs/2007/roll493.xml\n",
      "http://clerk.house.gov/evs/2005/roll322.xml\n"
     ]
    },
    {
     "name": "stderr",
     "output_type": "stream",
     "text": [
      "Traceback (most recent call last):\n",
      "  File \"<ipython-input-8-530adc215787>\", line 7, in house_rollcall_individual_parallel\n",
      "    obj.roll_call_single_to_psql(year, rollcall)\n",
      "  File \"/Users/benellis/Projects/congress/congress/etl/house_votes.py\", line 183, in roll_call_single_to_psql\n",
      "    df = self.roll_call_single(year, roll)\n",
      "  File \"/Users/benellis/Projects/congress/congress/etl/house_votes.py\", line 142, in roll_call_single\n",
      "    chamber = soup.find('chamber').text\n",
      "AttributeError: 'NoneType' object has no attribute 'text'\n"
     ]
    },
    {
     "name": "stdout",
     "output_type": "stream",
     "text": [
      "http://clerk.house.gov/evs/2007/roll492.xml\n"
     ]
    },
    {
     "name": "stderr",
     "output_type": "stream",
     "text": [
      "Traceback (most recent call last):\n",
      "  File \"<ipython-input-8-530adc215787>\", line 7, in house_rollcall_individual_parallel\n",
      "    obj.roll_call_single_to_psql(year, rollcall)\n",
      "  File \"/Users/benellis/Projects/congress/congress/etl/house_votes.py\", line 183, in roll_call_single_to_psql\n",
      "    df = self.roll_call_single(year, roll)\n",
      "  File \"/Users/benellis/Projects/congress/congress/etl/house_votes.py\", line 142, in roll_call_single\n",
      "    chamber = soup.find('chamber').text\n",
      "AttributeError: 'NoneType' object has no attribute 'text'\n"
     ]
    },
    {
     "name": "stdout",
     "output_type": "stream",
     "text": [
      "http://clerk.house.gov/evs/2007/roll491.xml\n",
      "http://clerk.house.gov/evs/2003/roll473.xml\n",
      "http://clerk.house.gov/evs/2003/roll283.xml\n",
      "http://clerk.house.gov/evs/2005/roll321.xml\n",
      "http://clerk.house.gov/evs/2007/roll490.xml\n",
      "http://clerk.house.gov/evs/2003/roll472.xml\n",
      "http://clerk.house.gov/evs/2003/roll282.xml\n",
      "http://clerk.house.gov/evs/2005/roll320.xml\n",
      "http://clerk.house.gov/evs/2007/roll489.xml\n"
     ]
    },
    {
     "name": "stderr",
     "output_type": "stream",
     "text": [
      "Traceback (most recent call last):\n"
     ]
    },
    {
     "name": "stdout",
     "output_type": "stream",
     "text": [
      "http://clerk.house.gov/evs/2003/roll471.xml\n"
     ]
    },
    {
     "name": "stderr",
     "output_type": "stream",
     "text": [
      "  File \"<ipython-input-8-530adc215787>\", line 7, in house_rollcall_individual_parallel\n",
      "    obj.roll_call_single_to_psql(year, rollcall)\n",
      "  File \"/Users/benellis/Projects/congress/congress/etl/house_votes.py\", line 183, in roll_call_single_to_psql\n",
      "    df = self.roll_call_single(year, roll)\n",
      "  File \"/Users/benellis/Projects/congress/congress/etl/house_votes.py\", line 142, in roll_call_single\n",
      "    chamber = soup.find('chamber').text\n",
      "AttributeError: 'NoneType' object has no attribute 'text'\n"
     ]
    },
    {
     "name": "stdout",
     "output_type": "stream",
     "text": [
      "http://clerk.house.gov/evs/2007/roll488.xml\n"
     ]
    },
    {
     "name": "stderr",
     "output_type": "stream",
     "text": [
      "Traceback (most recent call last):\n",
      "  File \"<ipython-input-8-530adc215787>\", line 7, in house_rollcall_individual_parallel\n",
      "    obj.roll_call_single_to_psql(year, rollcall)\n",
      "  File \"/Users/benellis/Projects/congress/congress/etl/house_votes.py\", line 183, in roll_call_single_to_psql\n",
      "    df = self.roll_call_single(year, roll)\n",
      "  File \"/Users/benellis/Projects/congress/congress/etl/house_votes.py\", line 142, in roll_call_single\n",
      "    chamber = soup.find('chamber').text\n",
      "AttributeError: 'NoneType' object has no attribute 'text'\n"
     ]
    },
    {
     "name": "stdout",
     "output_type": "stream",
     "text": [
      "http://clerk.house.gov/evs/2007/roll487.xml\n",
      "http://clerk.house.gov/evs/2003/roll281.xml\n"
     ]
    },
    {
     "name": "stderr",
     "output_type": "stream",
     "text": [
      "Traceback (most recent call last):\n",
      "  File \"<ipython-input-8-530adc215787>\", line 7, in house_rollcall_individual_parallel\n",
      "    obj.roll_call_single_to_psql(year, rollcall)\n",
      "  File \"/Users/benellis/Projects/congress/congress/etl/house_votes.py\", line 183, in roll_call_single_to_psql\n",
      "    df = self.roll_call_single(year, roll)\n",
      "  File \"/Users/benellis/Projects/congress/congress/etl/house_votes.py\", line 142, in roll_call_single\n",
      "    chamber = soup.find('chamber').text\n",
      "AttributeError: 'NoneType' object has no attribute 'text'\n"
     ]
    },
    {
     "name": "stdout",
     "output_type": "stream",
     "text": [
      "http://clerk.house.gov/evs/2007/roll486.xml\n",
      "http://clerk.house.gov/evs/2005/roll319.xml\n"
     ]
    },
    {
     "name": "stderr",
     "output_type": "stream",
     "text": [
      "Traceback (most recent call last):\n",
      "  File \"<ipython-input-8-530adc215787>\", line 7, in house_rollcall_individual_parallel\n",
      "    obj.roll_call_single_to_psql(year, rollcall)\n",
      "  File \"/Users/benellis/Projects/congress/congress/etl/house_votes.py\", line 183, in roll_call_single_to_psql\n",
      "    df = self.roll_call_single(year, roll)\n",
      "  File \"/Users/benellis/Projects/congress/congress/etl/house_votes.py\", line 142, in roll_call_single\n",
      "    chamber = soup.find('chamber').text\n",
      "AttributeError: 'NoneType' object has no attribute 'text'\n"
     ]
    },
    {
     "name": "stdout",
     "output_type": "stream",
     "text": [
      "http://clerk.house.gov/evs/2007/roll485.xml\n"
     ]
    },
    {
     "name": "stderr",
     "output_type": "stream",
     "text": [
      "Traceback (most recent call last):\n",
      "  File \"<ipython-input-8-530adc215787>\", line 7, in house_rollcall_individual_parallel\n",
      "    obj.roll_call_single_to_psql(year, rollcall)\n",
      "  File \"/Users/benellis/Projects/congress/congress/etl/house_votes.py\", line 183, in roll_call_single_to_psql\n",
      "    df = self.roll_call_single(year, roll)\n",
      "  File \"/Users/benellis/Projects/congress/congress/etl/house_votes.py\", line 142, in roll_call_single\n",
      "    chamber = soup.find('chamber').text\n",
      "AttributeError: 'NoneType' object has no attribute 'text'\n"
     ]
    },
    {
     "name": "stdout",
     "output_type": "stream",
     "text": [
      "http://clerk.house.gov/evs/2007/roll484.xml\n"
     ]
    },
    {
     "name": "stderr",
     "output_type": "stream",
     "text": [
      "Traceback (most recent call last):\n",
      "  File \"<ipython-input-8-530adc215787>\", line 7, in house_rollcall_individual_parallel\n",
      "    obj.roll_call_single_to_psql(year, rollcall)\n",
      "  File \"/Users/benellis/Projects/congress/congress/etl/house_votes.py\", line 183, in roll_call_single_to_psql\n",
      "    df = self.roll_call_single(year, roll)\n",
      "  File \"/Users/benellis/Projects/congress/congress/etl/house_votes.py\", line 142, in roll_call_single\n",
      "    chamber = soup.find('chamber').text\n",
      "AttributeError: 'NoneType' object has no attribute 'text'\n"
     ]
    },
    {
     "name": "stdout",
     "output_type": "stream",
     "text": [
      "http://clerk.house.gov/evs/2007/roll483.xml\n",
      "http://clerk.house.gov/evs/2003/roll470.xml\n"
     ]
    },
    {
     "name": "stderr",
     "output_type": "stream",
     "text": [
      "Traceback (most recent call last):\n",
      "  File \"<ipython-input-8-530adc215787>\", line 7, in house_rollcall_individual_parallel\n",
      "    obj.roll_call_single_to_psql(year, rollcall)\n",
      "  File \"/Users/benellis/Projects/congress/congress/etl/house_votes.py\", line 183, in roll_call_single_to_psql\n",
      "    df = self.roll_call_single(year, roll)\n",
      "  File \"/Users/benellis/Projects/congress/congress/etl/house_votes.py\", line 142, in roll_call_single\n",
      "    chamber = soup.find('chamber').text\n",
      "AttributeError: 'NoneType' object has no attribute 'text'\n"
     ]
    },
    {
     "name": "stdout",
     "output_type": "stream",
     "text": [
      "http://clerk.house.gov/evs/2007/roll482.xml\n"
     ]
    },
    {
     "name": "stderr",
     "output_type": "stream",
     "text": [
      "Traceback (most recent call last):\n",
      "  File \"<ipython-input-8-530adc215787>\", line 7, in house_rollcall_individual_parallel\n",
      "    obj.roll_call_single_to_psql(year, rollcall)\n",
      "  File \"/Users/benellis/Projects/congress/congress/etl/house_votes.py\", line 183, in roll_call_single_to_psql\n",
      "    df = self.roll_call_single(year, roll)\n",
      "  File \"/Users/benellis/Projects/congress/congress/etl/house_votes.py\", line 142, in roll_call_single\n",
      "    chamber = soup.find('chamber').text\n",
      "AttributeError: 'NoneType' object has no attribute 'text'\n"
     ]
    },
    {
     "name": "stdout",
     "output_type": "stream",
     "text": [
      "http://clerk.house.gov/evs/2007/roll481.xml\n",
      "http://clerk.house.gov/evs/2008/roll170.xml\n",
      "http://clerk.house.gov/evs/2005/roll318.xml\n"
     ]
    },
    {
     "name": "stderr",
     "output_type": "stream",
     "text": [
      "Traceback (most recent call last):\n",
      "  File \"<ipython-input-8-530adc215787>\", line 7, in house_rollcall_individual_parallel\n",
      "    obj.roll_call_single_to_psql(year, rollcall)\n",
      "  File \"/Users/benellis/Projects/congress/congress/etl/house_votes.py\", line 183, in roll_call_single_to_psql\n",
      "    df = self.roll_call_single(year, roll)\n",
      "  File \"/Users/benellis/Projects/congress/congress/etl/house_votes.py\", line 142, in roll_call_single\n",
      "    chamber = soup.find('chamber').text\n",
      "AttributeError: 'NoneType' object has no attribute 'text'\n"
     ]
    },
    {
     "name": "stdout",
     "output_type": "stream",
     "text": [
      "http://clerk.house.gov/evs/2007/roll480.xml\n"
     ]
    },
    {
     "name": "stderr",
     "output_type": "stream",
     "text": [
      "Traceback (most recent call last):\n",
      "  File \"<ipython-input-8-530adc215787>\", line 7, in house_rollcall_individual_parallel\n",
      "    obj.roll_call_single_to_psql(year, rollcall)\n",
      "  File \"/Users/benellis/Projects/congress/congress/etl/house_votes.py\", line 183, in roll_call_single_to_psql\n",
      "    df = self.roll_call_single(year, roll)\n",
      "  File \"/Users/benellis/Projects/congress/congress/etl/house_votes.py\", line 142, in roll_call_single\n",
      "    chamber = soup.find('chamber').text\n",
      "AttributeError: 'NoneType' object has no attribute 'text'\n"
     ]
    },
    {
     "name": "stdout",
     "output_type": "stream",
     "text": [
      "http://clerk.house.gov/evs/2008/roll169.xml\n"
     ]
    },
    {
     "name": "stderr",
     "output_type": "stream",
     "text": [
      "Traceback (most recent call last):\n",
      "  File \"<ipython-input-8-530adc215787>\", line 7, in house_rollcall_individual_parallel\n",
      "    obj.roll_call_single_to_psql(year, rollcall)\n",
      "  File \"/Users/benellis/Projects/congress/congress/etl/house_votes.py\", line 183, in roll_call_single_to_psql\n",
      "    df = self.roll_call_single(year, roll)\n",
      "  File \"/Users/benellis/Projects/congress/congress/etl/house_votes.py\", line 142, in roll_call_single\n",
      "    chamber = soup.find('chamber').text\n",
      "AttributeError: 'NoneType' object has no attribute 'text'\n"
     ]
    },
    {
     "name": "stdout",
     "output_type": "stream",
     "text": [
      "http://clerk.house.gov/evs/2007/roll479.xml\n"
     ]
    },
    {
     "name": "stderr",
     "output_type": "stream",
     "text": [
      "Traceback (most recent call last):\n",
      "  File \"<ipython-input-8-530adc215787>\", line 7, in house_rollcall_individual_parallel\n",
      "    obj.roll_call_single_to_psql(year, rollcall)\n",
      "  File \"/Users/benellis/Projects/congress/congress/etl/house_votes.py\", line 183, in roll_call_single_to_psql\n",
      "    df = self.roll_call_single(year, roll)\n",
      "  File \"/Users/benellis/Projects/congress/congress/etl/house_votes.py\", line 142, in roll_call_single\n",
      "    chamber = soup.find('chamber').text\n",
      "AttributeError: 'NoneType' object has no attribute 'text'\n"
     ]
    },
    {
     "name": "stdout",
     "output_type": "stream",
     "text": [
      "http://clerk.house.gov/evs/2008/roll168.xml\n"
     ]
    },
    {
     "name": "stderr",
     "output_type": "stream",
     "text": [
      "Traceback (most recent call last):\n",
      "  File \"<ipython-input-8-530adc215787>\", line 7, in house_rollcall_individual_parallel\n",
      "    obj.roll_call_single_to_psql(year, rollcall)\n",
      "  File \"/Users/benellis/Projects/congress/congress/etl/house_votes.py\", line 183, in roll_call_single_to_psql\n",
      "    df = self.roll_call_single(year, roll)\n",
      "  File \"/Users/benellis/Projects/congress/congress/etl/house_votes.py\", line 142, in roll_call_single\n",
      "    chamber = soup.find('chamber').text\n",
      "AttributeError: 'NoneType' object has no attribute 'text'\n"
     ]
    },
    {
     "name": "stdout",
     "output_type": "stream",
     "text": [
      "http://clerk.house.gov/evs/2007/roll478.xml\n",
      "http://clerk.house.gov/evs/2003/roll469.xml\n"
     ]
    },
    {
     "name": "stderr",
     "output_type": "stream",
     "text": [
      "Traceback (most recent call last):\n",
      "  File \"<ipython-input-8-530adc215787>\", line 7, in house_rollcall_individual_parallel\n",
      "    obj.roll_call_single_to_psql(year, rollcall)\n",
      "  File \"/Users/benellis/Projects/congress/congress/etl/house_votes.py\", line 183, in roll_call_single_to_psql\n",
      "    df = self.roll_call_single(year, roll)\n",
      "  File \"/Users/benellis/Projects/congress/congress/etl/house_votes.py\", line 142, in roll_call_single\n",
      "    chamber = soup.find('chamber').text\n",
      "AttributeError: 'NoneType' object has no attribute 'text'\n"
     ]
    },
    {
     "name": "stdout",
     "output_type": "stream",
     "text": [
      "http://clerk.house.gov/evs/2008/roll167.xml\n"
     ]
    },
    {
     "name": "stderr",
     "output_type": "stream",
     "text": [
      "Traceback (most recent call last):\n",
      "  File \"<ipython-input-8-530adc215787>\", line 7, in house_rollcall_individual_parallel\n",
      "    obj.roll_call_single_to_psql(year, rollcall)\n",
      "  File \"/Users/benellis/Projects/congress/congress/etl/house_votes.py\", line 183, in roll_call_single_to_psql\n",
      "    df = self.roll_call_single(year, roll)\n",
      "  File \"/Users/benellis/Projects/congress/congress/etl/house_votes.py\", line 142, in roll_call_single\n",
      "    chamber = soup.find('chamber').text\n",
      "AttributeError: 'NoneType' object has no attribute 'text'\n"
     ]
    },
    {
     "name": "stdout",
     "output_type": "stream",
     "text": [
      "http://clerk.house.gov/evs/2007/roll477.xml\n"
     ]
    },
    {
     "name": "stderr",
     "output_type": "stream",
     "text": [
      "Traceback (most recent call last):\n",
      "  File \"<ipython-input-8-530adc215787>\", line 7, in house_rollcall_individual_parallel\n",
      "    obj.roll_call_single_to_psql(year, rollcall)\n",
      "  File \"/Users/benellis/Projects/congress/congress/etl/house_votes.py\", line 183, in roll_call_single_to_psql\n",
      "    df = self.roll_call_single(year, roll)\n",
      "  File \"/Users/benellis/Projects/congress/congress/etl/house_votes.py\", line 142, in roll_call_single\n",
      "    chamber = soup.find('chamber').text\n",
      "AttributeError: 'NoneType' object has no attribute 'text'\n",
      "Traceback (most recent call last):\n",
      "  File \"<ipython-input-8-530adc215787>\", line 7, in house_rollcall_individual_parallel\n",
      "    obj.roll_call_single_to_psql(year, rollcall)\n",
      "  File \"/Users/benellis/Projects/congress/congress/etl/house_votes.py\", line 183, in roll_call_single_to_psql\n",
      "    df = self.roll_call_single(year, roll)\n",
      "  File \"/Users/benellis/Projects/congress/congress/etl/house_votes.py\", line 142, in roll_call_single\n",
      "    chamber = soup.find('chamber').text\n",
      "AttributeError: 'NoneType' object has no attribute 'text'\n"
     ]
    },
    {
     "name": "stdout",
     "output_type": "stream",
     "text": [
      "http://clerk.house.gov/evs/2007/roll476.xml\n",
      "http://clerk.house.gov/evs/2008/roll166.xml\n",
      "http://clerk.house.gov/evs/2005/roll317.xml\n"
     ]
    },
    {
     "name": "stderr",
     "output_type": "stream",
     "text": [
      "Traceback (most recent call last):\n",
      "  File \"<ipython-input-8-530adc215787>\", line 7, in house_rollcall_individual_parallel\n",
      "    obj.roll_call_single_to_psql(year, rollcall)\n",
      "  File \"/Users/benellis/Projects/congress/congress/etl/house_votes.py\", line 183, in roll_call_single_to_psql\n",
      "    df = self.roll_call_single(year, roll)\n",
      "  File \"/Users/benellis/Projects/congress/congress/etl/house_votes.py\", line 142, in roll_call_single\n",
      "    chamber = soup.find('chamber').text\n",
      "AttributeError: 'NoneType' object has no attribute 'text'\n"
     ]
    },
    {
     "name": "stdout",
     "output_type": "stream",
     "text": [
      "http://clerk.house.gov/evs/2007/roll475.xml\n"
     ]
    },
    {
     "name": "stderr",
     "output_type": "stream",
     "text": [
      "Traceback (most recent call last):\n",
      "  File \"<ipython-input-8-530adc215787>\", line 7, in house_rollcall_individual_parallel\n",
      "    obj.roll_call_single_to_psql(year, rollcall)\n",
      "  File \"/Users/benellis/Projects/congress/congress/etl/house_votes.py\", line 183, in roll_call_single_to_psql\n",
      "    df = self.roll_call_single(year, roll)\n",
      "  File \"/Users/benellis/Projects/congress/congress/etl/house_votes.py\", line 142, in roll_call_single\n",
      "    chamber = soup.find('chamber').text\n",
      "AttributeError: 'NoneType' object has no attribute 'text'\n"
     ]
    },
    {
     "name": "stdout",
     "output_type": "stream",
     "text": [
      "http://clerk.house.gov/evs/2007/roll474.xml\n"
     ]
    },
    {
     "name": "stderr",
     "output_type": "stream",
     "text": [
      "Traceback (most recent call last):\n",
      "  File \"<ipython-input-8-530adc215787>\", line 7, in house_rollcall_individual_parallel\n",
      "    obj.roll_call_single_to_psql(year, rollcall)\n",
      "  File \"/Users/benellis/Projects/congress/congress/etl/house_votes.py\", line 183, in roll_call_single_to_psql\n",
      "    df = self.roll_call_single(year, roll)\n",
      "  File \"/Users/benellis/Projects/congress/congress/etl/house_votes.py\", line 142, in roll_call_single\n",
      "    chamber = soup.find('chamber').text\n",
      "AttributeError: 'NoneType' object has no attribute 'text'\n"
     ]
    },
    {
     "name": "stdout",
     "output_type": "stream",
     "text": [
      "http://clerk.house.gov/evs/2007/roll473.xml\n",
      "http://clerk.house.gov/evs/2003/roll468.xml\n"
     ]
    },
    {
     "name": "stderr",
     "output_type": "stream",
     "text": [
      "Traceback (most recent call last):\n",
      "  File \"<ipython-input-8-530adc215787>\", line 7, in house_rollcall_individual_parallel\n",
      "    obj.roll_call_single_to_psql(year, rollcall)\n",
      "  File \"/Users/benellis/Projects/congress/congress/etl/house_votes.py\", line 183, in roll_call_single_to_psql\n",
      "    df = self.roll_call_single(year, roll)\n",
      "  File \"/Users/benellis/Projects/congress/congress/etl/house_votes.py\", line 142, in roll_call_single\n",
      "    chamber = soup.find('chamber').text\n",
      "AttributeError: 'NoneType' object has no attribute 'text'\n"
     ]
    },
    {
     "name": "stdout",
     "output_type": "stream",
     "text": [
      "http://clerk.house.gov/evs/2007/roll472.xml\n"
     ]
    },
    {
     "name": "stderr",
     "output_type": "stream",
     "text": [
      "Traceback (most recent call last):\n",
      "  File \"<ipython-input-8-530adc215787>\", line 7, in house_rollcall_individual_parallel\n",
      "    obj.roll_call_single_to_psql(year, rollcall)\n",
      "  File \"/Users/benellis/Projects/congress/congress/etl/house_votes.py\", line 183, in roll_call_single_to_psql\n",
      "    df = self.roll_call_single(year, roll)\n",
      "  File \"/Users/benellis/Projects/congress/congress/etl/house_votes.py\", line 142, in roll_call_single\n",
      "    chamber = soup.find('chamber').text\n",
      "AttributeError: 'NoneType' object has no attribute 'text'\n"
     ]
    },
    {
     "name": "stdout",
     "output_type": "stream",
     "text": [
      "http://clerk.house.gov/evs/2007/roll471.xml\n",
      "http://clerk.house.gov/evs/2008/roll165.xml\n",
      "http://clerk.house.gov/evs/2005/roll316.xml\n"
     ]
    },
    {
     "name": "stderr",
     "output_type": "stream",
     "text": [
      "Traceback (most recent call last):\n",
      "  File \"<ipython-input-8-530adc215787>\", line 7, in house_rollcall_individual_parallel\n",
      "    obj.roll_call_single_to_psql(year, rollcall)\n",
      "  File \"/Users/benellis/Projects/congress/congress/etl/house_votes.py\", line 183, in roll_call_single_to_psql\n",
      "    df = self.roll_call_single(year, roll)\n",
      "  File \"/Users/benellis/Projects/congress/congress/etl/house_votes.py\", line 142, in roll_call_single\n",
      "    chamber = soup.find('chamber').text\n",
      "AttributeError: 'NoneType' object has no attribute 'text'\n"
     ]
    },
    {
     "name": "stdout",
     "output_type": "stream",
     "text": [
      "http://clerk.house.gov/evs/2007/roll470.xml\n"
     ]
    },
    {
     "name": "stderr",
     "output_type": "stream",
     "text": [
      "Traceback (most recent call last):\n",
      "  File \"<ipython-input-8-530adc215787>\", line 7, in house_rollcall_individual_parallel\n",
      "    obj.roll_call_single_to_psql(year, rollcall)\n",
      "  File \"/Users/benellis/Projects/congress/congress/etl/house_votes.py\", line 183, in roll_call_single_to_psql\n",
      "    df = self.roll_call_single(year, roll)\n",
      "  File \"/Users/benellis/Projects/congress/congress/etl/house_votes.py\", line 142, in roll_call_single\n",
      "    chamber = soup.find('chamber').text\n",
      "AttributeError: 'NoneType' object has no attribute 'text'\n"
     ]
    },
    {
     "name": "stdout",
     "output_type": "stream",
     "text": [
      "http://clerk.house.gov/evs/2007/roll469.xml\n"
     ]
    },
    {
     "name": "stderr",
     "output_type": "stream",
     "text": [
      "Traceback (most recent call last):\n",
      "  File \"<ipython-input-8-530adc215787>\", line 7, in house_rollcall_individual_parallel\n",
      "    obj.roll_call_single_to_psql(year, rollcall)\n",
      "  File \"/Users/benellis/Projects/congress/congress/etl/house_votes.py\", line 183, in roll_call_single_to_psql\n",
      "    df = self.roll_call_single(year, roll)\n",
      "  File \"/Users/benellis/Projects/congress/congress/etl/house_votes.py\", line 142, in roll_call_single\n",
      "    chamber = soup.find('chamber').text\n",
      "AttributeError: 'NoneType' object has no attribute 'text'\n"
     ]
    },
    {
     "name": "stdout",
     "output_type": "stream",
     "text": [
      "http://clerk.house.gov/evs/2007/roll468.xml\n",
      "http://clerk.house.gov/evs/2003/roll467.xml\n"
     ]
    },
    {
     "name": "stderr",
     "output_type": "stream",
     "text": [
      "Traceback (most recent call last):\n",
      "  File \"<ipython-input-8-530adc215787>\", line 7, in house_rollcall_individual_parallel\n",
      "    obj.roll_call_single_to_psql(year, rollcall)\n",
      "  File \"/Users/benellis/Projects/congress/congress/etl/house_votes.py\", line 183, in roll_call_single_to_psql\n",
      "    df = self.roll_call_single(year, roll)\n",
      "  File \"/Users/benellis/Projects/congress/congress/etl/house_votes.py\", line 142, in roll_call_single\n",
      "    chamber = soup.find('chamber').text\n",
      "AttributeError: 'NoneType' object has no attribute 'text'\n"
     ]
    },
    {
     "name": "stdout",
     "output_type": "stream",
     "text": [
      "http://clerk.house.gov/evs/2007/roll467.xml\n"
     ]
    },
    {
     "name": "stderr",
     "output_type": "stream",
     "text": [
      "Traceback (most recent call last):\n",
      "  File \"<ipython-input-8-530adc215787>\", line 7, in house_rollcall_individual_parallel\n",
      "    obj.roll_call_single_to_psql(year, rollcall)\n",
      "  File \"/Users/benellis/Projects/congress/congress/etl/house_votes.py\", line 183, in roll_call_single_to_psql\n",
      "    df = self.roll_call_single(year, roll)\n",
      "  File \"/Users/benellis/Projects/congress/congress/etl/house_votes.py\", line 142, in roll_call_single\n",
      "    chamber = soup.find('chamber').text\n",
      "AttributeError: 'NoneType' object has no attribute 'text'\n"
     ]
    },
    {
     "name": "stdout",
     "output_type": "stream",
     "text": [
      "http://clerk.house.gov/evs/2007/roll466.xml\n"
     ]
    },
    {
     "name": "stderr",
     "output_type": "stream",
     "text": [
      "Traceback (most recent call last):\n",
      "  File \"<ipython-input-8-530adc215787>\", line 7, in house_rollcall_individual_parallel\n",
      "    obj.roll_call_single_to_psql(year, rollcall)\n",
      "  File \"/Users/benellis/Projects/congress/congress/etl/house_votes.py\", line 183, in roll_call_single_to_psql\n",
      "    df = self.roll_call_single(year, roll)\n",
      "  File \"/Users/benellis/Projects/congress/congress/etl/house_votes.py\", line 142, in roll_call_single\n",
      "    chamber = soup.find('chamber').text\n",
      "AttributeError: 'NoneType' object has no attribute 'text'\n"
     ]
    },
    {
     "name": "stdout",
     "output_type": "stream",
     "text": [
      "http://clerk.house.gov/evs/2007/roll465.xml\n",
      "http://clerk.house.gov/evs/2005/roll315.xml\n",
      "http://clerk.house.gov/evs/2008/roll164.xml\n"
     ]
    },
    {
     "name": "stderr",
     "output_type": "stream",
     "text": [
      "Traceback (most recent call last):\n",
      "  File \"<ipython-input-8-530adc215787>\", line 7, in house_rollcall_individual_parallel\n",
      "    obj.roll_call_single_to_psql(year, rollcall)\n",
      "  File \"/Users/benellis/Projects/congress/congress/etl/house_votes.py\", line 183, in roll_call_single_to_psql\n",
      "    df = self.roll_call_single(year, roll)\n",
      "  File \"/Users/benellis/Projects/congress/congress/etl/house_votes.py\", line 142, in roll_call_single\n",
      "    chamber = soup.find('chamber').text\n",
      "AttributeError: 'NoneType' object has no attribute 'text'\n"
     ]
    },
    {
     "name": "stdout",
     "output_type": "stream",
     "text": [
      "http://clerk.house.gov/evs/2007/roll464.xml\n"
     ]
    },
    {
     "name": "stderr",
     "output_type": "stream",
     "text": [
      "Traceback (most recent call last):\n",
      "  File \"<ipython-input-8-530adc215787>\", line 7, in house_rollcall_individual_parallel\n",
      "    obj.roll_call_single_to_psql(year, rollcall)\n",
      "  File \"/Users/benellis/Projects/congress/congress/etl/house_votes.py\", line 183, in roll_call_single_to_psql\n",
      "    df = self.roll_call_single(year, roll)\n",
      "  File \"/Users/benellis/Projects/congress/congress/etl/house_votes.py\", line 142, in roll_call_single\n",
      "    chamber = soup.find('chamber').text\n",
      "AttributeError: 'NoneType' object has no attribute 'text'\n"
     ]
    },
    {
     "name": "stdout",
     "output_type": "stream",
     "text": [
      "http://clerk.house.gov/evs/2007/roll463.xml\n"
     ]
    },
    {
     "name": "stderr",
     "output_type": "stream",
     "text": [
      "Traceback (most recent call last):\n",
      "  File \"<ipython-input-8-530adc215787>\", line 7, in house_rollcall_individual_parallel\n",
      "    obj.roll_call_single_to_psql(year, rollcall)\n",
      "  File \"/Users/benellis/Projects/congress/congress/etl/house_votes.py\", line 183, in roll_call_single_to_psql\n",
      "    df = self.roll_call_single(year, roll)\n",
      "  File \"/Users/benellis/Projects/congress/congress/etl/house_votes.py\", line 142, in roll_call_single\n",
      "    chamber = soup.find('chamber').text\n",
      "AttributeError: 'NoneType' object has no attribute 'text'\n"
     ]
    },
    {
     "name": "stdout",
     "output_type": "stream",
     "text": [
      "http://clerk.house.gov/evs/2007/roll462.xml\n",
      "http://clerk.house.gov/evs/2003/roll466.xml\n"
     ]
    },
    {
     "name": "stderr",
     "output_type": "stream",
     "text": [
      "Traceback (most recent call last):\n",
      "  File \"<ipython-input-8-530adc215787>\", line 7, in house_rollcall_individual_parallel\n",
      "    obj.roll_call_single_to_psql(year, rollcall)\n",
      "  File \"/Users/benellis/Projects/congress/congress/etl/house_votes.py\", line 183, in roll_call_single_to_psql\n",
      "    df = self.roll_call_single(year, roll)\n",
      "  File \"/Users/benellis/Projects/congress/congress/etl/house_votes.py\", line 142, in roll_call_single\n",
      "    chamber = soup.find('chamber').text\n",
      "AttributeError: 'NoneType' object has no attribute 'text'\n"
     ]
    },
    {
     "name": "stdout",
     "output_type": "stream",
     "text": [
      "http://clerk.house.gov/evs/2007/roll461.xml\n"
     ]
    },
    {
     "name": "stderr",
     "output_type": "stream",
     "text": [
      "Traceback (most recent call last):\n",
      "  File \"<ipython-input-8-530adc215787>\", line 7, in house_rollcall_individual_parallel\n",
      "    obj.roll_call_single_to_psql(year, rollcall)\n",
      "  File \"/Users/benellis/Projects/congress/congress/etl/house_votes.py\", line 183, in roll_call_single_to_psql\n",
      "    df = self.roll_call_single(year, roll)\n",
      "  File \"/Users/benellis/Projects/congress/congress/etl/house_votes.py\", line 142, in roll_call_single\n",
      "    chamber = soup.find('chamber').text\n",
      "AttributeError: 'NoneType' object has no attribute 'text'\n"
     ]
    },
    {
     "name": "stdout",
     "output_type": "stream",
     "text": [
      "http://clerk.house.gov/evs/2007/roll460.xml\n",
      "http://clerk.house.gov/evs/2005/roll314.xml\n",
      "http://clerk.house.gov/evs/2008/roll163.xml\n"
     ]
    },
    {
     "name": "stderr",
     "output_type": "stream",
     "text": [
      "Traceback (most recent call last):\n",
      "  File \"<ipython-input-8-530adc215787>\", line 7, in house_rollcall_individual_parallel\n",
      "    obj.roll_call_single_to_psql(year, rollcall)\n",
      "  File \"/Users/benellis/Projects/congress/congress/etl/house_votes.py\", line 183, in roll_call_single_to_psql\n",
      "    df = self.roll_call_single(year, roll)\n",
      "  File \"/Users/benellis/Projects/congress/congress/etl/house_votes.py\", line 142, in roll_call_single\n",
      "    chamber = soup.find('chamber').text\n",
      "AttributeError: 'NoneType' object has no attribute 'text'\n"
     ]
    },
    {
     "name": "stdout",
     "output_type": "stream",
     "text": [
      "http://clerk.house.gov/evs/2007/roll459.xml\n"
     ]
    },
    {
     "name": "stderr",
     "output_type": "stream",
     "text": [
      "Traceback (most recent call last):\n",
      "  File \"<ipython-input-8-530adc215787>\", line 7, in house_rollcall_individual_parallel\n",
      "    obj.roll_call_single_to_psql(year, rollcall)\n",
      "  File \"/Users/benellis/Projects/congress/congress/etl/house_votes.py\", line 183, in roll_call_single_to_psql\n",
      "    df = self.roll_call_single(year, roll)\n",
      "  File \"/Users/benellis/Projects/congress/congress/etl/house_votes.py\", line 142, in roll_call_single\n",
      "    chamber = soup.find('chamber').text\n",
      "AttributeError: 'NoneType' object has no attribute 'text'\n"
     ]
    },
    {
     "name": "stdout",
     "output_type": "stream",
     "text": [
      "http://clerk.house.gov/evs/2007/roll458.xml\n"
     ]
    },
    {
     "name": "stderr",
     "output_type": "stream",
     "text": [
      "Traceback (most recent call last):\n",
      "  File \"<ipython-input-8-530adc215787>\", line 7, in house_rollcall_individual_parallel\n",
      "    obj.roll_call_single_to_psql(year, rollcall)\n",
      "  File \"/Users/benellis/Projects/congress/congress/etl/house_votes.py\", line 183, in roll_call_single_to_psql\n",
      "    df = self.roll_call_single(year, roll)\n",
      "  File \"/Users/benellis/Projects/congress/congress/etl/house_votes.py\", line 142, in roll_call_single\n",
      "    chamber = soup.find('chamber').text\n",
      "AttributeError: 'NoneType' object has no attribute 'text'\n"
     ]
    },
    {
     "name": "stdout",
     "output_type": "stream",
     "text": [
      "http://clerk.house.gov/evs/2007/roll457.xml\n"
     ]
    },
    {
     "name": "stderr",
     "output_type": "stream",
     "text": [
      "Traceback (most recent call last):\n",
      "  File \"<ipython-input-8-530adc215787>\", line 7, in house_rollcall_individual_parallel\n",
      "    obj.roll_call_single_to_psql(year, rollcall)\n",
      "  File \"/Users/benellis/Projects/congress/congress/etl/house_votes.py\", line 183, in roll_call_single_to_psql\n",
      "    df = self.roll_call_single(year, roll)\n",
      "  File \"/Users/benellis/Projects/congress/congress/etl/house_votes.py\", line 142, in roll_call_single\n",
      "    chamber = soup.find('chamber').text\n",
      "AttributeError: 'NoneType' object has no attribute 'text'\n"
     ]
    },
    {
     "name": "stdout",
     "output_type": "stream",
     "text": [
      "http://clerk.house.gov/evs/2007/roll456.xml\n"
     ]
    },
    {
     "name": "stderr",
     "output_type": "stream",
     "text": [
      "Traceback (most recent call last):\n"
     ]
    },
    {
     "name": "stdout",
     "output_type": "stream",
     "text": [
      "http://clerk.house.gov/evs/2003/roll465.xml\n"
     ]
    },
    {
     "name": "stderr",
     "output_type": "stream",
     "text": [
      "  File \"<ipython-input-8-530adc215787>\", line 7, in house_rollcall_individual_parallel\n",
      "    obj.roll_call_single_to_psql(year, rollcall)\n",
      "  File \"/Users/benellis/Projects/congress/congress/etl/house_votes.py\", line 183, in roll_call_single_to_psql\n",
      "    df = self.roll_call_single(year, roll)\n",
      "  File \"/Users/benellis/Projects/congress/congress/etl/house_votes.py\", line 142, in roll_call_single\n",
      "    chamber = soup.find('chamber').text\n",
      "AttributeError: 'NoneType' object has no attribute 'text'\n"
     ]
    },
    {
     "name": "stdout",
     "output_type": "stream",
     "text": [
      "http://clerk.house.gov/evs/2007/roll455.xml\n"
     ]
    },
    {
     "name": "stderr",
     "output_type": "stream",
     "text": [
      "Traceback (most recent call last):\n",
      "  File \"<ipython-input-8-530adc215787>\", line 7, in house_rollcall_individual_parallel\n",
      "    obj.roll_call_single_to_psql(year, rollcall)\n",
      "  File \"/Users/benellis/Projects/congress/congress/etl/house_votes.py\", line 183, in roll_call_single_to_psql\n",
      "    df = self.roll_call_single(year, roll)\n",
      "  File \"/Users/benellis/Projects/congress/congress/etl/house_votes.py\", line 142, in roll_call_single\n",
      "    chamber = soup.find('chamber').text\n",
      "AttributeError: 'NoneType' object has no attribute 'text'\n"
     ]
    },
    {
     "name": "stdout",
     "output_type": "stream",
     "text": [
      "http://clerk.house.gov/evs/2007/roll454.xml\n"
     ]
    },
    {
     "name": "stderr",
     "output_type": "stream",
     "text": [
      "Traceback (most recent call last):\n",
      "  File \"<ipython-input-8-530adc215787>\", line 7, in house_rollcall_individual_parallel\n",
      "    obj.roll_call_single_to_psql(year, rollcall)\n",
      "  File \"/Users/benellis/Projects/congress/congress/etl/house_votes.py\", line 183, in roll_call_single_to_psql\n",
      "    df = self.roll_call_single(year, roll)\n",
      "  File \"/Users/benellis/Projects/congress/congress/etl/house_votes.py\", line 142, in roll_call_single\n",
      "    chamber = soup.find('chamber').text\n",
      "AttributeError: 'NoneType' object has no attribute 'text'\n"
     ]
    },
    {
     "name": "stdout",
     "output_type": "stream",
     "text": [
      "http://clerk.house.gov/evs/2007/roll453.xml\n",
      "http://clerk.house.gov/evs/2008/roll161.xml\n",
      "http://clerk.house.gov/evs/2005/roll313.xml\n"
     ]
    },
    {
     "name": "stderr",
     "output_type": "stream",
     "text": [
      "Traceback (most recent call last):\n",
      "  File \"<ipython-input-8-530adc215787>\", line 7, in house_rollcall_individual_parallel\n",
      "    obj.roll_call_single_to_psql(year, rollcall)\n",
      "  File \"/Users/benellis/Projects/congress/congress/etl/house_votes.py\", line 183, in roll_call_single_to_psql\n",
      "    df = self.roll_call_single(year, roll)\n",
      "  File \"/Users/benellis/Projects/congress/congress/etl/house_votes.py\", line 142, in roll_call_single\n",
      "    chamber = soup.find('chamber').text\n",
      "AttributeError: 'NoneType' object has no attribute 'text'\n"
     ]
    },
    {
     "name": "stdout",
     "output_type": "stream",
     "text": [
      "http://clerk.house.gov/evs/2007/roll452.xml\n",
      "http://clerk.house.gov/evs/2003/roll464.xml\n",
      "http://clerk.house.gov/evs/2008/roll160.xml\n",
      "http://clerk.house.gov/evs/2005/roll312.xml\n",
      "http://clerk.house.gov/evs/2007/roll451.xml\n",
      "http://clerk.house.gov/evs/2003/roll463.xml\n",
      "http://clerk.house.gov/evs/2008/roll159.xml\n",
      "http://clerk.house.gov/evs/2005/roll311.xml\n",
      "http://clerk.house.gov/evs/2007/roll450.xml\n",
      "http://clerk.house.gov/evs/2003/roll462.xml\n",
      "http://clerk.house.gov/evs/2008/roll158.xml\n",
      "http://clerk.house.gov/evs/2005/roll310.xml\n",
      "http://clerk.house.gov/evs/2007/roll449.xml\n",
      "http://clerk.house.gov/evs/2003/roll461.xml\n",
      "http://clerk.house.gov/evs/2008/roll157.xml\n",
      "http://clerk.house.gov/evs/2005/roll309.xml\n",
      "http://clerk.house.gov/evs/2007/roll446.xml\n",
      "http://clerk.house.gov/evs/2003/roll460.xml\n",
      "http://clerk.house.gov/evs/2008/roll156.xml\n"
     ]
    },
    {
     "name": "stderr",
     "output_type": "stream",
     "text": [
      "Traceback (most recent call last):\n",
      "  File \"<ipython-input-8-530adc215787>\", line 7, in house_rollcall_individual_parallel\n",
      "    obj.roll_call_single_to_psql(year, rollcall)\n",
      "  File \"/Users/benellis/Projects/congress/congress/etl/house_votes.py\", line 183, in roll_call_single_to_psql\n",
      "    df = self.roll_call_single(year, roll)\n",
      "  File \"/Users/benellis/Projects/congress/congress/etl/house_votes.py\", line 142, in roll_call_single\n",
      "    chamber = soup.find('chamber').text\n",
      "AttributeError: 'NoneType' object has no attribute 'text'\n"
     ]
    },
    {
     "name": "stdout",
     "output_type": "stream",
     "text": [
      "http://clerk.house.gov/evs/2008/roll155.xml\n",
      "http://clerk.house.gov/evs/2005/roll308.xml\n",
      "http://clerk.house.gov/evs/2007/roll445.xml\n",
      "http://clerk.house.gov/evs/2003/roll459.xml\n",
      "http://clerk.house.gov/evs/2008/roll154.xml\n",
      "http://clerk.house.gov/evs/2005/roll307.xml\n",
      "http://clerk.house.gov/evs/2007/roll444.xml\n",
      "http://clerk.house.gov/evs/2003/roll458.xml\n",
      "http://clerk.house.gov/evs/2008/roll152.xml\n",
      "http://clerk.house.gov/evs/2007/roll443.xml\n",
      "http://clerk.house.gov/evs/2005/roll306.xml\n",
      "http://clerk.house.gov/evs/2003/roll457.xml\n",
      "http://clerk.house.gov/evs/2008/roll151.xml\n",
      "http://clerk.house.gov/evs/2007/roll442.xml\n",
      "http://clerk.house.gov/evs/2005/roll305.xml\n",
      "http://clerk.house.gov/evs/2003/roll456.xml\n",
      "http://clerk.house.gov/evs/2008/roll150.xml\n",
      "http://clerk.house.gov/evs/2007/roll441.xml\n",
      "http://clerk.house.gov/evs/2005/roll304.xml\n",
      "http://clerk.house.gov/evs/2003/roll455.xml\n",
      "http://clerk.house.gov/evs/2008/roll149.xml\n",
      "http://clerk.house.gov/evs/2007/roll440.xml\n",
      "http://clerk.house.gov/evs/2005/roll303.xml\n",
      "http://clerk.house.gov/evs/2003/roll454.xml\n",
      "http://clerk.house.gov/evs/2008/roll148.xml\n",
      "http://clerk.house.gov/evs/2007/roll439.xml\n",
      "http://clerk.house.gov/evs/2005/roll302.xml\n",
      "http://clerk.house.gov/evs/2003/roll453.xml\n",
      "http://clerk.house.gov/evs/2008/roll147.xml\n",
      "http://clerk.house.gov/evs/2007/roll438.xml\n",
      "http://clerk.house.gov/evs/2003/roll452.xml\n",
      "http://clerk.house.gov/evs/2005/roll301.xml\n",
      "http://clerk.house.gov/evs/2008/roll145.xml\n",
      "http://clerk.house.gov/evs/2007/roll437.xml\n",
      "http://clerk.house.gov/evs/2003/roll451.xml\n",
      "http://clerk.house.gov/evs/2005/roll300.xml\n",
      "http://clerk.house.gov/evs/2008/roll144.xml\n",
      "http://clerk.house.gov/evs/2007/roll436.xml\n"
     ]
    },
    {
     "name": "stderr",
     "output_type": "stream",
     "text": [
      "Traceback (most recent call last):\n",
      "  File \"<ipython-input-8-530adc215787>\", line 7, in house_rollcall_individual_parallel\n",
      "    obj.roll_call_single_to_psql(year, rollcall)\n",
      "  File \"/Users/benellis/Projects/congress/congress/etl/house_votes.py\", line 183, in roll_call_single_to_psql\n",
      "    df = self.roll_call_single(year, roll)\n",
      "  File \"/Users/benellis/Projects/congress/congress/etl/house_votes.py\", line 142, in roll_call_single\n",
      "    chamber = soup.find('chamber').text\n",
      "AttributeError: 'NoneType' object has no attribute 'text'\n"
     ]
    },
    {
     "name": "stdout",
     "output_type": "stream",
     "text": [
      "http://clerk.house.gov/evs/2007/roll435.xml\n",
      "http://clerk.house.gov/evs/2003/roll450.xml\n"
     ]
    },
    {
     "name": "stderr",
     "output_type": "stream",
     "text": [
      "Traceback (most recent call last):\n",
      "  File \"<ipython-input-8-530adc215787>\", line 7, in house_rollcall_individual_parallel\n",
      "    obj.roll_call_single_to_psql(year, rollcall)\n",
      "  File \"/Users/benellis/Projects/congress/congress/etl/house_votes.py\", line 183, in roll_call_single_to_psql\n",
      "    df = self.roll_call_single(year, roll)\n",
      "  File \"/Users/benellis/Projects/congress/congress/etl/house_votes.py\", line 142, in roll_call_single\n",
      "    chamber = soup.find('chamber').text\n",
      "AttributeError: 'NoneType' object has no attribute 'text'\n"
     ]
    },
    {
     "name": "stdout",
     "output_type": "stream",
     "text": [
      "http://clerk.house.gov/evs/2007/roll434.xml\n",
      "http://clerk.house.gov/evs/2005/roll499.xml\n",
      "http://clerk.house.gov/evs/2008/roll143.xml\n",
      "http://clerk.house.gov/evs/2003/roll449.xml\n",
      "http://clerk.house.gov/evs/2007/roll433.xml\n",
      "http://clerk.house.gov/evs/2005/roll498.xml\n",
      "http://clerk.house.gov/evs/2008/roll142.xml\n",
      "http://clerk.house.gov/evs/2003/roll448.xml\n",
      "http://clerk.house.gov/evs/2008/roll141.xml\n",
      "http://clerk.house.gov/evs/2007/roll432.xml\n",
      "http://clerk.house.gov/evs/2005/roll497.xml\n",
      "http://clerk.house.gov/evs/2003/roll447.xml\n",
      "http://clerk.house.gov/evs/2008/roll140.xml\n",
      "http://clerk.house.gov/evs/2007/roll431.xml\n",
      "http://clerk.house.gov/evs/2005/roll496.xml\n"
     ]
    },
    {
     "name": "stderr",
     "output_type": "stream",
     "text": [
      "Traceback (most recent call last):\n",
      "  File \"<ipython-input-8-530adc215787>\", line 7, in house_rollcall_individual_parallel\n",
      "    obj.roll_call_single_to_psql(year, rollcall)\n",
      "  File \"/Users/benellis/Projects/congress/congress/etl/house_votes.py\", line 183, in roll_call_single_to_psql\n",
      "    df = self.roll_call_single(year, roll)\n",
      "  File \"/Users/benellis/Projects/congress/congress/etl/house_votes.py\", line 142, in roll_call_single\n",
      "    chamber = soup.find('chamber').text\n",
      "AttributeError: 'NoneType' object has no attribute 'text'\n"
     ]
    },
    {
     "name": "stdout",
     "output_type": "stream",
     "text": [
      "http://clerk.house.gov/evs/2008/roll138.xml\n"
     ]
    },
    {
     "name": "stderr",
     "output_type": "stream",
     "text": [
      "Traceback (most recent call last):\n",
      "  File \"<ipython-input-8-530adc215787>\", line 7, in house_rollcall_individual_parallel\n",
      "    obj.roll_call_single_to_psql(year, rollcall)\n",
      "  File \"/Users/benellis/Projects/congress/congress/etl/house_votes.py\", line 183, in roll_call_single_to_psql\n",
      "    df = self.roll_call_single(year, roll)\n",
      "  File \"/Users/benellis/Projects/congress/congress/etl/house_votes.py\", line 142, in roll_call_single\n",
      "    chamber = soup.find('chamber').text\n",
      "AttributeError: 'NoneType' object has no attribute 'text'\n"
     ]
    },
    {
     "name": "stdout",
     "output_type": "stream",
     "text": [
      "http://clerk.house.gov/evs/2008/roll137.xml\n"
     ]
    },
    {
     "name": "stderr",
     "output_type": "stream",
     "text": [
      "Traceback (most recent call last):\n",
      "  File \"<ipython-input-8-530adc215787>\", line 7, in house_rollcall_individual_parallel\n",
      "    obj.roll_call_single_to_psql(year, rollcall)\n",
      "  File \"/Users/benellis/Projects/congress/congress/etl/house_votes.py\", line 183, in roll_call_single_to_psql\n",
      "    df = self.roll_call_single(year, roll)\n",
      "  File \"/Users/benellis/Projects/congress/congress/etl/house_votes.py\", line 142, in roll_call_single\n",
      "    chamber = soup.find('chamber').text\n",
      "AttributeError: 'NoneType' object has no attribute 'text'\n"
     ]
    },
    {
     "name": "stdout",
     "output_type": "stream",
     "text": [
      "http://clerk.house.gov/evs/2008/roll134.xml\n",
      "http://clerk.house.gov/evs/2003/roll446.xml\n",
      "http://clerk.house.gov/evs/2007/roll430.xml\n",
      "http://clerk.house.gov/evs/2005/roll495.xml\n",
      "http://clerk.house.gov/evs/2008/roll133.xml\n",
      "http://clerk.house.gov/evs/2003/roll445.xml\n",
      "http://clerk.house.gov/evs/2007/roll429.xml\n",
      "http://clerk.house.gov/evs/2005/roll494.xml\n",
      "http://clerk.house.gov/evs/2008/roll132.xml\n",
      "http://clerk.house.gov/evs/2003/roll444.xml\n",
      "http://clerk.house.gov/evs/2007/roll428.xml\n",
      "http://clerk.house.gov/evs/2005/roll493.xml\n",
      "http://clerk.house.gov/evs/2008/roll131.xml\n",
      "http://clerk.house.gov/evs/2003/roll443.xml\n",
      "http://clerk.house.gov/evs/2007/roll427.xml\n",
      "http://clerk.house.gov/evs/2005/roll492.xml\n",
      "http://clerk.house.gov/evs/2008/roll130.xml\n",
      "http://clerk.house.gov/evs/2003/roll442.xml\n",
      "http://clerk.house.gov/evs/2007/roll426.xml\n",
      "http://clerk.house.gov/evs/2005/roll491.xml\n",
      "http://clerk.house.gov/evs/2008/roll129.xml\n",
      "http://clerk.house.gov/evs/2003/roll441.xml\n",
      "http://clerk.house.gov/evs/2007/roll425.xml\n",
      "http://clerk.house.gov/evs/2005/roll490.xml\n",
      "http://clerk.house.gov/evs/2008/roll128.xml\n",
      "http://clerk.house.gov/evs/2003/roll439.xml\n",
      "http://clerk.house.gov/evs/2007/roll424.xml\n",
      "http://clerk.house.gov/evs/2005/roll489.xml\n",
      "http://clerk.house.gov/evs/2008/roll125.xml\n",
      "http://clerk.house.gov/evs/2003/roll436.xml\n",
      "http://clerk.house.gov/evs/2007/roll423.xml\n",
      "http://clerk.house.gov/evs/2005/roll488.xml\n",
      "http://clerk.house.gov/evs/2008/roll122.xml\n",
      "http://clerk.house.gov/evs/2003/roll435.xml\n",
      "http://clerk.house.gov/evs/2007/roll422.xml\n",
      "http://clerk.house.gov/evs/2008/roll121.xml\n",
      "http://clerk.house.gov/evs/2005/roll486.xml\n",
      "http://clerk.house.gov/evs/2003/roll434.xml\n",
      "http://clerk.house.gov/evs/2007/roll421.xml\n"
     ]
    },
    {
     "name": "stderr",
     "output_type": "stream",
     "text": [
      "Traceback (most recent call last):\n",
      "  File \"<ipython-input-8-530adc215787>\", line 7, in house_rollcall_individual_parallel\n",
      "    obj.roll_call_single_to_psql(year, rollcall)\n",
      "  File \"/Users/benellis/Projects/congress/congress/etl/house_votes.py\", line 183, in roll_call_single_to_psql\n",
      "    df = self.roll_call_single(year, roll)\n",
      "  File \"/Users/benellis/Projects/congress/congress/etl/house_votes.py\", line 142, in roll_call_single\n",
      "    chamber = soup.find('chamber').text\n",
      "AttributeError: 'NoneType' object has no attribute 'text'\n"
     ]
    },
    {
     "name": "stdout",
     "output_type": "stream",
     "text": [
      "http://clerk.house.gov/evs/2007/roll420.xml\n",
      "http://clerk.house.gov/evs/2008/roll119.xml\n",
      "http://clerk.house.gov/evs/2005/roll485.xml\n",
      "http://clerk.house.gov/evs/2003/roll432.xml\n",
      "http://clerk.house.gov/evs/2007/roll419.xml\n",
      "http://clerk.house.gov/evs/2008/roll118.xml\n",
      "http://clerk.house.gov/evs/2005/roll484.xml\n",
      "http://clerk.house.gov/evs/2003/roll431.xml\n",
      "http://clerk.house.gov/evs/2007/roll418.xml\n",
      "http://clerk.house.gov/evs/2008/roll117.xml\n",
      "http://clerk.house.gov/evs/2005/roll483.xml\n",
      "http://clerk.house.gov/evs/2003/roll430.xml\n",
      "http://clerk.house.gov/evs/2007/roll417.xml\n",
      "http://clerk.house.gov/evs/2008/roll115.xml\n",
      "http://clerk.house.gov/evs/2005/roll482.xml\n",
      "http://clerk.house.gov/evs/2003/roll429.xml\n",
      "http://clerk.house.gov/evs/2007/roll416.xml\n",
      "http://clerk.house.gov/evs/2008/roll110.xml\n",
      "http://clerk.house.gov/evs/2005/roll481.xml\n",
      "http://clerk.house.gov/evs/2003/roll428.xml\n",
      "http://clerk.house.gov/evs/2007/roll415.xml\n",
      "http://clerk.house.gov/evs/2008/roll109.xml\n",
      "http://clerk.house.gov/evs/2005/roll480.xml\n",
      "http://clerk.house.gov/evs/2003/roll427.xml\n",
      "http://clerk.house.gov/evs/2007/roll414.xml\n",
      "http://clerk.house.gov/evs/2008/roll108.xml\n",
      "http://clerk.house.gov/evs/2005/roll479.xml\n",
      "http://clerk.house.gov/evs/2003/roll426.xml\n",
      "http://clerk.house.gov/evs/2007/roll413.xml\n",
      "http://clerk.house.gov/evs/2008/roll107.xml\n",
      "http://clerk.house.gov/evs/2005/roll478.xml\n",
      "http://clerk.house.gov/evs/2003/roll425.xml\n",
      "http://clerk.house.gov/evs/2007/roll412.xml\n",
      "http://clerk.house.gov/evs/2008/roll106.xml\n",
      "http://clerk.house.gov/evs/2005/roll477.xml\n"
     ]
    },
    {
     "name": "stderr",
     "output_type": "stream",
     "text": [
      "Traceback (most recent call last):\n",
      "  File \"<ipython-input-8-530adc215787>\", line 7, in house_rollcall_individual_parallel\n",
      "    obj.roll_call_single_to_psql(year, rollcall)\n",
      "  File \"/Users/benellis/Projects/congress/congress/etl/house_votes.py\", line 183, in roll_call_single_to_psql\n",
      "    df = self.roll_call_single(year, roll)\n",
      "  File \"/Users/benellis/Projects/congress/congress/etl/house_votes.py\", line 142, in roll_call_single\n",
      "    chamber = soup.find('chamber').text\n",
      "AttributeError: 'NoneType' object has no attribute 'text'\n"
     ]
    },
    {
     "name": "stdout",
     "output_type": "stream",
     "text": [
      "http://clerk.house.gov/evs/2008/roll105.xml\n"
     ]
    },
    {
     "name": "stderr",
     "output_type": "stream",
     "text": [
      "Traceback (most recent call last):\n",
      "  File \"<ipython-input-8-530adc215787>\", line 7, in house_rollcall_individual_parallel\n",
      "    obj.roll_call_single_to_psql(year, rollcall)\n",
      "  File \"/Users/benellis/Projects/congress/congress/etl/house_votes.py\", line 183, in roll_call_single_to_psql\n",
      "    df = self.roll_call_single(year, roll)\n",
      "  File \"/Users/benellis/Projects/congress/congress/etl/house_votes.py\", line 142, in roll_call_single\n",
      "    chamber = soup.find('chamber').text\n",
      "AttributeError: 'NoneType' object has no attribute 'text'\n"
     ]
    },
    {
     "name": "stdout",
     "output_type": "stream",
     "text": [
      "http://clerk.house.gov/evs/2008/roll104.xml\n",
      "http://clerk.house.gov/evs/2007/roll411.xml\n",
      "http://clerk.house.gov/evs/2003/roll424.xml\n",
      "http://clerk.house.gov/evs/2005/roll476.xml\n",
      "http://clerk.house.gov/evs/2008/roll103.xml\n",
      "http://clerk.house.gov/evs/2007/roll410.xml\n",
      "http://clerk.house.gov/evs/2003/roll423.xml\n",
      "http://clerk.house.gov/evs/2005/roll475.xml\n",
      "http://clerk.house.gov/evs/2008/roll102.xml\n",
      "http://clerk.house.gov/evs/2007/roll409.xml\n",
      "http://clerk.house.gov/evs/2003/roll422.xml\n",
      "http://clerk.house.gov/evs/2005/roll474.xml\n",
      "http://clerk.house.gov/evs/2008/roll101.xml\n",
      "http://clerk.house.gov/evs/2007/roll408.xml\n",
      "http://clerk.house.gov/evs/2003/roll421.xml\n",
      "http://clerk.house.gov/evs/2005/roll473.xml\n",
      "http://clerk.house.gov/evs/2008/roll100.xml\n",
      "http://clerk.house.gov/evs/2007/roll407.xml\n",
      "http://clerk.house.gov/evs/2003/roll420.xml\n"
     ]
    },
    {
     "name": "stderr",
     "output_type": "stream",
     "text": [
      "Traceback (most recent call last):\n",
      "  File \"<ipython-input-8-530adc215787>\", line 7, in house_rollcall_individual_parallel\n",
      "    obj.roll_call_single_to_psql(year, rollcall)\n",
      "  File \"/Users/benellis/Projects/congress/congress/etl/house_votes.py\", line 183, in roll_call_single_to_psql\n",
      "    df = self.roll_call_single(year, roll)\n",
      "  File \"/Users/benellis/Projects/congress/congress/etl/house_votes.py\", line 142, in roll_call_single\n",
      "    chamber = soup.find('chamber').text\n",
      "AttributeError: 'NoneType' object has no attribute 'text'\n"
     ]
    },
    {
     "name": "stdout",
     "output_type": "stream",
     "text": [
      "http://clerk.house.gov/evs/2007/roll406.xml\n"
     ]
    },
    {
     "name": "stderr",
     "output_type": "stream",
     "text": [
      "Traceback (most recent call last):\n",
      "  File \"<ipython-input-8-530adc215787>\", line 7, in house_rollcall_individual_parallel\n",
      "    obj.roll_call_single_to_psql(year, rollcall)\n",
      "  File \"/Users/benellis/Projects/congress/congress/etl/house_votes.py\", line 183, in roll_call_single_to_psql\n",
      "    df = self.roll_call_single(year, roll)\n",
      "  File \"/Users/benellis/Projects/congress/congress/etl/house_votes.py\", line 142, in roll_call_single\n",
      "    chamber = soup.find('chamber').text\n",
      "AttributeError: 'NoneType' object has no attribute 'text'\n"
     ]
    },
    {
     "name": "stdout",
     "output_type": "stream",
     "text": [
      "http://clerk.house.gov/evs/2007/roll405.xml\n",
      "http://clerk.house.gov/evs/2005/roll472.xml\n",
      "http://clerk.house.gov/evs/2008/roll299.xml\n",
      "http://clerk.house.gov/evs/2003/roll419.xml\n",
      "http://clerk.house.gov/evs/2007/roll404.xml\n",
      "http://clerk.house.gov/evs/2005/roll471.xml\n",
      "http://clerk.house.gov/evs/2008/roll298.xml\n",
      "http://clerk.house.gov/evs/2003/roll418.xml\n",
      "http://clerk.house.gov/evs/2007/roll403.xml\n",
      "http://clerk.house.gov/evs/2005/roll470.xml\n",
      "http://clerk.house.gov/evs/2008/roll297.xml\n"
     ]
    },
    {
     "name": "stderr",
     "output_type": "stream",
     "text": [
      "Traceback (most recent call last):\n",
      "  File \"<ipython-input-8-530adc215787>\", line 7, in house_rollcall_individual_parallel\n",
      "    obj.roll_call_single_to_psql(year, rollcall)\n",
      "  File \"/Users/benellis/Projects/congress/congress/etl/house_votes.py\", line 183, in roll_call_single_to_psql\n",
      "    df = self.roll_call_single(year, roll)\n",
      "  File \"/Users/benellis/Projects/congress/congress/etl/house_votes.py\", line 142, in roll_call_single\n",
      "    chamber = soup.find('chamber').text\n",
      "AttributeError: 'NoneType' object has no attribute 'text'\n"
     ]
    },
    {
     "name": "stdout",
     "output_type": "stream",
     "text": [
      "http://clerk.house.gov/evs/2008/roll295.xml\n"
     ]
    },
    {
     "name": "stderr",
     "output_type": "stream",
     "text": [
      "Traceback (most recent call last):\n",
      "  File \"<ipython-input-8-530adc215787>\", line 7, in house_rollcall_individual_parallel\n",
      "    obj.roll_call_single_to_psql(year, rollcall)\n",
      "  File \"/Users/benellis/Projects/congress/congress/etl/house_votes.py\", line 183, in roll_call_single_to_psql\n",
      "    df = self.roll_call_single(year, roll)\n",
      "  File \"/Users/benellis/Projects/congress/congress/etl/house_votes.py\", line 142, in roll_call_single\n",
      "    chamber = soup.find('chamber').text\n",
      "AttributeError: 'NoneType' object has no attribute 'text'\n"
     ]
    },
    {
     "name": "stdout",
     "output_type": "stream",
     "text": [
      "http://clerk.house.gov/evs/2008/roll294.xml\n"
     ]
    },
    {
     "name": "stderr",
     "output_type": "stream",
     "text": [
      "Traceback (most recent call last):\n",
      "  File \"<ipython-input-8-530adc215787>\", line 7, in house_rollcall_individual_parallel\n",
      "    obj.roll_call_single_to_psql(year, rollcall)\n",
      "  File \"/Users/benellis/Projects/congress/congress/etl/house_votes.py\", line 183, in roll_call_single_to_psql\n",
      "    df = self.roll_call_single(year, roll)\n",
      "  File \"/Users/benellis/Projects/congress/congress/etl/house_votes.py\", line 142, in roll_call_single\n",
      "    chamber = soup.find('chamber').text\n",
      "AttributeError: 'NoneType' object has no attribute 'text'\n"
     ]
    },
    {
     "name": "stdout",
     "output_type": "stream",
     "text": [
      "http://clerk.house.gov/evs/2008/roll293.xml\n",
      "http://clerk.house.gov/evs/2003/roll416.xml\n",
      "http://clerk.house.gov/evs/2007/roll402.xml\n"
     ]
    },
    {
     "name": "stderr",
     "output_type": "stream",
     "text": [
      "Traceback (most recent call last):\n",
      "  File \"<ipython-input-8-530adc215787>\", line 7, in house_rollcall_individual_parallel\n",
      "    obj.roll_call_single_to_psql(year, rollcall)\n",
      "  File \"/Users/benellis/Projects/congress/congress/etl/house_votes.py\", line 183, in roll_call_single_to_psql\n",
      "    df = self.roll_call_single(year, roll)\n",
      "  File \"/Users/benellis/Projects/congress/congress/etl/house_votes.py\", line 142, in roll_call_single\n",
      "    chamber = soup.find('chamber').text\n",
      "AttributeError: 'NoneType' object has no attribute 'text'\n"
     ]
    },
    {
     "name": "stdout",
     "output_type": "stream",
     "text": [
      "http://clerk.house.gov/evs/2008/roll292.xml\n",
      "http://clerk.house.gov/evs/2005/roll469.xml\n"
     ]
    },
    {
     "name": "stderr",
     "output_type": "stream",
     "text": [
      "Traceback (most recent call last):\n",
      "  File \"<ipython-input-8-530adc215787>\", line 7, in house_rollcall_individual_parallel\n",
      "    obj.roll_call_single_to_psql(year, rollcall)\n",
      "  File \"/Users/benellis/Projects/congress/congress/etl/house_votes.py\", line 183, in roll_call_single_to_psql\n",
      "    df = self.roll_call_single(year, roll)\n",
      "  File \"/Users/benellis/Projects/congress/congress/etl/house_votes.py\", line 142, in roll_call_single\n",
      "    chamber = soup.find('chamber').text\n",
      "AttributeError: 'NoneType' object has no attribute 'text'\n"
     ]
    },
    {
     "name": "stdout",
     "output_type": "stream",
     "text": [
      "http://clerk.house.gov/evs/2008/roll290.xml\n",
      "http://clerk.house.gov/evs/2003/roll415.xml\n",
      "http://clerk.house.gov/evs/2007/roll401.xml\n",
      "http://clerk.house.gov/evs/2005/roll468.xml\n",
      "http://clerk.house.gov/evs/2008/roll289.xml\n",
      "http://clerk.house.gov/evs/2003/roll414.xml\n",
      "http://clerk.house.gov/evs/2007/roll400.xml\n",
      "http://clerk.house.gov/evs/2005/roll467.xml\n",
      "http://clerk.house.gov/evs/2008/roll288.xml\n",
      "http://clerk.house.gov/evs/2003/roll413.xml\n",
      "http://clerk.house.gov/evs/2008/roll287.xml\n",
      "http://clerk.house.gov/evs/2005/roll466.xml\n",
      "http://clerk.house.gov/evs/2007/roll599.xml\n"
     ]
    },
    {
     "name": "stderr",
     "output_type": "stream",
     "text": [
      "Traceback (most recent call last):\n",
      "  File \"<ipython-input-8-530adc215787>\", line 7, in house_rollcall_individual_parallel\n",
      "    obj.roll_call_single_to_psql(year, rollcall)\n",
      "  File \"/Users/benellis/Projects/congress/congress/etl/house_votes.py\", line 183, in roll_call_single_to_psql\n",
      "    df = self.roll_call_single(year, roll)\n",
      "  File \"/Users/benellis/Projects/congress/congress/etl/house_votes.py\", line 142, in roll_call_single\n",
      "    chamber = soup.find('chamber').text\n",
      "AttributeError: 'NoneType' object has no attribute 'text'\n"
     ]
    },
    {
     "name": "stdout",
     "output_type": "stream",
     "text": [
      "http://clerk.house.gov/evs/2007/roll598.xml\n"
     ]
    },
    {
     "name": "stderr",
     "output_type": "stream",
     "text": [
      "Traceback (most recent call last):\n",
      "  File \"<ipython-input-8-530adc215787>\", line 7, in house_rollcall_individual_parallel\n",
      "    obj.roll_call_single_to_psql(year, rollcall)\n",
      "  File \"/Users/benellis/Projects/congress/congress/etl/house_votes.py\", line 183, in roll_call_single_to_psql\n",
      "    df = self.roll_call_single(year, roll)\n",
      "  File \"/Users/benellis/Projects/congress/congress/etl/house_votes.py\", line 142, in roll_call_single\n",
      "    chamber = soup.find('chamber').text\n",
      "AttributeError: 'NoneType' object has no attribute 'text'\n"
     ]
    },
    {
     "name": "stdout",
     "output_type": "stream",
     "text": [
      "http://clerk.house.gov/evs/2007/roll597.xml\n",
      "http://clerk.house.gov/evs/2003/roll411.xml\n"
     ]
    },
    {
     "name": "stderr",
     "output_type": "stream",
     "text": [
      "Traceback (most recent call last):\n",
      "  File \"<ipython-input-8-530adc215787>\", line 7, in house_rollcall_individual_parallel\n",
      "    obj.roll_call_single_to_psql(year, rollcall)\n",
      "  File \"/Users/benellis/Projects/congress/congress/etl/house_votes.py\", line 183, in roll_call_single_to_psql\n",
      "    df = self.roll_call_single(year, roll)\n",
      "  File \"/Users/benellis/Projects/congress/congress/etl/house_votes.py\", line 142, in roll_call_single\n",
      "    chamber = soup.find('chamber').text\n",
      "AttributeError: 'NoneType' object has no attribute 'text'\n"
     ]
    },
    {
     "name": "stdout",
     "output_type": "stream",
     "text": [
      "http://clerk.house.gov/evs/2007/roll596.xml\n"
     ]
    },
    {
     "name": "stderr",
     "output_type": "stream",
     "text": [
      "Traceback (most recent call last):\n",
      "  File \"<ipython-input-8-530adc215787>\", line 7, in house_rollcall_individual_parallel\n",
      "    obj.roll_call_single_to_psql(year, rollcall)\n",
      "  File \"/Users/benellis/Projects/congress/congress/etl/house_votes.py\", line 183, in roll_call_single_to_psql\n",
      "    df = self.roll_call_single(year, roll)\n",
      "  File \"/Users/benellis/Projects/congress/congress/etl/house_votes.py\", line 142, in roll_call_single\n",
      "    chamber = soup.find('chamber').text\n",
      "AttributeError: 'NoneType' object has no attribute 'text'\n"
     ]
    },
    {
     "name": "stdout",
     "output_type": "stream",
     "text": [
      "http://clerk.house.gov/evs/2007/roll595.xml\n"
     ]
    },
    {
     "name": "stderr",
     "output_type": "stream",
     "text": [
      "Traceback (most recent call last):\n",
      "  File \"<ipython-input-8-530adc215787>\", line 7, in house_rollcall_individual_parallel\n",
      "    obj.roll_call_single_to_psql(year, rollcall)\n",
      "  File \"/Users/benellis/Projects/congress/congress/etl/house_votes.py\", line 183, in roll_call_single_to_psql\n",
      "    df = self.roll_call_single(year, roll)\n",
      "  File \"/Users/benellis/Projects/congress/congress/etl/house_votes.py\", line 142, in roll_call_single\n",
      "    chamber = soup.find('chamber').text\n",
      "AttributeError: 'NoneType' object has no attribute 'text'\n"
     ]
    },
    {
     "name": "stdout",
     "output_type": "stream",
     "text": [
      "http://clerk.house.gov/evs/2007/roll594.xml\n"
     ]
    },
    {
     "name": "stderr",
     "output_type": "stream",
     "text": [
      "Traceback (most recent call last):\n",
      "  File \"<ipython-input-8-530adc215787>\", line 7, in house_rollcall_individual_parallel\n",
      "    obj.roll_call_single_to_psql(year, rollcall)\n",
      "  File \"/Users/benellis/Projects/congress/congress/etl/house_votes.py\", line 183, in roll_call_single_to_psql\n",
      "    df = self.roll_call_single(year, roll)\n",
      "  File \"/Users/benellis/Projects/congress/congress/etl/house_votes.py\", line 142, in roll_call_single\n",
      "    chamber = soup.find('chamber').text\n",
      "AttributeError: 'NoneType' object has no attribute 'text'\n"
     ]
    },
    {
     "name": "stdout",
     "output_type": "stream",
     "text": [
      "http://clerk.house.gov/evs/2007/roll593.xml\n",
      "http://clerk.house.gov/evs/2008/roll284.xml\n",
      "http://clerk.house.gov/evs/2005/roll465.xml\n"
     ]
    },
    {
     "name": "stderr",
     "output_type": "stream",
     "text": [
      "Traceback (most recent call last):\n",
      "  File \"<ipython-input-8-530adc215787>\", line 7, in house_rollcall_individual_parallel\n",
      "    obj.roll_call_single_to_psql(year, rollcall)\n",
      "  File \"/Users/benellis/Projects/congress/congress/etl/house_votes.py\", line 183, in roll_call_single_to_psql\n",
      "    df = self.roll_call_single(year, roll)\n",
      "  File \"/Users/benellis/Projects/congress/congress/etl/house_votes.py\", line 142, in roll_call_single\n",
      "    chamber = soup.find('chamber').text\n",
      "AttributeError: 'NoneType' object has no attribute 'text'\n"
     ]
    },
    {
     "name": "stdout",
     "output_type": "stream",
     "text": [
      "http://clerk.house.gov/evs/2007/roll592.xml\n"
     ]
    },
    {
     "name": "stderr",
     "output_type": "stream",
     "text": [
      "Traceback (most recent call last):\n",
      "  File \"<ipython-input-8-530adc215787>\", line 7, in house_rollcall_individual_parallel\n",
      "    obj.roll_call_single_to_psql(year, rollcall)\n",
      "  File \"/Users/benellis/Projects/congress/congress/etl/house_votes.py\", line 183, in roll_call_single_to_psql\n",
      "    df = self.roll_call_single(year, roll)\n",
      "  File \"/Users/benellis/Projects/congress/congress/etl/house_votes.py\", line 142, in roll_call_single\n",
      "    chamber = soup.find('chamber').text\n",
      "AttributeError: 'NoneType' object has no attribute 'text'\n"
     ]
    },
    {
     "name": "stdout",
     "output_type": "stream",
     "text": [
      "http://clerk.house.gov/evs/2007/roll591.xml\n",
      "http://clerk.house.gov/evs/2003/roll410.xml\n"
     ]
    },
    {
     "name": "stderr",
     "output_type": "stream",
     "text": [
      "Traceback (most recent call last):\n",
      "  File \"<ipython-input-8-530adc215787>\", line 7, in house_rollcall_individual_parallel\n",
      "    obj.roll_call_single_to_psql(year, rollcall)\n",
      "  File \"/Users/benellis/Projects/congress/congress/etl/house_votes.py\", line 183, in roll_call_single_to_psql\n",
      "    df = self.roll_call_single(year, roll)\n",
      "  File \"/Users/benellis/Projects/congress/congress/etl/house_votes.py\", line 142, in roll_call_single\n",
      "    chamber = soup.find('chamber').text\n",
      "AttributeError: 'NoneType' object has no attribute 'text'\n"
     ]
    },
    {
     "name": "stdout",
     "output_type": "stream",
     "text": [
      "http://clerk.house.gov/evs/2007/roll590.xml\n"
     ]
    },
    {
     "name": "stderr",
     "output_type": "stream",
     "text": [
      "Traceback (most recent call last):\n",
      "  File \"<ipython-input-8-530adc215787>\", line 7, in house_rollcall_individual_parallel\n",
      "    obj.roll_call_single_to_psql(year, rollcall)\n",
      "  File \"/Users/benellis/Projects/congress/congress/etl/house_votes.py\", line 183, in roll_call_single_to_psql\n",
      "    df = self.roll_call_single(year, roll)\n",
      "  File \"/Users/benellis/Projects/congress/congress/etl/house_votes.py\", line 142, in roll_call_single\n",
      "    chamber = soup.find('chamber').text\n",
      "AttributeError: 'NoneType' object has no attribute 'text'\n"
     ]
    },
    {
     "name": "stdout",
     "output_type": "stream",
     "text": [
      "http://clerk.house.gov/evs/2007/roll589.xml\n"
     ]
    },
    {
     "name": "stderr",
     "output_type": "stream",
     "text": [
      "Traceback (most recent call last):\n",
      "  File \"<ipython-input-8-530adc215787>\", line 7, in house_rollcall_individual_parallel\n",
      "    obj.roll_call_single_to_psql(year, rollcall)\n",
      "  File \"/Users/benellis/Projects/congress/congress/etl/house_votes.py\", line 183, in roll_call_single_to_psql\n",
      "    df = self.roll_call_single(year, roll)\n",
      "  File \"/Users/benellis/Projects/congress/congress/etl/house_votes.py\", line 142, in roll_call_single\n",
      "    chamber = soup.find('chamber').text\n",
      "AttributeError: 'NoneType' object has no attribute 'text'\n"
     ]
    },
    {
     "name": "stdout",
     "output_type": "stream",
     "text": [
      "http://clerk.house.gov/evs/2007/roll588.xml\n"
     ]
    },
    {
     "name": "stderr",
     "output_type": "stream",
     "text": [
      "Traceback (most recent call last):\n",
      "  File \"<ipython-input-8-530adc215787>\", line 7, in house_rollcall_individual_parallel\n",
      "    obj.roll_call_single_to_psql(year, rollcall)\n",
      "  File \"/Users/benellis/Projects/congress/congress/etl/house_votes.py\", line 183, in roll_call_single_to_psql\n",
      "    df = self.roll_call_single(year, roll)\n",
      "  File \"/Users/benellis/Projects/congress/congress/etl/house_votes.py\", line 142, in roll_call_single\n",
      "    chamber = soup.find('chamber').text\n",
      "AttributeError: 'NoneType' object has no attribute 'text'\n"
     ]
    },
    {
     "name": "stdout",
     "output_type": "stream",
     "text": [
      "http://clerk.house.gov/evs/2007/roll587.xml\n"
     ]
    },
    {
     "name": "stderr",
     "output_type": "stream",
     "text": [
      "Traceback (most recent call last):\n",
      "  File \"<ipython-input-8-530adc215787>\", line 7, in house_rollcall_individual_parallel\n",
      "    obj.roll_call_single_to_psql(year, rollcall)\n",
      "  File \"/Users/benellis/Projects/congress/congress/etl/house_votes.py\", line 183, in roll_call_single_to_psql\n",
      "    df = self.roll_call_single(year, roll)\n",
      "  File \"/Users/benellis/Projects/congress/congress/etl/house_votes.py\", line 142, in roll_call_single\n",
      "    chamber = soup.find('chamber').text\n",
      "AttributeError: 'NoneType' object has no attribute 'text'\n"
     ]
    },
    {
     "name": "stdout",
     "output_type": "stream",
     "text": [
      "http://clerk.house.gov/evs/2007/roll586.xml\n",
      "http://clerk.house.gov/evs/2008/roll283.xml\n",
      "http://clerk.house.gov/evs/2005/roll464.xml\n"
     ]
    },
    {
     "name": "stderr",
     "output_type": "stream",
     "text": [
      "Traceback (most recent call last):\n",
      "  File \"<ipython-input-8-530adc215787>\", line 7, in house_rollcall_individual_parallel\n",
      "    obj.roll_call_single_to_psql(year, rollcall)\n",
      "  File \"/Users/benellis/Projects/congress/congress/etl/house_votes.py\", line 183, in roll_call_single_to_psql\n",
      "    df = self.roll_call_single(year, roll)\n",
      "  File \"/Users/benellis/Projects/congress/congress/etl/house_votes.py\", line 142, in roll_call_single\n",
      "    chamber = soup.find('chamber').text\n",
      "AttributeError: 'NoneType' object has no attribute 'text'\n"
     ]
    },
    {
     "name": "stdout",
     "output_type": "stream",
     "text": [
      "http://clerk.house.gov/evs/2007/roll585.xml\n"
     ]
    },
    {
     "name": "stderr",
     "output_type": "stream",
     "text": [
      "Traceback (most recent call last):\n",
      "  File \"<ipython-input-8-530adc215787>\", line 7, in house_rollcall_individual_parallel\n",
      "    obj.roll_call_single_to_psql(year, rollcall)\n",
      "  File \"/Users/benellis/Projects/congress/congress/etl/house_votes.py\", line 183, in roll_call_single_to_psql\n",
      "    df = self.roll_call_single(year, roll)\n",
      "  File \"/Users/benellis/Projects/congress/congress/etl/house_votes.py\", line 142, in roll_call_single\n",
      "    chamber = soup.find('chamber').text\n",
      "AttributeError: 'NoneType' object has no attribute 'text'\n"
     ]
    },
    {
     "name": "stdout",
     "output_type": "stream",
     "text": [
      "http://clerk.house.gov/evs/2007/roll584.xml\n",
      "http://clerk.house.gov/evs/2003/roll409.xml\n"
     ]
    },
    {
     "name": "stderr",
     "output_type": "stream",
     "text": [
      "Traceback (most recent call last):\n",
      "  File \"<ipython-input-8-530adc215787>\", line 7, in house_rollcall_individual_parallel\n",
      "    obj.roll_call_single_to_psql(year, rollcall)\n",
      "  File \"/Users/benellis/Projects/congress/congress/etl/house_votes.py\", line 183, in roll_call_single_to_psql\n",
      "    df = self.roll_call_single(year, roll)\n",
      "  File \"/Users/benellis/Projects/congress/congress/etl/house_votes.py\", line 142, in roll_call_single\n",
      "    chamber = soup.find('chamber').text\n",
      "AttributeError: 'NoneType' object has no attribute 'text'\n"
     ]
    },
    {
     "name": "stdout",
     "output_type": "stream",
     "text": [
      "http://clerk.house.gov/evs/2007/roll583.xml\n",
      "http://clerk.house.gov/evs/2005/roll463.xml\n",
      "http://clerk.house.gov/evs/2008/roll282.xml\n",
      "http://clerk.house.gov/evs/2003/roll408.xml\n",
      "http://clerk.house.gov/evs/2007/roll582.xml\n",
      "http://clerk.house.gov/evs/2005/roll462.xml\n",
      "http://clerk.house.gov/evs/2008/roll281.xml\n",
      "http://clerk.house.gov/evs/2003/roll407.xml\n",
      "http://clerk.house.gov/evs/2007/roll581.xml\n",
      "http://clerk.house.gov/evs/2005/roll461.xml\n",
      "http://clerk.house.gov/evs/2008/roll278.xml\n",
      "http://clerk.house.gov/evs/2003/roll406.xml\n",
      "http://clerk.house.gov/evs/2007/roll580.xml\n",
      "http://clerk.house.gov/evs/2005/roll460.xml\n",
      "http://clerk.house.gov/evs/2008/roll277.xml\n",
      "http://clerk.house.gov/evs/2003/roll405.xml\n",
      "http://clerk.house.gov/evs/2007/roll579.xml\n",
      "http://clerk.house.gov/evs/2005/roll459.xml\n",
      "http://clerk.house.gov/evs/2008/roll275.xml\n",
      "http://clerk.house.gov/evs/2003/roll404.xml\n",
      "http://clerk.house.gov/evs/2007/roll578.xml\n",
      "http://clerk.house.gov/evs/2005/roll458.xml\n",
      "http://clerk.house.gov/evs/2003/roll403.xml\n",
      "http://clerk.house.gov/evs/2008/roll274.xml\n",
      "http://clerk.house.gov/evs/2007/roll577.xml\n",
      "http://clerk.house.gov/evs/2005/roll457.xml\n",
      "http://clerk.house.gov/evs/2003/roll402.xml\n",
      "http://clerk.house.gov/evs/2008/roll270.xml\n",
      "http://clerk.house.gov/evs/2007/roll576.xml\n"
     ]
    },
    {
     "name": "stderr",
     "output_type": "stream",
     "text": [
      "Traceback (most recent call last):\n",
      "  File \"<ipython-input-8-530adc215787>\", line 7, in house_rollcall_individual_parallel\n",
      "    obj.roll_call_single_to_psql(year, rollcall)\n",
      "  File \"/Users/benellis/Projects/congress/congress/etl/house_votes.py\", line 183, in roll_call_single_to_psql\n",
      "    df = self.roll_call_single(year, roll)\n",
      "  File \"/Users/benellis/Projects/congress/congress/etl/house_votes.py\", line 142, in roll_call_single\n",
      "    chamber = soup.find('chamber').text\n",
      "AttributeError: 'NoneType' object has no attribute 'text'\n"
     ]
    },
    {
     "name": "stdout",
     "output_type": "stream",
     "text": [
      "http://clerk.house.gov/evs/2007/roll575.xml\n"
     ]
    },
    {
     "name": "stderr",
     "output_type": "stream",
     "text": [
      "Traceback (most recent call last):\n",
      "  File \"<ipython-input-8-530adc215787>\", line 7, in house_rollcall_individual_parallel\n",
      "    obj.roll_call_single_to_psql(year, rollcall)\n",
      "  File \"/Users/benellis/Projects/congress/congress/etl/house_votes.py\", line 183, in roll_call_single_to_psql\n",
      "    df = self.roll_call_single(year, roll)\n",
      "  File \"/Users/benellis/Projects/congress/congress/etl/house_votes.py\", line 142, in roll_call_single\n",
      "    chamber = soup.find('chamber').text\n",
      "AttributeError: 'NoneType' object has no attribute 'text'\n"
     ]
    },
    {
     "name": "stdout",
     "output_type": "stream",
     "text": [
      "http://clerk.house.gov/evs/2007/roll574.xml\n"
     ]
    },
    {
     "name": "stderr",
     "output_type": "stream",
     "text": [
      "Traceback (most recent call last):\n",
      "  File \"<ipython-input-8-530adc215787>\", line 7, in house_rollcall_individual_parallel\n",
      "    obj.roll_call_single_to_psql(year, rollcall)\n",
      "  File \"/Users/benellis/Projects/congress/congress/etl/house_votes.py\", line 183, in roll_call_single_to_psql\n",
      "    df = self.roll_call_single(year, roll)\n",
      "  File \"/Users/benellis/Projects/congress/congress/etl/house_votes.py\", line 142, in roll_call_single\n",
      "    chamber = soup.find('chamber').text\n",
      "AttributeError: 'NoneType' object has no attribute 'text'\n"
     ]
    },
    {
     "name": "stdout",
     "output_type": "stream",
     "text": [
      "http://clerk.house.gov/evs/2007/roll573.xml\n"
     ]
    },
    {
     "name": "stderr",
     "output_type": "stream",
     "text": [
      "Traceback (most recent call last):\n",
      "  File \"<ipython-input-8-530adc215787>\", line 7, in house_rollcall_individual_parallel\n",
      "    obj.roll_call_single_to_psql(year, rollcall)\n",
      "  File \"/Users/benellis/Projects/congress/congress/etl/house_votes.py\", line 183, in roll_call_single_to_psql\n",
      "    df = self.roll_call_single(year, roll)\n",
      "  File \"/Users/benellis/Projects/congress/congress/etl/house_votes.py\", line 142, in roll_call_single\n",
      "    chamber = soup.find('chamber').text\n",
      "AttributeError: 'NoneType' object has no attribute 'text'\n"
     ]
    },
    {
     "name": "stdout",
     "output_type": "stream",
     "text": [
      "http://clerk.house.gov/evs/2007/roll572.xml\n",
      "http://clerk.house.gov/evs/2005/roll456.xml\n"
     ]
    },
    {
     "name": "stderr",
     "output_type": "stream",
     "text": [
      "Traceback (most recent call last):\n",
      "  File \"<ipython-input-8-530adc215787>\", line 7, in house_rollcall_individual_parallel\n",
      "    obj.roll_call_single_to_psql(year, rollcall)\n",
      "  File \"/Users/benellis/Projects/congress/congress/etl/house_votes.py\", line 183, in roll_call_single_to_psql\n",
      "    df = self.roll_call_single(year, roll)\n",
      "  File \"/Users/benellis/Projects/congress/congress/etl/house_votes.py\", line 142, in roll_call_single\n",
      "    chamber = soup.find('chamber').text\n",
      "AttributeError: 'NoneType' object has no attribute 'text'\n"
     ]
    },
    {
     "name": "stdout",
     "output_type": "stream",
     "text": [
      "http://clerk.house.gov/evs/2007/roll571.xml\n",
      "http://clerk.house.gov/evs/2003/roll401.xml\n",
      "http://clerk.house.gov/evs/2008/roll269.xml\n"
     ]
    },
    {
     "name": "stderr",
     "output_type": "stream",
     "text": [
      "Traceback (most recent call last):\n",
      "  File \"<ipython-input-8-530adc215787>\", line 7, in house_rollcall_individual_parallel\n",
      "    obj.roll_call_single_to_psql(year, rollcall)\n",
      "  File \"/Users/benellis/Projects/congress/congress/etl/house_votes.py\", line 183, in roll_call_single_to_psql\n",
      "    df = self.roll_call_single(year, roll)\n",
      "  File \"/Users/benellis/Projects/congress/congress/etl/house_votes.py\", line 142, in roll_call_single\n",
      "    chamber = soup.find('chamber').text\n",
      "AttributeError: 'NoneType' object has no attribute 'text'\n"
     ]
    },
    {
     "name": "stdout",
     "output_type": "stream",
     "text": [
      "http://clerk.house.gov/evs/2007/roll570.xml\n"
     ]
    },
    {
     "name": "stderr",
     "output_type": "stream",
     "text": [
      "Traceback (most recent call last):\n",
      "  File \"<ipython-input-8-530adc215787>\", line 7, in house_rollcall_individual_parallel\n",
      "    obj.roll_call_single_to_psql(year, rollcall)\n",
      "  File \"/Users/benellis/Projects/congress/congress/etl/house_votes.py\", line 183, in roll_call_single_to_psql\n",
      "    df = self.roll_call_single(year, roll)\n",
      "  File \"/Users/benellis/Projects/congress/congress/etl/house_votes.py\", line 142, in roll_call_single\n",
      "    chamber = soup.find('chamber').text\n",
      "AttributeError: 'NoneType' object has no attribute 'text'\n"
     ]
    },
    {
     "name": "stdout",
     "output_type": "stream",
     "text": [
      "http://clerk.house.gov/evs/2007/roll569.xml\n"
     ]
    },
    {
     "name": "stderr",
     "output_type": "stream",
     "text": [
      "Traceback (most recent call last):\n",
      "  File \"<ipython-input-8-530adc215787>\", line 7, in house_rollcall_individual_parallel\n",
      "    obj.roll_call_single_to_psql(year, rollcall)\n",
      "  File \"/Users/benellis/Projects/congress/congress/etl/house_votes.py\", line 183, in roll_call_single_to_psql\n",
      "    df = self.roll_call_single(year, roll)\n",
      "  File \"/Users/benellis/Projects/congress/congress/etl/house_votes.py\", line 142, in roll_call_single\n",
      "    chamber = soup.find('chamber').text\n",
      "AttributeError: 'NoneType' object has no attribute 'text'\n"
     ]
    },
    {
     "name": "stdout",
     "output_type": "stream",
     "text": [
      "http://clerk.house.gov/evs/2007/roll568.xml\n"
     ]
    },
    {
     "name": "stderr",
     "output_type": "stream",
     "text": [
      "Traceback (most recent call last):\n",
      "  File \"<ipython-input-8-530adc215787>\", line 7, in house_rollcall_individual_parallel\n",
      "    obj.roll_call_single_to_psql(year, rollcall)\n",
      "  File \"/Users/benellis/Projects/congress/congress/etl/house_votes.py\", line 183, in roll_call_single_to_psql\n",
      "    df = self.roll_call_single(year, roll)\n",
      "  File \"/Users/benellis/Projects/congress/congress/etl/house_votes.py\", line 142, in roll_call_single\n",
      "    chamber = soup.find('chamber').text\n",
      "AttributeError: 'NoneType' object has no attribute 'text'\n"
     ]
    },
    {
     "name": "stdout",
     "output_type": "stream",
     "text": [
      "http://clerk.house.gov/evs/2007/roll567.xml\n"
     ]
    },
    {
     "name": "stderr",
     "output_type": "stream",
     "text": [
      "Traceback (most recent call last):\n",
      "  File \"<ipython-input-8-530adc215787>\", line 7, in house_rollcall_individual_parallel\n",
      "    obj.roll_call_single_to_psql(year, rollcall)\n",
      "  File \"/Users/benellis/Projects/congress/congress/etl/house_votes.py\", line 183, in roll_call_single_to_psql\n",
      "    df = self.roll_call_single(year, roll)\n",
      "  File \"/Users/benellis/Projects/congress/congress/etl/house_votes.py\", line 142, in roll_call_single\n",
      "    chamber = soup.find('chamber').text\n",
      "AttributeError: 'NoneType' object has no attribute 'text'\n"
     ]
    },
    {
     "name": "stdout",
     "output_type": "stream",
     "text": [
      "http://clerk.house.gov/evs/2007/roll566.xml\n"
     ]
    },
    {
     "name": "stderr",
     "output_type": "stream",
     "text": [
      "Traceback (most recent call last):\n",
      "  File \"<ipython-input-8-530adc215787>\", line 7, in house_rollcall_individual_parallel\n",
      "    obj.roll_call_single_to_psql(year, rollcall)\n",
      "  File \"/Users/benellis/Projects/congress/congress/etl/house_votes.py\", line 183, in roll_call_single_to_psql\n",
      "    df = self.roll_call_single(year, roll)\n",
      "  File \"/Users/benellis/Projects/congress/congress/etl/house_votes.py\", line 142, in roll_call_single\n",
      "    chamber = soup.find('chamber').text\n",
      "AttributeError: 'NoneType' object has no attribute 'text'\n"
     ]
    },
    {
     "name": "stdout",
     "output_type": "stream",
     "text": [
      "http://clerk.house.gov/evs/2007/roll565.xml\n",
      "http://clerk.house.gov/evs/2005/roll455.xml\n"
     ]
    },
    {
     "name": "stderr",
     "output_type": "stream",
     "text": [
      "Traceback (most recent call last):\n",
      "  File \"<ipython-input-8-530adc215787>\", line 7, in house_rollcall_individual_parallel\n",
      "    obj.roll_call_single_to_psql(year, rollcall)\n",
      "  File \"/Users/benellis/Projects/congress/congress/etl/house_votes.py\", line 183, in roll_call_single_to_psql\n",
      "    df = self.roll_call_single(year, roll)\n",
      "  File \"/Users/benellis/Projects/congress/congress/etl/house_votes.py\", line 142, in roll_call_single\n",
      "    chamber = soup.find('chamber').text\n",
      "AttributeError: 'NoneType' object has no attribute 'text'\n"
     ]
    },
    {
     "name": "stdout",
     "output_type": "stream",
     "text": [
      "http://clerk.house.gov/evs/2007/roll564.xml\n"
     ]
    },
    {
     "name": "stderr",
     "output_type": "stream",
     "text": [
      "Traceback (most recent call last):\n",
      "  File \"<ipython-input-8-530adc215787>\", line 7, in house_rollcall_individual_parallel\n",
      "    obj.roll_call_single_to_psql(year, rollcall)\n",
      "  File \"/Users/benellis/Projects/congress/congress/etl/house_votes.py\", line 183, in roll_call_single_to_psql\n",
      "    df = self.roll_call_single(year, roll)\n",
      "  File \"/Users/benellis/Projects/congress/congress/etl/house_votes.py\", line 142, in roll_call_single\n",
      "    chamber = soup.find('chamber').text\n",
      "AttributeError: 'NoneType' object has no attribute 'text'\n"
     ]
    },
    {
     "name": "stdout",
     "output_type": "stream",
     "text": [
      "http://clerk.house.gov/evs/2007/roll563.xml\n",
      "http://clerk.house.gov/evs/2003/roll400.xml\n",
      "http://clerk.house.gov/evs/2008/roll266.xml\n"
     ]
    },
    {
     "name": "stderr",
     "output_type": "stream",
     "text": [
      "Traceback (most recent call last):\n",
      "  File \"<ipython-input-8-530adc215787>\", line 7, in house_rollcall_individual_parallel\n",
      "    obj.roll_call_single_to_psql(year, rollcall)\n",
      "  File \"/Users/benellis/Projects/congress/congress/etl/house_votes.py\", line 183, in roll_call_single_to_psql\n",
      "    df = self.roll_call_single(year, roll)\n",
      "  File \"/Users/benellis/Projects/congress/congress/etl/house_votes.py\", line 142, in roll_call_single\n",
      "    chamber = soup.find('chamber').text\n",
      "AttributeError: 'NoneType' object has no attribute 'text'\n"
     ]
    },
    {
     "name": "stdout",
     "output_type": "stream",
     "text": [
      "http://clerk.house.gov/evs/2007/roll562.xml\n"
     ]
    },
    {
     "name": "stderr",
     "output_type": "stream",
     "text": [
      "Traceback (most recent call last):\n",
      "  File \"<ipython-input-8-530adc215787>\", line 7, in house_rollcall_individual_parallel\n",
      "    obj.roll_call_single_to_psql(year, rollcall)\n",
      "  File \"/Users/benellis/Projects/congress/congress/etl/house_votes.py\", line 183, in roll_call_single_to_psql\n",
      "    df = self.roll_call_single(year, roll)\n",
      "  File \"/Users/benellis/Projects/congress/congress/etl/house_votes.py\", line 142, in roll_call_single\n",
      "    chamber = soup.find('chamber').text\n",
      "AttributeError: 'NoneType' object has no attribute 'text'\n"
     ]
    },
    {
     "name": "stdout",
     "output_type": "stream",
     "text": [
      "http://clerk.house.gov/evs/2007/roll561.xml\n"
     ]
    },
    {
     "name": "stderr",
     "output_type": "stream",
     "text": [
      "Traceback (most recent call last):\n",
      "  File \"<ipython-input-8-530adc215787>\", line 7, in house_rollcall_individual_parallel\n",
      "    obj.roll_call_single_to_psql(year, rollcall)\n",
      "  File \"/Users/benellis/Projects/congress/congress/etl/house_votes.py\", line 183, in roll_call_single_to_psql\n",
      "    df = self.roll_call_single(year, roll)\n",
      "  File \"/Users/benellis/Projects/congress/congress/etl/house_votes.py\", line 142, in roll_call_single\n",
      "    chamber = soup.find('chamber').text\n",
      "AttributeError: 'NoneType' object has no attribute 'text'\n"
     ]
    },
    {
     "name": "stdout",
     "output_type": "stream",
     "text": [
      "http://clerk.house.gov/evs/2007/roll560.xml\n"
     ]
    },
    {
     "name": "stderr",
     "output_type": "stream",
     "text": [
      "Traceback (most recent call last):\n",
      "  File \"<ipython-input-8-530adc215787>\", line 7, in house_rollcall_individual_parallel\n",
      "    obj.roll_call_single_to_psql(year, rollcall)\n",
      "  File \"/Users/benellis/Projects/congress/congress/etl/house_votes.py\", line 183, in roll_call_single_to_psql\n",
      "    df = self.roll_call_single(year, roll)\n",
      "  File \"/Users/benellis/Projects/congress/congress/etl/house_votes.py\", line 142, in roll_call_single\n",
      "    chamber = soup.find('chamber').text\n",
      "AttributeError: 'NoneType' object has no attribute 'text'\n"
     ]
    },
    {
     "name": "stdout",
     "output_type": "stream",
     "text": [
      "http://clerk.house.gov/evs/2007/roll559.xml\n"
     ]
    },
    {
     "name": "stderr",
     "output_type": "stream",
     "text": [
      "Traceback (most recent call last):\n",
      "  File \"<ipython-input-8-530adc215787>\", line 7, in house_rollcall_individual_parallel\n",
      "    obj.roll_call_single_to_psql(year, rollcall)\n",
      "  File \"/Users/benellis/Projects/congress/congress/etl/house_votes.py\", line 183, in roll_call_single_to_psql\n",
      "    df = self.roll_call_single(year, roll)\n",
      "  File \"/Users/benellis/Projects/congress/congress/etl/house_votes.py\", line 142, in roll_call_single\n",
      "    chamber = soup.find('chamber').text\n",
      "AttributeError: 'NoneType' object has no attribute 'text'\n"
     ]
    },
    {
     "name": "stdout",
     "output_type": "stream",
     "text": [
      "http://clerk.house.gov/evs/2007/roll558.xml\n",
      "http://clerk.house.gov/evs/2005/roll454.xml\n"
     ]
    },
    {
     "name": "stderr",
     "output_type": "stream",
     "text": [
      "Traceback (most recent call last):\n",
      "  File \"<ipython-input-8-530adc215787>\", line 7, in house_rollcall_individual_parallel\n",
      "    obj.roll_call_single_to_psql(year, rollcall)\n",
      "  File \"/Users/benellis/Projects/congress/congress/etl/house_votes.py\", line 183, in roll_call_single_to_psql\n",
      "    df = self.roll_call_single(year, roll)\n",
      "  File \"/Users/benellis/Projects/congress/congress/etl/house_votes.py\", line 142, in roll_call_single\n",
      "    chamber = soup.find('chamber').text\n",
      "AttributeError: 'NoneType' object has no attribute 'text'\n"
     ]
    },
    {
     "name": "stdout",
     "output_type": "stream",
     "text": [
      "http://clerk.house.gov/evs/2007/roll557.xml\n",
      "http://clerk.house.gov/evs/2008/roll265.xml\n",
      "http://clerk.house.gov/evs/2003/roll599.xml\n"
     ]
    },
    {
     "name": "stderr",
     "output_type": "stream",
     "text": [
      "Traceback (most recent call last):\n",
      "  File \"<ipython-input-8-530adc215787>\", line 7, in house_rollcall_individual_parallel\n",
      "    obj.roll_call_single_to_psql(year, rollcall)\n",
      "  File \"/Users/benellis/Projects/congress/congress/etl/house_votes.py\", line 183, in roll_call_single_to_psql\n",
      "    df = self.roll_call_single(year, roll)\n",
      "  File \"/Users/benellis/Projects/congress/congress/etl/house_votes.py\", line 142, in roll_call_single\n",
      "    chamber = soup.find('chamber').text\n",
      "AttributeError: 'NoneType' object has no attribute 'text'\n"
     ]
    },
    {
     "name": "stdout",
     "output_type": "stream",
     "text": [
      "http://clerk.house.gov/evs/2007/roll556.xml\n"
     ]
    },
    {
     "name": "stderr",
     "output_type": "stream",
     "text": [
      "Traceback (most recent call last):\n",
      "  File \"<ipython-input-8-530adc215787>\", line 7, in house_rollcall_individual_parallel\n",
      "    obj.roll_call_single_to_psql(year, rollcall)\n",
      "  File \"/Users/benellis/Projects/congress/congress/etl/house_votes.py\", line 183, in roll_call_single_to_psql\n",
      "    df = self.roll_call_single(year, roll)\n",
      "  File \"/Users/benellis/Projects/congress/congress/etl/house_votes.py\", line 142, in roll_call_single\n",
      "    chamber = soup.find('chamber').text\n",
      "AttributeError: 'NoneType' object has no attribute 'text'\n"
     ]
    },
    {
     "name": "stdout",
     "output_type": "stream",
     "text": [
      "http://clerk.house.gov/evs/2007/roll555.xml\n"
     ]
    },
    {
     "name": "stderr",
     "output_type": "stream",
     "text": [
      "Traceback (most recent call last):\n",
      "  File \"<ipython-input-8-530adc215787>\", line 7, in house_rollcall_individual_parallel\n",
      "    obj.roll_call_single_to_psql(year, rollcall)\n",
      "  File \"/Users/benellis/Projects/congress/congress/etl/house_votes.py\", line 183, in roll_call_single_to_psql\n",
      "    df = self.roll_call_single(year, roll)\n",
      "  File \"/Users/benellis/Projects/congress/congress/etl/house_votes.py\", line 142, in roll_call_single\n",
      "    chamber = soup.find('chamber').text\n",
      "AttributeError: 'NoneType' object has no attribute 'text'\n"
     ]
    },
    {
     "name": "stdout",
     "output_type": "stream",
     "text": [
      "http://clerk.house.gov/evs/2007/roll554.xml\n"
     ]
    },
    {
     "name": "stderr",
     "output_type": "stream",
     "text": [
      "Traceback (most recent call last):\n",
      "  File \"<ipython-input-8-530adc215787>\", line 7, in house_rollcall_individual_parallel\n",
      "    obj.roll_call_single_to_psql(year, rollcall)\n",
      "  File \"/Users/benellis/Projects/congress/congress/etl/house_votes.py\", line 183, in roll_call_single_to_psql\n",
      "    df = self.roll_call_single(year, roll)\n",
      "  File \"/Users/benellis/Projects/congress/congress/etl/house_votes.py\", line 142, in roll_call_single\n",
      "    chamber = soup.find('chamber').text\n",
      "AttributeError: 'NoneType' object has no attribute 'text'\n"
     ]
    },
    {
     "name": "stdout",
     "output_type": "stream",
     "text": [
      "http://clerk.house.gov/evs/2007/roll553.xml\n",
      "http://clerk.house.gov/evs/2005/roll453.xml\n"
     ]
    },
    {
     "name": "stderr",
     "output_type": "stream",
     "text": [
      "Traceback (most recent call last):\n",
      "  File \"<ipython-input-8-530adc215787>\", line 7, in house_rollcall_individual_parallel\n",
      "    obj.roll_call_single_to_psql(year, rollcall)\n",
      "  File \"/Users/benellis/Projects/congress/congress/etl/house_votes.py\", line 183, in roll_call_single_to_psql\n",
      "    df = self.roll_call_single(year, roll)\n",
      "  File \"/Users/benellis/Projects/congress/congress/etl/house_votes.py\", line 142, in roll_call_single\n",
      "    chamber = soup.find('chamber').text\n",
      "AttributeError: 'NoneType' object has no attribute 'text'\n"
     ]
    },
    {
     "name": "stdout",
     "output_type": "stream",
     "text": [
      "http://clerk.house.gov/evs/2007/roll552.xml\n"
     ]
    },
    {
     "name": "stderr",
     "output_type": "stream",
     "text": [
      "Traceback (most recent call last):\n",
      "  File \"<ipython-input-8-530adc215787>\", line 7, in house_rollcall_individual_parallel\n",
      "    obj.roll_call_single_to_psql(year, rollcall)\n",
      "  File \"/Users/benellis/Projects/congress/congress/etl/house_votes.py\", line 183, in roll_call_single_to_psql\n",
      "    df = self.roll_call_single(year, roll)\n",
      "  File \"/Users/benellis/Projects/congress/congress/etl/house_votes.py\", line 142, in roll_call_single\n",
      "    chamber = soup.find('chamber').text\n",
      "AttributeError: 'NoneType' object has no attribute 'text'\n"
     ]
    },
    {
     "name": "stdout",
     "output_type": "stream",
     "text": [
      "http://clerk.house.gov/evs/2007/roll551.xml\n",
      "http://clerk.house.gov/evs/2003/roll598.xml\n",
      "http://clerk.house.gov/evs/2008/roll264.xml\n"
     ]
    },
    {
     "name": "stderr",
     "output_type": "stream",
     "text": [
      "Traceback (most recent call last):\n",
      "  File \"<ipython-input-8-530adc215787>\", line 7, in house_rollcall_individual_parallel\n",
      "    obj.roll_call_single_to_psql(year, rollcall)\n",
      "  File \"/Users/benellis/Projects/congress/congress/etl/house_votes.py\", line 183, in roll_call_single_to_psql\n",
      "    df = self.roll_call_single(year, roll)\n",
      "  File \"/Users/benellis/Projects/congress/congress/etl/house_votes.py\", line 142, in roll_call_single\n",
      "    chamber = soup.find('chamber').text\n",
      "AttributeError: 'NoneType' object has no attribute 'text'\n"
     ]
    },
    {
     "name": "stdout",
     "output_type": "stream",
     "text": [
      "http://clerk.house.gov/evs/2007/roll550.xml\n",
      "http://clerk.house.gov/evs/2005/roll452.xml\n",
      "http://clerk.house.gov/evs/2008/roll263.xml\n",
      "http://clerk.house.gov/evs/2003/roll597.xml\n",
      "http://clerk.house.gov/evs/2007/roll549.xml\n",
      "http://clerk.house.gov/evs/2005/roll451.xml\n",
      "http://clerk.house.gov/evs/2003/roll596.xml\n",
      "http://clerk.house.gov/evs/2008/roll259.xml\n",
      "http://clerk.house.gov/evs/2007/roll548.xml\n",
      "http://clerk.house.gov/evs/2005/roll450.xml\n",
      "http://clerk.house.gov/evs/2003/roll595.xml\n",
      "http://clerk.house.gov/evs/2008/roll258.xml\n",
      "http://clerk.house.gov/evs/2007/roll547.xml\n",
      "http://clerk.house.gov/evs/2005/roll449.xml\n",
      "http://clerk.house.gov/evs/2003/roll594.xml\n",
      "http://clerk.house.gov/evs/2008/roll257.xml\n",
      "http://clerk.house.gov/evs/2007/roll546.xml\n"
     ]
    },
    {
     "name": "stderr",
     "output_type": "stream",
     "text": [
      "Traceback (most recent call last):\n",
      "  File \"<ipython-input-8-530adc215787>\", line 7, in house_rollcall_individual_parallel\n",
      "    obj.roll_call_single_to_psql(year, rollcall)\n",
      "  File \"/Users/benellis/Projects/congress/congress/etl/house_votes.py\", line 183, in roll_call_single_to_psql\n",
      "    df = self.roll_call_single(year, roll)\n",
      "  File \"/Users/benellis/Projects/congress/congress/etl/house_votes.py\", line 142, in roll_call_single\n",
      "    chamber = soup.find('chamber').text\n",
      "AttributeError: 'NoneType' object has no attribute 'text'\n"
     ]
    },
    {
     "name": "stdout",
     "output_type": "stream",
     "text": [
      "http://clerk.house.gov/evs/2007/roll545.xml\n"
     ]
    },
    {
     "name": "stderr",
     "output_type": "stream",
     "text": [
      "Traceback (most recent call last):\n",
      "  File \"<ipython-input-8-530adc215787>\", line 7, in house_rollcall_individual_parallel\n",
      "    obj.roll_call_single_to_psql(year, rollcall)\n",
      "  File \"/Users/benellis/Projects/congress/congress/etl/house_votes.py\", line 183, in roll_call_single_to_psql\n",
      "    df = self.roll_call_single(year, roll)\n",
      "  File \"/Users/benellis/Projects/congress/congress/etl/house_votes.py\", line 142, in roll_call_single\n",
      "    chamber = soup.find('chamber').text\n",
      "AttributeError: 'NoneType' object has no attribute 'text'\n"
     ]
    },
    {
     "name": "stdout",
     "output_type": "stream",
     "text": [
      "http://clerk.house.gov/evs/2007/roll544.xml\n",
      "http://clerk.house.gov/evs/2005/roll448.xml\n",
      "http://clerk.house.gov/evs/2008/roll256.xml\n",
      "http://clerk.house.gov/evs/2003/roll593.xml\n",
      "http://clerk.house.gov/evs/2007/roll543.xml\n",
      "http://clerk.house.gov/evs/2005/roll447.xml\n",
      "http://clerk.house.gov/evs/2003/roll592.xml\n",
      "http://clerk.house.gov/evs/2008/roll254.xml\n",
      "http://clerk.house.gov/evs/2007/roll542.xml\n",
      "http://clerk.house.gov/evs/2005/roll446.xml\n",
      "http://clerk.house.gov/evs/2003/roll591.xml\n",
      "http://clerk.house.gov/evs/2008/roll253.xml\n",
      "http://clerk.house.gov/evs/2007/roll541.xml\n"
     ]
    },
    {
     "name": "stderr",
     "output_type": "stream",
     "text": [
      "Traceback (most recent call last):\n",
      "  File \"<ipython-input-8-530adc215787>\", line 7, in house_rollcall_individual_parallel\n",
      "    obj.roll_call_single_to_psql(year, rollcall)\n",
      "  File \"/Users/benellis/Projects/congress/congress/etl/house_votes.py\", line 183, in roll_call_single_to_psql\n",
      "    df = self.roll_call_single(year, roll)\n",
      "  File \"/Users/benellis/Projects/congress/congress/etl/house_votes.py\", line 142, in roll_call_single\n",
      "    chamber = soup.find('chamber').text\n",
      "AttributeError: 'NoneType' object has no attribute 'text'\n"
     ]
    },
    {
     "name": "stdout",
     "output_type": "stream",
     "text": [
      "http://clerk.house.gov/evs/2007/roll540.xml\n"
     ]
    },
    {
     "name": "stderr",
     "output_type": "stream",
     "text": [
      "Traceback (most recent call last):\n",
      "  File \"<ipython-input-8-530adc215787>\", line 7, in house_rollcall_individual_parallel\n",
      "    obj.roll_call_single_to_psql(year, rollcall)\n",
      "  File \"/Users/benellis/Projects/congress/congress/etl/house_votes.py\", line 183, in roll_call_single_to_psql\n",
      "    df = self.roll_call_single(year, roll)\n",
      "  File \"/Users/benellis/Projects/congress/congress/etl/house_votes.py\", line 142, in roll_call_single\n",
      "    chamber = soup.find('chamber').text\n",
      "AttributeError: 'NoneType' object has no attribute 'text'\n"
     ]
    },
    {
     "name": "stdout",
     "output_type": "stream",
     "text": [
      "http://clerk.house.gov/evs/2007/roll539.xml\n",
      "http://clerk.house.gov/evs/2005/roll445.xml\n"
     ]
    },
    {
     "name": "stderr",
     "output_type": "stream",
     "text": [
      "Traceback (most recent call last):\n",
      "  File \"<ipython-input-8-530adc215787>\", line 7, in house_rollcall_individual_parallel\n",
      "    obj.roll_call_single_to_psql(year, rollcall)\n",
      "  File \"/Users/benellis/Projects/congress/congress/etl/house_votes.py\", line 183, in roll_call_single_to_psql\n",
      "    df = self.roll_call_single(year, roll)\n",
      "  File \"/Users/benellis/Projects/congress/congress/etl/house_votes.py\", line 142, in roll_call_single\n",
      "    chamber = soup.find('chamber').text\n",
      "AttributeError: 'NoneType' object has no attribute 'text'\n"
     ]
    },
    {
     "name": "stdout",
     "output_type": "stream",
     "text": [
      "http://clerk.house.gov/evs/2007/roll538.xml\n",
      "http://clerk.house.gov/evs/2008/roll252.xml\n",
      "http://clerk.house.gov/evs/2003/roll587.xml\n"
     ]
    },
    {
     "name": "stderr",
     "output_type": "stream",
     "text": [
      "Traceback (most recent call last):\n",
      "  File \"<ipython-input-8-530adc215787>\", line 7, in house_rollcall_individual_parallel\n",
      "    obj.roll_call_single_to_psql(year, rollcall)\n",
      "  File \"/Users/benellis/Projects/congress/congress/etl/house_votes.py\", line 183, in roll_call_single_to_psql\n",
      "    df = self.roll_call_single(year, roll)\n",
      "  File \"/Users/benellis/Projects/congress/congress/etl/house_votes.py\", line 142, in roll_call_single\n",
      "    chamber = soup.find('chamber').text\n",
      "AttributeError: 'NoneType' object has no attribute 'text'\n"
     ]
    },
    {
     "name": "stdout",
     "output_type": "stream",
     "text": [
      "http://clerk.house.gov/evs/2007/roll537.xml\n"
     ]
    },
    {
     "name": "stderr",
     "output_type": "stream",
     "text": [
      "Traceback (most recent call last):\n",
      "  File \"<ipython-input-8-530adc215787>\", line 7, in house_rollcall_individual_parallel\n",
      "    obj.roll_call_single_to_psql(year, rollcall)\n",
      "  File \"/Users/benellis/Projects/congress/congress/etl/house_votes.py\", line 183, in roll_call_single_to_psql\n",
      "    df = self.roll_call_single(year, roll)\n",
      "  File \"/Users/benellis/Projects/congress/congress/etl/house_votes.py\", line 142, in roll_call_single\n",
      "    chamber = soup.find('chamber').text\n",
      "AttributeError: 'NoneType' object has no attribute 'text'\n"
     ]
    },
    {
     "name": "stdout",
     "output_type": "stream",
     "text": [
      "http://clerk.house.gov/evs/2007/roll536.xml\n"
     ]
    },
    {
     "name": "stderr",
     "output_type": "stream",
     "text": [
      "Traceback (most recent call last):\n",
      "  File \"<ipython-input-8-530adc215787>\", line 7, in house_rollcall_individual_parallel\n",
      "    obj.roll_call_single_to_psql(year, rollcall)\n",
      "  File \"/Users/benellis/Projects/congress/congress/etl/house_votes.py\", line 183, in roll_call_single_to_psql\n",
      "    df = self.roll_call_single(year, roll)\n",
      "  File \"/Users/benellis/Projects/congress/congress/etl/house_votes.py\", line 142, in roll_call_single\n",
      "    chamber = soup.find('chamber').text\n",
      "AttributeError: 'NoneType' object has no attribute 'text'\n"
     ]
    },
    {
     "name": "stdout",
     "output_type": "stream",
     "text": [
      "http://clerk.house.gov/evs/2007/roll535.xml\n"
     ]
    },
    {
     "name": "stderr",
     "output_type": "stream",
     "text": [
      "Traceback (most recent call last):\n",
      "  File \"<ipython-input-8-530adc215787>\", line 7, in house_rollcall_individual_parallel\n",
      "    obj.roll_call_single_to_psql(year, rollcall)\n",
      "  File \"/Users/benellis/Projects/congress/congress/etl/house_votes.py\", line 183, in roll_call_single_to_psql\n",
      "    df = self.roll_call_single(year, roll)\n",
      "  File \"/Users/benellis/Projects/congress/congress/etl/house_votes.py\", line 142, in roll_call_single\n",
      "    chamber = soup.find('chamber').text\n",
      "AttributeError: 'NoneType' object has no attribute 'text'\n"
     ]
    },
    {
     "name": "stdout",
     "output_type": "stream",
     "text": [
      "http://clerk.house.gov/evs/2007/roll534.xml\n"
     ]
    },
    {
     "name": "stderr",
     "output_type": "stream",
     "text": [
      "Traceback (most recent call last):\n",
      "  File \"<ipython-input-8-530adc215787>\", line 7, in house_rollcall_individual_parallel\n",
      "    obj.roll_call_single_to_psql(year, rollcall)\n",
      "  File \"/Users/benellis/Projects/congress/congress/etl/house_votes.py\", line 183, in roll_call_single_to_psql\n",
      "    df = self.roll_call_single(year, roll)\n",
      "  File \"/Users/benellis/Projects/congress/congress/etl/house_votes.py\", line 142, in roll_call_single\n",
      "    chamber = soup.find('chamber').text\n",
      "AttributeError: 'NoneType' object has no attribute 'text'\n"
     ]
    },
    {
     "name": "stdout",
     "output_type": "stream",
     "text": [
      "http://clerk.house.gov/evs/2007/roll533.xml\n",
      "http://clerk.house.gov/evs/2005/roll444.xml\n"
     ]
    },
    {
     "name": "stderr",
     "output_type": "stream",
     "text": [
      "Traceback (most recent call last):\n",
      "  File \"<ipython-input-8-530adc215787>\", line 7, in house_rollcall_individual_parallel\n",
      "    obj.roll_call_single_to_psql(year, rollcall)\n",
      "  File \"/Users/benellis/Projects/congress/congress/etl/house_votes.py\", line 183, in roll_call_single_to_psql\n",
      "    df = self.roll_call_single(year, roll)\n",
      "  File \"/Users/benellis/Projects/congress/congress/etl/house_votes.py\", line 142, in roll_call_single\n",
      "    chamber = soup.find('chamber').text\n",
      "AttributeError: 'NoneType' object has no attribute 'text'\n"
     ]
    },
    {
     "name": "stdout",
     "output_type": "stream",
     "text": [
      "http://clerk.house.gov/evs/2007/roll532.xml\n",
      "http://clerk.house.gov/evs/2008/roll251.xml\n",
      "http://clerk.house.gov/evs/2003/roll586.xml\n"
     ]
    },
    {
     "name": "stderr",
     "output_type": "stream",
     "text": [
      "Traceback (most recent call last):\n",
      "  File \"<ipython-input-8-530adc215787>\", line 7, in house_rollcall_individual_parallel\n",
      "    obj.roll_call_single_to_psql(year, rollcall)\n",
      "  File \"/Users/benellis/Projects/congress/congress/etl/house_votes.py\", line 183, in roll_call_single_to_psql\n",
      "    df = self.roll_call_single(year, roll)\n",
      "  File \"/Users/benellis/Projects/congress/congress/etl/house_votes.py\", line 142, in roll_call_single\n",
      "    chamber = soup.find('chamber').text\n",
      "AttributeError: 'NoneType' object has no attribute 'text'\n"
     ]
    },
    {
     "name": "stdout",
     "output_type": "stream",
     "text": [
      "http://clerk.house.gov/evs/2007/roll531.xml\n"
     ]
    },
    {
     "name": "stderr",
     "output_type": "stream",
     "text": [
      "Traceback (most recent call last):\n",
      "  File \"<ipython-input-8-530adc215787>\", line 7, in house_rollcall_individual_parallel\n",
      "    obj.roll_call_single_to_psql(year, rollcall)\n",
      "  File \"/Users/benellis/Projects/congress/congress/etl/house_votes.py\", line 183, in roll_call_single_to_psql\n",
      "    df = self.roll_call_single(year, roll)\n",
      "  File \"/Users/benellis/Projects/congress/congress/etl/house_votes.py\", line 142, in roll_call_single\n",
      "    chamber = soup.find('chamber').text\n",
      "AttributeError: 'NoneType' object has no attribute 'text'\n"
     ]
    },
    {
     "name": "stdout",
     "output_type": "stream",
     "text": [
      "http://clerk.house.gov/evs/2007/roll530.xml\n"
     ]
    },
    {
     "name": "stderr",
     "output_type": "stream",
     "text": [
      "Traceback (most recent call last):\n",
      "  File \"<ipython-input-8-530adc215787>\", line 7, in house_rollcall_individual_parallel\n",
      "    obj.roll_call_single_to_psql(year, rollcall)\n",
      "  File \"/Users/benellis/Projects/congress/congress/etl/house_votes.py\", line 183, in roll_call_single_to_psql\n",
      "    df = self.roll_call_single(year, roll)\n",
      "  File \"/Users/benellis/Projects/congress/congress/etl/house_votes.py\", line 142, in roll_call_single\n",
      "    chamber = soup.find('chamber').text\n",
      "AttributeError: 'NoneType' object has no attribute 'text'\n"
     ]
    },
    {
     "name": "stdout",
     "output_type": "stream",
     "text": [
      "http://clerk.house.gov/evs/2007/roll529.xml\n"
     ]
    },
    {
     "name": "stderr",
     "output_type": "stream",
     "text": [
      "Traceback (most recent call last):\n",
      "  File \"<ipython-input-8-530adc215787>\", line 7, in house_rollcall_individual_parallel\n",
      "    obj.roll_call_single_to_psql(year, rollcall)\n",
      "  File \"/Users/benellis/Projects/congress/congress/etl/house_votes.py\", line 183, in roll_call_single_to_psql\n",
      "    df = self.roll_call_single(year, roll)\n",
      "  File \"/Users/benellis/Projects/congress/congress/etl/house_votes.py\", line 142, in roll_call_single\n",
      "    chamber = soup.find('chamber').text\n",
      "AttributeError: 'NoneType' object has no attribute 'text'\n"
     ]
    },
    {
     "name": "stdout",
     "output_type": "stream",
     "text": [
      "http://clerk.house.gov/evs/2007/roll528.xml\n"
     ]
    },
    {
     "name": "stderr",
     "output_type": "stream",
     "text": [
      "Traceback (most recent call last):\n",
      "  File \"<ipython-input-8-530adc215787>\", line 7, in house_rollcall_individual_parallel\n",
      "    obj.roll_call_single_to_psql(year, rollcall)\n",
      "  File \"/Users/benellis/Projects/congress/congress/etl/house_votes.py\", line 183, in roll_call_single_to_psql\n",
      "    df = self.roll_call_single(year, roll)\n",
      "  File \"/Users/benellis/Projects/congress/congress/etl/house_votes.py\", line 142, in roll_call_single\n",
      "    chamber = soup.find('chamber').text\n",
      "AttributeError: 'NoneType' object has no attribute 'text'\n"
     ]
    },
    {
     "name": "stdout",
     "output_type": "stream",
     "text": [
      "http://clerk.house.gov/evs/2007/roll527.xml\n"
     ]
    },
    {
     "name": "stderr",
     "output_type": "stream",
     "text": [
      "Traceback (most recent call last):\n",
      "  File \"<ipython-input-8-530adc215787>\", line 7, in house_rollcall_individual_parallel\n",
      "    obj.roll_call_single_to_psql(year, rollcall)\n",
      "  File \"/Users/benellis/Projects/congress/congress/etl/house_votes.py\", line 183, in roll_call_single_to_psql\n",
      "    df = self.roll_call_single(year, roll)\n",
      "  File \"/Users/benellis/Projects/congress/congress/etl/house_votes.py\", line 142, in roll_call_single\n",
      "    chamber = soup.find('chamber').text\n",
      "AttributeError: 'NoneType' object has no attribute 'text'\n"
     ]
    },
    {
     "name": "stdout",
     "output_type": "stream",
     "text": [
      "http://clerk.house.gov/evs/2007/roll526.xml\n",
      "http://clerk.house.gov/evs/2005/roll443.xml\n"
     ]
    },
    {
     "name": "stderr",
     "output_type": "stream",
     "text": [
      "Traceback (most recent call last):\n",
      "  File \"<ipython-input-8-530adc215787>\", line 7, in house_rollcall_individual_parallel\n",
      "    obj.roll_call_single_to_psql(year, rollcall)\n",
      "  File \"/Users/benellis/Projects/congress/congress/etl/house_votes.py\", line 183, in roll_call_single_to_psql\n",
      "    df = self.roll_call_single(year, roll)\n",
      "  File \"/Users/benellis/Projects/congress/congress/etl/house_votes.py\", line 142, in roll_call_single\n",
      "    chamber = soup.find('chamber').text\n",
      "AttributeError: 'NoneType' object has no attribute 'text'\n"
     ]
    },
    {
     "name": "stdout",
     "output_type": "stream",
     "text": [
      "http://clerk.house.gov/evs/2007/roll525.xml\n",
      "http://clerk.house.gov/evs/2008/roll250.xml\n"
     ]
    },
    {
     "name": "stderr",
     "output_type": "stream",
     "text": [
      "Traceback (most recent call last):\n",
      "  File \"<ipython-input-8-530adc215787>\", line 7, in house_rollcall_individual_parallel\n",
      "    obj.roll_call_single_to_psql(year, rollcall)\n",
      "  File \"/Users/benellis/Projects/congress/congress/etl/house_votes.py\", line 183, in roll_call_single_to_psql\n",
      "    df = self.roll_call_single(year, roll)\n",
      "  File \"/Users/benellis/Projects/congress/congress/etl/house_votes.py\", line 142, in roll_call_single\n",
      "    chamber = soup.find('chamber').text\n",
      "AttributeError: 'NoneType' object has no attribute 'text'\n"
     ]
    },
    {
     "name": "stdout",
     "output_type": "stream",
     "text": [
      "http://clerk.house.gov/evs/2007/roll524.xml\n",
      "http://clerk.house.gov/evs/2003/roll583.xml\n"
     ]
    },
    {
     "name": "stderr",
     "output_type": "stream",
     "text": [
      "Traceback (most recent call last):\n",
      "  File \"<ipython-input-8-530adc215787>\", line 7, in house_rollcall_individual_parallel\n",
      "    obj.roll_call_single_to_psql(year, rollcall)\n",
      "  File \"/Users/benellis/Projects/congress/congress/etl/house_votes.py\", line 183, in roll_call_single_to_psql\n",
      "    df = self.roll_call_single(year, roll)\n",
      "  File \"/Users/benellis/Projects/congress/congress/etl/house_votes.py\", line 142, in roll_call_single\n",
      "    chamber = soup.find('chamber').text\n",
      "AttributeError: 'NoneType' object has no attribute 'text'\n"
     ]
    },
    {
     "name": "stdout",
     "output_type": "stream",
     "text": [
      "http://clerk.house.gov/evs/2007/roll523.xml\n"
     ]
    },
    {
     "name": "stderr",
     "output_type": "stream",
     "text": [
      "Traceback (most recent call last):\n",
      "  File \"<ipython-input-8-530adc215787>\", line 7, in house_rollcall_individual_parallel\n",
      "    obj.roll_call_single_to_psql(year, rollcall)\n",
      "  File \"/Users/benellis/Projects/congress/congress/etl/house_votes.py\", line 183, in roll_call_single_to_psql\n",
      "    df = self.roll_call_single(year, roll)\n",
      "  File \"/Users/benellis/Projects/congress/congress/etl/house_votes.py\", line 142, in roll_call_single\n",
      "    chamber = soup.find('chamber').text\n",
      "AttributeError: 'NoneType' object has no attribute 'text'\n"
     ]
    },
    {
     "name": "stdout",
     "output_type": "stream",
     "text": [
      "http://clerk.house.gov/evs/2007/roll522.xml\n"
     ]
    },
    {
     "name": "stderr",
     "output_type": "stream",
     "text": [
      "Traceback (most recent call last):\n",
      "  File \"<ipython-input-8-530adc215787>\", line 7, in house_rollcall_individual_parallel\n",
      "    obj.roll_call_single_to_psql(year, rollcall)\n",
      "  File \"/Users/benellis/Projects/congress/congress/etl/house_votes.py\", line 183, in roll_call_single_to_psql\n",
      "    df = self.roll_call_single(year, roll)\n",
      "  File \"/Users/benellis/Projects/congress/congress/etl/house_votes.py\", line 142, in roll_call_single\n",
      "    chamber = soup.find('chamber').text\n",
      "AttributeError: 'NoneType' object has no attribute 'text'\n"
     ]
    },
    {
     "name": "stdout",
     "output_type": "stream",
     "text": [
      "http://clerk.house.gov/evs/2007/roll521.xml\n"
     ]
    },
    {
     "name": "stderr",
     "output_type": "stream",
     "text": [
      "Traceback (most recent call last):\n",
      "  File \"<ipython-input-8-530adc215787>\", line 7, in house_rollcall_individual_parallel\n",
      "    obj.roll_call_single_to_psql(year, rollcall)\n",
      "  File \"/Users/benellis/Projects/congress/congress/etl/house_votes.py\", line 183, in roll_call_single_to_psql\n",
      "    df = self.roll_call_single(year, roll)\n",
      "  File \"/Users/benellis/Projects/congress/congress/etl/house_votes.py\", line 142, in roll_call_single\n",
      "    chamber = soup.find('chamber').text\n",
      "AttributeError: 'NoneType' object has no attribute 'text'\n"
     ]
    },
    {
     "name": "stdout",
     "output_type": "stream",
     "text": [
      "http://clerk.house.gov/evs/2007/roll520.xml\n"
     ]
    },
    {
     "name": "stderr",
     "output_type": "stream",
     "text": [
      "Traceback (most recent call last):\n",
      "  File \"<ipython-input-8-530adc215787>\", line 7, in house_rollcall_individual_parallel\n",
      "    obj.roll_call_single_to_psql(year, rollcall)\n",
      "  File \"/Users/benellis/Projects/congress/congress/etl/house_votes.py\", line 183, in roll_call_single_to_psql\n",
      "    df = self.roll_call_single(year, roll)\n",
      "  File \"/Users/benellis/Projects/congress/congress/etl/house_votes.py\", line 142, in roll_call_single\n",
      "    chamber = soup.find('chamber').text\n",
      "AttributeError: 'NoneType' object has no attribute 'text'\n"
     ]
    },
    {
     "name": "stdout",
     "output_type": "stream",
     "text": [
      "http://clerk.house.gov/evs/2007/roll519.xml\n",
      "http://clerk.house.gov/evs/2005/roll442.xml\n"
     ]
    },
    {
     "name": "stderr",
     "output_type": "stream",
     "text": [
      "Traceback (most recent call last):\n",
      "  File \"<ipython-input-8-530adc215787>\", line 7, in house_rollcall_individual_parallel\n",
      "    obj.roll_call_single_to_psql(year, rollcall)\n",
      "  File \"/Users/benellis/Projects/congress/congress/etl/house_votes.py\", line 183, in roll_call_single_to_psql\n",
      "    df = self.roll_call_single(year, roll)\n",
      "  File \"/Users/benellis/Projects/congress/congress/etl/house_votes.py\", line 142, in roll_call_single\n",
      "    chamber = soup.find('chamber').text\n",
      "AttributeError: 'NoneType' object has no attribute 'text'\n"
     ]
    },
    {
     "name": "stdout",
     "output_type": "stream",
     "text": [
      "http://clerk.house.gov/evs/2007/roll518.xml\n",
      "http://clerk.house.gov/evs/2008/roll249.xml\n"
     ]
    },
    {
     "name": "stderr",
     "output_type": "stream",
     "text": [
      "Traceback (most recent call last):\n",
      "  File \"<ipython-input-8-530adc215787>\", line 7, in house_rollcall_individual_parallel\n",
      "    obj.roll_call_single_to_psql(year, rollcall)\n",
      "  File \"/Users/benellis/Projects/congress/congress/etl/house_votes.py\", line 183, in roll_call_single_to_psql\n",
      "    df = self.roll_call_single(year, roll)\n",
      "  File \"/Users/benellis/Projects/congress/congress/etl/house_votes.py\", line 142, in roll_call_single\n",
      "    chamber = soup.find('chamber').text\n",
      "AttributeError: 'NoneType' object has no attribute 'text'\n"
     ]
    },
    {
     "name": "stdout",
     "output_type": "stream",
     "text": [
      "http://clerk.house.gov/evs/2007/roll517.xml\n",
      "http://clerk.house.gov/evs/2003/roll582.xml\n"
     ]
    },
    {
     "name": "stderr",
     "output_type": "stream",
     "text": [
      "Traceback (most recent call last):\n",
      "  File \"<ipython-input-8-530adc215787>\", line 7, in house_rollcall_individual_parallel\n",
      "    obj.roll_call_single_to_psql(year, rollcall)\n",
      "  File \"/Users/benellis/Projects/congress/congress/etl/house_votes.py\", line 183, in roll_call_single_to_psql\n",
      "    df = self.roll_call_single(year, roll)\n",
      "  File \"/Users/benellis/Projects/congress/congress/etl/house_votes.py\", line 142, in roll_call_single\n",
      "    chamber = soup.find('chamber').text\n",
      "AttributeError: 'NoneType' object has no attribute 'text'\n"
     ]
    },
    {
     "name": "stdout",
     "output_type": "stream",
     "text": [
      "http://clerk.house.gov/evs/2007/roll516.xml\n"
     ]
    },
    {
     "name": "stderr",
     "output_type": "stream",
     "text": [
      "Traceback (most recent call last):\n",
      "  File \"<ipython-input-8-530adc215787>\", line 7, in house_rollcall_individual_parallel\n",
      "    obj.roll_call_single_to_psql(year, rollcall)\n",
      "  File \"/Users/benellis/Projects/congress/congress/etl/house_votes.py\", line 183, in roll_call_single_to_psql\n",
      "    df = self.roll_call_single(year, roll)\n",
      "  File \"/Users/benellis/Projects/congress/congress/etl/house_votes.py\", line 142, in roll_call_single\n",
      "    chamber = soup.find('chamber').text\n",
      "AttributeError: 'NoneType' object has no attribute 'text'\n"
     ]
    },
    {
     "name": "stdout",
     "output_type": "stream",
     "text": [
      "http://clerk.house.gov/evs/2007/roll515.xml\n",
      "http://clerk.house.gov/evs/2005/roll441.xml\n",
      "http://clerk.house.gov/evs/2008/roll248.xml\n",
      "http://clerk.house.gov/evs/2003/roll579.xml\n",
      "http://clerk.house.gov/evs/2007/roll514.xml\n",
      "http://clerk.house.gov/evs/2005/roll440.xml\n",
      "http://clerk.house.gov/evs/2008/roll247.xml\n",
      "http://clerk.house.gov/evs/2003/roll578.xml\n",
      "http://clerk.house.gov/evs/2007/roll513.xml\n",
      "http://clerk.house.gov/evs/2005/roll439.xml\n",
      "http://clerk.house.gov/evs/2008/roll243.xml\n",
      "http://clerk.house.gov/evs/2003/roll577.xml\n",
      "http://clerk.house.gov/evs/2007/roll512.xml\n",
      "http://clerk.house.gov/evs/2005/roll438.xml\n",
      "http://clerk.house.gov/evs/2008/roll242.xml\n",
      "http://clerk.house.gov/evs/2003/roll576.xml\n",
      "http://clerk.house.gov/evs/2007/roll511.xml\n"
     ]
    },
    {
     "name": "stderr",
     "output_type": "stream",
     "text": [
      "Traceback (most recent call last):\n",
      "  File \"<ipython-input-8-530adc215787>\", line 7, in house_rollcall_individual_parallel\n",
      "    obj.roll_call_single_to_psql(year, rollcall)\n",
      "  File \"/Users/benellis/Projects/congress/congress/etl/house_votes.py\", line 183, in roll_call_single_to_psql\n",
      "    df = self.roll_call_single(year, roll)\n",
      "  File \"/Users/benellis/Projects/congress/congress/etl/house_votes.py\", line 142, in roll_call_single\n",
      "    chamber = soup.find('chamber').text\n",
      "AttributeError: 'NoneType' object has no attribute 'text'\n"
     ]
    },
    {
     "name": "stdout",
     "output_type": "stream",
     "text": [
      "http://clerk.house.gov/evs/2007/roll510.xml\n"
     ]
    },
    {
     "name": "stderr",
     "output_type": "stream",
     "text": [
      "Traceback (most recent call last):\n",
      "  File \"<ipython-input-8-530adc215787>\", line 7, in house_rollcall_individual_parallel\n",
      "    obj.roll_call_single_to_psql(year, rollcall)\n",
      "  File \"/Users/benellis/Projects/congress/congress/etl/house_votes.py\", line 183, in roll_call_single_to_psql\n",
      "    df = self.roll_call_single(year, roll)\n",
      "  File \"/Users/benellis/Projects/congress/congress/etl/house_votes.py\", line 142, in roll_call_single\n",
      "    chamber = soup.find('chamber').text\n",
      "AttributeError: 'NoneType' object has no attribute 'text'\n"
     ]
    },
    {
     "name": "stdout",
     "output_type": "stream",
     "text": [
      "http://clerk.house.gov/evs/2007/roll509.xml\n"
     ]
    },
    {
     "name": "stderr",
     "output_type": "stream",
     "text": [
      "Traceback (most recent call last):\n",
      "  File \"<ipython-input-8-530adc215787>\", line 7, in house_rollcall_individual_parallel\n",
      "    obj.roll_call_single_to_psql(year, rollcall)\n",
      "  File \"/Users/benellis/Projects/congress/congress/etl/house_votes.py\", line 183, in roll_call_single_to_psql\n",
      "    df = self.roll_call_single(year, roll)\n",
      "  File \"/Users/benellis/Projects/congress/congress/etl/house_votes.py\", line 142, in roll_call_single\n",
      "    chamber = soup.find('chamber').text\n",
      "AttributeError: 'NoneType' object has no attribute 'text'\n"
     ]
    },
    {
     "name": "stdout",
     "output_type": "stream",
     "text": [
      "http://clerk.house.gov/evs/2007/roll508.xml\n",
      "http://clerk.house.gov/evs/2005/roll437.xml\n"
     ]
    },
    {
     "name": "stderr",
     "output_type": "stream",
     "text": [
      "Traceback (most recent call last):\n",
      "  File \"<ipython-input-8-530adc215787>\", line 7, in house_rollcall_individual_parallel\n",
      "    obj.roll_call_single_to_psql(year, rollcall)\n",
      "  File \"/Users/benellis/Projects/congress/congress/etl/house_votes.py\", line 183, in roll_call_single_to_psql\n",
      "    df = self.roll_call_single(year, roll)\n",
      "  File \"/Users/benellis/Projects/congress/congress/etl/house_votes.py\", line 142, in roll_call_single\n",
      "    chamber = soup.find('chamber').text\n",
      "AttributeError: 'NoneType' object has no attribute 'text'\n"
     ]
    },
    {
     "name": "stdout",
     "output_type": "stream",
     "text": [
      "http://clerk.house.gov/evs/2007/roll507.xml\n"
     ]
    },
    {
     "name": "stderr",
     "output_type": "stream",
     "text": [
      "Traceback (most recent call last):\n",
      "  File \"<ipython-input-8-530adc215787>\", line 7, in house_rollcall_individual_parallel\n",
      "    obj.roll_call_single_to_psql(year, rollcall)\n",
      "  File \"/Users/benellis/Projects/congress/congress/etl/house_votes.py\", line 183, in roll_call_single_to_psql\n",
      "    df = self.roll_call_single(year, roll)\n",
      "  File \"/Users/benellis/Projects/congress/congress/etl/house_votes.py\", line 142, in roll_call_single\n",
      "    chamber = soup.find('chamber').text\n",
      "AttributeError: 'NoneType' object has no attribute 'text'\n"
     ]
    },
    {
     "name": "stdout",
     "output_type": "stream",
     "text": [
      "http://clerk.house.gov/evs/2007/roll506.xml\n",
      "http://clerk.house.gov/evs/2008/roll241.xml\n"
     ]
    },
    {
     "name": "stderr",
     "output_type": "stream",
     "text": [
      "Traceback (most recent call last):\n",
      "  File \"<ipython-input-8-530adc215787>\", line 7, in house_rollcall_individual_parallel\n",
      "    obj.roll_call_single_to_psql(year, rollcall)\n",
      "  File \"/Users/benellis/Projects/congress/congress/etl/house_votes.py\", line 183, in roll_call_single_to_psql\n",
      "    df = self.roll_call_single(year, roll)\n",
      "  File \"/Users/benellis/Projects/congress/congress/etl/house_votes.py\", line 142, in roll_call_single\n",
      "    chamber = soup.find('chamber').text\n",
      "AttributeError: 'NoneType' object has no attribute 'text'\n"
     ]
    },
    {
     "name": "stdout",
     "output_type": "stream",
     "text": [
      "http://clerk.house.gov/evs/2007/roll505.xml\n",
      "http://clerk.house.gov/evs/2003/roll575.xml\n"
     ]
    },
    {
     "name": "stderr",
     "output_type": "stream",
     "text": [
      "Traceback (most recent call last):\n",
      "  File \"<ipython-input-8-530adc215787>\", line 7, in house_rollcall_individual_parallel\n",
      "    obj.roll_call_single_to_psql(year, rollcall)\n",
      "  File \"/Users/benellis/Projects/congress/congress/etl/house_votes.py\", line 183, in roll_call_single_to_psql\n",
      "    df = self.roll_call_single(year, roll)\n",
      "  File \"/Users/benellis/Projects/congress/congress/etl/house_votes.py\", line 142, in roll_call_single\n",
      "    chamber = soup.find('chamber').text\n",
      "AttributeError: 'NoneType' object has no attribute 'text'\n"
     ]
    },
    {
     "name": "stdout",
     "output_type": "stream",
     "text": [
      "http://clerk.house.gov/evs/2007/roll504.xml\n"
     ]
    },
    {
     "name": "stderr",
     "output_type": "stream",
     "text": [
      "Traceback (most recent call last):\n",
      "  File \"<ipython-input-8-530adc215787>\", line 7, in house_rollcall_individual_parallel\n",
      "    obj.roll_call_single_to_psql(year, rollcall)\n",
      "  File \"/Users/benellis/Projects/congress/congress/etl/house_votes.py\", line 183, in roll_call_single_to_psql\n",
      "    df = self.roll_call_single(year, roll)\n",
      "  File \"/Users/benellis/Projects/congress/congress/etl/house_votes.py\", line 142, in roll_call_single\n",
      "    chamber = soup.find('chamber').text\n",
      "AttributeError: 'NoneType' object has no attribute 'text'\n"
     ]
    },
    {
     "name": "stdout",
     "output_type": "stream",
     "text": [
      "http://clerk.house.gov/evs/2007/roll503.xml\n"
     ]
    },
    {
     "name": "stderr",
     "output_type": "stream",
     "text": [
      "Traceback (most recent call last):\n",
      "  File \"<ipython-input-8-530adc215787>\", line 7, in house_rollcall_individual_parallel\n",
      "    obj.roll_call_single_to_psql(year, rollcall)\n",
      "  File \"/Users/benellis/Projects/congress/congress/etl/house_votes.py\", line 183, in roll_call_single_to_psql\n",
      "    df = self.roll_call_single(year, roll)\n",
      "  File \"/Users/benellis/Projects/congress/congress/etl/house_votes.py\", line 142, in roll_call_single\n",
      "    chamber = soup.find('chamber').text\n",
      "AttributeError: 'NoneType' object has no attribute 'text'\n"
     ]
    },
    {
     "name": "stdout",
     "output_type": "stream",
     "text": [
      "http://clerk.house.gov/evs/2007/roll502.xml\n"
     ]
    },
    {
     "name": "stderr",
     "output_type": "stream",
     "text": [
      "Traceback (most recent call last):\n",
      "  File \"<ipython-input-8-530adc215787>\", line 7, in house_rollcall_individual_parallel\n",
      "    obj.roll_call_single_to_psql(year, rollcall)\n",
      "  File \"/Users/benellis/Projects/congress/congress/etl/house_votes.py\", line 183, in roll_call_single_to_psql\n",
      "    df = self.roll_call_single(year, roll)\n",
      "  File \"/Users/benellis/Projects/congress/congress/etl/house_votes.py\", line 142, in roll_call_single\n",
      "    chamber = soup.find('chamber').text\n",
      "AttributeError: 'NoneType' object has no attribute 'text'\n"
     ]
    },
    {
     "name": "stdout",
     "output_type": "stream",
     "text": [
      "http://clerk.house.gov/evs/2007/roll501.xml\n",
      "http://clerk.house.gov/evs/2005/roll436.xml\n",
      "http://clerk.house.gov/evs/2008/roll240.xml\n",
      "http://clerk.house.gov/evs/2003/roll574.xml\n",
      "http://clerk.house.gov/evs/2007/roll500.xml\n",
      "http://clerk.house.gov/evs/2005/roll545.xml\n",
      "http://clerk.house.gov/evs/2008/roll239.xml\n",
      "http://clerk.house.gov/evs/2003/roll573.xml\n",
      "http://clerk.house.gov/evs/2007/roll699.xml\n"
     ]
    },
    {
     "name": "stderr",
     "output_type": "stream",
     "text": [
      "Traceback (most recent call last):\n",
      "  File \"<ipython-input-8-530adc215787>\", line 7, in house_rollcall_individual_parallel\n",
      "    obj.roll_call_single_to_psql(year, rollcall)\n",
      "  File \"/Users/benellis/Projects/congress/congress/etl/house_votes.py\", line 183, in roll_call_single_to_psql\n",
      "    df = self.roll_call_single(year, roll)\n",
      "  File \"/Users/benellis/Projects/congress/congress/etl/house_votes.py\", line 142, in roll_call_single\n",
      "    chamber = soup.find('chamber').text\n",
      "AttributeError: 'NoneType' object has no attribute 'text'\n"
     ]
    },
    {
     "name": "stdout",
     "output_type": "stream",
     "text": [
      "http://clerk.house.gov/evs/2007/roll698.xml\n",
      "http://clerk.house.gov/evs/2005/roll435.xml\n"
     ]
    },
    {
     "name": "stderr",
     "output_type": "stream",
     "text": [
      "Traceback (most recent call last):\n",
      "  File \"<ipython-input-8-530adc215787>\", line 7, in house_rollcall_individual_parallel\n",
      "    obj.roll_call_single_to_psql(year, rollcall)\n",
      "  File \"/Users/benellis/Projects/congress/congress/etl/house_votes.py\", line 183, in roll_call_single_to_psql\n",
      "    df = self.roll_call_single(year, roll)\n",
      "  File \"/Users/benellis/Projects/congress/congress/etl/house_votes.py\", line 142, in roll_call_single\n",
      "    chamber = soup.find('chamber').text\n",
      "AttributeError: 'NoneType' object has no attribute 'text'\n"
     ]
    },
    {
     "name": "stdout",
     "output_type": "stream",
     "text": [
      "http://clerk.house.gov/evs/2007/roll697.xml\n",
      "http://clerk.house.gov/evs/2008/roll238.xml\n"
     ]
    },
    {
     "name": "stderr",
     "output_type": "stream",
     "text": [
      "Traceback (most recent call last):\n",
      "  File \"<ipython-input-8-530adc215787>\", line 7, in house_rollcall_individual_parallel\n",
      "    obj.roll_call_single_to_psql(year, rollcall)\n",
      "  File \"/Users/benellis/Projects/congress/congress/etl/house_votes.py\", line 183, in roll_call_single_to_psql\n",
      "    df = self.roll_call_single(year, roll)\n",
      "  File \"/Users/benellis/Projects/congress/congress/etl/house_votes.py\", line 142, in roll_call_single\n",
      "    chamber = soup.find('chamber').text\n",
      "AttributeError: 'NoneType' object has no attribute 'text'\n"
     ]
    },
    {
     "name": "stdout",
     "output_type": "stream",
     "text": [
      "http://clerk.house.gov/evs/2007/roll696.xml\n"
     ]
    },
    {
     "name": "stderr",
     "output_type": "stream",
     "text": [
      "Traceback (most recent call last):\n",
      "  File \"<ipython-input-8-530adc215787>\", line 7, in house_rollcall_individual_parallel\n",
      "    obj.roll_call_single_to_psql(year, rollcall)\n",
      "  File \"/Users/benellis/Projects/congress/congress/etl/house_votes.py\", line 183, in roll_call_single_to_psql\n",
      "    df = self.roll_call_single(year, roll)\n",
      "  File \"/Users/benellis/Projects/congress/congress/etl/house_votes.py\", line 142, in roll_call_single\n",
      "    chamber = soup.find('chamber').text\n",
      "AttributeError: 'NoneType' object has no attribute 'text'\n"
     ]
    },
    {
     "name": "stdout",
     "output_type": "stream",
     "text": [
      "http://clerk.house.gov/evs/2007/roll695.xml\n"
     ]
    },
    {
     "name": "stderr",
     "output_type": "stream",
     "text": [
      "Traceback (most recent call last):\n",
      "  File \"<ipython-input-8-530adc215787>\", line 7, in house_rollcall_individual_parallel\n",
      "    obj.roll_call_single_to_psql(year, rollcall)\n",
      "  File \"/Users/benellis/Projects/congress/congress/etl/house_votes.py\", line 183, in roll_call_single_to_psql\n",
      "    df = self.roll_call_single(year, roll)\n",
      "  File \"/Users/benellis/Projects/congress/congress/etl/house_votes.py\", line 142, in roll_call_single\n",
      "    chamber = soup.find('chamber').text\n",
      "AttributeError: 'NoneType' object has no attribute 'text'\n"
     ]
    },
    {
     "name": "stdout",
     "output_type": "stream",
     "text": [
      "http://clerk.house.gov/evs/2007/roll694.xml\n"
     ]
    },
    {
     "name": "stderr",
     "output_type": "stream",
     "text": [
      "Traceback (most recent call last):\n",
      "  File \"<ipython-input-8-530adc215787>\", line 7, in house_rollcall_individual_parallel\n",
      "    obj.roll_call_single_to_psql(year, rollcall)\n",
      "  File \"/Users/benellis/Projects/congress/congress/etl/house_votes.py\", line 183, in roll_call_single_to_psql\n",
      "    df = self.roll_call_single(year, roll)\n",
      "  File \"/Users/benellis/Projects/congress/congress/etl/house_votes.py\", line 142, in roll_call_single\n",
      "    chamber = soup.find('chamber').text\n",
      "AttributeError: 'NoneType' object has no attribute 'text'\n"
     ]
    },
    {
     "name": "stdout",
     "output_type": "stream",
     "text": [
      "http://clerk.house.gov/evs/2007/roll693.xml\n",
      "http://clerk.house.gov/evs/2003/roll572.xml\n"
     ]
    },
    {
     "name": "stderr",
     "output_type": "stream",
     "text": [
      "Traceback (most recent call last):\n",
      "  File \"<ipython-input-8-530adc215787>\", line 7, in house_rollcall_individual_parallel\n",
      "    obj.roll_call_single_to_psql(year, rollcall)\n",
      "  File \"/Users/benellis/Projects/congress/congress/etl/house_votes.py\", line 183, in roll_call_single_to_psql\n",
      "    df = self.roll_call_single(year, roll)\n",
      "  File \"/Users/benellis/Projects/congress/congress/etl/house_votes.py\", line 142, in roll_call_single\n",
      "    chamber = soup.find('chamber').text\n",
      "AttributeError: 'NoneType' object has no attribute 'text'\n"
     ]
    },
    {
     "name": "stdout",
     "output_type": "stream",
     "text": [
      "http://clerk.house.gov/evs/2007/roll692.xml\n"
     ]
    },
    {
     "name": "stderr",
     "output_type": "stream",
     "text": [
      "Traceback (most recent call last):\n",
      "  File \"<ipython-input-8-530adc215787>\", line 7, in house_rollcall_individual_parallel\n",
      "    obj.roll_call_single_to_psql(year, rollcall)\n",
      "  File \"/Users/benellis/Projects/congress/congress/etl/house_votes.py\", line 183, in roll_call_single_to_psql\n",
      "    df = self.roll_call_single(year, roll)\n",
      "  File \"/Users/benellis/Projects/congress/congress/etl/house_votes.py\", line 142, in roll_call_single\n",
      "    chamber = soup.find('chamber').text\n",
      "AttributeError: 'NoneType' object has no attribute 'text'\n"
     ]
    },
    {
     "name": "stdout",
     "output_type": "stream",
     "text": [
      "http://clerk.house.gov/evs/2007/roll691.xml\n"
     ]
    },
    {
     "name": "stderr",
     "output_type": "stream",
     "text": [
      "Traceback (most recent call last):\n",
      "  File \"<ipython-input-8-530adc215787>\", line 7, in house_rollcall_individual_parallel\n",
      "    obj.roll_call_single_to_psql(year, rollcall)\n",
      "  File \"/Users/benellis/Projects/congress/congress/etl/house_votes.py\", line 183, in roll_call_single_to_psql\n",
      "    df = self.roll_call_single(year, roll)\n",
      "  File \"/Users/benellis/Projects/congress/congress/etl/house_votes.py\", line 142, in roll_call_single\n",
      "    chamber = soup.find('chamber').text\n",
      "AttributeError: 'NoneType' object has no attribute 'text'\n"
     ]
    },
    {
     "name": "stdout",
     "output_type": "stream",
     "text": [
      "http://clerk.house.gov/evs/2007/roll690.xml\n",
      "http://clerk.house.gov/evs/2005/roll434.xml\n",
      "http://clerk.house.gov/evs/2008/roll237.xml\n",
      "http://clerk.house.gov/evs/2003/roll571.xml\n",
      "http://clerk.house.gov/evs/2007/roll689.xml\n",
      "http://clerk.house.gov/evs/2005/roll433.xml\n",
      "http://clerk.house.gov/evs/2008/roll236.xml\n",
      "http://clerk.house.gov/evs/2003/roll570.xml\n",
      "http://clerk.house.gov/evs/2007/roll688.xml\n",
      "http://clerk.house.gov/evs/2005/roll432.xml\n",
      "http://clerk.house.gov/evs/2008/roll235.xml\n",
      "http://clerk.house.gov/evs/2003/roll569.xml\n",
      "http://clerk.house.gov/evs/2007/roll687.xml\n",
      "http://clerk.house.gov/evs/2005/roll431.xml\n",
      "http://clerk.house.gov/evs/2008/roll234.xml\n",
      "http://clerk.house.gov/evs/2003/roll568.xml\n",
      "http://clerk.house.gov/evs/2007/roll686.xml\n",
      "http://clerk.house.gov/evs/2005/roll430.xml\n",
      "http://clerk.house.gov/evs/2008/roll233.xml\n",
      "http://clerk.house.gov/evs/2003/roll567.xml\n",
      "http://clerk.house.gov/evs/2007/roll685.xml\n",
      "http://clerk.house.gov/evs/2005/roll429.xml\n",
      "http://clerk.house.gov/evs/2008/roll232.xml\n",
      "http://clerk.house.gov/evs/2003/roll566.xml\n",
      "http://clerk.house.gov/evs/2007/roll684.xml\n"
     ]
    },
    {
     "name": "stderr",
     "output_type": "stream",
     "text": [
      "Traceback (most recent call last):\n",
      "  File \"<ipython-input-8-530adc215787>\", line 7, in house_rollcall_individual_parallel\n",
      "    obj.roll_call_single_to_psql(year, rollcall)\n",
      "  File \"/Users/benellis/Projects/congress/congress/etl/house_votes.py\", line 183, in roll_call_single_to_psql\n",
      "    df = self.roll_call_single(year, roll)\n",
      "  File \"/Users/benellis/Projects/congress/congress/etl/house_votes.py\", line 142, in roll_call_single\n",
      "    chamber = soup.find('chamber').text\n",
      "AttributeError: 'NoneType' object has no attribute 'text'\n"
     ]
    },
    {
     "name": "stdout",
     "output_type": "stream",
     "text": [
      "http://clerk.house.gov/evs/2007/roll683.xml\n",
      "http://clerk.house.gov/evs/2008/roll231.xml\n",
      "http://clerk.house.gov/evs/2005/roll428.xml\n"
     ]
    },
    {
     "name": "stderr",
     "output_type": "stream",
     "text": [
      "Traceback (most recent call last):\n",
      "  File \"<ipython-input-8-530adc215787>\", line 7, in house_rollcall_individual_parallel\n",
      "    obj.roll_call_single_to_psql(year, rollcall)\n",
      "  File \"/Users/benellis/Projects/congress/congress/etl/house_votes.py\", line 183, in roll_call_single_to_psql\n",
      "    df = self.roll_call_single(year, roll)\n",
      "  File \"/Users/benellis/Projects/congress/congress/etl/house_votes.py\", line 142, in roll_call_single\n",
      "    chamber = soup.find('chamber').text\n",
      "AttributeError: 'NoneType' object has no attribute 'text'\n"
     ]
    },
    {
     "name": "stdout",
     "output_type": "stream",
     "text": [
      "http://clerk.house.gov/evs/2007/roll682.xml\n"
     ]
    },
    {
     "name": "stderr",
     "output_type": "stream",
     "text": [
      "Traceback (most recent call last):\n",
      "  File \"<ipython-input-8-530adc215787>\", line 7, in house_rollcall_individual_parallel\n",
      "    obj.roll_call_single_to_psql(year, rollcall)\n",
      "  File \"/Users/benellis/Projects/congress/congress/etl/house_votes.py\", line 183, in roll_call_single_to_psql\n",
      "    df = self.roll_call_single(year, roll)\n",
      "  File \"/Users/benellis/Projects/congress/congress/etl/house_votes.py\", line 142, in roll_call_single\n",
      "    chamber = soup.find('chamber').text\n",
      "AttributeError: 'NoneType' object has no attribute 'text'\n"
     ]
    },
    {
     "name": "stdout",
     "output_type": "stream",
     "text": [
      "http://clerk.house.gov/evs/2008/roll230.xml\n",
      "http://clerk.house.gov/evs/2003/roll565.xml\n"
     ]
    },
    {
     "name": "stderr",
     "output_type": "stream",
     "text": [
      "Traceback (most recent call last):\n",
      "  File \"<ipython-input-8-530adc215787>\", line 7, in house_rollcall_individual_parallel\n",
      "    obj.roll_call_single_to_psql(year, rollcall)\n",
      "  File \"/Users/benellis/Projects/congress/congress/etl/house_votes.py\", line 183, in roll_call_single_to_psql\n",
      "    df = self.roll_call_single(year, roll)\n",
      "  File \"/Users/benellis/Projects/congress/congress/etl/house_votes.py\", line 142, in roll_call_single\n",
      "    chamber = soup.find('chamber').text\n",
      "AttributeError: 'NoneType' object has no attribute 'text'\n"
     ]
    },
    {
     "name": "stdout",
     "output_type": "stream",
     "text": [
      "http://clerk.house.gov/evs/2007/roll681.xml\n"
     ]
    },
    {
     "name": "stderr",
     "output_type": "stream",
     "text": [
      "Traceback (most recent call last):\n",
      "  File \"<ipython-input-8-530adc215787>\", line 7, in house_rollcall_individual_parallel\n",
      "    obj.roll_call_single_to_psql(year, rollcall)\n",
      "  File \"/Users/benellis/Projects/congress/congress/etl/house_votes.py\", line 183, in roll_call_single_to_psql\n",
      "    df = self.roll_call_single(year, roll)\n",
      "  File \"/Users/benellis/Projects/congress/congress/etl/house_votes.py\", line 142, in roll_call_single\n",
      "    chamber = soup.find('chamber').text\n",
      "AttributeError: 'NoneType' object has no attribute 'text'\n"
     ]
    },
    {
     "name": "stdout",
     "output_type": "stream",
     "text": [
      "http://clerk.house.gov/evs/2008/roll229.xml\n"
     ]
    },
    {
     "name": "stderr",
     "output_type": "stream",
     "text": [
      "Traceback (most recent call last):\n",
      "  File \"<ipython-input-8-530adc215787>\", line 7, in house_rollcall_individual_parallel\n",
      "    obj.roll_call_single_to_psql(year, rollcall)\n",
      "  File \"/Users/benellis/Projects/congress/congress/etl/house_votes.py\", line 183, in roll_call_single_to_psql\n",
      "    df = self.roll_call_single(year, roll)\n",
      "  File \"/Users/benellis/Projects/congress/congress/etl/house_votes.py\", line 142, in roll_call_single\n",
      "    chamber = soup.find('chamber').text\n",
      "AttributeError: 'NoneType' object has no attribute 'text'\n"
     ]
    },
    {
     "name": "stdout",
     "output_type": "stream",
     "text": [
      "http://clerk.house.gov/evs/2007/roll680.xml\n"
     ]
    },
    {
     "name": "stderr",
     "output_type": "stream",
     "text": [
      "Traceback (most recent call last):\n",
      "  File \"<ipython-input-8-530adc215787>\", line 7, in house_rollcall_individual_parallel\n",
      "    obj.roll_call_single_to_psql(year, rollcall)\n",
      "  File \"/Users/benellis/Projects/congress/congress/etl/house_votes.py\", line 183, in roll_call_single_to_psql\n",
      "    df = self.roll_call_single(year, roll)\n",
      "  File \"/Users/benellis/Projects/congress/congress/etl/house_votes.py\", line 142, in roll_call_single\n",
      "    chamber = soup.find('chamber').text\n",
      "AttributeError: 'NoneType' object has no attribute 'text'\n"
     ]
    },
    {
     "name": "stdout",
     "output_type": "stream",
     "text": [
      "http://clerk.house.gov/evs/2007/roll679.xml\n"
     ]
    },
    {
     "name": "stderr",
     "output_type": "stream",
     "text": [
      "Traceback (most recent call last):\n",
      "  File \"<ipython-input-8-530adc215787>\", line 7, in house_rollcall_individual_parallel\n",
      "    obj.roll_call_single_to_psql(year, rollcall)\n",
      "  File \"/Users/benellis/Projects/congress/congress/etl/house_votes.py\", line 183, in roll_call_single_to_psql\n",
      "    df = self.roll_call_single(year, roll)\n",
      "  File \"/Users/benellis/Projects/congress/congress/etl/house_votes.py\", line 142, in roll_call_single\n",
      "    chamber = soup.find('chamber').text\n",
      "AttributeError: 'NoneType' object has no attribute 'text'\n"
     ]
    },
    {
     "name": "stdout",
     "output_type": "stream",
     "text": [
      "http://clerk.house.gov/evs/2007/roll678.xml\n",
      "http://clerk.house.gov/evs/2005/roll427.xml\n"
     ]
    },
    {
     "name": "stderr",
     "output_type": "stream",
     "text": [
      "Traceback (most recent call last):\n",
      "  File \"<ipython-input-8-530adc215787>\", line 7, in house_rollcall_individual_parallel\n",
      "    obj.roll_call_single_to_psql(year, rollcall)\n",
      "  File \"/Users/benellis/Projects/congress/congress/etl/house_votes.py\", line 183, in roll_call_single_to_psql\n",
      "    df = self.roll_call_single(year, roll)\n",
      "  File \"/Users/benellis/Projects/congress/congress/etl/house_votes.py\", line 142, in roll_call_single\n",
      "    chamber = soup.find('chamber').text\n",
      "AttributeError: 'NoneType' object has no attribute 'text'\n"
     ]
    },
    {
     "name": "stdout",
     "output_type": "stream",
     "text": [
      "http://clerk.house.gov/evs/2007/roll677.xml\n"
     ]
    },
    {
     "name": "stderr",
     "output_type": "stream",
     "text": [
      "Traceback (most recent call last):\n",
      "  File \"<ipython-input-8-530adc215787>\", line 7, in house_rollcall_individual_parallel\n",
      "    obj.roll_call_single_to_psql(year, rollcall)\n",
      "  File \"/Users/benellis/Projects/congress/congress/etl/house_votes.py\", line 183, in roll_call_single_to_psql\n",
      "    df = self.roll_call_single(year, roll)\n",
      "  File \"/Users/benellis/Projects/congress/congress/etl/house_votes.py\", line 142, in roll_call_single\n",
      "    chamber = soup.find('chamber').text\n",
      "AttributeError: 'NoneType' object has no attribute 'text'\n"
     ]
    },
    {
     "name": "stdout",
     "output_type": "stream",
     "text": [
      "http://clerk.house.gov/evs/2007/roll676.xml\n"
     ]
    },
    {
     "name": "stderr",
     "output_type": "stream",
     "text": [
      "Traceback (most recent call last):\n",
      "  File \"<ipython-input-8-530adc215787>\", line 7, in house_rollcall_individual_parallel\n",
      "    obj.roll_call_single_to_psql(year, rollcall)\n",
      "  File \"/Users/benellis/Projects/congress/congress/etl/house_votes.py\", line 183, in roll_call_single_to_psql\n",
      "    df = self.roll_call_single(year, roll)\n",
      "  File \"/Users/benellis/Projects/congress/congress/etl/house_votes.py\", line 142, in roll_call_single\n",
      "    chamber = soup.find('chamber').text\n",
      "AttributeError: 'NoneType' object has no attribute 'text'\n"
     ]
    },
    {
     "name": "stdout",
     "output_type": "stream",
     "text": [
      "http://clerk.house.gov/evs/2007/roll675.xml\n",
      "http://clerk.house.gov/evs/2003/roll564.xml\n",
      "http://clerk.house.gov/evs/2008/roll228.xml\n"
     ]
    },
    {
     "name": "stderr",
     "output_type": "stream",
     "text": [
      "Traceback (most recent call last):\n",
      "  File \"<ipython-input-8-530adc215787>\", line 7, in house_rollcall_individual_parallel\n",
      "    obj.roll_call_single_to_psql(year, rollcall)\n",
      "  File \"/Users/benellis/Projects/congress/congress/etl/house_votes.py\", line 183, in roll_call_single_to_psql\n",
      "    df = self.roll_call_single(year, roll)\n",
      "  File \"/Users/benellis/Projects/congress/congress/etl/house_votes.py\", line 142, in roll_call_single\n",
      "    chamber = soup.find('chamber').text\n",
      "AttributeError: 'NoneType' object has no attribute 'text'\n"
     ]
    },
    {
     "name": "stdout",
     "output_type": "stream",
     "text": [
      "http://clerk.house.gov/evs/2007/roll674.xml\n"
     ]
    },
    {
     "name": "stderr",
     "output_type": "stream",
     "text": [
      "Traceback (most recent call last):\n",
      "  File \"<ipython-input-8-530adc215787>\", line 7, in house_rollcall_individual_parallel\n",
      "    obj.roll_call_single_to_psql(year, rollcall)\n",
      "  File \"/Users/benellis/Projects/congress/congress/etl/house_votes.py\", line 183, in roll_call_single_to_psql\n",
      "    df = self.roll_call_single(year, roll)\n",
      "  File \"/Users/benellis/Projects/congress/congress/etl/house_votes.py\", line 142, in roll_call_single\n",
      "    chamber = soup.find('chamber').text\n",
      "AttributeError: 'NoneType' object has no attribute 'text'\n"
     ]
    },
    {
     "name": "stdout",
     "output_type": "stream",
     "text": [
      "http://clerk.house.gov/evs/2007/roll673.xml\n"
     ]
    },
    {
     "name": "stderr",
     "output_type": "stream",
     "text": [
      "Traceback (most recent call last):\n",
      "  File \"<ipython-input-8-530adc215787>\", line 7, in house_rollcall_individual_parallel\n",
      "    obj.roll_call_single_to_psql(year, rollcall)\n",
      "  File \"/Users/benellis/Projects/congress/congress/etl/house_votes.py\", line 183, in roll_call_single_to_psql\n",
      "    df = self.roll_call_single(year, roll)\n",
      "  File \"/Users/benellis/Projects/congress/congress/etl/house_votes.py\", line 142, in roll_call_single\n",
      "    chamber = soup.find('chamber').text\n",
      "AttributeError: 'NoneType' object has no attribute 'text'\n"
     ]
    },
    {
     "name": "stdout",
     "output_type": "stream",
     "text": [
      "http://clerk.house.gov/evs/2007/roll672.xml\n",
      "http://clerk.house.gov/evs/2005/roll426.xml\n"
     ]
    },
    {
     "name": "stderr",
     "output_type": "stream",
     "text": [
      "Traceback (most recent call last):\n",
      "  File \"<ipython-input-8-530adc215787>\", line 7, in house_rollcall_individual_parallel\n",
      "    obj.roll_call_single_to_psql(year, rollcall)\n",
      "  File \"/Users/benellis/Projects/congress/congress/etl/house_votes.py\", line 183, in roll_call_single_to_psql\n",
      "    df = self.roll_call_single(year, roll)\n",
      "  File \"/Users/benellis/Projects/congress/congress/etl/house_votes.py\", line 142, in roll_call_single\n",
      "    chamber = soup.find('chamber').text\n",
      "AttributeError: 'NoneType' object has no attribute 'text'\n"
     ]
    },
    {
     "name": "stdout",
     "output_type": "stream",
     "text": [
      "http://clerk.house.gov/evs/2007/roll671.xml\n"
     ]
    },
    {
     "name": "stderr",
     "output_type": "stream",
     "text": [
      "Traceback (most recent call last):\n",
      "  File \"<ipython-input-8-530adc215787>\", line 7, in house_rollcall_individual_parallel\n",
      "    obj.roll_call_single_to_psql(year, rollcall)\n",
      "  File \"/Users/benellis/Projects/congress/congress/etl/house_votes.py\", line 183, in roll_call_single_to_psql\n",
      "    df = self.roll_call_single(year, roll)\n",
      "  File \"/Users/benellis/Projects/congress/congress/etl/house_votes.py\", line 142, in roll_call_single\n",
      "    chamber = soup.find('chamber').text\n",
      "AttributeError: 'NoneType' object has no attribute 'text'\n"
     ]
    },
    {
     "name": "stdout",
     "output_type": "stream",
     "text": [
      "http://clerk.house.gov/evs/2007/roll670.xml\n",
      "http://clerk.house.gov/evs/2003/roll563.xml\n"
     ]
    },
    {
     "name": "stderr",
     "output_type": "stream",
     "text": [
      "Traceback (most recent call last):\n",
      "  File \"<ipython-input-8-530adc215787>\", line 7, in house_rollcall_individual_parallel\n",
      "    obj.roll_call_single_to_psql(year, rollcall)\n",
      "  File \"/Users/benellis/Projects/congress/congress/etl/house_votes.py\", line 183, in roll_call_single_to_psql\n",
      "    df = self.roll_call_single(year, roll)\n",
      "  File \"/Users/benellis/Projects/congress/congress/etl/house_votes.py\", line 142, in roll_call_single\n",
      "    chamber = soup.find('chamber').text\n",
      "AttributeError: 'NoneType' object has no attribute 'text'\n"
     ]
    },
    {
     "name": "stdout",
     "output_type": "stream",
     "text": [
      "http://clerk.house.gov/evs/2007/roll669.xml\n",
      "http://clerk.house.gov/evs/2008/roll227.xml\n"
     ]
    },
    {
     "name": "stderr",
     "output_type": "stream",
     "text": [
      "Traceback (most recent call last):\n",
      "  File \"<ipython-input-8-530adc215787>\", line 7, in house_rollcall_individual_parallel\n",
      "    obj.roll_call_single_to_psql(year, rollcall)\n",
      "  File \"/Users/benellis/Projects/congress/congress/etl/house_votes.py\", line 183, in roll_call_single_to_psql\n",
      "    df = self.roll_call_single(year, roll)\n",
      "  File \"/Users/benellis/Projects/congress/congress/etl/house_votes.py\", line 142, in roll_call_single\n",
      "    chamber = soup.find('chamber').text\n",
      "AttributeError: 'NoneType' object has no attribute 'text'\n"
     ]
    },
    {
     "name": "stdout",
     "output_type": "stream",
     "text": [
      "http://clerk.house.gov/evs/2007/roll668.xml\n"
     ]
    },
    {
     "name": "stderr",
     "output_type": "stream",
     "text": [
      "Traceback (most recent call last):\n",
      "  File \"<ipython-input-8-530adc215787>\", line 7, in house_rollcall_individual_parallel\n",
      "    obj.roll_call_single_to_psql(year, rollcall)\n",
      "  File \"/Users/benellis/Projects/congress/congress/etl/house_votes.py\", line 183, in roll_call_single_to_psql\n",
      "    df = self.roll_call_single(year, roll)\n",
      "  File \"/Users/benellis/Projects/congress/congress/etl/house_votes.py\", line 142, in roll_call_single\n",
      "    chamber = soup.find('chamber').text\n",
      "AttributeError: 'NoneType' object has no attribute 'text'\n"
     ]
    },
    {
     "name": "stdout",
     "output_type": "stream",
     "text": [
      "http://clerk.house.gov/evs/2007/roll667.xml\n"
     ]
    },
    {
     "name": "stderr",
     "output_type": "stream",
     "text": [
      "Traceback (most recent call last):\n",
      "  File \"<ipython-input-8-530adc215787>\", line 7, in house_rollcall_individual_parallel\n",
      "    obj.roll_call_single_to_psql(year, rollcall)\n",
      "  File \"/Users/benellis/Projects/congress/congress/etl/house_votes.py\", line 183, in roll_call_single_to_psql\n",
      "    df = self.roll_call_single(year, roll)\n",
      "  File \"/Users/benellis/Projects/congress/congress/etl/house_votes.py\", line 142, in roll_call_single\n",
      "    chamber = soup.find('chamber').text\n",
      "AttributeError: 'NoneType' object has no attribute 'text'\n"
     ]
    },
    {
     "name": "stdout",
     "output_type": "stream",
     "text": [
      "http://clerk.house.gov/evs/2007/roll666.xml\n",
      "http://clerk.house.gov/evs/2005/roll425.xml\n"
     ]
    },
    {
     "name": "stderr",
     "output_type": "stream",
     "text": [
      "Traceback (most recent call last):\n",
      "  File \"<ipython-input-8-530adc215787>\", line 7, in house_rollcall_individual_parallel\n",
      "    obj.roll_call_single_to_psql(year, rollcall)\n",
      "  File \"/Users/benellis/Projects/congress/congress/etl/house_votes.py\", line 183, in roll_call_single_to_psql\n",
      "    df = self.roll_call_single(year, roll)\n",
      "  File \"/Users/benellis/Projects/congress/congress/etl/house_votes.py\", line 142, in roll_call_single\n",
      "    chamber = soup.find('chamber').text\n",
      "AttributeError: 'NoneType' object has no attribute 'text'\n"
     ]
    },
    {
     "name": "stdout",
     "output_type": "stream",
     "text": [
      "http://clerk.house.gov/evs/2007/roll665.xml\n"
     ]
    },
    {
     "name": "stderr",
     "output_type": "stream",
     "text": [
      "Traceback (most recent call last):\n",
      "  File \"<ipython-input-8-530adc215787>\", line 7, in house_rollcall_individual_parallel\n",
      "    obj.roll_call_single_to_psql(year, rollcall)\n",
      "  File \"/Users/benellis/Projects/congress/congress/etl/house_votes.py\", line 183, in roll_call_single_to_psql\n",
      "    df = self.roll_call_single(year, roll)\n",
      "  File \"/Users/benellis/Projects/congress/congress/etl/house_votes.py\", line 142, in roll_call_single\n",
      "    chamber = soup.find('chamber').text\n",
      "AttributeError: 'NoneType' object has no attribute 'text'\n"
     ]
    },
    {
     "name": "stdout",
     "output_type": "stream",
     "text": [
      "http://clerk.house.gov/evs/2007/roll664.xml\n",
      "http://clerk.house.gov/evs/2003/roll562.xml\n"
     ]
    },
    {
     "name": "stderr",
     "output_type": "stream",
     "text": [
      "Traceback (most recent call last):\n",
      "  File \"<ipython-input-8-530adc215787>\", line 7, in house_rollcall_individual_parallel\n",
      "    obj.roll_call_single_to_psql(year, rollcall)\n",
      "  File \"/Users/benellis/Projects/congress/congress/etl/house_votes.py\", line 183, in roll_call_single_to_psql\n",
      "    df = self.roll_call_single(year, roll)\n",
      "  File \"/Users/benellis/Projects/congress/congress/etl/house_votes.py\", line 142, in roll_call_single\n",
      "    chamber = soup.find('chamber').text\n",
      "AttributeError: 'NoneType' object has no attribute 'text'\n"
     ]
    },
    {
     "name": "stdout",
     "output_type": "stream",
     "text": [
      "http://clerk.house.gov/evs/2007/roll663.xml\n",
      "http://clerk.house.gov/evs/2008/roll226.xml\n"
     ]
    },
    {
     "name": "stderr",
     "output_type": "stream",
     "text": [
      "Traceback (most recent call last):\n",
      "  File \"<ipython-input-8-530adc215787>\", line 7, in house_rollcall_individual_parallel\n",
      "    obj.roll_call_single_to_psql(year, rollcall)\n",
      "  File \"/Users/benellis/Projects/congress/congress/etl/house_votes.py\", line 183, in roll_call_single_to_psql\n",
      "    df = self.roll_call_single(year, roll)\n",
      "  File \"/Users/benellis/Projects/congress/congress/etl/house_votes.py\", line 142, in roll_call_single\n",
      "    chamber = soup.find('chamber').text\n",
      "AttributeError: 'NoneType' object has no attribute 'text'\n"
     ]
    },
    {
     "name": "stdout",
     "output_type": "stream",
     "text": [
      "http://clerk.house.gov/evs/2007/roll662.xml\n"
     ]
    },
    {
     "name": "stderr",
     "output_type": "stream",
     "text": [
      "Traceback (most recent call last):\n",
      "  File \"<ipython-input-8-530adc215787>\", line 7, in house_rollcall_individual_parallel\n",
      "    obj.roll_call_single_to_psql(year, rollcall)\n",
      "  File \"/Users/benellis/Projects/congress/congress/etl/house_votes.py\", line 183, in roll_call_single_to_psql\n",
      "    df = self.roll_call_single(year, roll)\n",
      "  File \"/Users/benellis/Projects/congress/congress/etl/house_votes.py\", line 142, in roll_call_single\n",
      "    chamber = soup.find('chamber').text\n",
      "AttributeError: 'NoneType' object has no attribute 'text'\n"
     ]
    },
    {
     "name": "stdout",
     "output_type": "stream",
     "text": [
      "http://clerk.house.gov/evs/2007/roll661.xml\n"
     ]
    },
    {
     "name": "stderr",
     "output_type": "stream",
     "text": [
      "Traceback (most recent call last):\n",
      "  File \"<ipython-input-8-530adc215787>\", line 7, in house_rollcall_individual_parallel\n",
      "    obj.roll_call_single_to_psql(year, rollcall)\n",
      "  File \"/Users/benellis/Projects/congress/congress/etl/house_votes.py\", line 183, in roll_call_single_to_psql\n",
      "    df = self.roll_call_single(year, roll)\n",
      "  File \"/Users/benellis/Projects/congress/congress/etl/house_votes.py\", line 142, in roll_call_single\n",
      "    chamber = soup.find('chamber').text\n",
      "AttributeError: 'NoneType' object has no attribute 'text'\n"
     ]
    },
    {
     "name": "stdout",
     "output_type": "stream",
     "text": [
      "http://clerk.house.gov/evs/2007/roll660.xml\n",
      "http://clerk.house.gov/evs/2005/roll424.xml\n"
     ]
    },
    {
     "name": "stderr",
     "output_type": "stream",
     "text": [
      "Traceback (most recent call last):\n",
      "  File \"<ipython-input-8-530adc215787>\", line 7, in house_rollcall_individual_parallel\n",
      "    obj.roll_call_single_to_psql(year, rollcall)\n",
      "  File \"/Users/benellis/Projects/congress/congress/etl/house_votes.py\", line 183, in roll_call_single_to_psql\n",
      "    df = self.roll_call_single(year, roll)\n",
      "  File \"/Users/benellis/Projects/congress/congress/etl/house_votes.py\", line 142, in roll_call_single\n",
      "    chamber = soup.find('chamber').text\n",
      "AttributeError: 'NoneType' object has no attribute 'text'\n"
     ]
    },
    {
     "name": "stdout",
     "output_type": "stream",
     "text": [
      "http://clerk.house.gov/evs/2007/roll659.xml\n"
     ]
    },
    {
     "name": "stderr",
     "output_type": "stream",
     "text": [
      "Traceback (most recent call last):\n",
      "  File \"<ipython-input-8-530adc215787>\", line 7, in house_rollcall_individual_parallel\n",
      "    obj.roll_call_single_to_psql(year, rollcall)\n",
      "  File \"/Users/benellis/Projects/congress/congress/etl/house_votes.py\", line 183, in roll_call_single_to_psql\n",
      "    df = self.roll_call_single(year, roll)\n",
      "  File \"/Users/benellis/Projects/congress/congress/etl/house_votes.py\", line 142, in roll_call_single\n",
      "    chamber = soup.find('chamber').text\n",
      "AttributeError: 'NoneType' object has no attribute 'text'\n"
     ]
    },
    {
     "name": "stdout",
     "output_type": "stream",
     "text": [
      "http://clerk.house.gov/evs/2007/roll658.xml\n"
     ]
    },
    {
     "name": "stderr",
     "output_type": "stream",
     "text": [
      "Traceback (most recent call last):\n",
      "  File \"<ipython-input-8-530adc215787>\", line 7, in house_rollcall_individual_parallel\n",
      "    obj.roll_call_single_to_psql(year, rollcall)\n",
      "  File \"/Users/benellis/Projects/congress/congress/etl/house_votes.py\", line 183, in roll_call_single_to_psql\n",
      "    df = self.roll_call_single(year, roll)\n",
      "  File \"/Users/benellis/Projects/congress/congress/etl/house_votes.py\", line 142, in roll_call_single\n",
      "    chamber = soup.find('chamber').text\n",
      "AttributeError: 'NoneType' object has no attribute 'text'\n"
     ]
    },
    {
     "name": "stdout",
     "output_type": "stream",
     "text": [
      "http://clerk.house.gov/evs/2007/roll657.xml\n",
      "http://clerk.house.gov/evs/2003/roll561.xml\n"
     ]
    },
    {
     "name": "stderr",
     "output_type": "stream",
     "text": [
      "Traceback (most recent call last):\n",
      "  File \"<ipython-input-8-530adc215787>\", line 7, in house_rollcall_individual_parallel\n",
      "    obj.roll_call_single_to_psql(year, rollcall)\n",
      "  File \"/Users/benellis/Projects/congress/congress/etl/house_votes.py\", line 183, in roll_call_single_to_psql\n",
      "    df = self.roll_call_single(year, roll)\n",
      "  File \"/Users/benellis/Projects/congress/congress/etl/house_votes.py\", line 142, in roll_call_single\n",
      "    chamber = soup.find('chamber').text\n",
      "AttributeError: 'NoneType' object has no attribute 'text'\n"
     ]
    },
    {
     "name": "stdout",
     "output_type": "stream",
     "text": [
      "http://clerk.house.gov/evs/2007/roll656.xml\n",
      "http://clerk.house.gov/evs/2008/roll225.xml\n"
     ]
    },
    {
     "name": "stderr",
     "output_type": "stream",
     "text": [
      "Traceback (most recent call last):\n",
      "  File \"<ipython-input-8-530adc215787>\", line 7, in house_rollcall_individual_parallel\n",
      "    obj.roll_call_single_to_psql(year, rollcall)\n",
      "  File \"/Users/benellis/Projects/congress/congress/etl/house_votes.py\", line 183, in roll_call_single_to_psql\n",
      "    df = self.roll_call_single(year, roll)\n",
      "  File \"/Users/benellis/Projects/congress/congress/etl/house_votes.py\", line 142, in roll_call_single\n",
      "    chamber = soup.find('chamber').text\n",
      "AttributeError: 'NoneType' object has no attribute 'text'\n"
     ]
    },
    {
     "name": "stdout",
     "output_type": "stream",
     "text": [
      "http://clerk.house.gov/evs/2007/roll655.xml\n"
     ]
    },
    {
     "name": "stderr",
     "output_type": "stream",
     "text": [
      "Traceback (most recent call last):\n",
      "  File \"<ipython-input-8-530adc215787>\", line 7, in house_rollcall_individual_parallel\n",
      "    obj.roll_call_single_to_psql(year, rollcall)\n",
      "  File \"/Users/benellis/Projects/congress/congress/etl/house_votes.py\", line 183, in roll_call_single_to_psql\n",
      "    df = self.roll_call_single(year, roll)\n",
      "  File \"/Users/benellis/Projects/congress/congress/etl/house_votes.py\", line 142, in roll_call_single\n",
      "    chamber = soup.find('chamber').text\n",
      "AttributeError: 'NoneType' object has no attribute 'text'\n"
     ]
    },
    {
     "name": "stdout",
     "output_type": "stream",
     "text": [
      "http://clerk.house.gov/evs/2007/roll654.xml\n",
      "http://clerk.house.gov/evs/2005/roll423.xml\n"
     ]
    },
    {
     "name": "stderr",
     "output_type": "stream",
     "text": [
      "Traceback (most recent call last):\n",
      "  File \"<ipython-input-8-530adc215787>\", line 7, in house_rollcall_individual_parallel\n",
      "    obj.roll_call_single_to_psql(year, rollcall)\n",
      "  File \"/Users/benellis/Projects/congress/congress/etl/house_votes.py\", line 183, in roll_call_single_to_psql\n",
      "    df = self.roll_call_single(year, roll)\n",
      "  File \"/Users/benellis/Projects/congress/congress/etl/house_votes.py\", line 142, in roll_call_single\n",
      "    chamber = soup.find('chamber').text\n",
      "AttributeError: 'NoneType' object has no attribute 'text'\n"
     ]
    },
    {
     "name": "stdout",
     "output_type": "stream",
     "text": [
      "http://clerk.house.gov/evs/2007/roll653.xml\n"
     ]
    },
    {
     "name": "stderr",
     "output_type": "stream",
     "text": [
      "Traceback (most recent call last):\n",
      "  File \"<ipython-input-8-530adc215787>\", line 7, in house_rollcall_individual_parallel\n",
      "    obj.roll_call_single_to_psql(year, rollcall)\n",
      "  File \"/Users/benellis/Projects/congress/congress/etl/house_votes.py\", line 183, in roll_call_single_to_psql\n",
      "    df = self.roll_call_single(year, roll)\n",
      "  File \"/Users/benellis/Projects/congress/congress/etl/house_votes.py\", line 142, in roll_call_single\n",
      "    chamber = soup.find('chamber').text\n",
      "AttributeError: 'NoneType' object has no attribute 'text'\n"
     ]
    },
    {
     "name": "stdout",
     "output_type": "stream",
     "text": [
      "http://clerk.house.gov/evs/2007/roll652.xml\n"
     ]
    },
    {
     "name": "stderr",
     "output_type": "stream",
     "text": [
      "Traceback (most recent call last):\n",
      "  File \"<ipython-input-8-530adc215787>\", line 7, in house_rollcall_individual_parallel\n",
      "    obj.roll_call_single_to_psql(year, rollcall)\n",
      "  File \"/Users/benellis/Projects/congress/congress/etl/house_votes.py\", line 183, in roll_call_single_to_psql\n",
      "    df = self.roll_call_single(year, roll)\n",
      "  File \"/Users/benellis/Projects/congress/congress/etl/house_votes.py\", line 142, in roll_call_single\n",
      "    chamber = soup.find('chamber').text\n",
      "AttributeError: 'NoneType' object has no attribute 'text'\n"
     ]
    },
    {
     "name": "stdout",
     "output_type": "stream",
     "text": [
      "http://clerk.house.gov/evs/2007/roll651.xml\n",
      "http://clerk.house.gov/evs/2003/roll560.xml\n"
     ]
    },
    {
     "name": "stderr",
     "output_type": "stream",
     "text": [
      "Traceback (most recent call last):\n",
      "  File \"<ipython-input-8-530adc215787>\", line 7, in house_rollcall_individual_parallel\n",
      "    obj.roll_call_single_to_psql(year, rollcall)\n",
      "  File \"/Users/benellis/Projects/congress/congress/etl/house_votes.py\", line 183, in roll_call_single_to_psql\n",
      "    df = self.roll_call_single(year, roll)\n",
      "  File \"/Users/benellis/Projects/congress/congress/etl/house_votes.py\", line 142, in roll_call_single\n",
      "    chamber = soup.find('chamber').text\n",
      "AttributeError: 'NoneType' object has no attribute 'text'\n"
     ]
    },
    {
     "name": "stdout",
     "output_type": "stream",
     "text": [
      "http://clerk.house.gov/evs/2007/roll650.xml\n",
      "http://clerk.house.gov/evs/2008/roll224.xml\n"
     ]
    },
    {
     "name": "stderr",
     "output_type": "stream",
     "text": [
      "Traceback (most recent call last):\n",
      "  File \"<ipython-input-8-530adc215787>\", line 7, in house_rollcall_individual_parallel\n",
      "    obj.roll_call_single_to_psql(year, rollcall)\n",
      "  File \"/Users/benellis/Projects/congress/congress/etl/house_votes.py\", line 183, in roll_call_single_to_psql\n",
      "    df = self.roll_call_single(year, roll)\n",
      "  File \"/Users/benellis/Projects/congress/congress/etl/house_votes.py\", line 142, in roll_call_single\n",
      "    chamber = soup.find('chamber').text\n",
      "AttributeError: 'NoneType' object has no attribute 'text'\n"
     ]
    },
    {
     "name": "stdout",
     "output_type": "stream",
     "text": [
      "http://clerk.house.gov/evs/2007/roll649.xml\n",
      "http://clerk.house.gov/evs/2005/roll422.xml\n"
     ]
    },
    {
     "name": "stderr",
     "output_type": "stream",
     "text": [
      "Traceback (most recent call last):\n",
      "  File \"<ipython-input-8-530adc215787>\", line 7, in house_rollcall_individual_parallel\n",
      "    obj.roll_call_single_to_psql(year, rollcall)\n",
      "  File \"/Users/benellis/Projects/congress/congress/etl/house_votes.py\", line 183, in roll_call_single_to_psql\n",
      "    df = self.roll_call_single(year, roll)\n",
      "  File \"/Users/benellis/Projects/congress/congress/etl/house_votes.py\", line 142, in roll_call_single\n",
      "    chamber = soup.find('chamber').text\n",
      "AttributeError: 'NoneType' object has no attribute 'text'\n"
     ]
    },
    {
     "name": "stdout",
     "output_type": "stream",
     "text": [
      "http://clerk.house.gov/evs/2007/roll648.xml\n"
     ]
    },
    {
     "name": "stderr",
     "output_type": "stream",
     "text": [
      "Traceback (most recent call last):\n",
      "  File \"<ipython-input-8-530adc215787>\", line 7, in house_rollcall_individual_parallel\n",
      "    obj.roll_call_single_to_psql(year, rollcall)\n",
      "  File \"/Users/benellis/Projects/congress/congress/etl/house_votes.py\", line 183, in roll_call_single_to_psql\n",
      "    df = self.roll_call_single(year, roll)\n",
      "  File \"/Users/benellis/Projects/congress/congress/etl/house_votes.py\", line 142, in roll_call_single\n",
      "    chamber = soup.find('chamber').text\n",
      "AttributeError: 'NoneType' object has no attribute 'text'\n"
     ]
    },
    {
     "name": "stdout",
     "output_type": "stream",
     "text": [
      "http://clerk.house.gov/evs/2007/roll647.xml\n"
     ]
    },
    {
     "name": "stderr",
     "output_type": "stream",
     "text": [
      "Traceback (most recent call last):\n",
      "  File \"<ipython-input-8-530adc215787>\", line 7, in house_rollcall_individual_parallel\n",
      "    obj.roll_call_single_to_psql(year, rollcall)\n",
      "  File \"/Users/benellis/Projects/congress/congress/etl/house_votes.py\", line 183, in roll_call_single_to_psql\n",
      "    df = self.roll_call_single(year, roll)\n",
      "  File \"/Users/benellis/Projects/congress/congress/etl/house_votes.py\", line 142, in roll_call_single\n",
      "    chamber = soup.find('chamber').text\n",
      "AttributeError: 'NoneType' object has no attribute 'text'\n"
     ]
    },
    {
     "name": "stdout",
     "output_type": "stream",
     "text": [
      "http://clerk.house.gov/evs/2007/roll646.xml\n",
      "http://clerk.house.gov/evs/2003/roll559.xml\n"
     ]
    },
    {
     "name": "stderr",
     "output_type": "stream",
     "text": [
      "Traceback (most recent call last):\n",
      "  File \"<ipython-input-8-530adc215787>\", line 7, in house_rollcall_individual_parallel\n",
      "    obj.roll_call_single_to_psql(year, rollcall)\n",
      "  File \"/Users/benellis/Projects/congress/congress/etl/house_votes.py\", line 183, in roll_call_single_to_psql\n",
      "    df = self.roll_call_single(year, roll)\n",
      "  File \"/Users/benellis/Projects/congress/congress/etl/house_votes.py\", line 142, in roll_call_single\n",
      "    chamber = soup.find('chamber').text\n",
      "AttributeError: 'NoneType' object has no attribute 'text'\n"
     ]
    },
    {
     "name": "stdout",
     "output_type": "stream",
     "text": [
      "http://clerk.house.gov/evs/2007/roll645.xml\n",
      "http://clerk.house.gov/evs/2008/roll223.xml\n"
     ]
    },
    {
     "name": "stderr",
     "output_type": "stream",
     "text": [
      "Traceback (most recent call last):\n",
      "  File \"<ipython-input-8-530adc215787>\", line 7, in house_rollcall_individual_parallel\n",
      "    obj.roll_call_single_to_psql(year, rollcall)\n",
      "  File \"/Users/benellis/Projects/congress/congress/etl/house_votes.py\", line 183, in roll_call_single_to_psql\n",
      "    df = self.roll_call_single(year, roll)\n",
      "  File \"/Users/benellis/Projects/congress/congress/etl/house_votes.py\", line 142, in roll_call_single\n",
      "    chamber = soup.find('chamber').text\n",
      "AttributeError: 'NoneType' object has no attribute 'text'\n"
     ]
    },
    {
     "name": "stdout",
     "output_type": "stream",
     "text": [
      "http://clerk.house.gov/evs/2007/roll644.xml\n"
     ]
    },
    {
     "name": "stderr",
     "output_type": "stream",
     "text": [
      "Traceback (most recent call last):\n",
      "  File \"<ipython-input-8-530adc215787>\", line 7, in house_rollcall_individual_parallel\n",
      "    obj.roll_call_single_to_psql(year, rollcall)\n",
      "  File \"/Users/benellis/Projects/congress/congress/etl/house_votes.py\", line 183, in roll_call_single_to_psql\n",
      "    df = self.roll_call_single(year, roll)\n",
      "  File \"/Users/benellis/Projects/congress/congress/etl/house_votes.py\", line 142, in roll_call_single\n",
      "    chamber = soup.find('chamber').text\n",
      "AttributeError: 'NoneType' object has no attribute 'text'\n"
     ]
    },
    {
     "name": "stdout",
     "output_type": "stream",
     "text": [
      "http://clerk.house.gov/evs/2007/roll643.xml\n"
     ]
    },
    {
     "name": "stderr",
     "output_type": "stream",
     "text": [
      "Traceback (most recent call last):\n",
      "  File \"<ipython-input-8-530adc215787>\", line 7, in house_rollcall_individual_parallel\n",
      "    obj.roll_call_single_to_psql(year, rollcall)\n",
      "  File \"/Users/benellis/Projects/congress/congress/etl/house_votes.py\", line 183, in roll_call_single_to_psql\n",
      "    df = self.roll_call_single(year, roll)\n",
      "  File \"/Users/benellis/Projects/congress/congress/etl/house_votes.py\", line 142, in roll_call_single\n",
      "    chamber = soup.find('chamber').text\n",
      "AttributeError: 'NoneType' object has no attribute 'text'\n"
     ]
    },
    {
     "name": "stdout",
     "output_type": "stream",
     "text": [
      "http://clerk.house.gov/evs/2007/roll642.xml\n",
      "http://clerk.house.gov/evs/2005/roll421.xml\n"
     ]
    },
    {
     "name": "stderr",
     "output_type": "stream",
     "text": [
      "Traceback (most recent call last):\n",
      "  File \"<ipython-input-8-530adc215787>\", line 7, in house_rollcall_individual_parallel\n",
      "    obj.roll_call_single_to_psql(year, rollcall)\n",
      "  File \"/Users/benellis/Projects/congress/congress/etl/house_votes.py\", line 183, in roll_call_single_to_psql\n",
      "    df = self.roll_call_single(year, roll)\n",
      "  File \"/Users/benellis/Projects/congress/congress/etl/house_votes.py\", line 142, in roll_call_single\n",
      "    chamber = soup.find('chamber').text\n",
      "AttributeError: 'NoneType' object has no attribute 'text'\n"
     ]
    },
    {
     "name": "stdout",
     "output_type": "stream",
     "text": [
      "http://clerk.house.gov/evs/2007/roll641.xml\n",
      "http://clerk.house.gov/evs/2003/roll558.xml\n",
      "http://clerk.house.gov/evs/2008/roll222.xml\n",
      "http://clerk.house.gov/evs/2005/roll420.xml\n",
      "http://clerk.house.gov/evs/2007/roll640.xml\n"
     ]
    },
    {
     "name": "stderr",
     "output_type": "stream",
     "text": [
      "Traceback (most recent call last):\n",
      "  File \"<ipython-input-8-530adc215787>\", line 7, in house_rollcall_individual_parallel\n",
      "    obj.roll_call_single_to_psql(year, rollcall)\n",
      "  File \"/Users/benellis/Projects/congress/congress/etl/house_votes.py\", line 183, in roll_call_single_to_psql\n",
      "    df = self.roll_call_single(year, roll)\n",
      "  File \"/Users/benellis/Projects/congress/congress/etl/house_votes.py\", line 142, in roll_call_single\n",
      "    chamber = soup.find('chamber').text\n",
      "AttributeError: 'NoneType' object has no attribute 'text'\n"
     ]
    },
    {
     "name": "stdout",
     "output_type": "stream",
     "text": [
      "http://clerk.house.gov/evs/2007/roll639.xml\n",
      "http://clerk.house.gov/evs/2003/roll557.xml\n"
     ]
    },
    {
     "name": "stderr",
     "output_type": "stream",
     "text": [
      "Traceback (most recent call last):\n",
      "  File \"<ipython-input-8-530adc215787>\", line 7, in house_rollcall_individual_parallel\n",
      "    obj.roll_call_single_to_psql(year, rollcall)\n",
      "  File \"/Users/benellis/Projects/congress/congress/etl/house_votes.py\", line 183, in roll_call_single_to_psql\n",
      "    df = self.roll_call_single(year, roll)\n",
      "  File \"/Users/benellis/Projects/congress/congress/etl/house_votes.py\", line 142, in roll_call_single\n",
      "    chamber = soup.find('chamber').text\n",
      "AttributeError: 'NoneType' object has no attribute 'text'\n"
     ]
    },
    {
     "name": "stdout",
     "output_type": "stream",
     "text": [
      "http://clerk.house.gov/evs/2007/roll638.xml\n",
      "http://clerk.house.gov/evs/2008/roll221.xml\n"
     ]
    },
    {
     "name": "stderr",
     "output_type": "stream",
     "text": [
      "Traceback (most recent call last):\n",
      "  File \"<ipython-input-8-530adc215787>\", line 7, in house_rollcall_individual_parallel\n",
      "    obj.roll_call_single_to_psql(year, rollcall)\n",
      "  File \"/Users/benellis/Projects/congress/congress/etl/house_votes.py\", line 183, in roll_call_single_to_psql\n",
      "    df = self.roll_call_single(year, roll)\n",
      "  File \"/Users/benellis/Projects/congress/congress/etl/house_votes.py\", line 142, in roll_call_single\n",
      "    chamber = soup.find('chamber').text\n",
      "AttributeError: 'NoneType' object has no attribute 'text'\n"
     ]
    },
    {
     "name": "stdout",
     "output_type": "stream",
     "text": [
      "http://clerk.house.gov/evs/2007/roll637.xml\n"
     ]
    },
    {
     "name": "stderr",
     "output_type": "stream",
     "text": [
      "Traceback (most recent call last):\n",
      "  File \"<ipython-input-8-530adc215787>\", line 7, in house_rollcall_individual_parallel\n",
      "    obj.roll_call_single_to_psql(year, rollcall)\n",
      "  File \"/Users/benellis/Projects/congress/congress/etl/house_votes.py\", line 183, in roll_call_single_to_psql\n",
      "    df = self.roll_call_single(year, roll)\n",
      "  File \"/Users/benellis/Projects/congress/congress/etl/house_votes.py\", line 142, in roll_call_single\n",
      "    chamber = soup.find('chamber').text\n",
      "AttributeError: 'NoneType' object has no attribute 'text'\n"
     ]
    },
    {
     "name": "stdout",
     "output_type": "stream",
     "text": [
      "http://clerk.house.gov/evs/2008/roll220.xml\n"
     ]
    },
    {
     "name": "stderr",
     "output_type": "stream",
     "text": [
      "Traceback (most recent call last):\n",
      "  File \"<ipython-input-8-530adc215787>\", line 7, in house_rollcall_individual_parallel\n",
      "    obj.roll_call_single_to_psql(year, rollcall)\n",
      "  File \"/Users/benellis/Projects/congress/congress/etl/house_votes.py\", line 183, in roll_call_single_to_psql\n",
      "    df = self.roll_call_single(year, roll)\n",
      "  File \"/Users/benellis/Projects/congress/congress/etl/house_votes.py\", line 142, in roll_call_single\n",
      "    chamber = soup.find('chamber').text\n",
      "AttributeError: 'NoneType' object has no attribute 'text'\n"
     ]
    },
    {
     "name": "stdout",
     "output_type": "stream",
     "text": [
      "http://clerk.house.gov/evs/2007/roll636.xml\n",
      "http://clerk.house.gov/evs/2005/roll419.xml\n"
     ]
    },
    {
     "name": "stderr",
     "output_type": "stream",
     "text": [
      "Traceback (most recent call last):\n",
      "  File \"<ipython-input-8-530adc215787>\", line 7, in house_rollcall_individual_parallel\n",
      "    obj.roll_call_single_to_psql(year, rollcall)\n",
      "  File \"/Users/benellis/Projects/congress/congress/etl/house_votes.py\", line 183, in roll_call_single_to_psql\n",
      "    df = self.roll_call_single(year, roll)\n",
      "  File \"/Users/benellis/Projects/congress/congress/etl/house_votes.py\", line 142, in roll_call_single\n",
      "    chamber = soup.find('chamber').text\n",
      "AttributeError: 'NoneType' object has no attribute 'text'\n"
     ]
    },
    {
     "name": "stdout",
     "output_type": "stream",
     "text": [
      "http://clerk.house.gov/evs/2008/roll219.xml\n"
     ]
    },
    {
     "name": "stderr",
     "output_type": "stream",
     "text": [
      "Traceback (most recent call last):\n",
      "  File \"<ipython-input-8-530adc215787>\", line 7, in house_rollcall_individual_parallel\n",
      "    obj.roll_call_single_to_psql(year, rollcall)\n",
      "  File \"/Users/benellis/Projects/congress/congress/etl/house_votes.py\", line 183, in roll_call_single_to_psql\n",
      "    df = self.roll_call_single(year, roll)\n",
      "  File \"/Users/benellis/Projects/congress/congress/etl/house_votes.py\", line 142, in roll_call_single\n",
      "    chamber = soup.find('chamber').text\n",
      "AttributeError: 'NoneType' object has no attribute 'text'\n"
     ]
    },
    {
     "name": "stdout",
     "output_type": "stream",
     "text": [
      "http://clerk.house.gov/evs/2007/roll635.xml\n",
      "http://clerk.house.gov/evs/2003/roll556.xml\n",
      "http://clerk.house.gov/evs/2008/roll218.xml\n",
      "http://clerk.house.gov/evs/2005/roll418.xml\n",
      "http://clerk.house.gov/evs/2007/roll634.xml\n",
      "http://clerk.house.gov/evs/2003/roll555.xml\n",
      "http://clerk.house.gov/evs/2008/roll217.xml\n",
      "http://clerk.house.gov/evs/2005/roll417.xml\n",
      "http://clerk.house.gov/evs/2007/roll633.xml\n",
      "http://clerk.house.gov/evs/2003/roll554.xml\n",
      "http://clerk.house.gov/evs/2008/roll216.xml\n",
      "http://clerk.house.gov/evs/2005/roll416.xml\n",
      "http://clerk.house.gov/evs/2007/roll632.xml\n",
      "http://clerk.house.gov/evs/2003/roll553.xml\n",
      "http://clerk.house.gov/evs/2008/roll215.xml\n"
     ]
    },
    {
     "name": "stderr",
     "output_type": "stream",
     "text": [
      "Traceback (most recent call last):\n",
      "  File \"<ipython-input-8-530adc215787>\", line 7, in house_rollcall_individual_parallel\n",
      "    obj.roll_call_single_to_psql(year, rollcall)\n",
      "  File \"/Users/benellis/Projects/congress/congress/etl/house_votes.py\", line 183, in roll_call_single_to_psql\n",
      "    df = self.roll_call_single(year, roll)\n",
      "  File \"/Users/benellis/Projects/congress/congress/etl/house_votes.py\", line 142, in roll_call_single\n",
      "    chamber = soup.find('chamber').text\n",
      "AttributeError: 'NoneType' object has no attribute 'text'\n"
     ]
    },
    {
     "name": "stdout",
     "output_type": "stream",
     "text": [
      "http://clerk.house.gov/evs/2008/roll214.xml\n",
      "http://clerk.house.gov/evs/2005/roll415.xml\n",
      "http://clerk.house.gov/evs/2007/roll631.xml\n"
     ]
    },
    {
     "name": "stderr",
     "output_type": "stream",
     "text": [
      "Traceback (most recent call last):\n",
      "  File \"<ipython-input-8-530adc215787>\", line 7, in house_rollcall_individual_parallel\n",
      "    obj.roll_call_single_to_psql(year, rollcall)\n",
      "  File \"/Users/benellis/Projects/congress/congress/etl/house_votes.py\", line 183, in roll_call_single_to_psql\n",
      "    df = self.roll_call_single(year, roll)\n",
      "  File \"/Users/benellis/Projects/congress/congress/etl/house_votes.py\", line 142, in roll_call_single\n",
      "    chamber = soup.find('chamber').text\n",
      "AttributeError: 'NoneType' object has no attribute 'text'\n"
     ]
    },
    {
     "name": "stdout",
     "output_type": "stream",
     "text": [
      "http://clerk.house.gov/evs/2008/roll213.xml\n"
     ]
    },
    {
     "name": "stderr",
     "output_type": "stream",
     "text": [
      "Traceback (most recent call last):\n",
      "  File \"<ipython-input-8-530adc215787>\", line 7, in house_rollcall_individual_parallel\n",
      "    obj.roll_call_single_to_psql(year, rollcall)\n",
      "  File \"/Users/benellis/Projects/congress/congress/etl/house_votes.py\", line 183, in roll_call_single_to_psql\n",
      "    df = self.roll_call_single(year, roll)\n",
      "  File \"/Users/benellis/Projects/congress/congress/etl/house_votes.py\", line 142, in roll_call_single\n",
      "    chamber = soup.find('chamber').text\n",
      "AttributeError: 'NoneType' object has no attribute 'text'\n"
     ]
    },
    {
     "name": "stdout",
     "output_type": "stream",
     "text": [
      "http://clerk.house.gov/evs/2008/roll212.xml\n",
      "http://clerk.house.gov/evs/2003/roll552.xml\n",
      "http://clerk.house.gov/evs/2005/roll414.xml\n",
      "http://clerk.house.gov/evs/2007/roll630.xml\n",
      "http://clerk.house.gov/evs/2008/roll211.xml\n",
      "http://clerk.house.gov/evs/2003/roll551.xml\n",
      "http://clerk.house.gov/evs/2005/roll413.xml\n",
      "http://clerk.house.gov/evs/2007/roll629.xml\n",
      "http://clerk.house.gov/evs/2008/roll210.xml\n",
      "http://clerk.house.gov/evs/2003/roll550.xml\n",
      "http://clerk.house.gov/evs/2005/roll412.xml\n",
      "http://clerk.house.gov/evs/2007/roll628.xml\n",
      "http://clerk.house.gov/evs/2008/roll209.xml\n",
      "http://clerk.house.gov/evs/2003/roll549.xml\n",
      "http://clerk.house.gov/evs/2005/roll411.xml\n",
      "http://clerk.house.gov/evs/2007/roll627.xml\n"
     ]
    },
    {
     "name": "stderr",
     "output_type": "stream",
     "text": [
      "Traceback (most recent call last):\n",
      "  File \"<ipython-input-8-530adc215787>\", line 7, in house_rollcall_individual_parallel\n",
      "    obj.roll_call_single_to_psql(year, rollcall)\n",
      "  File \"/Users/benellis/Projects/congress/congress/etl/house_votes.py\", line 183, in roll_call_single_to_psql\n",
      "    df = self.roll_call_single(year, roll)\n",
      "  File \"/Users/benellis/Projects/congress/congress/etl/house_votes.py\", line 142, in roll_call_single\n",
      "    chamber = soup.find('chamber').text\n",
      "AttributeError: 'NoneType' object has no attribute 'text'\n"
     ]
    },
    {
     "name": "stdout",
     "output_type": "stream",
     "text": [
      "http://clerk.house.gov/evs/2007/roll626.xml\n",
      "http://clerk.house.gov/evs/2008/roll207.xml\n"
     ]
    },
    {
     "name": "stderr",
     "output_type": "stream",
     "text": [
      "Traceback (most recent call last):\n",
      "  File \"<ipython-input-8-530adc215787>\", line 7, in house_rollcall_individual_parallel\n",
      "    obj.roll_call_single_to_psql(year, rollcall)\n",
      "  File \"/Users/benellis/Projects/congress/congress/etl/house_votes.py\", line 183, in roll_call_single_to_psql\n",
      "    df = self.roll_call_single(year, roll)\n",
      "  File \"/Users/benellis/Projects/congress/congress/etl/house_votes.py\", line 142, in roll_call_single\n",
      "    chamber = soup.find('chamber').text\n",
      "AttributeError: 'NoneType' object has no attribute 'text'\n"
     ]
    },
    {
     "name": "stdout",
     "output_type": "stream",
     "text": [
      "http://clerk.house.gov/evs/2007/roll625.xml\n"
     ]
    },
    {
     "name": "stderr",
     "output_type": "stream",
     "text": [
      "Traceback (most recent call last):\n",
      "  File \"<ipython-input-8-530adc215787>\", line 7, in house_rollcall_individual_parallel\n",
      "    obj.roll_call_single_to_psql(year, rollcall)\n",
      "  File \"/Users/benellis/Projects/congress/congress/etl/house_votes.py\", line 183, in roll_call_single_to_psql\n",
      "    df = self.roll_call_single(year, roll)\n",
      "  File \"/Users/benellis/Projects/congress/congress/etl/house_votes.py\", line 142, in roll_call_single\n",
      "    chamber = soup.find('chamber').text\n",
      "AttributeError: 'NoneType' object has no attribute 'text'\n"
     ]
    },
    {
     "name": "stdout",
     "output_type": "stream",
     "text": [
      "http://clerk.house.gov/evs/2007/roll624.xml\n",
      "http://clerk.house.gov/evs/2003/roll548.xml\n",
      "http://clerk.house.gov/evs/2005/roll410.xml\n",
      "http://clerk.house.gov/evs/2008/roll206.xml\n",
      "http://clerk.house.gov/evs/2007/roll623.xml\n",
      "http://clerk.house.gov/evs/2003/roll547.xml\n",
      "http://clerk.house.gov/evs/2005/roll409.xml\n",
      "http://clerk.house.gov/evs/2008/roll205.xml\n",
      "http://clerk.house.gov/evs/2007/roll621.xml\n",
      "http://clerk.house.gov/evs/2003/roll546.xml\n",
      "http://clerk.house.gov/evs/2005/roll408.xml\n",
      "http://clerk.house.gov/evs/2008/roll204.xml\n",
      "http://clerk.house.gov/evs/2007/roll620.xml\n",
      "http://clerk.house.gov/evs/2003/roll545.xml\n",
      "http://clerk.house.gov/evs/2005/roll407.xml\n",
      "http://clerk.house.gov/evs/2007/roll619.xml\n",
      "http://clerk.house.gov/evs/2008/roll203.xml\n",
      "http://clerk.house.gov/evs/2003/roll544.xml\n"
     ]
    },
    {
     "name": "stderr",
     "output_type": "stream",
     "text": [
      "Traceback (most recent call last):\n",
      "  File \"<ipython-input-8-530adc215787>\", line 7, in house_rollcall_individual_parallel\n",
      "    obj.roll_call_single_to_psql(year, rollcall)\n",
      "  File \"/Users/benellis/Projects/congress/congress/etl/house_votes.py\", line 183, in roll_call_single_to_psql\n",
      "    df = self.roll_call_single(year, roll)\n",
      "  File \"/Users/benellis/Projects/congress/congress/etl/house_votes.py\", line 142, in roll_call_single\n",
      "    chamber = soup.find('chamber').text\n",
      "AttributeError: 'NoneType' object has no attribute 'text'\n"
     ]
    },
    {
     "name": "stdout",
     "output_type": "stream",
     "text": [
      "http://clerk.house.gov/evs/2008/roll202.xml\n",
      "http://clerk.house.gov/evs/2005/roll406.xml\n",
      "http://clerk.house.gov/evs/2007/roll618.xml\n",
      "http://clerk.house.gov/evs/2003/roll543.xml\n",
      "http://clerk.house.gov/evs/2008/roll201.xml\n"
     ]
    },
    {
     "name": "stderr",
     "output_type": "stream",
     "text": [
      "Traceback (most recent call last):\n",
      "  File \"<ipython-input-8-530adc215787>\", line 7, in house_rollcall_individual_parallel\n",
      "    obj.roll_call_single_to_psql(year, rollcall)\n",
      "  File \"/Users/benellis/Projects/congress/congress/etl/house_votes.py\", line 183, in roll_call_single_to_psql\n",
      "    df = self.roll_call_single(year, roll)\n",
      "  File \"/Users/benellis/Projects/congress/congress/etl/house_votes.py\", line 142, in roll_call_single\n",
      "    chamber = soup.find('chamber').text\n",
      "AttributeError: 'NoneType' object has no attribute 'text'\n"
     ]
    },
    {
     "name": "stdout",
     "output_type": "stream",
     "text": [
      "http://clerk.house.gov/evs/2008/roll200.xml\n",
      "http://clerk.house.gov/evs/2005/roll405.xml\n"
     ]
    },
    {
     "name": "stderr",
     "output_type": "stream",
     "text": [
      "Traceback (most recent call last):\n",
      "  File \"<ipython-input-8-530adc215787>\", line 7, in house_rollcall_individual_parallel\n",
      "    obj.roll_call_single_to_psql(year, rollcall)\n",
      "  File \"/Users/benellis/Projects/congress/congress/etl/house_votes.py\", line 183, in roll_call_single_to_psql\n",
      "    df = self.roll_call_single(year, roll)\n",
      "  File \"/Users/benellis/Projects/congress/congress/etl/house_votes.py\", line 142, in roll_call_single\n",
      "    chamber = soup.find('chamber').text\n",
      "AttributeError: 'NoneType' object has no attribute 'text'\n"
     ]
    },
    {
     "name": "stdout",
     "output_type": "stream",
     "text": [
      "http://clerk.house.gov/evs/2008/roll399.xml\n",
      "http://clerk.house.gov/evs/2007/roll617.xml\n",
      "http://clerk.house.gov/evs/2003/roll542.xml\n",
      "http://clerk.house.gov/evs/2005/roll404.xml\n",
      "http://clerk.house.gov/evs/2008/roll398.xml\n",
      "http://clerk.house.gov/evs/2007/roll616.xml\n",
      "http://clerk.house.gov/evs/2003/roll541.xml\n",
      "http://clerk.house.gov/evs/2008/roll397.xml\n",
      "http://clerk.house.gov/evs/2005/roll403.xml\n"
     ]
    },
    {
     "name": "stderr",
     "output_type": "stream",
     "text": [
      "Traceback (most recent call last):\n",
      "  File \"<ipython-input-8-530adc215787>\", line 7, in house_rollcall_individual_parallel\n",
      "    obj.roll_call_single_to_psql(year, rollcall)\n",
      "  File \"/Users/benellis/Projects/congress/congress/etl/house_votes.py\", line 183, in roll_call_single_to_psql\n",
      "    df = self.roll_call_single(year, roll)\n",
      "  File \"/Users/benellis/Projects/congress/congress/etl/house_votes.py\", line 142, in roll_call_single\n",
      "    chamber = soup.find('chamber').text\n",
      "AttributeError: 'NoneType' object has no attribute 'text'\n"
     ]
    },
    {
     "name": "stdout",
     "output_type": "stream",
     "text": [
      "http://clerk.house.gov/evs/2008/roll396.xml\n",
      "http://clerk.house.gov/evs/2007/roll615.xml\n",
      "http://clerk.house.gov/evs/2003/roll540.xml\n",
      "http://clerk.house.gov/evs/2005/roll402.xml\n",
      "http://clerk.house.gov/evs/2008/roll346.xml\n",
      "http://clerk.house.gov/evs/2007/roll614.xml\n",
      "http://clerk.house.gov/evs/2003/roll539.xml\n",
      "http://clerk.house.gov/evs/2008/roll395.xml\n",
      "http://clerk.house.gov/evs/2005/roll401.xml\n",
      "http://clerk.house.gov/evs/2007/roll613.xml\n",
      "http://clerk.house.gov/evs/2003/roll538.xml\n",
      "http://clerk.house.gov/evs/2005/roll400.xml\n",
      "http://clerk.house.gov/evs/2008/roll394.xml\n",
      "http://clerk.house.gov/evs/2007/roll612.xml\n",
      "http://clerk.house.gov/evs/2003/roll537.xml\n",
      "http://clerk.house.gov/evs/2005/roll599.xml\n",
      "http://clerk.house.gov/evs/2008/roll393.xml\n",
      "http://clerk.house.gov/evs/2007/roll611.xml\n",
      "http://clerk.house.gov/evs/2003/roll536.xml\n",
      "http://clerk.house.gov/evs/2008/roll392.xml\n",
      "http://clerk.house.gov/evs/2005/roll598.xml\n",
      "http://clerk.house.gov/evs/2007/roll610.xml\n",
      "http://clerk.house.gov/evs/2003/roll535.xml\n",
      "http://clerk.house.gov/evs/2008/roll391.xml\n",
      "http://clerk.house.gov/evs/2005/roll597.xml\n",
      "http://clerk.house.gov/evs/2007/roll609.xml\n",
      "http://clerk.house.gov/evs/2003/roll534.xml\n",
      "http://clerk.house.gov/evs/2008/roll390.xml\n",
      "http://clerk.house.gov/evs/2005/roll596.xml\n",
      "http://clerk.house.gov/evs/2007/roll608.xml\n",
      "http://clerk.house.gov/evs/2003/roll533.xml\n",
      "http://clerk.house.gov/evs/2008/roll389.xml\n",
      "http://clerk.house.gov/evs/2005/roll595.xml\n",
      "http://clerk.house.gov/evs/2007/roll607.xml\n",
      "http://clerk.house.gov/evs/2003/roll532.xml\n",
      "http://clerk.house.gov/evs/2008/roll388.xml\n",
      "http://clerk.house.gov/evs/2005/roll594.xml\n",
      "http://clerk.house.gov/evs/2007/roll606.xml\n",
      "http://clerk.house.gov/evs/2003/roll531.xml\n",
      "http://clerk.house.gov/evs/2008/roll387.xml\n",
      "http://clerk.house.gov/evs/2005/roll593.xml\n",
      "http://clerk.house.gov/evs/2007/roll605.xml\n",
      "http://clerk.house.gov/evs/2003/roll530.xml\n",
      "http://clerk.house.gov/evs/2008/roll386.xml\n",
      "http://clerk.house.gov/evs/2005/roll592.xml\n",
      "http://clerk.house.gov/evs/2007/roll604.xml\n",
      "http://clerk.house.gov/evs/2003/roll529.xml\n"
     ]
    },
    {
     "name": "stderr",
     "output_type": "stream",
     "text": [
      "Traceback (most recent call last):\n",
      "  File \"<ipython-input-8-530adc215787>\", line 7, in house_rollcall_individual_parallel\n",
      "    obj.roll_call_single_to_psql(year, rollcall)\n",
      "  File \"/Users/benellis/Projects/congress/congress/etl/house_votes.py\", line 183, in roll_call_single_to_psql\n",
      "    df = self.roll_call_single(year, roll)\n",
      "  File \"/Users/benellis/Projects/congress/congress/etl/house_votes.py\", line 142, in roll_call_single\n",
      "    chamber = soup.find('chamber').text\n",
      "AttributeError: 'NoneType' object has no attribute 'text'\n"
     ]
    },
    {
     "name": "stdout",
     "output_type": "stream",
     "text": [
      "http://clerk.house.gov/evs/2007/roll603.xml\n"
     ]
    },
    {
     "name": "stderr",
     "output_type": "stream",
     "text": [
      "Traceback (most recent call last):\n",
      "  File \"<ipython-input-8-530adc215787>\", line 7, in house_rollcall_individual_parallel\n",
      "    obj.roll_call_single_to_psql(year, rollcall)\n",
      "  File \"/Users/benellis/Projects/congress/congress/etl/house_votes.py\", line 183, in roll_call_single_to_psql\n",
      "    df = self.roll_call_single(year, roll)\n",
      "  File \"/Users/benellis/Projects/congress/congress/etl/house_votes.py\", line 142, in roll_call_single\n",
      "    chamber = soup.find('chamber').text\n",
      "AttributeError: 'NoneType' object has no attribute 'text'\n"
     ]
    },
    {
     "name": "stdout",
     "output_type": "stream",
     "text": [
      "http://clerk.house.gov/evs/2007/roll602.xml\n"
     ]
    },
    {
     "name": "stderr",
     "output_type": "stream",
     "text": [
      "Traceback (most recent call last):\n",
      "  File \"<ipython-input-8-530adc215787>\", line 7, in house_rollcall_individual_parallel\n",
      "    obj.roll_call_single_to_psql(year, rollcall)\n",
      "  File \"/Users/benellis/Projects/congress/congress/etl/house_votes.py\", line 183, in roll_call_single_to_psql\n",
      "    df = self.roll_call_single(year, roll)\n",
      "  File \"/Users/benellis/Projects/congress/congress/etl/house_votes.py\", line 142, in roll_call_single\n",
      "    chamber = soup.find('chamber').text\n",
      "AttributeError: 'NoneType' object has no attribute 'text'\n"
     ]
    },
    {
     "name": "stdout",
     "output_type": "stream",
     "text": [
      "http://clerk.house.gov/evs/2007/roll601.xml\n"
     ]
    },
    {
     "name": "stderr",
     "output_type": "stream",
     "text": [
      "Traceback (most recent call last):\n",
      "  File \"<ipython-input-8-530adc215787>\", line 7, in house_rollcall_individual_parallel\n",
      "    obj.roll_call_single_to_psql(year, rollcall)\n",
      "  File \"/Users/benellis/Projects/congress/congress/etl/house_votes.py\", line 183, in roll_call_single_to_psql\n",
      "    df = self.roll_call_single(year, roll)\n",
      "  File \"/Users/benellis/Projects/congress/congress/etl/house_votes.py\", line 142, in roll_call_single\n",
      "    chamber = soup.find('chamber').text\n",
      "AttributeError: 'NoneType' object has no attribute 'text'\n"
     ]
    },
    {
     "name": "stdout",
     "output_type": "stream",
     "text": [
      "http://clerk.house.gov/evs/2007/roll600.xml\n",
      "http://clerk.house.gov/evs/2008/roll385.xml\n"
     ]
    },
    {
     "name": "stderr",
     "output_type": "stream",
     "text": [
      "Traceback (most recent call last):\n",
      "  File \"<ipython-input-8-530adc215787>\", line 7, in house_rollcall_individual_parallel\n",
      "    obj.roll_call_single_to_psql(year, rollcall)\n",
      "  File \"/Users/benellis/Projects/congress/congress/etl/house_votes.py\", line 183, in roll_call_single_to_psql\n",
      "    df = self.roll_call_single(year, roll)\n",
      "  File \"/Users/benellis/Projects/congress/congress/etl/house_votes.py\", line 142, in roll_call_single\n",
      "    chamber = soup.find('chamber').text\n",
      "AttributeError: 'NoneType' object has no attribute 'text'\n"
     ]
    },
    {
     "name": "stdout",
     "output_type": "stream",
     "text": [
      "http://clerk.house.gov/evs/2007/roll799.xml\n",
      "http://clerk.house.gov/evs/2005/roll591.xml\n",
      "http://clerk.house.gov/evs/2003/roll528.xml\n",
      "http://clerk.house.gov/evs/2008/roll384.xml\n",
      "http://clerk.house.gov/evs/2007/roll796.xml\n",
      "http://clerk.house.gov/evs/2005/roll590.xml\n",
      "http://clerk.house.gov/evs/2003/roll527.xml\n",
      "http://clerk.house.gov/evs/2008/roll383.xml\n",
      "http://clerk.house.gov/evs/2007/roll795.xml\n",
      "http://clerk.house.gov/evs/2005/roll589.xml\n",
      "http://clerk.house.gov/evs/2003/roll526.xml\n",
      "http://clerk.house.gov/evs/2008/roll382.xml\n",
      "http://clerk.house.gov/evs/2003/roll525.xml\n",
      "http://clerk.house.gov/evs/2007/roll794.xml\n",
      "http://clerk.house.gov/evs/2005/roll588.xml\n",
      "http://clerk.house.gov/evs/2008/roll381.xml\n",
      "http://clerk.house.gov/evs/2007/roll793.xml\n",
      "http://clerk.house.gov/evs/2003/roll524.xml\n",
      "http://clerk.house.gov/evs/2005/roll587.xml\n",
      "http://clerk.house.gov/evs/2008/roll380.xml\n",
      "http://clerk.house.gov/evs/2003/roll523.xml\n",
      "http://clerk.house.gov/evs/2007/roll792.xml\n",
      "http://clerk.house.gov/evs/2005/roll586.xml\n",
      "http://clerk.house.gov/evs/2003/roll522.xml\n",
      "http://clerk.house.gov/evs/2008/roll379.xml\n",
      "http://clerk.house.gov/evs/2007/roll791.xml\n",
      "http://clerk.house.gov/evs/2005/roll585.xml\n",
      "http://clerk.house.gov/evs/2008/roll378.xml\n",
      "http://clerk.house.gov/evs/2003/roll521.xml\n",
      "http://clerk.house.gov/evs/2007/roll790.xml\n",
      "http://clerk.house.gov/evs/2005/roll584.xml\n",
      "http://clerk.house.gov/evs/2007/roll789.xml\n",
      "http://clerk.house.gov/evs/2003/roll520.xml\n",
      "http://clerk.house.gov/evs/2008/roll377.xml\n"
     ]
    },
    {
     "name": "stderr",
     "output_type": "stream",
     "text": [
      "Traceback (most recent call last):\n",
      "  File \"<ipython-input-8-530adc215787>\", line 7, in house_rollcall_individual_parallel\n",
      "    obj.roll_call_single_to_psql(year, rollcall)\n",
      "  File \"/Users/benellis/Projects/congress/congress/etl/house_votes.py\", line 183, in roll_call_single_to_psql\n",
      "    df = self.roll_call_single(year, roll)\n",
      "  File \"/Users/benellis/Projects/congress/congress/etl/house_votes.py\", line 142, in roll_call_single\n",
      "    chamber = soup.find('chamber').text\n",
      "AttributeError: 'NoneType' object has no attribute 'text'\n"
     ]
    },
    {
     "name": "stdout",
     "output_type": "stream",
     "text": [
      "http://clerk.house.gov/evs/2008/roll376.xml\n",
      "http://clerk.house.gov/evs/2005/roll583.xml\n"
     ]
    },
    {
     "name": "stderr",
     "output_type": "stream",
     "text": [
      "Traceback (most recent call last):\n",
      "  File \"<ipython-input-8-530adc215787>\", line 7, in house_rollcall_individual_parallel\n",
      "    obj.roll_call_single_to_psql(year, rollcall)\n",
      "  File \"/Users/benellis/Projects/congress/congress/etl/house_votes.py\", line 183, in roll_call_single_to_psql\n",
      "    df = self.roll_call_single(year, roll)\n",
      "  File \"/Users/benellis/Projects/congress/congress/etl/house_votes.py\", line 142, in roll_call_single\n",
      "    chamber = soup.find('chamber').text\n",
      "AttributeError: 'NoneType' object has no attribute 'text'\n"
     ]
    },
    {
     "name": "stdout",
     "output_type": "stream",
     "text": [
      "http://clerk.house.gov/evs/2008/roll375.xml\n"
     ]
    },
    {
     "name": "stderr",
     "output_type": "stream",
     "text": [
      "Traceback (most recent call last):\n",
      "  File \"<ipython-input-8-530adc215787>\", line 7, in house_rollcall_individual_parallel\n",
      "    obj.roll_call_single_to_psql(year, rollcall)\n",
      "  File \"/Users/benellis/Projects/congress/congress/etl/house_votes.py\", line 183, in roll_call_single_to_psql\n",
      "    df = self.roll_call_single(year, roll)\n",
      "  File \"/Users/benellis/Projects/congress/congress/etl/house_votes.py\", line 142, in roll_call_single\n",
      "    chamber = soup.find('chamber').text\n",
      "AttributeError: 'NoneType' object has no attribute 'text'\n"
     ]
    },
    {
     "name": "stdout",
     "output_type": "stream",
     "text": [
      "http://clerk.house.gov/evs/2008/roll374.xml\n"
     ]
    },
    {
     "name": "stderr",
     "output_type": "stream",
     "text": [
      "Traceback (most recent call last):\n",
      "  File \"<ipython-input-8-530adc215787>\", line 7, in house_rollcall_individual_parallel\n",
      "    obj.roll_call_single_to_psql(year, rollcall)\n",
      "  File \"/Users/benellis/Projects/congress/congress/etl/house_votes.py\", line 183, in roll_call_single_to_psql\n",
      "    df = self.roll_call_single(year, roll)\n",
      "  File \"/Users/benellis/Projects/congress/congress/etl/house_votes.py\", line 142, in roll_call_single\n",
      "    chamber = soup.find('chamber').text\n",
      "AttributeError: 'NoneType' object has no attribute 'text'\n"
     ]
    },
    {
     "name": "stdout",
     "output_type": "stream",
     "text": [
      "http://clerk.house.gov/evs/2008/roll373.xml\n",
      "http://clerk.house.gov/evs/2007/roll787.xml\n",
      "http://clerk.house.gov/evs/2003/roll519.xml\n",
      "http://clerk.house.gov/evs/2005/roll582.xml\n",
      "http://clerk.house.gov/evs/2008/roll372.xml\n",
      "http://clerk.house.gov/evs/2007/roll786.xml\n",
      "http://clerk.house.gov/evs/2003/roll518.xml\n",
      "http://clerk.house.gov/evs/2005/roll581.xml\n",
      "http://clerk.house.gov/evs/2008/roll371.xml\n",
      "http://clerk.house.gov/evs/2007/roll785.xml\n",
      "http://clerk.house.gov/evs/2003/roll517.xml\n",
      "http://clerk.house.gov/evs/2005/roll580.xml\n",
      "http://clerk.house.gov/evs/2008/roll370.xml\n",
      "http://clerk.house.gov/evs/2007/roll784.xml\n",
      "http://clerk.house.gov/evs/2003/roll516.xml\n",
      "http://clerk.house.gov/evs/2005/roll579.xml\n",
      "http://clerk.house.gov/evs/2008/roll369.xml\n",
      "http://clerk.house.gov/evs/2007/roll782.xml\n",
      "http://clerk.house.gov/evs/2003/roll515.xml\n",
      "http://clerk.house.gov/evs/2005/roll578.xml\n",
      "http://clerk.house.gov/evs/2008/roll368.xml\n",
      "http://clerk.house.gov/evs/2007/roll778.xml\n"
     ]
    },
    {
     "name": "stderr",
     "output_type": "stream",
     "text": [
      "Traceback (most recent call last):\n",
      "  File \"<ipython-input-8-530adc215787>\", line 7, in house_rollcall_individual_parallel\n",
      "    obj.roll_call_single_to_psql(year, rollcall)\n",
      "  File \"/Users/benellis/Projects/congress/congress/etl/house_votes.py\", line 183, in roll_call_single_to_psql\n",
      "    df = self.roll_call_single(year, roll)\n",
      "  File \"/Users/benellis/Projects/congress/congress/etl/house_votes.py\", line 142, in roll_call_single\n",
      "    chamber = soup.find('chamber').text\n",
      "AttributeError: 'NoneType' object has no attribute 'text'\n"
     ]
    },
    {
     "name": "stdout",
     "output_type": "stream",
     "text": [
      "http://clerk.house.gov/evs/2007/roll777.xml\n"
     ]
    },
    {
     "name": "stderr",
     "output_type": "stream",
     "text": [
      "Traceback (most recent call last):\n",
      "  File \"<ipython-input-8-530adc215787>\", line 7, in house_rollcall_individual_parallel\n",
      "    obj.roll_call_single_to_psql(year, rollcall)\n",
      "  File \"/Users/benellis/Projects/congress/congress/etl/house_votes.py\", line 183, in roll_call_single_to_psql\n",
      "    df = self.roll_call_single(year, roll)\n",
      "  File \"/Users/benellis/Projects/congress/congress/etl/house_votes.py\", line 142, in roll_call_single\n",
      "    chamber = soup.find('chamber').text\n",
      "AttributeError: 'NoneType' object has no attribute 'text'\n"
     ]
    },
    {
     "name": "stdout",
     "output_type": "stream",
     "text": [
      "http://clerk.house.gov/evs/2007/roll776.xml\n",
      "http://clerk.house.gov/evs/2005/roll577.xml\n",
      "http://clerk.house.gov/evs/2003/roll514.xml\n"
     ]
    },
    {
     "name": "stderr",
     "output_type": "stream",
     "text": [
      "Traceback (most recent call last):\n",
      "  File \"<ipython-input-8-530adc215787>\", line 7, in house_rollcall_individual_parallel\n",
      "    obj.roll_call_single_to_psql(year, rollcall)\n",
      "  File \"/Users/benellis/Projects/congress/congress/etl/house_votes.py\", line 183, in roll_call_single_to_psql\n",
      "    df = self.roll_call_single(year, roll)\n",
      "  File \"/Users/benellis/Projects/congress/congress/etl/house_votes.py\", line 142, in roll_call_single\n",
      "    chamber = soup.find('chamber').text\n",
      "AttributeError: 'NoneType' object has no attribute 'text'\n"
     ]
    },
    {
     "name": "stdout",
     "output_type": "stream",
     "text": [
      "http://clerk.house.gov/evs/2007/roll773.xml\n",
      "http://clerk.house.gov/evs/2008/roll367.xml\n",
      "http://clerk.house.gov/evs/2005/roll576.xml\n",
      "http://clerk.house.gov/evs/2003/roll513.xml\n",
      "http://clerk.house.gov/evs/2007/roll772.xml\n",
      "http://clerk.house.gov/evs/2008/roll366.xml\n",
      "http://clerk.house.gov/evs/2005/roll575.xml\n",
      "http://clerk.house.gov/evs/2003/roll512.xml\n",
      "http://clerk.house.gov/evs/2007/roll771.xml\n",
      "http://clerk.house.gov/evs/2008/roll365.xml\n",
      "http://clerk.house.gov/evs/2005/roll574.xml\n",
      "http://clerk.house.gov/evs/2003/roll511.xml\n",
      "http://clerk.house.gov/evs/2007/roll770.xml\n",
      "http://clerk.house.gov/evs/2008/roll364.xml\n",
      "http://clerk.house.gov/evs/2005/roll573.xml\n",
      "http://clerk.house.gov/evs/2003/roll510.xml\n",
      "http://clerk.house.gov/evs/2007/roll769.xml\n",
      "http://clerk.house.gov/evs/2008/roll363.xml\n"
     ]
    },
    {
     "name": "stderr",
     "output_type": "stream",
     "text": [
      "Traceback (most recent call last):\n",
      "  File \"<ipython-input-8-530adc215787>\", line 7, in house_rollcall_individual_parallel\n",
      "    obj.roll_call_single_to_psql(year, rollcall)\n",
      "  File \"/Users/benellis/Projects/congress/congress/etl/house_votes.py\", line 183, in roll_call_single_to_psql\n",
      "    df = self.roll_call_single(year, roll)\n",
      "  File \"/Users/benellis/Projects/congress/congress/etl/house_votes.py\", line 142, in roll_call_single\n",
      "    chamber = soup.find('chamber').text\n",
      "AttributeError: 'NoneType' object has no attribute 'text'\n"
     ]
    },
    {
     "name": "stdout",
     "output_type": "stream",
     "text": [
      "http://clerk.house.gov/evs/2008/roll362.xml\n"
     ]
    },
    {
     "name": "stderr",
     "output_type": "stream",
     "text": [
      "Traceback (most recent call last):\n",
      "  File \"<ipython-input-8-530adc215787>\", line 7, in house_rollcall_individual_parallel\n",
      "    obj.roll_call_single_to_psql(year, rollcall)\n",
      "  File \"/Users/benellis/Projects/congress/congress/etl/house_votes.py\", line 183, in roll_call_single_to_psql\n",
      "    df = self.roll_call_single(year, roll)\n",
      "  File \"/Users/benellis/Projects/congress/congress/etl/house_votes.py\", line 142, in roll_call_single\n",
      "    chamber = soup.find('chamber').text\n",
      "AttributeError: 'NoneType' object has no attribute 'text'\n"
     ]
    },
    {
     "name": "stdout",
     "output_type": "stream",
     "text": [
      "http://clerk.house.gov/evs/2008/roll361.xml\n"
     ]
    },
    {
     "name": "stderr",
     "output_type": "stream",
     "text": [
      "Traceback (most recent call last):\n",
      "  File \"<ipython-input-8-530adc215787>\", line 7, in house_rollcall_individual_parallel\n",
      "    obj.roll_call_single_to_psql(year, rollcall)\n",
      "  File \"/Users/benellis/Projects/congress/congress/etl/house_votes.py\", line 183, in roll_call_single_to_psql\n",
      "    df = self.roll_call_single(year, roll)\n",
      "  File \"/Users/benellis/Projects/congress/congress/etl/house_votes.py\", line 142, in roll_call_single\n",
      "    chamber = soup.find('chamber').text\n",
      "AttributeError: 'NoneType' object has no attribute 'text'\n"
     ]
    },
    {
     "name": "stdout",
     "output_type": "stream",
     "text": [
      "http://clerk.house.gov/evs/2008/roll360.xml\n"
     ]
    },
    {
     "name": "stderr",
     "output_type": "stream",
     "text": [
      "Traceback (most recent call last):\n",
      "  File \"<ipython-input-8-530adc215787>\", line 7, in house_rollcall_individual_parallel\n",
      "    obj.roll_call_single_to_psql(year, rollcall)\n",
      "  File \"/Users/benellis/Projects/congress/congress/etl/house_votes.py\", line 183, in roll_call_single_to_psql\n",
      "    df = self.roll_call_single(year, roll)\n",
      "  File \"/Users/benellis/Projects/congress/congress/etl/house_votes.py\", line 142, in roll_call_single\n",
      "    chamber = soup.find('chamber').text\n",
      "AttributeError: 'NoneType' object has no attribute 'text'\n"
     ]
    },
    {
     "name": "stdout",
     "output_type": "stream",
     "text": [
      "http://clerk.house.gov/evs/2008/roll359.xml\n"
     ]
    },
    {
     "name": "stderr",
     "output_type": "stream",
     "text": [
      "Traceback (most recent call last):\n",
      "  File \"<ipython-input-8-530adc215787>\", line 7, in house_rollcall_individual_parallel\n",
      "    obj.roll_call_single_to_psql(year, rollcall)\n",
      "  File \"/Users/benellis/Projects/congress/congress/etl/house_votes.py\", line 183, in roll_call_single_to_psql\n",
      "    df = self.roll_call_single(year, roll)\n",
      "  File \"/Users/benellis/Projects/congress/congress/etl/house_votes.py\", line 142, in roll_call_single\n",
      "    chamber = soup.find('chamber').text\n",
      "AttributeError: 'NoneType' object has no attribute 'text'\n"
     ]
    },
    {
     "name": "stdout",
     "output_type": "stream",
     "text": [
      "http://clerk.house.gov/evs/2008/roll358.xml\n"
     ]
    },
    {
     "name": "stderr",
     "output_type": "stream",
     "text": [
      "Traceback (most recent call last):\n",
      "  File \"<ipython-input-8-530adc215787>\", line 7, in house_rollcall_individual_parallel\n",
      "    obj.roll_call_single_to_psql(year, rollcall)\n",
      "  File \"/Users/benellis/Projects/congress/congress/etl/house_votes.py\", line 183, in roll_call_single_to_psql\n",
      "    df = self.roll_call_single(year, roll)\n",
      "  File \"/Users/benellis/Projects/congress/congress/etl/house_votes.py\", line 142, in roll_call_single\n",
      "    chamber = soup.find('chamber').text\n",
      "AttributeError: 'NoneType' object has no attribute 'text'\n"
     ]
    },
    {
     "name": "stdout",
     "output_type": "stream",
     "text": [
      "http://clerk.house.gov/evs/2008/roll357.xml\n"
     ]
    },
    {
     "name": "stderr",
     "output_type": "stream",
     "text": [
      "Traceback (most recent call last):\n",
      "  File \"<ipython-input-8-530adc215787>\", line 7, in house_rollcall_individual_parallel\n",
      "    obj.roll_call_single_to_psql(year, rollcall)\n",
      "  File \"/Users/benellis/Projects/congress/congress/etl/house_votes.py\", line 183, in roll_call_single_to_psql\n",
      "    df = self.roll_call_single(year, roll)\n",
      "  File \"/Users/benellis/Projects/congress/congress/etl/house_votes.py\", line 142, in roll_call_single\n",
      "    chamber = soup.find('chamber').text\n",
      "AttributeError: 'NoneType' object has no attribute 'text'\n"
     ]
    },
    {
     "name": "stdout",
     "output_type": "stream",
     "text": [
      "http://clerk.house.gov/evs/2008/roll356.xml\n",
      "http://clerk.house.gov/evs/2005/roll572.xml\n"
     ]
    },
    {
     "name": "stderr",
     "output_type": "stream",
     "text": [
      "Traceback (most recent call last):\n",
      "  File \"<ipython-input-8-530adc215787>\", line 7, in house_rollcall_individual_parallel\n",
      "    obj.roll_call_single_to_psql(year, rollcall)\n",
      "  File \"/Users/benellis/Projects/congress/congress/etl/house_votes.py\", line 183, in roll_call_single_to_psql\n",
      "    df = self.roll_call_single(year, roll)\n",
      "  File \"/Users/benellis/Projects/congress/congress/etl/house_votes.py\", line 142, in roll_call_single\n",
      "    chamber = soup.find('chamber').text\n",
      "AttributeError: 'NoneType' object has no attribute 'text'\n"
     ]
    },
    {
     "name": "stdout",
     "output_type": "stream",
     "text": [
      "http://clerk.house.gov/evs/2008/roll355.xml\n",
      "http://clerk.house.gov/evs/2003/roll509.xml\n",
      "http://clerk.house.gov/evs/2007/roll768.xml\n"
     ]
    },
    {
     "name": "stderr",
     "output_type": "stream",
     "text": [
      "Traceback (most recent call last):\n",
      "  File \"<ipython-input-8-530adc215787>\", line 7, in house_rollcall_individual_parallel\n",
      "    obj.roll_call_single_to_psql(year, rollcall)\n",
      "  File \"/Users/benellis/Projects/congress/congress/etl/house_votes.py\", line 183, in roll_call_single_to_psql\n",
      "    df = self.roll_call_single(year, roll)\n",
      "  File \"/Users/benellis/Projects/congress/congress/etl/house_votes.py\", line 142, in roll_call_single\n",
      "    chamber = soup.find('chamber').text\n",
      "AttributeError: 'NoneType' object has no attribute 'text'\n"
     ]
    },
    {
     "name": "stdout",
     "output_type": "stream",
     "text": [
      "http://clerk.house.gov/evs/2008/roll354.xml\n",
      "http://clerk.house.gov/evs/2005/roll571.xml\n",
      "http://clerk.house.gov/evs/2008/roll353.xml\n",
      "http://clerk.house.gov/evs/2007/roll767.xml\n",
      "http://clerk.house.gov/evs/2003/roll508.xml\n",
      "http://clerk.house.gov/evs/2005/roll570.xml\n",
      "http://clerk.house.gov/evs/2003/roll507.xml\n",
      "http://clerk.house.gov/evs/2008/roll352.xml\n",
      "http://clerk.house.gov/evs/2007/roll766.xml\n",
      "http://clerk.house.gov/evs/2005/roll569.xml\n",
      "http://clerk.house.gov/evs/2003/roll506.xml\n",
      "http://clerk.house.gov/evs/2008/roll351.xml\n",
      "http://clerk.house.gov/evs/2007/roll765.xml\n",
      "http://clerk.house.gov/evs/2005/roll568.xml\n",
      "http://clerk.house.gov/evs/2003/roll505.xml\n",
      "http://clerk.house.gov/evs/2008/roll350.xml\n",
      "http://clerk.house.gov/evs/2007/roll764.xml\n",
      "http://clerk.house.gov/evs/2005/roll567.xml\n",
      "http://clerk.house.gov/evs/2007/roll707.xml\n",
      "http://clerk.house.gov/evs/2003/roll504.xml\n",
      "http://clerk.house.gov/evs/2008/roll349.xml\n"
     ]
    },
    {
     "name": "stderr",
     "output_type": "stream",
     "text": [
      "Traceback (most recent call last):\n",
      "  File \"<ipython-input-8-530adc215787>\", line 7, in house_rollcall_individual_parallel\n",
      "    obj.roll_call_single_to_psql(year, rollcall)\n",
      "  File \"/Users/benellis/Projects/congress/congress/etl/house_votes.py\", line 183, in roll_call_single_to_psql\n",
      "    df = self.roll_call_single(year, roll)\n",
      "  File \"/Users/benellis/Projects/congress/congress/etl/house_votes.py\", line 142, in roll_call_single\n",
      "    chamber = soup.find('chamber').text\n",
      "AttributeError: 'NoneType' object has no attribute 'text'\n"
     ]
    },
    {
     "name": "stdout",
     "output_type": "stream",
     "text": [
      "http://clerk.house.gov/evs/2007/roll763.xml\n",
      "http://clerk.house.gov/evs/2005/roll566.xml\n",
      "http://clerk.house.gov/evs/2008/roll348.xml\n",
      "http://clerk.house.gov/evs/2003/roll503.xml\n",
      "http://clerk.house.gov/evs/2007/roll762.xml\n",
      "http://clerk.house.gov/evs/2005/roll565.xml\n",
      "http://clerk.house.gov/evs/2008/roll347.xml\n",
      "http://clerk.house.gov/evs/2003/roll502.xml\n",
      "http://clerk.house.gov/evs/2007/roll761.xml\n",
      "http://clerk.house.gov/evs/2005/roll564.xml\n",
      "http://clerk.house.gov/evs/2008/roll345.xml\n",
      "http://clerk.house.gov/evs/2003/roll501.xml\n",
      "http://clerk.house.gov/evs/2007/roll760.xml\n",
      "http://clerk.house.gov/evs/2005/roll563.xml\n",
      "http://clerk.house.gov/evs/2008/roll344.xml\n",
      "http://clerk.house.gov/evs/2003/roll500.xml\n",
      "http://clerk.house.gov/evs/2007/roll759.xml\n",
      "http://clerk.house.gov/evs/2005/roll561.xml\n",
      "http://clerk.house.gov/evs/2008/roll343.xml\n",
      "http://clerk.house.gov/evs/2007/roll758.xml\n",
      "http://clerk.house.gov/evs/2003/roll677.xml\n",
      "http://clerk.house.gov/evs/2005/roll560.xml\n",
      "http://clerk.house.gov/evs/2007/roll757.xml\n",
      "http://clerk.house.gov/evs/2008/roll342.xml\n",
      "http://clerk.house.gov/evs/2005/roll559.xml\n",
      "http://clerk.house.gov/evs/2003/roll676.xml\n",
      "http://clerk.house.gov/evs/2007/roll756.xml\n",
      "http://clerk.house.gov/evs/2008/roll341.xml\n",
      "http://clerk.house.gov/evs/2005/roll558.xml\n",
      "http://clerk.house.gov/evs/2003/roll675.xml\n",
      "http://clerk.house.gov/evs/2007/roll755.xml\n",
      "http://clerk.house.gov/evs/2008/roll340.xml\n",
      "http://clerk.house.gov/evs/2005/roll557.xml\n",
      "http://clerk.house.gov/evs/2003/roll674.xml\n",
      "http://clerk.house.gov/evs/2007/roll754.xml\n"
     ]
    },
    {
     "name": "stderr",
     "output_type": "stream",
     "text": [
      "Traceback (most recent call last):\n",
      "  File \"<ipython-input-8-530adc215787>\", line 7, in house_rollcall_individual_parallel\n",
      "    obj.roll_call_single_to_psql(year, rollcall)\n",
      "  File \"/Users/benellis/Projects/congress/congress/etl/house_votes.py\", line 183, in roll_call_single_to_psql\n",
      "    df = self.roll_call_single(year, roll)\n",
      "  File \"/Users/benellis/Projects/congress/congress/etl/house_votes.py\", line 142, in roll_call_single\n",
      "    chamber = soup.find('chamber').text\n",
      "AttributeError: 'NoneType' object has no attribute 'text'\n"
     ]
    },
    {
     "name": "stdout",
     "output_type": "stream",
     "text": [
      "http://clerk.house.gov/evs/2007/roll753.xml\n",
      "http://clerk.house.gov/evs/2008/roll339.xml\n"
     ]
    },
    {
     "name": "stderr",
     "output_type": "stream",
     "text": [
      "Traceback (most recent call last):\n",
      "  File \"<ipython-input-8-530adc215787>\", line 7, in house_rollcall_individual_parallel\n",
      "    obj.roll_call_single_to_psql(year, rollcall)\n",
      "  File \"/Users/benellis/Projects/congress/congress/etl/house_votes.py\", line 183, in roll_call_single_to_psql\n",
      "    df = self.roll_call_single(year, roll)\n",
      "  File \"/Users/benellis/Projects/congress/congress/etl/house_votes.py\", line 142, in roll_call_single\n",
      "    chamber = soup.find('chamber').text\n",
      "AttributeError: 'NoneType' object has no attribute 'text'\n"
     ]
    },
    {
     "name": "stdout",
     "output_type": "stream",
     "text": [
      "http://clerk.house.gov/evs/2007/roll752.xml\n",
      "http://clerk.house.gov/evs/2005/roll556.xml\n",
      "http://clerk.house.gov/evs/2003/roll673.xml\n"
     ]
    },
    {
     "name": "stderr",
     "output_type": "stream",
     "text": [
      "Traceback (most recent call last):\n",
      "  File \"<ipython-input-8-530adc215787>\", line 7, in house_rollcall_individual_parallel\n",
      "    obj.roll_call_single_to_psql(year, rollcall)\n",
      "  File \"/Users/benellis/Projects/congress/congress/etl/house_votes.py\", line 183, in roll_call_single_to_psql\n",
      "    df = self.roll_call_single(year, roll)\n",
      "  File \"/Users/benellis/Projects/congress/congress/etl/house_votes.py\", line 142, in roll_call_single\n",
      "    chamber = soup.find('chamber').text\n",
      "AttributeError: 'NoneType' object has no attribute 'text'\n"
     ]
    },
    {
     "name": "stdout",
     "output_type": "stream",
     "text": [
      "http://clerk.house.gov/evs/2007/roll751.xml\n"
     ]
    },
    {
     "name": "stderr",
     "output_type": "stream",
     "text": [
      "Traceback (most recent call last):\n",
      "  File \"<ipython-input-8-530adc215787>\", line 7, in house_rollcall_individual_parallel\n",
      "    obj.roll_call_single_to_psql(year, rollcall)\n",
      "  File \"/Users/benellis/Projects/congress/congress/etl/house_votes.py\", line 183, in roll_call_single_to_psql\n",
      "    df = self.roll_call_single(year, roll)\n",
      "  File \"/Users/benellis/Projects/congress/congress/etl/house_votes.py\", line 142, in roll_call_single\n",
      "    chamber = soup.find('chamber').text\n",
      "AttributeError: 'NoneType' object has no attribute 'text'\n"
     ]
    },
    {
     "name": "stdout",
     "output_type": "stream",
     "text": [
      "http://clerk.house.gov/evs/2007/roll750.xml\n"
     ]
    },
    {
     "name": "stderr",
     "output_type": "stream",
     "text": [
      "Traceback (most recent call last):\n",
      "  File \"<ipython-input-8-530adc215787>\", line 7, in house_rollcall_individual_parallel\n",
      "    obj.roll_call_single_to_psql(year, rollcall)\n",
      "  File \"/Users/benellis/Projects/congress/congress/etl/house_votes.py\", line 183, in roll_call_single_to_psql\n",
      "    df = self.roll_call_single(year, roll)\n",
      "  File \"/Users/benellis/Projects/congress/congress/etl/house_votes.py\", line 142, in roll_call_single\n",
      "    chamber = soup.find('chamber').text\n",
      "AttributeError: 'NoneType' object has no attribute 'text'\n"
     ]
    },
    {
     "name": "stdout",
     "output_type": "stream",
     "text": [
      "http://clerk.house.gov/evs/2007/roll749.xml\n"
     ]
    },
    {
     "name": "stderr",
     "output_type": "stream",
     "text": [
      "Traceback (most recent call last):\n",
      "  File \"<ipython-input-8-530adc215787>\", line 7, in house_rollcall_individual_parallel\n",
      "    obj.roll_call_single_to_psql(year, rollcall)\n",
      "  File \"/Users/benellis/Projects/congress/congress/etl/house_votes.py\", line 183, in roll_call_single_to_psql\n",
      "    df = self.roll_call_single(year, roll)\n",
      "  File \"/Users/benellis/Projects/congress/congress/etl/house_votes.py\", line 142, in roll_call_single\n",
      "    chamber = soup.find('chamber').text\n",
      "AttributeError: 'NoneType' object has no attribute 'text'\n"
     ]
    },
    {
     "name": "stdout",
     "output_type": "stream",
     "text": [
      "http://clerk.house.gov/evs/2007/roll748.xml\n"
     ]
    },
    {
     "name": "stderr",
     "output_type": "stream",
     "text": [
      "Traceback (most recent call last):\n",
      "  File \"<ipython-input-8-530adc215787>\", line 7, in house_rollcall_individual_parallel\n",
      "    obj.roll_call_single_to_psql(year, rollcall)\n",
      "  File \"/Users/benellis/Projects/congress/congress/etl/house_votes.py\", line 183, in roll_call_single_to_psql\n",
      "    df = self.roll_call_single(year, roll)\n",
      "  File \"/Users/benellis/Projects/congress/congress/etl/house_votes.py\", line 142, in roll_call_single\n",
      "    chamber = soup.find('chamber').text\n",
      "AttributeError: 'NoneType' object has no attribute 'text'\n"
     ]
    },
    {
     "name": "stdout",
     "output_type": "stream",
     "text": [
      "http://clerk.house.gov/evs/2007/roll747.xml\n",
      "http://clerk.house.gov/evs/2008/roll338.xml\n"
     ]
    },
    {
     "name": "stderr",
     "output_type": "stream",
     "text": [
      "Traceback (most recent call last):\n",
      "  File \"<ipython-input-8-530adc215787>\", line 7, in house_rollcall_individual_parallel\n",
      "    obj.roll_call_single_to_psql(year, rollcall)\n",
      "  File \"/Users/benellis/Projects/congress/congress/etl/house_votes.py\", line 183, in roll_call_single_to_psql\n",
      "    df = self.roll_call_single(year, roll)\n",
      "  File \"/Users/benellis/Projects/congress/congress/etl/house_votes.py\", line 142, in roll_call_single\n",
      "    chamber = soup.find('chamber').text\n",
      "AttributeError: 'NoneType' object has no attribute 'text'\n"
     ]
    },
    {
     "name": "stdout",
     "output_type": "stream",
     "text": [
      "http://clerk.house.gov/evs/2007/roll746.xml\n",
      "http://clerk.house.gov/evs/2005/roll555.xml\n",
      "http://clerk.house.gov/evs/2003/roll672.xml\n",
      "http://clerk.house.gov/evs/2008/roll337.xml\n",
      "http://clerk.house.gov/evs/2007/roll744.xml\n",
      "http://clerk.house.gov/evs/2005/roll554.xml\n",
      "http://clerk.house.gov/evs/2003/roll671.xml\n",
      "http://clerk.house.gov/evs/2008/roll336.xml\n",
      "http://clerk.house.gov/evs/2007/roll743.xml\n",
      "http://clerk.house.gov/evs/2005/roll553.xml\n",
      "http://clerk.house.gov/evs/2003/roll670.xml\n",
      "http://clerk.house.gov/evs/2008/roll335.xml\n",
      "http://clerk.house.gov/evs/2007/roll742.xml\n",
      "http://clerk.house.gov/evs/2005/roll552.xml\n",
      "http://clerk.house.gov/evs/2003/roll669.xml\n"
     ]
    },
    {
     "name": "stderr",
     "output_type": "stream",
     "text": [
      "Traceback (most recent call last):\n",
      "  File \"<ipython-input-8-530adc215787>\", line 7, in house_rollcall_individual_parallel\n",
      "    obj.roll_call_single_to_psql(year, rollcall)\n",
      "  File \"/Users/benellis/Projects/congress/congress/etl/house_votes.py\", line 183, in roll_call_single_to_psql\n",
      "    df = self.roll_call_single(year, roll)\n",
      "  File \"/Users/benellis/Projects/congress/congress/etl/house_votes.py\", line 142, in roll_call_single\n",
      "    chamber = soup.find('chamber').text\n",
      "AttributeError: 'NoneType' object has no attribute 'text'\n"
     ]
    },
    {
     "name": "stdout",
     "output_type": "stream",
     "text": [
      "http://clerk.house.gov/evs/2007/roll741.xml\n"
     ]
    },
    {
     "name": "stderr",
     "output_type": "stream",
     "text": [
      "Traceback (most recent call last):\n",
      "  File \"<ipython-input-8-530adc215787>\", line 7, in house_rollcall_individual_parallel\n",
      "    obj.roll_call_single_to_psql(year, rollcall)\n",
      "  File \"/Users/benellis/Projects/congress/congress/etl/house_votes.py\", line 183, in roll_call_single_to_psql\n",
      "    df = self.roll_call_single(year, roll)\n",
      "  File \"/Users/benellis/Projects/congress/congress/etl/house_votes.py\", line 142, in roll_call_single\n",
      "    chamber = soup.find('chamber').text\n",
      "AttributeError: 'NoneType' object has no attribute 'text'\n"
     ]
    },
    {
     "name": "stdout",
     "output_type": "stream",
     "text": [
      "http://clerk.house.gov/evs/2007/roll740.xml\n"
     ]
    },
    {
     "name": "stderr",
     "output_type": "stream",
     "text": [
      "Traceback (most recent call last):\n",
      "  File \"<ipython-input-8-530adc215787>\", line 7, in house_rollcall_individual_parallel\n",
      "    obj.roll_call_single_to_psql(year, rollcall)\n",
      "  File \"/Users/benellis/Projects/congress/congress/etl/house_votes.py\", line 183, in roll_call_single_to_psql\n",
      "    df = self.roll_call_single(year, roll)\n",
      "  File \"/Users/benellis/Projects/congress/congress/etl/house_votes.py\", line 142, in roll_call_single\n",
      "    chamber = soup.find('chamber').text\n",
      "AttributeError: 'NoneType' object has no attribute 'text'\n"
     ]
    },
    {
     "name": "stdout",
     "output_type": "stream",
     "text": [
      "http://clerk.house.gov/evs/2007/roll739.xml\n"
     ]
    },
    {
     "name": "stderr",
     "output_type": "stream",
     "text": [
      "Traceback (most recent call last):\n",
      "  File \"<ipython-input-8-530adc215787>\", line 7, in house_rollcall_individual_parallel\n",
      "    obj.roll_call_single_to_psql(year, rollcall)\n",
      "  File \"/Users/benellis/Projects/congress/congress/etl/house_votes.py\", line 183, in roll_call_single_to_psql\n",
      "    df = self.roll_call_single(year, roll)\n",
      "  File \"/Users/benellis/Projects/congress/congress/etl/house_votes.py\", line 142, in roll_call_single\n",
      "    chamber = soup.find('chamber').text\n",
      "AttributeError: 'NoneType' object has no attribute 'text'\n"
     ]
    },
    {
     "name": "stdout",
     "output_type": "stream",
     "text": [
      "http://clerk.house.gov/evs/2007/roll738.xml\n",
      "http://clerk.house.gov/evs/2008/roll334.xml\n"
     ]
    },
    {
     "name": "stderr",
     "output_type": "stream",
     "text": [
      "Traceback (most recent call last):\n",
      "  File \"<ipython-input-8-530adc215787>\", line 7, in house_rollcall_individual_parallel\n",
      "    obj.roll_call_single_to_psql(year, rollcall)\n",
      "  File \"/Users/benellis/Projects/congress/congress/etl/house_votes.py\", line 183, in roll_call_single_to_psql\n",
      "    df = self.roll_call_single(year, roll)\n",
      "  File \"/Users/benellis/Projects/congress/congress/etl/house_votes.py\", line 142, in roll_call_single\n",
      "    chamber = soup.find('chamber').text\n",
      "AttributeError: 'NoneType' object has no attribute 'text'\n"
     ]
    },
    {
     "name": "stdout",
     "output_type": "stream",
     "text": [
      "http://clerk.house.gov/evs/2007/roll737.xml\n"
     ]
    },
    {
     "name": "stderr",
     "output_type": "stream",
     "text": [
      "Traceback (most recent call last):\n",
      "  File \"<ipython-input-8-530adc215787>\", line 7, in house_rollcall_individual_parallel\n",
      "    obj.roll_call_single_to_psql(year, rollcall)\n",
      "  File \"/Users/benellis/Projects/congress/congress/etl/house_votes.py\", line 183, in roll_call_single_to_psql\n",
      "    df = self.roll_call_single(year, roll)\n",
      "  File \"/Users/benellis/Projects/congress/congress/etl/house_votes.py\", line 142, in roll_call_single\n",
      "    chamber = soup.find('chamber').text\n",
      "AttributeError: 'NoneType' object has no attribute 'text'\n"
     ]
    },
    {
     "name": "stdout",
     "output_type": "stream",
     "text": [
      "http://clerk.house.gov/evs/2007/roll736.xml\n"
     ]
    },
    {
     "name": "stderr",
     "output_type": "stream",
     "text": [
      "Traceback (most recent call last):\n",
      "  File \"<ipython-input-8-530adc215787>\", line 7, in house_rollcall_individual_parallel\n",
      "    obj.roll_call_single_to_psql(year, rollcall)\n",
      "  File \"/Users/benellis/Projects/congress/congress/etl/house_votes.py\", line 183, in roll_call_single_to_psql\n",
      "    df = self.roll_call_single(year, roll)\n",
      "  File \"/Users/benellis/Projects/congress/congress/etl/house_votes.py\", line 142, in roll_call_single\n",
      "    chamber = soup.find('chamber').text\n",
      "AttributeError: 'NoneType' object has no attribute 'text'\n"
     ]
    },
    {
     "name": "stdout",
     "output_type": "stream",
     "text": [
      "http://clerk.house.gov/evs/2007/roll735.xml\n",
      "http://clerk.house.gov/evs/2005/roll551.xml\n",
      "http://clerk.house.gov/evs/2003/roll668.xml\n"
     ]
    },
    {
     "name": "stderr",
     "output_type": "stream",
     "text": [
      "Traceback (most recent call last):\n",
      "  File \"<ipython-input-8-530adc215787>\", line 7, in house_rollcall_individual_parallel\n",
      "    obj.roll_call_single_to_psql(year, rollcall)\n",
      "  File \"/Users/benellis/Projects/congress/congress/etl/house_votes.py\", line 183, in roll_call_single_to_psql\n",
      "    df = self.roll_call_single(year, roll)\n",
      "  File \"/Users/benellis/Projects/congress/congress/etl/house_votes.py\", line 142, in roll_call_single\n",
      "    chamber = soup.find('chamber').text\n",
      "AttributeError: 'NoneType' object has no attribute 'text'\n"
     ]
    },
    {
     "name": "stdout",
     "output_type": "stream",
     "text": [
      "http://clerk.house.gov/evs/2007/roll734.xml\n"
     ]
    },
    {
     "name": "stderr",
     "output_type": "stream",
     "text": [
      "Traceback (most recent call last):\n",
      "  File \"<ipython-input-8-530adc215787>\", line 7, in house_rollcall_individual_parallel\n",
      "    obj.roll_call_single_to_psql(year, rollcall)\n",
      "  File \"/Users/benellis/Projects/congress/congress/etl/house_votes.py\", line 183, in roll_call_single_to_psql\n",
      "    df = self.roll_call_single(year, roll)\n",
      "  File \"/Users/benellis/Projects/congress/congress/etl/house_votes.py\", line 142, in roll_call_single\n",
      "    chamber = soup.find('chamber').text\n",
      "AttributeError: 'NoneType' object has no attribute 'text'\n"
     ]
    },
    {
     "name": "stdout",
     "output_type": "stream",
     "text": [
      "http://clerk.house.gov/evs/2007/roll733.xml\n"
     ]
    },
    {
     "name": "stderr",
     "output_type": "stream",
     "text": [
      "Traceback (most recent call last):\n",
      "  File \"<ipython-input-8-530adc215787>\", line 7, in house_rollcall_individual_parallel\n",
      "    obj.roll_call_single_to_psql(year, rollcall)\n",
      "  File \"/Users/benellis/Projects/congress/congress/etl/house_votes.py\", line 183, in roll_call_single_to_psql\n",
      "    df = self.roll_call_single(year, roll)\n",
      "  File \"/Users/benellis/Projects/congress/congress/etl/house_votes.py\", line 142, in roll_call_single\n",
      "    chamber = soup.find('chamber').text\n",
      "AttributeError: 'NoneType' object has no attribute 'text'\n"
     ]
    },
    {
     "name": "stdout",
     "output_type": "stream",
     "text": [
      "http://clerk.house.gov/evs/2007/roll732.xml\n",
      "http://clerk.house.gov/evs/2008/roll333.xml\n"
     ]
    },
    {
     "name": "stderr",
     "output_type": "stream",
     "text": [
      "Traceback (most recent call last):\n",
      "  File \"<ipython-input-8-530adc215787>\", line 7, in house_rollcall_individual_parallel\n",
      "    obj.roll_call_single_to_psql(year, rollcall)\n",
      "  File \"/Users/benellis/Projects/congress/congress/etl/house_votes.py\", line 183, in roll_call_single_to_psql\n",
      "    df = self.roll_call_single(year, roll)\n",
      "  File \"/Users/benellis/Projects/congress/congress/etl/house_votes.py\", line 142, in roll_call_single\n",
      "    chamber = soup.find('chamber').text\n",
      "AttributeError: 'NoneType' object has no attribute 'text'\n"
     ]
    },
    {
     "name": "stdout",
     "output_type": "stream",
     "text": [
      "http://clerk.house.gov/evs/2007/roll731.xml\n"
     ]
    },
    {
     "name": "stderr",
     "output_type": "stream",
     "text": [
      "Traceback (most recent call last):\n",
      "  File \"<ipython-input-8-530adc215787>\", line 7, in house_rollcall_individual_parallel\n",
      "    obj.roll_call_single_to_psql(year, rollcall)\n",
      "  File \"/Users/benellis/Projects/congress/congress/etl/house_votes.py\", line 183, in roll_call_single_to_psql\n",
      "    df = self.roll_call_single(year, roll)\n",
      "  File \"/Users/benellis/Projects/congress/congress/etl/house_votes.py\", line 142, in roll_call_single\n",
      "    chamber = soup.find('chamber').text\n",
      "AttributeError: 'NoneType' object has no attribute 'text'\n"
     ]
    },
    {
     "name": "stdout",
     "output_type": "stream",
     "text": [
      "http://clerk.house.gov/evs/2007/roll730.xml\n"
     ]
    },
    {
     "name": "stderr",
     "output_type": "stream",
     "text": [
      "Traceback (most recent call last):\n",
      "  File \"<ipython-input-8-530adc215787>\", line 7, in house_rollcall_individual_parallel\n",
      "    obj.roll_call_single_to_psql(year, rollcall)\n",
      "  File \"/Users/benellis/Projects/congress/congress/etl/house_votes.py\", line 183, in roll_call_single_to_psql\n",
      "    df = self.roll_call_single(year, roll)\n",
      "  File \"/Users/benellis/Projects/congress/congress/etl/house_votes.py\", line 142, in roll_call_single\n",
      "    chamber = soup.find('chamber').text\n",
      "AttributeError: 'NoneType' object has no attribute 'text'\n"
     ]
    },
    {
     "name": "stdout",
     "output_type": "stream",
     "text": [
      "http://clerk.house.gov/evs/2007/roll729.xml\n",
      "http://clerk.house.gov/evs/2005/roll550.xml\n"
     ]
    },
    {
     "name": "stderr",
     "output_type": "stream",
     "text": [
      "Traceback (most recent call last):\n",
      "  File \"<ipython-input-8-530adc215787>\", line 7, in house_rollcall_individual_parallel\n",
      "    obj.roll_call_single_to_psql(year, rollcall)\n",
      "  File \"/Users/benellis/Projects/congress/congress/etl/house_votes.py\", line 183, in roll_call_single_to_psql\n",
      "    df = self.roll_call_single(year, roll)\n",
      "  File \"/Users/benellis/Projects/congress/congress/etl/house_votes.py\", line 142, in roll_call_single\n",
      "    chamber = soup.find('chamber').text\n"
     ]
    },
    {
     "name": "stdout",
     "output_type": "stream",
     "text": [
      "http://clerk.house.gov/evs/2003/roll667.xml\n"
     ]
    },
    {
     "name": "stderr",
     "output_type": "stream",
     "text": [
      "AttributeError: 'NoneType' object has no attribute 'text'\n"
     ]
    },
    {
     "name": "stdout",
     "output_type": "stream",
     "text": [
      "http://clerk.house.gov/evs/2007/roll728.xml\n"
     ]
    },
    {
     "name": "stderr",
     "output_type": "stream",
     "text": [
      "Traceback (most recent call last):\n",
      "  File \"<ipython-input-8-530adc215787>\", line 7, in house_rollcall_individual_parallel\n",
      "    obj.roll_call_single_to_psql(year, rollcall)\n",
      "  File \"/Users/benellis/Projects/congress/congress/etl/house_votes.py\", line 183, in roll_call_single_to_psql\n",
      "    df = self.roll_call_single(year, roll)\n",
      "  File \"/Users/benellis/Projects/congress/congress/etl/house_votes.py\", line 142, in roll_call_single\n",
      "    chamber = soup.find('chamber').text\n",
      "AttributeError: 'NoneType' object has no attribute 'text'\n"
     ]
    },
    {
     "name": "stdout",
     "output_type": "stream",
     "text": [
      "http://clerk.house.gov/evs/2007/roll727.xml\n"
     ]
    },
    {
     "name": "stderr",
     "output_type": "stream",
     "text": [
      "Traceback (most recent call last):\n",
      "  File \"<ipython-input-8-530adc215787>\", line 7, in house_rollcall_individual_parallel\n",
      "    obj.roll_call_single_to_psql(year, rollcall)\n",
      "  File \"/Users/benellis/Projects/congress/congress/etl/house_votes.py\", line 183, in roll_call_single_to_psql\n",
      "    df = self.roll_call_single(year, roll)\n",
      "  File \"/Users/benellis/Projects/congress/congress/etl/house_votes.py\", line 142, in roll_call_single\n",
      "    chamber = soup.find('chamber').text\n",
      "AttributeError: 'NoneType' object has no attribute 'text'\n"
     ]
    },
    {
     "name": "stdout",
     "output_type": "stream",
     "text": [
      "http://clerk.house.gov/evs/2007/roll726.xml\n",
      "http://clerk.house.gov/evs/2008/roll332.xml\n"
     ]
    },
    {
     "name": "stderr",
     "output_type": "stream",
     "text": [
      "Traceback (most recent call last):\n",
      "  File \"<ipython-input-8-530adc215787>\", line 7, in house_rollcall_individual_parallel\n",
      "    obj.roll_call_single_to_psql(year, rollcall)\n",
      "  File \"/Users/benellis/Projects/congress/congress/etl/house_votes.py\", line 183, in roll_call_single_to_psql\n",
      "    df = self.roll_call_single(year, roll)\n",
      "  File \"/Users/benellis/Projects/congress/congress/etl/house_votes.py\", line 142, in roll_call_single\n",
      "    chamber = soup.find('chamber').text\n",
      "AttributeError: 'NoneType' object has no attribute 'text'\n"
     ]
    },
    {
     "name": "stdout",
     "output_type": "stream",
     "text": [
      "http://clerk.house.gov/evs/2007/roll725.xml\n"
     ]
    },
    {
     "name": "stderr",
     "output_type": "stream",
     "text": [
      "Traceback (most recent call last):\n",
      "  File \"<ipython-input-8-530adc215787>\", line 7, in house_rollcall_individual_parallel\n",
      "    obj.roll_call_single_to_psql(year, rollcall)\n",
      "  File \"/Users/benellis/Projects/congress/congress/etl/house_votes.py\", line 183, in roll_call_single_to_psql\n",
      "    df = self.roll_call_single(year, roll)\n",
      "  File \"/Users/benellis/Projects/congress/congress/etl/house_votes.py\", line 142, in roll_call_single\n",
      "    chamber = soup.find('chamber').text\n",
      "AttributeError: 'NoneType' object has no attribute 'text'\n"
     ]
    },
    {
     "name": "stdout",
     "output_type": "stream",
     "text": [
      "http://clerk.house.gov/evs/2007/roll724.xml\n"
     ]
    },
    {
     "name": "stderr",
     "output_type": "stream",
     "text": [
      "Traceback (most recent call last):\n",
      "  File \"<ipython-input-8-530adc215787>\", line 7, in house_rollcall_individual_parallel\n",
      "    obj.roll_call_single_to_psql(year, rollcall)\n",
      "  File \"/Users/benellis/Projects/congress/congress/etl/house_votes.py\", line 183, in roll_call_single_to_psql\n",
      "    df = self.roll_call_single(year, roll)\n",
      "  File \"/Users/benellis/Projects/congress/congress/etl/house_votes.py\", line 142, in roll_call_single\n",
      "    chamber = soup.find('chamber').text\n",
      "AttributeError: 'NoneType' object has no attribute 'text'\n"
     ]
    },
    {
     "name": "stdout",
     "output_type": "stream",
     "text": [
      "http://clerk.house.gov/evs/2007/roll723.xml\n",
      "http://clerk.house.gov/evs/2005/roll549.xml\n"
     ]
    },
    {
     "name": "stderr",
     "output_type": "stream",
     "text": [
      "Traceback (most recent call last):\n",
      "  File \"<ipython-input-8-530adc215787>\", line 7, in house_rollcall_individual_parallel\n",
      "    obj.roll_call_single_to_psql(year, rollcall)\n",
      "  File \"/Users/benellis/Projects/congress/congress/etl/house_votes.py\", line 183, in roll_call_single_to_psql\n",
      "    df = self.roll_call_single(year, roll)\n",
      "  File \"/Users/benellis/Projects/congress/congress/etl/house_votes.py\", line 142, in roll_call_single\n",
      "    chamber = soup.find('chamber').text\n",
      "AttributeError: 'NoneType' object has no attribute 'text'\n"
     ]
    },
    {
     "name": "stdout",
     "output_type": "stream",
     "text": [
      "http://clerk.house.gov/evs/2007/roll722.xml\n",
      "http://clerk.house.gov/evs/2003/roll666.xml\n"
     ]
    },
    {
     "name": "stderr",
     "output_type": "stream",
     "text": [
      "Traceback (most recent call last):\n",
      "  File \"<ipython-input-8-530adc215787>\", line 7, in house_rollcall_individual_parallel\n",
      "    obj.roll_call_single_to_psql(year, rollcall)\n",
      "  File \"/Users/benellis/Projects/congress/congress/etl/house_votes.py\", line 183, in roll_call_single_to_psql\n",
      "    df = self.roll_call_single(year, roll)\n",
      "  File \"/Users/benellis/Projects/congress/congress/etl/house_votes.py\", line 142, in roll_call_single\n",
      "    chamber = soup.find('chamber').text\n",
      "AttributeError: 'NoneType' object has no attribute 'text'\n"
     ]
    },
    {
     "name": "stdout",
     "output_type": "stream",
     "text": [
      "http://clerk.house.gov/evs/2007/roll721.xml\n"
     ]
    },
    {
     "name": "stderr",
     "output_type": "stream",
     "text": [
      "Traceback (most recent call last):\n",
      "  File \"<ipython-input-8-530adc215787>\", line 7, in house_rollcall_individual_parallel\n",
      "    obj.roll_call_single_to_psql(year, rollcall)\n",
      "  File \"/Users/benellis/Projects/congress/congress/etl/house_votes.py\", line 183, in roll_call_single_to_psql\n",
      "    df = self.roll_call_single(year, roll)\n",
      "  File \"/Users/benellis/Projects/congress/congress/etl/house_votes.py\", line 142, in roll_call_single\n",
      "    chamber = soup.find('chamber').text\n",
      "AttributeError: 'NoneType' object has no attribute 'text'\n"
     ]
    },
    {
     "name": "stdout",
     "output_type": "stream",
     "text": [
      "http://clerk.house.gov/evs/2007/roll720.xml\n",
      "http://clerk.house.gov/evs/2008/roll331.xml\n"
     ]
    },
    {
     "name": "stderr",
     "output_type": "stream",
     "text": [
      "Traceback (most recent call last):\n",
      "  File \"<ipython-input-8-530adc215787>\", line 7, in house_rollcall_individual_parallel\n",
      "    obj.roll_call_single_to_psql(year, rollcall)\n",
      "  File \"/Users/benellis/Projects/congress/congress/etl/house_votes.py\", line 183, in roll_call_single_to_psql\n",
      "    df = self.roll_call_single(year, roll)\n",
      "  File \"/Users/benellis/Projects/congress/congress/etl/house_votes.py\", line 142, in roll_call_single\n",
      "    chamber = soup.find('chamber').text\n",
      "AttributeError: 'NoneType' object has no attribute 'text'\n"
     ]
    },
    {
     "name": "stdout",
     "output_type": "stream",
     "text": [
      "http://clerk.house.gov/evs/2007/roll719.xml\n",
      "http://clerk.house.gov/evs/2003/roll665.xml\n",
      "http://clerk.house.gov/evs/2005/roll548.xml\n",
      "http://clerk.house.gov/evs/2008/roll330.xml\n",
      "http://clerk.house.gov/evs/2007/roll718.xml\n",
      "http://clerk.house.gov/evs/2005/roll547.xml\n",
      "http://clerk.house.gov/evs/2003/roll664.xml\n",
      "http://clerk.house.gov/evs/2007/roll717.xml\n",
      "http://clerk.house.gov/evs/2008/roll329.xml\n",
      "http://clerk.house.gov/evs/2005/roll544.xml\n",
      "http://clerk.house.gov/evs/2003/roll663.xml\n",
      "http://clerk.house.gov/evs/2007/roll716.xml\n",
      "http://clerk.house.gov/evs/2008/roll328.xml\n",
      "http://clerk.house.gov/evs/2005/roll543.xml\n",
      "http://clerk.house.gov/evs/2003/roll662.xml\n",
      "http://clerk.house.gov/evs/2007/roll715.xml\n",
      "http://clerk.house.gov/evs/2008/roll327.xml\n",
      "http://clerk.house.gov/evs/2005/roll542.xml\n",
      "http://clerk.house.gov/evs/2003/roll661.xml\n",
      "http://clerk.house.gov/evs/2007/roll714.xml\n",
      "http://clerk.house.gov/evs/2008/roll326.xml\n",
      "http://clerk.house.gov/evs/2005/roll541.xml\n",
      "http://clerk.house.gov/evs/2003/roll660.xml\n",
      "http://clerk.house.gov/evs/2007/roll713.xml\n",
      "http://clerk.house.gov/evs/2008/roll325.xml\n"
     ]
    },
    {
     "name": "stderr",
     "output_type": "stream",
     "text": [
      "Traceback (most recent call last):\n",
      "  File \"<ipython-input-8-530adc215787>\", line 7, in house_rollcall_individual_parallel\n",
      "    obj.roll_call_single_to_psql(year, rollcall)\n",
      "  File \"/Users/benellis/Projects/congress/congress/etl/house_votes.py\", line 183, in roll_call_single_to_psql\n",
      "    df = self.roll_call_single(year, roll)\n",
      "  File \"/Users/benellis/Projects/congress/congress/etl/house_votes.py\", line 142, in roll_call_single\n",
      "    chamber = soup.find('chamber').text\n",
      "AttributeError: 'NoneType' object has no attribute 'text'\n"
     ]
    },
    {
     "name": "stdout",
     "output_type": "stream",
     "text": [
      "http://clerk.house.gov/evs/2007/roll712.xml\n"
     ]
    },
    {
     "name": "stderr",
     "output_type": "stream",
     "text": [
      "Traceback (most recent call last):\n",
      "  File \"<ipython-input-8-530adc215787>\", line 7, in house_rollcall_individual_parallel\n",
      "    obj.roll_call_single_to_psql(year, rollcall)\n",
      "  File \"/Users/benellis/Projects/congress/congress/etl/house_votes.py\", line 183, in roll_call_single_to_psql\n",
      "    df = self.roll_call_single(year, roll)\n",
      "  File \"/Users/benellis/Projects/congress/congress/etl/house_votes.py\", line 142, in roll_call_single\n",
      "    chamber = soup.find('chamber').text\n",
      "AttributeError: 'NoneType' object has no attribute 'text'\n"
     ]
    },
    {
     "name": "stdout",
     "output_type": "stream",
     "text": [
      "http://clerk.house.gov/evs/2007/roll711.xml\n",
      "http://clerk.house.gov/evs/2005/roll539.xml\n"
     ]
    },
    {
     "name": "stderr",
     "output_type": "stream",
     "text": [
      "Traceback (most recent call last):\n",
      "  File \"<ipython-input-8-530adc215787>\", line 7, in house_rollcall_individual_parallel\n",
      "    obj.roll_call_single_to_psql(year, rollcall)\n",
      "  File \"/Users/benellis/Projects/congress/congress/etl/house_votes.py\", line 183, in roll_call_single_to_psql\n",
      "    df = self.roll_call_single(year, roll)\n",
      "  File \"/Users/benellis/Projects/congress/congress/etl/house_votes.py\", line 142, in roll_call_single\n",
      "    chamber = soup.find('chamber').text\n",
      "AttributeError: 'NoneType' object has no attribute 'text'\n"
     ]
    },
    {
     "name": "stdout",
     "output_type": "stream",
     "text": [
      "http://clerk.house.gov/evs/2007/roll710.xml\n",
      "http://clerk.house.gov/evs/2004/roll067.xml\n"
     ]
    },
    {
     "name": "stderr",
     "output_type": "stream",
     "text": [
      "Traceback (most recent call last):\n",
      "  File \"<ipython-input-8-530adc215787>\", line 7, in house_rollcall_individual_parallel\n",
      "    obj.roll_call_single_to_psql(year, rollcall)\n",
      "  File \"/Users/benellis/Projects/congress/congress/etl/house_votes.py\", line 183, in roll_call_single_to_psql\n",
      "    df = self.roll_call_single(year, roll)\n",
      "  File \"/Users/benellis/Projects/congress/congress/etl/house_votes.py\", line 142, in roll_call_single\n",
      "    chamber = soup.find('chamber').text\n",
      "AttributeError: 'NoneType' object has no attribute 'text'\n"
     ]
    },
    {
     "name": "stdout",
     "output_type": "stream",
     "text": [
      "http://clerk.house.gov/evs/2007/roll709.xml\n"
     ]
    },
    {
     "name": "stderr",
     "output_type": "stream",
     "text": [
      "Traceback (most recent call last):\n",
      "  File \"<ipython-input-8-530adc215787>\", line 7, in house_rollcall_individual_parallel\n",
      "    obj.roll_call_single_to_psql(year, rollcall)\n",
      "  File \"/Users/benellis/Projects/congress/congress/etl/house_votes.py\", line 183, in roll_call_single_to_psql\n",
      "    df = self.roll_call_single(year, roll)\n",
      "  File \"/Users/benellis/Projects/congress/congress/etl/house_votes.py\", line 142, in roll_call_single\n",
      "    chamber = soup.find('chamber').text\n",
      "AttributeError: 'NoneType' object has no attribute 'text'\n"
     ]
    },
    {
     "name": "stdout",
     "output_type": "stream",
     "text": [
      "http://clerk.house.gov/evs/2007/roll708.xml\n"
     ]
    },
    {
     "name": "stderr",
     "output_type": "stream",
     "text": [
      "Traceback (most recent call last):\n",
      "  File \"<ipython-input-8-530adc215787>\", line 7, in house_rollcall_individual_parallel\n",
      "    obj.roll_call_single_to_psql(year, rollcall)\n",
      "  File \"/Users/benellis/Projects/congress/congress/etl/house_votes.py\", line 183, in roll_call_single_to_psql\n",
      "    df = self.roll_call_single(year, roll)\n",
      "  File \"/Users/benellis/Projects/congress/congress/etl/house_votes.py\", line 142, in roll_call_single\n",
      "    chamber = soup.find('chamber').text\n",
      "AttributeError: 'NoneType' object has no attribute 'text'\n"
     ]
    },
    {
     "name": "stdout",
     "output_type": "stream",
     "text": [
      "http://clerk.house.gov/evs/2007/roll706.xml\n",
      "http://clerk.house.gov/evs/2008/roll324.xml\n"
     ]
    },
    {
     "name": "stderr",
     "output_type": "stream",
     "text": [
      "Traceback (most recent call last):\n",
      "  File \"<ipython-input-8-530adc215787>\", line 7, in house_rollcall_individual_parallel\n",
      "    obj.roll_call_single_to_psql(year, rollcall)\n",
      "  File \"/Users/benellis/Projects/congress/congress/etl/house_votes.py\", line 183, in roll_call_single_to_psql\n",
      "    df = self.roll_call_single(year, roll)\n",
      "  File \"/Users/benellis/Projects/congress/congress/etl/house_votes.py\", line 142, in roll_call_single\n",
      "    chamber = soup.find('chamber').text\n",
      "AttributeError: 'NoneType' object has no attribute 'text'\n"
     ]
    },
    {
     "name": "stdout",
     "output_type": "stream",
     "text": [
      "http://clerk.house.gov/evs/2007/roll705.xml\n"
     ]
    },
    {
     "name": "stderr",
     "output_type": "stream",
     "text": [
      "Traceback (most recent call last):\n",
      "  File \"<ipython-input-8-530adc215787>\", line 7, in house_rollcall_individual_parallel\n",
      "    obj.roll_call_single_to_psql(year, rollcall)\n",
      "  File \"/Users/benellis/Projects/congress/congress/etl/house_votes.py\", line 183, in roll_call_single_to_psql\n",
      "    df = self.roll_call_single(year, roll)\n",
      "  File \"/Users/benellis/Projects/congress/congress/etl/house_votes.py\", line 142, in roll_call_single\n",
      "    chamber = soup.find('chamber').text\n",
      "AttributeError: 'NoneType' object has no attribute 'text'\n"
     ]
    },
    {
     "name": "stdout",
     "output_type": "stream",
     "text": [
      "http://clerk.house.gov/evs/2007/roll704.xml\n",
      "http://clerk.house.gov/evs/2005/roll538.xml\n"
     ]
    },
    {
     "name": "stderr",
     "output_type": "stream",
     "text": [
      "Traceback (most recent call last):\n",
      "  File \"<ipython-input-8-530adc215787>\", line 7, in house_rollcall_individual_parallel\n",
      "    obj.roll_call_single_to_psql(year, rollcall)\n",
      "  File \"/Users/benellis/Projects/congress/congress/etl/house_votes.py\", line 183, in roll_call_single_to_psql\n",
      "    df = self.roll_call_single(year, roll)\n",
      "  File \"/Users/benellis/Projects/congress/congress/etl/house_votes.py\", line 142, in roll_call_single\n",
      "    chamber = soup.find('chamber').text\n",
      "AttributeError: 'NoneType' object has no attribute 'text'\n"
     ]
    },
    {
     "name": "stdout",
     "output_type": "stream",
     "text": [
      "http://clerk.house.gov/evs/2007/roll703.xml\n",
      "http://clerk.house.gov/evs/2003/roll659.xml\n"
     ]
    },
    {
     "name": "stderr",
     "output_type": "stream",
     "text": [
      "Traceback (most recent call last):\n",
      "  File \"<ipython-input-8-530adc215787>\", line 7, in house_rollcall_individual_parallel\n",
      "    obj.roll_call_single_to_psql(year, rollcall)\n",
      "  File \"/Users/benellis/Projects/congress/congress/etl/house_votes.py\", line 183, in roll_call_single_to_psql\n",
      "    df = self.roll_call_single(year, roll)\n",
      "  File \"/Users/benellis/Projects/congress/congress/etl/house_votes.py\", line 142, in roll_call_single\n",
      "    chamber = soup.find('chamber').text\n",
      "AttributeError: 'NoneType' object has no attribute 'text'\n"
     ]
    },
    {
     "name": "stdout",
     "output_type": "stream",
     "text": [
      "http://clerk.house.gov/evs/2007/roll702.xml\n"
     ]
    },
    {
     "name": "stderr",
     "output_type": "stream",
     "text": [
      "Traceback (most recent call last):\n",
      "  File \"<ipython-input-8-530adc215787>\", line 7, in house_rollcall_individual_parallel\n",
      "    obj.roll_call_single_to_psql(year, rollcall)\n",
      "  File \"/Users/benellis/Projects/congress/congress/etl/house_votes.py\", line 183, in roll_call_single_to_psql\n",
      "    df = self.roll_call_single(year, roll)\n",
      "  File \"/Users/benellis/Projects/congress/congress/etl/house_votes.py\", line 142, in roll_call_single\n",
      "    chamber = soup.find('chamber').text\n",
      "AttributeError: 'NoneType' object has no attribute 'text'\n"
     ]
    },
    {
     "name": "stdout",
     "output_type": "stream",
     "text": [
      "http://clerk.house.gov/evs/2007/roll701.xml\n",
      "http://clerk.house.gov/evs/2008/roll323.xml\n"
     ]
    },
    {
     "name": "stderr",
     "output_type": "stream",
     "text": [
      "Traceback (most recent call last):\n",
      "  File \"<ipython-input-8-530adc215787>\", line 7, in house_rollcall_individual_parallel\n",
      "    obj.roll_call_single_to_psql(year, rollcall)\n",
      "  File \"/Users/benellis/Projects/congress/congress/etl/house_votes.py\", line 183, in roll_call_single_to_psql\n",
      "    df = self.roll_call_single(year, roll)\n",
      "  File \"/Users/benellis/Projects/congress/congress/etl/house_votes.py\", line 142, in roll_call_single\n",
      "    chamber = soup.find('chamber').text\n",
      "AttributeError: 'NoneType' object has no attribute 'text'\n"
     ]
    },
    {
     "name": "stdout",
     "output_type": "stream",
     "text": [
      "http://clerk.house.gov/evs/2007/roll700.xml\n"
     ]
    },
    {
     "name": "stderr",
     "output_type": "stream",
     "text": [
      "Traceback (most recent call last):\n",
      "  File \"<ipython-input-8-530adc215787>\", line 7, in house_rollcall_individual_parallel\n",
      "    obj.roll_call_single_to_psql(year, rollcall)\n",
      "  File \"/Users/benellis/Projects/congress/congress/etl/house_votes.py\", line 183, in roll_call_single_to_psql\n",
      "    df = self.roll_call_single(year, roll)\n",
      "  File \"/Users/benellis/Projects/congress/congress/etl/house_votes.py\", line 142, in roll_call_single\n",
      "    chamber = soup.find('chamber').text\n",
      "AttributeError: 'NoneType' object has no attribute 'text'\n"
     ]
    },
    {
     "name": "stdout",
     "output_type": "stream",
     "text": [
      "http://clerk.house.gov/evs/2007/roll899.xml\n",
      "http://clerk.house.gov/evs/2005/roll537.xml\n",
      "http://clerk.house.gov/evs/2003/roll658.xml\n",
      "http://clerk.house.gov/evs/2008/roll322.xml\n",
      "http://clerk.house.gov/evs/2007/roll898.xml\n",
      "http://clerk.house.gov/evs/2005/roll536.xml\n",
      "http://clerk.house.gov/evs/2003/roll657.xml\n",
      "http://clerk.house.gov/evs/2008/roll321.xml\n",
      "http://clerk.house.gov/evs/2007/roll897.xml\n",
      "http://clerk.house.gov/evs/2005/roll535.xml\n",
      "http://clerk.house.gov/evs/2003/roll656.xml\n",
      "http://clerk.house.gov/evs/2008/roll320.xml\n",
      "http://clerk.house.gov/evs/2007/roll896.xml\n",
      "http://clerk.house.gov/evs/2005/roll534.xml\n",
      "http://clerk.house.gov/evs/2003/roll655.xml\n",
      "http://clerk.house.gov/evs/2008/roll319.xml\n",
      "http://clerk.house.gov/evs/2007/roll895.xml\n",
      "http://clerk.house.gov/evs/2005/roll533.xml\n",
      "http://clerk.house.gov/evs/2003/roll654.xml\n",
      "http://clerk.house.gov/evs/2008/roll318.xml\n",
      "http://clerk.house.gov/evs/2007/roll894.xml\n",
      "http://clerk.house.gov/evs/2005/roll532.xml\n",
      "http://clerk.house.gov/evs/2003/roll653.xml\n",
      "http://clerk.house.gov/evs/2008/roll317.xml\n",
      "http://clerk.house.gov/evs/2007/roll893.xml\n",
      "http://clerk.house.gov/evs/2005/roll531.xml\n",
      "http://clerk.house.gov/evs/2003/roll652.xml\n",
      "http://clerk.house.gov/evs/2008/roll316.xml\n",
      "http://clerk.house.gov/evs/2007/roll892.xml\n",
      "http://clerk.house.gov/evs/2005/roll530.xml\n",
      "http://clerk.house.gov/evs/2003/roll651.xml\n",
      "http://clerk.house.gov/evs/2008/roll315.xml\n",
      "http://clerk.house.gov/evs/2007/roll891.xml\n",
      "http://clerk.house.gov/evs/2005/roll529.xml\n",
      "http://clerk.house.gov/evs/2003/roll650.xml\n",
      "http://clerk.house.gov/evs/2008/roll314.xml\n",
      "http://clerk.house.gov/evs/2007/roll890.xml\n",
      "http://clerk.house.gov/evs/2005/roll528.xml\n",
      "http://clerk.house.gov/evs/2003/roll649.xml\n",
      "http://clerk.house.gov/evs/2008/roll313.xml\n",
      "http://clerk.house.gov/evs/2007/roll889.xml\n",
      "http://clerk.house.gov/evs/2005/roll527.xml\n"
     ]
    },
    {
     "name": "stderr",
     "output_type": "stream",
     "text": [
      "Traceback (most recent call last):\n",
      "  File \"<ipython-input-8-530adc215787>\", line 7, in house_rollcall_individual_parallel\n",
      "    obj.roll_call_single_to_psql(year, rollcall)\n",
      "  File \"/Users/benellis/Projects/congress/congress/etl/house_votes.py\", line 183, in roll_call_single_to_psql\n",
      "    df = self.roll_call_single(year, roll)\n",
      "  File \"/Users/benellis/Projects/congress/congress/etl/house_votes.py\", line 142, in roll_call_single\n",
      "    chamber = soup.find('chamber').text\n",
      "AttributeError: 'NoneType' object has no attribute 'text'\n"
     ]
    },
    {
     "name": "stdout",
     "output_type": "stream",
     "text": [
      "http://clerk.house.gov/evs/2007/roll888.xml\n",
      "http://clerk.house.gov/evs/2003/roll648.xml\n",
      "http://clerk.house.gov/evs/2008/roll312.xml\n",
      "http://clerk.house.gov/evs/2005/roll526.xml\n",
      "http://clerk.house.gov/evs/2007/roll887.xml\n",
      "http://clerk.house.gov/evs/2003/roll647.xml\n",
      "http://clerk.house.gov/evs/2008/roll311.xml\n",
      "http://clerk.house.gov/evs/2005/roll525.xml\n",
      "http://clerk.house.gov/evs/2007/roll885.xml\n",
      "http://clerk.house.gov/evs/2003/roll646.xml\n",
      "http://clerk.house.gov/evs/2008/roll310.xml\n",
      "http://clerk.house.gov/evs/2005/roll524.xml\n",
      "http://clerk.house.gov/evs/2007/roll884.xml\n",
      "http://clerk.house.gov/evs/2003/roll645.xml\n",
      "http://clerk.house.gov/evs/2008/roll309.xml\n",
      "http://clerk.house.gov/evs/2005/roll523.xml\n",
      "http://clerk.house.gov/evs/2007/roll883.xml\n",
      "http://clerk.house.gov/evs/2003/roll644.xml\n",
      "http://clerk.house.gov/evs/2008/roll308.xml\n",
      "http://clerk.house.gov/evs/2007/roll882.xml\n",
      "http://clerk.house.gov/evs/2005/roll522.xml\n"
     ]
    },
    {
     "name": "stderr",
     "output_type": "stream",
     "text": [
      "Traceback (most recent call last):\n",
      "  File \"<ipython-input-8-530adc215787>\", line 7, in house_rollcall_individual_parallel\n",
      "    obj.roll_call_single_to_psql(year, rollcall)\n",
      "  File \"/Users/benellis/Projects/congress/congress/etl/house_votes.py\", line 183, in roll_call_single_to_psql\n",
      "    df = self.roll_call_single(year, roll)\n",
      "  File \"/Users/benellis/Projects/congress/congress/etl/house_votes.py\", line 142, in roll_call_single\n",
      "    chamber = soup.find('chamber').text\n",
      "AttributeError: 'NoneType' object has no attribute 'text'\n"
     ]
    },
    {
     "name": "stdout",
     "output_type": "stream",
     "text": [
      "http://clerk.house.gov/evs/2007/roll881.xml\n"
     ]
    },
    {
     "name": "stderr",
     "output_type": "stream",
     "text": [
      "Traceback (most recent call last):\n",
      "  File \"<ipython-input-8-530adc215787>\", line 7, in house_rollcall_individual_parallel\n",
      "    obj.roll_call_single_to_psql(year, rollcall)\n",
      "  File \"/Users/benellis/Projects/congress/congress/etl/house_votes.py\", line 183, in roll_call_single_to_psql\n",
      "    df = self.roll_call_single(year, roll)\n",
      "  File \"/Users/benellis/Projects/congress/congress/etl/house_votes.py\", line 142, in roll_call_single\n",
      "    chamber = soup.find('chamber').text\n",
      "AttributeError: 'NoneType' object has no attribute 'text'\n"
     ]
    },
    {
     "name": "stdout",
     "output_type": "stream",
     "text": [
      "http://clerk.house.gov/evs/2007/roll880.xml\n",
      "http://clerk.house.gov/evs/2003/roll643.xml\n",
      "http://clerk.house.gov/evs/2008/roll307.xml\n",
      "http://clerk.house.gov/evs/2005/roll520.xml\n",
      "http://clerk.house.gov/evs/2007/roll879.xml\n",
      "http://clerk.house.gov/evs/2003/roll642.xml\n",
      "http://clerk.house.gov/evs/2008/roll306.xml\n",
      "http://clerk.house.gov/evs/2005/roll519.xml\n",
      "http://clerk.house.gov/evs/2007/roll877.xml\n",
      "http://clerk.house.gov/evs/2003/roll641.xml\n",
      "http://clerk.house.gov/evs/2008/roll305.xml\n",
      "http://clerk.house.gov/evs/2005/roll518.xml\n",
      "http://clerk.house.gov/evs/2007/roll876.xml\n",
      "http://clerk.house.gov/evs/2003/roll640.xml\n",
      "http://clerk.house.gov/evs/2008/roll304.xml\n",
      "http://clerk.house.gov/evs/2007/roll875.xml\n",
      "http://clerk.house.gov/evs/2005/roll517.xml\n",
      "http://clerk.house.gov/evs/2003/roll639.xml\n",
      "http://clerk.house.gov/evs/2008/roll303.xml\n",
      "http://clerk.house.gov/evs/2007/roll874.xml\n",
      "http://clerk.house.gov/evs/2005/roll515.xml\n"
     ]
    },
    {
     "name": "stderr",
     "output_type": "stream",
     "text": [
      "Traceback (most recent call last):\n",
      "  File \"<ipython-input-8-530adc215787>\", line 7, in house_rollcall_individual_parallel\n",
      "    obj.roll_call_single_to_psql(year, rollcall)\n",
      "  File \"/Users/benellis/Projects/congress/congress/etl/house_votes.py\", line 183, in roll_call_single_to_psql\n",
      "    df = self.roll_call_single(year, roll)\n",
      "  File \"/Users/benellis/Projects/congress/congress/etl/house_votes.py\", line 142, in roll_call_single\n",
      "    chamber = soup.find('chamber').text\n",
      "AttributeError: 'NoneType' object has no attribute 'text'\n"
     ]
    },
    {
     "name": "stdout",
     "output_type": "stream",
     "text": [
      "http://clerk.house.gov/evs/2007/roll873.xml\n",
      "http://clerk.house.gov/evs/2003/roll638.xml\n"
     ]
    },
    {
     "name": "stderr",
     "output_type": "stream",
     "text": [
      "Traceback (most recent call last):\n",
      "  File \"<ipython-input-8-530adc215787>\", line 7, in house_rollcall_individual_parallel\n",
      "    obj.roll_call_single_to_psql(year, rollcall)\n",
      "  File \"/Users/benellis/Projects/congress/congress/etl/house_votes.py\", line 183, in roll_call_single_to_psql\n",
      "    df = self.roll_call_single(year, roll)\n",
      "  File \"/Users/benellis/Projects/congress/congress/etl/house_votes.py\", line 142, in roll_call_single\n",
      "    chamber = soup.find('chamber').text\n",
      "AttributeError: 'NoneType' object has no attribute 'text'\n"
     ]
    },
    {
     "name": "stdout",
     "output_type": "stream",
     "text": [
      "http://clerk.house.gov/evs/2007/roll872.xml\n",
      "http://clerk.house.gov/evs/2008/roll302.xml\n",
      "http://clerk.house.gov/evs/2005/roll514.xml\n",
      "http://clerk.house.gov/evs/2003/roll637.xml\n",
      "http://clerk.house.gov/evs/2007/roll871.xml\n",
      "http://clerk.house.gov/evs/2008/roll301.xml\n",
      "http://clerk.house.gov/evs/2005/roll513.xml\n",
      "http://clerk.house.gov/evs/2003/roll636.xml\n",
      "http://clerk.house.gov/evs/2007/roll869.xml\n",
      "http://clerk.house.gov/evs/2008/roll300.xml\n",
      "http://clerk.house.gov/evs/2005/roll512.xml\n",
      "http://clerk.house.gov/evs/2003/roll635.xml\n",
      "http://clerk.house.gov/evs/2007/roll868.xml\n",
      "http://clerk.house.gov/evs/2005/roll511.xml\n",
      "http://clerk.house.gov/evs/2005/roll510.xml\n"
     ]
    },
    {
     "name": "stderr",
     "output_type": "stream",
     "text": [
      "Traceback (most recent call last):\n",
      "  File \"//anaconda/lib/python3.6/site-packages/urllib3/connection.py\", line 159, in _new_conn\n",
      "    (self._dns_host, self.port), self.timeout, **extra_kw)\n",
      "  File \"//anaconda/lib/python3.6/site-packages/urllib3/util/connection.py\", line 80, in create_connection\n",
      "    raise err\n",
      "  File \"//anaconda/lib/python3.6/site-packages/urllib3/util/connection.py\", line 70, in create_connection\n",
      "    sock.connect(sa)\n",
      "TimeoutError: [Errno 60] Operation timed out\n",
      "\n",
      "During handling of the above exception, another exception occurred:\n",
      "\n",
      "Traceback (most recent call last):\n",
      "  File \"//anaconda/lib/python3.6/site-packages/urllib3/connectionpool.py\", line 600, in urlopen\n",
      "    chunked=chunked)\n",
      "  File \"//anaconda/lib/python3.6/site-packages/urllib3/connectionpool.py\", line 354, in _make_request\n",
      "    conn.request(method, url, **httplib_request_kw)\n",
      "  File \"//anaconda/lib/python3.6/http/client.py\", line 1254, in request\n",
      "    self._send_request(method, url, body, headers, encode_chunked)\n",
      "  File \"//anaconda/lib/python3.6/http/client.py\", line 1300, in _send_request\n",
      "    self.endheaders(body, encode_chunked=encode_chunked)\n",
      "  File \"//anaconda/lib/python3.6/http/client.py\", line 1249, in endheaders\n",
      "    self._send_output(message_body, encode_chunked=encode_chunked)\n",
      "  File \"//anaconda/lib/python3.6/http/client.py\", line 1036, in _send_output\n",
      "    self.send(msg)\n",
      "  File \"//anaconda/lib/python3.6/http/client.py\", line 974, in send\n",
      "    self.connect()\n",
      "  File \"//anaconda/lib/python3.6/site-packages/urllib3/connection.py\", line 181, in connect\n",
      "    conn = self._new_conn()\n",
      "  File \"//anaconda/lib/python3.6/site-packages/urllib3/connection.py\", line 168, in _new_conn\n",
      "    self, \"Failed to establish a new connection: %s\" % e)\n",
      "urllib3.exceptions.NewConnectionError: <urllib3.connection.HTTPConnection object at 0x11f735e80>: Failed to establish a new connection: [Errno 60] Operation timed out\n",
      "\n",
      "During handling of the above exception, another exception occurred:\n",
      "\n",
      "Traceback (most recent call last):\n",
      "  File \"//anaconda/lib/python3.6/site-packages/requests/adapters.py\", line 449, in send\n",
      "    timeout=timeout\n",
      "  File \"//anaconda/lib/python3.6/site-packages/urllib3/connectionpool.py\", line 638, in urlopen\n",
      "    _stacktrace=sys.exc_info()[2])\n",
      "  File \"//anaconda/lib/python3.6/site-packages/urllib3/util/retry.py\", line 399, in increment\n",
      "    raise MaxRetryError(_pool, url, error or ResponseError(cause))\n",
      "urllib3.exceptions.MaxRetryError: HTTPConnectionPool(host='clerk.house.gov', port=80): Max retries exceeded with url: /evs/2008/roll300.xml (Caused by NewConnectionError('<urllib3.connection.HTTPConnection object at 0x11f735e80>: Failed to establish a new connection: [Errno 60] Operation timed out',))\n",
      "\n",
      "During handling of the above exception, another exception occurred:\n",
      "\n",
      "Traceback (most recent call last):\n",
      "  File \"<ipython-input-8-530adc215787>\", line 7, in house_rollcall_individual_parallel\n",
      "    obj.roll_call_single_to_psql(year, rollcall)\n",
      "  File \"/Users/benellis/Projects/congress/congress/etl/house_votes.py\", line 183, in roll_call_single_to_psql\n",
      "    df = self.roll_call_single(year, roll)\n",
      "  File \"/Users/benellis/Projects/congress/congress/etl/house_votes.py\", line 137, in roll_call_single\n",
      "    data = requests.get(url)\n",
      "  File \"//anaconda/lib/python3.6/site-packages/requests/api.py\", line 75, in get\n",
      "    return request('get', url, params=params, **kwargs)\n",
      "  File \"//anaconda/lib/python3.6/site-packages/requests/api.py\", line 60, in request\n",
      "    return session.request(method=method, url=url, **kwargs)\n",
      "  File \"//anaconda/lib/python3.6/site-packages/requests/sessions.py\", line 533, in request\n",
      "    resp = self.send(prep, **send_kwargs)\n",
      "  File \"//anaconda/lib/python3.6/site-packages/requests/sessions.py\", line 646, in send\n",
      "    r = adapter.send(request, **kwargs)\n",
      "  File \"//anaconda/lib/python3.6/site-packages/requests/adapters.py\", line 516, in send\n",
      "    raise ConnectionError(e, request=request)\n",
      "requests.exceptions.ConnectionError: HTTPConnectionPool(host='clerk.house.gov', port=80): Max retries exceeded with url: /evs/2008/roll300.xml (Caused by NewConnectionError('<urllib3.connection.HTTPConnection object at 0x11f735e80>: Failed to establish a new connection: [Errno 60] Operation timed out',))\n"
     ]
    },
    {
     "name": "stdout",
     "output_type": "stream",
     "text": [
      "http://clerk.house.gov/evs/2008/roll498.xml\n",
      "http://clerk.house.gov/evs/2008/roll497.xml\n",
      "http://clerk.house.gov/evs/2008/roll496.xml\n"
     ]
    },
    {
     "name": "stderr",
     "output_type": "stream",
     "text": [
      "Traceback (most recent call last):\n",
      "  File \"//anaconda/lib/python3.6/site-packages/urllib3/connection.py\", line 159, in _new_conn\n",
      "    (self._dns_host, self.port), self.timeout, **extra_kw)\n",
      "  File \"//anaconda/lib/python3.6/site-packages/urllib3/util/connection.py\", line 80, in create_connection\n",
      "    raise err\n",
      "  File \"//anaconda/lib/python3.6/site-packages/urllib3/util/connection.py\", line 70, in create_connection\n",
      "    sock.connect(sa)\n",
      "TimeoutError: [Errno 60] Operation timed out\n",
      "\n",
      "During handling of the above exception, another exception occurred:\n",
      "\n",
      "Traceback (most recent call last):\n",
      "  File \"//anaconda/lib/python3.6/site-packages/urllib3/connectionpool.py\", line 600, in urlopen\n",
      "    chunked=chunked)\n",
      "  File \"//anaconda/lib/python3.6/site-packages/urllib3/connectionpool.py\", line 354, in _make_request\n",
      "    conn.request(method, url, **httplib_request_kw)\n",
      "  File \"//anaconda/lib/python3.6/http/client.py\", line 1254, in request\n",
      "    self._send_request(method, url, body, headers, encode_chunked)\n",
      "  File \"//anaconda/lib/python3.6/http/client.py\", line 1300, in _send_request\n",
      "    self.endheaders(body, encode_chunked=encode_chunked)\n",
      "  File \"//anaconda/lib/python3.6/http/client.py\", line 1249, in endheaders\n",
      "    self._send_output(message_body, encode_chunked=encode_chunked)\n",
      "  File \"//anaconda/lib/python3.6/http/client.py\", line 1036, in _send_output\n",
      "    self.send(msg)\n",
      "  File \"//anaconda/lib/python3.6/http/client.py\", line 974, in send\n",
      "    self.connect()\n",
      "  File \"//anaconda/lib/python3.6/site-packages/urllib3/connection.py\", line 181, in connect\n",
      "    conn = self._new_conn()\n",
      "  File \"//anaconda/lib/python3.6/site-packages/urllib3/connection.py\", line 168, in _new_conn\n",
      "    self, \"Failed to establish a new connection: %s\" % e)\n",
      "urllib3.exceptions.NewConnectionError: <urllib3.connection.HTTPConnection object at 0x11fc7f908>: Failed to establish a new connection: [Errno 60] Operation timed out\n",
      "\n",
      "During handling of the above exception, another exception occurred:\n",
      "\n",
      "Traceback (most recent call last):\n",
      "  File \"//anaconda/lib/python3.6/site-packages/requests/adapters.py\", line 449, in send\n",
      "    timeout=timeout\n",
      "  File \"//anaconda/lib/python3.6/site-packages/urllib3/connectionpool.py\", line 638, in urlopen\n",
      "    _stacktrace=sys.exc_info()[2])\n",
      "  File \"//anaconda/lib/python3.6/site-packages/urllib3/util/retry.py\", line 399, in increment\n",
      "    raise MaxRetryError(_pool, url, error or ResponseError(cause))\n",
      "urllib3.exceptions.MaxRetryError: HTTPConnectionPool(host='clerk.house.gov', port=80): Max retries exceeded with url: /evs/2003/roll635.xml (Caused by NewConnectionError('<urllib3.connection.HTTPConnection object at 0x11fc7f908>: Failed to establish a new connection: [Errno 60] Operation timed out',))\n",
      "\n",
      "During handling of the above exception, another exception occurred:\n",
      "\n",
      "Traceback (most recent call last):\n",
      "  File \"<ipython-input-8-530adc215787>\", line 7, in house_rollcall_individual_parallel\n",
      "    obj.roll_call_single_to_psql(year, rollcall)\n",
      "  File \"/Users/benellis/Projects/congress/congress/etl/house_votes.py\", line 183, in roll_call_single_to_psql\n",
      "    df = self.roll_call_single(year, roll)\n",
      "  File \"/Users/benellis/Projects/congress/congress/etl/house_votes.py\", line 137, in roll_call_single\n",
      "    data = requests.get(url)\n",
      "  File \"//anaconda/lib/python3.6/site-packages/requests/api.py\", line 75, in get\n",
      "    return request('get', url, params=params, **kwargs)\n",
      "  File \"//anaconda/lib/python3.6/site-packages/requests/api.py\", line 60, in request\n",
      "    return session.request(method=method, url=url, **kwargs)\n",
      "  File \"//anaconda/lib/python3.6/site-packages/requests/sessions.py\", line 533, in request\n",
      "    resp = self.send(prep, **send_kwargs)\n",
      "  File \"//anaconda/lib/python3.6/site-packages/requests/sessions.py\", line 646, in send\n",
      "    r = adapter.send(request, **kwargs)\n",
      "  File \"//anaconda/lib/python3.6/site-packages/requests/adapters.py\", line 516, in send\n",
      "    raise ConnectionError(e, request=request)\n",
      "requests.exceptions.ConnectionError: HTTPConnectionPool(host='clerk.house.gov', port=80): Max retries exceeded with url: /evs/2003/roll635.xml (Caused by NewConnectionError('<urllib3.connection.HTTPConnection object at 0x11fc7f908>: Failed to establish a new connection: [Errno 60] Operation timed out',))\n"
     ]
    },
    {
     "name": "stdout",
     "output_type": "stream",
     "text": [
      "http://clerk.house.gov/evs/2003/roll634.xml\n"
     ]
    },
    {
     "name": "stderr",
     "output_type": "stream",
     "text": [
      "Traceback (most recent call last):\n",
      "  File \"//anaconda/lib/python3.6/site-packages/urllib3/connection.py\", line 159, in _new_conn\n",
      "    (self._dns_host, self.port), self.timeout, **extra_kw)\n",
      "  File \"//anaconda/lib/python3.6/site-packages/urllib3/util/connection.py\", line 80, in create_connection\n",
      "    raise err\n",
      "  File \"//anaconda/lib/python3.6/site-packages/urllib3/util/connection.py\", line 70, in create_connection\n",
      "    sock.connect(sa)\n",
      "TimeoutError: [Errno 60] Operation timed out\n",
      "\n",
      "During handling of the above exception, another exception occurred:\n",
      "\n",
      "Traceback (most recent call last):\n",
      "  File \"//anaconda/lib/python3.6/site-packages/urllib3/connectionpool.py\", line 600, in urlopen\n",
      "    chunked=chunked)\n",
      "  File \"//anaconda/lib/python3.6/site-packages/urllib3/connectionpool.py\", line 354, in _make_request\n",
      "    conn.request(method, url, **httplib_request_kw)\n",
      "  File \"//anaconda/lib/python3.6/http/client.py\", line 1254, in request\n",
      "    self._send_request(method, url, body, headers, encode_chunked)\n",
      "  File \"//anaconda/lib/python3.6/http/client.py\", line 1300, in _send_request\n",
      "    self.endheaders(body, encode_chunked=encode_chunked)\n",
      "  File \"//anaconda/lib/python3.6/http/client.py\", line 1249, in endheaders\n",
      "    self._send_output(message_body, encode_chunked=encode_chunked)\n",
      "  File \"//anaconda/lib/python3.6/http/client.py\", line 1036, in _send_output\n",
      "    self.send(msg)\n",
      "  File \"//anaconda/lib/python3.6/http/client.py\", line 974, in send\n",
      "    self.connect()\n",
      "  File \"//anaconda/lib/python3.6/site-packages/urllib3/connection.py\", line 181, in connect\n",
      "    conn = self._new_conn()\n",
      "  File \"//anaconda/lib/python3.6/site-packages/urllib3/connection.py\", line 168, in _new_conn\n",
      "    self, \"Failed to establish a new connection: %s\" % e)\n",
      "urllib3.exceptions.NewConnectionError: <urllib3.connection.HTTPConnection object at 0x10c1f0630>: Failed to establish a new connection: [Errno 60] Operation timed out\n",
      "\n",
      "During handling of the above exception, another exception occurred:\n",
      "\n",
      "Traceback (most recent call last):\n",
      "  File \"//anaconda/lib/python3.6/site-packages/requests/adapters.py\", line 449, in send\n",
      "    timeout=timeout\n",
      "  File \"//anaconda/lib/python3.6/site-packages/urllib3/connectionpool.py\", line 638, in urlopen\n",
      "    _stacktrace=sys.exc_info()[2])\n",
      "  File \"//anaconda/lib/python3.6/site-packages/urllib3/util/retry.py\", line 399, in increment\n",
      "    raise MaxRetryError(_pool, url, error or ResponseError(cause))\n",
      "urllib3.exceptions.MaxRetryError: HTTPConnectionPool(host='clerk.house.gov', port=80): Max retries exceeded with url: /evs/2007/roll868.xml (Caused by NewConnectionError('<urllib3.connection.HTTPConnection object at 0x10c1f0630>: Failed to establish a new connection: [Errno 60] Operation timed out',))\n",
      "\n",
      "During handling of the above exception, another exception occurred:\n",
      "\n",
      "Traceback (most recent call last):\n",
      "  File \"<ipython-input-8-530adc215787>\", line 7, in house_rollcall_individual_parallel\n",
      "    obj.roll_call_single_to_psql(year, rollcall)\n",
      "  File \"/Users/benellis/Projects/congress/congress/etl/house_votes.py\", line 183, in roll_call_single_to_psql\n",
      "    df = self.roll_call_single(year, roll)\n",
      "  File \"/Users/benellis/Projects/congress/congress/etl/house_votes.py\", line 137, in roll_call_single\n",
      "    data = requests.get(url)\n",
      "  File \"//anaconda/lib/python3.6/site-packages/requests/api.py\", line 75, in get\n",
      "    return request('get', url, params=params, **kwargs)\n",
      "  File \"//anaconda/lib/python3.6/site-packages/requests/api.py\", line 60, in request\n",
      "    return session.request(method=method, url=url, **kwargs)\n",
      "  File \"//anaconda/lib/python3.6/site-packages/requests/sessions.py\", line 533, in request\n",
      "    resp = self.send(prep, **send_kwargs)\n",
      "  File \"//anaconda/lib/python3.6/site-packages/requests/sessions.py\", line 646, in send\n",
      "    r = adapter.send(request, **kwargs)\n",
      "  File \"//anaconda/lib/python3.6/site-packages/requests/adapters.py\", line 516, in send\n",
      "    raise ConnectionError(e, request=request)\n",
      "requests.exceptions.ConnectionError: HTTPConnectionPool(host='clerk.house.gov', port=80): Max retries exceeded with url: /evs/2007/roll868.xml (Caused by NewConnectionError('<urllib3.connection.HTTPConnection object at 0x10c1f0630>: Failed to establish a new connection: [Errno 60] Operation timed out',))\n"
     ]
    },
    {
     "name": "stdout",
     "output_type": "stream",
     "text": [
      "http://clerk.house.gov/evs/2007/roll867.xml\n"
     ]
    },
    {
     "name": "stderr",
     "output_type": "stream",
     "text": [
      "Traceback (most recent call last):\n",
      "  File \"//anaconda/lib/python3.6/site-packages/urllib3/connection.py\", line 159, in _new_conn\n",
      "    (self._dns_host, self.port), self.timeout, **extra_kw)\n",
      "  File \"//anaconda/lib/python3.6/site-packages/urllib3/util/connection.py\", line 80, in create_connection\n",
      "    raise err\n",
      "  File \"//anaconda/lib/python3.6/site-packages/urllib3/util/connection.py\", line 70, in create_connection\n",
      "    sock.connect(sa)\n",
      "TimeoutError: [Errno 60] Operation timed out\n",
      "\n",
      "During handling of the above exception, another exception occurred:\n",
      "\n",
      "Traceback (most recent call last):\n",
      "  File \"//anaconda/lib/python3.6/site-packages/urllib3/connectionpool.py\", line 600, in urlopen\n",
      "    chunked=chunked)\n",
      "  File \"//anaconda/lib/python3.6/site-packages/urllib3/connectionpool.py\", line 354, in _make_request\n",
      "    conn.request(method, url, **httplib_request_kw)\n",
      "  File \"//anaconda/lib/python3.6/http/client.py\", line 1254, in request\n",
      "    self._send_request(method, url, body, headers, encode_chunked)\n",
      "  File \"//anaconda/lib/python3.6/http/client.py\", line 1300, in _send_request\n",
      "    self.endheaders(body, encode_chunked=encode_chunked)\n",
      "  File \"//anaconda/lib/python3.6/http/client.py\", line 1249, in endheaders\n",
      "    self._send_output(message_body, encode_chunked=encode_chunked)\n",
      "  File \"//anaconda/lib/python3.6/http/client.py\", line 1036, in _send_output\n",
      "    self.send(msg)\n",
      "  File \"//anaconda/lib/python3.6/http/client.py\", line 974, in send\n",
      "    self.connect()\n",
      "  File \"//anaconda/lib/python3.6/site-packages/urllib3/connection.py\", line 181, in connect\n",
      "    conn = self._new_conn()\n",
      "  File \"//anaconda/lib/python3.6/site-packages/urllib3/connection.py\", line 168, in _new_conn\n",
      "    self, \"Failed to establish a new connection: %s\" % e)\n",
      "urllib3.exceptions.NewConnectionError: <urllib3.connection.HTTPConnection object at 0x11f4488d0>: Failed to establish a new connection: [Errno 60] Operation timed out\n",
      "\n",
      "During handling of the above exception, another exception occurred:\n",
      "\n",
      "Traceback (most recent call last):\n",
      "  File \"//anaconda/lib/python3.6/site-packages/requests/adapters.py\", line 449, in send\n",
      "    timeout=timeout\n",
      "  File \"//anaconda/lib/python3.6/site-packages/urllib3/connectionpool.py\", line 638, in urlopen\n",
      "    _stacktrace=sys.exc_info()[2])\n",
      "  File \"//anaconda/lib/python3.6/site-packages/urllib3/util/retry.py\", line 399, in increment\n",
      "    raise MaxRetryError(_pool, url, error or ResponseError(cause))\n",
      "urllib3.exceptions.MaxRetryError: HTTPConnectionPool(host='clerk.house.gov', port=80): Max retries exceeded with url: /evs/2005/roll510.xml (Caused by NewConnectionError('<urllib3.connection.HTTPConnection object at 0x11f4488d0>: Failed to establish a new connection: [Errno 60] Operation timed out',))\n",
      "\n",
      "During handling of the above exception, another exception occurred:\n",
      "\n",
      "Traceback (most recent call last):\n",
      "  File \"<ipython-input-8-530adc215787>\", line 7, in house_rollcall_individual_parallel\n",
      "    obj.roll_call_single_to_psql(year, rollcall)\n",
      "  File \"/Users/benellis/Projects/congress/congress/etl/house_votes.py\", line 183, in roll_call_single_to_psql\n",
      "    df = self.roll_call_single(year, roll)\n",
      "  File \"/Users/benellis/Projects/congress/congress/etl/house_votes.py\", line 137, in roll_call_single\n",
      "    data = requests.get(url)\n",
      "  File \"//anaconda/lib/python3.6/site-packages/requests/api.py\", line 75, in get\n",
      "    return request('get', url, params=params, **kwargs)\n",
      "  File \"//anaconda/lib/python3.6/site-packages/requests/api.py\", line 60, in request\n",
      "    return session.request(method=method, url=url, **kwargs)\n",
      "  File \"//anaconda/lib/python3.6/site-packages/requests/sessions.py\", line 533, in request\n",
      "    resp = self.send(prep, **send_kwargs)\n",
      "  File \"//anaconda/lib/python3.6/site-packages/requests/sessions.py\", line 646, in send\n",
      "    r = adapter.send(request, **kwargs)\n",
      "  File \"//anaconda/lib/python3.6/site-packages/requests/adapters.py\", line 516, in send\n",
      "    raise ConnectionError(e, request=request)\n",
      "requests.exceptions.ConnectionError: HTTPConnectionPool(host='clerk.house.gov', port=80): Max retries exceeded with url: /evs/2005/roll510.xml (Caused by NewConnectionError('<urllib3.connection.HTTPConnection object at 0x11f4488d0>: Failed to establish a new connection: [Errno 60] Operation timed out',))\n"
     ]
    },
    {
     "name": "stdout",
     "output_type": "stream",
     "text": [
      "http://clerk.house.gov/evs/2005/roll509.xml\n",
      "http://clerk.house.gov/evs/2007/roll866.xml\n",
      "http://clerk.house.gov/evs/2005/roll508.xml\n",
      "http://clerk.house.gov/evs/2007/roll865.xml\n"
     ]
    },
    {
     "name": "stderr",
     "output_type": "stream",
     "text": [
      "Traceback (most recent call last):\n",
      "  File \"//anaconda/lib/python3.6/site-packages/urllib3/connection.py\", line 159, in _new_conn\n",
      "    (self._dns_host, self.port), self.timeout, **extra_kw)\n",
      "  File \"//anaconda/lib/python3.6/site-packages/urllib3/util/connection.py\", line 80, in create_connection\n",
      "    raise err\n",
      "  File \"//anaconda/lib/python3.6/site-packages/urllib3/util/connection.py\", line 70, in create_connection\n",
      "    sock.connect(sa)\n",
      "TimeoutError: [Errno 60] Operation timed out\n",
      "\n",
      "During handling of the above exception, another exception occurred:\n",
      "\n",
      "Traceback (most recent call last):\n",
      "  File \"//anaconda/lib/python3.6/site-packages/urllib3/connectionpool.py\", line 600, in urlopen\n",
      "    chunked=chunked)\n",
      "  File \"//anaconda/lib/python3.6/site-packages/urllib3/connectionpool.py\", line 354, in _make_request\n",
      "    conn.request(method, url, **httplib_request_kw)\n",
      "  File \"//anaconda/lib/python3.6/http/client.py\", line 1254, in request\n",
      "    self._send_request(method, url, body, headers, encode_chunked)\n",
      "  File \"//anaconda/lib/python3.6/http/client.py\", line 1300, in _send_request\n",
      "    self.endheaders(body, encode_chunked=encode_chunked)\n",
      "  File \"//anaconda/lib/python3.6/http/client.py\", line 1249, in endheaders\n",
      "    self._send_output(message_body, encode_chunked=encode_chunked)\n",
      "  File \"//anaconda/lib/python3.6/http/client.py\", line 1036, in _send_output\n",
      "    self.send(msg)\n",
      "  File \"//anaconda/lib/python3.6/http/client.py\", line 974, in send\n",
      "    self.connect()\n",
      "  File \"//anaconda/lib/python3.6/site-packages/urllib3/connection.py\", line 181, in connect\n",
      "    conn = self._new_conn()\n",
      "  File \"//anaconda/lib/python3.6/site-packages/urllib3/connection.py\", line 168, in _new_conn\n",
      "    self, \"Failed to establish a new connection: %s\" % e)\n",
      "urllib3.exceptions.NewConnectionError: <urllib3.connection.HTTPConnection object at 0x120474828>: Failed to establish a new connection: [Errno 60] Operation timed out\n",
      "\n",
      "During handling of the above exception, another exception occurred:\n",
      "\n",
      "Traceback (most recent call last):\n",
      "  File \"//anaconda/lib/python3.6/site-packages/requests/adapters.py\", line 449, in send\n",
      "    timeout=timeout\n",
      "  File \"//anaconda/lib/python3.6/site-packages/urllib3/connectionpool.py\", line 638, in urlopen\n",
      "    _stacktrace=sys.exc_info()[2])\n",
      "  File \"//anaconda/lib/python3.6/site-packages/urllib3/util/retry.py\", line 399, in increment\n",
      "    raise MaxRetryError(_pool, url, error or ResponseError(cause))\n",
      "urllib3.exceptions.MaxRetryError: HTTPConnectionPool(host='clerk.house.gov', port=80): Max retries exceeded with url: /evs/2008/roll496.xml (Caused by NewConnectionError('<urllib3.connection.HTTPConnection object at 0x120474828>: Failed to establish a new connection: [Errno 60] Operation timed out',))\n",
      "\n",
      "During handling of the above exception, another exception occurred:\n",
      "\n",
      "Traceback (most recent call last):\n",
      "  File \"<ipython-input-8-530adc215787>\", line 7, in house_rollcall_individual_parallel\n",
      "    obj.roll_call_single_to_psql(year, rollcall)\n",
      "  File \"/Users/benellis/Projects/congress/congress/etl/house_votes.py\", line 183, in roll_call_single_to_psql\n",
      "    df = self.roll_call_single(year, roll)\n",
      "  File \"/Users/benellis/Projects/congress/congress/etl/house_votes.py\", line 137, in roll_call_single\n",
      "    data = requests.get(url)\n",
      "  File \"//anaconda/lib/python3.6/site-packages/requests/api.py\", line 75, in get\n",
      "    return request('get', url, params=params, **kwargs)\n",
      "  File \"//anaconda/lib/python3.6/site-packages/requests/api.py\", line 60, in request\n",
      "    return session.request(method=method, url=url, **kwargs)\n",
      "  File \"//anaconda/lib/python3.6/site-packages/requests/sessions.py\", line 533, in request\n",
      "    resp = self.send(prep, **send_kwargs)\n",
      "  File \"//anaconda/lib/python3.6/site-packages/requests/sessions.py\", line 646, in send\n",
      "    r = adapter.send(request, **kwargs)\n",
      "  File \"//anaconda/lib/python3.6/site-packages/requests/adapters.py\", line 516, in send\n",
      "    raise ConnectionError(e, request=request)\n",
      "requests.exceptions.ConnectionError: HTTPConnectionPool(host='clerk.house.gov', port=80): Max retries exceeded with url: /evs/2008/roll496.xml (Caused by NewConnectionError('<urllib3.connection.HTTPConnection object at 0x120474828>: Failed to establish a new connection: [Errno 60] Operation timed out',))\n"
     ]
    },
    {
     "name": "stdout",
     "output_type": "stream",
     "text": [
      "http://clerk.house.gov/evs/2008/roll495.xml\n"
     ]
    },
    {
     "name": "stderr",
     "output_type": "stream",
     "text": [
      "Traceback (most recent call last):\n",
      "  File \"//anaconda/lib/python3.6/site-packages/urllib3/connection.py\", line 159, in _new_conn\n",
      "    (self._dns_host, self.port), self.timeout, **extra_kw)\n",
      "  File \"//anaconda/lib/python3.6/site-packages/urllib3/util/connection.py\", line 80, in create_connection\n",
      "    raise err\n",
      "  File \"//anaconda/lib/python3.6/site-packages/urllib3/util/connection.py\", line 70, in create_connection\n",
      "    sock.connect(sa)\n",
      "TimeoutError: [Errno 60] Operation timed out\n",
      "\n",
      "During handling of the above exception, another exception occurred:\n",
      "\n",
      "Traceback (most recent call last):\n",
      "  File \"//anaconda/lib/python3.6/site-packages/urllib3/connectionpool.py\", line 600, in urlopen\n",
      "    chunked=chunked)\n",
      "  File \"//anaconda/lib/python3.6/site-packages/urllib3/connectionpool.py\", line 354, in _make_request\n",
      "    conn.request(method, url, **httplib_request_kw)\n",
      "  File \"//anaconda/lib/python3.6/http/client.py\", line 1254, in request\n",
      "    self._send_request(method, url, body, headers, encode_chunked)\n",
      "  File \"//anaconda/lib/python3.6/http/client.py\", line 1300, in _send_request\n",
      "    self.endheaders(body, encode_chunked=encode_chunked)\n",
      "  File \"//anaconda/lib/python3.6/http/client.py\", line 1249, in endheaders\n",
      "    self._send_output(message_body, encode_chunked=encode_chunked)\n",
      "  File \"//anaconda/lib/python3.6/http/client.py\", line 1036, in _send_output\n",
      "    self.send(msg)\n",
      "  File \"//anaconda/lib/python3.6/http/client.py\", line 974, in send\n",
      "    self.connect()\n",
      "  File \"//anaconda/lib/python3.6/site-packages/urllib3/connection.py\", line 181, in connect\n",
      "    conn = self._new_conn()\n",
      "  File \"//anaconda/lib/python3.6/site-packages/urllib3/connection.py\", line 168, in _new_conn\n",
      "    self, \"Failed to establish a new connection: %s\" % e)\n",
      "urllib3.exceptions.NewConnectionError: <urllib3.connection.HTTPConnection object at 0x11fce8550>: Failed to establish a new connection: [Errno 60] Operation timed out\n",
      "\n",
      "During handling of the above exception, another exception occurred:\n",
      "\n",
      "Traceback (most recent call last):\n",
      "  File \"//anaconda/lib/python3.6/site-packages/requests/adapters.py\", line 449, in send\n",
      "    timeout=timeout\n",
      "  File \"//anaconda/lib/python3.6/site-packages/urllib3/connectionpool.py\", line 638, in urlopen\n",
      "    _stacktrace=sys.exc_info()[2])\n",
      "  File \"//anaconda/lib/python3.6/site-packages/urllib3/util/retry.py\", line 399, in increment\n",
      "    raise MaxRetryError(_pool, url, error or ResponseError(cause))\n",
      "urllib3.exceptions.MaxRetryError: HTTPConnectionPool(host='clerk.house.gov', port=80): Max retries exceeded with url: /evs/2003/roll634.xml (Caused by NewConnectionError('<urllib3.connection.HTTPConnection object at 0x11fce8550>: Failed to establish a new connection: [Errno 60] Operation timed out',))\n",
      "\n",
      "During handling of the above exception, another exception occurred:\n",
      "\n",
      "Traceback (most recent call last):\n",
      "  File \"<ipython-input-8-530adc215787>\", line 7, in house_rollcall_individual_parallel\n",
      "    obj.roll_call_single_to_psql(year, rollcall)\n",
      "  File \"/Users/benellis/Projects/congress/congress/etl/house_votes.py\", line 183, in roll_call_single_to_psql\n",
      "    df = self.roll_call_single(year, roll)\n",
      "  File \"/Users/benellis/Projects/congress/congress/etl/house_votes.py\", line 137, in roll_call_single\n",
      "    data = requests.get(url)\n",
      "  File \"//anaconda/lib/python3.6/site-packages/requests/api.py\", line 75, in get\n",
      "    return request('get', url, params=params, **kwargs)\n",
      "  File \"//anaconda/lib/python3.6/site-packages/requests/api.py\", line 60, in request\n",
      "    return session.request(method=method, url=url, **kwargs)\n",
      "  File \"//anaconda/lib/python3.6/site-packages/requests/sessions.py\", line 533, in request\n",
      "    resp = self.send(prep, **send_kwargs)\n",
      "  File \"//anaconda/lib/python3.6/site-packages/requests/sessions.py\", line 646, in send\n",
      "    r = adapter.send(request, **kwargs)\n",
      "  File \"//anaconda/lib/python3.6/site-packages/requests/adapters.py\", line 516, in send\n",
      "    raise ConnectionError(e, request=request)\n",
      "requests.exceptions.ConnectionError: HTTPConnectionPool(host='clerk.house.gov', port=80): Max retries exceeded with url: /evs/2003/roll634.xml (Caused by NewConnectionError('<urllib3.connection.HTTPConnection object at 0x11fce8550>: Failed to establish a new connection: [Errno 60] Operation timed out',))\n"
     ]
    },
    {
     "name": "stdout",
     "output_type": "stream",
     "text": [
      "http://clerk.house.gov/evs/2003/roll633.xml\n"
     ]
    },
    {
     "name": "stderr",
     "output_type": "stream",
     "text": [
      "Traceback (most recent call last):\n",
      "  File \"//anaconda/lib/python3.6/site-packages/urllib3/connection.py\", line 159, in _new_conn\n",
      "    (self._dns_host, self.port), self.timeout, **extra_kw)\n",
      "  File \"//anaconda/lib/python3.6/site-packages/urllib3/util/connection.py\", line 80, in create_connection\n",
      "    raise err\n",
      "  File \"//anaconda/lib/python3.6/site-packages/urllib3/util/connection.py\", line 70, in create_connection\n",
      "    sock.connect(sa)\n",
      "TimeoutError: [Errno 60] Operation timed out\n",
      "\n",
      "During handling of the above exception, another exception occurred:\n",
      "\n",
      "Traceback (most recent call last):\n",
      "  File \"//anaconda/lib/python3.6/site-packages/urllib3/connectionpool.py\", line 600, in urlopen\n",
      "    chunked=chunked)\n",
      "  File \"//anaconda/lib/python3.6/site-packages/urllib3/connectionpool.py\", line 354, in _make_request\n",
      "    conn.request(method, url, **httplib_request_kw)\n",
      "  File \"//anaconda/lib/python3.6/http/client.py\", line 1254, in request\n",
      "    self._send_request(method, url, body, headers, encode_chunked)\n",
      "  File \"//anaconda/lib/python3.6/http/client.py\", line 1300, in _send_request\n",
      "    self.endheaders(body, encode_chunked=encode_chunked)\n",
      "  File \"//anaconda/lib/python3.6/http/client.py\", line 1249, in endheaders\n",
      "    self._send_output(message_body, encode_chunked=encode_chunked)\n",
      "  File \"//anaconda/lib/python3.6/http/client.py\", line 1036, in _send_output\n",
      "    self.send(msg)\n",
      "  File \"//anaconda/lib/python3.6/http/client.py\", line 974, in send\n",
      "    self.connect()\n",
      "  File \"//anaconda/lib/python3.6/site-packages/urllib3/connection.py\", line 181, in connect\n",
      "    conn = self._new_conn()\n",
      "  File \"//anaconda/lib/python3.6/site-packages/urllib3/connection.py\", line 168, in _new_conn\n",
      "    self, \"Failed to establish a new connection: %s\" % e)\n",
      "urllib3.exceptions.NewConnectionError: <urllib3.connection.HTTPConnection object at 0x11f8d9860>: Failed to establish a new connection: [Errno 60] Operation timed out\n",
      "\n",
      "During handling of the above exception, another exception occurred:\n",
      "\n",
      "Traceback (most recent call last):\n",
      "  File \"//anaconda/lib/python3.6/site-packages/requests/adapters.py\", line 449, in send\n",
      "    timeout=timeout\n",
      "  File \"//anaconda/lib/python3.6/site-packages/urllib3/connectionpool.py\", line 638, in urlopen\n",
      "    _stacktrace=sys.exc_info()[2])\n",
      "  File \"//anaconda/lib/python3.6/site-packages/urllib3/util/retry.py\", line 399, in increment\n",
      "    raise MaxRetryError(_pool, url, error or ResponseError(cause))\n",
      "urllib3.exceptions.MaxRetryError: HTTPConnectionPool(host='clerk.house.gov', port=80): Max retries exceeded with url: /evs/2005/roll508.xml (Caused by NewConnectionError('<urllib3.connection.HTTPConnection object at 0x11f8d9860>: Failed to establish a new connection: [Errno 60] Operation timed out',))\n",
      "\n",
      "During handling of the above exception, another exception occurred:\n",
      "\n",
      "Traceback (most recent call last):\n",
      "  File \"<ipython-input-8-530adc215787>\", line 7, in house_rollcall_individual_parallel\n",
      "    obj.roll_call_single_to_psql(year, rollcall)\n",
      "  File \"/Users/benellis/Projects/congress/congress/etl/house_votes.py\", line 183, in roll_call_single_to_psql\n",
      "    df = self.roll_call_single(year, roll)\n",
      "  File \"/Users/benellis/Projects/congress/congress/etl/house_votes.py\", line 137, in roll_call_single\n",
      "    data = requests.get(url)\n",
      "  File \"//anaconda/lib/python3.6/site-packages/requests/api.py\", line 75, in get\n",
      "    return request('get', url, params=params, **kwargs)\n",
      "  File \"//anaconda/lib/python3.6/site-packages/requests/api.py\", line 60, in request\n",
      "    return session.request(method=method, url=url, **kwargs)\n",
      "  File \"//anaconda/lib/python3.6/site-packages/requests/sessions.py\", line 533, in request\n",
      "    resp = self.send(prep, **send_kwargs)\n",
      "  File \"//anaconda/lib/python3.6/site-packages/requests/sessions.py\", line 646, in send\n",
      "    r = adapter.send(request, **kwargs)\n",
      "  File \"//anaconda/lib/python3.6/site-packages/requests/adapters.py\", line 516, in send\n",
      "    raise ConnectionError(e, request=request)\n",
      "requests.exceptions.ConnectionError: HTTPConnectionPool(host='clerk.house.gov', port=80): Max retries exceeded with url: /evs/2005/roll508.xml (Caused by NewConnectionError('<urllib3.connection.HTTPConnection object at 0x11f8d9860>: Failed to establish a new connection: [Errno 60] Operation timed out',))\n"
     ]
    },
    {
     "name": "stdout",
     "output_type": "stream",
     "text": [
      "http://clerk.house.gov/evs/2005/roll507.xml\n"
     ]
    },
    {
     "name": "stderr",
     "output_type": "stream",
     "text": [
      "Traceback (most recent call last):\n",
      "  File \"//anaconda/lib/python3.6/site-packages/urllib3/connection.py\", line 159, in _new_conn\n",
      "    (self._dns_host, self.port), self.timeout, **extra_kw)\n",
      "  File \"//anaconda/lib/python3.6/site-packages/urllib3/util/connection.py\", line 80, in create_connection\n",
      "    raise err\n",
      "  File \"//anaconda/lib/python3.6/site-packages/urllib3/util/connection.py\", line 70, in create_connection\n",
      "    sock.connect(sa)\n",
      "TimeoutError: [Errno 60] Operation timed out\n",
      "\n",
      "During handling of the above exception, another exception occurred:\n",
      "\n",
      "Traceback (most recent call last):\n",
      "  File \"//anaconda/lib/python3.6/site-packages/urllib3/connectionpool.py\", line 600, in urlopen\n",
      "    chunked=chunked)\n",
      "  File \"//anaconda/lib/python3.6/site-packages/urllib3/connectionpool.py\", line 354, in _make_request\n",
      "    conn.request(method, url, **httplib_request_kw)\n",
      "  File \"//anaconda/lib/python3.6/http/client.py\", line 1254, in request\n",
      "    self._send_request(method, url, body, headers, encode_chunked)\n",
      "  File \"//anaconda/lib/python3.6/http/client.py\", line 1300, in _send_request\n",
      "    self.endheaders(body, encode_chunked=encode_chunked)\n",
      "  File \"//anaconda/lib/python3.6/http/client.py\", line 1249, in endheaders\n",
      "    self._send_output(message_body, encode_chunked=encode_chunked)\n",
      "  File \"//anaconda/lib/python3.6/http/client.py\", line 1036, in _send_output\n",
      "    self.send(msg)\n",
      "  File \"//anaconda/lib/python3.6/http/client.py\", line 974, in send\n",
      "    self.connect()\n",
      "  File \"//anaconda/lib/python3.6/site-packages/urllib3/connection.py\", line 181, in connect\n",
      "    conn = self._new_conn()\n",
      "  File \"//anaconda/lib/python3.6/site-packages/urllib3/connection.py\", line 168, in _new_conn\n",
      "    self, \"Failed to establish a new connection: %s\" % e)\n",
      "urllib3.exceptions.NewConnectionError: <urllib3.connection.HTTPConnection object at 0x11f6d0f98>: Failed to establish a new connection: [Errno 60] Operation timed out\n",
      "\n",
      "During handling of the above exception, another exception occurred:\n",
      "\n",
      "Traceback (most recent call last):\n",
      "  File \"//anaconda/lib/python3.6/site-packages/requests/adapters.py\", line 449, in send\n",
      "    timeout=timeout\n",
      "  File \"//anaconda/lib/python3.6/site-packages/urllib3/connectionpool.py\", line 638, in urlopen\n",
      "    _stacktrace=sys.exc_info()[2])\n",
      "  File \"//anaconda/lib/python3.6/site-packages/urllib3/util/retry.py\", line 399, in increment\n",
      "    raise MaxRetryError(_pool, url, error or ResponseError(cause))\n",
      "urllib3.exceptions.MaxRetryError: HTTPConnectionPool(host='clerk.house.gov', port=80): Max retries exceeded with url: /evs/2007/roll865.xml (Caused by NewConnectionError('<urllib3.connection.HTTPConnection object at 0x11f6d0f98>: Failed to establish a new connection: [Errno 60] Operation timed out',))\n",
      "\n",
      "During handling of the above exception, another exception occurred:\n",
      "\n",
      "Traceback (most recent call last):\n",
      "  File \"<ipython-input-8-530adc215787>\", line 7, in house_rollcall_individual_parallel\n",
      "    obj.roll_call_single_to_psql(year, rollcall)\n",
      "  File \"/Users/benellis/Projects/congress/congress/etl/house_votes.py\", line 183, in roll_call_single_to_psql\n",
      "    df = self.roll_call_single(year, roll)\n",
      "  File \"/Users/benellis/Projects/congress/congress/etl/house_votes.py\", line 137, in roll_call_single\n",
      "    data = requests.get(url)\n",
      "  File \"//anaconda/lib/python3.6/site-packages/requests/api.py\", line 75, in get\n",
      "    return request('get', url, params=params, **kwargs)\n",
      "  File \"//anaconda/lib/python3.6/site-packages/requests/api.py\", line 60, in request\n",
      "    return session.request(method=method, url=url, **kwargs)\n",
      "  File \"//anaconda/lib/python3.6/site-packages/requests/sessions.py\", line 533, in request\n",
      "    resp = self.send(prep, **send_kwargs)\n",
      "  File \"//anaconda/lib/python3.6/site-packages/requests/sessions.py\", line 646, in send\n",
      "    r = adapter.send(request, **kwargs)\n",
      "  File \"//anaconda/lib/python3.6/site-packages/requests/adapters.py\", line 516, in send\n",
      "    raise ConnectionError(e, request=request)\n",
      "requests.exceptions.ConnectionError: HTTPConnectionPool(host='clerk.house.gov', port=80): Max retries exceeded with url: /evs/2007/roll865.xml (Caused by NewConnectionError('<urllib3.connection.HTTPConnection object at 0x11f6d0f98>: Failed to establish a new connection: [Errno 60] Operation timed out',))\n"
     ]
    },
    {
     "name": "stdout",
     "output_type": "stream",
     "text": [
      "http://clerk.house.gov/evs/2007/roll864.xml\n",
      "http://clerk.house.gov/evs/2005/roll506.xml\n"
     ]
    },
    {
     "name": "stderr",
     "output_type": "stream",
     "text": [
      "Traceback (most recent call last):\n",
      "  File \"//anaconda/lib/python3.6/site-packages/urllib3/connection.py\", line 159, in _new_conn\n",
      "    (self._dns_host, self.port), self.timeout, **extra_kw)\n",
      "  File \"//anaconda/lib/python3.6/site-packages/urllib3/util/connection.py\", line 80, in create_connection\n",
      "    raise err\n",
      "  File \"//anaconda/lib/python3.6/site-packages/urllib3/util/connection.py\", line 70, in create_connection\n",
      "    sock.connect(sa)\n",
      "TimeoutError: [Errno 60] Operation timed out\n",
      "\n",
      "During handling of the above exception, another exception occurred:\n",
      "\n",
      "Traceback (most recent call last):\n",
      "  File \"//anaconda/lib/python3.6/site-packages/urllib3/connectionpool.py\", line 600, in urlopen\n",
      "    chunked=chunked)\n",
      "  File \"//anaconda/lib/python3.6/site-packages/urllib3/connectionpool.py\", line 354, in _make_request\n",
      "    conn.request(method, url, **httplib_request_kw)\n",
      "  File \"//anaconda/lib/python3.6/http/client.py\", line 1254, in request\n",
      "    self._send_request(method, url, body, headers, encode_chunked)\n",
      "  File \"//anaconda/lib/python3.6/http/client.py\", line 1300, in _send_request\n",
      "    self.endheaders(body, encode_chunked=encode_chunked)\n",
      "  File \"//anaconda/lib/python3.6/http/client.py\", line 1249, in endheaders\n",
      "    self._send_output(message_body, encode_chunked=encode_chunked)\n",
      "  File \"//anaconda/lib/python3.6/http/client.py\", line 1036, in _send_output\n",
      "    self.send(msg)\n",
      "  File \"//anaconda/lib/python3.6/http/client.py\", line 974, in send\n",
      "    self.connect()\n",
      "  File \"//anaconda/lib/python3.6/site-packages/urllib3/connection.py\", line 181, in connect\n",
      "    conn = self._new_conn()\n",
      "  File \"//anaconda/lib/python3.6/site-packages/urllib3/connection.py\", line 168, in _new_conn\n",
      "    self, \"Failed to establish a new connection: %s\" % e)\n",
      "urllib3.exceptions.NewConnectionError: <urllib3.connection.HTTPConnection object at 0x11fdc9860>: Failed to establish a new connection: [Errno 60] Operation timed out\n",
      "\n",
      "During handling of the above exception, another exception occurred:\n",
      "\n",
      "Traceback (most recent call last):\n",
      "  File \"//anaconda/lib/python3.6/site-packages/requests/adapters.py\", line 449, in send\n",
      "    timeout=timeout\n",
      "  File \"//anaconda/lib/python3.6/site-packages/urllib3/connectionpool.py\", line 638, in urlopen\n",
      "    _stacktrace=sys.exc_info()[2])\n",
      "  File \"//anaconda/lib/python3.6/site-packages/urllib3/util/retry.py\", line 399, in increment\n",
      "    raise MaxRetryError(_pool, url, error or ResponseError(cause))\n",
      "urllib3.exceptions.MaxRetryError: HTTPConnectionPool(host='clerk.house.gov', port=80): Max retries exceeded with url: /evs/2008/roll495.xml (Caused by NewConnectionError('<urllib3.connection.HTTPConnection object at 0x11fdc9860>: Failed to establish a new connection: [Errno 60] Operation timed out',))\n",
      "\n",
      "During handling of the above exception, another exception occurred:\n",
      "\n",
      "Traceback (most recent call last):\n",
      "  File \"<ipython-input-8-530adc215787>\", line 7, in house_rollcall_individual_parallel\n",
      "    obj.roll_call_single_to_psql(year, rollcall)\n",
      "  File \"/Users/benellis/Projects/congress/congress/etl/house_votes.py\", line 183, in roll_call_single_to_psql\n",
      "    df = self.roll_call_single(year, roll)\n",
      "  File \"/Users/benellis/Projects/congress/congress/etl/house_votes.py\", line 137, in roll_call_single\n",
      "    data = requests.get(url)\n",
      "  File \"//anaconda/lib/python3.6/site-packages/requests/api.py\", line 75, in get\n",
      "    return request('get', url, params=params, **kwargs)\n",
      "  File \"//anaconda/lib/python3.6/site-packages/requests/api.py\", line 60, in request\n",
      "    return session.request(method=method, url=url, **kwargs)\n",
      "  File \"//anaconda/lib/python3.6/site-packages/requests/sessions.py\", line 533, in request\n",
      "    resp = self.send(prep, **send_kwargs)\n",
      "  File \"//anaconda/lib/python3.6/site-packages/requests/sessions.py\", line 646, in send\n",
      "    r = adapter.send(request, **kwargs)\n",
      "  File \"//anaconda/lib/python3.6/site-packages/requests/adapters.py\", line 516, in send\n",
      "    raise ConnectionError(e, request=request)\n",
      "requests.exceptions.ConnectionError: HTTPConnectionPool(host='clerk.house.gov', port=80): Max retries exceeded with url: /evs/2008/roll495.xml (Caused by NewConnectionError('<urllib3.connection.HTTPConnection object at 0x11fdc9860>: Failed to establish a new connection: [Errno 60] Operation timed out',))\n"
     ]
    },
    {
     "name": "stdout",
     "output_type": "stream",
     "text": [
      "http://clerk.house.gov/evs/2008/roll494.xml\n"
     ]
    },
    {
     "name": "stderr",
     "output_type": "stream",
     "text": [
      "Traceback (most recent call last):\n",
      "  File \"//anaconda/lib/python3.6/site-packages/urllib3/connection.py\", line 159, in _new_conn\n",
      "    (self._dns_host, self.port), self.timeout, **extra_kw)\n",
      "  File \"//anaconda/lib/python3.6/site-packages/urllib3/util/connection.py\", line 80, in create_connection\n",
      "    raise err\n",
      "  File \"//anaconda/lib/python3.6/site-packages/urllib3/util/connection.py\", line 70, in create_connection\n",
      "    sock.connect(sa)\n",
      "TimeoutError: [Errno 60] Operation timed out\n",
      "\n",
      "During handling of the above exception, another exception occurred:\n",
      "\n",
      "Traceback (most recent call last):\n",
      "  File \"//anaconda/lib/python3.6/site-packages/urllib3/connectionpool.py\", line 600, in urlopen\n",
      "    chunked=chunked)\n",
      "  File \"//anaconda/lib/python3.6/site-packages/urllib3/connectionpool.py\", line 354, in _make_request\n",
      "    conn.request(method, url, **httplib_request_kw)\n",
      "  File \"//anaconda/lib/python3.6/http/client.py\", line 1254, in request\n",
      "    self._send_request(method, url, body, headers, encode_chunked)\n",
      "  File \"//anaconda/lib/python3.6/http/client.py\", line 1300, in _send_request\n",
      "    self.endheaders(body, encode_chunked=encode_chunked)\n",
      "  File \"//anaconda/lib/python3.6/http/client.py\", line 1249, in endheaders\n",
      "    self._send_output(message_body, encode_chunked=encode_chunked)\n",
      "  File \"//anaconda/lib/python3.6/http/client.py\", line 1036, in _send_output\n",
      "    self.send(msg)\n",
      "  File \"//anaconda/lib/python3.6/http/client.py\", line 974, in send\n",
      "    self.connect()\n",
      "  File \"//anaconda/lib/python3.6/site-packages/urllib3/connection.py\", line 181, in connect\n",
      "    conn = self._new_conn()\n",
      "  File \"//anaconda/lib/python3.6/site-packages/urllib3/connection.py\", line 168, in _new_conn\n",
      "    self, \"Failed to establish a new connection: %s\" % e)\n",
      "urllib3.exceptions.NewConnectionError: <urllib3.connection.HTTPConnection object at 0x11fce8c88>: Failed to establish a new connection: [Errno 60] Operation timed out\n",
      "\n",
      "During handling of the above exception, another exception occurred:\n",
      "\n",
      "Traceback (most recent call last):\n",
      "  File \"//anaconda/lib/python3.6/site-packages/requests/adapters.py\", line 449, in send\n",
      "    timeout=timeout\n",
      "  File \"//anaconda/lib/python3.6/site-packages/urllib3/connectionpool.py\", line 638, in urlopen\n",
      "    _stacktrace=sys.exc_info()[2])\n",
      "  File \"//anaconda/lib/python3.6/site-packages/urllib3/util/retry.py\", line 399, in increment\n",
      "    raise MaxRetryError(_pool, url, error or ResponseError(cause))\n",
      "urllib3.exceptions.MaxRetryError: HTTPConnectionPool(host='clerk.house.gov', port=80): Max retries exceeded with url: /evs/2003/roll633.xml (Caused by NewConnectionError('<urllib3.connection.HTTPConnection object at 0x11fce8c88>: Failed to establish a new connection: [Errno 60] Operation timed out',))\n",
      "\n",
      "During handling of the above exception, another exception occurred:\n",
      "\n",
      "Traceback (most recent call last):\n",
      "  File \"<ipython-input-8-530adc215787>\", line 7, in house_rollcall_individual_parallel\n",
      "    obj.roll_call_single_to_psql(year, rollcall)\n",
      "  File \"/Users/benellis/Projects/congress/congress/etl/house_votes.py\", line 183, in roll_call_single_to_psql\n",
      "    df = self.roll_call_single(year, roll)\n",
      "  File \"/Users/benellis/Projects/congress/congress/etl/house_votes.py\", line 137, in roll_call_single\n",
      "    data = requests.get(url)\n",
      "  File \"//anaconda/lib/python3.6/site-packages/requests/api.py\", line 75, in get\n",
      "    return request('get', url, params=params, **kwargs)\n",
      "  File \"//anaconda/lib/python3.6/site-packages/requests/api.py\", line 60, in request\n",
      "    return session.request(method=method, url=url, **kwargs)\n",
      "  File \"//anaconda/lib/python3.6/site-packages/requests/sessions.py\", line 533, in request\n",
      "    resp = self.send(prep, **send_kwargs)\n",
      "  File \"//anaconda/lib/python3.6/site-packages/requests/sessions.py\", line 646, in send\n",
      "    r = adapter.send(request, **kwargs)\n",
      "  File \"//anaconda/lib/python3.6/site-packages/requests/adapters.py\", line 516, in send\n",
      "    raise ConnectionError(e, request=request)\n",
      "requests.exceptions.ConnectionError: HTTPConnectionPool(host='clerk.house.gov', port=80): Max retries exceeded with url: /evs/2003/roll633.xml (Caused by NewConnectionError('<urllib3.connection.HTTPConnection object at 0x11fce8c88>: Failed to establish a new connection: [Errno 60] Operation timed out',))\n"
     ]
    },
    {
     "name": "stdout",
     "output_type": "stream",
     "text": [
      "http://clerk.house.gov/evs/2003/roll632.xml\n",
      "http://clerk.house.gov/evs/2005/roll505.xml\n",
      "http://clerk.house.gov/evs/2005/roll504.xml\n"
     ]
    },
    {
     "name": "stderr",
     "output_type": "stream",
     "text": [
      "Traceback (most recent call last):\n",
      "  File \"//anaconda/lib/python3.6/site-packages/urllib3/connection.py\", line 159, in _new_conn\n",
      "    (self._dns_host, self.port), self.timeout, **extra_kw)\n",
      "  File \"//anaconda/lib/python3.6/site-packages/urllib3/util/connection.py\", line 80, in create_connection\n",
      "    raise err\n",
      "  File \"//anaconda/lib/python3.6/site-packages/urllib3/util/connection.py\", line 70, in create_connection\n",
      "    sock.connect(sa)\n",
      "TimeoutError: [Errno 60] Operation timed out\n",
      "\n",
      "During handling of the above exception, another exception occurred:\n",
      "\n",
      "Traceback (most recent call last):\n",
      "  File \"//anaconda/lib/python3.6/site-packages/urllib3/connectionpool.py\", line 600, in urlopen\n",
      "    chunked=chunked)\n",
      "  File \"//anaconda/lib/python3.6/site-packages/urllib3/connectionpool.py\", line 354, in _make_request\n",
      "    conn.request(method, url, **httplib_request_kw)\n",
      "  File \"//anaconda/lib/python3.6/http/client.py\", line 1254, in request\n",
      "    self._send_request(method, url, body, headers, encode_chunked)\n",
      "  File \"//anaconda/lib/python3.6/http/client.py\", line 1300, in _send_request\n",
      "    self.endheaders(body, encode_chunked=encode_chunked)\n",
      "  File \"//anaconda/lib/python3.6/http/client.py\", line 1249, in endheaders\n",
      "    self._send_output(message_body, encode_chunked=encode_chunked)\n",
      "  File \"//anaconda/lib/python3.6/http/client.py\", line 1036, in _send_output\n",
      "    self.send(msg)\n",
      "  File \"//anaconda/lib/python3.6/http/client.py\", line 974, in send\n",
      "    self.connect()\n",
      "  File \"//anaconda/lib/python3.6/site-packages/urllib3/connection.py\", line 181, in connect\n",
      "    conn = self._new_conn()\n",
      "  File \"//anaconda/lib/python3.6/site-packages/urllib3/connection.py\", line 168, in _new_conn\n",
      "    self, \"Failed to establish a new connection: %s\" % e)\n",
      "urllib3.exceptions.NewConnectionError: <urllib3.connection.HTTPConnection object at 0x11f6dd630>: Failed to establish a new connection: [Errno 60] Operation timed out\n",
      "\n",
      "During handling of the above exception, another exception occurred:\n",
      "\n",
      "Traceback (most recent call last):\n",
      "  File \"//anaconda/lib/python3.6/site-packages/requests/adapters.py\", line 449, in send\n",
      "    timeout=timeout\n",
      "  File \"//anaconda/lib/python3.6/site-packages/urllib3/connectionpool.py\", line 638, in urlopen\n",
      "    _stacktrace=sys.exc_info()[2])\n",
      "  File \"//anaconda/lib/python3.6/site-packages/urllib3/util/retry.py\", line 399, in increment\n",
      "    raise MaxRetryError(_pool, url, error or ResponseError(cause))\n",
      "urllib3.exceptions.MaxRetryError: HTTPConnectionPool(host='clerk.house.gov', port=80): Max retries exceeded with url: /evs/2007/roll864.xml (Caused by NewConnectionError('<urllib3.connection.HTTPConnection object at 0x11f6dd630>: Failed to establish a new connection: [Errno 60] Operation timed out',))\n",
      "\n",
      "During handling of the above exception, another exception occurred:\n",
      "\n",
      "Traceback (most recent call last):\n",
      "  File \"<ipython-input-8-530adc215787>\", line 7, in house_rollcall_individual_parallel\n",
      "    obj.roll_call_single_to_psql(year, rollcall)\n",
      "  File \"/Users/benellis/Projects/congress/congress/etl/house_votes.py\", line 183, in roll_call_single_to_psql\n",
      "    df = self.roll_call_single(year, roll)\n",
      "  File \"/Users/benellis/Projects/congress/congress/etl/house_votes.py\", line 137, in roll_call_single\n",
      "    data = requests.get(url)\n",
      "  File \"//anaconda/lib/python3.6/site-packages/requests/api.py\", line 75, in get\n",
      "    return request('get', url, params=params, **kwargs)\n",
      "  File \"//anaconda/lib/python3.6/site-packages/requests/api.py\", line 60, in request\n",
      "    return session.request(method=method, url=url, **kwargs)\n",
      "  File \"//anaconda/lib/python3.6/site-packages/requests/sessions.py\", line 533, in request\n",
      "    resp = self.send(prep, **send_kwargs)\n",
      "  File \"//anaconda/lib/python3.6/site-packages/requests/sessions.py\", line 646, in send\n",
      "    r = adapter.send(request, **kwargs)\n",
      "  File \"//anaconda/lib/python3.6/site-packages/requests/adapters.py\", line 516, in send\n",
      "    raise ConnectionError(e, request=request)\n",
      "requests.exceptions.ConnectionError: HTTPConnectionPool(host='clerk.house.gov', port=80): Max retries exceeded with url: /evs/2007/roll864.xml (Caused by NewConnectionError('<urllib3.connection.HTTPConnection object at 0x11f6dd630>: Failed to establish a new connection: [Errno 60] Operation timed out',))\n"
     ]
    },
    {
     "name": "stdout",
     "output_type": "stream",
     "text": [
      "http://clerk.house.gov/evs/2007/roll863.xml\n",
      "http://clerk.house.gov/evs/2007/roll862.xml\n"
     ]
    },
    {
     "name": "stderr",
     "output_type": "stream",
     "text": [
      "Traceback (most recent call last):\n",
      "  File \"<ipython-input-8-530adc215787>\", line 7, in house_rollcall_individual_parallel\n",
      "    obj.roll_call_single_to_psql(year, rollcall)\n",
      "  File \"/Users/benellis/Projects/congress/congress/etl/house_votes.py\", line 183, in roll_call_single_to_psql\n",
      "    df = self.roll_call_single(year, roll)\n",
      "  File \"/Users/benellis/Projects/congress/congress/etl/house_votes.py\", line 142, in roll_call_single\n",
      "    chamber = soup.find('chamber').text\n",
      "AttributeError: 'NoneType' object has no attribute 'text'\n"
     ]
    },
    {
     "name": "stdout",
     "output_type": "stream",
     "text": [
      "http://clerk.house.gov/evs/2007/roll861.xml\n"
     ]
    },
    {
     "name": "stderr",
     "output_type": "stream",
     "text": [
      "Traceback (most recent call last):\n",
      "  File \"//anaconda/lib/python3.6/site-packages/urllib3/connection.py\", line 159, in _new_conn\n",
      "    (self._dns_host, self.port), self.timeout, **extra_kw)\n",
      "  File \"//anaconda/lib/python3.6/site-packages/urllib3/util/connection.py\", line 80, in create_connection\n",
      "    raise err\n",
      "  File \"//anaconda/lib/python3.6/site-packages/urllib3/util/connection.py\", line 70, in create_connection\n",
      "    sock.connect(sa)\n",
      "TimeoutError: [Errno 60] Operation timed out\n",
      "\n",
      "During handling of the above exception, another exception occurred:\n",
      "\n",
      "Traceback (most recent call last):\n",
      "  File \"//anaconda/lib/python3.6/site-packages/urllib3/connectionpool.py\", line 600, in urlopen\n",
      "    chunked=chunked)\n",
      "  File \"//anaconda/lib/python3.6/site-packages/urllib3/connectionpool.py\", line 354, in _make_request\n",
      "    conn.request(method, url, **httplib_request_kw)\n",
      "  File \"//anaconda/lib/python3.6/http/client.py\", line 1254, in request\n",
      "    self._send_request(method, url, body, headers, encode_chunked)\n",
      "  File \"//anaconda/lib/python3.6/http/client.py\", line 1300, in _send_request\n",
      "    self.endheaders(body, encode_chunked=encode_chunked)\n",
      "  File \"//anaconda/lib/python3.6/http/client.py\", line 1249, in endheaders\n",
      "    self._send_output(message_body, encode_chunked=encode_chunked)\n",
      "  File \"//anaconda/lib/python3.6/http/client.py\", line 1036, in _send_output\n",
      "    self.send(msg)\n",
      "  File \"//anaconda/lib/python3.6/http/client.py\", line 974, in send\n",
      "    self.connect()\n",
      "  File \"//anaconda/lib/python3.6/site-packages/urllib3/connection.py\", line 181, in connect\n",
      "    conn = self._new_conn()\n",
      "  File \"//anaconda/lib/python3.6/site-packages/urllib3/connection.py\", line 168, in _new_conn\n",
      "    self, \"Failed to establish a new connection: %s\" % e)\n",
      "urllib3.exceptions.NewConnectionError: <urllib3.connection.HTTPConnection object at 0x11fdc90b8>: Failed to establish a new connection: [Errno 60] Operation timed out\n",
      "\n",
      "During handling of the above exception, another exception occurred:\n",
      "\n",
      "Traceback (most recent call last):\n",
      "  File \"//anaconda/lib/python3.6/site-packages/requests/adapters.py\", line 449, in send\n",
      "    timeout=timeout\n",
      "  File \"//anaconda/lib/python3.6/site-packages/urllib3/connectionpool.py\", line 638, in urlopen\n",
      "    _stacktrace=sys.exc_info()[2])\n",
      "  File \"//anaconda/lib/python3.6/site-packages/urllib3/util/retry.py\", line 399, in increment\n",
      "    raise MaxRetryError(_pool, url, error or ResponseError(cause))\n",
      "urllib3.exceptions.MaxRetryError: HTTPConnectionPool(host='clerk.house.gov', port=80): Max retries exceeded with url: /evs/2008/roll494.xml (Caused by NewConnectionError('<urllib3.connection.HTTPConnection object at 0x11fdc90b8>: Failed to establish a new connection: [Errno 60] Operation timed out',))\n",
      "\n",
      "During handling of the above exception, another exception occurred:\n",
      "\n",
      "Traceback (most recent call last):\n",
      "  File \"<ipython-input-8-530adc215787>\", line 7, in house_rollcall_individual_parallel\n",
      "    obj.roll_call_single_to_psql(year, rollcall)\n",
      "  File \"/Users/benellis/Projects/congress/congress/etl/house_votes.py\", line 183, in roll_call_single_to_psql\n",
      "    df = self.roll_call_single(year, roll)\n",
      "  File \"/Users/benellis/Projects/congress/congress/etl/house_votes.py\", line 137, in roll_call_single\n",
      "    data = requests.get(url)\n",
      "  File \"//anaconda/lib/python3.6/site-packages/requests/api.py\", line 75, in get\n",
      "    return request('get', url, params=params, **kwargs)\n",
      "  File \"//anaconda/lib/python3.6/site-packages/requests/api.py\", line 60, in request\n",
      "    return session.request(method=method, url=url, **kwargs)\n",
      "  File \"//anaconda/lib/python3.6/site-packages/requests/sessions.py\", line 533, in request\n",
      "    resp = self.send(prep, **send_kwargs)\n",
      "  File \"//anaconda/lib/python3.6/site-packages/requests/sessions.py\", line 646, in send\n",
      "    r = adapter.send(request, **kwargs)\n",
      "  File \"//anaconda/lib/python3.6/site-packages/requests/adapters.py\", line 516, in send\n",
      "    raise ConnectionError(e, request=request)\n",
      "requests.exceptions.ConnectionError: HTTPConnectionPool(host='clerk.house.gov', port=80): Max retries exceeded with url: /evs/2008/roll494.xml (Caused by NewConnectionError('<urllib3.connection.HTTPConnection object at 0x11fdc90b8>: Failed to establish a new connection: [Errno 60] Operation timed out',))\n"
     ]
    },
    {
     "name": "stdout",
     "output_type": "stream",
     "text": [
      "http://clerk.house.gov/evs/2008/roll493.xml\n"
     ]
    },
    {
     "name": "stderr",
     "output_type": "stream",
     "text": [
      "Traceback (most recent call last):\n",
      "  File \"//anaconda/lib/python3.6/site-packages/urllib3/connection.py\", line 159, in _new_conn\n",
      "    (self._dns_host, self.port), self.timeout, **extra_kw)\n",
      "  File \"//anaconda/lib/python3.6/site-packages/urllib3/util/connection.py\", line 80, in create_connection\n",
      "    raise err\n",
      "  File \"//anaconda/lib/python3.6/site-packages/urllib3/util/connection.py\", line 70, in create_connection\n",
      "    sock.connect(sa)\n",
      "TimeoutError: [Errno 60] Operation timed out\n",
      "\n",
      "During handling of the above exception, another exception occurred:\n",
      "\n",
      "Traceback (most recent call last):\n",
      "  File \"//anaconda/lib/python3.6/site-packages/urllib3/connectionpool.py\", line 600, in urlopen\n",
      "    chunked=chunked)\n",
      "  File \"//anaconda/lib/python3.6/site-packages/urllib3/connectionpool.py\", line 354, in _make_request\n",
      "    conn.request(method, url, **httplib_request_kw)\n",
      "  File \"//anaconda/lib/python3.6/http/client.py\", line 1254, in request\n",
      "    self._send_request(method, url, body, headers, encode_chunked)\n",
      "  File \"//anaconda/lib/python3.6/http/client.py\", line 1300, in _send_request\n",
      "    self.endheaders(body, encode_chunked=encode_chunked)\n",
      "  File \"//anaconda/lib/python3.6/http/client.py\", line 1249, in endheaders\n",
      "    self._send_output(message_body, encode_chunked=encode_chunked)\n",
      "  File \"//anaconda/lib/python3.6/http/client.py\", line 1036, in _send_output\n",
      "    self.send(msg)\n",
      "  File \"//anaconda/lib/python3.6/http/client.py\", line 974, in send\n",
      "    self.connect()\n",
      "  File \"//anaconda/lib/python3.6/site-packages/urllib3/connection.py\", line 181, in connect\n",
      "    conn = self._new_conn()\n",
      "  File \"//anaconda/lib/python3.6/site-packages/urllib3/connection.py\", line 168, in _new_conn\n",
      "    self, \"Failed to establish a new connection: %s\" % e)\n",
      "urllib3.exceptions.NewConnectionError: <urllib3.connection.HTTPConnection object at 0x11fcf6400>: Failed to establish a new connection: [Errno 60] Operation timed out\n",
      "\n",
      "During handling of the above exception, another exception occurred:\n",
      "\n",
      "Traceback (most recent call last):\n",
      "  File \"//anaconda/lib/python3.6/site-packages/requests/adapters.py\", line 449, in send\n",
      "    timeout=timeout\n",
      "  File \"//anaconda/lib/python3.6/site-packages/urllib3/connectionpool.py\", line 638, in urlopen\n",
      "    _stacktrace=sys.exc_info()[2])\n",
      "  File \"//anaconda/lib/python3.6/site-packages/urllib3/util/retry.py\", line 399, in increment\n",
      "    raise MaxRetryError(_pool, url, error or ResponseError(cause))\n",
      "urllib3.exceptions.MaxRetryError: HTTPConnectionPool(host='clerk.house.gov', port=80): Max retries exceeded with url: /evs/2003/roll632.xml (Caused by NewConnectionError('<urllib3.connection.HTTPConnection object at 0x11fcf6400>: Failed to establish a new connection: [Errno 60] Operation timed out',))\n",
      "\n",
      "During handling of the above exception, another exception occurred:\n",
      "\n",
      "Traceback (most recent call last):\n",
      "  File \"<ipython-input-8-530adc215787>\", line 7, in house_rollcall_individual_parallel\n",
      "    obj.roll_call_single_to_psql(year, rollcall)\n",
      "  File \"/Users/benellis/Projects/congress/congress/etl/house_votes.py\", line 183, in roll_call_single_to_psql\n",
      "    df = self.roll_call_single(year, roll)\n",
      "  File \"/Users/benellis/Projects/congress/congress/etl/house_votes.py\", line 137, in roll_call_single\n",
      "    data = requests.get(url)\n",
      "  File \"//anaconda/lib/python3.6/site-packages/requests/api.py\", line 75, in get\n",
      "    return request('get', url, params=params, **kwargs)\n",
      "  File \"//anaconda/lib/python3.6/site-packages/requests/api.py\", line 60, in request\n",
      "    return session.request(method=method, url=url, **kwargs)\n",
      "  File \"//anaconda/lib/python3.6/site-packages/requests/sessions.py\", line 533, in request\n",
      "    resp = self.send(prep, **send_kwargs)\n",
      "  File \"//anaconda/lib/python3.6/site-packages/requests/sessions.py\", line 646, in send\n",
      "    r = adapter.send(request, **kwargs)\n",
      "  File \"//anaconda/lib/python3.6/site-packages/requests/adapters.py\", line 516, in send\n",
      "    raise ConnectionError(e, request=request)\n",
      "requests.exceptions.ConnectionError: HTTPConnectionPool(host='clerk.house.gov', port=80): Max retries exceeded with url: /evs/2003/roll632.xml (Caused by NewConnectionError('<urllib3.connection.HTTPConnection object at 0x11fcf6400>: Failed to establish a new connection: [Errno 60] Operation timed out',))\n"
     ]
    },
    {
     "name": "stdout",
     "output_type": "stream",
     "text": [
      "http://clerk.house.gov/evs/2003/roll631.xml\n"
     ]
    },
    {
     "name": "stderr",
     "output_type": "stream",
     "text": [
      "Traceback (most recent call last):\n",
      "  File \"//anaconda/lib/python3.6/site-packages/urllib3/connection.py\", line 159, in _new_conn\n",
      "    (self._dns_host, self.port), self.timeout, **extra_kw)\n",
      "  File \"//anaconda/lib/python3.6/site-packages/urllib3/util/connection.py\", line 80, in create_connection\n",
      "    raise err\n",
      "  File \"//anaconda/lib/python3.6/site-packages/urllib3/util/connection.py\", line 70, in create_connection\n",
      "    sock.connect(sa)\n",
      "TimeoutError: [Errno 60] Operation timed out\n",
      "\n",
      "During handling of the above exception, another exception occurred:\n",
      "\n",
      "Traceback (most recent call last):\n",
      "  File \"//anaconda/lib/python3.6/site-packages/urllib3/connectionpool.py\", line 600, in urlopen\n",
      "    chunked=chunked)\n",
      "  File \"//anaconda/lib/python3.6/site-packages/urllib3/connectionpool.py\", line 354, in _make_request\n",
      "    conn.request(method, url, **httplib_request_kw)\n",
      "  File \"//anaconda/lib/python3.6/http/client.py\", line 1254, in request\n",
      "    self._send_request(method, url, body, headers, encode_chunked)\n",
      "  File \"//anaconda/lib/python3.6/http/client.py\", line 1300, in _send_request\n",
      "    self.endheaders(body, encode_chunked=encode_chunked)\n",
      "  File \"//anaconda/lib/python3.6/http/client.py\", line 1249, in endheaders\n",
      "    self._send_output(message_body, encode_chunked=encode_chunked)\n",
      "  File \"//anaconda/lib/python3.6/http/client.py\", line 1036, in _send_output\n",
      "    self.send(msg)\n",
      "  File \"//anaconda/lib/python3.6/http/client.py\", line 974, in send\n",
      "    self.connect()\n",
      "  File \"//anaconda/lib/python3.6/site-packages/urllib3/connection.py\", line 181, in connect\n",
      "    conn = self._new_conn()\n",
      "  File \"//anaconda/lib/python3.6/site-packages/urllib3/connection.py\", line 168, in _new_conn\n",
      "    self, \"Failed to establish a new connection: %s\" % e)\n",
      "urllib3.exceptions.NewConnectionError: <urllib3.connection.HTTPConnection object at 0x1204367b8>: Failed to establish a new connection: [Errno 60] Operation timed out\n",
      "\n",
      "During handling of the above exception, another exception occurred:\n",
      "\n",
      "Traceback (most recent call last):\n",
      "  File \"//anaconda/lib/python3.6/site-packages/requests/adapters.py\", line 449, in send\n",
      "    timeout=timeout\n",
      "  File \"//anaconda/lib/python3.6/site-packages/urllib3/connectionpool.py\", line 638, in urlopen\n",
      "    _stacktrace=sys.exc_info()[2])\n",
      "  File \"//anaconda/lib/python3.6/site-packages/urllib3/util/retry.py\", line 399, in increment\n",
      "    raise MaxRetryError(_pool, url, error or ResponseError(cause))\n",
      "urllib3.exceptions.MaxRetryError: HTTPConnectionPool(host='clerk.house.gov', port=80): Max retries exceeded with url: /evs/2005/roll504.xml (Caused by NewConnectionError('<urllib3.connection.HTTPConnection object at 0x1204367b8>: Failed to establish a new connection: [Errno 60] Operation timed out',))\n",
      "\n",
      "During handling of the above exception, another exception occurred:\n",
      "\n",
      "Traceback (most recent call last):\n",
      "  File \"<ipython-input-8-530adc215787>\", line 7, in house_rollcall_individual_parallel\n",
      "    obj.roll_call_single_to_psql(year, rollcall)\n",
      "  File \"/Users/benellis/Projects/congress/congress/etl/house_votes.py\", line 183, in roll_call_single_to_psql\n",
      "    df = self.roll_call_single(year, roll)\n",
      "  File \"/Users/benellis/Projects/congress/congress/etl/house_votes.py\", line 137, in roll_call_single\n",
      "    data = requests.get(url)\n",
      "  File \"//anaconda/lib/python3.6/site-packages/requests/api.py\", line 75, in get\n",
      "    return request('get', url, params=params, **kwargs)\n",
      "  File \"//anaconda/lib/python3.6/site-packages/requests/api.py\", line 60, in request\n",
      "    return session.request(method=method, url=url, **kwargs)\n",
      "  File \"//anaconda/lib/python3.6/site-packages/requests/sessions.py\", line 533, in request\n",
      "    resp = self.send(prep, **send_kwargs)\n",
      "  File \"//anaconda/lib/python3.6/site-packages/requests/sessions.py\", line 646, in send\n",
      "    r = adapter.send(request, **kwargs)\n",
      "  File \"//anaconda/lib/python3.6/site-packages/requests/adapters.py\", line 516, in send\n",
      "    raise ConnectionError(e, request=request)\n",
      "requests.exceptions.ConnectionError: HTTPConnectionPool(host='clerk.house.gov', port=80): Max retries exceeded with url: /evs/2005/roll504.xml (Caused by NewConnectionError('<urllib3.connection.HTTPConnection object at 0x1204367b8>: Failed to establish a new connection: [Errno 60] Operation timed out',))\n"
     ]
    },
    {
     "name": "stdout",
     "output_type": "stream",
     "text": [
      "http://clerk.house.gov/evs/2005/roll503.xml\n",
      "http://clerk.house.gov/evs/2007/roll860.xml\n",
      "http://clerk.house.gov/evs/2003/roll630.xml\n"
     ]
    },
    {
     "name": "stderr",
     "output_type": "stream",
     "text": [
      "Traceback (most recent call last):\n",
      "  File \"//anaconda/lib/python3.6/site-packages/urllib3/connection.py\", line 159, in _new_conn\n",
      "    (self._dns_host, self.port), self.timeout, **extra_kw)\n",
      "  File \"//anaconda/lib/python3.6/site-packages/urllib3/util/connection.py\", line 80, in create_connection\n",
      "    raise err\n",
      "  File \"//anaconda/lib/python3.6/site-packages/urllib3/util/connection.py\", line 70, in create_connection\n",
      "    sock.connect(sa)\n",
      "TimeoutError: [Errno 60] Operation timed out\n",
      "\n",
      "During handling of the above exception, another exception occurred:\n",
      "\n",
      "Traceback (most recent call last):\n",
      "  File \"//anaconda/lib/python3.6/site-packages/urllib3/connectionpool.py\", line 600, in urlopen\n",
      "    chunked=chunked)\n",
      "  File \"//anaconda/lib/python3.6/site-packages/urllib3/connectionpool.py\", line 354, in _make_request\n",
      "    conn.request(method, url, **httplib_request_kw)\n",
      "  File \"//anaconda/lib/python3.6/http/client.py\", line 1254, in request\n",
      "    self._send_request(method, url, body, headers, encode_chunked)\n",
      "  File \"//anaconda/lib/python3.6/http/client.py\", line 1300, in _send_request\n",
      "    self.endheaders(body, encode_chunked=encode_chunked)\n",
      "  File \"//anaconda/lib/python3.6/http/client.py\", line 1249, in endheaders\n",
      "    self._send_output(message_body, encode_chunked=encode_chunked)\n",
      "  File \"//anaconda/lib/python3.6/http/client.py\", line 1036, in _send_output\n",
      "    self.send(msg)\n",
      "  File \"//anaconda/lib/python3.6/http/client.py\", line 974, in send\n",
      "    self.connect()\n",
      "  File \"//anaconda/lib/python3.6/site-packages/urllib3/connection.py\", line 181, in connect\n",
      "    conn = self._new_conn()\n",
      "  File \"//anaconda/lib/python3.6/site-packages/urllib3/connection.py\", line 168, in _new_conn\n",
      "    self, \"Failed to establish a new connection: %s\" % e)\n",
      "urllib3.exceptions.NewConnectionError: <urllib3.connection.HTTPConnection object at 0x11f673ba8>: Failed to establish a new connection: [Errno 60] Operation timed out\n",
      "\n",
      "During handling of the above exception, another exception occurred:\n",
      "\n",
      "Traceback (most recent call last):\n",
      "  File \"//anaconda/lib/python3.6/site-packages/requests/adapters.py\", line 449, in send\n",
      "    timeout=timeout\n",
      "  File \"//anaconda/lib/python3.6/site-packages/urllib3/connectionpool.py\", line 638, in urlopen\n",
      "    _stacktrace=sys.exc_info()[2])\n",
      "  File \"//anaconda/lib/python3.6/site-packages/urllib3/util/retry.py\", line 399, in increment\n",
      "    raise MaxRetryError(_pool, url, error or ResponseError(cause))\n",
      "urllib3.exceptions.MaxRetryError: HTTPConnectionPool(host='clerk.house.gov', port=80): Max retries exceeded with url: /evs/2008/roll493.xml (Caused by NewConnectionError('<urllib3.connection.HTTPConnection object at 0x11f673ba8>: Failed to establish a new connection: [Errno 60] Operation timed out',))\n",
      "\n",
      "During handling of the above exception, another exception occurred:\n",
      "\n",
      "Traceback (most recent call last):\n",
      "  File \"<ipython-input-8-530adc215787>\", line 7, in house_rollcall_individual_parallel\n",
      "    obj.roll_call_single_to_psql(year, rollcall)\n",
      "  File \"/Users/benellis/Projects/congress/congress/etl/house_votes.py\", line 183, in roll_call_single_to_psql\n",
      "    df = self.roll_call_single(year, roll)\n",
      "  File \"/Users/benellis/Projects/congress/congress/etl/house_votes.py\", line 137, in roll_call_single\n",
      "    data = requests.get(url)\n",
      "  File \"//anaconda/lib/python3.6/site-packages/requests/api.py\", line 75, in get\n",
      "    return request('get', url, params=params, **kwargs)\n",
      "  File \"//anaconda/lib/python3.6/site-packages/requests/api.py\", line 60, in request\n",
      "    return session.request(method=method, url=url, **kwargs)\n",
      "  File \"//anaconda/lib/python3.6/site-packages/requests/sessions.py\", line 533, in request\n",
      "    resp = self.send(prep, **send_kwargs)\n",
      "  File \"//anaconda/lib/python3.6/site-packages/requests/sessions.py\", line 646, in send\n",
      "    r = adapter.send(request, **kwargs)\n",
      "  File \"//anaconda/lib/python3.6/site-packages/requests/adapters.py\", line 516, in send\n",
      "    raise ConnectionError(e, request=request)\n",
      "requests.exceptions.ConnectionError: HTTPConnectionPool(host='clerk.house.gov', port=80): Max retries exceeded with url: /evs/2008/roll493.xml (Caused by NewConnectionError('<urllib3.connection.HTTPConnection object at 0x11f673ba8>: Failed to establish a new connection: [Errno 60] Operation timed out',))\n"
     ]
    },
    {
     "name": "stdout",
     "output_type": "stream",
     "text": [
      "http://clerk.house.gov/evs/2008/roll492.xml\n"
     ]
    },
    {
     "name": "stderr",
     "output_type": "stream",
     "text": [
      "Traceback (most recent call last):\n",
      "  File \"//anaconda/lib/python3.6/site-packages/urllib3/connection.py\", line 159, in _new_conn\n",
      "    (self._dns_host, self.port), self.timeout, **extra_kw)\n",
      "  File \"//anaconda/lib/python3.6/site-packages/urllib3/util/connection.py\", line 80, in create_connection\n",
      "    raise err\n",
      "  File \"//anaconda/lib/python3.6/site-packages/urllib3/util/connection.py\", line 70, in create_connection\n",
      "    sock.connect(sa)\n",
      "TimeoutError: [Errno 60] Operation timed out\n",
      "\n",
      "During handling of the above exception, another exception occurred:\n",
      "\n",
      "Traceback (most recent call last):\n",
      "  File \"//anaconda/lib/python3.6/site-packages/urllib3/connectionpool.py\", line 600, in urlopen\n",
      "    chunked=chunked)\n",
      "  File \"//anaconda/lib/python3.6/site-packages/urllib3/connectionpool.py\", line 354, in _make_request\n",
      "    conn.request(method, url, **httplib_request_kw)\n",
      "  File \"//anaconda/lib/python3.6/http/client.py\", line 1254, in request\n",
      "    self._send_request(method, url, body, headers, encode_chunked)\n",
      "  File \"//anaconda/lib/python3.6/http/client.py\", line 1300, in _send_request\n",
      "    self.endheaders(body, encode_chunked=encode_chunked)\n",
      "  File \"//anaconda/lib/python3.6/http/client.py\", line 1249, in endheaders\n",
      "    self._send_output(message_body, encode_chunked=encode_chunked)\n",
      "  File \"//anaconda/lib/python3.6/http/client.py\", line 1036, in _send_output\n",
      "    self.send(msg)\n",
      "  File \"//anaconda/lib/python3.6/http/client.py\", line 974, in send\n",
      "    self.connect()\n",
      "  File \"//anaconda/lib/python3.6/site-packages/urllib3/connection.py\", line 181, in connect\n",
      "    conn = self._new_conn()\n",
      "  File \"//anaconda/lib/python3.6/site-packages/urllib3/connection.py\", line 168, in _new_conn\n",
      "    self, \"Failed to establish a new connection: %s\" % e)\n",
      "urllib3.exceptions.NewConnectionError: <urllib3.connection.HTTPConnection object at 0x1204368d0>: Failed to establish a new connection: [Errno 60] Operation timed out\n",
      "\n",
      "During handling of the above exception, another exception occurred:\n",
      "\n",
      "Traceback (most recent call last):\n",
      "  File \"//anaconda/lib/python3.6/site-packages/requests/adapters.py\", line 449, in send\n",
      "    timeout=timeout\n",
      "  File \"//anaconda/lib/python3.6/site-packages/urllib3/connectionpool.py\", line 638, in urlopen\n",
      "    _stacktrace=sys.exc_info()[2])\n",
      "  File \"//anaconda/lib/python3.6/site-packages/urllib3/util/retry.py\", line 399, in increment\n",
      "    raise MaxRetryError(_pool, url, error or ResponseError(cause))\n",
      "urllib3.exceptions.MaxRetryError: HTTPConnectionPool(host='clerk.house.gov', port=80): Max retries exceeded with url: /evs/2005/roll503.xml (Caused by NewConnectionError('<urllib3.connection.HTTPConnection object at 0x1204368d0>: Failed to establish a new connection: [Errno 60] Operation timed out',))\n",
      "\n",
      "During handling of the above exception, another exception occurred:\n",
      "\n",
      "Traceback (most recent call last):\n",
      "  File \"<ipython-input-8-530adc215787>\", line 7, in house_rollcall_individual_parallel\n",
      "    obj.roll_call_single_to_psql(year, rollcall)\n",
      "  File \"/Users/benellis/Projects/congress/congress/etl/house_votes.py\", line 183, in roll_call_single_to_psql\n",
      "    df = self.roll_call_single(year, roll)\n",
      "  File \"/Users/benellis/Projects/congress/congress/etl/house_votes.py\", line 137, in roll_call_single\n",
      "    data = requests.get(url)\n",
      "  File \"//anaconda/lib/python3.6/site-packages/requests/api.py\", line 75, in get\n",
      "    return request('get', url, params=params, **kwargs)\n",
      "  File \"//anaconda/lib/python3.6/site-packages/requests/api.py\", line 60, in request\n",
      "    return session.request(method=method, url=url, **kwargs)\n",
      "  File \"//anaconda/lib/python3.6/site-packages/requests/sessions.py\", line 533, in request\n",
      "    resp = self.send(prep, **send_kwargs)\n",
      "  File \"//anaconda/lib/python3.6/site-packages/requests/sessions.py\", line 646, in send\n",
      "    r = adapter.send(request, **kwargs)\n",
      "  File \"//anaconda/lib/python3.6/site-packages/requests/adapters.py\", line 516, in send\n",
      "    raise ConnectionError(e, request=request)\n",
      "requests.exceptions.ConnectionError: HTTPConnectionPool(host='clerk.house.gov', port=80): Max retries exceeded with url: /evs/2005/roll503.xml (Caused by NewConnectionError('<urllib3.connection.HTTPConnection object at 0x1204368d0>: Failed to establish a new connection: [Errno 60] Operation timed out',))\n"
     ]
    },
    {
     "name": "stdout",
     "output_type": "stream",
     "text": [
      "http://clerk.house.gov/evs/2005/roll502.xml\n"
     ]
    },
    {
     "name": "stderr",
     "output_type": "stream",
     "text": [
      "Traceback (most recent call last):\n",
      "  File \"//anaconda/lib/python3.6/site-packages/urllib3/connection.py\", line 159, in _new_conn\n",
      "    (self._dns_host, self.port), self.timeout, **extra_kw)\n",
      "  File \"//anaconda/lib/python3.6/site-packages/urllib3/util/connection.py\", line 80, in create_connection\n",
      "    raise err\n",
      "  File \"//anaconda/lib/python3.6/site-packages/urllib3/util/connection.py\", line 70, in create_connection\n",
      "    sock.connect(sa)\n",
      "TimeoutError: [Errno 60] Operation timed out\n",
      "\n",
      "During handling of the above exception, another exception occurred:\n",
      "\n",
      "Traceback (most recent call last):\n",
      "  File \"//anaconda/lib/python3.6/site-packages/urllib3/connectionpool.py\", line 600, in urlopen\n",
      "    chunked=chunked)\n",
      "  File \"//anaconda/lib/python3.6/site-packages/urllib3/connectionpool.py\", line 354, in _make_request\n",
      "    conn.request(method, url, **httplib_request_kw)\n",
      "  File \"//anaconda/lib/python3.6/http/client.py\", line 1254, in request\n",
      "    self._send_request(method, url, body, headers, encode_chunked)\n",
      "  File \"//anaconda/lib/python3.6/http/client.py\", line 1300, in _send_request\n",
      "    self.endheaders(body, encode_chunked=encode_chunked)\n",
      "  File \"//anaconda/lib/python3.6/http/client.py\", line 1249, in endheaders\n",
      "    self._send_output(message_body, encode_chunked=encode_chunked)\n",
      "  File \"//anaconda/lib/python3.6/http/client.py\", line 1036, in _send_output\n",
      "    self.send(msg)\n",
      "  File \"//anaconda/lib/python3.6/http/client.py\", line 974, in send\n",
      "    self.connect()\n",
      "  File \"//anaconda/lib/python3.6/site-packages/urllib3/connection.py\", line 181, in connect\n",
      "    conn = self._new_conn()\n",
      "  File \"//anaconda/lib/python3.6/site-packages/urllib3/connection.py\", line 168, in _new_conn\n",
      "    self, \"Failed to establish a new connection: %s\" % e)\n",
      "urllib3.exceptions.NewConnectionError: <urllib3.connection.HTTPConnection object at 0x11f700cf8>: Failed to establish a new connection: [Errno 60] Operation timed out\n",
      "\n",
      "During handling of the above exception, another exception occurred:\n",
      "\n",
      "Traceback (most recent call last):\n",
      "  File \"//anaconda/lib/python3.6/site-packages/requests/adapters.py\", line 449, in send\n",
      "    timeout=timeout\n",
      "  File \"//anaconda/lib/python3.6/site-packages/urllib3/connectionpool.py\", line 638, in urlopen\n",
      "    _stacktrace=sys.exc_info()[2])\n",
      "  File \"//anaconda/lib/python3.6/site-packages/urllib3/util/retry.py\", line 399, in increment\n",
      "    raise MaxRetryError(_pool, url, error or ResponseError(cause))\n",
      "urllib3.exceptions.MaxRetryError: HTTPConnectionPool(host='clerk.house.gov', port=80): Max retries exceeded with url: /evs/2007/roll860.xml (Caused by NewConnectionError('<urllib3.connection.HTTPConnection object at 0x11f700cf8>: Failed to establish a new connection: [Errno 60] Operation timed out',))\n",
      "\n",
      "During handling of the above exception, another exception occurred:\n",
      "\n",
      "Traceback (most recent call last):\n",
      "  File \"<ipython-input-8-530adc215787>\", line 7, in house_rollcall_individual_parallel\n",
      "    obj.roll_call_single_to_psql(year, rollcall)\n",
      "  File \"/Users/benellis/Projects/congress/congress/etl/house_votes.py\", line 183, in roll_call_single_to_psql\n",
      "    df = self.roll_call_single(year, roll)\n",
      "  File \"/Users/benellis/Projects/congress/congress/etl/house_votes.py\", line 137, in roll_call_single\n",
      "    data = requests.get(url)\n",
      "  File \"//anaconda/lib/python3.6/site-packages/requests/api.py\", line 75, in get\n",
      "    return request('get', url, params=params, **kwargs)\n",
      "  File \"//anaconda/lib/python3.6/site-packages/requests/api.py\", line 60, in request\n",
      "    return session.request(method=method, url=url, **kwargs)\n",
      "  File \"//anaconda/lib/python3.6/site-packages/requests/sessions.py\", line 533, in request\n",
      "    resp = self.send(prep, **send_kwargs)\n",
      "  File \"//anaconda/lib/python3.6/site-packages/requests/sessions.py\", line 646, in send\n",
      "    r = adapter.send(request, **kwargs)\n",
      "  File \"//anaconda/lib/python3.6/site-packages/requests/adapters.py\", line 516, in send\n",
      "    raise ConnectionError(e, request=request)\n",
      "requests.exceptions.ConnectionError: HTTPConnectionPool(host='clerk.house.gov', port=80): Max retries exceeded with url: /evs/2007/roll860.xml (Caused by NewConnectionError('<urllib3.connection.HTTPConnection object at 0x11f700cf8>: Failed to establish a new connection: [Errno 60] Operation timed out',))\n"
     ]
    },
    {
     "name": "stdout",
     "output_type": "stream",
     "text": [
      "http://clerk.house.gov/evs/2007/roll859.xml\n",
      "http://clerk.house.gov/evs/2008/roll491.xml\n"
     ]
    },
    {
     "name": "stderr",
     "output_type": "stream",
     "text": [
      "Traceback (most recent call last):\n",
      "  File \"//anaconda/lib/python3.6/site-packages/urllib3/connection.py\", line 159, in _new_conn\n",
      "    (self._dns_host, self.port), self.timeout, **extra_kw)\n",
      "  File \"//anaconda/lib/python3.6/site-packages/urllib3/util/connection.py\", line 80, in create_connection\n",
      "    raise err\n",
      "  File \"//anaconda/lib/python3.6/site-packages/urllib3/util/connection.py\", line 70, in create_connection\n",
      "    sock.connect(sa)\n",
      "TimeoutError: [Errno 60] Operation timed out\n",
      "\n",
      "During handling of the above exception, another exception occurred:\n",
      "\n",
      "Traceback (most recent call last):\n",
      "  File \"//anaconda/lib/python3.6/site-packages/urllib3/connectionpool.py\", line 600, in urlopen\n",
      "    chunked=chunked)\n",
      "  File \"//anaconda/lib/python3.6/site-packages/urllib3/connectionpool.py\", line 354, in _make_request\n",
      "    conn.request(method, url, **httplib_request_kw)\n",
      "  File \"//anaconda/lib/python3.6/http/client.py\", line 1254, in request\n",
      "    self._send_request(method, url, body, headers, encode_chunked)\n",
      "  File \"//anaconda/lib/python3.6/http/client.py\", line 1300, in _send_request\n",
      "    self.endheaders(body, encode_chunked=encode_chunked)\n",
      "  File \"//anaconda/lib/python3.6/http/client.py\", line 1249, in endheaders\n",
      "    self._send_output(message_body, encode_chunked=encode_chunked)\n",
      "  File \"//anaconda/lib/python3.6/http/client.py\", line 1036, in _send_output\n",
      "    self.send(msg)\n",
      "  File \"//anaconda/lib/python3.6/http/client.py\", line 974, in send\n",
      "    self.connect()\n",
      "  File \"//anaconda/lib/python3.6/site-packages/urllib3/connection.py\", line 181, in connect\n",
      "    conn = self._new_conn()\n",
      "  File \"//anaconda/lib/python3.6/site-packages/urllib3/connection.py\", line 168, in _new_conn\n",
      "    self, \"Failed to establish a new connection: %s\" % e)\n",
      "urllib3.exceptions.NewConnectionError: <urllib3.connection.HTTPConnection object at 0x11ebe5ef0>: Failed to establish a new connection: [Errno 60] Operation timed out\n",
      "\n",
      "During handling of the above exception, another exception occurred:\n",
      "\n",
      "Traceback (most recent call last):\n",
      "  File \"//anaconda/lib/python3.6/site-packages/requests/adapters.py\", line 449, in send\n",
      "    timeout=timeout\n",
      "  File \"//anaconda/lib/python3.6/site-packages/urllib3/connectionpool.py\", line 638, in urlopen\n",
      "    _stacktrace=sys.exc_info()[2])\n",
      "  File \"//anaconda/lib/python3.6/site-packages/urllib3/util/retry.py\", line 399, in increment\n",
      "    raise MaxRetryError(_pool, url, error or ResponseError(cause))\n",
      "urllib3.exceptions.MaxRetryError: HTTPConnectionPool(host='clerk.house.gov', port=80): Max retries exceeded with url: /evs/2003/roll630.xml (Caused by NewConnectionError('<urllib3.connection.HTTPConnection object at 0x11ebe5ef0>: Failed to establish a new connection: [Errno 60] Operation timed out',))\n",
      "\n",
      "During handling of the above exception, another exception occurred:\n",
      "\n",
      "Traceback (most recent call last):\n",
      "  File \"<ipython-input-8-530adc215787>\", line 7, in house_rollcall_individual_parallel\n",
      "    obj.roll_call_single_to_psql(year, rollcall)\n",
      "  File \"/Users/benellis/Projects/congress/congress/etl/house_votes.py\", line 183, in roll_call_single_to_psql\n",
      "    df = self.roll_call_single(year, roll)\n",
      "  File \"/Users/benellis/Projects/congress/congress/etl/house_votes.py\", line 137, in roll_call_single\n",
      "    data = requests.get(url)\n",
      "  File \"//anaconda/lib/python3.6/site-packages/requests/api.py\", line 75, in get\n",
      "    return request('get', url, params=params, **kwargs)\n",
      "  File \"//anaconda/lib/python3.6/site-packages/requests/api.py\", line 60, in request\n",
      "    return session.request(method=method, url=url, **kwargs)\n",
      "  File \"//anaconda/lib/python3.6/site-packages/requests/sessions.py\", line 533, in request\n",
      "    resp = self.send(prep, **send_kwargs)\n",
      "  File \"//anaconda/lib/python3.6/site-packages/requests/sessions.py\", line 646, in send\n",
      "    r = adapter.send(request, **kwargs)\n",
      "  File \"//anaconda/lib/python3.6/site-packages/requests/adapters.py\", line 516, in send\n",
      "    raise ConnectionError(e, request=request)\n",
      "requests.exceptions.ConnectionError: HTTPConnectionPool(host='clerk.house.gov', port=80): Max retries exceeded with url: /evs/2003/roll630.xml (Caused by NewConnectionError('<urllib3.connection.HTTPConnection object at 0x11ebe5ef0>: Failed to establish a new connection: [Errno 60] Operation timed out',))\n"
     ]
    },
    {
     "name": "stdout",
     "output_type": "stream",
     "text": [
      "http://clerk.house.gov/evs/2003/roll629.xml\n",
      "http://clerk.house.gov/evs/2005/roll501.xml\n",
      "http://clerk.house.gov/evs/2005/roll500.xml\n",
      "http://clerk.house.gov/evs/2005/roll671.xml\n",
      "http://clerk.house.gov/evs/2005/roll670.xml\n"
     ]
    },
    {
     "name": "stderr",
     "output_type": "stream",
     "text": [
      "Traceback (most recent call last):\n",
      "  File \"//anaconda/lib/python3.6/site-packages/urllib3/connection.py\", line 159, in _new_conn\n",
      "    (self._dns_host, self.port), self.timeout, **extra_kw)\n",
      "  File \"//anaconda/lib/python3.6/site-packages/urllib3/util/connection.py\", line 80, in create_connection\n",
      "    raise err\n",
      "  File \"//anaconda/lib/python3.6/site-packages/urllib3/util/connection.py\", line 70, in create_connection\n",
      "    sock.connect(sa)\n",
      "TimeoutError: [Errno 60] Operation timed out\n",
      "\n",
      "During handling of the above exception, another exception occurred:\n",
      "\n",
      "Traceback (most recent call last):\n",
      "  File \"//anaconda/lib/python3.6/site-packages/urllib3/connectionpool.py\", line 600, in urlopen\n",
      "    chunked=chunked)\n",
      "  File \"//anaconda/lib/python3.6/site-packages/urllib3/connectionpool.py\", line 354, in _make_request\n",
      "    conn.request(method, url, **httplib_request_kw)\n",
      "  File \"//anaconda/lib/python3.6/http/client.py\", line 1254, in request\n",
      "    self._send_request(method, url, body, headers, encode_chunked)\n",
      "  File \"//anaconda/lib/python3.6/http/client.py\", line 1300, in _send_request\n",
      "    self.endheaders(body, encode_chunked=encode_chunked)\n",
      "  File \"//anaconda/lib/python3.6/http/client.py\", line 1249, in endheaders\n",
      "    self._send_output(message_body, encode_chunked=encode_chunked)\n",
      "  File \"//anaconda/lib/python3.6/http/client.py\", line 1036, in _send_output\n",
      "    self.send(msg)\n",
      "  File \"//anaconda/lib/python3.6/http/client.py\", line 974, in send\n",
      "    self.connect()\n",
      "  File \"//anaconda/lib/python3.6/site-packages/urllib3/connection.py\", line 181, in connect\n",
      "    conn = self._new_conn()\n",
      "  File \"//anaconda/lib/python3.6/site-packages/urllib3/connection.py\", line 168, in _new_conn\n",
      "    self, \"Failed to establish a new connection: %s\" % e)\n",
      "urllib3.exceptions.NewConnectionError: <urllib3.connection.HTTPConnection object at 0x120136a58>: Failed to establish a new connection: [Errno 60] Operation timed out\n",
      "\n",
      "During handling of the above exception, another exception occurred:\n",
      "\n",
      "Traceback (most recent call last):\n",
      "  File \"//anaconda/lib/python3.6/site-packages/requests/adapters.py\", line 449, in send\n",
      "    timeout=timeout\n",
      "  File \"//anaconda/lib/python3.6/site-packages/urllib3/connectionpool.py\", line 638, in urlopen\n",
      "    _stacktrace=sys.exc_info()[2])\n",
      "  File \"//anaconda/lib/python3.6/site-packages/urllib3/util/retry.py\", line 399, in increment\n",
      "    raise MaxRetryError(_pool, url, error or ResponseError(cause))\n",
      "urllib3.exceptions.MaxRetryError: HTTPConnectionPool(host='clerk.house.gov', port=80): Max retries exceeded with url: /evs/2008/roll491.xml (Caused by NewConnectionError('<urllib3.connection.HTTPConnection object at 0x120136a58>: Failed to establish a new connection: [Errno 60] Operation timed out',))\n",
      "\n",
      "During handling of the above exception, another exception occurred:\n",
      "\n",
      "Traceback (most recent call last):\n",
      "  File \"<ipython-input-8-530adc215787>\", line 7, in house_rollcall_individual_parallel\n",
      "    obj.roll_call_single_to_psql(year, rollcall)\n",
      "  File \"/Users/benellis/Projects/congress/congress/etl/house_votes.py\", line 183, in roll_call_single_to_psql\n",
      "    df = self.roll_call_single(year, roll)\n",
      "  File \"/Users/benellis/Projects/congress/congress/etl/house_votes.py\", line 137, in roll_call_single\n",
      "    data = requests.get(url)\n",
      "  File \"//anaconda/lib/python3.6/site-packages/requests/api.py\", line 75, in get\n",
      "    return request('get', url, params=params, **kwargs)\n",
      "  File \"//anaconda/lib/python3.6/site-packages/requests/api.py\", line 60, in request\n",
      "    return session.request(method=method, url=url, **kwargs)\n",
      "  File \"//anaconda/lib/python3.6/site-packages/requests/sessions.py\", line 533, in request\n",
      "    resp = self.send(prep, **send_kwargs)\n",
      "  File \"//anaconda/lib/python3.6/site-packages/requests/sessions.py\", line 646, in send\n",
      "    r = adapter.send(request, **kwargs)\n",
      "  File \"//anaconda/lib/python3.6/site-packages/requests/adapters.py\", line 516, in send\n",
      "    raise ConnectionError(e, request=request)\n",
      "requests.exceptions.ConnectionError: HTTPConnectionPool(host='clerk.house.gov', port=80): Max retries exceeded with url: /evs/2008/roll491.xml (Caused by NewConnectionError('<urllib3.connection.HTTPConnection object at 0x120136a58>: Failed to establish a new connection: [Errno 60] Operation timed out',))\n"
     ]
    },
    {
     "name": "stdout",
     "output_type": "stream",
     "text": [
      "http://clerk.house.gov/evs/2008/roll490.xml\n"
     ]
    },
    {
     "name": "stderr",
     "output_type": "stream",
     "text": [
      "Traceback (most recent call last):\n",
      "  File \"//anaconda/lib/python3.6/site-packages/urllib3/connection.py\", line 159, in _new_conn\n",
      "    (self._dns_host, self.port), self.timeout, **extra_kw)\n",
      "  File \"//anaconda/lib/python3.6/site-packages/urllib3/util/connection.py\", line 80, in create_connection\n",
      "    raise err\n",
      "  File \"//anaconda/lib/python3.6/site-packages/urllib3/util/connection.py\", line 70, in create_connection\n",
      "    sock.connect(sa)\n",
      "TimeoutError: [Errno 60] Operation timed out\n",
      "\n",
      "During handling of the above exception, another exception occurred:\n",
      "\n",
      "Traceback (most recent call last):\n",
      "  File \"//anaconda/lib/python3.6/site-packages/urllib3/connectionpool.py\", line 600, in urlopen\n",
      "    chunked=chunked)\n",
      "  File \"//anaconda/lib/python3.6/site-packages/urllib3/connectionpool.py\", line 354, in _make_request\n",
      "    conn.request(method, url, **httplib_request_kw)\n",
      "  File \"//anaconda/lib/python3.6/http/client.py\", line 1254, in request\n",
      "    self._send_request(method, url, body, headers, encode_chunked)\n",
      "  File \"//anaconda/lib/python3.6/http/client.py\", line 1300, in _send_request\n",
      "    self.endheaders(body, encode_chunked=encode_chunked)\n",
      "  File \"//anaconda/lib/python3.6/http/client.py\", line 1249, in endheaders\n",
      "    self._send_output(message_body, encode_chunked=encode_chunked)\n",
      "  File \"//anaconda/lib/python3.6/http/client.py\", line 1036, in _send_output\n",
      "    self.send(msg)\n",
      "  File \"//anaconda/lib/python3.6/http/client.py\", line 974, in send\n",
      "    self.connect()\n",
      "  File \"//anaconda/lib/python3.6/site-packages/urllib3/connection.py\", line 181, in connect\n",
      "    conn = self._new_conn()\n",
      "  File \"//anaconda/lib/python3.6/site-packages/urllib3/connection.py\", line 168, in _new_conn\n",
      "    self, \"Failed to establish a new connection: %s\" % e)\n",
      "urllib3.exceptions.NewConnectionError: <urllib3.connection.HTTPConnection object at 0x11f70fc88>: Failed to establish a new connection: [Errno 60] Operation timed out\n",
      "\n",
      "During handling of the above exception, another exception occurred:\n",
      "\n",
      "Traceback (most recent call last):\n",
      "  File \"//anaconda/lib/python3.6/site-packages/requests/adapters.py\", line 449, in send\n",
      "    timeout=timeout\n",
      "  File \"//anaconda/lib/python3.6/site-packages/urllib3/connectionpool.py\", line 638, in urlopen\n",
      "    _stacktrace=sys.exc_info()[2])\n",
      "  File \"//anaconda/lib/python3.6/site-packages/urllib3/util/retry.py\", line 399, in increment\n",
      "    raise MaxRetryError(_pool, url, error or ResponseError(cause))\n",
      "urllib3.exceptions.MaxRetryError: HTTPConnectionPool(host='clerk.house.gov', port=80): Max retries exceeded with url: /evs/2007/roll859.xml (Caused by NewConnectionError('<urllib3.connection.HTTPConnection object at 0x11f70fc88>: Failed to establish a new connection: [Errno 60] Operation timed out',))\n",
      "\n",
      "During handling of the above exception, another exception occurred:\n",
      "\n",
      "Traceback (most recent call last):\n",
      "  File \"<ipython-input-8-530adc215787>\", line 7, in house_rollcall_individual_parallel\n",
      "    obj.roll_call_single_to_psql(year, rollcall)\n",
      "  File \"/Users/benellis/Projects/congress/congress/etl/house_votes.py\", line 183, in roll_call_single_to_psql\n",
      "    df = self.roll_call_single(year, roll)\n",
      "  File \"/Users/benellis/Projects/congress/congress/etl/house_votes.py\", line 137, in roll_call_single\n",
      "    data = requests.get(url)\n",
      "  File \"//anaconda/lib/python3.6/site-packages/requests/api.py\", line 75, in get\n",
      "    return request('get', url, params=params, **kwargs)\n",
      "  File \"//anaconda/lib/python3.6/site-packages/requests/api.py\", line 60, in request\n",
      "    return session.request(method=method, url=url, **kwargs)\n",
      "  File \"//anaconda/lib/python3.6/site-packages/requests/sessions.py\", line 533, in request\n",
      "    resp = self.send(prep, **send_kwargs)\n",
      "  File \"//anaconda/lib/python3.6/site-packages/requests/sessions.py\", line 646, in send\n",
      "    r = adapter.send(request, **kwargs)\n",
      "  File \"//anaconda/lib/python3.6/site-packages/requests/adapters.py\", line 516, in send\n",
      "    raise ConnectionError(e, request=request)\n",
      "requests.exceptions.ConnectionError: HTTPConnectionPool(host='clerk.house.gov', port=80): Max retries exceeded with url: /evs/2007/roll859.xml (Caused by NewConnectionError('<urllib3.connection.HTTPConnection object at 0x11f70fc88>: Failed to establish a new connection: [Errno 60] Operation timed out',))\n"
     ]
    },
    {
     "name": "stdout",
     "output_type": "stream",
     "text": [
      "http://clerk.house.gov/evs/2007/roll858.xml\n"
     ]
    },
    {
     "name": "stderr",
     "output_type": "stream",
     "text": [
      "Traceback (most recent call last):\n",
      "  File \"//anaconda/lib/python3.6/site-packages/urllib3/connection.py\", line 159, in _new_conn\n",
      "    (self._dns_host, self.port), self.timeout, **extra_kw)\n",
      "  File \"//anaconda/lib/python3.6/site-packages/urllib3/util/connection.py\", line 80, in create_connection\n",
      "    raise err\n",
      "  File \"//anaconda/lib/python3.6/site-packages/urllib3/util/connection.py\", line 70, in create_connection\n",
      "    sock.connect(sa)\n",
      "TimeoutError: [Errno 60] Operation timed out\n",
      "\n",
      "During handling of the above exception, another exception occurred:\n",
      "\n",
      "Traceback (most recent call last):\n",
      "  File \"//anaconda/lib/python3.6/site-packages/urllib3/connectionpool.py\", line 600, in urlopen\n",
      "    chunked=chunked)\n",
      "  File \"//anaconda/lib/python3.6/site-packages/urllib3/connectionpool.py\", line 354, in _make_request\n",
      "    conn.request(method, url, **httplib_request_kw)\n",
      "  File \"//anaconda/lib/python3.6/http/client.py\", line 1254, in request\n",
      "    self._send_request(method, url, body, headers, encode_chunked)\n",
      "  File \"//anaconda/lib/python3.6/http/client.py\", line 1300, in _send_request\n",
      "    self.endheaders(body, encode_chunked=encode_chunked)\n",
      "  File \"//anaconda/lib/python3.6/http/client.py\", line 1249, in endheaders\n",
      "    self._send_output(message_body, encode_chunked=encode_chunked)\n",
      "  File \"//anaconda/lib/python3.6/http/client.py\", line 1036, in _send_output\n",
      "    self.send(msg)\n",
      "  File \"//anaconda/lib/python3.6/http/client.py\", line 974, in send\n",
      "    self.connect()\n",
      "  File \"//anaconda/lib/python3.6/site-packages/urllib3/connection.py\", line 181, in connect\n",
      "    conn = self._new_conn()\n",
      "  File \"//anaconda/lib/python3.6/site-packages/urllib3/connection.py\", line 168, in _new_conn\n",
      "    self, \"Failed to establish a new connection: %s\" % e)\n",
      "urllib3.exceptions.NewConnectionError: <urllib3.connection.HTTPConnection object at 0x11fcf4588>: Failed to establish a new connection: [Errno 60] Operation timed out\n",
      "\n",
      "During handling of the above exception, another exception occurred:\n",
      "\n",
      "Traceback (most recent call last):\n",
      "  File \"//anaconda/lib/python3.6/site-packages/requests/adapters.py\", line 449, in send\n",
      "    timeout=timeout\n",
      "  File \"//anaconda/lib/python3.6/site-packages/urllib3/connectionpool.py\", line 638, in urlopen\n",
      "    _stacktrace=sys.exc_info()[2])\n",
      "  File \"//anaconda/lib/python3.6/site-packages/urllib3/util/retry.py\", line 399, in increment\n",
      "    raise MaxRetryError(_pool, url, error or ResponseError(cause))\n",
      "urllib3.exceptions.MaxRetryError: HTTPConnectionPool(host='clerk.house.gov', port=80): Max retries exceeded with url: /evs/2003/roll629.xml (Caused by NewConnectionError('<urllib3.connection.HTTPConnection object at 0x11fcf4588>: Failed to establish a new connection: [Errno 60] Operation timed out',))\n",
      "\n",
      "During handling of the above exception, another exception occurred:\n",
      "\n",
      "Traceback (most recent call last):\n",
      "  File \"<ipython-input-8-530adc215787>\", line 7, in house_rollcall_individual_parallel\n",
      "    obj.roll_call_single_to_psql(year, rollcall)\n",
      "  File \"/Users/benellis/Projects/congress/congress/etl/house_votes.py\", line 183, in roll_call_single_to_psql\n",
      "    df = self.roll_call_single(year, roll)\n",
      "  File \"/Users/benellis/Projects/congress/congress/etl/house_votes.py\", line 137, in roll_call_single\n",
      "    data = requests.get(url)\n",
      "  File \"//anaconda/lib/python3.6/site-packages/requests/api.py\", line 75, in get\n",
      "    return request('get', url, params=params, **kwargs)\n",
      "  File \"//anaconda/lib/python3.6/site-packages/requests/api.py\", line 60, in request\n",
      "    return session.request(method=method, url=url, **kwargs)\n",
      "  File \"//anaconda/lib/python3.6/site-packages/requests/sessions.py\", line 533, in request\n",
      "    resp = self.send(prep, **send_kwargs)\n",
      "  File \"//anaconda/lib/python3.6/site-packages/requests/sessions.py\", line 646, in send\n",
      "    r = adapter.send(request, **kwargs)\n",
      "  File \"//anaconda/lib/python3.6/site-packages/requests/adapters.py\", line 516, in send\n",
      "    raise ConnectionError(e, request=request)\n",
      "requests.exceptions.ConnectionError: HTTPConnectionPool(host='clerk.house.gov', port=80): Max retries exceeded with url: /evs/2003/roll629.xml (Caused by NewConnectionError('<urllib3.connection.HTTPConnection object at 0x11fcf4588>: Failed to establish a new connection: [Errno 60] Operation timed out',))\n"
     ]
    },
    {
     "name": "stdout",
     "output_type": "stream",
     "text": [
      "http://clerk.house.gov/evs/2003/roll628.xml\n",
      "http://clerk.house.gov/evs/2005/roll669.xml\n",
      "http://clerk.house.gov/evs/2008/roll489.xml\n",
      "http://clerk.house.gov/evs/2005/roll668.xml\n"
     ]
    },
    {
     "name": "stderr",
     "output_type": "stream",
     "text": [
      "Traceback (most recent call last):\n",
      "  File \"//anaconda/lib/python3.6/site-packages/urllib3/connection.py\", line 159, in _new_conn\n",
      "    (self._dns_host, self.port), self.timeout, **extra_kw)\n",
      "  File \"//anaconda/lib/python3.6/site-packages/urllib3/util/connection.py\", line 80, in create_connection\n",
      "    raise err\n",
      "  File \"//anaconda/lib/python3.6/site-packages/urllib3/util/connection.py\", line 70, in create_connection\n",
      "    sock.connect(sa)\n",
      "TimeoutError: [Errno 60] Operation timed out\n",
      "\n",
      "During handling of the above exception, another exception occurred:\n",
      "\n",
      "Traceback (most recent call last):\n",
      "  File \"//anaconda/lib/python3.6/site-packages/urllib3/connectionpool.py\", line 600, in urlopen\n",
      "    chunked=chunked)\n",
      "  File \"//anaconda/lib/python3.6/site-packages/urllib3/connectionpool.py\", line 354, in _make_request\n",
      "    conn.request(method, url, **httplib_request_kw)\n",
      "  File \"//anaconda/lib/python3.6/http/client.py\", line 1254, in request\n",
      "    self._send_request(method, url, body, headers, encode_chunked)\n",
      "  File \"//anaconda/lib/python3.6/http/client.py\", line 1300, in _send_request\n",
      "    self.endheaders(body, encode_chunked=encode_chunked)\n",
      "  File \"//anaconda/lib/python3.6/http/client.py\", line 1249, in endheaders\n",
      "    self._send_output(message_body, encode_chunked=encode_chunked)\n",
      "  File \"//anaconda/lib/python3.6/http/client.py\", line 1036, in _send_output\n",
      "    self.send(msg)\n",
      "  File \"//anaconda/lib/python3.6/http/client.py\", line 974, in send\n",
      "    self.connect()\n",
      "  File \"//anaconda/lib/python3.6/site-packages/urllib3/connection.py\", line 181, in connect\n",
      "    conn = self._new_conn()\n",
      "  File \"//anaconda/lib/python3.6/site-packages/urllib3/connection.py\", line 168, in _new_conn\n",
      "    self, \"Failed to establish a new connection: %s\" % e)\n",
      "urllib3.exceptions.NewConnectionError: <urllib3.connection.HTTPConnection object at 0x11f70f550>: Failed to establish a new connection: [Errno 60] Operation timed out\n",
      "\n",
      "During handling of the above exception, another exception occurred:\n",
      "\n",
      "Traceback (most recent call last):\n",
      "  File \"//anaconda/lib/python3.6/site-packages/requests/adapters.py\", line 449, in send\n",
      "    timeout=timeout\n",
      "  File \"//anaconda/lib/python3.6/site-packages/urllib3/connectionpool.py\", line 638, in urlopen\n",
      "    _stacktrace=sys.exc_info()[2])\n",
      "  File \"//anaconda/lib/python3.6/site-packages/urllib3/util/retry.py\", line 399, in increment\n",
      "    raise MaxRetryError(_pool, url, error or ResponseError(cause))\n",
      "urllib3.exceptions.MaxRetryError: HTTPConnectionPool(host='clerk.house.gov', port=80): Max retries exceeded with url: /evs/2007/roll858.xml (Caused by NewConnectionError('<urllib3.connection.HTTPConnection object at 0x11f70f550>: Failed to establish a new connection: [Errno 60] Operation timed out',))\n",
      "\n",
      "During handling of the above exception, another exception occurred:\n",
      "\n",
      "Traceback (most recent call last):\n",
      "  File \"<ipython-input-8-530adc215787>\", line 7, in house_rollcall_individual_parallel\n",
      "    obj.roll_call_single_to_psql(year, rollcall)\n",
      "  File \"/Users/benellis/Projects/congress/congress/etl/house_votes.py\", line 183, in roll_call_single_to_psql\n",
      "    df = self.roll_call_single(year, roll)\n",
      "  File \"/Users/benellis/Projects/congress/congress/etl/house_votes.py\", line 137, in roll_call_single\n",
      "    data = requests.get(url)\n",
      "  File \"//anaconda/lib/python3.6/site-packages/requests/api.py\", line 75, in get\n",
      "    return request('get', url, params=params, **kwargs)\n",
      "  File \"//anaconda/lib/python3.6/site-packages/requests/api.py\", line 60, in request\n",
      "    return session.request(method=method, url=url, **kwargs)\n",
      "  File \"//anaconda/lib/python3.6/site-packages/requests/sessions.py\", line 533, in request\n",
      "    resp = self.send(prep, **send_kwargs)\n",
      "  File \"//anaconda/lib/python3.6/site-packages/requests/sessions.py\", line 646, in send\n",
      "    r = adapter.send(request, **kwargs)\n",
      "  File \"//anaconda/lib/python3.6/site-packages/requests/adapters.py\", line 516, in send\n",
      "    raise ConnectionError(e, request=request)\n",
      "requests.exceptions.ConnectionError: HTTPConnectionPool(host='clerk.house.gov', port=80): Max retries exceeded with url: /evs/2007/roll858.xml (Caused by NewConnectionError('<urllib3.connection.HTTPConnection object at 0x11f70f550>: Failed to establish a new connection: [Errno 60] Operation timed out',))\n"
     ]
    },
    {
     "name": "stdout",
     "output_type": "stream",
     "text": [
      "http://clerk.house.gov/evs/2007/roll857.xml\n"
     ]
    },
    {
     "name": "stderr",
     "output_type": "stream",
     "text": [
      "Traceback (most recent call last):\n",
      "  File \"//anaconda/lib/python3.6/site-packages/urllib3/connection.py\", line 159, in _new_conn\n",
      "    (self._dns_host, self.port), self.timeout, **extra_kw)\n",
      "  File \"//anaconda/lib/python3.6/site-packages/urllib3/util/connection.py\", line 80, in create_connection\n",
      "    raise err\n",
      "  File \"//anaconda/lib/python3.6/site-packages/urllib3/util/connection.py\", line 70, in create_connection\n",
      "    sock.connect(sa)\n",
      "TimeoutError: [Errno 60] Operation timed out\n",
      "\n",
      "During handling of the above exception, another exception occurred:\n",
      "\n",
      "Traceback (most recent call last):\n",
      "  File \"//anaconda/lib/python3.6/site-packages/urllib3/connectionpool.py\", line 600, in urlopen\n",
      "    chunked=chunked)\n",
      "  File \"//anaconda/lib/python3.6/site-packages/urllib3/connectionpool.py\", line 354, in _make_request\n",
      "    conn.request(method, url, **httplib_request_kw)\n",
      "  File \"//anaconda/lib/python3.6/http/client.py\", line 1254, in request\n",
      "    self._send_request(method, url, body, headers, encode_chunked)\n",
      "  File \"//anaconda/lib/python3.6/http/client.py\", line 1300, in _send_request\n",
      "    self.endheaders(body, encode_chunked=encode_chunked)\n",
      "  File \"//anaconda/lib/python3.6/http/client.py\", line 1249, in endheaders\n",
      "    self._send_output(message_body, encode_chunked=encode_chunked)\n",
      "  File \"//anaconda/lib/python3.6/http/client.py\", line 1036, in _send_output\n",
      "    self.send(msg)\n",
      "  File \"//anaconda/lib/python3.6/http/client.py\", line 974, in send\n",
      "    self.connect()\n",
      "  File \"//anaconda/lib/python3.6/site-packages/urllib3/connection.py\", line 181, in connect\n",
      "    conn = self._new_conn()\n",
      "  File \"//anaconda/lib/python3.6/site-packages/urllib3/connection.py\", line 168, in _new_conn\n",
      "    self, \"Failed to establish a new connection: %s\" % e)\n",
      "urllib3.exceptions.NewConnectionError: <urllib3.connection.HTTPConnection object at 0x11fcf4cc0>: Failed to establish a new connection: [Errno 60] Operation timed out\n",
      "\n",
      "During handling of the above exception, another exception occurred:\n",
      "\n",
      "Traceback (most recent call last):\n",
      "  File \"//anaconda/lib/python3.6/site-packages/requests/adapters.py\", line 449, in send\n",
      "    timeout=timeout\n",
      "  File \"//anaconda/lib/python3.6/site-packages/urllib3/connectionpool.py\", line 638, in urlopen\n",
      "    _stacktrace=sys.exc_info()[2])\n",
      "  File \"//anaconda/lib/python3.6/site-packages/urllib3/util/retry.py\", line 399, in increment\n",
      "    raise MaxRetryError(_pool, url, error or ResponseError(cause))\n",
      "urllib3.exceptions.MaxRetryError: HTTPConnectionPool(host='clerk.house.gov', port=80): Max retries exceeded with url: /evs/2003/roll628.xml (Caused by NewConnectionError('<urllib3.connection.HTTPConnection object at 0x11fcf4cc0>: Failed to establish a new connection: [Errno 60] Operation timed out',))\n",
      "\n",
      "During handling of the above exception, another exception occurred:\n",
      "\n",
      "Traceback (most recent call last):\n",
      "  File \"<ipython-input-8-530adc215787>\", line 7, in house_rollcall_individual_parallel\n",
      "    obj.roll_call_single_to_psql(year, rollcall)\n",
      "  File \"/Users/benellis/Projects/congress/congress/etl/house_votes.py\", line 183, in roll_call_single_to_psql\n",
      "    df = self.roll_call_single(year, roll)\n",
      "  File \"/Users/benellis/Projects/congress/congress/etl/house_votes.py\", line 137, in roll_call_single\n",
      "    data = requests.get(url)\n",
      "  File \"//anaconda/lib/python3.6/site-packages/requests/api.py\", line 75, in get\n",
      "    return request('get', url, params=params, **kwargs)\n",
      "  File \"//anaconda/lib/python3.6/site-packages/requests/api.py\", line 60, in request\n",
      "    return session.request(method=method, url=url, **kwargs)\n",
      "  File \"//anaconda/lib/python3.6/site-packages/requests/sessions.py\", line 533, in request\n",
      "    resp = self.send(prep, **send_kwargs)\n",
      "  File \"//anaconda/lib/python3.6/site-packages/requests/sessions.py\", line 646, in send\n",
      "    r = adapter.send(request, **kwargs)\n",
      "  File \"//anaconda/lib/python3.6/site-packages/requests/adapters.py\", line 516, in send\n",
      "    raise ConnectionError(e, request=request)\n",
      "requests.exceptions.ConnectionError: HTTPConnectionPool(host='clerk.house.gov', port=80): Max retries exceeded with url: /evs/2003/roll628.xml (Caused by NewConnectionError('<urllib3.connection.HTTPConnection object at 0x11fcf4cc0>: Failed to establish a new connection: [Errno 60] Operation timed out',))\n"
     ]
    },
    {
     "name": "stdout",
     "output_type": "stream",
     "text": [
      "http://clerk.house.gov/evs/2003/roll627.xml\n"
     ]
    },
    {
     "name": "stderr",
     "output_type": "stream",
     "text": [
      "Traceback (most recent call last):\n",
      "  File \"//anaconda/lib/python3.6/site-packages/urllib3/connection.py\", line 159, in _new_conn\n",
      "    (self._dns_host, self.port), self.timeout, **extra_kw)\n",
      "  File \"//anaconda/lib/python3.6/site-packages/urllib3/util/connection.py\", line 80, in create_connection\n",
      "    raise err\n",
      "  File \"//anaconda/lib/python3.6/site-packages/urllib3/util/connection.py\", line 70, in create_connection\n",
      "    sock.connect(sa)\n",
      "TimeoutError: [Errno 60] Operation timed out\n",
      "\n",
      "During handling of the above exception, another exception occurred:\n",
      "\n",
      "Traceback (most recent call last):\n",
      "  File \"//anaconda/lib/python3.6/site-packages/urllib3/connectionpool.py\", line 600, in urlopen\n",
      "    chunked=chunked)\n",
      "  File \"//anaconda/lib/python3.6/site-packages/urllib3/connectionpool.py\", line 354, in _make_request\n",
      "    conn.request(method, url, **httplib_request_kw)\n",
      "  File \"//anaconda/lib/python3.6/http/client.py\", line 1254, in request\n",
      "    self._send_request(method, url, body, headers, encode_chunked)\n",
      "  File \"//anaconda/lib/python3.6/http/client.py\", line 1300, in _send_request\n",
      "    self.endheaders(body, encode_chunked=encode_chunked)\n",
      "  File \"//anaconda/lib/python3.6/http/client.py\", line 1249, in endheaders\n",
      "    self._send_output(message_body, encode_chunked=encode_chunked)\n",
      "  File \"//anaconda/lib/python3.6/http/client.py\", line 1036, in _send_output\n",
      "    self.send(msg)\n",
      "  File \"//anaconda/lib/python3.6/http/client.py\", line 974, in send\n",
      "    self.connect()\n",
      "  File \"//anaconda/lib/python3.6/site-packages/urllib3/connection.py\", line 181, in connect\n",
      "    conn = self._new_conn()\n",
      "  File \"//anaconda/lib/python3.6/site-packages/urllib3/connection.py\", line 168, in _new_conn\n",
      "    self, \"Failed to establish a new connection: %s\" % e)\n",
      "urllib3.exceptions.NewConnectionError: <urllib3.connection.HTTPConnection object at 0x11fb96dd8>: Failed to establish a new connection: [Errno 60] Operation timed out\n",
      "\n",
      "During handling of the above exception, another exception occurred:\n",
      "\n",
      "Traceback (most recent call last):\n",
      "  File \"//anaconda/lib/python3.6/site-packages/requests/adapters.py\", line 449, in send\n",
      "    timeout=timeout\n",
      "  File \"//anaconda/lib/python3.6/site-packages/urllib3/connectionpool.py\", line 638, in urlopen\n",
      "    _stacktrace=sys.exc_info()[2])\n",
      "  File \"//anaconda/lib/python3.6/site-packages/urllib3/util/retry.py\", line 399, in increment\n",
      "    raise MaxRetryError(_pool, url, error or ResponseError(cause))\n",
      "urllib3.exceptions.MaxRetryError: HTTPConnectionPool(host='clerk.house.gov', port=80): Max retries exceeded with url: /evs/2008/roll489.xml (Caused by NewConnectionError('<urllib3.connection.HTTPConnection object at 0x11fb96dd8>: Failed to establish a new connection: [Errno 60] Operation timed out',))\n",
      "\n",
      "During handling of the above exception, another exception occurred:\n",
      "\n",
      "Traceback (most recent call last):\n",
      "  File \"<ipython-input-8-530adc215787>\", line 7, in house_rollcall_individual_parallel\n",
      "    obj.roll_call_single_to_psql(year, rollcall)\n",
      "  File \"/Users/benellis/Projects/congress/congress/etl/house_votes.py\", line 183, in roll_call_single_to_psql\n",
      "    df = self.roll_call_single(year, roll)\n",
      "  File \"/Users/benellis/Projects/congress/congress/etl/house_votes.py\", line 137, in roll_call_single\n",
      "    data = requests.get(url)\n",
      "  File \"//anaconda/lib/python3.6/site-packages/requests/api.py\", line 75, in get\n",
      "    return request('get', url, params=params, **kwargs)\n",
      "  File \"//anaconda/lib/python3.6/site-packages/requests/api.py\", line 60, in request\n",
      "    return session.request(method=method, url=url, **kwargs)\n",
      "  File \"//anaconda/lib/python3.6/site-packages/requests/sessions.py\", line 533, in request\n",
      "    resp = self.send(prep, **send_kwargs)\n",
      "  File \"//anaconda/lib/python3.6/site-packages/requests/sessions.py\", line 646, in send\n",
      "    r = adapter.send(request, **kwargs)\n",
      "  File \"//anaconda/lib/python3.6/site-packages/requests/adapters.py\", line 516, in send\n",
      "    raise ConnectionError(e, request=request)\n",
      "requests.exceptions.ConnectionError: HTTPConnectionPool(host='clerk.house.gov', port=80): Max retries exceeded with url: /evs/2008/roll489.xml (Caused by NewConnectionError('<urllib3.connection.HTTPConnection object at 0x11fb96dd8>: Failed to establish a new connection: [Errno 60] Operation timed out',))\n"
     ]
    },
    {
     "name": "stdout",
     "output_type": "stream",
     "text": [
      "http://clerk.house.gov/evs/2008/roll488.xml\n"
     ]
    },
    {
     "name": "stderr",
     "output_type": "stream",
     "text": [
      "Traceback (most recent call last):\n",
      "  File \"//anaconda/lib/python3.6/site-packages/urllib3/connection.py\", line 159, in _new_conn\n",
      "    (self._dns_host, self.port), self.timeout, **extra_kw)\n",
      "  File \"//anaconda/lib/python3.6/site-packages/urllib3/util/connection.py\", line 80, in create_connection\n",
      "    raise err\n",
      "  File \"//anaconda/lib/python3.6/site-packages/urllib3/util/connection.py\", line 70, in create_connection\n",
      "    sock.connect(sa)\n",
      "TimeoutError: [Errno 60] Operation timed out\n",
      "\n",
      "During handling of the above exception, another exception occurred:\n",
      "\n",
      "Traceback (most recent call last):\n",
      "  File \"//anaconda/lib/python3.6/site-packages/urllib3/connectionpool.py\", line 600, in urlopen\n",
      "    chunked=chunked)\n",
      "  File \"//anaconda/lib/python3.6/site-packages/urllib3/connectionpool.py\", line 354, in _make_request\n",
      "    conn.request(method, url, **httplib_request_kw)\n",
      "  File \"//anaconda/lib/python3.6/http/client.py\", line 1254, in request\n",
      "    self._send_request(method, url, body, headers, encode_chunked)\n",
      "  File \"//anaconda/lib/python3.6/http/client.py\", line 1300, in _send_request\n",
      "    self.endheaders(body, encode_chunked=encode_chunked)\n",
      "  File \"//anaconda/lib/python3.6/http/client.py\", line 1249, in endheaders\n",
      "    self._send_output(message_body, encode_chunked=encode_chunked)\n",
      "  File \"//anaconda/lib/python3.6/http/client.py\", line 1036, in _send_output\n",
      "    self.send(msg)\n",
      "  File \"//anaconda/lib/python3.6/http/client.py\", line 974, in send\n",
      "    self.connect()\n",
      "  File \"//anaconda/lib/python3.6/site-packages/urllib3/connection.py\", line 181, in connect\n",
      "    conn = self._new_conn()\n",
      "  File \"//anaconda/lib/python3.6/site-packages/urllib3/connection.py\", line 168, in _new_conn\n",
      "    self, \"Failed to establish a new connection: %s\" % e)\n",
      "urllib3.exceptions.NewConnectionError: <urllib3.connection.HTTPConnection object at 0x11f69f198>: Failed to establish a new connection: [Errno 60] Operation timed out\n",
      "\n",
      "During handling of the above exception, another exception occurred:\n",
      "\n",
      "Traceback (most recent call last):\n",
      "  File \"//anaconda/lib/python3.6/site-packages/requests/adapters.py\", line 449, in send\n",
      "    timeout=timeout\n",
      "  File \"//anaconda/lib/python3.6/site-packages/urllib3/connectionpool.py\", line 638, in urlopen\n",
      "    _stacktrace=sys.exc_info()[2])\n",
      "  File \"//anaconda/lib/python3.6/site-packages/urllib3/util/retry.py\", line 399, in increment\n",
      "    raise MaxRetryError(_pool, url, error or ResponseError(cause))\n",
      "urllib3.exceptions.MaxRetryError: HTTPConnectionPool(host='clerk.house.gov', port=80): Max retries exceeded with url: /evs/2005/roll668.xml (Caused by NewConnectionError('<urllib3.connection.HTTPConnection object at 0x11f69f198>: Failed to establish a new connection: [Errno 60] Operation timed out',))\n",
      "\n",
      "During handling of the above exception, another exception occurred:\n",
      "\n",
      "Traceback (most recent call last):\n",
      "  File \"<ipython-input-8-530adc215787>\", line 7, in house_rollcall_individual_parallel\n",
      "    obj.roll_call_single_to_psql(year, rollcall)\n",
      "  File \"/Users/benellis/Projects/congress/congress/etl/house_votes.py\", line 183, in roll_call_single_to_psql\n",
      "    df = self.roll_call_single(year, roll)\n",
      "  File \"/Users/benellis/Projects/congress/congress/etl/house_votes.py\", line 137, in roll_call_single\n",
      "    data = requests.get(url)\n",
      "  File \"//anaconda/lib/python3.6/site-packages/requests/api.py\", line 75, in get\n",
      "    return request('get', url, params=params, **kwargs)\n",
      "  File \"//anaconda/lib/python3.6/site-packages/requests/api.py\", line 60, in request\n",
      "    return session.request(method=method, url=url, **kwargs)\n",
      "  File \"//anaconda/lib/python3.6/site-packages/requests/sessions.py\", line 533, in request\n",
      "    resp = self.send(prep, **send_kwargs)\n",
      "  File \"//anaconda/lib/python3.6/site-packages/requests/sessions.py\", line 646, in send\n",
      "    r = adapter.send(request, **kwargs)\n",
      "  File \"//anaconda/lib/python3.6/site-packages/requests/adapters.py\", line 516, in send\n",
      "    raise ConnectionError(e, request=request)\n",
      "requests.exceptions.ConnectionError: HTTPConnectionPool(host='clerk.house.gov', port=80): Max retries exceeded with url: /evs/2005/roll668.xml (Caused by NewConnectionError('<urllib3.connection.HTTPConnection object at 0x11f69f198>: Failed to establish a new connection: [Errno 60] Operation timed out',))\n"
     ]
    },
    {
     "name": "stdout",
     "output_type": "stream",
     "text": [
      "http://clerk.house.gov/evs/2005/roll667.xml\n"
     ]
    },
    {
     "name": "stderr",
     "output_type": "stream",
     "text": [
      "Traceback (most recent call last):\n",
      "  File \"//anaconda/lib/python3.6/site-packages/urllib3/connection.py\", line 159, in _new_conn\n",
      "    (self._dns_host, self.port), self.timeout, **extra_kw)\n",
      "  File \"//anaconda/lib/python3.6/site-packages/urllib3/util/connection.py\", line 80, in create_connection\n",
      "    raise err\n",
      "  File \"//anaconda/lib/python3.6/site-packages/urllib3/util/connection.py\", line 70, in create_connection\n",
      "    sock.connect(sa)\n",
      "TimeoutError: [Errno 60] Operation timed out\n",
      "\n",
      "During handling of the above exception, another exception occurred:\n",
      "\n",
      "Traceback (most recent call last):\n",
      "  File \"//anaconda/lib/python3.6/site-packages/urllib3/connectionpool.py\", line 600, in urlopen\n",
      "    chunked=chunked)\n",
      "  File \"//anaconda/lib/python3.6/site-packages/urllib3/connectionpool.py\", line 354, in _make_request\n",
      "    conn.request(method, url, **httplib_request_kw)\n",
      "  File \"//anaconda/lib/python3.6/http/client.py\", line 1254, in request\n",
      "    self._send_request(method, url, body, headers, encode_chunked)\n",
      "  File \"//anaconda/lib/python3.6/http/client.py\", line 1300, in _send_request\n",
      "    self.endheaders(body, encode_chunked=encode_chunked)\n",
      "  File \"//anaconda/lib/python3.6/http/client.py\", line 1249, in endheaders\n",
      "    self._send_output(message_body, encode_chunked=encode_chunked)\n",
      "  File \"//anaconda/lib/python3.6/http/client.py\", line 1036, in _send_output\n",
      "    self.send(msg)\n",
      "  File \"//anaconda/lib/python3.6/http/client.py\", line 974, in send\n",
      "    self.connect()\n",
      "  File \"//anaconda/lib/python3.6/site-packages/urllib3/connection.py\", line 181, in connect\n",
      "    conn = self._new_conn()\n",
      "  File \"//anaconda/lib/python3.6/site-packages/urllib3/connection.py\", line 168, in _new_conn\n",
      "    self, \"Failed to establish a new connection: %s\" % e)\n",
      "urllib3.exceptions.NewConnectionError: <urllib3.connection.HTTPConnection object at 0x11f710240>: Failed to establish a new connection: [Errno 60] Operation timed out\n",
      "\n",
      "During handling of the above exception, another exception occurred:\n",
      "\n",
      "Traceback (most recent call last):\n",
      "  File \"//anaconda/lib/python3.6/site-packages/requests/adapters.py\", line 449, in send\n",
      "    timeout=timeout\n",
      "  File \"//anaconda/lib/python3.6/site-packages/urllib3/connectionpool.py\", line 638, in urlopen\n",
      "    _stacktrace=sys.exc_info()[2])\n",
      "  File \"//anaconda/lib/python3.6/site-packages/urllib3/util/retry.py\", line 399, in increment\n",
      "    raise MaxRetryError(_pool, url, error or ResponseError(cause))\n",
      "urllib3.exceptions.MaxRetryError: HTTPConnectionPool(host='clerk.house.gov', port=80): Max retries exceeded with url: /evs/2007/roll857.xml (Caused by NewConnectionError('<urllib3.connection.HTTPConnection object at 0x11f710240>: Failed to establish a new connection: [Errno 60] Operation timed out',))\n",
      "\n",
      "During handling of the above exception, another exception occurred:\n",
      "\n",
      "Traceback (most recent call last):\n",
      "  File \"<ipython-input-8-530adc215787>\", line 7, in house_rollcall_individual_parallel\n",
      "    obj.roll_call_single_to_psql(year, rollcall)\n",
      "  File \"/Users/benellis/Projects/congress/congress/etl/house_votes.py\", line 183, in roll_call_single_to_psql\n",
      "    df = self.roll_call_single(year, roll)\n",
      "  File \"/Users/benellis/Projects/congress/congress/etl/house_votes.py\", line 137, in roll_call_single\n",
      "    data = requests.get(url)\n",
      "  File \"//anaconda/lib/python3.6/site-packages/requests/api.py\", line 75, in get\n",
      "    return request('get', url, params=params, **kwargs)\n",
      "  File \"//anaconda/lib/python3.6/site-packages/requests/api.py\", line 60, in request\n",
      "    return session.request(method=method, url=url, **kwargs)\n",
      "  File \"//anaconda/lib/python3.6/site-packages/requests/sessions.py\", line 533, in request\n",
      "    resp = self.send(prep, **send_kwargs)\n",
      "  File \"//anaconda/lib/python3.6/site-packages/requests/sessions.py\", line 646, in send\n",
      "    r = adapter.send(request, **kwargs)\n",
      "  File \"//anaconda/lib/python3.6/site-packages/requests/adapters.py\", line 516, in send\n",
      "    raise ConnectionError(e, request=request)\n",
      "requests.exceptions.ConnectionError: HTTPConnectionPool(host='clerk.house.gov', port=80): Max retries exceeded with url: /evs/2007/roll857.xml (Caused by NewConnectionError('<urllib3.connection.HTTPConnection object at 0x11f710240>: Failed to establish a new connection: [Errno 60] Operation timed out',))\n"
     ]
    },
    {
     "name": "stdout",
     "output_type": "stream",
     "text": [
      "http://clerk.house.gov/evs/2007/roll856.xml\n"
     ]
    },
    {
     "name": "stderr",
     "output_type": "stream",
     "text": [
      "Traceback (most recent call last):\n",
      "  File \"//anaconda/lib/python3.6/site-packages/urllib3/connection.py\", line 159, in _new_conn\n",
      "    (self._dns_host, self.port), self.timeout, **extra_kw)\n",
      "  File \"//anaconda/lib/python3.6/site-packages/urllib3/util/connection.py\", line 80, in create_connection\n",
      "    raise err\n",
      "  File \"//anaconda/lib/python3.6/site-packages/urllib3/util/connection.py\", line 70, in create_connection\n",
      "    sock.connect(sa)\n",
      "TimeoutError: [Errno 60] Operation timed out\n",
      "\n",
      "During handling of the above exception, another exception occurred:\n",
      "\n",
      "Traceback (most recent call last):\n",
      "  File \"//anaconda/lib/python3.6/site-packages/urllib3/connectionpool.py\", line 600, in urlopen\n",
      "    chunked=chunked)\n",
      "  File \"//anaconda/lib/python3.6/site-packages/urllib3/connectionpool.py\", line 354, in _make_request\n",
      "    conn.request(method, url, **httplib_request_kw)\n",
      "  File \"//anaconda/lib/python3.6/http/client.py\", line 1254, in request\n",
      "    self._send_request(method, url, body, headers, encode_chunked)\n",
      "  File \"//anaconda/lib/python3.6/http/client.py\", line 1300, in _send_request\n",
      "    self.endheaders(body, encode_chunked=encode_chunked)\n",
      "  File \"//anaconda/lib/python3.6/http/client.py\", line 1249, in endheaders\n",
      "    self._send_output(message_body, encode_chunked=encode_chunked)\n",
      "  File \"//anaconda/lib/python3.6/http/client.py\", line 1036, in _send_output\n",
      "    self.send(msg)\n",
      "  File \"//anaconda/lib/python3.6/http/client.py\", line 974, in send\n",
      "    self.connect()\n",
      "  File \"//anaconda/lib/python3.6/site-packages/urllib3/connection.py\", line 181, in connect\n",
      "    conn = self._new_conn()\n",
      "  File \"//anaconda/lib/python3.6/site-packages/urllib3/connection.py\", line 168, in _new_conn\n",
      "    self, \"Failed to establish a new connection: %s\" % e)\n",
      "urllib3.exceptions.NewConnectionError: <urllib3.connection.HTTPConnection object at 0x11ebf3438>: Failed to establish a new connection: [Errno 60] Operation timed out\n",
      "\n",
      "During handling of the above exception, another exception occurred:\n",
      "\n",
      "Traceback (most recent call last):\n",
      "  File \"//anaconda/lib/python3.6/site-packages/requests/adapters.py\", line 449, in send\n",
      "    timeout=timeout\n",
      "  File \"//anaconda/lib/python3.6/site-packages/urllib3/connectionpool.py\", line 638, in urlopen\n",
      "    _stacktrace=sys.exc_info()[2])\n",
      "  File \"//anaconda/lib/python3.6/site-packages/urllib3/util/retry.py\", line 399, in increment\n",
      "    raise MaxRetryError(_pool, url, error or ResponseError(cause))\n",
      "urllib3.exceptions.MaxRetryError: HTTPConnectionPool(host='clerk.house.gov', port=80): Max retries exceeded with url: /evs/2003/roll627.xml (Caused by NewConnectionError('<urllib3.connection.HTTPConnection object at 0x11ebf3438>: Failed to establish a new connection: [Errno 60] Operation timed out',))\n",
      "\n",
      "During handling of the above exception, another exception occurred:\n",
      "\n",
      "Traceback (most recent call last):\n",
      "  File \"<ipython-input-8-530adc215787>\", line 7, in house_rollcall_individual_parallel\n",
      "    obj.roll_call_single_to_psql(year, rollcall)\n",
      "  File \"/Users/benellis/Projects/congress/congress/etl/house_votes.py\", line 183, in roll_call_single_to_psql\n",
      "    df = self.roll_call_single(year, roll)\n",
      "  File \"/Users/benellis/Projects/congress/congress/etl/house_votes.py\", line 137, in roll_call_single\n",
      "    data = requests.get(url)\n",
      "  File \"//anaconda/lib/python3.6/site-packages/requests/api.py\", line 75, in get\n",
      "    return request('get', url, params=params, **kwargs)\n",
      "  File \"//anaconda/lib/python3.6/site-packages/requests/api.py\", line 60, in request\n",
      "    return session.request(method=method, url=url, **kwargs)\n",
      "  File \"//anaconda/lib/python3.6/site-packages/requests/sessions.py\", line 533, in request\n",
      "    resp = self.send(prep, **send_kwargs)\n",
      "  File \"//anaconda/lib/python3.6/site-packages/requests/sessions.py\", line 646, in send\n",
      "    r = adapter.send(request, **kwargs)\n",
      "  File \"//anaconda/lib/python3.6/site-packages/requests/adapters.py\", line 516, in send\n",
      "    raise ConnectionError(e, request=request)\n",
      "requests.exceptions.ConnectionError: HTTPConnectionPool(host='clerk.house.gov', port=80): Max retries exceeded with url: /evs/2003/roll627.xml (Caused by NewConnectionError('<urllib3.connection.HTTPConnection object at 0x11ebf3438>: Failed to establish a new connection: [Errno 60] Operation timed out',))\n"
     ]
    },
    {
     "name": "stdout",
     "output_type": "stream",
     "text": [
      "http://clerk.house.gov/evs/2003/roll625.xml\n"
     ]
    },
    {
     "name": "stderr",
     "output_type": "stream",
     "text": [
      "Traceback (most recent call last):\n",
      "  File \"<ipython-input-8-530adc215787>\", line 7, in house_rollcall_individual_parallel\n",
      "    obj.roll_call_single_to_psql(year, rollcall)\n",
      "  File \"/Users/benellis/Projects/congress/congress/etl/house_votes.py\", line 183, in roll_call_single_to_psql\n",
      "    df = self.roll_call_single(year, roll)\n",
      "  File \"/Users/benellis/Projects/congress/congress/etl/house_votes.py\", line 142, in roll_call_single\n",
      "    chamber = soup.find('chamber').text\n",
      "AttributeError: 'NoneType' object has no attribute 'text'\n"
     ]
    },
    {
     "name": "stdout",
     "output_type": "stream",
     "text": [
      "http://clerk.house.gov/evs/2007/roll855.xml\n"
     ]
    },
    {
     "name": "stderr",
     "output_type": "stream",
     "text": [
      "Traceback (most recent call last):\n",
      "  File \"//anaconda/lib/python3.6/site-packages/urllib3/connection.py\", line 159, in _new_conn\n",
      "    (self._dns_host, self.port), self.timeout, **extra_kw)\n",
      "  File \"//anaconda/lib/python3.6/site-packages/urllib3/util/connection.py\", line 80, in create_connection\n",
      "    raise err\n",
      "  File \"//anaconda/lib/python3.6/site-packages/urllib3/util/connection.py\", line 70, in create_connection\n",
      "    sock.connect(sa)\n",
      "TimeoutError: [Errno 60] Operation timed out\n",
      "\n",
      "During handling of the above exception, another exception occurred:\n",
      "\n",
      "Traceback (most recent call last):\n",
      "  File \"//anaconda/lib/python3.6/site-packages/urllib3/connectionpool.py\", line 600, in urlopen\n",
      "    chunked=chunked)\n",
      "  File \"//anaconda/lib/python3.6/site-packages/urllib3/connectionpool.py\", line 354, in _make_request\n",
      "    conn.request(method, url, **httplib_request_kw)\n",
      "  File \"//anaconda/lib/python3.6/http/client.py\", line 1254, in request\n",
      "    self._send_request(method, url, body, headers, encode_chunked)\n",
      "  File \"//anaconda/lib/python3.6/http/client.py\", line 1300, in _send_request\n",
      "    self.endheaders(body, encode_chunked=encode_chunked)\n",
      "  File \"//anaconda/lib/python3.6/http/client.py\", line 1249, in endheaders\n",
      "    self._send_output(message_body, encode_chunked=encode_chunked)\n",
      "  File \"//anaconda/lib/python3.6/http/client.py\", line 1036, in _send_output\n",
      "    self.send(msg)\n",
      "  File \"//anaconda/lib/python3.6/http/client.py\", line 974, in send\n",
      "    self.connect()\n",
      "  File \"//anaconda/lib/python3.6/site-packages/urllib3/connection.py\", line 181, in connect\n",
      "    conn = self._new_conn()\n",
      "  File \"//anaconda/lib/python3.6/site-packages/urllib3/connection.py\", line 168, in _new_conn\n",
      "    self, \"Failed to establish a new connection: %s\" % e)\n",
      "urllib3.exceptions.NewConnectionError: <urllib3.connection.HTTPConnection object at 0x11fba4470>: Failed to establish a new connection: [Errno 60] Operation timed out\n",
      "\n",
      "During handling of the above exception, another exception occurred:\n",
      "\n",
      "Traceback (most recent call last):\n",
      "  File \"//anaconda/lib/python3.6/site-packages/requests/adapters.py\", line 449, in send\n",
      "    timeout=timeout\n",
      "  File \"//anaconda/lib/python3.6/site-packages/urllib3/connectionpool.py\", line 638, in urlopen\n",
      "    _stacktrace=sys.exc_info()[2])\n",
      "  File \"//anaconda/lib/python3.6/site-packages/urllib3/util/retry.py\", line 399, in increment\n",
      "    raise MaxRetryError(_pool, url, error or ResponseError(cause))\n",
      "urllib3.exceptions.MaxRetryError: HTTPConnectionPool(host='clerk.house.gov', port=80): Max retries exceeded with url: /evs/2008/roll488.xml (Caused by NewConnectionError('<urllib3.connection.HTTPConnection object at 0x11fba4470>: Failed to establish a new connection: [Errno 60] Operation timed out',))\n",
      "\n",
      "During handling of the above exception, another exception occurred:\n",
      "\n",
      "Traceback (most recent call last):\n",
      "  File \"<ipython-input-8-530adc215787>\", line 7, in house_rollcall_individual_parallel\n",
      "    obj.roll_call_single_to_psql(year, rollcall)\n",
      "  File \"/Users/benellis/Projects/congress/congress/etl/house_votes.py\", line 183, in roll_call_single_to_psql\n",
      "    df = self.roll_call_single(year, roll)\n",
      "  File \"/Users/benellis/Projects/congress/congress/etl/house_votes.py\", line 137, in roll_call_single\n",
      "    data = requests.get(url)\n",
      "  File \"//anaconda/lib/python3.6/site-packages/requests/api.py\", line 75, in get\n",
      "    return request('get', url, params=params, **kwargs)\n",
      "  File \"//anaconda/lib/python3.6/site-packages/requests/api.py\", line 60, in request\n",
      "    return session.request(method=method, url=url, **kwargs)\n",
      "  File \"//anaconda/lib/python3.6/site-packages/requests/sessions.py\", line 533, in request\n",
      "    resp = self.send(prep, **send_kwargs)\n",
      "  File \"//anaconda/lib/python3.6/site-packages/requests/sessions.py\", line 646, in send\n",
      "    r = adapter.send(request, **kwargs)\n",
      "  File \"//anaconda/lib/python3.6/site-packages/requests/adapters.py\", line 516, in send\n",
      "    raise ConnectionError(e, request=request)\n",
      "requests.exceptions.ConnectionError: HTTPConnectionPool(host='clerk.house.gov', port=80): Max retries exceeded with url: /evs/2008/roll488.xml (Caused by NewConnectionError('<urllib3.connection.HTTPConnection object at 0x11fba4470>: Failed to establish a new connection: [Errno 60] Operation timed out',))\n"
     ]
    },
    {
     "name": "stdout",
     "output_type": "stream",
     "text": [
      "http://clerk.house.gov/evs/2008/roll487.xml\n"
     ]
    },
    {
     "name": "stderr",
     "output_type": "stream",
     "text": [
      "Traceback (most recent call last):\n",
      "  File \"//anaconda/lib/python3.6/site-packages/urllib3/connection.py\", line 159, in _new_conn\n",
      "    (self._dns_host, self.port), self.timeout, **extra_kw)\n",
      "  File \"//anaconda/lib/python3.6/site-packages/urllib3/util/connection.py\", line 80, in create_connection\n",
      "    raise err\n",
      "  File \"//anaconda/lib/python3.6/site-packages/urllib3/util/connection.py\", line 70, in create_connection\n",
      "    sock.connect(sa)\n",
      "TimeoutError: [Errno 60] Operation timed out\n",
      "\n",
      "During handling of the above exception, another exception occurred:\n",
      "\n",
      "Traceback (most recent call last):\n",
      "  File \"//anaconda/lib/python3.6/site-packages/urllib3/connectionpool.py\", line 600, in urlopen\n",
      "    chunked=chunked)\n",
      "  File \"//anaconda/lib/python3.6/site-packages/urllib3/connectionpool.py\", line 354, in _make_request\n",
      "    conn.request(method, url, **httplib_request_kw)\n",
      "  File \"//anaconda/lib/python3.6/http/client.py\", line 1254, in request\n",
      "    self._send_request(method, url, body, headers, encode_chunked)\n",
      "  File \"//anaconda/lib/python3.6/http/client.py\", line 1300, in _send_request\n",
      "    self.endheaders(body, encode_chunked=encode_chunked)\n",
      "  File \"//anaconda/lib/python3.6/http/client.py\", line 1249, in endheaders\n",
      "    self._send_output(message_body, encode_chunked=encode_chunked)\n",
      "  File \"//anaconda/lib/python3.6/http/client.py\", line 1036, in _send_output\n",
      "    self.send(msg)\n",
      "  File \"//anaconda/lib/python3.6/http/client.py\", line 974, in send\n",
      "    self.connect()\n",
      "  File \"//anaconda/lib/python3.6/site-packages/urllib3/connection.py\", line 181, in connect\n",
      "    conn = self._new_conn()\n",
      "  File \"//anaconda/lib/python3.6/site-packages/urllib3/connection.py\", line 168, in _new_conn\n",
      "    self, \"Failed to establish a new connection: %s\" % e)\n",
      "urllib3.exceptions.NewConnectionError: <urllib3.connection.HTTPConnection object at 0x11f69f8d0>: Failed to establish a new connection: [Errno 60] Operation timed out\n",
      "\n",
      "During handling of the above exception, another exception occurred:\n",
      "\n",
      "Traceback (most recent call last):\n",
      "  File \"//anaconda/lib/python3.6/site-packages/requests/adapters.py\", line 449, in send\n",
      "    timeout=timeout\n",
      "  File \"//anaconda/lib/python3.6/site-packages/urllib3/connectionpool.py\", line 638, in urlopen\n",
      "    _stacktrace=sys.exc_info()[2])\n",
      "  File \"//anaconda/lib/python3.6/site-packages/urllib3/util/retry.py\", line 399, in increment\n",
      "    raise MaxRetryError(_pool, url, error or ResponseError(cause))\n",
      "urllib3.exceptions.MaxRetryError: HTTPConnectionPool(host='clerk.house.gov', port=80): Max retries exceeded with url: /evs/2005/roll667.xml (Caused by NewConnectionError('<urllib3.connection.HTTPConnection object at 0x11f69f8d0>: Failed to establish a new connection: [Errno 60] Operation timed out',))\n",
      "\n",
      "During handling of the above exception, another exception occurred:\n",
      "\n",
      "Traceback (most recent call last):\n",
      "  File \"<ipython-input-8-530adc215787>\", line 7, in house_rollcall_individual_parallel\n",
      "    obj.roll_call_single_to_psql(year, rollcall)\n",
      "  File \"/Users/benellis/Projects/congress/congress/etl/house_votes.py\", line 183, in roll_call_single_to_psql\n",
      "    df = self.roll_call_single(year, roll)\n",
      "  File \"/Users/benellis/Projects/congress/congress/etl/house_votes.py\", line 137, in roll_call_single\n",
      "    data = requests.get(url)\n",
      "  File \"//anaconda/lib/python3.6/site-packages/requests/api.py\", line 75, in get\n",
      "    return request('get', url, params=params, **kwargs)\n",
      "  File \"//anaconda/lib/python3.6/site-packages/requests/api.py\", line 60, in request\n",
      "    return session.request(method=method, url=url, **kwargs)\n",
      "  File \"//anaconda/lib/python3.6/site-packages/requests/sessions.py\", line 533, in request\n",
      "    resp = self.send(prep, **send_kwargs)\n",
      "  File \"//anaconda/lib/python3.6/site-packages/requests/sessions.py\", line 646, in send\n",
      "    r = adapter.send(request, **kwargs)\n",
      "  File \"//anaconda/lib/python3.6/site-packages/requests/adapters.py\", line 516, in send\n",
      "    raise ConnectionError(e, request=request)\n",
      "requests.exceptions.ConnectionError: HTTPConnectionPool(host='clerk.house.gov', port=80): Max retries exceeded with url: /evs/2005/roll667.xml (Caused by NewConnectionError('<urllib3.connection.HTTPConnection object at 0x11f69f8d0>: Failed to establish a new connection: [Errno 60] Operation timed out',))\n"
     ]
    },
    {
     "name": "stdout",
     "output_type": "stream",
     "text": [
      "http://clerk.house.gov/evs/2005/roll666.xml\n",
      "http://clerk.house.gov/evs/2005/roll665.xml\n"
     ]
    },
    {
     "name": "stderr",
     "output_type": "stream",
     "text": [
      "Traceback (most recent call last):\n",
      "  File \"//anaconda/lib/python3.6/site-packages/urllib3/connection.py\", line 159, in _new_conn\n",
      "    (self._dns_host, self.port), self.timeout, **extra_kw)\n",
      "  File \"//anaconda/lib/python3.6/site-packages/urllib3/util/connection.py\", line 80, in create_connection\n",
      "    raise err\n",
      "  File \"//anaconda/lib/python3.6/site-packages/urllib3/util/connection.py\", line 70, in create_connection\n",
      "    sock.connect(sa)\n",
      "TimeoutError: [Errno 60] Operation timed out\n",
      "\n",
      "During handling of the above exception, another exception occurred:\n",
      "\n",
      "Traceback (most recent call last):\n",
      "  File \"//anaconda/lib/python3.6/site-packages/urllib3/connectionpool.py\", line 600, in urlopen\n",
      "    chunked=chunked)\n",
      "  File \"//anaconda/lib/python3.6/site-packages/urllib3/connectionpool.py\", line 354, in _make_request\n",
      "    conn.request(method, url, **httplib_request_kw)\n",
      "  File \"//anaconda/lib/python3.6/http/client.py\", line 1254, in request\n",
      "    self._send_request(method, url, body, headers, encode_chunked)\n",
      "  File \"//anaconda/lib/python3.6/http/client.py\", line 1300, in _send_request\n",
      "    self.endheaders(body, encode_chunked=encode_chunked)\n",
      "  File \"//anaconda/lib/python3.6/http/client.py\", line 1249, in endheaders\n",
      "    self._send_output(message_body, encode_chunked=encode_chunked)\n",
      "  File \"//anaconda/lib/python3.6/http/client.py\", line 1036, in _send_output\n",
      "    self.send(msg)\n",
      "  File \"//anaconda/lib/python3.6/http/client.py\", line 974, in send\n",
      "    self.connect()\n",
      "  File \"//anaconda/lib/python3.6/site-packages/urllib3/connection.py\", line 181, in connect\n",
      "    conn = self._new_conn()\n",
      "  File \"//anaconda/lib/python3.6/site-packages/urllib3/connection.py\", line 168, in _new_conn\n",
      "    self, \"Failed to establish a new connection: %s\" % e)\n",
      "urllib3.exceptions.NewConnectionError: <urllib3.connection.HTTPConnection object at 0x11ebf3b70>: Failed to establish a new connection: [Errno 60] Operation timed out\n",
      "\n",
      "During handling of the above exception, another exception occurred:\n",
      "\n",
      "Traceback (most recent call last):\n",
      "  File \"//anaconda/lib/python3.6/site-packages/requests/adapters.py\", line 449, in send\n",
      "    timeout=timeout\n",
      "  File \"//anaconda/lib/python3.6/site-packages/urllib3/connectionpool.py\", line 638, in urlopen\n",
      "    _stacktrace=sys.exc_info()[2])\n",
      "  File \"//anaconda/lib/python3.6/site-packages/urllib3/util/retry.py\", line 399, in increment\n",
      "    raise MaxRetryError(_pool, url, error or ResponseError(cause))\n",
      "urllib3.exceptions.MaxRetryError: HTTPConnectionPool(host='clerk.house.gov', port=80): Max retries exceeded with url: /evs/2003/roll625.xml (Caused by NewConnectionError('<urllib3.connection.HTTPConnection object at 0x11ebf3b70>: Failed to establish a new connection: [Errno 60] Operation timed out',))\n",
      "\n",
      "During handling of the above exception, another exception occurred:\n",
      "\n",
      "Traceback (most recent call last):\n",
      "  File \"<ipython-input-8-530adc215787>\", line 7, in house_rollcall_individual_parallel\n",
      "    obj.roll_call_single_to_psql(year, rollcall)\n",
      "  File \"/Users/benellis/Projects/congress/congress/etl/house_votes.py\", line 183, in roll_call_single_to_psql\n",
      "    df = self.roll_call_single(year, roll)\n",
      "  File \"/Users/benellis/Projects/congress/congress/etl/house_votes.py\", line 137, in roll_call_single\n",
      "    data = requests.get(url)\n",
      "  File \"//anaconda/lib/python3.6/site-packages/requests/api.py\", line 75, in get\n",
      "    return request('get', url, params=params, **kwargs)\n",
      "  File \"//anaconda/lib/python3.6/site-packages/requests/api.py\", line 60, in request\n",
      "    return session.request(method=method, url=url, **kwargs)\n",
      "  File \"//anaconda/lib/python3.6/site-packages/requests/sessions.py\", line 533, in request\n",
      "    resp = self.send(prep, **send_kwargs)\n",
      "  File \"//anaconda/lib/python3.6/site-packages/requests/sessions.py\", line 646, in send\n",
      "    r = adapter.send(request, **kwargs)\n",
      "  File \"//anaconda/lib/python3.6/site-packages/requests/adapters.py\", line 516, in send\n",
      "    raise ConnectionError(e, request=request)\n",
      "requests.exceptions.ConnectionError: HTTPConnectionPool(host='clerk.house.gov', port=80): Max retries exceeded with url: /evs/2003/roll625.xml (Caused by NewConnectionError('<urllib3.connection.HTTPConnection object at 0x11ebf3b70>: Failed to establish a new connection: [Errno 60] Operation timed out',))\n"
     ]
    },
    {
     "name": "stdout",
     "output_type": "stream",
     "text": [
      "http://clerk.house.gov/evs/2003/roll624.xml\n"
     ]
    },
    {
     "name": "stderr",
     "output_type": "stream",
     "text": [
      "Traceback (most recent call last):\n",
      "  File \"//anaconda/lib/python3.6/site-packages/urllib3/connection.py\", line 159, in _new_conn\n",
      "    (self._dns_host, self.port), self.timeout, **extra_kw)\n",
      "  File \"//anaconda/lib/python3.6/site-packages/urllib3/util/connection.py\", line 80, in create_connection\n",
      "    raise err\n",
      "  File \"//anaconda/lib/python3.6/site-packages/urllib3/util/connection.py\", line 70, in create_connection\n",
      "    sock.connect(sa)\n",
      "TimeoutError: [Errno 60] Operation timed out\n",
      "\n",
      "During handling of the above exception, another exception occurred:\n",
      "\n",
      "Traceback (most recent call last):\n",
      "  File \"//anaconda/lib/python3.6/site-packages/urllib3/connectionpool.py\", line 600, in urlopen\n",
      "    chunked=chunked)\n",
      "  File \"//anaconda/lib/python3.6/site-packages/urllib3/connectionpool.py\", line 354, in _make_request\n",
      "    conn.request(method, url, **httplib_request_kw)\n",
      "  File \"//anaconda/lib/python3.6/http/client.py\", line 1254, in request\n",
      "    self._send_request(method, url, body, headers, encode_chunked)\n",
      "  File \"//anaconda/lib/python3.6/http/client.py\", line 1300, in _send_request\n",
      "    self.endheaders(body, encode_chunked=encode_chunked)\n",
      "  File \"//anaconda/lib/python3.6/http/client.py\", line 1249, in endheaders\n",
      "    self._send_output(message_body, encode_chunked=encode_chunked)\n",
      "  File \"//anaconda/lib/python3.6/http/client.py\", line 1036, in _send_output\n",
      "    self.send(msg)\n",
      "  File \"//anaconda/lib/python3.6/http/client.py\", line 974, in send\n",
      "    self.connect()\n",
      "  File \"//anaconda/lib/python3.6/site-packages/urllib3/connection.py\", line 181, in connect\n",
      "    conn = self._new_conn()\n",
      "  File \"//anaconda/lib/python3.6/site-packages/urllib3/connection.py\", line 168, in _new_conn\n",
      "    self, \"Failed to establish a new connection: %s\" % e)\n",
      "urllib3.exceptions.NewConnectionError: <urllib3.connection.HTTPConnection object at 0x1200d6978>: Failed to establish a new connection: [Errno 60] Operation timed out\n",
      "\n",
      "During handling of the above exception, another exception occurred:\n",
      "\n",
      "Traceback (most recent call last):\n",
      "  File \"//anaconda/lib/python3.6/site-packages/requests/adapters.py\", line 449, in send\n",
      "    timeout=timeout\n",
      "  File \"//anaconda/lib/python3.6/site-packages/urllib3/connectionpool.py\", line 638, in urlopen\n",
      "    _stacktrace=sys.exc_info()[2])\n",
      "  File \"//anaconda/lib/python3.6/site-packages/urllib3/util/retry.py\", line 399, in increment\n",
      "    raise MaxRetryError(_pool, url, error or ResponseError(cause))\n",
      "urllib3.exceptions.MaxRetryError: HTTPConnectionPool(host='clerk.house.gov', port=80): Max retries exceeded with url: /evs/2007/roll855.xml (Caused by NewConnectionError('<urllib3.connection.HTTPConnection object at 0x1200d6978>: Failed to establish a new connection: [Errno 60] Operation timed out',))\n",
      "\n",
      "During handling of the above exception, another exception occurred:\n",
      "\n",
      "Traceback (most recent call last):\n",
      "  File \"<ipython-input-8-530adc215787>\", line 7, in house_rollcall_individual_parallel\n",
      "    obj.roll_call_single_to_psql(year, rollcall)\n",
      "  File \"/Users/benellis/Projects/congress/congress/etl/house_votes.py\", line 183, in roll_call_single_to_psql\n",
      "    df = self.roll_call_single(year, roll)\n",
      "  File \"/Users/benellis/Projects/congress/congress/etl/house_votes.py\", line 137, in roll_call_single\n",
      "    data = requests.get(url)\n",
      "  File \"//anaconda/lib/python3.6/site-packages/requests/api.py\", line 75, in get\n",
      "    return request('get', url, params=params, **kwargs)\n",
      "  File \"//anaconda/lib/python3.6/site-packages/requests/api.py\", line 60, in request\n",
      "    return session.request(method=method, url=url, **kwargs)\n",
      "  File \"//anaconda/lib/python3.6/site-packages/requests/sessions.py\", line 533, in request\n",
      "    resp = self.send(prep, **send_kwargs)\n",
      "  File \"//anaconda/lib/python3.6/site-packages/requests/sessions.py\", line 646, in send\n",
      "    r = adapter.send(request, **kwargs)\n",
      "  File \"//anaconda/lib/python3.6/site-packages/requests/adapters.py\", line 516, in send\n",
      "    raise ConnectionError(e, request=request)\n",
      "requests.exceptions.ConnectionError: HTTPConnectionPool(host='clerk.house.gov', port=80): Max retries exceeded with url: /evs/2007/roll855.xml (Caused by NewConnectionError('<urllib3.connection.HTTPConnection object at 0x1200d6978>: Failed to establish a new connection: [Errno 60] Operation timed out',))\n"
     ]
    },
    {
     "name": "stdout",
     "output_type": "stream",
     "text": [
      "http://clerk.house.gov/evs/2007/roll853.xml\n"
     ]
    },
    {
     "name": "stderr",
     "output_type": "stream",
     "text": [
      "Traceback (most recent call last):\n",
      "  File \"//anaconda/lib/python3.6/site-packages/urllib3/connection.py\", line 159, in _new_conn\n",
      "    (self._dns_host, self.port), self.timeout, **extra_kw)\n",
      "  File \"//anaconda/lib/python3.6/site-packages/urllib3/util/connection.py\", line 80, in create_connection\n",
      "    raise err\n",
      "  File \"//anaconda/lib/python3.6/site-packages/urllib3/util/connection.py\", line 70, in create_connection\n",
      "    sock.connect(sa)\n",
      "TimeoutError: [Errno 60] Operation timed out\n",
      "\n",
      "During handling of the above exception, another exception occurred:\n",
      "\n",
      "Traceback (most recent call last):\n",
      "  File \"//anaconda/lib/python3.6/site-packages/urllib3/connectionpool.py\", line 600, in urlopen\n",
      "    chunked=chunked)\n",
      "  File \"//anaconda/lib/python3.6/site-packages/urllib3/connectionpool.py\", line 354, in _make_request\n",
      "    conn.request(method, url, **httplib_request_kw)\n",
      "  File \"//anaconda/lib/python3.6/http/client.py\", line 1254, in request\n",
      "    self._send_request(method, url, body, headers, encode_chunked)\n",
      "  File \"//anaconda/lib/python3.6/http/client.py\", line 1300, in _send_request\n",
      "    self.endheaders(body, encode_chunked=encode_chunked)\n",
      "  File \"//anaconda/lib/python3.6/http/client.py\", line 1249, in endheaders\n",
      "    self._send_output(message_body, encode_chunked=encode_chunked)\n",
      "  File \"//anaconda/lib/python3.6/http/client.py\", line 1036, in _send_output\n",
      "    self.send(msg)\n",
      "  File \"//anaconda/lib/python3.6/http/client.py\", line 974, in send\n",
      "    self.connect()\n",
      "  File \"//anaconda/lib/python3.6/site-packages/urllib3/connection.py\", line 181, in connect\n",
      "    conn = self._new_conn()\n",
      "  File \"//anaconda/lib/python3.6/site-packages/urllib3/connection.py\", line 168, in _new_conn\n",
      "    self, \"Failed to establish a new connection: %s\" % e)\n",
      "urllib3.exceptions.NewConnectionError: <urllib3.connection.HTTPConnection object at 0x11fba4ba8>: Failed to establish a new connection: [Errno 60] Operation timed out\n",
      "\n",
      "During handling of the above exception, another exception occurred:\n",
      "\n",
      "Traceback (most recent call last):\n",
      "  File \"//anaconda/lib/python3.6/site-packages/requests/adapters.py\", line 449, in send\n",
      "    timeout=timeout\n",
      "  File \"//anaconda/lib/python3.6/site-packages/urllib3/connectionpool.py\", line 638, in urlopen\n",
      "    _stacktrace=sys.exc_info()[2])\n",
      "  File \"//anaconda/lib/python3.6/site-packages/urllib3/util/retry.py\", line 399, in increment\n",
      "    raise MaxRetryError(_pool, url, error or ResponseError(cause))\n",
      "urllib3.exceptions.MaxRetryError: HTTPConnectionPool(host='clerk.house.gov', port=80): Max retries exceeded with url: /evs/2008/roll487.xml (Caused by NewConnectionError('<urllib3.connection.HTTPConnection object at 0x11fba4ba8>: Failed to establish a new connection: [Errno 60] Operation timed out',))\n",
      "\n",
      "During handling of the above exception, another exception occurred:\n",
      "\n",
      "Traceback (most recent call last):\n",
      "  File \"<ipython-input-8-530adc215787>\", line 7, in house_rollcall_individual_parallel\n",
      "    obj.roll_call_single_to_psql(year, rollcall)\n",
      "  File \"/Users/benellis/Projects/congress/congress/etl/house_votes.py\", line 183, in roll_call_single_to_psql\n",
      "    df = self.roll_call_single(year, roll)\n",
      "  File \"/Users/benellis/Projects/congress/congress/etl/house_votes.py\", line 137, in roll_call_single\n",
      "    data = requests.get(url)\n",
      "  File \"//anaconda/lib/python3.6/site-packages/requests/api.py\", line 75, in get\n",
      "    return request('get', url, params=params, **kwargs)\n",
      "  File \"//anaconda/lib/python3.6/site-packages/requests/api.py\", line 60, in request\n",
      "    return session.request(method=method, url=url, **kwargs)\n",
      "  File \"//anaconda/lib/python3.6/site-packages/requests/sessions.py\", line 533, in request\n",
      "    resp = self.send(prep, **send_kwargs)\n",
      "  File \"//anaconda/lib/python3.6/site-packages/requests/sessions.py\", line 646, in send\n",
      "    r = adapter.send(request, **kwargs)\n",
      "  File \"//anaconda/lib/python3.6/site-packages/requests/adapters.py\", line 516, in send\n",
      "    raise ConnectionError(e, request=request)\n",
      "requests.exceptions.ConnectionError: HTTPConnectionPool(host='clerk.house.gov', port=80): Max retries exceeded with url: /evs/2008/roll487.xml (Caused by NewConnectionError('<urllib3.connection.HTTPConnection object at 0x11fba4ba8>: Failed to establish a new connection: [Errno 60] Operation timed out',))\n"
     ]
    },
    {
     "name": "stdout",
     "output_type": "stream",
     "text": [
      "http://clerk.house.gov/evs/2008/roll486.xml\n"
     ]
    },
    {
     "name": "stderr",
     "output_type": "stream",
     "text": [
      "Traceback (most recent call last):\n",
      "  File \"//anaconda/lib/python3.6/site-packages/urllib3/connection.py\", line 159, in _new_conn\n",
      "    (self._dns_host, self.port), self.timeout, **extra_kw)\n",
      "  File \"//anaconda/lib/python3.6/site-packages/urllib3/util/connection.py\", line 80, in create_connection\n",
      "    raise err\n",
      "  File \"//anaconda/lib/python3.6/site-packages/urllib3/util/connection.py\", line 70, in create_connection\n",
      "    sock.connect(sa)\n",
      "TimeoutError: [Errno 60] Operation timed out\n",
      "\n",
      "During handling of the above exception, another exception occurred:\n",
      "\n",
      "Traceback (most recent call last):\n",
      "  File \"//anaconda/lib/python3.6/site-packages/urllib3/connectionpool.py\", line 600, in urlopen\n",
      "    chunked=chunked)\n",
      "  File \"//anaconda/lib/python3.6/site-packages/urllib3/connectionpool.py\", line 354, in _make_request\n",
      "    conn.request(method, url, **httplib_request_kw)\n",
      "  File \"//anaconda/lib/python3.6/http/client.py\", line 1254, in request\n",
      "    self._send_request(method, url, body, headers, encode_chunked)\n",
      "  File \"//anaconda/lib/python3.6/http/client.py\", line 1300, in _send_request\n",
      "    self.endheaders(body, encode_chunked=encode_chunked)\n",
      "  File \"//anaconda/lib/python3.6/http/client.py\", line 1249, in endheaders\n",
      "    self._send_output(message_body, encode_chunked=encode_chunked)\n",
      "  File \"//anaconda/lib/python3.6/http/client.py\", line 1036, in _send_output\n",
      "    self.send(msg)\n",
      "  File \"//anaconda/lib/python3.6/http/client.py\", line 974, in send\n",
      "    self.connect()\n",
      "  File \"//anaconda/lib/python3.6/site-packages/urllib3/connection.py\", line 181, in connect\n",
      "    conn = self._new_conn()\n",
      "  File \"//anaconda/lib/python3.6/site-packages/urllib3/connection.py\", line 168, in _new_conn\n",
      "    self, \"Failed to establish a new connection: %s\" % e)\n",
      "urllib3.exceptions.NewConnectionError: <urllib3.connection.HTTPConnection object at 0x11fba9dd8>: Failed to establish a new connection: [Errno 60] Operation timed out\n",
      "\n",
      "During handling of the above exception, another exception occurred:\n",
      "\n",
      "Traceback (most recent call last):\n",
      "  File \"//anaconda/lib/python3.6/site-packages/requests/adapters.py\", line 449, in send\n",
      "    timeout=timeout\n",
      "  File \"//anaconda/lib/python3.6/site-packages/urllib3/connectionpool.py\", line 638, in urlopen\n",
      "    _stacktrace=sys.exc_info()[2])\n",
      "  File \"//anaconda/lib/python3.6/site-packages/urllib3/util/retry.py\", line 399, in increment\n",
      "    raise MaxRetryError(_pool, url, error or ResponseError(cause))\n",
      "urllib3.exceptions.MaxRetryError: HTTPConnectionPool(host='clerk.house.gov', port=80): Max retries exceeded with url: /evs/2005/roll665.xml (Caused by NewConnectionError('<urllib3.connection.HTTPConnection object at 0x11fba9dd8>: Failed to establish a new connection: [Errno 60] Operation timed out',))\n",
      "\n",
      "During handling of the above exception, another exception occurred:\n",
      "\n",
      "Traceback (most recent call last):\n",
      "  File \"<ipython-input-8-530adc215787>\", line 7, in house_rollcall_individual_parallel\n",
      "    obj.roll_call_single_to_psql(year, rollcall)\n",
      "  File \"/Users/benellis/Projects/congress/congress/etl/house_votes.py\", line 183, in roll_call_single_to_psql\n",
      "    df = self.roll_call_single(year, roll)\n",
      "  File \"/Users/benellis/Projects/congress/congress/etl/house_votes.py\", line 137, in roll_call_single\n",
      "    data = requests.get(url)\n",
      "  File \"//anaconda/lib/python3.6/site-packages/requests/api.py\", line 75, in get\n",
      "    return request('get', url, params=params, **kwargs)\n",
      "  File \"//anaconda/lib/python3.6/site-packages/requests/api.py\", line 60, in request\n",
      "    return session.request(method=method, url=url, **kwargs)\n",
      "  File \"//anaconda/lib/python3.6/site-packages/requests/sessions.py\", line 533, in request\n",
      "    resp = self.send(prep, **send_kwargs)\n",
      "  File \"//anaconda/lib/python3.6/site-packages/requests/sessions.py\", line 646, in send\n",
      "    r = adapter.send(request, **kwargs)\n",
      "  File \"//anaconda/lib/python3.6/site-packages/requests/adapters.py\", line 516, in send\n",
      "    raise ConnectionError(e, request=request)\n",
      "requests.exceptions.ConnectionError: HTTPConnectionPool(host='clerk.house.gov', port=80): Max retries exceeded with url: /evs/2005/roll665.xml (Caused by NewConnectionError('<urllib3.connection.HTTPConnection object at 0x11fba9dd8>: Failed to establish a new connection: [Errno 60] Operation timed out',))\n"
     ]
    },
    {
     "name": "stdout",
     "output_type": "stream",
     "text": [
      "http://clerk.house.gov/evs/2005/roll664.xml\n",
      "http://clerk.house.gov/evs/2003/roll622.xml\n",
      "http://clerk.house.gov/evs/2007/roll852.xml\n",
      "http://clerk.house.gov/evs/2008/roll485.xml\n",
      "http://clerk.house.gov/evs/2005/roll663.xml\n",
      "http://clerk.house.gov/evs/2003/roll621.xml\n",
      "http://clerk.house.gov/evs/2008/roll484.xml\n",
      "http://clerk.house.gov/evs/2005/roll662.xml\n",
      "http://clerk.house.gov/evs/2008/roll483.xml\n"
     ]
    },
    {
     "name": "stderr",
     "output_type": "stream",
     "text": [
      "Traceback (most recent call last):\n",
      "  File \"//anaconda/lib/python3.6/site-packages/urllib3/connection.py\", line 159, in _new_conn\n",
      "    (self._dns_host, self.port), self.timeout, **extra_kw)\n",
      "  File \"//anaconda/lib/python3.6/site-packages/urllib3/util/connection.py\", line 80, in create_connection\n",
      "    raise err\n",
      "  File \"//anaconda/lib/python3.6/site-packages/urllib3/util/connection.py\", line 70, in create_connection\n",
      "    sock.connect(sa)\n",
      "TimeoutError: [Errno 60] Operation timed out\n",
      "\n",
      "During handling of the above exception, another exception occurred:\n",
      "\n",
      "Traceback (most recent call last):\n",
      "  File \"//anaconda/lib/python3.6/site-packages/urllib3/connectionpool.py\", line 600, in urlopen\n",
      "    chunked=chunked)\n",
      "  File \"//anaconda/lib/python3.6/site-packages/urllib3/connectionpool.py\", line 354, in _make_request\n",
      "    conn.request(method, url, **httplib_request_kw)\n",
      "  File \"//anaconda/lib/python3.6/http/client.py\", line 1254, in request\n",
      "    self._send_request(method, url, body, headers, encode_chunked)\n",
      "  File \"//anaconda/lib/python3.6/http/client.py\", line 1300, in _send_request\n",
      "    self.endheaders(body, encode_chunked=encode_chunked)\n",
      "  File \"//anaconda/lib/python3.6/http/client.py\", line 1249, in endheaders\n",
      "    self._send_output(message_body, encode_chunked=encode_chunked)\n",
      "  File \"//anaconda/lib/python3.6/http/client.py\", line 1036, in _send_output\n",
      "    self.send(msg)\n",
      "  File \"//anaconda/lib/python3.6/http/client.py\", line 974, in send\n",
      "    self.connect()\n",
      "  File \"//anaconda/lib/python3.6/site-packages/urllib3/connection.py\", line 181, in connect\n",
      "    conn = self._new_conn()\n",
      "  File \"//anaconda/lib/python3.6/site-packages/urllib3/connection.py\", line 168, in _new_conn\n",
      "    self, \"Failed to establish a new connection: %s\" % e)\n",
      "urllib3.exceptions.NewConnectionError: <urllib3.connection.HTTPConnection object at 0x11eb87278>: Failed to establish a new connection: [Errno 60] Operation timed out\n",
      "\n",
      "During handling of the above exception, another exception occurred:\n",
      "\n",
      "Traceback (most recent call last):\n",
      "  File \"//anaconda/lib/python3.6/site-packages/requests/adapters.py\", line 449, in send\n",
      "    timeout=timeout\n",
      "  File \"//anaconda/lib/python3.6/site-packages/urllib3/connectionpool.py\", line 638, in urlopen\n",
      "    _stacktrace=sys.exc_info()[2])\n",
      "  File \"//anaconda/lib/python3.6/site-packages/urllib3/util/retry.py\", line 399, in increment\n",
      "    raise MaxRetryError(_pool, url, error or ResponseError(cause))\n",
      "urllib3.exceptions.MaxRetryError: HTTPConnectionPool(host='clerk.house.gov', port=80): Max retries exceeded with url: /evs/2007/roll852.xml (Caused by NewConnectionError('<urllib3.connection.HTTPConnection object at 0x11eb87278>: Failed to establish a new connection: [Errno 60] Operation timed out',))\n",
      "\n",
      "During handling of the above exception, another exception occurred:\n",
      "\n",
      "Traceback (most recent call last):\n",
      "  File \"<ipython-input-8-530adc215787>\", line 7, in house_rollcall_individual_parallel\n",
      "    obj.roll_call_single_to_psql(year, rollcall)\n",
      "  File \"/Users/benellis/Projects/congress/congress/etl/house_votes.py\", line 183, in roll_call_single_to_psql\n",
      "    df = self.roll_call_single(year, roll)\n",
      "  File \"/Users/benellis/Projects/congress/congress/etl/house_votes.py\", line 137, in roll_call_single\n",
      "    data = requests.get(url)\n",
      "  File \"//anaconda/lib/python3.6/site-packages/requests/api.py\", line 75, in get\n",
      "    return request('get', url, params=params, **kwargs)\n",
      "  File \"//anaconda/lib/python3.6/site-packages/requests/api.py\", line 60, in request\n",
      "    return session.request(method=method, url=url, **kwargs)\n",
      "  File \"//anaconda/lib/python3.6/site-packages/requests/sessions.py\", line 533, in request\n",
      "    resp = self.send(prep, **send_kwargs)\n",
      "  File \"//anaconda/lib/python3.6/site-packages/requests/sessions.py\", line 646, in send\n",
      "    r = adapter.send(request, **kwargs)\n",
      "  File \"//anaconda/lib/python3.6/site-packages/requests/adapters.py\", line 516, in send\n",
      "    raise ConnectionError(e, request=request)\n",
      "requests.exceptions.ConnectionError: HTTPConnectionPool(host='clerk.house.gov', port=80): Max retries exceeded with url: /evs/2007/roll852.xml (Caused by NewConnectionError('<urllib3.connection.HTTPConnection object at 0x11eb87278>: Failed to establish a new connection: [Errno 60] Operation timed out',))\n"
     ]
    },
    {
     "name": "stdout",
     "output_type": "stream",
     "text": [
      "http://clerk.house.gov/evs/2007/roll851.xml\n",
      "http://clerk.house.gov/evs/2008/roll482.xml\n",
      "http://clerk.house.gov/evs/2007/roll850.xml\n"
     ]
    },
    {
     "name": "stderr",
     "output_type": "stream",
     "text": [
      "Traceback (most recent call last):\n",
      "  File \"<ipython-input-8-530adc215787>\", line 7, in house_rollcall_individual_parallel\n",
      "    obj.roll_call_single_to_psql(year, rollcall)\n",
      "  File \"/Users/benellis/Projects/congress/congress/etl/house_votes.py\", line 183, in roll_call_single_to_psql\n",
      "    df = self.roll_call_single(year, roll)\n",
      "  File \"/Users/benellis/Projects/congress/congress/etl/house_votes.py\", line 142, in roll_call_single\n",
      "    chamber = soup.find('chamber').text\n",
      "AttributeError: 'NoneType' object has no attribute 'text'\n"
     ]
    },
    {
     "name": "stdout",
     "output_type": "stream",
     "text": [
      "http://clerk.house.gov/evs/2008/roll481.xml\n"
     ]
    },
    {
     "name": "stderr",
     "output_type": "stream",
     "text": [
      "Traceback (most recent call last):\n",
      "  File \"//anaconda/lib/python3.6/site-packages/urllib3/connection.py\", line 159, in _new_conn\n",
      "    (self._dns_host, self.port), self.timeout, **extra_kw)\n",
      "  File \"//anaconda/lib/python3.6/site-packages/urllib3/util/connection.py\", line 80, in create_connection\n",
      "    raise err\n",
      "  File \"//anaconda/lib/python3.6/site-packages/urllib3/util/connection.py\", line 70, in create_connection\n",
      "    sock.connect(sa)\n",
      "TimeoutError: [Errno 60] Operation timed out\n",
      "\n",
      "During handling of the above exception, another exception occurred:\n",
      "\n",
      "Traceback (most recent call last):\n",
      "  File \"//anaconda/lib/python3.6/site-packages/urllib3/connectionpool.py\", line 600, in urlopen\n",
      "    chunked=chunked)\n",
      "  File \"//anaconda/lib/python3.6/site-packages/urllib3/connectionpool.py\", line 354, in _make_request\n",
      "    conn.request(method, url, **httplib_request_kw)\n",
      "  File \"//anaconda/lib/python3.6/http/client.py\", line 1254, in request\n",
      "    self._send_request(method, url, body, headers, encode_chunked)\n",
      "  File \"//anaconda/lib/python3.6/http/client.py\", line 1300, in _send_request\n",
      "    self.endheaders(body, encode_chunked=encode_chunked)\n",
      "  File \"//anaconda/lib/python3.6/http/client.py\", line 1249, in endheaders\n",
      "    self._send_output(message_body, encode_chunked=encode_chunked)\n",
      "  File \"//anaconda/lib/python3.6/http/client.py\", line 1036, in _send_output\n",
      "    self.send(msg)\n",
      "  File \"//anaconda/lib/python3.6/http/client.py\", line 974, in send\n",
      "    self.connect()\n",
      "  File \"//anaconda/lib/python3.6/site-packages/urllib3/connection.py\", line 181, in connect\n",
      "    conn = self._new_conn()\n",
      "  File \"//anaconda/lib/python3.6/site-packages/urllib3/connection.py\", line 168, in _new_conn\n",
      "    self, \"Failed to establish a new connection: %s\" % e)\n",
      "urllib3.exceptions.NewConnectionError: <urllib3.connection.HTTPConnection object at 0x11fcf4c18>: Failed to establish a new connection: [Errno 60] Operation timed out\n",
      "\n",
      "During handling of the above exception, another exception occurred:\n",
      "\n",
      "Traceback (most recent call last):\n",
      "  File \"//anaconda/lib/python3.6/site-packages/requests/adapters.py\", line 449, in send\n",
      "    timeout=timeout\n",
      "  File \"//anaconda/lib/python3.6/site-packages/urllib3/connectionpool.py\", line 638, in urlopen\n",
      "    _stacktrace=sys.exc_info()[2])\n",
      "  File \"//anaconda/lib/python3.6/site-packages/urllib3/util/retry.py\", line 399, in increment\n",
      "    raise MaxRetryError(_pool, url, error or ResponseError(cause))\n",
      "urllib3.exceptions.MaxRetryError: HTTPConnectionPool(host='clerk.house.gov', port=80): Max retries exceeded with url: /evs/2003/roll621.xml (Caused by NewConnectionError('<urllib3.connection.HTTPConnection object at 0x11fcf4c18>: Failed to establish a new connection: [Errno 60] Operation timed out',))\n",
      "\n",
      "During handling of the above exception, another exception occurred:\n",
      "\n",
      "Traceback (most recent call last):\n",
      "  File \"<ipython-input-8-530adc215787>\", line 7, in house_rollcall_individual_parallel\n",
      "    obj.roll_call_single_to_psql(year, rollcall)\n",
      "  File \"/Users/benellis/Projects/congress/congress/etl/house_votes.py\", line 183, in roll_call_single_to_psql\n",
      "    df = self.roll_call_single(year, roll)\n",
      "  File \"/Users/benellis/Projects/congress/congress/etl/house_votes.py\", line 137, in roll_call_single\n",
      "    data = requests.get(url)\n",
      "  File \"//anaconda/lib/python3.6/site-packages/requests/api.py\", line 75, in get\n",
      "    return request('get', url, params=params, **kwargs)\n",
      "  File \"//anaconda/lib/python3.6/site-packages/requests/api.py\", line 60, in request\n",
      "    return session.request(method=method, url=url, **kwargs)\n",
      "  File \"//anaconda/lib/python3.6/site-packages/requests/sessions.py\", line 533, in request\n",
      "    resp = self.send(prep, **send_kwargs)\n",
      "  File \"//anaconda/lib/python3.6/site-packages/requests/sessions.py\", line 646, in send\n",
      "    r = adapter.send(request, **kwargs)\n",
      "  File \"//anaconda/lib/python3.6/site-packages/requests/adapters.py\", line 516, in send\n",
      "    raise ConnectionError(e, request=request)\n",
      "requests.exceptions.ConnectionError: HTTPConnectionPool(host='clerk.house.gov', port=80): Max retries exceeded with url: /evs/2003/roll621.xml (Caused by NewConnectionError('<urllib3.connection.HTTPConnection object at 0x11fcf4c18>: Failed to establish a new connection: [Errno 60] Operation timed out',))\n"
     ]
    },
    {
     "name": "stdout",
     "output_type": "stream",
     "text": [
      "http://clerk.house.gov/evs/2003/roll620.xml\n"
     ]
    },
    {
     "name": "stderr",
     "output_type": "stream",
     "text": [
      "Traceback (most recent call last):\n",
      "  File \"//anaconda/lib/python3.6/site-packages/urllib3/connection.py\", line 159, in _new_conn\n",
      "    (self._dns_host, self.port), self.timeout, **extra_kw)\n",
      "  File \"//anaconda/lib/python3.6/site-packages/urllib3/util/connection.py\", line 80, in create_connection\n",
      "    raise err\n",
      "  File \"//anaconda/lib/python3.6/site-packages/urllib3/util/connection.py\", line 70, in create_connection\n",
      "    sock.connect(sa)\n",
      "TimeoutError: [Errno 60] Operation timed out\n",
      "\n",
      "During handling of the above exception, another exception occurred:\n",
      "\n",
      "Traceback (most recent call last):\n",
      "  File \"//anaconda/lib/python3.6/site-packages/urllib3/connectionpool.py\", line 600, in urlopen\n",
      "    chunked=chunked)\n",
      "  File \"//anaconda/lib/python3.6/site-packages/urllib3/connectionpool.py\", line 354, in _make_request\n",
      "    conn.request(method, url, **httplib_request_kw)\n",
      "  File \"//anaconda/lib/python3.6/http/client.py\", line 1254, in request\n",
      "    self._send_request(method, url, body, headers, encode_chunked)\n",
      "  File \"//anaconda/lib/python3.6/http/client.py\", line 1300, in _send_request\n",
      "    self.endheaders(body, encode_chunked=encode_chunked)\n",
      "  File \"//anaconda/lib/python3.6/http/client.py\", line 1249, in endheaders\n",
      "    self._send_output(message_body, encode_chunked=encode_chunked)\n",
      "  File \"//anaconda/lib/python3.6/http/client.py\", line 1036, in _send_output\n",
      "    self.send(msg)\n",
      "  File \"//anaconda/lib/python3.6/http/client.py\", line 974, in send\n",
      "    self.connect()\n",
      "  File \"//anaconda/lib/python3.6/site-packages/urllib3/connection.py\", line 181, in connect\n",
      "    conn = self._new_conn()\n",
      "  File \"//anaconda/lib/python3.6/site-packages/urllib3/connection.py\", line 168, in _new_conn\n",
      "    self, \"Failed to establish a new connection: %s\" % e)\n",
      "urllib3.exceptions.NewConnectionError: <urllib3.connection.HTTPConnection object at 0x11fba9e10>: Failed to establish a new connection: [Errno 60] Operation timed out\n",
      "\n",
      "During handling of the above exception, another exception occurred:\n",
      "\n",
      "Traceback (most recent call last):\n",
      "  File \"//anaconda/lib/python3.6/site-packages/requests/adapters.py\", line 449, in send\n",
      "    timeout=timeout\n",
      "  File \"//anaconda/lib/python3.6/site-packages/urllib3/connectionpool.py\", line 638, in urlopen\n",
      "    _stacktrace=sys.exc_info()[2])\n",
      "  File \"//anaconda/lib/python3.6/site-packages/urllib3/util/retry.py\", line 399, in increment\n",
      "    raise MaxRetryError(_pool, url, error or ResponseError(cause))\n",
      "urllib3.exceptions.MaxRetryError: HTTPConnectionPool(host='clerk.house.gov', port=80): Max retries exceeded with url: /evs/2005/roll662.xml (Caused by NewConnectionError('<urllib3.connection.HTTPConnection object at 0x11fba9e10>: Failed to establish a new connection: [Errno 60] Operation timed out',))\n",
      "\n",
      "During handling of the above exception, another exception occurred:\n",
      "\n",
      "Traceback (most recent call last):\n",
      "  File \"<ipython-input-8-530adc215787>\", line 7, in house_rollcall_individual_parallel\n",
      "    obj.roll_call_single_to_psql(year, rollcall)\n",
      "  File \"/Users/benellis/Projects/congress/congress/etl/house_votes.py\", line 183, in roll_call_single_to_psql\n",
      "    df = self.roll_call_single(year, roll)\n",
      "  File \"/Users/benellis/Projects/congress/congress/etl/house_votes.py\", line 137, in roll_call_single\n",
      "    data = requests.get(url)\n",
      "  File \"//anaconda/lib/python3.6/site-packages/requests/api.py\", line 75, in get\n",
      "    return request('get', url, params=params, **kwargs)\n",
      "  File \"//anaconda/lib/python3.6/site-packages/requests/api.py\", line 60, in request\n",
      "    return session.request(method=method, url=url, **kwargs)\n",
      "  File \"//anaconda/lib/python3.6/site-packages/requests/sessions.py\", line 533, in request\n",
      "    resp = self.send(prep, **send_kwargs)\n",
      "  File \"//anaconda/lib/python3.6/site-packages/requests/sessions.py\", line 646, in send\n",
      "    r = adapter.send(request, **kwargs)\n",
      "  File \"//anaconda/lib/python3.6/site-packages/requests/adapters.py\", line 516, in send\n",
      "    raise ConnectionError(e, request=request)\n",
      "requests.exceptions.ConnectionError: HTTPConnectionPool(host='clerk.house.gov', port=80): Max retries exceeded with url: /evs/2005/roll662.xml (Caused by NewConnectionError('<urllib3.connection.HTTPConnection object at 0x11fba9e10>: Failed to establish a new connection: [Errno 60] Operation timed out',))\n"
     ]
    },
    {
     "name": "stdout",
     "output_type": "stream",
     "text": [
      "http://clerk.house.gov/evs/2005/roll661.xml\n",
      "http://clerk.house.gov/evs/2003/roll619.xml\n"
     ]
    },
    {
     "name": "stderr",
     "output_type": "stream",
     "text": [
      "Traceback (most recent call last):\n",
      "  File \"//anaconda/lib/python3.6/site-packages/urllib3/connection.py\", line 159, in _new_conn\n",
      "    (self._dns_host, self.port), self.timeout, **extra_kw)\n",
      "  File \"//anaconda/lib/python3.6/site-packages/urllib3/util/connection.py\", line 80, in create_connection\n",
      "    raise err\n",
      "  File \"//anaconda/lib/python3.6/site-packages/urllib3/util/connection.py\", line 70, in create_connection\n",
      "    sock.connect(sa)\n",
      "TimeoutError: [Errno 60] Operation timed out\n",
      "\n",
      "During handling of the above exception, another exception occurred:\n",
      "\n",
      "Traceback (most recent call last):\n",
      "  File \"//anaconda/lib/python3.6/site-packages/urllib3/connectionpool.py\", line 600, in urlopen\n",
      "    chunked=chunked)\n",
      "  File \"//anaconda/lib/python3.6/site-packages/urllib3/connectionpool.py\", line 354, in _make_request\n",
      "    conn.request(method, url, **httplib_request_kw)\n",
      "  File \"//anaconda/lib/python3.6/http/client.py\", line 1254, in request\n",
      "    self._send_request(method, url, body, headers, encode_chunked)\n",
      "  File \"//anaconda/lib/python3.6/http/client.py\", line 1300, in _send_request\n",
      "    self.endheaders(body, encode_chunked=encode_chunked)\n",
      "  File \"//anaconda/lib/python3.6/http/client.py\", line 1249, in endheaders\n",
      "    self._send_output(message_body, encode_chunked=encode_chunked)\n",
      "  File \"//anaconda/lib/python3.6/http/client.py\", line 1036, in _send_output\n",
      "    self.send(msg)\n",
      "  File \"//anaconda/lib/python3.6/http/client.py\", line 974, in send\n",
      "    self.connect()\n",
      "  File \"//anaconda/lib/python3.6/site-packages/urllib3/connection.py\", line 181, in connect\n",
      "    conn = self._new_conn()\n",
      "  File \"//anaconda/lib/python3.6/site-packages/urllib3/connection.py\", line 168, in _new_conn\n",
      "    self, \"Failed to establish a new connection: %s\" % e)\n",
      "urllib3.exceptions.NewConnectionError: <urllib3.connection.HTTPConnection object at 0x11f70fda0>: Failed to establish a new connection: [Errno 60] Operation timed out\n",
      "\n",
      "During handling of the above exception, another exception occurred:\n",
      "\n",
      "Traceback (most recent call last):\n",
      "  File \"//anaconda/lib/python3.6/site-packages/requests/adapters.py\", line 449, in send\n",
      "    timeout=timeout\n",
      "  File \"//anaconda/lib/python3.6/site-packages/urllib3/connectionpool.py\", line 638, in urlopen\n",
      "    _stacktrace=sys.exc_info()[2])\n",
      "  File \"//anaconda/lib/python3.6/site-packages/urllib3/util/retry.py\", line 399, in increment\n",
      "    raise MaxRetryError(_pool, url, error or ResponseError(cause))\n",
      "urllib3.exceptions.MaxRetryError: HTTPConnectionPool(host='clerk.house.gov', port=80): Max retries exceeded with url: /evs/2007/roll850.xml (Caused by NewConnectionError('<urllib3.connection.HTTPConnection object at 0x11f70fda0>: Failed to establish a new connection: [Errno 60] Operation timed out',))\n",
      "\n",
      "During handling of the above exception, another exception occurred:\n",
      "\n",
      "Traceback (most recent call last):\n",
      "  File \"<ipython-input-8-530adc215787>\", line 7, in house_rollcall_individual_parallel\n",
      "    obj.roll_call_single_to_psql(year, rollcall)\n",
      "  File \"/Users/benellis/Projects/congress/congress/etl/house_votes.py\", line 183, in roll_call_single_to_psql\n",
      "    df = self.roll_call_single(year, roll)\n",
      "  File \"/Users/benellis/Projects/congress/congress/etl/house_votes.py\", line 137, in roll_call_single\n",
      "    data = requests.get(url)\n",
      "  File \"//anaconda/lib/python3.6/site-packages/requests/api.py\", line 75, in get\n",
      "    return request('get', url, params=params, **kwargs)\n",
      "  File \"//anaconda/lib/python3.6/site-packages/requests/api.py\", line 60, in request\n",
      "    return session.request(method=method, url=url, **kwargs)\n",
      "  File \"//anaconda/lib/python3.6/site-packages/requests/sessions.py\", line 533, in request\n",
      "    resp = self.send(prep, **send_kwargs)\n",
      "  File \"//anaconda/lib/python3.6/site-packages/requests/sessions.py\", line 646, in send\n",
      "    r = adapter.send(request, **kwargs)\n",
      "  File \"//anaconda/lib/python3.6/site-packages/requests/adapters.py\", line 516, in send\n",
      "    raise ConnectionError(e, request=request)\n",
      "requests.exceptions.ConnectionError: HTTPConnectionPool(host='clerk.house.gov', port=80): Max retries exceeded with url: /evs/2007/roll850.xml (Caused by NewConnectionError('<urllib3.connection.HTTPConnection object at 0x11f70fda0>: Failed to establish a new connection: [Errno 60] Operation timed out',))\n"
     ]
    },
    {
     "name": "stdout",
     "output_type": "stream",
     "text": [
      "http://clerk.house.gov/evs/2007/roll849.xml\n"
     ]
    },
    {
     "name": "stderr",
     "output_type": "stream",
     "text": [
      "Traceback (most recent call last):\n",
      "  File \"//anaconda/lib/python3.6/site-packages/urllib3/connection.py\", line 159, in _new_conn\n",
      "    (self._dns_host, self.port), self.timeout, **extra_kw)\n",
      "  File \"//anaconda/lib/python3.6/site-packages/urllib3/util/connection.py\", line 80, in create_connection\n",
      "    raise err\n",
      "  File \"//anaconda/lib/python3.6/site-packages/urllib3/util/connection.py\", line 70, in create_connection\n",
      "    sock.connect(sa)\n",
      "TimeoutError: [Errno 60] Operation timed out\n",
      "\n",
      "During handling of the above exception, another exception occurred:\n",
      "\n",
      "Traceback (most recent call last):\n",
      "  File \"//anaconda/lib/python3.6/site-packages/urllib3/connectionpool.py\", line 600, in urlopen\n",
      "    chunked=chunked)\n",
      "  File \"//anaconda/lib/python3.6/site-packages/urllib3/connectionpool.py\", line 354, in _make_request\n",
      "    conn.request(method, url, **httplib_request_kw)\n",
      "  File \"//anaconda/lib/python3.6/http/client.py\", line 1254, in request\n",
      "    self._send_request(method, url, body, headers, encode_chunked)\n",
      "  File \"//anaconda/lib/python3.6/http/client.py\", line 1300, in _send_request\n",
      "    self.endheaders(body, encode_chunked=encode_chunked)\n",
      "  File \"//anaconda/lib/python3.6/http/client.py\", line 1249, in endheaders\n",
      "    self._send_output(message_body, encode_chunked=encode_chunked)\n",
      "  File \"//anaconda/lib/python3.6/http/client.py\", line 1036, in _send_output\n",
      "    self.send(msg)\n",
      "  File \"//anaconda/lib/python3.6/http/client.py\", line 974, in send\n",
      "    self.connect()\n",
      "  File \"//anaconda/lib/python3.6/site-packages/urllib3/connection.py\", line 181, in connect\n",
      "    conn = self._new_conn()\n",
      "  File \"//anaconda/lib/python3.6/site-packages/urllib3/connection.py\", line 168, in _new_conn\n",
      "    self, \"Failed to establish a new connection: %s\" % e)\n",
      "urllib3.exceptions.NewConnectionError: <urllib3.connection.HTTPConnection object at 0x120188ac8>: Failed to establish a new connection: [Errno 60] Operation timed out\n",
      "\n",
      "During handling of the above exception, another exception occurred:\n",
      "\n",
      "Traceback (most recent call last):\n",
      "  File \"//anaconda/lib/python3.6/site-packages/requests/adapters.py\", line 449, in send\n",
      "    timeout=timeout\n",
      "  File \"//anaconda/lib/python3.6/site-packages/urllib3/connectionpool.py\", line 638, in urlopen\n",
      "    _stacktrace=sys.exc_info()[2])\n",
      "  File \"//anaconda/lib/python3.6/site-packages/urllib3/util/retry.py\", line 399, in increment\n",
      "    raise MaxRetryError(_pool, url, error or ResponseError(cause))\n",
      "urllib3.exceptions.MaxRetryError: HTTPConnectionPool(host='clerk.house.gov', port=80): Max retries exceeded with url: /evs/2008/roll481.xml (Caused by NewConnectionError('<urllib3.connection.HTTPConnection object at 0x120188ac8>: Failed to establish a new connection: [Errno 60] Operation timed out',))\n",
      "\n",
      "During handling of the above exception, another exception occurred:\n",
      "\n",
      "Traceback (most recent call last):\n",
      "  File \"<ipython-input-8-530adc215787>\", line 7, in house_rollcall_individual_parallel\n",
      "    obj.roll_call_single_to_psql(year, rollcall)\n",
      "  File \"/Users/benellis/Projects/congress/congress/etl/house_votes.py\", line 183, in roll_call_single_to_psql\n",
      "    df = self.roll_call_single(year, roll)\n",
      "  File \"/Users/benellis/Projects/congress/congress/etl/house_votes.py\", line 137, in roll_call_single\n",
      "    data = requests.get(url)\n",
      "  File \"//anaconda/lib/python3.6/site-packages/requests/api.py\", line 75, in get\n",
      "    return request('get', url, params=params, **kwargs)\n",
      "  File \"//anaconda/lib/python3.6/site-packages/requests/api.py\", line 60, in request\n",
      "    return session.request(method=method, url=url, **kwargs)\n",
      "  File \"//anaconda/lib/python3.6/site-packages/requests/sessions.py\", line 533, in request\n",
      "    resp = self.send(prep, **send_kwargs)\n",
      "  File \"//anaconda/lib/python3.6/site-packages/requests/sessions.py\", line 646, in send\n",
      "    r = adapter.send(request, **kwargs)\n",
      "  File \"//anaconda/lib/python3.6/site-packages/requests/adapters.py\", line 516, in send\n",
      "    raise ConnectionError(e, request=request)\n",
      "requests.exceptions.ConnectionError: HTTPConnectionPool(host='clerk.house.gov', port=80): Max retries exceeded with url: /evs/2008/roll481.xml (Caused by NewConnectionError('<urllib3.connection.HTTPConnection object at 0x120188ac8>: Failed to establish a new connection: [Errno 60] Operation timed out',))\n"
     ]
    },
    {
     "name": "stdout",
     "output_type": "stream",
     "text": [
      "http://clerk.house.gov/evs/2008/roll480.xml\n",
      "http://clerk.house.gov/evs/2007/roll848.xml\n",
      "http://clerk.house.gov/evs/2008/roll479.xml\n"
     ]
    },
    {
     "name": "stderr",
     "output_type": "stream",
     "text": [
      "Traceback (most recent call last):\n",
      "  File \"//anaconda/lib/python3.6/site-packages/urllib3/connection.py\", line 159, in _new_conn\n",
      "    (self._dns_host, self.port), self.timeout, **extra_kw)\n",
      "  File \"//anaconda/lib/python3.6/site-packages/urllib3/util/connection.py\", line 80, in create_connection\n",
      "    raise err\n",
      "  File \"//anaconda/lib/python3.6/site-packages/urllib3/util/connection.py\", line 70, in create_connection\n",
      "    sock.connect(sa)\n",
      "TimeoutError: [Errno 60] Operation timed out\n",
      "\n",
      "During handling of the above exception, another exception occurred:\n",
      "\n",
      "Traceback (most recent call last):\n",
      "  File \"//anaconda/lib/python3.6/site-packages/urllib3/connectionpool.py\", line 600, in urlopen\n",
      "    chunked=chunked)\n",
      "  File \"//anaconda/lib/python3.6/site-packages/urllib3/connectionpool.py\", line 354, in _make_request\n",
      "    conn.request(method, url, **httplib_request_kw)\n",
      "  File \"//anaconda/lib/python3.6/http/client.py\", line 1254, in request\n",
      "    self._send_request(method, url, body, headers, encode_chunked)\n",
      "  File \"//anaconda/lib/python3.6/http/client.py\", line 1300, in _send_request\n",
      "    self.endheaders(body, encode_chunked=encode_chunked)\n",
      "  File \"//anaconda/lib/python3.6/http/client.py\", line 1249, in endheaders\n",
      "    self._send_output(message_body, encode_chunked=encode_chunked)\n",
      "  File \"//anaconda/lib/python3.6/http/client.py\", line 1036, in _send_output\n",
      "    self.send(msg)\n",
      "  File \"//anaconda/lib/python3.6/http/client.py\", line 974, in send\n",
      "    self.connect()\n",
      "  File \"//anaconda/lib/python3.6/site-packages/urllib3/connection.py\", line 181, in connect\n",
      "    conn = self._new_conn()\n",
      "  File \"//anaconda/lib/python3.6/site-packages/urllib3/connection.py\", line 168, in _new_conn\n",
      "    self, \"Failed to establish a new connection: %s\" % e)\n",
      "urllib3.exceptions.NewConnectionError: <urllib3.connection.HTTPConnection object at 0x12036c908>: Failed to establish a new connection: [Errno 60] Operation timed out\n",
      "\n",
      "During handling of the above exception, another exception occurred:\n",
      "\n",
      "Traceback (most recent call last):\n",
      "  File \"//anaconda/lib/python3.6/site-packages/requests/adapters.py\", line 449, in send\n",
      "    timeout=timeout\n",
      "  File \"//anaconda/lib/python3.6/site-packages/urllib3/connectionpool.py\", line 638, in urlopen\n",
      "    _stacktrace=sys.exc_info()[2])\n",
      "  File \"//anaconda/lib/python3.6/site-packages/urllib3/util/retry.py\", line 399, in increment\n",
      "    raise MaxRetryError(_pool, url, error or ResponseError(cause))\n",
      "urllib3.exceptions.MaxRetryError: HTTPConnectionPool(host='clerk.house.gov', port=80): Max retries exceeded with url: /evs/2005/roll661.xml (Caused by NewConnectionError('<urllib3.connection.HTTPConnection object at 0x12036c908>: Failed to establish a new connection: [Errno 60] Operation timed out',))\n",
      "\n",
      "During handling of the above exception, another exception occurred:\n",
      "\n",
      "Traceback (most recent call last):\n",
      "  File \"<ipython-input-8-530adc215787>\", line 7, in house_rollcall_individual_parallel\n",
      "    obj.roll_call_single_to_psql(year, rollcall)\n",
      "  File \"/Users/benellis/Projects/congress/congress/etl/house_votes.py\", line 183, in roll_call_single_to_psql\n",
      "    df = self.roll_call_single(year, roll)\n",
      "  File \"/Users/benellis/Projects/congress/congress/etl/house_votes.py\", line 137, in roll_call_single\n",
      "    data = requests.get(url)\n",
      "  File \"//anaconda/lib/python3.6/site-packages/requests/api.py\", line 75, in get\n",
      "    return request('get', url, params=params, **kwargs)\n",
      "  File \"//anaconda/lib/python3.6/site-packages/requests/api.py\", line 60, in request\n",
      "    return session.request(method=method, url=url, **kwargs)\n",
      "  File \"//anaconda/lib/python3.6/site-packages/requests/sessions.py\", line 533, in request\n",
      "    resp = self.send(prep, **send_kwargs)\n",
      "  File \"//anaconda/lib/python3.6/site-packages/requests/sessions.py\", line 646, in send\n",
      "    r = adapter.send(request, **kwargs)\n",
      "  File \"//anaconda/lib/python3.6/site-packages/requests/adapters.py\", line 516, in send\n",
      "    raise ConnectionError(e, request=request)\n",
      "requests.exceptions.ConnectionError: HTTPConnectionPool(host='clerk.house.gov', port=80): Max retries exceeded with url: /evs/2005/roll661.xml (Caused by NewConnectionError('<urllib3.connection.HTTPConnection object at 0x12036c908>: Failed to establish a new connection: [Errno 60] Operation timed out',))\n"
     ]
    },
    {
     "name": "stdout",
     "output_type": "stream",
     "text": [
      "http://clerk.house.gov/evs/2005/roll660.xml\n",
      "http://clerk.house.gov/evs/2005/roll659.xml\n"
     ]
    },
    {
     "name": "stderr",
     "output_type": "stream",
     "text": [
      "Traceback (most recent call last):\n",
      "  File \"//anaconda/lib/python3.6/site-packages/urllib3/connection.py\", line 159, in _new_conn\n",
      "    (self._dns_host, self.port), self.timeout, **extra_kw)\n",
      "  File \"//anaconda/lib/python3.6/site-packages/urllib3/util/connection.py\", line 80, in create_connection\n",
      "    raise err\n",
      "  File \"//anaconda/lib/python3.6/site-packages/urllib3/util/connection.py\", line 70, in create_connection\n",
      "    sock.connect(sa)\n",
      "TimeoutError: [Errno 60] Operation timed out\n",
      "\n",
      "During handling of the above exception, another exception occurred:\n",
      "\n",
      "Traceback (most recent call last):\n",
      "  File \"//anaconda/lib/python3.6/site-packages/urllib3/connectionpool.py\", line 600, in urlopen\n",
      "    chunked=chunked)\n",
      "  File \"//anaconda/lib/python3.6/site-packages/urllib3/connectionpool.py\", line 354, in _make_request\n",
      "    conn.request(method, url, **httplib_request_kw)\n",
      "  File \"//anaconda/lib/python3.6/http/client.py\", line 1254, in request\n",
      "    self._send_request(method, url, body, headers, encode_chunked)\n",
      "  File \"//anaconda/lib/python3.6/http/client.py\", line 1300, in _send_request\n",
      "    self.endheaders(body, encode_chunked=encode_chunked)\n",
      "  File \"//anaconda/lib/python3.6/http/client.py\", line 1249, in endheaders\n",
      "    self._send_output(message_body, encode_chunked=encode_chunked)\n",
      "  File \"//anaconda/lib/python3.6/http/client.py\", line 1036, in _send_output\n",
      "    self.send(msg)\n",
      "  File \"//anaconda/lib/python3.6/http/client.py\", line 974, in send\n",
      "    self.connect()\n",
      "  File \"//anaconda/lib/python3.6/site-packages/urllib3/connection.py\", line 181, in connect\n",
      "    conn = self._new_conn()\n",
      "  File \"//anaconda/lib/python3.6/site-packages/urllib3/connection.py\", line 168, in _new_conn\n",
      "    self, \"Failed to establish a new connection: %s\" % e)\n",
      "urllib3.exceptions.NewConnectionError: <urllib3.connection.HTTPConnection object at 0x11f99dcf8>: Failed to establish a new connection: [Errno 60] Operation timed out\n",
      "\n",
      "During handling of the above exception, another exception occurred:\n",
      "\n",
      "Traceback (most recent call last):\n",
      "  File \"//anaconda/lib/python3.6/site-packages/requests/adapters.py\", line 449, in send\n",
      "    timeout=timeout\n",
      "  File \"//anaconda/lib/python3.6/site-packages/urllib3/connectionpool.py\", line 638, in urlopen\n",
      "    _stacktrace=sys.exc_info()[2])\n",
      "  File \"//anaconda/lib/python3.6/site-packages/urllib3/util/retry.py\", line 399, in increment\n",
      "    raise MaxRetryError(_pool, url, error or ResponseError(cause))\n",
      "urllib3.exceptions.MaxRetryError: HTTPConnectionPool(host='clerk.house.gov', port=80): Max retries exceeded with url: /evs/2003/roll619.xml (Caused by NewConnectionError('<urllib3.connection.HTTPConnection object at 0x11f99dcf8>: Failed to establish a new connection: [Errno 60] Operation timed out',))\n",
      "\n",
      "During handling of the above exception, another exception occurred:\n",
      "\n",
      "Traceback (most recent call last):\n",
      "  File \"<ipython-input-8-530adc215787>\", line 7, in house_rollcall_individual_parallel\n",
      "    obj.roll_call_single_to_psql(year, rollcall)\n",
      "  File \"/Users/benellis/Projects/congress/congress/etl/house_votes.py\", line 183, in roll_call_single_to_psql\n",
      "    df = self.roll_call_single(year, roll)\n",
      "  File \"/Users/benellis/Projects/congress/congress/etl/house_votes.py\", line 137, in roll_call_single\n",
      "    data = requests.get(url)\n",
      "  File \"//anaconda/lib/python3.6/site-packages/requests/api.py\", line 75, in get\n",
      "    return request('get', url, params=params, **kwargs)\n",
      "  File \"//anaconda/lib/python3.6/site-packages/requests/api.py\", line 60, in request\n",
      "    return session.request(method=method, url=url, **kwargs)\n",
      "  File \"//anaconda/lib/python3.6/site-packages/requests/sessions.py\", line 533, in request\n",
      "    resp = self.send(prep, **send_kwargs)\n",
      "  File \"//anaconda/lib/python3.6/site-packages/requests/sessions.py\", line 646, in send\n",
      "    r = adapter.send(request, **kwargs)\n",
      "  File \"//anaconda/lib/python3.6/site-packages/requests/adapters.py\", line 516, in send\n",
      "    raise ConnectionError(e, request=request)\n",
      "requests.exceptions.ConnectionError: HTTPConnectionPool(host='clerk.house.gov', port=80): Max retries exceeded with url: /evs/2003/roll619.xml (Caused by NewConnectionError('<urllib3.connection.HTTPConnection object at 0x11f99dcf8>: Failed to establish a new connection: [Errno 60] Operation timed out',))\n"
     ]
    },
    {
     "name": "stdout",
     "output_type": "stream",
     "text": [
      "http://clerk.house.gov/evs/2003/roll618.xml\n",
      "http://clerk.house.gov/evs/2005/roll658.xml\n",
      "http://clerk.house.gov/evs/2003/roll617.xml\n"
     ]
    },
    {
     "name": "stderr",
     "output_type": "stream",
     "text": [
      "Traceback (most recent call last):\n",
      "  File \"//anaconda/lib/python3.6/site-packages/urllib3/connection.py\", line 159, in _new_conn\n",
      "    (self._dns_host, self.port), self.timeout, **extra_kw)\n",
      "  File \"//anaconda/lib/python3.6/site-packages/urllib3/util/connection.py\", line 80, in create_connection\n",
      "    raise err\n",
      "  File \"//anaconda/lib/python3.6/site-packages/urllib3/util/connection.py\", line 70, in create_connection\n",
      "    sock.connect(sa)\n",
      "TimeoutError: [Errno 60] Operation timed out\n",
      "\n",
      "During handling of the above exception, another exception occurred:\n",
      "\n",
      "Traceback (most recent call last):\n",
      "  File \"//anaconda/lib/python3.6/site-packages/urllib3/connectionpool.py\", line 600, in urlopen\n",
      "    chunked=chunked)\n",
      "  File \"//anaconda/lib/python3.6/site-packages/urllib3/connectionpool.py\", line 354, in _make_request\n",
      "    conn.request(method, url, **httplib_request_kw)\n",
      "Traceback (most recent call last):\n",
      "  File \"//anaconda/lib/python3.6/http/client.py\", line 1254, in request\n",
      "    self._send_request(method, url, body, headers, encode_chunked)\n",
      "  File \"//anaconda/lib/python3.6/site-packages/urllib3/connection.py\", line 159, in _new_conn\n",
      "    (self._dns_host, self.port), self.timeout, **extra_kw)\n",
      "  File \"//anaconda/lib/python3.6/http/client.py\", line 1300, in _send_request\n",
      "    self.endheaders(body, encode_chunked=encode_chunked)\n",
      "  File \"//anaconda/lib/python3.6/site-packages/urllib3/util/connection.py\", line 80, in create_connection\n",
      "    raise err\n",
      "  File \"//anaconda/lib/python3.6/http/client.py\", line 1249, in endheaders\n",
      "    self._send_output(message_body, encode_chunked=encode_chunked)\n",
      "  File \"//anaconda/lib/python3.6/site-packages/urllib3/util/connection.py\", line 70, in create_connection\n",
      "    sock.connect(sa)\n",
      "  File \"//anaconda/lib/python3.6/http/client.py\", line 1036, in _send_output\n",
      "    self.send(msg)\n",
      "TimeoutError: [Errno 60] Operation timed out\n",
      "  File \"//anaconda/lib/python3.6/http/client.py\", line 974, in send\n",
      "    self.connect()\n",
      "\n",
      "During handling of the above exception, another exception occurred:\n",
      "\n",
      "  File \"//anaconda/lib/python3.6/site-packages/urllib3/connection.py\", line 181, in connect\n",
      "    conn = self._new_conn()\n",
      "Traceback (most recent call last):\n",
      "  File \"//anaconda/lib/python3.6/site-packages/urllib3/connection.py\", line 168, in _new_conn\n",
      "    self, \"Failed to establish a new connection: %s\" % e)\n",
      "  File \"//anaconda/lib/python3.6/site-packages/urllib3/connectionpool.py\", line 600, in urlopen\n",
      "    chunked=chunked)\n",
      "urllib3.exceptions.NewConnectionError: <urllib3.connection.HTTPConnection object at 0x11ffae5f8>: Failed to establish a new connection: [Errno 60] Operation timed out\n",
      "  File \"//anaconda/lib/python3.6/site-packages/urllib3/connectionpool.py\", line 354, in _make_request\n",
      "    conn.request(method, url, **httplib_request_kw)\n",
      "\n",
      "During handling of the above exception, another exception occurred:\n",
      "\n",
      "  File \"//anaconda/lib/python3.6/http/client.py\", line 1254, in request\n",
      "    self._send_request(method, url, body, headers, encode_chunked)\n",
      "  File \"//anaconda/lib/python3.6/http/client.py\", line 1300, in _send_request\n",
      "    self.endheaders(body, encode_chunked=encode_chunked)\n",
      "Traceback (most recent call last):\n",
      "  File \"//anaconda/lib/python3.6/http/client.py\", line 1249, in endheaders\n",
      "    self._send_output(message_body, encode_chunked=encode_chunked)\n",
      "  File \"//anaconda/lib/python3.6/site-packages/requests/adapters.py\", line 449, in send\n",
      "    timeout=timeout\n",
      "  File \"//anaconda/lib/python3.6/http/client.py\", line 1036, in _send_output\n",
      "    self.send(msg)\n",
      "  File \"//anaconda/lib/python3.6/site-packages/urllib3/connectionpool.py\", line 638, in urlopen\n",
      "    _stacktrace=sys.exc_info()[2])\n",
      "  File \"//anaconda/lib/python3.6/http/client.py\", line 974, in send\n",
      "    self.connect()\n",
      "  File \"//anaconda/lib/python3.6/site-packages/urllib3/util/retry.py\", line 399, in increment\n",
      "    raise MaxRetryError(_pool, url, error or ResponseError(cause))\n",
      "  File \"//anaconda/lib/python3.6/site-packages/urllib3/connection.py\", line 181, in connect\n",
      "    conn = self._new_conn()\n",
      "urllib3.exceptions.MaxRetryError: HTTPConnectionPool(host='clerk.house.gov', port=80): Max retries exceeded with url: /evs/2007/roll848.xml (Caused by NewConnectionError('<urllib3.connection.HTTPConnection object at 0x11ffae5f8>: Failed to establish a new connection: [Errno 60] Operation timed out',))\n",
      "  File \"//anaconda/lib/python3.6/site-packages/urllib3/connection.py\", line 168, in _new_conn\n",
      "    self, \"Failed to establish a new connection: %s\" % e)\n",
      "\n",
      "During handling of the above exception, another exception occurred:\n",
      "\n",
      "urllib3.exceptions.NewConnectionError: <urllib3.connection.HTTPConnection object at 0x11eb2ba90>: Failed to establish a new connection: [Errno 60] Operation timed out\n",
      "Traceback (most recent call last):\n",
      "\n",
      "During handling of the above exception, another exception occurred:\n",
      "\n",
      "  File \"<ipython-input-8-530adc215787>\", line 7, in house_rollcall_individual_parallel\n",
      "    obj.roll_call_single_to_psql(year, rollcall)\n",
      "Traceback (most recent call last):\n",
      "  File \"/Users/benellis/Projects/congress/congress/etl/house_votes.py\", line 183, in roll_call_single_to_psql\n",
      "    df = self.roll_call_single(year, roll)\n",
      "  File \"/Users/benellis/Projects/congress/congress/etl/house_votes.py\", line 137, in roll_call_single\n",
      "    data = requests.get(url)\n",
      "  File \"//anaconda/lib/python3.6/site-packages/requests/adapters.py\", line 449, in send\n",
      "    timeout=timeout\n",
      "  File \"//anaconda/lib/python3.6/site-packages/requests/api.py\", line 75, in get\n",
      "    return request('get', url, params=params, **kwargs)\n",
      "  File \"//anaconda/lib/python3.6/site-packages/urllib3/connectionpool.py\", line 638, in urlopen\n",
      "    _stacktrace=sys.exc_info()[2])\n",
      "  File \"//anaconda/lib/python3.6/site-packages/requests/api.py\", line 60, in request\n",
      "    return session.request(method=method, url=url, **kwargs)\n",
      "  File \"//anaconda/lib/python3.6/site-packages/urllib3/util/retry.py\", line 399, in increment\n",
      "    raise MaxRetryError(_pool, url, error or ResponseError(cause))\n",
      "  File \"//anaconda/lib/python3.6/site-packages/requests/sessions.py\", line 533, in request\n",
      "    resp = self.send(prep, **send_kwargs)\n",
      "urllib3.exceptions.MaxRetryError: HTTPConnectionPool(host='clerk.house.gov', port=80): Max retries exceeded with url: /evs/2008/roll479.xml (Caused by NewConnectionError('<urllib3.connection.HTTPConnection object at 0x11eb2ba90>: Failed to establish a new connection: [Errno 60] Operation timed out',))\n",
      "  File \"//anaconda/lib/python3.6/site-packages/requests/sessions.py\", line 646, in send\n",
      "    r = adapter.send(request, **kwargs)\n",
      "\n",
      "During handling of the above exception, another exception occurred:\n",
      "\n",
      "Traceback (most recent call last):\n",
      "  File \"//anaconda/lib/python3.6/site-packages/requests/adapters.py\", line 516, in send\n",
      "    raise ConnectionError(e, request=request)\n",
      "requests.exceptions.ConnectionError: HTTPConnectionPool(host='clerk.house.gov', port=80): Max retries exceeded with url: /evs/2007/roll848.xml (Caused by NewConnectionError('<urllib3.connection.HTTPConnection object at 0x11ffae5f8>: Failed to establish a new connection: [Errno 60] Operation timed out',))\n",
      "  File \"<ipython-input-8-530adc215787>\", line 7, in house_rollcall_individual_parallel\n",
      "    obj.roll_call_single_to_psql(year, rollcall)\n",
      "  File \"/Users/benellis/Projects/congress/congress/etl/house_votes.py\", line 183, in roll_call_single_to_psql\n",
      "    df = self.roll_call_single(year, roll)\n",
      "  File \"/Users/benellis/Projects/congress/congress/etl/house_votes.py\", line 137, in roll_call_single\n",
      "    data = requests.get(url)\n",
      "  File \"//anaconda/lib/python3.6/site-packages/requests/api.py\", line 75, in get\n",
      "    return request('get', url, params=params, **kwargs)\n",
      "  File \"//anaconda/lib/python3.6/site-packages/requests/api.py\", line 60, in request\n",
      "    return session.request(method=method, url=url, **kwargs)\n",
      "  File \"//anaconda/lib/python3.6/site-packages/requests/sessions.py\", line 533, in request\n",
      "    resp = self.send(prep, **send_kwargs)\n",
      "  File \"//anaconda/lib/python3.6/site-packages/requests/sessions.py\", line 646, in send\n",
      "    r = adapter.send(request, **kwargs)\n",
      "  File \"//anaconda/lib/python3.6/site-packages/requests/adapters.py\", line 516, in send\n",
      "    raise ConnectionError(e, request=request)\n",
      "requests.exceptions.ConnectionError: HTTPConnectionPool(host='clerk.house.gov', port=80): Max retries exceeded with url: /evs/2008/roll479.xml (Caused by NewConnectionError('<urllib3.connection.HTTPConnection object at 0x11eb2ba90>: Failed to establish a new connection: [Errno 60] Operation timed out',))\n"
     ]
    },
    {
     "name": "stdout",
     "output_type": "stream",
     "text": [
      "http://clerk.house.gov/evs/2007/roll847.xml\n",
      "http://clerk.house.gov/evs/2008/roll478.xml\n",
      "http://clerk.house.gov/evs/2008/roll477.xml\n"
     ]
    },
    {
     "name": "stderr",
     "output_type": "stream",
     "text": [
      "Traceback (most recent call last):\n",
      "  File \"//anaconda/lib/python3.6/site-packages/urllib3/connection.py\", line 159, in _new_conn\n",
      "    (self._dns_host, self.port), self.timeout, **extra_kw)\n",
      "  File \"//anaconda/lib/python3.6/site-packages/urllib3/util/connection.py\", line 80, in create_connection\n",
      "    raise err\n",
      "  File \"//anaconda/lib/python3.6/site-packages/urllib3/util/connection.py\", line 70, in create_connection\n",
      "    sock.connect(sa)\n",
      "TimeoutError: [Errno 60] Operation timed out\n",
      "\n",
      "During handling of the above exception, another exception occurred:\n",
      "\n",
      "Traceback (most recent call last):\n",
      "  File \"//anaconda/lib/python3.6/site-packages/urllib3/connectionpool.py\", line 600, in urlopen\n",
      "    chunked=chunked)\n",
      "  File \"//anaconda/lib/python3.6/site-packages/urllib3/connectionpool.py\", line 354, in _make_request\n",
      "    conn.request(method, url, **httplib_request_kw)\n",
      "  File \"//anaconda/lib/python3.6/http/client.py\", line 1254, in request\n",
      "    self._send_request(method, url, body, headers, encode_chunked)\n",
      "  File \"//anaconda/lib/python3.6/http/client.py\", line 1300, in _send_request\n",
      "    self.endheaders(body, encode_chunked=encode_chunked)\n",
      "  File \"//anaconda/lib/python3.6/http/client.py\", line 1249, in endheaders\n",
      "    self._send_output(message_body, encode_chunked=encode_chunked)\n",
      "  File \"//anaconda/lib/python3.6/http/client.py\", line 1036, in _send_output\n",
      "    self.send(msg)\n",
      "  File \"//anaconda/lib/python3.6/http/client.py\", line 974, in send\n",
      "    self.connect()\n",
      "  File \"//anaconda/lib/python3.6/site-packages/urllib3/connection.py\", line 181, in connect\n",
      "    conn = self._new_conn()\n",
      "  File \"//anaconda/lib/python3.6/site-packages/urllib3/connection.py\", line 168, in _new_conn\n",
      "    self, \"Failed to establish a new connection: %s\" % e)\n",
      "urllib3.exceptions.NewConnectionError: <urllib3.connection.HTTPConnection object at 0x11eba3a20>: Failed to establish a new connection: [Errno 60] Operation timed out\n",
      "\n",
      "During handling of the above exception, another exception occurred:\n",
      "\n",
      "Traceback (most recent call last):\n",
      "  File \"//anaconda/lib/python3.6/site-packages/requests/adapters.py\", line 449, in send\n",
      "    timeout=timeout\n",
      "  File \"//anaconda/lib/python3.6/site-packages/urllib3/connectionpool.py\", line 638, in urlopen\n",
      "    _stacktrace=sys.exc_info()[2])\n",
      "  File \"//anaconda/lib/python3.6/site-packages/urllib3/util/retry.py\", line 399, in increment\n",
      "    raise MaxRetryError(_pool, url, error or ResponseError(cause))\n",
      "urllib3.exceptions.MaxRetryError: HTTPConnectionPool(host='clerk.house.gov', port=80): Max retries exceeded with url: /evs/2005/roll658.xml (Caused by NewConnectionError('<urllib3.connection.HTTPConnection object at 0x11eba3a20>: Failed to establish a new connection: [Errno 60] Operation timed out',))\n",
      "\n",
      "During handling of the above exception, another exception occurred:\n",
      "\n",
      "Traceback (most recent call last):\n",
      "  File \"<ipython-input-8-530adc215787>\", line 7, in house_rollcall_individual_parallel\n",
      "    obj.roll_call_single_to_psql(year, rollcall)\n",
      "  File \"/Users/benellis/Projects/congress/congress/etl/house_votes.py\", line 183, in roll_call_single_to_psql\n",
      "    df = self.roll_call_single(year, roll)\n",
      "  File \"/Users/benellis/Projects/congress/congress/etl/house_votes.py\", line 137, in roll_call_single\n",
      "    data = requests.get(url)\n",
      "  File \"//anaconda/lib/python3.6/site-packages/requests/api.py\", line 75, in get\n",
      "    return request('get', url, params=params, **kwargs)\n",
      "  File \"//anaconda/lib/python3.6/site-packages/requests/api.py\", line 60, in request\n",
      "    return session.request(method=method, url=url, **kwargs)\n",
      "  File \"//anaconda/lib/python3.6/site-packages/requests/sessions.py\", line 533, in request\n",
      "    resp = self.send(prep, **send_kwargs)\n",
      "  File \"//anaconda/lib/python3.6/site-packages/requests/sessions.py\", line 646, in send\n",
      "    r = adapter.send(request, **kwargs)\n",
      "  File \"//anaconda/lib/python3.6/site-packages/requests/adapters.py\", line 516, in send\n",
      "    raise ConnectionError(e, request=request)\n",
      "requests.exceptions.ConnectionError: HTTPConnectionPool(host='clerk.house.gov', port=80): Max retries exceeded with url: /evs/2005/roll658.xml (Caused by NewConnectionError('<urllib3.connection.HTTPConnection object at 0x11eba3a20>: Failed to establish a new connection: [Errno 60] Operation timed out',))\n"
     ]
    },
    {
     "name": "stdout",
     "output_type": "stream",
     "text": [
      "http://clerk.house.gov/evs/2005/roll657.xml\n"
     ]
    },
    {
     "name": "stderr",
     "output_type": "stream",
     "text": [
      "Traceback (most recent call last):\n",
      "  File \"//anaconda/lib/python3.6/site-packages/urllib3/connection.py\", line 159, in _new_conn\n",
      "    (self._dns_host, self.port), self.timeout, **extra_kw)\n",
      "  File \"//anaconda/lib/python3.6/site-packages/urllib3/util/connection.py\", line 80, in create_connection\n",
      "    raise err\n",
      "  File \"//anaconda/lib/python3.6/site-packages/urllib3/util/connection.py\", line 70, in create_connection\n",
      "    sock.connect(sa)\n",
      "TimeoutError: [Errno 60] Operation timed out\n",
      "\n",
      "During handling of the above exception, another exception occurred:\n",
      "\n",
      "Traceback (most recent call last):\n",
      "  File \"//anaconda/lib/python3.6/site-packages/urllib3/connectionpool.py\", line 600, in urlopen\n",
      "    chunked=chunked)\n",
      "  File \"//anaconda/lib/python3.6/site-packages/urllib3/connectionpool.py\", line 354, in _make_request\n",
      "    conn.request(method, url, **httplib_request_kw)\n",
      "  File \"//anaconda/lib/python3.6/http/client.py\", line 1254, in request\n",
      "    self._send_request(method, url, body, headers, encode_chunked)\n",
      "  File \"//anaconda/lib/python3.6/http/client.py\", line 1300, in _send_request\n",
      "    self.endheaders(body, encode_chunked=encode_chunked)\n",
      "  File \"//anaconda/lib/python3.6/http/client.py\", line 1249, in endheaders\n",
      "    self._send_output(message_body, encode_chunked=encode_chunked)\n",
      "  File \"//anaconda/lib/python3.6/http/client.py\", line 1036, in _send_output\n",
      "    self.send(msg)\n",
      "Traceback (most recent call last):\n",
      "  File \"//anaconda/lib/python3.6/http/client.py\", line 974, in send\n",
      "    self.connect()\n",
      "  File \"//anaconda/lib/python3.6/site-packages/urllib3/connection.py\", line 159, in _new_conn\n",
      "    (self._dns_host, self.port), self.timeout, **extra_kw)\n",
      "  File \"//anaconda/lib/python3.6/site-packages/urllib3/connection.py\", line 181, in connect\n",
      "    conn = self._new_conn()\n",
      "  File \"//anaconda/lib/python3.6/site-packages/urllib3/util/connection.py\", line 80, in create_connection\n",
      "    raise err\n",
      "  File \"//anaconda/lib/python3.6/site-packages/urllib3/connection.py\", line 168, in _new_conn\n",
      "    self, \"Failed to establish a new connection: %s\" % e)\n",
      "  File \"//anaconda/lib/python3.6/site-packages/urllib3/util/connection.py\", line 70, in create_connection\n",
      "    sock.connect(sa)\n",
      "urllib3.exceptions.NewConnectionError: <urllib3.connection.HTTPConnection object at 0x11ffae8d0>: Failed to establish a new connection: [Errno 60] Operation timed out\n",
      "TimeoutError: [Errno 60] Operation timed out\n",
      "\n",
      "During handling of the above exception, another exception occurred:\n",
      "\n",
      "Traceback (most recent call last):\n",
      "\n",
      "During handling of the above exception, another exception occurred:\n",
      "\n",
      "Traceback (most recent call last):\n",
      "  File \"//anaconda/lib/python3.6/site-packages/requests/adapters.py\", line 449, in send\n",
      "    timeout=timeout\n",
      "  File \"//anaconda/lib/python3.6/site-packages/urllib3/connectionpool.py\", line 638, in urlopen\n",
      "    _stacktrace=sys.exc_info()[2])\n",
      "  File \"//anaconda/lib/python3.6/site-packages/urllib3/connectionpool.py\", line 600, in urlopen\n",
      "    chunked=chunked)\n",
      "  File \"//anaconda/lib/python3.6/site-packages/urllib3/util/retry.py\", line 399, in increment\n",
      "    raise MaxRetryError(_pool, url, error or ResponseError(cause))\n",
      "  File \"//anaconda/lib/python3.6/site-packages/urllib3/connectionpool.py\", line 354, in _make_request\n",
      "    conn.request(method, url, **httplib_request_kw)\n",
      "  File \"//anaconda/lib/python3.6/http/client.py\", line 1254, in request\n",
      "    self._send_request(method, url, body, headers, encode_chunked)\n",
      "urllib3.exceptions.MaxRetryError: HTTPConnectionPool(host='clerk.house.gov', port=80): Max retries exceeded with url: /evs/2007/roll847.xml (Caused by NewConnectionError('<urllib3.connection.HTTPConnection object at 0x11ffae8d0>: Failed to establish a new connection: [Errno 60] Operation timed out',))\n",
      "  File \"//anaconda/lib/python3.6/http/client.py\", line 1300, in _send_request\n",
      "    self.endheaders(body, encode_chunked=encode_chunked)\n",
      "\n",
      "During handling of the above exception, another exception occurred:\n",
      "\n",
      "  File \"//anaconda/lib/python3.6/http/client.py\", line 1249, in endheaders\n",
      "    self._send_output(message_body, encode_chunked=encode_chunked)\n",
      "Traceback (most recent call last):\n",
      "  File \"//anaconda/lib/python3.6/http/client.py\", line 1036, in _send_output\n",
      "    self.send(msg)\n",
      "  File \"<ipython-input-8-530adc215787>\", line 7, in house_rollcall_individual_parallel\n",
      "    obj.roll_call_single_to_psql(year, rollcall)\n",
      "  File \"//anaconda/lib/python3.6/http/client.py\", line 974, in send\n",
      "    self.connect()\n",
      "  File \"/Users/benellis/Projects/congress/congress/etl/house_votes.py\", line 183, in roll_call_single_to_psql\n",
      "    df = self.roll_call_single(year, roll)\n",
      "  File \"//anaconda/lib/python3.6/site-packages/urllib3/connection.py\", line 181, in connect\n",
      "    conn = self._new_conn()\n",
      "  File \"/Users/benellis/Projects/congress/congress/etl/house_votes.py\", line 137, in roll_call_single\n",
      "    data = requests.get(url)\n",
      "  File \"//anaconda/lib/python3.6/site-packages/urllib3/connection.py\", line 168, in _new_conn\n",
      "    self, \"Failed to establish a new connection: %s\" % e)\n",
      "  File \"//anaconda/lib/python3.6/site-packages/requests/api.py\", line 75, in get\n",
      "    return request('get', url, params=params, **kwargs)\n",
      "urllib3.exceptions.NewConnectionError: <urllib3.connection.HTTPConnection object at 0x11f4c4160>: Failed to establish a new connection: [Errno 60] Operation timed out\n",
      "  File \"//anaconda/lib/python3.6/site-packages/requests/api.py\", line 60, in request\n",
      "    return session.request(method=method, url=url, **kwargs)\n",
      "\n",
      "During handling of the above exception, another exception occurred:\n",
      "\n",
      "  File \"//anaconda/lib/python3.6/site-packages/requests/sessions.py\", line 533, in request\n",
      "    resp = self.send(prep, **send_kwargs)\n",
      "Traceback (most recent call last):\n",
      "  File \"//anaconda/lib/python3.6/site-packages/requests/adapters.py\", line 449, in send\n",
      "    timeout=timeout\n",
      "  File \"//anaconda/lib/python3.6/site-packages/requests/sessions.py\", line 646, in send\n",
      "    r = adapter.send(request, **kwargs)\n",
      "  File \"//anaconda/lib/python3.6/site-packages/requests/adapters.py\", line 516, in send\n",
      "    raise ConnectionError(e, request=request)\n",
      "  File \"//anaconda/lib/python3.6/site-packages/urllib3/connectionpool.py\", line 638, in urlopen\n",
      "    _stacktrace=sys.exc_info()[2])\n",
      "requests.exceptions.ConnectionError: HTTPConnectionPool(host='clerk.house.gov', port=80): Max retries exceeded with url: /evs/2007/roll847.xml (Caused by NewConnectionError('<urllib3.connection.HTTPConnection object at 0x11ffae8d0>: Failed to establish a new connection: [Errno 60] Operation timed out',))\n",
      "  File \"//anaconda/lib/python3.6/site-packages/urllib3/util/retry.py\", line 399, in increment\n",
      "    raise MaxRetryError(_pool, url, error or ResponseError(cause))\n",
      "urllib3.exceptions.MaxRetryError: HTTPConnectionPool(host='clerk.house.gov', port=80): Max retries exceeded with url: /evs/2003/roll617.xml (Caused by NewConnectionError('<urllib3.connection.HTTPConnection object at 0x11f4c4160>: Failed to establish a new connection: [Errno 60] Operation timed out',))\n",
      "\n",
      "During handling of the above exception, another exception occurred:\n",
      "\n",
      "Traceback (most recent call last):\n",
      "  File \"<ipython-input-8-530adc215787>\", line 7, in house_rollcall_individual_parallel\n",
      "    obj.roll_call_single_to_psql(year, rollcall)\n",
      "  File \"/Users/benellis/Projects/congress/congress/etl/house_votes.py\", line 183, in roll_call_single_to_psql\n",
      "    df = self.roll_call_single(year, roll)\n",
      "  File \"/Users/benellis/Projects/congress/congress/etl/house_votes.py\", line 137, in roll_call_single\n",
      "    data = requests.get(url)\n",
      "  File \"//anaconda/lib/python3.6/site-packages/requests/api.py\", line 75, in get\n",
      "    return request('get', url, params=params, **kwargs)\n",
      "  File \"//anaconda/lib/python3.6/site-packages/requests/api.py\", line 60, in request\n",
      "    return session.request(method=method, url=url, **kwargs)\n",
      "  File \"//anaconda/lib/python3.6/site-packages/requests/sessions.py\", line 533, in request\n",
      "    resp = self.send(prep, **send_kwargs)\n",
      "  File \"//anaconda/lib/python3.6/site-packages/requests/sessions.py\", line 646, in send\n",
      "    r = adapter.send(request, **kwargs)\n",
      "  File \"//anaconda/lib/python3.6/site-packages/requests/adapters.py\", line 516, in send\n",
      "    raise ConnectionError(e, request=request)\n",
      "requests.exceptions.ConnectionError: HTTPConnectionPool(host='clerk.house.gov', port=80): Max retries exceeded with url: /evs/2003/roll617.xml (Caused by NewConnectionError('<urllib3.connection.HTTPConnection object at 0x11f4c4160>: Failed to establish a new connection: [Errno 60] Operation timed out',))\n"
     ]
    },
    {
     "name": "stdout",
     "output_type": "stream",
     "text": [
      "http://clerk.house.gov/evs/2007/roll846.xml\n",
      "http://clerk.house.gov/evs/2003/roll616.xml\n",
      "http://clerk.house.gov/evs/2007/roll845.xml\n"
     ]
    },
    {
     "name": "stderr",
     "output_type": "stream",
     "text": [
      "Traceback (most recent call last):\n",
      "  File \"//anaconda/lib/python3.6/site-packages/urllib3/connection.py\", line 159, in _new_conn\n",
      "    (self._dns_host, self.port), self.timeout, **extra_kw)\n",
      "  File \"//anaconda/lib/python3.6/site-packages/urllib3/util/connection.py\", line 80, in create_connection\n",
      "    raise err\n",
      "  File \"//anaconda/lib/python3.6/site-packages/urllib3/util/connection.py\", line 70, in create_connection\n",
      "    sock.connect(sa)\n",
      "TimeoutError: [Errno 60] Operation timed out\n",
      "\n",
      "During handling of the above exception, another exception occurred:\n",
      "\n",
      "Traceback (most recent call last):\n",
      "  File \"//anaconda/lib/python3.6/site-packages/urllib3/connectionpool.py\", line 600, in urlopen\n",
      "    chunked=chunked)\n",
      "  File \"//anaconda/lib/python3.6/site-packages/urllib3/connectionpool.py\", line 354, in _make_request\n",
      "    conn.request(method, url, **httplib_request_kw)\n",
      "  File \"//anaconda/lib/python3.6/http/client.py\", line 1254, in request\n",
      "    self._send_request(method, url, body, headers, encode_chunked)\n",
      "  File \"//anaconda/lib/python3.6/http/client.py\", line 1300, in _send_request\n",
      "    self.endheaders(body, encode_chunked=encode_chunked)\n",
      "  File \"//anaconda/lib/python3.6/http/client.py\", line 1249, in endheaders\n",
      "    self._send_output(message_body, encode_chunked=encode_chunked)\n",
      "  File \"//anaconda/lib/python3.6/http/client.py\", line 1036, in _send_output\n",
      "    self.send(msg)\n",
      "  File \"//anaconda/lib/python3.6/http/client.py\", line 974, in send\n",
      "    self.connect()\n",
      "  File \"//anaconda/lib/python3.6/site-packages/urllib3/connection.py\", line 181, in connect\n",
      "    conn = self._new_conn()\n",
      "  File \"//anaconda/lib/python3.6/site-packages/urllib3/connection.py\", line 168, in _new_conn\n",
      "    self, \"Failed to establish a new connection: %s\" % e)\n",
      "urllib3.exceptions.NewConnectionError: <urllib3.connection.HTTPConnection object at 0x12054ae48>: Failed to establish a new connection: [Errno 60] Operation timed out\n",
      "\n",
      "During handling of the above exception, another exception occurred:\n",
      "\n",
      "Traceback (most recent call last):\n",
      "  File \"//anaconda/lib/python3.6/site-packages/requests/adapters.py\", line 449, in send\n",
      "    timeout=timeout\n",
      "  File \"//anaconda/lib/python3.6/site-packages/urllib3/connectionpool.py\", line 638, in urlopen\n",
      "    _stacktrace=sys.exc_info()[2])\n",
      "  File \"//anaconda/lib/python3.6/site-packages/urllib3/util/retry.py\", line 399, in increment\n",
      "    raise MaxRetryError(_pool, url, error or ResponseError(cause))\n",
      "urllib3.exceptions.MaxRetryError: HTTPConnectionPool(host='clerk.house.gov', port=80): Max retries exceeded with url: /evs/2008/roll477.xml (Caused by NewConnectionError('<urllib3.connection.HTTPConnection object at 0x12054ae48>: Failed to establish a new connection: [Errno 60] Operation timed out',))\n",
      "\n",
      "During handling of the above exception, another exception occurred:\n",
      "\n",
      "Traceback (most recent call last):\n",
      "  File \"<ipython-input-8-530adc215787>\", line 7, in house_rollcall_individual_parallel\n",
      "    obj.roll_call_single_to_psql(year, rollcall)\n",
      "  File \"/Users/benellis/Projects/congress/congress/etl/house_votes.py\", line 183, in roll_call_single_to_psql\n",
      "    df = self.roll_call_single(year, roll)\n",
      "  File \"/Users/benellis/Projects/congress/congress/etl/house_votes.py\", line 137, in roll_call_single\n",
      "    data = requests.get(url)\n",
      "  File \"//anaconda/lib/python3.6/site-packages/requests/api.py\", line 75, in get\n",
      "    return request('get', url, params=params, **kwargs)\n",
      "  File \"//anaconda/lib/python3.6/site-packages/requests/api.py\", line 60, in request\n",
      "    return session.request(method=method, url=url, **kwargs)\n",
      "  File \"//anaconda/lib/python3.6/site-packages/requests/sessions.py\", line 533, in request\n",
      "    resp = self.send(prep, **send_kwargs)\n",
      "  File \"//anaconda/lib/python3.6/site-packages/requests/sessions.py\", line 646, in send\n",
      "    r = adapter.send(request, **kwargs)\n",
      "  File \"//anaconda/lib/python3.6/site-packages/requests/adapters.py\", line 516, in send\n",
      "    raise ConnectionError(e, request=request)\n",
      "requests.exceptions.ConnectionError: HTTPConnectionPool(host='clerk.house.gov', port=80): Max retries exceeded with url: /evs/2008/roll477.xml (Caused by NewConnectionError('<urllib3.connection.HTTPConnection object at 0x12054ae48>: Failed to establish a new connection: [Errno 60] Operation timed out',))\n"
     ]
    },
    {
     "name": "stdout",
     "output_type": "stream",
     "text": [
      "http://clerk.house.gov/evs/2008/roll476.xml\n"
     ]
    },
    {
     "name": "stderr",
     "output_type": "stream",
     "text": [
      "Traceback (most recent call last):\n",
      "  File \"//anaconda/lib/python3.6/site-packages/urllib3/connection.py\", line 159, in _new_conn\n",
      "    (self._dns_host, self.port), self.timeout, **extra_kw)\n",
      "  File \"//anaconda/lib/python3.6/site-packages/urllib3/util/connection.py\", line 80, in create_connection\n",
      "    raise err\n",
      "  File \"//anaconda/lib/python3.6/site-packages/urllib3/util/connection.py\", line 70, in create_connection\n",
      "    sock.connect(sa)\n",
      "TimeoutError: [Errno 60] Operation timed out\n",
      "\n",
      "During handling of the above exception, another exception occurred:\n",
      "\n",
      "Traceback (most recent call last):\n",
      "  File \"//anaconda/lib/python3.6/site-packages/urllib3/connectionpool.py\", line 600, in urlopen\n",
      "    chunked=chunked)\n",
      "  File \"//anaconda/lib/python3.6/site-packages/urllib3/connectionpool.py\", line 354, in _make_request\n",
      "    conn.request(method, url, **httplib_request_kw)\n",
      "  File \"//anaconda/lib/python3.6/http/client.py\", line 1254, in request\n",
      "    self._send_request(method, url, body, headers, encode_chunked)\n",
      "  File \"//anaconda/lib/python3.6/http/client.py\", line 1300, in _send_request\n",
      "    self.endheaders(body, encode_chunked=encode_chunked)\n",
      "  File \"//anaconda/lib/python3.6/http/client.py\", line 1249, in endheaders\n",
      "    self._send_output(message_body, encode_chunked=encode_chunked)\n",
      "  File \"//anaconda/lib/python3.6/http/client.py\", line 1036, in _send_output\n",
      "    self.send(msg)\n",
      "  File \"//anaconda/lib/python3.6/http/client.py\", line 974, in send\n",
      "    self.connect()\n",
      "  File \"//anaconda/lib/python3.6/site-packages/urllib3/connection.py\", line 181, in connect\n",
      "    conn = self._new_conn()\n",
      "  File \"//anaconda/lib/python3.6/site-packages/urllib3/connection.py\", line 168, in _new_conn\n",
      "    self, \"Failed to establish a new connection: %s\" % e)\n",
      "urllib3.exceptions.NewConnectionError: <urllib3.connection.HTTPConnection object at 0x11eba3780>: Failed to establish a new connection: [Errno 60] Operation timed out\n",
      "\n",
      "During handling of the above exception, another exception occurred:\n",
      "\n",
      "Traceback (most recent call last):\n",
      "  File \"//anaconda/lib/python3.6/site-packages/requests/adapters.py\", line 449, in send\n",
      "    timeout=timeout\n",
      "  File \"//anaconda/lib/python3.6/site-packages/urllib3/connectionpool.py\", line 638, in urlopen\n",
      "    _stacktrace=sys.exc_info()[2])\n",
      "  File \"//anaconda/lib/python3.6/site-packages/urllib3/util/retry.py\", line 399, in increment\n",
      "    raise MaxRetryError(_pool, url, error or ResponseError(cause))\n",
      "urllib3.exceptions.MaxRetryError: HTTPConnectionPool(host='clerk.house.gov', port=80): Max retries exceeded with url: /evs/2005/roll657.xml (Caused by NewConnectionError('<urllib3.connection.HTTPConnection object at 0x11eba3780>: Failed to establish a new connection: [Errno 60] Operation timed out',))\n",
      "\n",
      "During handling of the above exception, another exception occurred:\n",
      "\n",
      "Traceback (most recent call last):\n",
      "  File \"<ipython-input-8-530adc215787>\", line 7, in house_rollcall_individual_parallel\n",
      "    obj.roll_call_single_to_psql(year, rollcall)\n",
      "  File \"/Users/benellis/Projects/congress/congress/etl/house_votes.py\", line 183, in roll_call_single_to_psql\n",
      "    df = self.roll_call_single(year, roll)\n",
      "  File \"/Users/benellis/Projects/congress/congress/etl/house_votes.py\", line 137, in roll_call_single\n",
      "    data = requests.get(url)\n",
      "  File \"//anaconda/lib/python3.6/site-packages/requests/api.py\", line 75, in get\n",
      "    return request('get', url, params=params, **kwargs)\n",
      "  File \"//anaconda/lib/python3.6/site-packages/requests/api.py\", line 60, in request\n",
      "    return session.request(method=method, url=url, **kwargs)\n",
      "  File \"//anaconda/lib/python3.6/site-packages/requests/sessions.py\", line 533, in request\n",
      "    resp = self.send(prep, **send_kwargs)\n",
      "  File \"//anaconda/lib/python3.6/site-packages/requests/sessions.py\", line 646, in send\n",
      "    r = adapter.send(request, **kwargs)\n",
      "  File \"//anaconda/lib/python3.6/site-packages/requests/adapters.py\", line 516, in send\n",
      "    raise ConnectionError(e, request=request)\n",
      "requests.exceptions.ConnectionError: HTTPConnectionPool(host='clerk.house.gov', port=80): Max retries exceeded with url: /evs/2005/roll657.xml (Caused by NewConnectionError('<urllib3.connection.HTTPConnection object at 0x11eba3780>: Failed to establish a new connection: [Errno 60] Operation timed out',))\n"
     ]
    },
    {
     "name": "stdout",
     "output_type": "stream",
     "text": [
      "http://clerk.house.gov/evs/2005/roll656.xml\n"
     ]
    },
    {
     "name": "stderr",
     "output_type": "stream",
     "text": [
      "Traceback (most recent call last):\n",
      "  File \"//anaconda/lib/python3.6/site-packages/urllib3/connection.py\", line 159, in _new_conn\n",
      "    (self._dns_host, self.port), self.timeout, **extra_kw)\n",
      "  File \"//anaconda/lib/python3.6/site-packages/urllib3/util/connection.py\", line 80, in create_connection\n",
      "    raise err\n",
      "  File \"//anaconda/lib/python3.6/site-packages/urllib3/util/connection.py\", line 70, in create_connection\n",
      "    sock.connect(sa)\n",
      "TimeoutError: [Errno 60] Operation timed out\n",
      "\n",
      "During handling of the above exception, another exception occurred:\n",
      "\n",
      "Traceback (most recent call last):\n",
      "  File \"//anaconda/lib/python3.6/site-packages/urllib3/connectionpool.py\", line 600, in urlopen\n",
      "    chunked=chunked)\n",
      "  File \"//anaconda/lib/python3.6/site-packages/urllib3/connectionpool.py\", line 354, in _make_request\n",
      "    conn.request(method, url, **httplib_request_kw)\n",
      "  File \"//anaconda/lib/python3.6/http/client.py\", line 1254, in request\n",
      "    self._send_request(method, url, body, headers, encode_chunked)\n",
      "  File \"//anaconda/lib/python3.6/http/client.py\", line 1300, in _send_request\n",
      "    self.endheaders(body, encode_chunked=encode_chunked)\n",
      "  File \"//anaconda/lib/python3.6/http/client.py\", line 1249, in endheaders\n",
      "    self._send_output(message_body, encode_chunked=encode_chunked)\n",
      "  File \"//anaconda/lib/python3.6/http/client.py\", line 1036, in _send_output\n",
      "    self.send(msg)\n",
      "  File \"//anaconda/lib/python3.6/http/client.py\", line 974, in send\n",
      "    self.connect()\n",
      "  File \"//anaconda/lib/python3.6/site-packages/urllib3/connection.py\", line 181, in connect\n",
      "    conn = self._new_conn()\n",
      "  File \"//anaconda/lib/python3.6/site-packages/urllib3/connection.py\", line 168, in _new_conn\n",
      "    self, \"Failed to establish a new connection: %s\" % e)\n",
      "urllib3.exceptions.NewConnectionError: <urllib3.connection.HTTPConnection object at 0x11f4c48d0>: Failed to establish a new connection: [Errno 60] Operation timed out\n",
      "\n",
      "During handling of the above exception, another exception occurred:\n",
      "\n",
      "Traceback (most recent call last):\n",
      "  File \"//anaconda/lib/python3.6/site-packages/requests/adapters.py\", line 449, in send\n",
      "    timeout=timeout\n",
      "  File \"//anaconda/lib/python3.6/site-packages/urllib3/connectionpool.py\", line 638, in urlopen\n",
      "    _stacktrace=sys.exc_info()[2])\n",
      "  File \"//anaconda/lib/python3.6/site-packages/urllib3/util/retry.py\", line 399, in increment\n",
      "    raise MaxRetryError(_pool, url, error or ResponseError(cause))\n",
      "urllib3.exceptions.MaxRetryError: HTTPConnectionPool(host='clerk.house.gov', port=80): Max retries exceeded with url: /evs/2003/roll616.xml (Caused by NewConnectionError('<urllib3.connection.HTTPConnection object at 0x11f4c48d0>: Failed to establish a new connection: [Errno 60] Operation timed out',))\n",
      "\n",
      "During handling of the above exception, another exception occurred:\n",
      "\n",
      "Traceback (most recent call last):\n",
      "  File \"<ipython-input-8-530adc215787>\", line 7, in house_rollcall_individual_parallel\n",
      "    obj.roll_call_single_to_psql(year, rollcall)\n",
      "  File \"/Users/benellis/Projects/congress/congress/etl/house_votes.py\", line 183, in roll_call_single_to_psql\n",
      "    df = self.roll_call_single(year, roll)\n",
      "  File \"/Users/benellis/Projects/congress/congress/etl/house_votes.py\", line 137, in roll_call_single\n",
      "    data = requests.get(url)\n",
      "  File \"//anaconda/lib/python3.6/site-packages/requests/api.py\", line 75, in get\n",
      "    return request('get', url, params=params, **kwargs)\n",
      "  File \"//anaconda/lib/python3.6/site-packages/requests/api.py\", line 60, in request\n",
      "    return session.request(method=method, url=url, **kwargs)\n",
      "  File \"//anaconda/lib/python3.6/site-packages/requests/sessions.py\", line 533, in request\n",
      "    resp = self.send(prep, **send_kwargs)\n",
      "  File \"//anaconda/lib/python3.6/site-packages/requests/sessions.py\", line 646, in send\n",
      "    r = adapter.send(request, **kwargs)\n",
      "  File \"//anaconda/lib/python3.6/site-packages/requests/adapters.py\", line 516, in send\n",
      "    raise ConnectionError(e, request=request)\n",
      "requests.exceptions.ConnectionError: HTTPConnectionPool(host='clerk.house.gov', port=80): Max retries exceeded with url: /evs/2003/roll616.xml (Caused by NewConnectionError('<urllib3.connection.HTTPConnection object at 0x11f4c48d0>: Failed to establish a new connection: [Errno 60] Operation timed out',))\n"
     ]
    },
    {
     "name": "stdout",
     "output_type": "stream",
     "text": [
      "http://clerk.house.gov/evs/2003/roll615.xml\n",
      "http://clerk.house.gov/evs/2003/roll614.xml\n"
     ]
    },
    {
     "name": "stderr",
     "output_type": "stream",
     "text": [
      "Traceback (most recent call last):\n",
      "  File \"//anaconda/lib/python3.6/site-packages/urllib3/connection.py\", line 159, in _new_conn\n",
      "    (self._dns_host, self.port), self.timeout, **extra_kw)\n",
      "  File \"//anaconda/lib/python3.6/site-packages/urllib3/util/connection.py\", line 80, in create_connection\n",
      "    raise err\n",
      "  File \"//anaconda/lib/python3.6/site-packages/urllib3/util/connection.py\", line 70, in create_connection\n",
      "    sock.connect(sa)\n",
      "TimeoutError: [Errno 60] Operation timed out\n",
      "\n",
      "During handling of the above exception, another exception occurred:\n",
      "\n",
      "Traceback (most recent call last):\n",
      "  File \"//anaconda/lib/python3.6/site-packages/urllib3/connectionpool.py\", line 600, in urlopen\n",
      "    chunked=chunked)\n",
      "  File \"//anaconda/lib/python3.6/site-packages/urllib3/connectionpool.py\", line 354, in _make_request\n",
      "    conn.request(method, url, **httplib_request_kw)\n",
      "  File \"//anaconda/lib/python3.6/http/client.py\", line 1254, in request\n",
      "    self._send_request(method, url, body, headers, encode_chunked)\n",
      "  File \"//anaconda/lib/python3.6/http/client.py\", line 1300, in _send_request\n",
      "    self.endheaders(body, encode_chunked=encode_chunked)\n",
      "  File \"//anaconda/lib/python3.6/http/client.py\", line 1249, in endheaders\n",
      "    self._send_output(message_body, encode_chunked=encode_chunked)\n",
      "  File \"//anaconda/lib/python3.6/http/client.py\", line 1036, in _send_output\n",
      "    self.send(msg)\n",
      "  File \"//anaconda/lib/python3.6/http/client.py\", line 974, in send\n",
      "    self.connect()\n",
      "  File \"//anaconda/lib/python3.6/site-packages/urllib3/connection.py\", line 181, in connect\n",
      "    conn = self._new_conn()\n",
      "  File \"//anaconda/lib/python3.6/site-packages/urllib3/connection.py\", line 168, in _new_conn\n",
      "    self, \"Failed to establish a new connection: %s\" % e)\n",
      "urllib3.exceptions.NewConnectionError: <urllib3.connection.HTTPConnection object at 0x1203da710>: Failed to establish a new connection: [Errno 60] Operation timed out\n",
      "\n",
      "During handling of the above exception, another exception occurred:\n",
      "\n",
      "Traceback (most recent call last):\n",
      "  File \"//anaconda/lib/python3.6/site-packages/requests/adapters.py\", line 449, in send\n",
      "    timeout=timeout\n",
      "  File \"//anaconda/lib/python3.6/site-packages/urllib3/connectionpool.py\", line 638, in urlopen\n",
      "    _stacktrace=sys.exc_info()[2])\n",
      "  File \"//anaconda/lib/python3.6/site-packages/urllib3/util/retry.py\", line 399, in increment\n",
      "    raise MaxRetryError(_pool, url, error or ResponseError(cause))\n",
      "urllib3.exceptions.MaxRetryError: HTTPConnectionPool(host='clerk.house.gov', port=80): Max retries exceeded with url: /evs/2007/roll845.xml (Caused by NewConnectionError('<urllib3.connection.HTTPConnection object at 0x1203da710>: Failed to establish a new connection: [Errno 60] Operation timed out',))\n",
      "\n",
      "During handling of the above exception, another exception occurred:\n",
      "\n",
      "Traceback (most recent call last):\n",
      "  File \"<ipython-input-8-530adc215787>\", line 7, in house_rollcall_individual_parallel\n",
      "    obj.roll_call_single_to_psql(year, rollcall)\n",
      "  File \"/Users/benellis/Projects/congress/congress/etl/house_votes.py\", line 183, in roll_call_single_to_psql\n",
      "    df = self.roll_call_single(year, roll)\n",
      "  File \"/Users/benellis/Projects/congress/congress/etl/house_votes.py\", line 137, in roll_call_single\n",
      "    data = requests.get(url)\n",
      "  File \"//anaconda/lib/python3.6/site-packages/requests/api.py\", line 75, in get\n",
      "    return request('get', url, params=params, **kwargs)\n",
      "  File \"//anaconda/lib/python3.6/site-packages/requests/api.py\", line 60, in request\n",
      "    return session.request(method=method, url=url, **kwargs)\n",
      "  File \"//anaconda/lib/python3.6/site-packages/requests/sessions.py\", line 533, in request\n",
      "    resp = self.send(prep, **send_kwargs)\n",
      "  File \"//anaconda/lib/python3.6/site-packages/requests/sessions.py\", line 646, in send\n",
      "    r = adapter.send(request, **kwargs)\n",
      "  File \"//anaconda/lib/python3.6/site-packages/requests/adapters.py\", line 516, in send\n",
      "    raise ConnectionError(e, request=request)\n",
      "requests.exceptions.ConnectionError: HTTPConnectionPool(host='clerk.house.gov', port=80): Max retries exceeded with url: /evs/2007/roll845.xml (Caused by NewConnectionError('<urllib3.connection.HTTPConnection object at 0x1203da710>: Failed to establish a new connection: [Errno 60] Operation timed out',))\n"
     ]
    },
    {
     "name": "stdout",
     "output_type": "stream",
     "text": [
      "http://clerk.house.gov/evs/2007/roll844.xml\n"
     ]
    },
    {
     "name": "stderr",
     "output_type": "stream",
     "text": [
      "Traceback (most recent call last):\n",
      "  File \"<ipython-input-8-530adc215787>\", line 7, in house_rollcall_individual_parallel\n",
      "    obj.roll_call_single_to_psql(year, rollcall)\n",
      "  File \"/Users/benellis/Projects/congress/congress/etl/house_votes.py\", line 183, in roll_call_single_to_psql\n",
      "    df = self.roll_call_single(year, roll)\n",
      "  File \"/Users/benellis/Projects/congress/congress/etl/house_votes.py\", line 142, in roll_call_single\n",
      "    chamber = soup.find('chamber').text\n",
      "AttributeError: 'NoneType' object has no attribute 'text'\n"
     ]
    },
    {
     "name": "stdout",
     "output_type": "stream",
     "text": [
      "http://clerk.house.gov/evs/2007/roll843.xml\n"
     ]
    },
    {
     "name": "stderr",
     "output_type": "stream",
     "text": [
      "Traceback (most recent call last):\n",
      "  File \"<ipython-input-8-530adc215787>\", line 7, in house_rollcall_individual_parallel\n",
      "    obj.roll_call_single_to_psql(year, rollcall)\n",
      "  File \"/Users/benellis/Projects/congress/congress/etl/house_votes.py\", line 183, in roll_call_single_to_psql\n",
      "    df = self.roll_call_single(year, roll)\n",
      "  File \"/Users/benellis/Projects/congress/congress/etl/house_votes.py\", line 142, in roll_call_single\n",
      "    chamber = soup.find('chamber').text\n",
      "AttributeError: 'NoneType' object has no attribute 'text'\n"
     ]
    },
    {
     "name": "stdout",
     "output_type": "stream",
     "text": [
      "http://clerk.house.gov/evs/2007/roll842.xml\n",
      "http://clerk.house.gov/evs/2003/roll613.xml\n"
     ]
    },
    {
     "name": "stderr",
     "output_type": "stream",
     "text": [
      "Traceback (most recent call last):\n",
      "  File \"//anaconda/lib/python3.6/site-packages/urllib3/connection.py\", line 159, in _new_conn\n",
      "    (self._dns_host, self.port), self.timeout, **extra_kw)\n",
      "  File \"//anaconda/lib/python3.6/site-packages/urllib3/util/connection.py\", line 80, in create_connection\n",
      "    raise err\n",
      "  File \"//anaconda/lib/python3.6/site-packages/urllib3/util/connection.py\", line 70, in create_connection\n",
      "    sock.connect(sa)\n",
      "TimeoutError: [Errno 60] Operation timed out\n",
      "\n",
      "During handling of the above exception, another exception occurred:\n",
      "\n",
      "Traceback (most recent call last):\n",
      "  File \"//anaconda/lib/python3.6/site-packages/urllib3/connectionpool.py\", line 600, in urlopen\n",
      "    chunked=chunked)\n",
      "  File \"//anaconda/lib/python3.6/site-packages/urllib3/connectionpool.py\", line 354, in _make_request\n",
      "    conn.request(method, url, **httplib_request_kw)\n",
      "  File \"//anaconda/lib/python3.6/http/client.py\", line 1254, in request\n",
      "    self._send_request(method, url, body, headers, encode_chunked)\n",
      "  File \"//anaconda/lib/python3.6/http/client.py\", line 1300, in _send_request\n",
      "    self.endheaders(body, encode_chunked=encode_chunked)\n",
      "  File \"//anaconda/lib/python3.6/http/client.py\", line 1249, in endheaders\n",
      "    self._send_output(message_body, encode_chunked=encode_chunked)\n",
      "  File \"//anaconda/lib/python3.6/http/client.py\", line 1036, in _send_output\n",
      "    self.send(msg)\n",
      "  File \"//anaconda/lib/python3.6/http/client.py\", line 974, in send\n",
      "    self.connect()\n",
      "  File \"//anaconda/lib/python3.6/site-packages/urllib3/connection.py\", line 181, in connect\n",
      "    conn = self._new_conn()\n",
      "  File \"//anaconda/lib/python3.6/site-packages/urllib3/connection.py\", line 168, in _new_conn\n",
      "    self, \"Failed to establish a new connection: %s\" % e)\n",
      "urllib3.exceptions.NewConnectionError: <urllib3.connection.HTTPConnection object at 0x1205584e0>: Failed to establish a new connection: [Errno 60] Operation timed out\n",
      "\n",
      "During handling of the above exception, another exception occurred:\n",
      "\n",
      "Traceback (most recent call last):\n",
      "  File \"//anaconda/lib/python3.6/site-packages/requests/adapters.py\", line 449, in send\n",
      "    timeout=timeout\n",
      "  File \"//anaconda/lib/python3.6/site-packages/urllib3/connectionpool.py\", line 638, in urlopen\n",
      "    _stacktrace=sys.exc_info()[2])\n",
      "  File \"//anaconda/lib/python3.6/site-packages/urllib3/util/retry.py\", line 399, in increment\n",
      "    raise MaxRetryError(_pool, url, error or ResponseError(cause))\n",
      "urllib3.exceptions.MaxRetryError: HTTPConnectionPool(host='clerk.house.gov', port=80): Max retries exceeded with url: /evs/2008/roll476.xml (Caused by NewConnectionError('<urllib3.connection.HTTPConnection object at 0x1205584e0>: Failed to establish a new connection: [Errno 60] Operation timed out',))\n",
      "\n",
      "During handling of the above exception, another exception occurred:\n",
      "\n",
      "Traceback (most recent call last):\n",
      "  File \"<ipython-input-8-530adc215787>\", line 7, in house_rollcall_individual_parallel\n",
      "    obj.roll_call_single_to_psql(year, rollcall)\n",
      "  File \"/Users/benellis/Projects/congress/congress/etl/house_votes.py\", line 183, in roll_call_single_to_psql\n",
      "    df = self.roll_call_single(year, roll)\n",
      "  File \"/Users/benellis/Projects/congress/congress/etl/house_votes.py\", line 137, in roll_call_single\n",
      "    data = requests.get(url)\n",
      "  File \"//anaconda/lib/python3.6/site-packages/requests/api.py\", line 75, in get\n",
      "    return request('get', url, params=params, **kwargs)\n",
      "  File \"//anaconda/lib/python3.6/site-packages/requests/api.py\", line 60, in request\n",
      "    return session.request(method=method, url=url, **kwargs)\n",
      "  File \"//anaconda/lib/python3.6/site-packages/requests/sessions.py\", line 533, in request\n",
      "    resp = self.send(prep, **send_kwargs)\n",
      "  File \"//anaconda/lib/python3.6/site-packages/requests/sessions.py\", line 646, in send\n",
      "    r = adapter.send(request, **kwargs)\n",
      "  File \"//anaconda/lib/python3.6/site-packages/requests/adapters.py\", line 516, in send\n",
      "    raise ConnectionError(e, request=request)\n",
      "requests.exceptions.ConnectionError: HTTPConnectionPool(host='clerk.house.gov', port=80): Max retries exceeded with url: /evs/2008/roll476.xml (Caused by NewConnectionError('<urllib3.connection.HTTPConnection object at 0x1205584e0>: Failed to establish a new connection: [Errno 60] Operation timed out',))\n"
     ]
    },
    {
     "name": "stdout",
     "output_type": "stream",
     "text": [
      "http://clerk.house.gov/evs/2008/roll475.xml\n"
     ]
    },
    {
     "name": "stderr",
     "output_type": "stream",
     "text": [
      "Traceback (most recent call last):\n",
      "  File \"//anaconda/lib/python3.6/site-packages/urllib3/connection.py\", line 159, in _new_conn\n",
      "    (self._dns_host, self.port), self.timeout, **extra_kw)\n",
      "  File \"//anaconda/lib/python3.6/site-packages/urllib3/util/connection.py\", line 80, in create_connection\n",
      "    raise err\n",
      "  File \"//anaconda/lib/python3.6/site-packages/urllib3/util/connection.py\", line 70, in create_connection\n",
      "    sock.connect(sa)\n",
      "TimeoutError: [Errno 60] Operation timed out\n",
      "\n",
      "During handling of the above exception, another exception occurred:\n",
      "\n",
      "Traceback (most recent call last):\n",
      "  File \"//anaconda/lib/python3.6/site-packages/urllib3/connectionpool.py\", line 600, in urlopen\n",
      "    chunked=chunked)\n",
      "  File \"//anaconda/lib/python3.6/site-packages/urllib3/connectionpool.py\", line 354, in _make_request\n",
      "    conn.request(method, url, **httplib_request_kw)\n",
      "  File \"//anaconda/lib/python3.6/http/client.py\", line 1254, in request\n",
      "    self._send_request(method, url, body, headers, encode_chunked)\n",
      "  File \"//anaconda/lib/python3.6/http/client.py\", line 1300, in _send_request\n",
      "    self.endheaders(body, encode_chunked=encode_chunked)\n",
      "  File \"//anaconda/lib/python3.6/http/client.py\", line 1249, in endheaders\n",
      "    self._send_output(message_body, encode_chunked=encode_chunked)\n",
      "  File \"//anaconda/lib/python3.6/http/client.py\", line 1036, in _send_output\n",
      "    self.send(msg)\n",
      "  File \"//anaconda/lib/python3.6/http/client.py\", line 974, in send\n",
      "    self.connect()\n",
      "  File \"//anaconda/lib/python3.6/site-packages/urllib3/connection.py\", line 181, in connect\n",
      "    conn = self._new_conn()\n",
      "  File \"//anaconda/lib/python3.6/site-packages/urllib3/connection.py\", line 168, in _new_conn\n",
      "    self, \"Failed to establish a new connection: %s\" % e)\n",
      "urllib3.exceptions.NewConnectionError: <urllib3.connection.HTTPConnection object at 0x11ebaa400>: Failed to establish a new connection: [Errno 60] Operation timed out\n",
      "\n",
      "During handling of the above exception, another exception occurred:\n",
      "\n",
      "Traceback (most recent call last):\n",
      "  File \"//anaconda/lib/python3.6/site-packages/requests/adapters.py\", line 449, in send\n",
      "    timeout=timeout\n",
      "  File \"//anaconda/lib/python3.6/site-packages/urllib3/connectionpool.py\", line 638, in urlopen\n",
      "    _stacktrace=sys.exc_info()[2])\n",
      "  File \"//anaconda/lib/python3.6/site-packages/urllib3/util/retry.py\", line 399, in increment\n",
      "    raise MaxRetryError(_pool, url, error or ResponseError(cause))\n",
      "urllib3.exceptions.MaxRetryError: HTTPConnectionPool(host='clerk.house.gov', port=80): Max retries exceeded with url: /evs/2005/roll656.xml (Caused by NewConnectionError('<urllib3.connection.HTTPConnection object at 0x11ebaa400>: Failed to establish a new connection: [Errno 60] Operation timed out',))\n",
      "\n",
      "During handling of the above exception, another exception occurred:\n",
      "\n",
      "Traceback (most recent call last):\n",
      "  File \"<ipython-input-8-530adc215787>\", line 7, in house_rollcall_individual_parallel\n",
      "    obj.roll_call_single_to_psql(year, rollcall)\n",
      "  File \"/Users/benellis/Projects/congress/congress/etl/house_votes.py\", line 183, in roll_call_single_to_psql\n",
      "    df = self.roll_call_single(year, roll)\n",
      "  File \"/Users/benellis/Projects/congress/congress/etl/house_votes.py\", line 137, in roll_call_single\n",
      "    data = requests.get(url)\n",
      "  File \"//anaconda/lib/python3.6/site-packages/requests/api.py\", line 75, in get\n",
      "    return request('get', url, params=params, **kwargs)\n",
      "  File \"//anaconda/lib/python3.6/site-packages/requests/api.py\", line 60, in request\n",
      "    return session.request(method=method, url=url, **kwargs)\n",
      "  File \"//anaconda/lib/python3.6/site-packages/requests/sessions.py\", line 533, in request\n",
      "    resp = self.send(prep, **send_kwargs)\n",
      "  File \"//anaconda/lib/python3.6/site-packages/requests/sessions.py\", line 646, in send\n",
      "    r = adapter.send(request, **kwargs)\n",
      "  File \"//anaconda/lib/python3.6/site-packages/requests/adapters.py\", line 516, in send\n",
      "    raise ConnectionError(e, request=request)\n",
      "requests.exceptions.ConnectionError: HTTPConnectionPool(host='clerk.house.gov', port=80): Max retries exceeded with url: /evs/2005/roll656.xml (Caused by NewConnectionError('<urllib3.connection.HTTPConnection object at 0x11ebaa400>: Failed to establish a new connection: [Errno 60] Operation timed out',))\n"
     ]
    },
    {
     "name": "stdout",
     "output_type": "stream",
     "text": [
      "http://clerk.house.gov/evs/2005/roll655.xml\n",
      "http://clerk.house.gov/evs/2005/roll654.xml\n"
     ]
    },
    {
     "name": "stderr",
     "output_type": "stream",
     "text": [
      "Traceback (most recent call last):\n",
      "  File \"//anaconda/lib/python3.6/site-packages/urllib3/connection.py\", line 159, in _new_conn\n",
      "    (self._dns_host, self.port), self.timeout, **extra_kw)\n",
      "  File \"//anaconda/lib/python3.6/site-packages/urllib3/util/connection.py\", line 80, in create_connection\n",
      "    raise err\n",
      "  File \"//anaconda/lib/python3.6/site-packages/urllib3/util/connection.py\", line 70, in create_connection\n",
      "    sock.connect(sa)\n",
      "TimeoutError: [Errno 60] Operation timed out\n",
      "\n",
      "During handling of the above exception, another exception occurred:\n",
      "\n",
      "Traceback (most recent call last):\n",
      "  File \"//anaconda/lib/python3.6/site-packages/urllib3/connectionpool.py\", line 600, in urlopen\n",
      "    chunked=chunked)\n",
      "  File \"//anaconda/lib/python3.6/site-packages/urllib3/connectionpool.py\", line 354, in _make_request\n",
      "    conn.request(method, url, **httplib_request_kw)\n",
      "  File \"//anaconda/lib/python3.6/http/client.py\", line 1254, in request\n",
      "    self._send_request(method, url, body, headers, encode_chunked)\n",
      "  File \"//anaconda/lib/python3.6/http/client.py\", line 1300, in _send_request\n",
      "    self.endheaders(body, encode_chunked=encode_chunked)\n",
      "  File \"//anaconda/lib/python3.6/http/client.py\", line 1249, in endheaders\n",
      "    self._send_output(message_body, encode_chunked=encode_chunked)\n",
      "  File \"//anaconda/lib/python3.6/http/client.py\", line 1036, in _send_output\n",
      "    self.send(msg)\n",
      "  File \"//anaconda/lib/python3.6/http/client.py\", line 974, in send\n",
      "    self.connect()\n",
      "  File \"//anaconda/lib/python3.6/site-packages/urllib3/connection.py\", line 181, in connect\n",
      "    conn = self._new_conn()\n",
      "  File \"//anaconda/lib/python3.6/site-packages/urllib3/connection.py\", line 168, in _new_conn\n",
      "    self, \"Failed to establish a new connection: %s\" % e)\n",
      "urllib3.exceptions.NewConnectionError: <urllib3.connection.HTTPConnection object at 0x12001c048>: Failed to establish a new connection: [Errno 60] Operation timed out\n",
      "\n",
      "During handling of the above exception, another exception occurred:\n",
      "\n",
      "Traceback (most recent call last):\n",
      "  File \"//anaconda/lib/python3.6/site-packages/requests/adapters.py\", line 449, in send\n",
      "    timeout=timeout\n",
      "  File \"//anaconda/lib/python3.6/site-packages/urllib3/connectionpool.py\", line 638, in urlopen\n",
      "    _stacktrace=sys.exc_info()[2])\n",
      "  File \"//anaconda/lib/python3.6/site-packages/urllib3/util/retry.py\", line 399, in increment\n",
      "    raise MaxRetryError(_pool, url, error or ResponseError(cause))\n",
      "urllib3.exceptions.MaxRetryError: HTTPConnectionPool(host='clerk.house.gov', port=80): Max retries exceeded with url: /evs/2007/roll842.xml (Caused by NewConnectionError('<urllib3.connection.HTTPConnection object at 0x12001c048>: Failed to establish a new connection: [Errno 60] Operation timed out',))\n",
      "\n",
      "During handling of the above exception, another exception occurred:\n",
      "\n",
      "Traceback (most recent call last):\n",
      "  File \"<ipython-input-8-530adc215787>\", line 7, in house_rollcall_individual_parallel\n",
      "    obj.roll_call_single_to_psql(year, rollcall)\n",
      "  File \"/Users/benellis/Projects/congress/congress/etl/house_votes.py\", line 183, in roll_call_single_to_psql\n",
      "    df = self.roll_call_single(year, roll)\n",
      "  File \"/Users/benellis/Projects/congress/congress/etl/house_votes.py\", line 137, in roll_call_single\n",
      "    data = requests.get(url)\n",
      "  File \"//anaconda/lib/python3.6/site-packages/requests/api.py\", line 75, in get\n",
      "    return request('get', url, params=params, **kwargs)\n",
      "  File \"//anaconda/lib/python3.6/site-packages/requests/api.py\", line 60, in request\n",
      "    return session.request(method=method, url=url, **kwargs)\n",
      "  File \"//anaconda/lib/python3.6/site-packages/requests/sessions.py\", line 533, in request\n",
      "    resp = self.send(prep, **send_kwargs)\n",
      "  File \"//anaconda/lib/python3.6/site-packages/requests/sessions.py\", line 646, in send\n",
      "    r = adapter.send(request, **kwargs)\n",
      "  File \"//anaconda/lib/python3.6/site-packages/requests/adapters.py\", line 516, in send\n",
      "    raise ConnectionError(e, request=request)\n",
      "requests.exceptions.ConnectionError: HTTPConnectionPool(host='clerk.house.gov', port=80): Max retries exceeded with url: /evs/2007/roll842.xml (Caused by NewConnectionError('<urllib3.connection.HTTPConnection object at 0x12001c048>: Failed to establish a new connection: [Errno 60] Operation timed out',))\n"
     ]
    },
    {
     "name": "stdout",
     "output_type": "stream",
     "text": [
      "http://clerk.house.gov/evs/2007/roll841.xml\n"
     ]
    },
    {
     "name": "stderr",
     "output_type": "stream",
     "text": [
      "Traceback (most recent call last):\n",
      "  File \"//anaconda/lib/python3.6/site-packages/urllib3/connection.py\", line 159, in _new_conn\n",
      "    (self._dns_host, self.port), self.timeout, **extra_kw)\n",
      "  File \"//anaconda/lib/python3.6/site-packages/urllib3/util/connection.py\", line 80, in create_connection\n",
      "    raise err\n",
      "  File \"//anaconda/lib/python3.6/site-packages/urllib3/util/connection.py\", line 70, in create_connection\n",
      "    sock.connect(sa)\n",
      "TimeoutError: [Errno 60] Operation timed out\n",
      "\n",
      "During handling of the above exception, another exception occurred:\n",
      "\n",
      "Traceback (most recent call last):\n",
      "  File \"//anaconda/lib/python3.6/site-packages/urllib3/connectionpool.py\", line 600, in urlopen\n",
      "    chunked=chunked)\n",
      "  File \"//anaconda/lib/python3.6/site-packages/urllib3/connectionpool.py\", line 354, in _make_request\n",
      "    conn.request(method, url, **httplib_request_kw)\n",
      "  File \"//anaconda/lib/python3.6/http/client.py\", line 1254, in request\n",
      "    self._send_request(method, url, body, headers, encode_chunked)\n",
      "  File \"//anaconda/lib/python3.6/http/client.py\", line 1300, in _send_request\n",
      "    self.endheaders(body, encode_chunked=encode_chunked)\n",
      "  File \"//anaconda/lib/python3.6/http/client.py\", line 1249, in endheaders\n",
      "    self._send_output(message_body, encode_chunked=encode_chunked)\n",
      "  File \"//anaconda/lib/python3.6/http/client.py\", line 1036, in _send_output\n",
      "    self.send(msg)\n",
      "  File \"//anaconda/lib/python3.6/http/client.py\", line 974, in send\n",
      "    self.connect()\n",
      "  File \"//anaconda/lib/python3.6/site-packages/urllib3/connection.py\", line 181, in connect\n",
      "    conn = self._new_conn()\n",
      "  File \"//anaconda/lib/python3.6/site-packages/urllib3/connection.py\", line 168, in _new_conn\n",
      "    self, \"Failed to establish a new connection: %s\" % e)\n",
      "urllib3.exceptions.NewConnectionError: <urllib3.connection.HTTPConnection object at 0x1205d1400>: Failed to establish a new connection: [Errno 60] Operation timed out\n",
      "\n",
      "During handling of the above exception, another exception occurred:\n",
      "\n",
      "Traceback (most recent call last):\n",
      "  File \"//anaconda/lib/python3.6/site-packages/requests/adapters.py\", line 449, in send\n",
      "    timeout=timeout\n",
      "  File \"//anaconda/lib/python3.6/site-packages/urllib3/connectionpool.py\", line 638, in urlopen\n",
      "    _stacktrace=sys.exc_info()[2])\n",
      "  File \"//anaconda/lib/python3.6/site-packages/urllib3/util/retry.py\", line 399, in increment\n",
      "    raise MaxRetryError(_pool, url, error or ResponseError(cause))\n",
      "urllib3.exceptions.MaxRetryError: HTTPConnectionPool(host='clerk.house.gov', port=80): Max retries exceeded with url: /evs/2003/roll613.xml (Caused by NewConnectionError('<urllib3.connection.HTTPConnection object at 0x1205d1400>: Failed to establish a new connection: [Errno 60] Operation timed out',))\n",
      "\n",
      "During handling of the above exception, another exception occurred:\n",
      "\n",
      "Traceback (most recent call last):\n",
      "  File \"<ipython-input-8-530adc215787>\", line 7, in house_rollcall_individual_parallel\n",
      "    obj.roll_call_single_to_psql(year, rollcall)\n",
      "  File \"/Users/benellis/Projects/congress/congress/etl/house_votes.py\", line 183, in roll_call_single_to_psql\n",
      "    df = self.roll_call_single(year, roll)\n",
      "  File \"/Users/benellis/Projects/congress/congress/etl/house_votes.py\", line 137, in roll_call_single\n",
      "    data = requests.get(url)\n",
      "  File \"//anaconda/lib/python3.6/site-packages/requests/api.py\", line 75, in get\n",
      "    return request('get', url, params=params, **kwargs)\n",
      "  File \"//anaconda/lib/python3.6/site-packages/requests/api.py\", line 60, in request\n",
      "    return session.request(method=method, url=url, **kwargs)\n",
      "  File \"//anaconda/lib/python3.6/site-packages/requests/sessions.py\", line 533, in request\n",
      "    resp = self.send(prep, **send_kwargs)\n",
      "  File \"//anaconda/lib/python3.6/site-packages/requests/sessions.py\", line 646, in send\n",
      "    r = adapter.send(request, **kwargs)\n",
      "  File \"//anaconda/lib/python3.6/site-packages/requests/adapters.py\", line 516, in send\n",
      "    raise ConnectionError(e, request=request)\n",
      "requests.exceptions.ConnectionError: HTTPConnectionPool(host='clerk.house.gov', port=80): Max retries exceeded with url: /evs/2003/roll613.xml (Caused by NewConnectionError('<urllib3.connection.HTTPConnection object at 0x1205d1400>: Failed to establish a new connection: [Errno 60] Operation timed out',))\n"
     ]
    },
    {
     "name": "stdout",
     "output_type": "stream",
     "text": [
      "http://clerk.house.gov/evs/2003/roll612.xml\n",
      "http://clerk.house.gov/evs/2005/roll653.xml\n"
     ]
    },
    {
     "name": "stderr",
     "output_type": "stream",
     "text": [
      "Traceback (most recent call last):\n",
      "  File \"//anaconda/lib/python3.6/site-packages/urllib3/connection.py\", line 159, in _new_conn\n",
      "    (self._dns_host, self.port), self.timeout, **extra_kw)\n",
      "  File \"//anaconda/lib/python3.6/site-packages/urllib3/util/connection.py\", line 80, in create_connection\n",
      "    raise err\n",
      "  File \"//anaconda/lib/python3.6/site-packages/urllib3/util/connection.py\", line 70, in create_connection\n",
      "    sock.connect(sa)\n",
      "TimeoutError: [Errno 60] Operation timed out\n",
      "\n",
      "During handling of the above exception, another exception occurred:\n",
      "\n",
      "Traceback (most recent call last):\n",
      "  File \"//anaconda/lib/python3.6/site-packages/urllib3/connectionpool.py\", line 600, in urlopen\n",
      "    chunked=chunked)\n",
      "  File \"//anaconda/lib/python3.6/site-packages/urllib3/connectionpool.py\", line 354, in _make_request\n",
      "    conn.request(method, url, **httplib_request_kw)\n",
      "  File \"//anaconda/lib/python3.6/http/client.py\", line 1254, in request\n",
      "    self._send_request(method, url, body, headers, encode_chunked)\n",
      "  File \"//anaconda/lib/python3.6/http/client.py\", line 1300, in _send_request\n",
      "    self.endheaders(body, encode_chunked=encode_chunked)\n",
      "  File \"//anaconda/lib/python3.6/http/client.py\", line 1249, in endheaders\n",
      "    self._send_output(message_body, encode_chunked=encode_chunked)\n",
      "  File \"//anaconda/lib/python3.6/http/client.py\", line 1036, in _send_output\n",
      "    self.send(msg)\n",
      "  File \"//anaconda/lib/python3.6/http/client.py\", line 974, in send\n",
      "    self.connect()\n",
      "  File \"//anaconda/lib/python3.6/site-packages/urllib3/connection.py\", line 181, in connect\n",
      "    conn = self._new_conn()\n",
      "  File \"//anaconda/lib/python3.6/site-packages/urllib3/connection.py\", line 168, in _new_conn\n",
      "    self, \"Failed to establish a new connection: %s\" % e)\n",
      "urllib3.exceptions.NewConnectionError: <urllib3.connection.HTTPConnection object at 0x120558c18>: Failed to establish a new connection: [Errno 60] Operation timed out\n",
      "\n",
      "During handling of the above exception, another exception occurred:\n",
      "\n",
      "Traceback (most recent call last):\n",
      "  File \"//anaconda/lib/python3.6/site-packages/requests/adapters.py\", line 449, in send\n",
      "    timeout=timeout\n",
      "  File \"//anaconda/lib/python3.6/site-packages/urllib3/connectionpool.py\", line 638, in urlopen\n",
      "    _stacktrace=sys.exc_info()[2])\n",
      "  File \"//anaconda/lib/python3.6/site-packages/urllib3/util/retry.py\", line 399, in increment\n",
      "    raise MaxRetryError(_pool, url, error or ResponseError(cause))\n",
      "urllib3.exceptions.MaxRetryError: HTTPConnectionPool(host='clerk.house.gov', port=80): Max retries exceeded with url: /evs/2008/roll475.xml (Caused by NewConnectionError('<urllib3.connection.HTTPConnection object at 0x120558c18>: Failed to establish a new connection: [Errno 60] Operation timed out',))\n",
      "\n",
      "During handling of the above exception, another exception occurred:\n",
      "\n",
      "Traceback (most recent call last):\n",
      "  File \"<ipython-input-8-530adc215787>\", line 7, in house_rollcall_individual_parallel\n",
      "    obj.roll_call_single_to_psql(year, rollcall)\n",
      "  File \"/Users/benellis/Projects/congress/congress/etl/house_votes.py\", line 183, in roll_call_single_to_psql\n",
      "    df = self.roll_call_single(year, roll)\n",
      "  File \"/Users/benellis/Projects/congress/congress/etl/house_votes.py\", line 137, in roll_call_single\n",
      "    data = requests.get(url)\n",
      "  File \"//anaconda/lib/python3.6/site-packages/requests/api.py\", line 75, in get\n",
      "    return request('get', url, params=params, **kwargs)\n",
      "  File \"//anaconda/lib/python3.6/site-packages/requests/api.py\", line 60, in request\n",
      "    return session.request(method=method, url=url, **kwargs)\n",
      "  File \"//anaconda/lib/python3.6/site-packages/requests/sessions.py\", line 533, in request\n",
      "    resp = self.send(prep, **send_kwargs)\n",
      "  File \"//anaconda/lib/python3.6/site-packages/requests/sessions.py\", line 646, in send\n",
      "    r = adapter.send(request, **kwargs)\n",
      "  File \"//anaconda/lib/python3.6/site-packages/requests/adapters.py\", line 516, in send\n",
      "    raise ConnectionError(e, request=request)\n",
      "requests.exceptions.ConnectionError: HTTPConnectionPool(host='clerk.house.gov', port=80): Max retries exceeded with url: /evs/2008/roll475.xml (Caused by NewConnectionError('<urllib3.connection.HTTPConnection object at 0x120558c18>: Failed to establish a new connection: [Errno 60] Operation timed out',))\n"
     ]
    },
    {
     "name": "stdout",
     "output_type": "stream",
     "text": [
      "http://clerk.house.gov/evs/2008/roll474.xml\n",
      "http://clerk.house.gov/evs/2005/roll652.xml\n",
      "http://clerk.house.gov/evs/2008/roll473.xml\n",
      "http://clerk.house.gov/evs/2008/roll472.xml\n",
      "http://clerk.house.gov/evs/2008/roll471.xml\n"
     ]
    },
    {
     "name": "stderr",
     "output_type": "stream",
     "text": [
      "Traceback (most recent call last):\n",
      "  File \"//anaconda/lib/python3.6/site-packages/urllib3/connection.py\", line 159, in _new_conn\n",
      "    (self._dns_host, self.port), self.timeout, **extra_kw)\n",
      "  File \"//anaconda/lib/python3.6/site-packages/urllib3/util/connection.py\", line 80, in create_connection\n",
      "    raise err\n",
      "  File \"//anaconda/lib/python3.6/site-packages/urllib3/util/connection.py\", line 70, in create_connection\n",
      "    sock.connect(sa)\n",
      "TimeoutError: [Errno 60] Operation timed out\n",
      "\n",
      "During handling of the above exception, another exception occurred:\n",
      "\n",
      "Traceback (most recent call last):\n",
      "  File \"//anaconda/lib/python3.6/site-packages/urllib3/connectionpool.py\", line 600, in urlopen\n",
      "    chunked=chunked)\n",
      "  File \"//anaconda/lib/python3.6/site-packages/urllib3/connectionpool.py\", line 354, in _make_request\n",
      "    conn.request(method, url, **httplib_request_kw)\n",
      "  File \"//anaconda/lib/python3.6/http/client.py\", line 1254, in request\n",
      "    self._send_request(method, url, body, headers, encode_chunked)\n",
      "  File \"//anaconda/lib/python3.6/http/client.py\", line 1300, in _send_request\n",
      "    self.endheaders(body, encode_chunked=encode_chunked)\n",
      "  File \"//anaconda/lib/python3.6/http/client.py\", line 1249, in endheaders\n",
      "    self._send_output(message_body, encode_chunked=encode_chunked)\n",
      "  File \"//anaconda/lib/python3.6/http/client.py\", line 1036, in _send_output\n",
      "    self.send(msg)\n",
      "  File \"//anaconda/lib/python3.6/http/client.py\", line 974, in send\n",
      "    self.connect()\n",
      "  File \"//anaconda/lib/python3.6/site-packages/urllib3/connection.py\", line 181, in connect\n",
      "    conn = self._new_conn()\n",
      "  File \"//anaconda/lib/python3.6/site-packages/urllib3/connection.py\", line 168, in _new_conn\n",
      "    self, \"Failed to establish a new connection: %s\" % e)\n",
      "urllib3.exceptions.NewConnectionError: <urllib3.connection.HTTPConnection object at 0x1203da860>: Failed to establish a new connection: [Errno 60] Operation timed out\n",
      "\n",
      "During handling of the above exception, another exception occurred:\n",
      "\n",
      "Traceback (most recent call last):\n",
      "  File \"//anaconda/lib/python3.6/site-packages/requests/adapters.py\", line 449, in send\n",
      "    timeout=timeout\n",
      "  File \"//anaconda/lib/python3.6/site-packages/urllib3/connectionpool.py\", line 638, in urlopen\n",
      "    _stacktrace=sys.exc_info()[2])\n",
      "  File \"//anaconda/lib/python3.6/site-packages/urllib3/util/retry.py\", line 399, in increment\n",
      "    raise MaxRetryError(_pool, url, error or ResponseError(cause))\n",
      "urllib3.exceptions.MaxRetryError: HTTPConnectionPool(host='clerk.house.gov', port=80): Max retries exceeded with url: /evs/2007/roll841.xml (Caused by NewConnectionError('<urllib3.connection.HTTPConnection object at 0x1203da860>: Failed to establish a new connection: [Errno 60] Operation timed out',))\n",
      "\n",
      "During handling of the above exception, another exception occurred:\n",
      "\n",
      "Traceback (most recent call last):\n",
      "  File \"<ipython-input-8-530adc215787>\", line 7, in house_rollcall_individual_parallel\n",
      "    obj.roll_call_single_to_psql(year, rollcall)\n",
      "  File \"/Users/benellis/Projects/congress/congress/etl/house_votes.py\", line 183, in roll_call_single_to_psql\n",
      "    df = self.roll_call_single(year, roll)\n",
      "  File \"/Users/benellis/Projects/congress/congress/etl/house_votes.py\", line 137, in roll_call_single\n",
      "    data = requests.get(url)\n",
      "  File \"//anaconda/lib/python3.6/site-packages/requests/api.py\", line 75, in get\n",
      "    return request('get', url, params=params, **kwargs)\n",
      "  File \"//anaconda/lib/python3.6/site-packages/requests/api.py\", line 60, in request\n",
      "    return session.request(method=method, url=url, **kwargs)\n",
      "  File \"//anaconda/lib/python3.6/site-packages/requests/sessions.py\", line 533, in request\n",
      "    resp = self.send(prep, **send_kwargs)\n",
      "  File \"//anaconda/lib/python3.6/site-packages/requests/sessions.py\", line 646, in send\n",
      "    r = adapter.send(request, **kwargs)\n",
      "  File \"//anaconda/lib/python3.6/site-packages/requests/adapters.py\", line 516, in send\n",
      "    raise ConnectionError(e, request=request)\n",
      "requests.exceptions.ConnectionError: HTTPConnectionPool(host='clerk.house.gov', port=80): Max retries exceeded with url: /evs/2007/roll841.xml (Caused by NewConnectionError('<urllib3.connection.HTTPConnection object at 0x1203da860>: Failed to establish a new connection: [Errno 60] Operation timed out',))\n"
     ]
    },
    {
     "name": "stdout",
     "output_type": "stream",
     "text": [
      "http://clerk.house.gov/evs/2007/roll840.xml\n"
     ]
    },
    {
     "name": "stderr",
     "output_type": "stream",
     "text": [
      "Traceback (most recent call last):\n",
      "  File \"<ipython-input-8-530adc215787>\", line 7, in house_rollcall_individual_parallel\n",
      "    obj.roll_call_single_to_psql(year, rollcall)\n",
      "  File \"/Users/benellis/Projects/congress/congress/etl/house_votes.py\", line 183, in roll_call_single_to_psql\n",
      "    df = self.roll_call_single(year, roll)\n",
      "  File \"/Users/benellis/Projects/congress/congress/etl/house_votes.py\", line 142, in roll_call_single\n",
      "    chamber = soup.find('chamber').text\n",
      "AttributeError: 'NoneType' object has no attribute 'text'\n"
     ]
    },
    {
     "name": "stdout",
     "output_type": "stream",
     "text": [
      "http://clerk.house.gov/evs/2007/roll839.xml\n"
     ]
    },
    {
     "name": "stderr",
     "output_type": "stream",
     "text": [
      "Traceback (most recent call last):\n",
      "  File \"//anaconda/lib/python3.6/site-packages/urllib3/connection.py\", line 159, in _new_conn\n",
      "    (self._dns_host, self.port), self.timeout, **extra_kw)\n",
      "  File \"//anaconda/lib/python3.6/site-packages/urllib3/util/connection.py\", line 80, in create_connection\n",
      "    raise err\n",
      "  File \"//anaconda/lib/python3.6/site-packages/urllib3/util/connection.py\", line 70, in create_connection\n",
      "    sock.connect(sa)\n",
      "TimeoutError: [Errno 60] Operation timed out\n",
      "\n",
      "During handling of the above exception, another exception occurred:\n",
      "\n",
      "Traceback (most recent call last):\n",
      "  File \"//anaconda/lib/python3.6/site-packages/urllib3/connectionpool.py\", line 600, in urlopen\n",
      "    chunked=chunked)\n",
      "  File \"//anaconda/lib/python3.6/site-packages/urllib3/connectionpool.py\", line 354, in _make_request\n",
      "    conn.request(method, url, **httplib_request_kw)\n",
      "  File \"//anaconda/lib/python3.6/http/client.py\", line 1254, in request\n",
      "    self._send_request(method, url, body, headers, encode_chunked)\n",
      "  File \"//anaconda/lib/python3.6/http/client.py\", line 1300, in _send_request\n",
      "    self.endheaders(body, encode_chunked=encode_chunked)\n",
      "  File \"//anaconda/lib/python3.6/http/client.py\", line 1249, in endheaders\n",
      "    self._send_output(message_body, encode_chunked=encode_chunked)\n",
      "  File \"//anaconda/lib/python3.6/http/client.py\", line 1036, in _send_output\n",
      "    self.send(msg)\n",
      "  File \"//anaconda/lib/python3.6/http/client.py\", line 974, in send\n",
      "    self.connect()\n",
      "  File \"//anaconda/lib/python3.6/site-packages/urllib3/connection.py\", line 181, in connect\n",
      "    conn = self._new_conn()\n",
      "  File \"//anaconda/lib/python3.6/site-packages/urllib3/connection.py\", line 168, in _new_conn\n",
      "    self, \"Failed to establish a new connection: %s\" % e)\n",
      "urllib3.exceptions.NewConnectionError: <urllib3.connection.HTTPConnection object at 0x11feac908>: Failed to establish a new connection: [Errno 60] Operation timed out\n",
      "\n",
      "During handling of the above exception, another exception occurred:\n",
      "\n",
      "Traceback (most recent call last):\n",
      "  File \"//anaconda/lib/python3.6/site-packages/requests/adapters.py\", line 449, in send\n",
      "    timeout=timeout\n",
      "  File \"//anaconda/lib/python3.6/site-packages/urllib3/connectionpool.py\", line 638, in urlopen\n",
      "    _stacktrace=sys.exc_info()[2])\n",
      "  File \"//anaconda/lib/python3.6/site-packages/urllib3/util/retry.py\", line 399, in increment\n",
      "    raise MaxRetryError(_pool, url, error or ResponseError(cause))\n",
      "urllib3.exceptions.MaxRetryError: HTTPConnectionPool(host='clerk.house.gov', port=80): Max retries exceeded with url: /evs/2003/roll612.xml (Caused by NewConnectionError('<urllib3.connection.HTTPConnection object at 0x11feac908>: Failed to establish a new connection: [Errno 60] Operation timed out',))\n",
      "\n",
      "During handling of the above exception, another exception occurred:\n",
      "\n",
      "Traceback (most recent call last):\n",
      "  File \"<ipython-input-8-530adc215787>\", line 7, in house_rollcall_individual_parallel\n",
      "    obj.roll_call_single_to_psql(year, rollcall)\n",
      "  File \"/Users/benellis/Projects/congress/congress/etl/house_votes.py\", line 183, in roll_call_single_to_psql\n",
      "    df = self.roll_call_single(year, roll)\n",
      "  File \"/Users/benellis/Projects/congress/congress/etl/house_votes.py\", line 137, in roll_call_single\n",
      "    data = requests.get(url)\n",
      "  File \"//anaconda/lib/python3.6/site-packages/requests/api.py\", line 75, in get\n",
      "    return request('get', url, params=params, **kwargs)\n",
      "  File \"//anaconda/lib/python3.6/site-packages/requests/api.py\", line 60, in request\n",
      "    return session.request(method=method, url=url, **kwargs)\n",
      "  File \"//anaconda/lib/python3.6/site-packages/requests/sessions.py\", line 533, in request\n",
      "    resp = self.send(prep, **send_kwargs)\n",
      "  File \"//anaconda/lib/python3.6/site-packages/requests/sessions.py\", line 646, in send\n",
      "    r = adapter.send(request, **kwargs)\n",
      "  File \"//anaconda/lib/python3.6/site-packages/requests/adapters.py\", line 516, in send\n",
      "    raise ConnectionError(e, request=request)\n",
      "requests.exceptions.ConnectionError: HTTPConnectionPool(host='clerk.house.gov', port=80): Max retries exceeded with url: /evs/2003/roll612.xml (Caused by NewConnectionError('<urllib3.connection.HTTPConnection object at 0x11feac908>: Failed to establish a new connection: [Errno 60] Operation timed out',))\n"
     ]
    },
    {
     "name": "stdout",
     "output_type": "stream",
     "text": [
      "http://clerk.house.gov/evs/2003/roll611.xml\n",
      "http://clerk.house.gov/evs/2008/roll470.xml\n",
      "http://clerk.house.gov/evs/2008/roll469.xml\n"
     ]
    },
    {
     "name": "stderr",
     "output_type": "stream",
     "text": [
      "Traceback (most recent call last):\n",
      "  File \"//anaconda/lib/python3.6/site-packages/urllib3/connection.py\", line 159, in _new_conn\n",
      "    (self._dns_host, self.port), self.timeout, **extra_kw)\n",
      "  File \"//anaconda/lib/python3.6/site-packages/urllib3/util/connection.py\", line 80, in create_connection\n",
      "    raise err\n",
      "  File \"//anaconda/lib/python3.6/site-packages/urllib3/util/connection.py\", line 70, in create_connection\n",
      "    sock.connect(sa)\n",
      "TimeoutError: [Errno 60] Operation timed out\n",
      "\n",
      "During handling of the above exception, another exception occurred:\n",
      "\n",
      "Traceback (most recent call last):\n",
      "  File \"//anaconda/lib/python3.6/site-packages/urllib3/connectionpool.py\", line 600, in urlopen\n",
      "    chunked=chunked)\n",
      "  File \"//anaconda/lib/python3.6/site-packages/urllib3/connectionpool.py\", line 354, in _make_request\n",
      "    conn.request(method, url, **httplib_request_kw)\n",
      "  File \"//anaconda/lib/python3.6/http/client.py\", line 1254, in request\n",
      "    self._send_request(method, url, body, headers, encode_chunked)\n",
      "  File \"//anaconda/lib/python3.6/http/client.py\", line 1300, in _send_request\n",
      "    self.endheaders(body, encode_chunked=encode_chunked)\n",
      "  File \"//anaconda/lib/python3.6/http/client.py\", line 1249, in endheaders\n",
      "    self._send_output(message_body, encode_chunked=encode_chunked)\n",
      "  File \"//anaconda/lib/python3.6/http/client.py\", line 1036, in _send_output\n",
      "    self.send(msg)\n",
      "  File \"//anaconda/lib/python3.6/http/client.py\", line 974, in send\n",
      "    self.connect()\n",
      "  File \"//anaconda/lib/python3.6/site-packages/urllib3/connection.py\", line 181, in connect\n",
      "    conn = self._new_conn()\n",
      "  File \"//anaconda/lib/python3.6/site-packages/urllib3/connection.py\", line 168, in _new_conn\n",
      "    self, \"Failed to establish a new connection: %s\" % e)\n",
      "urllib3.exceptions.NewConnectionError: <urllib3.connection.HTTPConnection object at 0x11f5b2358>: Failed to establish a new connection: [Errno 60] Operation timed out\n",
      "\n",
      "During handling of the above exception, another exception occurred:\n",
      "\n",
      "Traceback (most recent call last):\n",
      "  File \"//anaconda/lib/python3.6/site-packages/requests/adapters.py\", line 449, in send\n",
      "    timeout=timeout\n",
      "  File \"//anaconda/lib/python3.6/site-packages/urllib3/connectionpool.py\", line 638, in urlopen\n",
      "    _stacktrace=sys.exc_info()[2])\n",
      "  File \"//anaconda/lib/python3.6/site-packages/urllib3/util/retry.py\", line 399, in increment\n",
      "    raise MaxRetryError(_pool, url, error or ResponseError(cause))\n",
      "urllib3.exceptions.MaxRetryError: HTTPConnectionPool(host='clerk.house.gov', port=80): Max retries exceeded with url: /evs/2005/roll652.xml (Caused by NewConnectionError('<urllib3.connection.HTTPConnection object at 0x11f5b2358>: Failed to establish a new connection: [Errno 60] Operation timed out',))\n",
      "\n",
      "During handling of the above exception, another exception occurred:\n",
      "\n",
      "Traceback (most recent call last):\n",
      "  File \"<ipython-input-8-530adc215787>\", line 7, in house_rollcall_individual_parallel\n",
      "    obj.roll_call_single_to_psql(year, rollcall)\n",
      "  File \"/Users/benellis/Projects/congress/congress/etl/house_votes.py\", line 183, in roll_call_single_to_psql\n",
      "    df = self.roll_call_single(year, roll)\n",
      "  File \"/Users/benellis/Projects/congress/congress/etl/house_votes.py\", line 137, in roll_call_single\n",
      "    data = requests.get(url)\n",
      "  File \"//anaconda/lib/python3.6/site-packages/requests/api.py\", line 75, in get\n",
      "    return request('get', url, params=params, **kwargs)\n",
      "  File \"//anaconda/lib/python3.6/site-packages/requests/api.py\", line 60, in request\n",
      "    return session.request(method=method, url=url, **kwargs)\n",
      "  File \"//anaconda/lib/python3.6/site-packages/requests/sessions.py\", line 533, in request\n",
      "    resp = self.send(prep, **send_kwargs)\n",
      "  File \"//anaconda/lib/python3.6/site-packages/requests/sessions.py\", line 646, in send\n",
      "    r = adapter.send(request, **kwargs)\n",
      "  File \"//anaconda/lib/python3.6/site-packages/requests/adapters.py\", line 516, in send\n",
      "    raise ConnectionError(e, request=request)\n",
      "requests.exceptions.ConnectionError: HTTPConnectionPool(host='clerk.house.gov', port=80): Max retries exceeded with url: /evs/2005/roll652.xml (Caused by NewConnectionError('<urllib3.connection.HTTPConnection object at 0x11f5b2358>: Failed to establish a new connection: [Errno 60] Operation timed out',))\n"
     ]
    },
    {
     "name": "stdout",
     "output_type": "stream",
     "text": [
      "http://clerk.house.gov/evs/2005/roll651.xml\n",
      "http://clerk.house.gov/evs/2005/roll650.xml\n",
      "http://clerk.house.gov/evs/2005/roll649.xml\n",
      "http://clerk.house.gov/evs/2005/roll648.xml\n"
     ]
    },
    {
     "name": "stderr",
     "output_type": "stream",
     "text": [
      "Traceback (most recent call last):\n",
      "  File \"//anaconda/lib/python3.6/site-packages/urllib3/connection.py\", line 159, in _new_conn\n",
      "    (self._dns_host, self.port), self.timeout, **extra_kw)\n",
      "  File \"//anaconda/lib/python3.6/site-packages/urllib3/util/connection.py\", line 80, in create_connection\n",
      "    raise err\n",
      "  File \"//anaconda/lib/python3.6/site-packages/urllib3/util/connection.py\", line 70, in create_connection\n",
      "    sock.connect(sa)\n",
      "TimeoutError: [Errno 60] Operation timed out\n",
      "\n",
      "During handling of the above exception, another exception occurred:\n",
      "\n",
      "Traceback (most recent call last):\n",
      "  File \"//anaconda/lib/python3.6/site-packages/urllib3/connectionpool.py\", line 600, in urlopen\n",
      "    chunked=chunked)\n",
      "  File \"//anaconda/lib/python3.6/site-packages/urllib3/connectionpool.py\", line 354, in _make_request\n",
      "    conn.request(method, url, **httplib_request_kw)\n",
      "  File \"//anaconda/lib/python3.6/http/client.py\", line 1254, in request\n",
      "    self._send_request(method, url, body, headers, encode_chunked)\n",
      "  File \"//anaconda/lib/python3.6/http/client.py\", line 1300, in _send_request\n",
      "    self.endheaders(body, encode_chunked=encode_chunked)\n",
      "  File \"//anaconda/lib/python3.6/http/client.py\", line 1249, in endheaders\n",
      "    self._send_output(message_body, encode_chunked=encode_chunked)\n",
      "  File \"//anaconda/lib/python3.6/http/client.py\", line 1036, in _send_output\n",
      "    self.send(msg)\n",
      "  File \"//anaconda/lib/python3.6/http/client.py\", line 974, in send\n",
      "    self.connect()\n",
      "  File \"//anaconda/lib/python3.6/site-packages/urllib3/connection.py\", line 181, in connect\n",
      "    conn = self._new_conn()\n",
      "  File \"//anaconda/lib/python3.6/site-packages/urllib3/connection.py\", line 168, in _new_conn\n",
      "    self, \"Failed to establish a new connection: %s\" % e)\n",
      "urllib3.exceptions.NewConnectionError: <urllib3.connection.HTTPConnection object at 0x120413da0>: Failed to establish a new connection: [Errno 60] Operation timed out\n",
      "\n",
      "During handling of the above exception, another exception occurred:\n",
      "\n",
      "Traceback (most recent call last):\n",
      "  File \"//anaconda/lib/python3.6/site-packages/requests/adapters.py\", line 449, in send\n",
      "    timeout=timeout\n",
      "  File \"//anaconda/lib/python3.6/site-packages/urllib3/connectionpool.py\", line 638, in urlopen\n",
      "    _stacktrace=sys.exc_info()[2])\n",
      "  File \"//anaconda/lib/python3.6/site-packages/urllib3/util/retry.py\", line 399, in increment\n",
      "    raise MaxRetryError(_pool, url, error or ResponseError(cause))\n",
      "urllib3.exceptions.MaxRetryError: HTTPConnectionPool(host='clerk.house.gov', port=80): Max retries exceeded with url: /evs/2007/roll839.xml (Caused by NewConnectionError('<urllib3.connection.HTTPConnection object at 0x120413da0>: Failed to establish a new connection: [Errno 60] Operation timed out',))\n",
      "\n",
      "During handling of the above exception, another exception occurred:\n",
      "\n",
      "Traceback (most recent call last):\n",
      "  File \"<ipython-input-8-530adc215787>\", line 7, in house_rollcall_individual_parallel\n",
      "    obj.roll_call_single_to_psql(year, rollcall)\n",
      "  File \"/Users/benellis/Projects/congress/congress/etl/house_votes.py\", line 183, in roll_call_single_to_psql\n",
      "    df = self.roll_call_single(year, roll)\n",
      "  File \"/Users/benellis/Projects/congress/congress/etl/house_votes.py\", line 137, in roll_call_single\n",
      "    data = requests.get(url)\n",
      "  File \"//anaconda/lib/python3.6/site-packages/requests/api.py\", line 75, in get\n",
      "    return request('get', url, params=params, **kwargs)\n",
      "  File \"//anaconda/lib/python3.6/site-packages/requests/api.py\", line 60, in request\n",
      "    return session.request(method=method, url=url, **kwargs)\n",
      "  File \"//anaconda/lib/python3.6/site-packages/requests/sessions.py\", line 533, in request\n",
      "    resp = self.send(prep, **send_kwargs)\n",
      "  File \"//anaconda/lib/python3.6/site-packages/requests/sessions.py\", line 646, in send\n",
      "    r = adapter.send(request, **kwargs)\n",
      "  File \"//anaconda/lib/python3.6/site-packages/requests/adapters.py\", line 516, in send\n",
      "    raise ConnectionError(e, request=request)\n",
      "requests.exceptions.ConnectionError: HTTPConnectionPool(host='clerk.house.gov', port=80): Max retries exceeded with url: /evs/2007/roll839.xml (Caused by NewConnectionError('<urllib3.connection.HTTPConnection object at 0x120413da0>: Failed to establish a new connection: [Errno 60] Operation timed out',))\n"
     ]
    },
    {
     "name": "stdout",
     "output_type": "stream",
     "text": [
      "http://clerk.house.gov/evs/2007/roll838.xml\n"
     ]
    },
    {
     "name": "stderr",
     "output_type": "stream",
     "text": [
      "Traceback (most recent call last):\n",
      "  File \"//anaconda/lib/python3.6/site-packages/urllib3/connection.py\", line 159, in _new_conn\n",
      "    (self._dns_host, self.port), self.timeout, **extra_kw)\n",
      "  File \"//anaconda/lib/python3.6/site-packages/urllib3/util/connection.py\", line 80, in create_connection\n",
      "    raise err\n",
      "  File \"//anaconda/lib/python3.6/site-packages/urllib3/util/connection.py\", line 70, in create_connection\n",
      "    sock.connect(sa)\n",
      "TimeoutError: [Errno 60] Operation timed out\n",
      "\n",
      "During handling of the above exception, another exception occurred:\n",
      "\n",
      "Traceback (most recent call last):\n",
      "  File \"//anaconda/lib/python3.6/site-packages/urllib3/connectionpool.py\", line 600, in urlopen\n",
      "    chunked=chunked)\n",
      "  File \"//anaconda/lib/python3.6/site-packages/urllib3/connectionpool.py\", line 354, in _make_request\n",
      "    conn.request(method, url, **httplib_request_kw)\n",
      "  File \"//anaconda/lib/python3.6/http/client.py\", line 1254, in request\n",
      "    self._send_request(method, url, body, headers, encode_chunked)\n",
      "  File \"//anaconda/lib/python3.6/http/client.py\", line 1300, in _send_request\n",
      "    self.endheaders(body, encode_chunked=encode_chunked)\n",
      "  File \"//anaconda/lib/python3.6/http/client.py\", line 1249, in endheaders\n",
      "    self._send_output(message_body, encode_chunked=encode_chunked)\n",
      "  File \"//anaconda/lib/python3.6/http/client.py\", line 1036, in _send_output\n",
      "    self.send(msg)\n",
      "  File \"//anaconda/lib/python3.6/http/client.py\", line 974, in send\n",
      "    self.connect()\n",
      "  File \"//anaconda/lib/python3.6/site-packages/urllib3/connection.py\", line 181, in connect\n",
      "    conn = self._new_conn()\n",
      "  File \"//anaconda/lib/python3.6/site-packages/urllib3/connection.py\", line 168, in _new_conn\n",
      "    self, \"Failed to establish a new connection: %s\" % e)\n",
      "urllib3.exceptions.NewConnectionError: <urllib3.connection.HTTPConnection object at 0x11feac1d0>: Failed to establish a new connection: [Errno 60] Operation timed out\n",
      "\n",
      "During handling of the above exception, another exception occurred:\n",
      "\n",
      "Traceback (most recent call last):\n",
      "  File \"//anaconda/lib/python3.6/site-packages/requests/adapters.py\", line 449, in send\n",
      "    timeout=timeout\n",
      "  File \"//anaconda/lib/python3.6/site-packages/urllib3/connectionpool.py\", line 638, in urlopen\n",
      "    _stacktrace=sys.exc_info()[2])\n",
      "  File \"//anaconda/lib/python3.6/site-packages/urllib3/util/retry.py\", line 399, in increment\n",
      "    raise MaxRetryError(_pool, url, error or ResponseError(cause))\n",
      "urllib3.exceptions.MaxRetryError: HTTPConnectionPool(host='clerk.house.gov', port=80): Max retries exceeded with url: /evs/2003/roll611.xml (Caused by NewConnectionError('<urllib3.connection.HTTPConnection object at 0x11feac1d0>: Failed to establish a new connection: [Errno 60] Operation timed out',))\n",
      "\n",
      "During handling of the above exception, another exception occurred:\n",
      "\n",
      "Traceback (most recent call last):\n",
      "  File \"<ipython-input-8-530adc215787>\", line 7, in house_rollcall_individual_parallel\n",
      "    obj.roll_call_single_to_psql(year, rollcall)\n",
      "  File \"/Users/benellis/Projects/congress/congress/etl/house_votes.py\", line 183, in roll_call_single_to_psql\n",
      "    df = self.roll_call_single(year, roll)\n",
      "  File \"/Users/benellis/Projects/congress/congress/etl/house_votes.py\", line 137, in roll_call_single\n",
      "    data = requests.get(url)\n",
      "  File \"//anaconda/lib/python3.6/site-packages/requests/api.py\", line 75, in get\n",
      "    return request('get', url, params=params, **kwargs)\n",
      "  File \"//anaconda/lib/python3.6/site-packages/requests/api.py\", line 60, in request\n",
      "    return session.request(method=method, url=url, **kwargs)\n",
      "  File \"//anaconda/lib/python3.6/site-packages/requests/sessions.py\", line 533, in request\n",
      "    resp = self.send(prep, **send_kwargs)\n",
      "  File \"//anaconda/lib/python3.6/site-packages/requests/sessions.py\", line 646, in send\n",
      "    r = adapter.send(request, **kwargs)\n",
      "  File \"//anaconda/lib/python3.6/site-packages/requests/adapters.py\", line 516, in send\n",
      "    raise ConnectionError(e, request=request)\n",
      "requests.exceptions.ConnectionError: HTTPConnectionPool(host='clerk.house.gov', port=80): Max retries exceeded with url: /evs/2003/roll611.xml (Caused by NewConnectionError('<urllib3.connection.HTTPConnection object at 0x11feac1d0>: Failed to establish a new connection: [Errno 60] Operation timed out',))\n"
     ]
    },
    {
     "name": "stdout",
     "output_type": "stream",
     "text": [
      "http://clerk.house.gov/evs/2003/roll610.xml\n"
     ]
    },
    {
     "name": "stderr",
     "output_type": "stream",
     "text": [
      "Traceback (most recent call last):\n",
      "  File \"<ipython-input-8-530adc215787>\", line 7, in house_rollcall_individual_parallel\n",
      "    obj.roll_call_single_to_psql(year, rollcall)\n",
      "  File \"/Users/benellis/Projects/congress/congress/etl/house_votes.py\", line 183, in roll_call_single_to_psql\n",
      "    df = self.roll_call_single(year, roll)\n",
      "  File \"/Users/benellis/Projects/congress/congress/etl/house_votes.py\", line 142, in roll_call_single\n",
      "    chamber = soup.find('chamber').text\n",
      "AttributeError: 'NoneType' object has no attribute 'text'\n"
     ]
    },
    {
     "name": "stdout",
     "output_type": "stream",
     "text": [
      "http://clerk.house.gov/evs/2007/roll836.xml\n",
      "http://clerk.house.gov/evs/2007/roll835.xml\n"
     ]
    },
    {
     "name": "stderr",
     "output_type": "stream",
     "text": [
      "Traceback (most recent call last):\n",
      "  File \"//anaconda/lib/python3.6/site-packages/urllib3/connection.py\", line 159, in _new_conn\n",
      "    (self._dns_host, self.port), self.timeout, **extra_kw)\n",
      "  File \"//anaconda/lib/python3.6/site-packages/urllib3/util/connection.py\", line 80, in create_connection\n",
      "    raise err\n",
      "  File \"//anaconda/lib/python3.6/site-packages/urllib3/util/connection.py\", line 70, in create_connection\n",
      "    sock.connect(sa)\n",
      "TimeoutError: [Errno 60] Operation timed out\n",
      "\n",
      "During handling of the above exception, another exception occurred:\n",
      "\n",
      "Traceback (most recent call last):\n",
      "  File \"//anaconda/lib/python3.6/site-packages/urllib3/connectionpool.py\", line 600, in urlopen\n",
      "    chunked=chunked)\n",
      "  File \"//anaconda/lib/python3.6/site-packages/urllib3/connectionpool.py\", line 354, in _make_request\n",
      "    conn.request(method, url, **httplib_request_kw)\n",
      "  File \"//anaconda/lib/python3.6/http/client.py\", line 1254, in request\n",
      "    self._send_request(method, url, body, headers, encode_chunked)\n",
      "  File \"//anaconda/lib/python3.6/http/client.py\", line 1300, in _send_request\n",
      "    self.endheaders(body, encode_chunked=encode_chunked)\n",
      "  File \"//anaconda/lib/python3.6/http/client.py\", line 1249, in endheaders\n",
      "    self._send_output(message_body, encode_chunked=encode_chunked)\n",
      "  File \"//anaconda/lib/python3.6/http/client.py\", line 1036, in _send_output\n",
      "    self.send(msg)\n",
      "  File \"//anaconda/lib/python3.6/http/client.py\", line 974, in send\n",
      "    self.connect()\n",
      "  File \"//anaconda/lib/python3.6/site-packages/urllib3/connection.py\", line 181, in connect\n",
      "    conn = self._new_conn()\n",
      "  File \"//anaconda/lib/python3.6/site-packages/urllib3/connection.py\", line 168, in _new_conn\n",
      "    self, \"Failed to establish a new connection: %s\" % e)\n",
      "urllib3.exceptions.NewConnectionError: <urllib3.connection.HTTPConnection object at 0x11f61f208>: Failed to establish a new connection: [Errno 60] Operation timed out\n",
      "\n",
      "During handling of the above exception, another exception occurred:\n",
      "\n",
      "Traceback (most recent call last):\n",
      "  File \"//anaconda/lib/python3.6/site-packages/requests/adapters.py\", line 449, in send\n",
      "    timeout=timeout\n",
      "  File \"//anaconda/lib/python3.6/site-packages/urllib3/connectionpool.py\", line 638, in urlopen\n",
      "    _stacktrace=sys.exc_info()[2])\n",
      "  File \"//anaconda/lib/python3.6/site-packages/urllib3/util/retry.py\", line 399, in increment\n",
      "    raise MaxRetryError(_pool, url, error or ResponseError(cause))\n",
      "urllib3.exceptions.MaxRetryError: HTTPConnectionPool(host='clerk.house.gov', port=80): Max retries exceeded with url: /evs/2008/roll469.xml (Caused by NewConnectionError('<urllib3.connection.HTTPConnection object at 0x11f61f208>: Failed to establish a new connection: [Errno 60] Operation timed out',))\n",
      "\n",
      "During handling of the above exception, another exception occurred:\n",
      "\n",
      "Traceback (most recent call last):\n",
      "  File \"<ipython-input-8-530adc215787>\", line 7, in house_rollcall_individual_parallel\n",
      "    obj.roll_call_single_to_psql(year, rollcall)\n",
      "  File \"/Users/benellis/Projects/congress/congress/etl/house_votes.py\", line 183, in roll_call_single_to_psql\n",
      "    df = self.roll_call_single(year, roll)\n",
      "  File \"/Users/benellis/Projects/congress/congress/etl/house_votes.py\", line 137, in roll_call_single\n",
      "    data = requests.get(url)\n",
      "  File \"//anaconda/lib/python3.6/site-packages/requests/api.py\", line 75, in get\n",
      "    return request('get', url, params=params, **kwargs)\n",
      "  File \"//anaconda/lib/python3.6/site-packages/requests/api.py\", line 60, in request\n",
      "    return session.request(method=method, url=url, **kwargs)\n",
      "  File \"//anaconda/lib/python3.6/site-packages/requests/sessions.py\", line 533, in request\n",
      "    resp = self.send(prep, **send_kwargs)\n",
      "  File \"//anaconda/lib/python3.6/site-packages/requests/sessions.py\", line 646, in send\n",
      "    r = adapter.send(request, **kwargs)\n",
      "  File \"//anaconda/lib/python3.6/site-packages/requests/adapters.py\", line 516, in send\n",
      "    raise ConnectionError(e, request=request)\n",
      "requests.exceptions.ConnectionError: HTTPConnectionPool(host='clerk.house.gov', port=80): Max retries exceeded with url: /evs/2008/roll469.xml (Caused by NewConnectionError('<urllib3.connection.HTTPConnection object at 0x11f61f208>: Failed to establish a new connection: [Errno 60] Operation timed out',))\n"
     ]
    },
    {
     "name": "stdout",
     "output_type": "stream",
     "text": [
      "http://clerk.house.gov/evs/2008/roll468.xml\n"
     ]
    },
    {
     "name": "stderr",
     "output_type": "stream",
     "text": [
      "Traceback (most recent call last):\n",
      "  File \"//anaconda/lib/python3.6/site-packages/urllib3/connection.py\", line 159, in _new_conn\n",
      "    (self._dns_host, self.port), self.timeout, **extra_kw)\n",
      "  File \"//anaconda/lib/python3.6/site-packages/urllib3/util/connection.py\", line 80, in create_connection\n",
      "    raise err\n",
      "  File \"//anaconda/lib/python3.6/site-packages/urllib3/util/connection.py\", line 70, in create_connection\n",
      "    sock.connect(sa)\n",
      "TimeoutError: [Errno 60] Operation timed out\n",
      "\n",
      "During handling of the above exception, another exception occurred:\n",
      "\n",
      "Traceback (most recent call last):\n",
      "  File \"//anaconda/lib/python3.6/site-packages/urllib3/connectionpool.py\", line 600, in urlopen\n",
      "    chunked=chunked)\n",
      "  File \"//anaconda/lib/python3.6/site-packages/urllib3/connectionpool.py\", line 354, in _make_request\n",
      "    conn.request(method, url, **httplib_request_kw)\n",
      "  File \"//anaconda/lib/python3.6/http/client.py\", line 1254, in request\n",
      "    self._send_request(method, url, body, headers, encode_chunked)\n",
      "  File \"//anaconda/lib/python3.6/http/client.py\", line 1300, in _send_request\n",
      "    self.endheaders(body, encode_chunked=encode_chunked)\n",
      "  File \"//anaconda/lib/python3.6/http/client.py\", line 1249, in endheaders\n",
      "    self._send_output(message_body, encode_chunked=encode_chunked)\n",
      "  File \"//anaconda/lib/python3.6/http/client.py\", line 1036, in _send_output\n",
      "    self.send(msg)\n",
      "  File \"//anaconda/lib/python3.6/http/client.py\", line 974, in send\n",
      "    self.connect()\n",
      "  File \"//anaconda/lib/python3.6/site-packages/urllib3/connection.py\", line 181, in connect\n",
      "    conn = self._new_conn()\n",
      "  File \"//anaconda/lib/python3.6/site-packages/urllib3/connection.py\", line 168, in _new_conn\n",
      "    self, \"Failed to establish a new connection: %s\" % e)\n",
      "urllib3.exceptions.NewConnectionError: <urllib3.connection.HTTPConnection object at 0x11f4b9b00>: Failed to establish a new connection: [Errno 60] Operation timed out\n",
      "\n",
      "During handling of the above exception, another exception occurred:\n",
      "\n",
      "Traceback (most recent call last):\n",
      "  File \"//anaconda/lib/python3.6/site-packages/requests/adapters.py\", line 449, in send\n",
      "    timeout=timeout\n",
      "  File \"//anaconda/lib/python3.6/site-packages/urllib3/connectionpool.py\", line 638, in urlopen\n",
      "    _stacktrace=sys.exc_info()[2])\n",
      "  File \"//anaconda/lib/python3.6/site-packages/urllib3/util/retry.py\", line 399, in increment\n",
      "    raise MaxRetryError(_pool, url, error or ResponseError(cause))\n",
      "urllib3.exceptions.MaxRetryError: HTTPConnectionPool(host='clerk.house.gov', port=80): Max retries exceeded with url: /evs/2005/roll648.xml (Caused by NewConnectionError('<urllib3.connection.HTTPConnection object at 0x11f4b9b00>: Failed to establish a new connection: [Errno 60] Operation timed out',))\n",
      "\n",
      "During handling of the above exception, another exception occurred:\n",
      "\n",
      "Traceback (most recent call last):\n",
      "  File \"<ipython-input-8-530adc215787>\", line 7, in house_rollcall_individual_parallel\n",
      "    obj.roll_call_single_to_psql(year, rollcall)\n",
      "  File \"/Users/benellis/Projects/congress/congress/etl/house_votes.py\", line 183, in roll_call_single_to_psql\n",
      "    df = self.roll_call_single(year, roll)\n",
      "  File \"/Users/benellis/Projects/congress/congress/etl/house_votes.py\", line 137, in roll_call_single\n",
      "    data = requests.get(url)\n",
      "  File \"//anaconda/lib/python3.6/site-packages/requests/api.py\", line 75, in get\n",
      "    return request('get', url, params=params, **kwargs)\n",
      "  File \"//anaconda/lib/python3.6/site-packages/requests/api.py\", line 60, in request\n",
      "    return session.request(method=method, url=url, **kwargs)\n",
      "  File \"//anaconda/lib/python3.6/site-packages/requests/sessions.py\", line 533, in request\n",
      "    resp = self.send(prep, **send_kwargs)\n",
      "  File \"//anaconda/lib/python3.6/site-packages/requests/sessions.py\", line 646, in send\n",
      "    r = adapter.send(request, **kwargs)\n",
      "  File \"//anaconda/lib/python3.6/site-packages/requests/adapters.py\", line 516, in send\n",
      "    raise ConnectionError(e, request=request)\n",
      "requests.exceptions.ConnectionError: HTTPConnectionPool(host='clerk.house.gov', port=80): Max retries exceeded with url: /evs/2005/roll648.xml (Caused by NewConnectionError('<urllib3.connection.HTTPConnection object at 0x11f4b9b00>: Failed to establish a new connection: [Errno 60] Operation timed out',))\n"
     ]
    },
    {
     "name": "stdout",
     "output_type": "stream",
     "text": [
      "http://clerk.house.gov/evs/2005/roll647.xml\n",
      "http://clerk.house.gov/evs/2005/roll646.xml\n"
     ]
    },
    {
     "name": "stderr",
     "output_type": "stream",
     "text": [
      "Traceback (most recent call last):\n",
      "  File \"//anaconda/lib/python3.6/site-packages/urllib3/connection.py\", line 159, in _new_conn\n",
      "    (self._dns_host, self.port), self.timeout, **extra_kw)\n",
      "  File \"//anaconda/lib/python3.6/site-packages/urllib3/util/connection.py\", line 80, in create_connection\n",
      "    raise err\n",
      "  File \"//anaconda/lib/python3.6/site-packages/urllib3/util/connection.py\", line 70, in create_connection\n",
      "    sock.connect(sa)\n",
      "TimeoutError: [Errno 60] Operation timed out\n",
      "\n",
      "During handling of the above exception, another exception occurred:\n",
      "\n",
      "Traceback (most recent call last):\n",
      "  File \"//anaconda/lib/python3.6/site-packages/urllib3/connectionpool.py\", line 600, in urlopen\n",
      "    chunked=chunked)\n",
      "  File \"//anaconda/lib/python3.6/site-packages/urllib3/connectionpool.py\", line 354, in _make_request\n",
      "    conn.request(method, url, **httplib_request_kw)\n",
      "  File \"//anaconda/lib/python3.6/http/client.py\", line 1254, in request\n",
      "    self._send_request(method, url, body, headers, encode_chunked)\n",
      "  File \"//anaconda/lib/python3.6/http/client.py\", line 1300, in _send_request\n",
      "    self.endheaders(body, encode_chunked=encode_chunked)\n",
      "  File \"//anaconda/lib/python3.6/http/client.py\", line 1249, in endheaders\n",
      "    self._send_output(message_body, encode_chunked=encode_chunked)\n",
      "  File \"//anaconda/lib/python3.6/http/client.py\", line 1036, in _send_output\n",
      "    self.send(msg)\n",
      "  File \"//anaconda/lib/python3.6/http/client.py\", line 974, in send\n",
      "    self.connect()\n",
      "  File \"//anaconda/lib/python3.6/site-packages/urllib3/connection.py\", line 181, in connect\n",
      "    conn = self._new_conn()\n",
      "  File \"//anaconda/lib/python3.6/site-packages/urllib3/connection.py\", line 168, in _new_conn\n",
      "    self, \"Failed to establish a new connection: %s\" % e)\n",
      "urllib3.exceptions.NewConnectionError: <urllib3.connection.HTTPConnection object at 0x11fed15c0>: Failed to establish a new connection: [Errno 60] Operation timed out\n",
      "\n",
      "During handling of the above exception, another exception occurred:\n",
      "\n",
      "Traceback (most recent call last):\n",
      "  File \"//anaconda/lib/python3.6/site-packages/requests/adapters.py\", line 449, in send\n",
      "    timeout=timeout\n",
      "  File \"//anaconda/lib/python3.6/site-packages/urllib3/connectionpool.py\", line 638, in urlopen\n",
      "    _stacktrace=sys.exc_info()[2])\n",
      "  File \"//anaconda/lib/python3.6/site-packages/urllib3/util/retry.py\", line 399, in increment\n",
      "    raise MaxRetryError(_pool, url, error or ResponseError(cause))\n",
      "urllib3.exceptions.MaxRetryError: HTTPConnectionPool(host='clerk.house.gov', port=80): Max retries exceeded with url: /evs/2003/roll610.xml (Caused by NewConnectionError('<urllib3.connection.HTTPConnection object at 0x11fed15c0>: Failed to establish a new connection: [Errno 60] Operation timed out',))\n",
      "\n",
      "During handling of the above exception, another exception occurred:\n",
      "\n",
      "Traceback (most recent call last):\n",
      "  File \"<ipython-input-8-530adc215787>\", line 7, in house_rollcall_individual_parallel\n",
      "    obj.roll_call_single_to_psql(year, rollcall)\n",
      "  File \"/Users/benellis/Projects/congress/congress/etl/house_votes.py\", line 183, in roll_call_single_to_psql\n",
      "    df = self.roll_call_single(year, roll)\n",
      "  File \"/Users/benellis/Projects/congress/congress/etl/house_votes.py\", line 137, in roll_call_single\n",
      "    data = requests.get(url)\n",
      "  File \"//anaconda/lib/python3.6/site-packages/requests/api.py\", line 75, in get\n",
      "    return request('get', url, params=params, **kwargs)\n",
      "  File \"//anaconda/lib/python3.6/site-packages/requests/api.py\", line 60, in request\n",
      "    return session.request(method=method, url=url, **kwargs)\n",
      "  File \"//anaconda/lib/python3.6/site-packages/requests/sessions.py\", line 533, in request\n",
      "    resp = self.send(prep, **send_kwargs)\n",
      "  File \"//anaconda/lib/python3.6/site-packages/requests/sessions.py\", line 646, in send\n",
      "    r = adapter.send(request, **kwargs)\n",
      "  File \"//anaconda/lib/python3.6/site-packages/requests/adapters.py\", line 516, in send\n",
      "    raise ConnectionError(e, request=request)\n",
      "requests.exceptions.ConnectionError: HTTPConnectionPool(host='clerk.house.gov', port=80): Max retries exceeded with url: /evs/2003/roll610.xml (Caused by NewConnectionError('<urllib3.connection.HTTPConnection object at 0x11fed15c0>: Failed to establish a new connection: [Errno 60] Operation timed out',))\n"
     ]
    },
    {
     "name": "stdout",
     "output_type": "stream",
     "text": [
      "http://clerk.house.gov/evs/2003/roll609.xml\n"
     ]
    },
    {
     "name": "stderr",
     "output_type": "stream",
     "text": [
      "Traceback (most recent call last):\n",
      "  File \"//anaconda/lib/python3.6/site-packages/urllib3/connection.py\", line 159, in _new_conn\n",
      "    (self._dns_host, self.port), self.timeout, **extra_kw)\n",
      "  File \"//anaconda/lib/python3.6/site-packages/urllib3/util/connection.py\", line 80, in create_connection\n",
      "    raise err\n",
      "  File \"//anaconda/lib/python3.6/site-packages/urllib3/util/connection.py\", line 70, in create_connection\n",
      "    sock.connect(sa)\n",
      "TimeoutError: [Errno 60] Operation timed out\n",
      "\n",
      "During handling of the above exception, another exception occurred:\n",
      "\n",
      "Traceback (most recent call last):\n",
      "  File \"//anaconda/lib/python3.6/site-packages/urllib3/connectionpool.py\", line 600, in urlopen\n",
      "    chunked=chunked)\n",
      "  File \"//anaconda/lib/python3.6/site-packages/urllib3/connectionpool.py\", line 354, in _make_request\n",
      "    conn.request(method, url, **httplib_request_kw)\n",
      "  File \"//anaconda/lib/python3.6/http/client.py\", line 1254, in request\n",
      "    self._send_request(method, url, body, headers, encode_chunked)\n",
      "  File \"//anaconda/lib/python3.6/http/client.py\", line 1300, in _send_request\n",
      "    self.endheaders(body, encode_chunked=encode_chunked)\n",
      "  File \"//anaconda/lib/python3.6/http/client.py\", line 1249, in endheaders\n",
      "    self._send_output(message_body, encode_chunked=encode_chunked)\n",
      "  File \"//anaconda/lib/python3.6/http/client.py\", line 1036, in _send_output\n",
      "    self.send(msg)\n",
      "  File \"//anaconda/lib/python3.6/http/client.py\", line 974, in send\n",
      "    self.connect()\n",
      "  File \"//anaconda/lib/python3.6/site-packages/urllib3/connection.py\", line 181, in connect\n",
      "    conn = self._new_conn()\n",
      "  File \"//anaconda/lib/python3.6/site-packages/urllib3/connection.py\", line 168, in _new_conn\n",
      "    self, \"Failed to establish a new connection: %s\" % e)\n",
      "urllib3.exceptions.NewConnectionError: <urllib3.connection.HTTPConnection object at 0x11f475ef0>: Failed to establish a new connection: [Errno 60] Operation timed out\n",
      "\n",
      "During handling of the above exception, another exception occurred:\n",
      "\n",
      "Traceback (most recent call last):\n",
      "  File \"//anaconda/lib/python3.6/site-packages/requests/adapters.py\", line 449, in send\n",
      "    timeout=timeout\n",
      "  File \"//anaconda/lib/python3.6/site-packages/urllib3/connectionpool.py\", line 638, in urlopen\n",
      "    _stacktrace=sys.exc_info()[2])\n",
      "  File \"//anaconda/lib/python3.6/site-packages/urllib3/util/retry.py\", line 399, in increment\n",
      "    raise MaxRetryError(_pool, url, error or ResponseError(cause))\n",
      "urllib3.exceptions.MaxRetryError: HTTPConnectionPool(host='clerk.house.gov', port=80): Max retries exceeded with url: /evs/2007/roll835.xml (Caused by NewConnectionError('<urllib3.connection.HTTPConnection object at 0x11f475ef0>: Failed to establish a new connection: [Errno 60] Operation timed out',))\n",
      "\n",
      "During handling of the above exception, another exception occurred:\n",
      "\n",
      "Traceback (most recent call last):\n",
      "  File \"<ipython-input-8-530adc215787>\", line 7, in house_rollcall_individual_parallel\n",
      "    obj.roll_call_single_to_psql(year, rollcall)\n",
      "  File \"/Users/benellis/Projects/congress/congress/etl/house_votes.py\", line 183, in roll_call_single_to_psql\n",
      "    df = self.roll_call_single(year, roll)\n",
      "  File \"/Users/benellis/Projects/congress/congress/etl/house_votes.py\", line 137, in roll_call_single\n",
      "    data = requests.get(url)\n",
      "  File \"//anaconda/lib/python3.6/site-packages/requests/api.py\", line 75, in get\n",
      "    return request('get', url, params=params, **kwargs)\n",
      "  File \"//anaconda/lib/python3.6/site-packages/requests/api.py\", line 60, in request\n",
      "    return session.request(method=method, url=url, **kwargs)\n",
      "  File \"//anaconda/lib/python3.6/site-packages/requests/sessions.py\", line 533, in request\n",
      "    resp = self.send(prep, **send_kwargs)\n",
      "  File \"//anaconda/lib/python3.6/site-packages/requests/sessions.py\", line 646, in send\n",
      "    r = adapter.send(request, **kwargs)\n",
      "  File \"//anaconda/lib/python3.6/site-packages/requests/adapters.py\", line 516, in send\n",
      "    raise ConnectionError(e, request=request)\n",
      "requests.exceptions.ConnectionError: HTTPConnectionPool(host='clerk.house.gov', port=80): Max retries exceeded with url: /evs/2007/roll835.xml (Caused by NewConnectionError('<urllib3.connection.HTTPConnection object at 0x11f475ef0>: Failed to establish a new connection: [Errno 60] Operation timed out',))\n"
     ]
    },
    {
     "name": "stdout",
     "output_type": "stream",
     "text": [
      "http://clerk.house.gov/evs/2007/roll834.xml\n"
     ]
    },
    {
     "name": "stderr",
     "output_type": "stream",
     "text": [
      "Traceback (most recent call last):\n",
      "  File \"//anaconda/lib/python3.6/site-packages/urllib3/connection.py\", line 159, in _new_conn\n",
      "    (self._dns_host, self.port), self.timeout, **extra_kw)\n",
      "  File \"//anaconda/lib/python3.6/site-packages/urllib3/util/connection.py\", line 80, in create_connection\n",
      "    raise err\n",
      "  File \"//anaconda/lib/python3.6/site-packages/urllib3/util/connection.py\", line 70, in create_connection\n",
      "    sock.connect(sa)\n",
      "TimeoutError: [Errno 60] Operation timed out\n",
      "\n",
      "During handling of the above exception, another exception occurred:\n",
      "\n",
      "Traceback (most recent call last):\n",
      "  File \"//anaconda/lib/python3.6/site-packages/urllib3/connectionpool.py\", line 600, in urlopen\n",
      "    chunked=chunked)\n",
      "  File \"//anaconda/lib/python3.6/site-packages/urllib3/connectionpool.py\", line 354, in _make_request\n",
      "    conn.request(method, url, **httplib_request_kw)\n",
      "  File \"//anaconda/lib/python3.6/http/client.py\", line 1254, in request\n",
      "    self._send_request(method, url, body, headers, encode_chunked)\n",
      "  File \"//anaconda/lib/python3.6/http/client.py\", line 1300, in _send_request\n",
      "    self.endheaders(body, encode_chunked=encode_chunked)\n",
      "  File \"//anaconda/lib/python3.6/http/client.py\", line 1249, in endheaders\n",
      "    self._send_output(message_body, encode_chunked=encode_chunked)\n",
      "  File \"//anaconda/lib/python3.6/http/client.py\", line 1036, in _send_output\n",
      "    self.send(msg)\n",
      "  File \"//anaconda/lib/python3.6/http/client.py\", line 974, in send\n",
      "    self.connect()\n",
      "  File \"//anaconda/lib/python3.6/site-packages/urllib3/connection.py\", line 181, in connect\n",
      "    conn = self._new_conn()\n",
      "  File \"//anaconda/lib/python3.6/site-packages/urllib3/connection.py\", line 168, in _new_conn\n",
      "    self, \"Failed to establish a new connection: %s\" % e)\n",
      "urllib3.exceptions.NewConnectionError: <urllib3.connection.HTTPConnection object at 0x11f61f8d0>: Failed to establish a new connection: [Errno 60] Operation timed out\n",
      "\n",
      "During handling of the above exception, another exception occurred:\n",
      "\n",
      "Traceback (most recent call last):\n",
      "  File \"//anaconda/lib/python3.6/site-packages/requests/adapters.py\", line 449, in send\n",
      "    timeout=timeout\n",
      "  File \"//anaconda/lib/python3.6/site-packages/urllib3/connectionpool.py\", line 638, in urlopen\n",
      "    _stacktrace=sys.exc_info()[2])\n",
      "  File \"//anaconda/lib/python3.6/site-packages/urllib3/util/retry.py\", line 399, in increment\n",
      "    raise MaxRetryError(_pool, url, error or ResponseError(cause))\n",
      "urllib3.exceptions.MaxRetryError: HTTPConnectionPool(host='clerk.house.gov', port=80): Max retries exceeded with url: /evs/2008/roll468.xml (Caused by NewConnectionError('<urllib3.connection.HTTPConnection object at 0x11f61f8d0>: Failed to establish a new connection: [Errno 60] Operation timed out',))\n",
      "\n",
      "During handling of the above exception, another exception occurred:\n",
      "\n",
      "Traceback (most recent call last):\n",
      "  File \"<ipython-input-8-530adc215787>\", line 7, in house_rollcall_individual_parallel\n",
      "    obj.roll_call_single_to_psql(year, rollcall)\n",
      "  File \"/Users/benellis/Projects/congress/congress/etl/house_votes.py\", line 183, in roll_call_single_to_psql\n",
      "    df = self.roll_call_single(year, roll)\n",
      "  File \"/Users/benellis/Projects/congress/congress/etl/house_votes.py\", line 137, in roll_call_single\n",
      "    data = requests.get(url)\n",
      "  File \"//anaconda/lib/python3.6/site-packages/requests/api.py\", line 75, in get\n",
      "    return request('get', url, params=params, **kwargs)\n",
      "  File \"//anaconda/lib/python3.6/site-packages/requests/api.py\", line 60, in request\n",
      "    return session.request(method=method, url=url, **kwargs)\n",
      "  File \"//anaconda/lib/python3.6/site-packages/requests/sessions.py\", line 533, in request\n",
      "    resp = self.send(prep, **send_kwargs)\n",
      "  File \"//anaconda/lib/python3.6/site-packages/requests/sessions.py\", line 646, in send\n",
      "    r = adapter.send(request, **kwargs)\n",
      "  File \"//anaconda/lib/python3.6/site-packages/requests/adapters.py\", line 516, in send\n",
      "    raise ConnectionError(e, request=request)\n",
      "requests.exceptions.ConnectionError: HTTPConnectionPool(host='clerk.house.gov', port=80): Max retries exceeded with url: /evs/2008/roll468.xml (Caused by NewConnectionError('<urllib3.connection.HTTPConnection object at 0x11f61f8d0>: Failed to establish a new connection: [Errno 60] Operation timed out',))\n"
     ]
    },
    {
     "name": "stdout",
     "output_type": "stream",
     "text": [
      "http://clerk.house.gov/evs/2008/roll467.xml\n",
      "http://clerk.house.gov/evs/2005/roll645.xml\n",
      "http://clerk.house.gov/evs/2003/roll608.xml\n",
      "http://clerk.house.gov/evs/2007/roll833.xml\n",
      "http://clerk.house.gov/evs/2003/roll607.xml\n",
      "http://clerk.house.gov/evs/2003/roll606.xml\n"
     ]
    },
    {
     "name": "stderr",
     "output_type": "stream",
     "text": [
      "Traceback (most recent call last):\n",
      "  File \"//anaconda/lib/python3.6/site-packages/urllib3/connection.py\", line 159, in _new_conn\n",
      "    (self._dns_host, self.port), self.timeout, **extra_kw)\n",
      "  File \"//anaconda/lib/python3.6/site-packages/urllib3/util/connection.py\", line 80, in create_connection\n",
      "    raise err\n",
      "  File \"//anaconda/lib/python3.6/site-packages/urllib3/util/connection.py\", line 70, in create_connection\n",
      "    sock.connect(sa)\n",
      "TimeoutError: [Errno 60] Operation timed out\n",
      "\n",
      "During handling of the above exception, another exception occurred:\n",
      "\n",
      "Traceback (most recent call last):\n",
      "  File \"//anaconda/lib/python3.6/site-packages/urllib3/connectionpool.py\", line 600, in urlopen\n",
      "    chunked=chunked)\n",
      "  File \"//anaconda/lib/python3.6/site-packages/urllib3/connectionpool.py\", line 354, in _make_request\n",
      "    conn.request(method, url, **httplib_request_kw)\n",
      "  File \"//anaconda/lib/python3.6/http/client.py\", line 1254, in request\n",
      "    self._send_request(method, url, body, headers, encode_chunked)\n",
      "  File \"//anaconda/lib/python3.6/http/client.py\", line 1300, in _send_request\n",
      "    self.endheaders(body, encode_chunked=encode_chunked)\n",
      "  File \"//anaconda/lib/python3.6/http/client.py\", line 1249, in endheaders\n",
      "    self._send_output(message_body, encode_chunked=encode_chunked)\n",
      "  File \"//anaconda/lib/python3.6/http/client.py\", line 1036, in _send_output\n",
      "    self.send(msg)\n",
      "  File \"//anaconda/lib/python3.6/http/client.py\", line 974, in send\n",
      "    self.connect()\n",
      "  File \"//anaconda/lib/python3.6/site-packages/urllib3/connection.py\", line 181, in connect\n",
      "    conn = self._new_conn()\n",
      "  File \"//anaconda/lib/python3.6/site-packages/urllib3/connection.py\", line 168, in _new_conn\n",
      "    self, \"Failed to establish a new connection: %s\" % e)\n",
      "urllib3.exceptions.NewConnectionError: <urllib3.connection.HTTPConnection object at 0x11f61f160>: Failed to establish a new connection: [Errno 60] Operation timed out\n",
      "\n",
      "During handling of the above exception, another exception occurred:\n",
      "\n",
      "Traceback (most recent call last):\n",
      "  File \"//anaconda/lib/python3.6/site-packages/requests/adapters.py\", line 449, in send\n",
      "    timeout=timeout\n",
      "  File \"//anaconda/lib/python3.6/site-packages/urllib3/connectionpool.py\", line 638, in urlopen\n",
      "    _stacktrace=sys.exc_info()[2])\n",
      "  File \"//anaconda/lib/python3.6/site-packages/urllib3/util/retry.py\", line 399, in increment\n",
      "    raise MaxRetryError(_pool, url, error or ResponseError(cause))\n",
      "urllib3.exceptions.MaxRetryError: HTTPConnectionPool(host='clerk.house.gov', port=80): Max retries exceeded with url: /evs/2008/roll467.xml (Caused by NewConnectionError('<urllib3.connection.HTTPConnection object at 0x11f61f160>: Failed to establish a new connection: [Errno 60] Operation timed out',))\n",
      "\n",
      "During handling of the above exception, another exception occurred:\n",
      "\n",
      "Traceback (most recent call last):\n",
      "  File \"<ipython-input-8-530adc215787>\", line 7, in house_rollcall_individual_parallel\n",
      "    obj.roll_call_single_to_psql(year, rollcall)\n",
      "  File \"/Users/benellis/Projects/congress/congress/etl/house_votes.py\", line 183, in roll_call_single_to_psql\n",
      "    df = self.roll_call_single(year, roll)\n",
      "  File \"/Users/benellis/Projects/congress/congress/etl/house_votes.py\", line 137, in roll_call_single\n",
      "    data = requests.get(url)\n",
      "  File \"//anaconda/lib/python3.6/site-packages/requests/api.py\", line 75, in get\n",
      "    return request('get', url, params=params, **kwargs)\n",
      "  File \"//anaconda/lib/python3.6/site-packages/requests/api.py\", line 60, in request\n",
      "    return session.request(method=method, url=url, **kwargs)\n",
      "  File \"//anaconda/lib/python3.6/site-packages/requests/sessions.py\", line 533, in request\n",
      "    resp = self.send(prep, **send_kwargs)\n",
      "  File \"//anaconda/lib/python3.6/site-packages/requests/sessions.py\", line 646, in send\n",
      "    r = adapter.send(request, **kwargs)\n",
      "  File \"//anaconda/lib/python3.6/site-packages/requests/adapters.py\", line 516, in send\n",
      "    raise ConnectionError(e, request=request)\n",
      "requests.exceptions.ConnectionError: HTTPConnectionPool(host='clerk.house.gov', port=80): Max retries exceeded with url: /evs/2008/roll467.xml (Caused by NewConnectionError('<urllib3.connection.HTTPConnection object at 0x11f61f160>: Failed to establish a new connection: [Errno 60] Operation timed out',))\n"
     ]
    },
    {
     "name": "stdout",
     "output_type": "stream",
     "text": [
      "http://clerk.house.gov/evs/2008/roll466.xml\n",
      "http://clerk.house.gov/evs/2003/roll605.xml\n"
     ]
    },
    {
     "name": "stderr",
     "output_type": "stream",
     "text": [
      "Traceback (most recent call last):\n",
      "  File \"//anaconda/lib/python3.6/site-packages/urllib3/connection.py\", line 159, in _new_conn\n",
      "    (self._dns_host, self.port), self.timeout, **extra_kw)\n",
      "  File \"//anaconda/lib/python3.6/site-packages/urllib3/util/connection.py\", line 80, in create_connection\n",
      "    raise err\n",
      "  File \"//anaconda/lib/python3.6/site-packages/urllib3/util/connection.py\", line 70, in create_connection\n",
      "    sock.connect(sa)\n",
      "TimeoutError: [Errno 60] Operation timed out\n",
      "\n",
      "During handling of the above exception, another exception occurred:\n",
      "\n",
      "Traceback (most recent call last):\n",
      "  File \"//anaconda/lib/python3.6/site-packages/urllib3/connectionpool.py\", line 600, in urlopen\n",
      "    chunked=chunked)\n",
      "  File \"//anaconda/lib/python3.6/site-packages/urllib3/connectionpool.py\", line 354, in _make_request\n",
      "    conn.request(method, url, **httplib_request_kw)\n",
      "  File \"//anaconda/lib/python3.6/http/client.py\", line 1254, in request\n",
      "    self._send_request(method, url, body, headers, encode_chunked)\n",
      "  File \"//anaconda/lib/python3.6/http/client.py\", line 1300, in _send_request\n",
      "    self.endheaders(body, encode_chunked=encode_chunked)\n",
      "  File \"//anaconda/lib/python3.6/http/client.py\", line 1249, in endheaders\n",
      "    self._send_output(message_body, encode_chunked=encode_chunked)\n",
      "  File \"//anaconda/lib/python3.6/http/client.py\", line 1036, in _send_output\n",
      "    self.send(msg)\n",
      "  File \"//anaconda/lib/python3.6/http/client.py\", line 974, in send\n",
      "    self.connect()\n",
      "  File \"//anaconda/lib/python3.6/site-packages/urllib3/connection.py\", line 181, in connect\n",
      "    conn = self._new_conn()\n",
      "  File \"//anaconda/lib/python3.6/site-packages/urllib3/connection.py\", line 168, in _new_conn\n",
      "    self, \"Failed to establish a new connection: %s\" % e)\n",
      "urllib3.exceptions.NewConnectionError: <urllib3.connection.HTTPConnection object at 0x11f4b9b38>: Failed to establish a new connection: [Errno 60] Operation timed out\n",
      "\n",
      "During handling of the above exception, another exception occurred:\n",
      "\n",
      "Traceback (most recent call last):\n",
      "  File \"//anaconda/lib/python3.6/site-packages/requests/adapters.py\", line 449, in send\n",
      "    timeout=timeout\n",
      "  File \"//anaconda/lib/python3.6/site-packages/urllib3/connectionpool.py\", line 638, in urlopen\n",
      "    _stacktrace=sys.exc_info()[2])\n",
      "  File \"//anaconda/lib/python3.6/site-packages/urllib3/util/retry.py\", line 399, in increment\n",
      "    raise MaxRetryError(_pool, url, error or ResponseError(cause))\n",
      "urllib3.exceptions.MaxRetryError: HTTPConnectionPool(host='clerk.house.gov', port=80): Max retries exceeded with url: /evs/2005/roll645.xml (Caused by NewConnectionError('<urllib3.connection.HTTPConnection object at 0x11f4b9b38>: Failed to establish a new connection: [Errno 60] Operation timed out',))\n",
      "\n",
      "During handling of the above exception, another exception occurred:\n",
      "\n",
      "Traceback (most recent call last):\n",
      "  File \"<ipython-input-8-530adc215787>\", line 7, in house_rollcall_individual_parallel\n",
      "    obj.roll_call_single_to_psql(year, rollcall)\n",
      "  File \"/Users/benellis/Projects/congress/congress/etl/house_votes.py\", line 183, in roll_call_single_to_psql\n",
      "    df = self.roll_call_single(year, roll)\n",
      "  File \"/Users/benellis/Projects/congress/congress/etl/house_votes.py\", line 137, in roll_call_single\n",
      "    data = requests.get(url)\n",
      "  File \"//anaconda/lib/python3.6/site-packages/requests/api.py\", line 75, in get\n",
      "    return request('get', url, params=params, **kwargs)\n",
      "  File \"//anaconda/lib/python3.6/site-packages/requests/api.py\", line 60, in request\n",
      "    return session.request(method=method, url=url, **kwargs)\n",
      "  File \"//anaconda/lib/python3.6/site-packages/requests/sessions.py\", line 533, in request\n",
      "    resp = self.send(prep, **send_kwargs)\n",
      "  File \"//anaconda/lib/python3.6/site-packages/requests/sessions.py\", line 646, in send\n",
      "    r = adapter.send(request, **kwargs)\n",
      "  File \"//anaconda/lib/python3.6/site-packages/requests/adapters.py\", line 516, in send\n",
      "    raise ConnectionError(e, request=request)\n",
      "requests.exceptions.ConnectionError: HTTPConnectionPool(host='clerk.house.gov', port=80): Max retries exceeded with url: /evs/2005/roll645.xml (Caused by NewConnectionError('<urllib3.connection.HTTPConnection object at 0x11f4b9b38>: Failed to establish a new connection: [Errno 60] Operation timed out',))\n"
     ]
    },
    {
     "name": "stdout",
     "output_type": "stream",
     "text": [
      "http://clerk.house.gov/evs/2005/roll644.xml\n",
      "http://clerk.house.gov/evs/2003/roll604.xml\n",
      "http://clerk.house.gov/evs/2008/roll465.xml\n"
     ]
    },
    {
     "name": "stderr",
     "output_type": "stream",
     "text": [
      "Traceback (most recent call last):\n",
      "  File \"//anaconda/lib/python3.6/site-packages/urllib3/connection.py\", line 159, in _new_conn\n",
      "    (self._dns_host, self.port), self.timeout, **extra_kw)\n",
      "  File \"//anaconda/lib/python3.6/site-packages/urllib3/util/connection.py\", line 80, in create_connection\n",
      "    raise err\n",
      "  File \"//anaconda/lib/python3.6/site-packages/urllib3/util/connection.py\", line 70, in create_connection\n",
      "    sock.connect(sa)\n",
      "TimeoutError: [Errno 60] Operation timed out\n",
      "\n",
      "During handling of the above exception, another exception occurred:\n",
      "\n",
      "Traceback (most recent call last):\n",
      "  File \"//anaconda/lib/python3.6/site-packages/urllib3/connectionpool.py\", line 600, in urlopen\n",
      "    chunked=chunked)\n",
      "  File \"//anaconda/lib/python3.6/site-packages/urllib3/connectionpool.py\", line 354, in _make_request\n",
      "    conn.request(method, url, **httplib_request_kw)\n",
      "  File \"//anaconda/lib/python3.6/http/client.py\", line 1254, in request\n",
      "    self._send_request(method, url, body, headers, encode_chunked)\n",
      "  File \"//anaconda/lib/python3.6/http/client.py\", line 1300, in _send_request\n",
      "    self.endheaders(body, encode_chunked=encode_chunked)\n",
      "  File \"//anaconda/lib/python3.6/http/client.py\", line 1249, in endheaders\n",
      "    self._send_output(message_body, encode_chunked=encode_chunked)\n",
      "  File \"//anaconda/lib/python3.6/http/client.py\", line 1036, in _send_output\n",
      "    self.send(msg)\n",
      "  File \"//anaconda/lib/python3.6/http/client.py\", line 974, in send\n",
      "    self.connect()\n",
      "  File \"//anaconda/lib/python3.6/site-packages/urllib3/connection.py\", line 181, in connect\n",
      "    conn = self._new_conn()\n",
      "  File \"//anaconda/lib/python3.6/site-packages/urllib3/connection.py\", line 168, in _new_conn\n",
      "    self, \"Failed to establish a new connection: %s\" % e)\n",
      "urllib3.exceptions.NewConnectionError: <urllib3.connection.HTTPConnection object at 0x11fbb32e8>: Failed to establish a new connection: [Errno 60] Operation timed out\n",
      "\n",
      "During handling of the above exception, another exception occurred:\n",
      "\n",
      "Traceback (most recent call last):\n",
      "  File \"//anaconda/lib/python3.6/site-packages/requests/adapters.py\", line 449, in send\n",
      "    timeout=timeout\n",
      "  File \"//anaconda/lib/python3.6/site-packages/urllib3/connectionpool.py\", line 638, in urlopen\n",
      "    _stacktrace=sys.exc_info()[2])\n",
      "  File \"//anaconda/lib/python3.6/site-packages/urllib3/util/retry.py\", line 399, in increment\n",
      "    raise MaxRetryError(_pool, url, error or ResponseError(cause))\n",
      "urllib3.exceptions.MaxRetryError: HTTPConnectionPool(host='clerk.house.gov', port=80): Max retries exceeded with url: /evs/2007/roll833.xml (Caused by NewConnectionError('<urllib3.connection.HTTPConnection object at 0x11fbb32e8>: Failed to establish a new connection: [Errno 60] Operation timed out',))\n",
      "\n",
      "During handling of the above exception, another exception occurred:\n",
      "\n",
      "Traceback (most recent call last):\n",
      "  File \"<ipython-input-8-530adc215787>\", line 7, in house_rollcall_individual_parallel\n",
      "    obj.roll_call_single_to_psql(year, rollcall)\n",
      "  File \"/Users/benellis/Projects/congress/congress/etl/house_votes.py\", line 183, in roll_call_single_to_psql\n",
      "    df = self.roll_call_single(year, roll)\n",
      "  File \"/Users/benellis/Projects/congress/congress/etl/house_votes.py\", line 137, in roll_call_single\n",
      "    data = requests.get(url)\n",
      "  File \"//anaconda/lib/python3.6/site-packages/requests/api.py\", line 75, in get\n",
      "    return request('get', url, params=params, **kwargs)\n",
      "  File \"//anaconda/lib/python3.6/site-packages/requests/api.py\", line 60, in request\n",
      "    return session.request(method=method, url=url, **kwargs)\n",
      "  File \"//anaconda/lib/python3.6/site-packages/requests/sessions.py\", line 533, in request\n",
      "    resp = self.send(prep, **send_kwargs)\n",
      "  File \"//anaconda/lib/python3.6/site-packages/requests/sessions.py\", line 646, in send\n",
      "    r = adapter.send(request, **kwargs)\n",
      "  File \"//anaconda/lib/python3.6/site-packages/requests/adapters.py\", line 516, in send\n",
      "    raise ConnectionError(e, request=request)\n",
      "requests.exceptions.ConnectionError: HTTPConnectionPool(host='clerk.house.gov', port=80): Max retries exceeded with url: /evs/2007/roll833.xml (Caused by NewConnectionError('<urllib3.connection.HTTPConnection object at 0x11fbb32e8>: Failed to establish a new connection: [Errno 60] Operation timed out',))\n"
     ]
    },
    {
     "name": "stdout",
     "output_type": "stream",
     "text": [
      "http://clerk.house.gov/evs/2007/roll832.xml\n"
     ]
    },
    {
     "name": "stderr",
     "output_type": "stream",
     "text": [
      "Traceback (most recent call last):\n",
      "  File \"//anaconda/lib/python3.6/site-packages/urllib3/connection.py\", line 159, in _new_conn\n",
      "    (self._dns_host, self.port), self.timeout, **extra_kw)\n",
      "  File \"//anaconda/lib/python3.6/site-packages/urllib3/util/connection.py\", line 80, in create_connection\n",
      "    raise err\n",
      "  File \"//anaconda/lib/python3.6/site-packages/urllib3/util/connection.py\", line 70, in create_connection\n",
      "    sock.connect(sa)\n",
      "TimeoutError: [Errno 60] Operation timed out\n",
      "\n",
      "During handling of the above exception, another exception occurred:\n",
      "\n",
      "Traceback (most recent call last):\n",
      "  File \"//anaconda/lib/python3.6/site-packages/urllib3/connectionpool.py\", line 600, in urlopen\n",
      "    chunked=chunked)\n",
      "  File \"//anaconda/lib/python3.6/site-packages/urllib3/connectionpool.py\", line 354, in _make_request\n",
      "    conn.request(method, url, **httplib_request_kw)\n",
      "  File \"//anaconda/lib/python3.6/http/client.py\", line 1254, in request\n",
      "    self._send_request(method, url, body, headers, encode_chunked)\n",
      "  File \"//anaconda/lib/python3.6/http/client.py\", line 1300, in _send_request\n",
      "    self.endheaders(body, encode_chunked=encode_chunked)\n",
      "  File \"//anaconda/lib/python3.6/http/client.py\", line 1249, in endheaders\n",
      "    self._send_output(message_body, encode_chunked=encode_chunked)\n",
      "  File \"//anaconda/lib/python3.6/http/client.py\", line 1036, in _send_output\n",
      "    self.send(msg)\n",
      "  File \"//anaconda/lib/python3.6/http/client.py\", line 974, in send\n",
      "    self.connect()\n",
      "  File \"//anaconda/lib/python3.6/site-packages/urllib3/connection.py\", line 181, in connect\n",
      "    conn = self._new_conn()\n",
      "  File \"//anaconda/lib/python3.6/site-packages/urllib3/connection.py\", line 168, in _new_conn\n",
      "    self, \"Failed to establish a new connection: %s\" % e)\n",
      "urllib3.exceptions.NewConnectionError: <urllib3.connection.HTTPConnection object at 0x11fe81940>: Failed to establish a new connection: [Errno 60] Operation timed out\n",
      "\n",
      "During handling of the above exception, another exception occurred:\n",
      "\n",
      "Traceback (most recent call last):\n",
      "  File \"//anaconda/lib/python3.6/site-packages/requests/adapters.py\", line 449, in send\n",
      "    timeout=timeout\n",
      "  File \"//anaconda/lib/python3.6/site-packages/urllib3/connectionpool.py\", line 638, in urlopen\n",
      "    _stacktrace=sys.exc_info()[2])\n",
      "  File \"//anaconda/lib/python3.6/site-packages/urllib3/util/retry.py\", line 399, in increment\n",
      "    raise MaxRetryError(_pool, url, error or ResponseError(cause))\n",
      "urllib3.exceptions.MaxRetryError: HTTPConnectionPool(host='clerk.house.gov', port=80): Max retries exceeded with url: /evs/2005/roll644.xml (Caused by NewConnectionError('<urllib3.connection.HTTPConnection object at 0x11fe81940>: Failed to establish a new connection: [Errno 60] Operation timed out',))\n",
      "\n",
      "During handling of the above exception, another exception occurred:\n",
      "\n",
      "Traceback (most recent call last):\n",
      "  File \"<ipython-input-8-530adc215787>\", line 7, in house_rollcall_individual_parallel\n",
      "    obj.roll_call_single_to_psql(year, rollcall)\n",
      "  File \"/Users/benellis/Projects/congress/congress/etl/house_votes.py\", line 183, in roll_call_single_to_psql\n",
      "    df = self.roll_call_single(year, roll)\n",
      "  File \"/Users/benellis/Projects/congress/congress/etl/house_votes.py\", line 137, in roll_call_single\n",
      "    data = requests.get(url)\n",
      "  File \"//anaconda/lib/python3.6/site-packages/requests/api.py\", line 75, in get\n",
      "    return request('get', url, params=params, **kwargs)\n",
      "  File \"//anaconda/lib/python3.6/site-packages/requests/api.py\", line 60, in request\n",
      "    return session.request(method=method, url=url, **kwargs)\n",
      "  File \"//anaconda/lib/python3.6/site-packages/requests/sessions.py\", line 533, in request\n",
      "    resp = self.send(prep, **send_kwargs)\n",
      "  File \"//anaconda/lib/python3.6/site-packages/requests/sessions.py\", line 646, in send\n",
      "    r = adapter.send(request, **kwargs)\n",
      "  File \"//anaconda/lib/python3.6/site-packages/requests/adapters.py\", line 516, in send\n",
      "    raise ConnectionError(e, request=request)\n",
      "requests.exceptions.ConnectionError: HTTPConnectionPool(host='clerk.house.gov', port=80): Max retries exceeded with url: /evs/2005/roll644.xml (Caused by NewConnectionError('<urllib3.connection.HTTPConnection object at 0x11fe81940>: Failed to establish a new connection: [Errno 60] Operation timed out',))\n"
     ]
    },
    {
     "name": "stdout",
     "output_type": "stream",
     "text": [
      "http://clerk.house.gov/evs/2005/roll643.xml\n"
     ]
    },
    {
     "name": "stderr",
     "output_type": "stream",
     "text": [
      "Traceback (most recent call last):\n",
      "  File \"//anaconda/lib/python3.6/site-packages/urllib3/connection.py\", line 159, in _new_conn\n",
      "    (self._dns_host, self.port), self.timeout, **extra_kw)\n",
      "  File \"//anaconda/lib/python3.6/site-packages/urllib3/util/connection.py\", line 80, in create_connection\n",
      "    raise err\n",
      "  File \"//anaconda/lib/python3.6/site-packages/urllib3/util/connection.py\", line 70, in create_connection\n",
      "    sock.connect(sa)\n",
      "TimeoutError: [Errno 60] Operation timed out\n",
      "\n",
      "During handling of the above exception, another exception occurred:\n",
      "\n",
      "Traceback (most recent call last):\n",
      "  File \"//anaconda/lib/python3.6/site-packages/urllib3/connectionpool.py\", line 600, in urlopen\n",
      "    chunked=chunked)\n",
      "  File \"//anaconda/lib/python3.6/site-packages/urllib3/connectionpool.py\", line 354, in _make_request\n",
      "    conn.request(method, url, **httplib_request_kw)\n",
      "  File \"//anaconda/lib/python3.6/http/client.py\", line 1254, in request\n",
      "    self._send_request(method, url, body, headers, encode_chunked)\n",
      "  File \"//anaconda/lib/python3.6/http/client.py\", line 1300, in _send_request\n",
      "    self.endheaders(body, encode_chunked=encode_chunked)\n",
      "  File \"//anaconda/lib/python3.6/http/client.py\", line 1249, in endheaders\n",
      "    self._send_output(message_body, encode_chunked=encode_chunked)\n",
      "  File \"//anaconda/lib/python3.6/http/client.py\", line 1036, in _send_output\n",
      "    self.send(msg)\n",
      "  File \"//anaconda/lib/python3.6/http/client.py\", line 974, in send\n",
      "    self.connect()\n",
      "  File \"//anaconda/lib/python3.6/site-packages/urllib3/connection.py\", line 181, in connect\n",
      "    conn = self._new_conn()\n",
      "  File \"//anaconda/lib/python3.6/site-packages/urllib3/connection.py\", line 168, in _new_conn\n",
      "    self, \"Failed to establish a new connection: %s\" % e)\n",
      "urllib3.exceptions.NewConnectionError: <urllib3.connection.HTTPConnection object at 0x11fe45eb8>: Failed to establish a new connection: [Errno 60] Operation timed out\n",
      "\n",
      "During handling of the above exception, another exception occurred:\n",
      "\n",
      "Traceback (most recent call last):\n",
      "  File \"//anaconda/lib/python3.6/site-packages/requests/adapters.py\", line 449, in send\n",
      "    timeout=timeout\n",
      "  File \"//anaconda/lib/python3.6/site-packages/urllib3/connectionpool.py\", line 638, in urlopen\n",
      "    _stacktrace=sys.exc_info()[2])\n",
      "  File \"//anaconda/lib/python3.6/site-packages/urllib3/util/retry.py\", line 399, in increment\n",
      "    raise MaxRetryError(_pool, url, error or ResponseError(cause))\n",
      "urllib3.exceptions.MaxRetryError: HTTPConnectionPool(host='clerk.house.gov', port=80): Max retries exceeded with url: /evs/2003/roll604.xml (Caused by NewConnectionError('<urllib3.connection.HTTPConnection object at 0x11fe45eb8>: Failed to establish a new connection: [Errno 60] Operation timed out',))\n",
      "\n",
      "During handling of the above exception, another exception occurred:\n",
      "\n",
      "Traceback (most recent call last):\n",
      "  File \"<ipython-input-8-530adc215787>\", line 7, in house_rollcall_individual_parallel\n",
      "    obj.roll_call_single_to_psql(year, rollcall)\n",
      "  File \"/Users/benellis/Projects/congress/congress/etl/house_votes.py\", line 183, in roll_call_single_to_psql\n",
      "    df = self.roll_call_single(year, roll)\n",
      "  File \"/Users/benellis/Projects/congress/congress/etl/house_votes.py\", line 137, in roll_call_single\n",
      "    data = requests.get(url)\n",
      "  File \"//anaconda/lib/python3.6/site-packages/requests/api.py\", line 75, in get\n",
      "    return request('get', url, params=params, **kwargs)\n",
      "  File \"//anaconda/lib/python3.6/site-packages/requests/api.py\", line 60, in request\n",
      "    return session.request(method=method, url=url, **kwargs)\n",
      "  File \"//anaconda/lib/python3.6/site-packages/requests/sessions.py\", line 533, in request\n",
      "    resp = self.send(prep, **send_kwargs)\n",
      "  File \"//anaconda/lib/python3.6/site-packages/requests/sessions.py\", line 646, in send\n",
      "    r = adapter.send(request, **kwargs)\n",
      "  File \"//anaconda/lib/python3.6/site-packages/requests/adapters.py\", line 516, in send\n",
      "    raise ConnectionError(e, request=request)\n",
      "requests.exceptions.ConnectionError: HTTPConnectionPool(host='clerk.house.gov', port=80): Max retries exceeded with url: /evs/2003/roll604.xml (Caused by NewConnectionError('<urllib3.connection.HTTPConnection object at 0x11fe45eb8>: Failed to establish a new connection: [Errno 60] Operation timed out',))\n"
     ]
    },
    {
     "name": "stdout",
     "output_type": "stream",
     "text": [
      "http://clerk.house.gov/evs/2003/roll603.xml\n"
     ]
    },
    {
     "name": "stderr",
     "output_type": "stream",
     "text": [
      "Traceback (most recent call last):\n",
      "  File \"//anaconda/lib/python3.6/site-packages/urllib3/connection.py\", line 159, in _new_conn\n",
      "    (self._dns_host, self.port), self.timeout, **extra_kw)\n",
      "  File \"//anaconda/lib/python3.6/site-packages/urllib3/util/connection.py\", line 80, in create_connection\n",
      "    raise err\n",
      "  File \"//anaconda/lib/python3.6/site-packages/urllib3/util/connection.py\", line 70, in create_connection\n",
      "    sock.connect(sa)\n",
      "TimeoutError: [Errno 60] Operation timed out\n",
      "\n",
      "During handling of the above exception, another exception occurred:\n",
      "\n",
      "Traceback (most recent call last):\n",
      "  File \"//anaconda/lib/python3.6/site-packages/urllib3/connectionpool.py\", line 600, in urlopen\n",
      "    chunked=chunked)\n",
      "  File \"//anaconda/lib/python3.6/site-packages/urllib3/connectionpool.py\", line 354, in _make_request\n",
      "    conn.request(method, url, **httplib_request_kw)\n",
      "  File \"//anaconda/lib/python3.6/http/client.py\", line 1254, in request\n",
      "    self._send_request(method, url, body, headers, encode_chunked)\n",
      "  File \"//anaconda/lib/python3.6/http/client.py\", line 1300, in _send_request\n",
      "    self.endheaders(body, encode_chunked=encode_chunked)\n",
      "  File \"//anaconda/lib/python3.6/http/client.py\", line 1249, in endheaders\n",
      "    self._send_output(message_body, encode_chunked=encode_chunked)\n",
      "  File \"//anaconda/lib/python3.6/http/client.py\", line 1036, in _send_output\n",
      "    self.send(msg)\n",
      "  File \"//anaconda/lib/python3.6/http/client.py\", line 974, in send\n",
      "    self.connect()\n",
      "  File \"//anaconda/lib/python3.6/site-packages/urllib3/connection.py\", line 181, in connect\n",
      "    conn = self._new_conn()\n",
      "  File \"//anaconda/lib/python3.6/site-packages/urllib3/connection.py\", line 168, in _new_conn\n",
      "    self, \"Failed to establish a new connection: %s\" % e)\n",
      "urllib3.exceptions.NewConnectionError: <urllib3.connection.HTTPConnection object at 0x1201b65f8>: Failed to establish a new connection: [Errno 60] Operation timed out\n",
      "\n",
      "During handling of the above exception, another exception occurred:\n",
      "\n",
      "Traceback (most recent call last):\n",
      "  File \"//anaconda/lib/python3.6/site-packages/requests/adapters.py\", line 449, in send\n",
      "    timeout=timeout\n",
      "  File \"//anaconda/lib/python3.6/site-packages/urllib3/connectionpool.py\", line 638, in urlopen\n",
      "    _stacktrace=sys.exc_info()[2])\n",
      "  File \"//anaconda/lib/python3.6/site-packages/urllib3/util/retry.py\", line 399, in increment\n",
      "    raise MaxRetryError(_pool, url, error or ResponseError(cause))\n",
      "urllib3.exceptions.MaxRetryError: HTTPConnectionPool(host='clerk.house.gov', port=80): Max retries exceeded with url: /evs/2008/roll465.xml (Caused by NewConnectionError('<urllib3.connection.HTTPConnection object at 0x1201b65f8>: Failed to establish a new connection: [Errno 60] Operation timed out',))\n",
      "\n",
      "During handling of the above exception, another exception occurred:\n",
      "\n",
      "Traceback (most recent call last):\n",
      "  File \"<ipython-input-8-530adc215787>\", line 7, in house_rollcall_individual_parallel\n",
      "    obj.roll_call_single_to_psql(year, rollcall)\n",
      "  File \"/Users/benellis/Projects/congress/congress/etl/house_votes.py\", line 183, in roll_call_single_to_psql\n",
      "    df = self.roll_call_single(year, roll)\n",
      "  File \"/Users/benellis/Projects/congress/congress/etl/house_votes.py\", line 137, in roll_call_single\n",
      "    data = requests.get(url)\n",
      "  File \"//anaconda/lib/python3.6/site-packages/requests/api.py\", line 75, in get\n",
      "    return request('get', url, params=params, **kwargs)\n",
      "  File \"//anaconda/lib/python3.6/site-packages/requests/api.py\", line 60, in request\n",
      "    return session.request(method=method, url=url, **kwargs)\n",
      "  File \"//anaconda/lib/python3.6/site-packages/requests/sessions.py\", line 533, in request\n",
      "    resp = self.send(prep, **send_kwargs)\n",
      "  File \"//anaconda/lib/python3.6/site-packages/requests/sessions.py\", line 646, in send\n",
      "    r = adapter.send(request, **kwargs)\n",
      "  File \"//anaconda/lib/python3.6/site-packages/requests/adapters.py\", line 516, in send\n",
      "    raise ConnectionError(e, request=request)\n",
      "requests.exceptions.ConnectionError: HTTPConnectionPool(host='clerk.house.gov', port=80): Max retries exceeded with url: /evs/2008/roll465.xml (Caused by NewConnectionError('<urllib3.connection.HTTPConnection object at 0x1201b65f8>: Failed to establish a new connection: [Errno 60] Operation timed out',))\n"
     ]
    },
    {
     "name": "stdout",
     "output_type": "stream",
     "text": [
      "http://clerk.house.gov/evs/2008/roll464.xml\n"
     ]
    },
    {
     "name": "stderr",
     "output_type": "stream",
     "text": [
      "Traceback (most recent call last):\n",
      "  File \"//anaconda/lib/python3.6/site-packages/urllib3/connection.py\", line 159, in _new_conn\n",
      "    (self._dns_host, self.port), self.timeout, **extra_kw)\n",
      "  File \"//anaconda/lib/python3.6/site-packages/urllib3/util/connection.py\", line 80, in create_connection\n",
      "    raise err\n",
      "  File \"//anaconda/lib/python3.6/site-packages/urllib3/util/connection.py\", line 70, in create_connection\n",
      "    sock.connect(sa)\n",
      "TimeoutError: [Errno 60] Operation timed out\n",
      "\n",
      "During handling of the above exception, another exception occurred:\n",
      "\n",
      "Traceback (most recent call last):\n",
      "  File \"//anaconda/lib/python3.6/site-packages/urllib3/connectionpool.py\", line 600, in urlopen\n",
      "    chunked=chunked)\n",
      "  File \"//anaconda/lib/python3.6/site-packages/urllib3/connectionpool.py\", line 354, in _make_request\n",
      "    conn.request(method, url, **httplib_request_kw)\n",
      "  File \"//anaconda/lib/python3.6/http/client.py\", line 1254, in request\n",
      "    self._send_request(method, url, body, headers, encode_chunked)\n",
      "  File \"//anaconda/lib/python3.6/http/client.py\", line 1300, in _send_request\n",
      "    self.endheaders(body, encode_chunked=encode_chunked)\n",
      "  File \"//anaconda/lib/python3.6/http/client.py\", line 1249, in endheaders\n",
      "    self._send_output(message_body, encode_chunked=encode_chunked)\n",
      "  File \"//anaconda/lib/python3.6/http/client.py\", line 1036, in _send_output\n",
      "    self.send(msg)\n",
      "  File \"//anaconda/lib/python3.6/http/client.py\", line 974, in send\n",
      "    self.connect()\n",
      "  File \"//anaconda/lib/python3.6/site-packages/urllib3/connection.py\", line 181, in connect\n",
      "    conn = self._new_conn()\n",
      "  File \"//anaconda/lib/python3.6/site-packages/urllib3/connection.py\", line 168, in _new_conn\n",
      "    self, \"Failed to establish a new connection: %s\" % e)\n",
      "urllib3.exceptions.NewConnectionError: <urllib3.connection.HTTPConnection object at 0x11fbb38d0>: Failed to establish a new connection: [Errno 60] Operation timed out\n",
      "\n",
      "During handling of the above exception, another exception occurred:\n",
      "\n",
      "Traceback (most recent call last):\n",
      "  File \"//anaconda/lib/python3.6/site-packages/requests/adapters.py\", line 449, in send\n",
      "    timeout=timeout\n",
      "  File \"//anaconda/lib/python3.6/site-packages/urllib3/connectionpool.py\", line 638, in urlopen\n",
      "    _stacktrace=sys.exc_info()[2])\n",
      "  File \"//anaconda/lib/python3.6/site-packages/urllib3/util/retry.py\", line 399, in increment\n",
      "    raise MaxRetryError(_pool, url, error or ResponseError(cause))\n",
      "urllib3.exceptions.MaxRetryError: HTTPConnectionPool(host='clerk.house.gov', port=80): Max retries exceeded with url: /evs/2007/roll832.xml (Caused by NewConnectionError('<urllib3.connection.HTTPConnection object at 0x11fbb38d0>: Failed to establish a new connection: [Errno 60] Operation timed out',))\n",
      "\n",
      "During handling of the above exception, another exception occurred:\n",
      "\n",
      "Traceback (most recent call last):\n",
      "  File \"<ipython-input-8-530adc215787>\", line 7, in house_rollcall_individual_parallel\n",
      "    obj.roll_call_single_to_psql(year, rollcall)\n",
      "  File \"/Users/benellis/Projects/congress/congress/etl/house_votes.py\", line 183, in roll_call_single_to_psql\n",
      "    df = self.roll_call_single(year, roll)\n",
      "  File \"/Users/benellis/Projects/congress/congress/etl/house_votes.py\", line 137, in roll_call_single\n",
      "    data = requests.get(url)\n",
      "  File \"//anaconda/lib/python3.6/site-packages/requests/api.py\", line 75, in get\n",
      "    return request('get', url, params=params, **kwargs)\n",
      "  File \"//anaconda/lib/python3.6/site-packages/requests/api.py\", line 60, in request\n",
      "    return session.request(method=method, url=url, **kwargs)\n",
      "  File \"//anaconda/lib/python3.6/site-packages/requests/sessions.py\", line 533, in request\n",
      "    resp = self.send(prep, **send_kwargs)\n",
      "  File \"//anaconda/lib/python3.6/site-packages/requests/sessions.py\", line 646, in send\n",
      "    r = adapter.send(request, **kwargs)\n",
      "  File \"//anaconda/lib/python3.6/site-packages/requests/adapters.py\", line 516, in send\n",
      "    raise ConnectionError(e, request=request)\n",
      "requests.exceptions.ConnectionError: HTTPConnectionPool(host='clerk.house.gov', port=80): Max retries exceeded with url: /evs/2007/roll832.xml (Caused by NewConnectionError('<urllib3.connection.HTTPConnection object at 0x11fbb38d0>: Failed to establish a new connection: [Errno 60] Operation timed out',))\n"
     ]
    },
    {
     "name": "stdout",
     "output_type": "stream",
     "text": [
      "http://clerk.house.gov/evs/2007/roll831.xml\n",
      "http://clerk.house.gov/evs/2008/roll463.xml\n",
      "http://clerk.house.gov/evs/2003/roll602.xml\n",
      "http://clerk.house.gov/evs/2007/roll830.xml\n"
     ]
    },
    {
     "name": "stderr",
     "output_type": "stream",
     "text": [
      "Traceback (most recent call last):\n",
      "  File \"<ipython-input-8-530adc215787>\", line 7, in house_rollcall_individual_parallel\n",
      "    obj.roll_call_single_to_psql(year, rollcall)\n",
      "  File \"/Users/benellis/Projects/congress/congress/etl/house_votes.py\", line 183, in roll_call_single_to_psql\n",
      "    df = self.roll_call_single(year, roll)\n",
      "  File \"/Users/benellis/Projects/congress/congress/etl/house_votes.py\", line 142, in roll_call_single\n",
      "    chamber = soup.find('chamber').text\n",
      "AttributeError: 'NoneType' object has no attribute 'text'\n"
     ]
    },
    {
     "name": "stdout",
     "output_type": "stream",
     "text": [
      "http://clerk.house.gov/evs/2007/roll829.xml\n"
     ]
    },
    {
     "name": "stderr",
     "output_type": "stream",
     "text": [
      "Traceback (most recent call last):\n",
      "  File \"//anaconda/lib/python3.6/site-packages/urllib3/connection.py\", line 159, in _new_conn\n",
      "    (self._dns_host, self.port), self.timeout, **extra_kw)\n",
      "  File \"//anaconda/lib/python3.6/site-packages/urllib3/util/connection.py\", line 80, in create_connection\n",
      "    raise err\n",
      "  File \"//anaconda/lib/python3.6/site-packages/urllib3/util/connection.py\", line 70, in create_connection\n",
      "    sock.connect(sa)\n",
      "TimeoutError: [Errno 60] Operation timed out\n",
      "\n",
      "During handling of the above exception, another exception occurred:\n",
      "\n",
      "Traceback (most recent call last):\n",
      "  File \"//anaconda/lib/python3.6/site-packages/urllib3/connectionpool.py\", line 600, in urlopen\n",
      "    chunked=chunked)\n",
      "  File \"//anaconda/lib/python3.6/site-packages/urllib3/connectionpool.py\", line 354, in _make_request\n",
      "    conn.request(method, url, **httplib_request_kw)\n",
      "  File \"//anaconda/lib/python3.6/http/client.py\", line 1254, in request\n",
      "    self._send_request(method, url, body, headers, encode_chunked)\n",
      "  File \"//anaconda/lib/python3.6/http/client.py\", line 1300, in _send_request\n",
      "    self.endheaders(body, encode_chunked=encode_chunked)\n",
      "  File \"//anaconda/lib/python3.6/http/client.py\", line 1249, in endheaders\n",
      "    self._send_output(message_body, encode_chunked=encode_chunked)\n",
      "  File \"//anaconda/lib/python3.6/http/client.py\", line 1036, in _send_output\n",
      "    self.send(msg)\n",
      "  File \"//anaconda/lib/python3.6/http/client.py\", line 974, in send\n",
      "    self.connect()\n",
      "  File \"//anaconda/lib/python3.6/site-packages/urllib3/connection.py\", line 181, in connect\n",
      "    conn = self._new_conn()\n",
      "  File \"//anaconda/lib/python3.6/site-packages/urllib3/connection.py\", line 168, in _new_conn\n",
      "    self, \"Failed to establish a new connection: %s\" % e)\n",
      "urllib3.exceptions.NewConnectionError: <urllib3.connection.HTTPConnection object at 0x11fe81208>: Failed to establish a new connection: [Errno 60] Operation timed out\n",
      "\n",
      "During handling of the above exception, another exception occurred:\n",
      "\n",
      "Traceback (most recent call last):\n",
      "  File \"//anaconda/lib/python3.6/site-packages/requests/adapters.py\", line 449, in send\n",
      "    timeout=timeout\n",
      "  File \"//anaconda/lib/python3.6/site-packages/urllib3/connectionpool.py\", line 638, in urlopen\n",
      "    _stacktrace=sys.exc_info()[2])\n",
      "  File \"//anaconda/lib/python3.6/site-packages/urllib3/util/retry.py\", line 399, in increment\n",
      "    raise MaxRetryError(_pool, url, error or ResponseError(cause))\n",
      "urllib3.exceptions.MaxRetryError: HTTPConnectionPool(host='clerk.house.gov', port=80): Max retries exceeded with url: /evs/2005/roll643.xml (Caused by NewConnectionError('<urllib3.connection.HTTPConnection object at 0x11fe81208>: Failed to establish a new connection: [Errno 60] Operation timed out',))\n",
      "\n",
      "During handling of the above exception, another exception occurred:\n",
      "\n",
      "Traceback (most recent call last):\n",
      "  File \"<ipython-input-8-530adc215787>\", line 7, in house_rollcall_individual_parallel\n",
      "    obj.roll_call_single_to_psql(year, rollcall)\n",
      "  File \"/Users/benellis/Projects/congress/congress/etl/house_votes.py\", line 183, in roll_call_single_to_psql\n",
      "    df = self.roll_call_single(year, roll)\n",
      "  File \"/Users/benellis/Projects/congress/congress/etl/house_votes.py\", line 137, in roll_call_single\n",
      "    data = requests.get(url)\n",
      "  File \"//anaconda/lib/python3.6/site-packages/requests/api.py\", line 75, in get\n",
      "    return request('get', url, params=params, **kwargs)\n",
      "  File \"//anaconda/lib/python3.6/site-packages/requests/api.py\", line 60, in request\n",
      "    return session.request(method=method, url=url, **kwargs)\n",
      "  File \"//anaconda/lib/python3.6/site-packages/requests/sessions.py\", line 533, in request\n",
      "    resp = self.send(prep, **send_kwargs)\n",
      "  File \"//anaconda/lib/python3.6/site-packages/requests/sessions.py\", line 646, in send\n",
      "    r = adapter.send(request, **kwargs)\n",
      "  File \"//anaconda/lib/python3.6/site-packages/requests/adapters.py\", line 516, in send\n",
      "    raise ConnectionError(e, request=request)\n",
      "requests.exceptions.ConnectionError: HTTPConnectionPool(host='clerk.house.gov', port=80): Max retries exceeded with url: /evs/2005/roll643.xml (Caused by NewConnectionError('<urllib3.connection.HTTPConnection object at 0x11fe81208>: Failed to establish a new connection: [Errno 60] Operation timed out',))\n"
     ]
    },
    {
     "name": "stdout",
     "output_type": "stream",
     "text": [
      "http://clerk.house.gov/evs/2005/roll642.xml\n"
     ]
    },
    {
     "name": "stderr",
     "output_type": "stream",
     "text": [
      "Traceback (most recent call last):\n",
      "  File \"//anaconda/lib/python3.6/site-packages/urllib3/connection.py\", line 159, in _new_conn\n",
      "    (self._dns_host, self.port), self.timeout, **extra_kw)\n",
      "  File \"//anaconda/lib/python3.6/site-packages/urllib3/util/connection.py\", line 80, in create_connection\n",
      "    raise err\n",
      "  File \"//anaconda/lib/python3.6/site-packages/urllib3/util/connection.py\", line 70, in create_connection\n",
      "    sock.connect(sa)\n",
      "TimeoutError: [Errno 60] Operation timed out\n",
      "\n",
      "During handling of the above exception, another exception occurred:\n",
      "\n",
      "Traceback (most recent call last):\n",
      "  File \"//anaconda/lib/python3.6/site-packages/urllib3/connectionpool.py\", line 600, in urlopen\n",
      "    chunked=chunked)\n",
      "  File \"//anaconda/lib/python3.6/site-packages/urllib3/connectionpool.py\", line 354, in _make_request\n",
      "    conn.request(method, url, **httplib_request_kw)\n",
      "  File \"//anaconda/lib/python3.6/http/client.py\", line 1254, in request\n",
      "    self._send_request(method, url, body, headers, encode_chunked)\n",
      "  File \"//anaconda/lib/python3.6/http/client.py\", line 1300, in _send_request\n",
      "    self.endheaders(body, encode_chunked=encode_chunked)\n",
      "  File \"//anaconda/lib/python3.6/http/client.py\", line 1249, in endheaders\n",
      "    self._send_output(message_body, encode_chunked=encode_chunked)\n",
      "  File \"//anaconda/lib/python3.6/http/client.py\", line 1036, in _send_output\n",
      "    self.send(msg)\n",
      "  File \"//anaconda/lib/python3.6/http/client.py\", line 974, in send\n",
      "    self.connect()\n",
      "  File \"//anaconda/lib/python3.6/site-packages/urllib3/connection.py\", line 181, in connect\n",
      "    conn = self._new_conn()\n",
      "  File \"//anaconda/lib/python3.6/site-packages/urllib3/connection.py\", line 168, in _new_conn\n",
      "    self, \"Failed to establish a new connection: %s\" % e)\n",
      "urllib3.exceptions.NewConnectionError: <urllib3.connection.HTTPConnection object at 0x11fbd4978>: Failed to establish a new connection: [Errno 60] Operation timed out\n",
      "\n",
      "During handling of the above exception, another exception occurred:\n",
      "\n",
      "Traceback (most recent call last):\n",
      "  File \"//anaconda/lib/python3.6/site-packages/requests/adapters.py\", line 449, in send\n",
      "    timeout=timeout\n",
      "  File \"//anaconda/lib/python3.6/site-packages/urllib3/connectionpool.py\", line 638, in urlopen\n",
      "    _stacktrace=sys.exc_info()[2])\n",
      "  File \"//anaconda/lib/python3.6/site-packages/urllib3/util/retry.py\", line 399, in increment\n",
      "    raise MaxRetryError(_pool, url, error or ResponseError(cause))\n",
      "urllib3.exceptions.MaxRetryError: HTTPConnectionPool(host='clerk.house.gov', port=80): Max retries exceeded with url: /evs/2008/roll463.xml (Caused by NewConnectionError('<urllib3.connection.HTTPConnection object at 0x11fbd4978>: Failed to establish a new connection: [Errno 60] Operation timed out',))\n",
      "\n",
      "During handling of the above exception, another exception occurred:\n",
      "\n",
      "Traceback (most recent call last):\n",
      "  File \"<ipython-input-8-530adc215787>\", line 7, in house_rollcall_individual_parallel\n",
      "    obj.roll_call_single_to_psql(year, rollcall)\n",
      "  File \"/Users/benellis/Projects/congress/congress/etl/house_votes.py\", line 183, in roll_call_single_to_psql\n",
      "    df = self.roll_call_single(year, roll)\n",
      "  File \"/Users/benellis/Projects/congress/congress/etl/house_votes.py\", line 137, in roll_call_single\n",
      "    data = requests.get(url)\n",
      "  File \"//anaconda/lib/python3.6/site-packages/requests/api.py\", line 75, in get\n",
      "    return request('get', url, params=params, **kwargs)\n",
      "  File \"//anaconda/lib/python3.6/site-packages/requests/api.py\", line 60, in request\n",
      "    return session.request(method=method, url=url, **kwargs)\n",
      "  File \"//anaconda/lib/python3.6/site-packages/requests/sessions.py\", line 533, in request\n",
      "    resp = self.send(prep, **send_kwargs)\n",
      "  File \"//anaconda/lib/python3.6/site-packages/requests/sessions.py\", line 646, in send\n",
      "    r = adapter.send(request, **kwargs)\n",
      "  File \"//anaconda/lib/python3.6/site-packages/requests/adapters.py\", line 516, in send\n",
      "    raise ConnectionError(e, request=request)\n",
      "requests.exceptions.ConnectionError: HTTPConnectionPool(host='clerk.house.gov', port=80): Max retries exceeded with url: /evs/2008/roll463.xml (Caused by NewConnectionError('<urllib3.connection.HTTPConnection object at 0x11fbd4978>: Failed to establish a new connection: [Errno 60] Operation timed out',))\n"
     ]
    },
    {
     "name": "stdout",
     "output_type": "stream",
     "text": [
      "http://clerk.house.gov/evs/2008/roll462.xml\n"
     ]
    },
    {
     "name": "stderr",
     "output_type": "stream",
     "text": [
      "Traceback (most recent call last):\n",
      "  File \"//anaconda/lib/python3.6/site-packages/urllib3/connection.py\", line 159, in _new_conn\n",
      "    (self._dns_host, self.port), self.timeout, **extra_kw)\n",
      "  File \"//anaconda/lib/python3.6/site-packages/urllib3/util/connection.py\", line 80, in create_connection\n",
      "    raise err\n",
      "  File \"//anaconda/lib/python3.6/site-packages/urllib3/util/connection.py\", line 70, in create_connection\n",
      "    sock.connect(sa)\n",
      "TimeoutError: [Errno 60] Operation timed out\n",
      "\n",
      "During handling of the above exception, another exception occurred:\n",
      "\n",
      "Traceback (most recent call last):\n",
      "  File \"//anaconda/lib/python3.6/site-packages/urllib3/connectionpool.py\", line 600, in urlopen\n",
      "    chunked=chunked)\n",
      "  File \"//anaconda/lib/python3.6/site-packages/urllib3/connectionpool.py\", line 354, in _make_request\n",
      "    conn.request(method, url, **httplib_request_kw)\n",
      "  File \"//anaconda/lib/python3.6/http/client.py\", line 1254, in request\n",
      "    self._send_request(method, url, body, headers, encode_chunked)\n",
      "  File \"//anaconda/lib/python3.6/http/client.py\", line 1300, in _send_request\n",
      "    self.endheaders(body, encode_chunked=encode_chunked)\n",
      "  File \"//anaconda/lib/python3.6/http/client.py\", line 1249, in endheaders\n",
      "    self._send_output(message_body, encode_chunked=encode_chunked)\n",
      "  File \"//anaconda/lib/python3.6/http/client.py\", line 1036, in _send_output\n",
      "    self.send(msg)\n",
      "  File \"//anaconda/lib/python3.6/http/client.py\", line 974, in send\n",
      "    self.connect()\n",
      "  File \"//anaconda/lib/python3.6/site-packages/urllib3/connection.py\", line 181, in connect\n",
      "    conn = self._new_conn()\n",
      "  File \"//anaconda/lib/python3.6/site-packages/urllib3/connection.py\", line 168, in _new_conn\n",
      "    self, \"Failed to establish a new connection: %s\" % e)\n",
      "urllib3.exceptions.NewConnectionError: <urllib3.connection.HTTPConnection object at 0x1202b4e80>: Failed to establish a new connection: [Errno 60] Operation timed out\n",
      "\n",
      "During handling of the above exception, another exception occurred:\n",
      "\n",
      "Traceback (most recent call last):\n",
      "  File \"//anaconda/lib/python3.6/site-packages/requests/adapters.py\", line 449, in send\n",
      "    timeout=timeout\n",
      "  File \"//anaconda/lib/python3.6/site-packages/urllib3/connectionpool.py\", line 638, in urlopen\n",
      "    _stacktrace=sys.exc_info()[2])\n",
      "  File \"//anaconda/lib/python3.6/site-packages/urllib3/util/retry.py\", line 399, in increment\n",
      "    raise MaxRetryError(_pool, url, error or ResponseError(cause))\n",
      "urllib3.exceptions.MaxRetryError: HTTPConnectionPool(host='clerk.house.gov', port=80): Max retries exceeded with url: /evs/2003/roll602.xml (Caused by NewConnectionError('<urllib3.connection.HTTPConnection object at 0x1202b4e80>: Failed to establish a new connection: [Errno 60] Operation timed out',))\n",
      "\n",
      "During handling of the above exception, another exception occurred:\n",
      "\n",
      "Traceback (most recent call last):\n",
      "  File \"<ipython-input-8-530adc215787>\", line 7, in house_rollcall_individual_parallel\n",
      "    obj.roll_call_single_to_psql(year, rollcall)\n",
      "  File \"/Users/benellis/Projects/congress/congress/etl/house_votes.py\", line 183, in roll_call_single_to_psql\n",
      "    df = self.roll_call_single(year, roll)\n",
      "  File \"/Users/benellis/Projects/congress/congress/etl/house_votes.py\", line 137, in roll_call_single\n",
      "    data = requests.get(url)\n",
      "  File \"//anaconda/lib/python3.6/site-packages/requests/api.py\", line 75, in get\n",
      "    return request('get', url, params=params, **kwargs)\n",
      "  File \"//anaconda/lib/python3.6/site-packages/requests/api.py\", line 60, in request\n",
      "    return session.request(method=method, url=url, **kwargs)\n",
      "  File \"//anaconda/lib/python3.6/site-packages/requests/sessions.py\", line 533, in request\n",
      "    resp = self.send(prep, **send_kwargs)\n",
      "  File \"//anaconda/lib/python3.6/site-packages/requests/sessions.py\", line 646, in send\n",
      "    r = adapter.send(request, **kwargs)\n",
      "  File \"//anaconda/lib/python3.6/site-packages/requests/adapters.py\", line 516, in send\n",
      "    raise ConnectionError(e, request=request)\n",
      "requests.exceptions.ConnectionError: HTTPConnectionPool(host='clerk.house.gov', port=80): Max retries exceeded with url: /evs/2003/roll602.xml (Caused by NewConnectionError('<urllib3.connection.HTTPConnection object at 0x1202b4e80>: Failed to establish a new connection: [Errno 60] Operation timed out',))\n"
     ]
    },
    {
     "name": "stdout",
     "output_type": "stream",
     "text": [
      "http://clerk.house.gov/evs/2003/roll601.xml\n"
     ]
    },
    {
     "name": "stderr",
     "output_type": "stream",
     "text": [
      "Traceback (most recent call last):\n",
      "  File \"//anaconda/lib/python3.6/site-packages/urllib3/connection.py\", line 159, in _new_conn\n",
      "    (self._dns_host, self.port), self.timeout, **extra_kw)\n",
      "  File \"//anaconda/lib/python3.6/site-packages/urllib3/util/connection.py\", line 80, in create_connection\n",
      "    raise err\n",
      "  File \"//anaconda/lib/python3.6/site-packages/urllib3/util/connection.py\", line 70, in create_connection\n",
      "    sock.connect(sa)\n",
      "TimeoutError: [Errno 60] Operation timed out\n",
      "\n",
      "During handling of the above exception, another exception occurred:\n",
      "\n",
      "Traceback (most recent call last):\n",
      "  File \"//anaconda/lib/python3.6/site-packages/urllib3/connectionpool.py\", line 600, in urlopen\n",
      "    chunked=chunked)\n",
      "  File \"//anaconda/lib/python3.6/site-packages/urllib3/connectionpool.py\", line 354, in _make_request\n",
      "    conn.request(method, url, **httplib_request_kw)\n",
      "  File \"//anaconda/lib/python3.6/http/client.py\", line 1254, in request\n",
      "    self._send_request(method, url, body, headers, encode_chunked)\n",
      "  File \"//anaconda/lib/python3.6/http/client.py\", line 1300, in _send_request\n",
      "    self.endheaders(body, encode_chunked=encode_chunked)\n",
      "  File \"//anaconda/lib/python3.6/http/client.py\", line 1249, in endheaders\n",
      "    self._send_output(message_body, encode_chunked=encode_chunked)\n",
      "  File \"//anaconda/lib/python3.6/http/client.py\", line 1036, in _send_output\n",
      "    self.send(msg)\n",
      "  File \"//anaconda/lib/python3.6/http/client.py\", line 974, in send\n",
      "    self.connect()\n",
      "  File \"//anaconda/lib/python3.6/site-packages/urllib3/connection.py\", line 181, in connect\n",
      "    conn = self._new_conn()\n",
      "  File \"//anaconda/lib/python3.6/site-packages/urllib3/connection.py\", line 168, in _new_conn\n",
      "    self, \"Failed to establish a new connection: %s\" % e)\n",
      "urllib3.exceptions.NewConnectionError: <urllib3.connection.HTTPConnection object at 0x11fbb5518>: Failed to establish a new connection: [Errno 60] Operation timed out\n",
      "\n",
      "During handling of the above exception, another exception occurred:\n",
      "\n",
      "Traceback (most recent call last):\n",
      "  File \"//anaconda/lib/python3.6/site-packages/requests/adapters.py\", line 449, in send\n",
      "    timeout=timeout\n",
      "  File \"//anaconda/lib/python3.6/site-packages/urllib3/connectionpool.py\", line 638, in urlopen\n",
      "    _stacktrace=sys.exc_info()[2])\n",
      "  File \"//anaconda/lib/python3.6/site-packages/urllib3/util/retry.py\", line 399, in increment\n",
      "    raise MaxRetryError(_pool, url, error or ResponseError(cause))\n",
      "urllib3.exceptions.MaxRetryError: HTTPConnectionPool(host='clerk.house.gov', port=80): Max retries exceeded with url: /evs/2007/roll829.xml (Caused by NewConnectionError('<urllib3.connection.HTTPConnection object at 0x11fbb5518>: Failed to establish a new connection: [Errno 60] Operation timed out',))\n",
      "\n",
      "During handling of the above exception, another exception occurred:\n",
      "\n",
      "Traceback (most recent call last):\n",
      "  File \"<ipython-input-8-530adc215787>\", line 7, in house_rollcall_individual_parallel\n",
      "    obj.roll_call_single_to_psql(year, rollcall)\n",
      "  File \"/Users/benellis/Projects/congress/congress/etl/house_votes.py\", line 183, in roll_call_single_to_psql\n",
      "    df = self.roll_call_single(year, roll)\n",
      "  File \"/Users/benellis/Projects/congress/congress/etl/house_votes.py\", line 137, in roll_call_single\n",
      "    data = requests.get(url)\n",
      "  File \"//anaconda/lib/python3.6/site-packages/requests/api.py\", line 75, in get\n",
      "    return request('get', url, params=params, **kwargs)\n",
      "  File \"//anaconda/lib/python3.6/site-packages/requests/api.py\", line 60, in request\n",
      "    return session.request(method=method, url=url, **kwargs)\n",
      "  File \"//anaconda/lib/python3.6/site-packages/requests/sessions.py\", line 533, in request\n",
      "    resp = self.send(prep, **send_kwargs)\n",
      "  File \"//anaconda/lib/python3.6/site-packages/requests/sessions.py\", line 646, in send\n",
      "    r = adapter.send(request, **kwargs)\n",
      "  File \"//anaconda/lib/python3.6/site-packages/requests/adapters.py\", line 516, in send\n",
      "    raise ConnectionError(e, request=request)\n",
      "requests.exceptions.ConnectionError: HTTPConnectionPool(host='clerk.house.gov', port=80): Max retries exceeded with url: /evs/2007/roll829.xml (Caused by NewConnectionError('<urllib3.connection.HTTPConnection object at 0x11fbb5518>: Failed to establish a new connection: [Errno 60] Operation timed out',))\n"
     ]
    },
    {
     "name": "stdout",
     "output_type": "stream",
     "text": [
      "http://clerk.house.gov/evs/2007/roll828.xml\n"
     ]
    },
    {
     "name": "stderr",
     "output_type": "stream",
     "text": [
      "Traceback (most recent call last):\n",
      "  File \"<ipython-input-8-530adc215787>\", line 7, in house_rollcall_individual_parallel\n",
      "    obj.roll_call_single_to_psql(year, rollcall)\n",
      "  File \"/Users/benellis/Projects/congress/congress/etl/house_votes.py\", line 183, in roll_call_single_to_psql\n",
      "    df = self.roll_call_single(year, roll)\n",
      "  File \"/Users/benellis/Projects/congress/congress/etl/house_votes.py\", line 142, in roll_call_single\n",
      "    chamber = soup.find('chamber').text\n",
      "AttributeError: 'NoneType' object has no attribute 'text'\n"
     ]
    },
    {
     "name": "stdout",
     "output_type": "stream",
     "text": [
      "http://clerk.house.gov/evs/2007/roll827.xml\n",
      "http://clerk.house.gov/evs/2005/roll641.xml\n"
     ]
    },
    {
     "name": "stderr",
     "output_type": "stream",
     "text": [
      "Traceback (most recent call last):\n",
      "  File \"<ipython-input-8-530adc215787>\", line 7, in house_rollcall_individual_parallel\n",
      "    obj.roll_call_single_to_psql(year, rollcall)\n",
      "  File \"/Users/benellis/Projects/congress/congress/etl/house_votes.py\", line 183, in roll_call_single_to_psql\n",
      "    df = self.roll_call_single(year, roll)\n",
      "  File \"/Users/benellis/Projects/congress/congress/etl/house_votes.py\", line 142, in roll_call_single\n",
      "    chamber = soup.find('chamber').text\n",
      "AttributeError: 'NoneType' object has no attribute 'text'\n"
     ]
    },
    {
     "name": "stdout",
     "output_type": "stream",
     "text": [
      "http://clerk.house.gov/evs/2007/roll826.xml\n",
      "http://clerk.house.gov/evs/2003/roll600.xml\n",
      "http://clerk.house.gov/evs/2007/roll825.xml\n",
      "http://clerk.house.gov/evs/2007/roll822.xml\n",
      "http://clerk.house.gov/evs/2007/roll821.xml\n",
      "http://clerk.house.gov/evs/2007/roll819.xml\n"
     ]
    },
    {
     "name": "stderr",
     "output_type": "stream",
     "text": [
      "Traceback (most recent call last):\n",
      "  File \"//anaconda/lib/python3.6/site-packages/urllib3/connection.py\", line 159, in _new_conn\n",
      "    (self._dns_host, self.port), self.timeout, **extra_kw)\n",
      "  File \"//anaconda/lib/python3.6/site-packages/urllib3/util/connection.py\", line 80, in create_connection\n",
      "    raise err\n",
      "  File \"//anaconda/lib/python3.6/site-packages/urllib3/util/connection.py\", line 70, in create_connection\n",
      "    sock.connect(sa)\n",
      "TimeoutError: [Errno 60] Operation timed out\n",
      "\n",
      "During handling of the above exception, another exception occurred:\n",
      "\n",
      "Traceback (most recent call last):\n",
      "  File \"//anaconda/lib/python3.6/site-packages/urllib3/connectionpool.py\", line 600, in urlopen\n",
      "    chunked=chunked)\n",
      "  File \"//anaconda/lib/python3.6/site-packages/urllib3/connectionpool.py\", line 354, in _make_request\n",
      "    conn.request(method, url, **httplib_request_kw)\n",
      "  File \"//anaconda/lib/python3.6/http/client.py\", line 1254, in request\n",
      "    self._send_request(method, url, body, headers, encode_chunked)\n",
      "  File \"//anaconda/lib/python3.6/http/client.py\", line 1300, in _send_request\n",
      "    self.endheaders(body, encode_chunked=encode_chunked)\n",
      "  File \"//anaconda/lib/python3.6/http/client.py\", line 1249, in endheaders\n",
      "    self._send_output(message_body, encode_chunked=encode_chunked)\n",
      "  File \"//anaconda/lib/python3.6/http/client.py\", line 1036, in _send_output\n",
      "    self.send(msg)\n",
      "  File \"//anaconda/lib/python3.6/http/client.py\", line 974, in send\n",
      "    self.connect()\n",
      "  File \"//anaconda/lib/python3.6/site-packages/urllib3/connection.py\", line 181, in connect\n",
      "    conn = self._new_conn()\n",
      "  File \"//anaconda/lib/python3.6/site-packages/urllib3/connection.py\", line 168, in _new_conn\n",
      "    self, \"Failed to establish a new connection: %s\" % e)\n",
      "urllib3.exceptions.NewConnectionError: <urllib3.connection.HTTPConnection object at 0x11fbd4940>: Failed to establish a new connection: [Errno 60] Operation timed out\n",
      "\n",
      "During handling of the above exception, another exception occurred:\n",
      "\n",
      "Traceback (most recent call last):\n",
      "  File \"//anaconda/lib/python3.6/site-packages/requests/adapters.py\", line 449, in send\n",
      "    timeout=timeout\n",
      "  File \"//anaconda/lib/python3.6/site-packages/urllib3/connectionpool.py\", line 638, in urlopen\n",
      "    _stacktrace=sys.exc_info()[2])\n",
      "  File \"//anaconda/lib/python3.6/site-packages/urllib3/util/retry.py\", line 399, in increment\n",
      "    raise MaxRetryError(_pool, url, error or ResponseError(cause))\n",
      "urllib3.exceptions.MaxRetryError: HTTPConnectionPool(host='clerk.house.gov', port=80): Max retries exceeded with url: /evs/2008/roll462.xml (Caused by NewConnectionError('<urllib3.connection.HTTPConnection object at 0x11fbd4940>: Failed to establish a new connection: [Errno 60] Operation timed out',))\n",
      "\n",
      "During handling of the above exception, another exception occurred:\n",
      "\n",
      "Traceback (most recent call last):\n",
      "  File \"<ipython-input-8-530adc215787>\", line 7, in house_rollcall_individual_parallel\n",
      "    obj.roll_call_single_to_psql(year, rollcall)\n",
      "  File \"/Users/benellis/Projects/congress/congress/etl/house_votes.py\", line 183, in roll_call_single_to_psql\n",
      "    df = self.roll_call_single(year, roll)\n",
      "  File \"/Users/benellis/Projects/congress/congress/etl/house_votes.py\", line 137, in roll_call_single\n",
      "    data = requests.get(url)\n",
      "  File \"//anaconda/lib/python3.6/site-packages/requests/api.py\", line 75, in get\n",
      "    return request('get', url, params=params, **kwargs)\n",
      "  File \"//anaconda/lib/python3.6/site-packages/requests/api.py\", line 60, in request\n",
      "    return session.request(method=method, url=url, **kwargs)\n",
      "  File \"//anaconda/lib/python3.6/site-packages/requests/sessions.py\", line 533, in request\n",
      "    resp = self.send(prep, **send_kwargs)\n",
      "  File \"//anaconda/lib/python3.6/site-packages/requests/sessions.py\", line 646, in send\n",
      "    r = adapter.send(request, **kwargs)\n",
      "  File \"//anaconda/lib/python3.6/site-packages/requests/adapters.py\", line 516, in send\n",
      "    raise ConnectionError(e, request=request)\n",
      "requests.exceptions.ConnectionError: HTTPConnectionPool(host='clerk.house.gov', port=80): Max retries exceeded with url: /evs/2008/roll462.xml (Caused by NewConnectionError('<urllib3.connection.HTTPConnection object at 0x11fbd4940>: Failed to establish a new connection: [Errno 60] Operation timed out',))\n"
     ]
    },
    {
     "name": "stdout",
     "output_type": "stream",
     "text": [
      "http://clerk.house.gov/evs/2008/roll461.xml\n",
      "http://clerk.house.gov/evs/2007/roll818.xml\n"
     ]
    },
    {
     "name": "stderr",
     "output_type": "stream",
     "text": [
      "Traceback (most recent call last):\n",
      "  File \"//anaconda/lib/python3.6/site-packages/urllib3/connection.py\", line 159, in _new_conn\n",
      "    (self._dns_host, self.port), self.timeout, **extra_kw)\n",
      "  File \"//anaconda/lib/python3.6/site-packages/urllib3/util/connection.py\", line 80, in create_connection\n",
      "    raise err\n",
      "  File \"//anaconda/lib/python3.6/site-packages/urllib3/util/connection.py\", line 70, in create_connection\n",
      "    sock.connect(sa)\n",
      "TimeoutError: [Errno 60] Operation timed out\n",
      "\n",
      "During handling of the above exception, another exception occurred:\n",
      "\n",
      "Traceback (most recent call last):\n",
      "  File \"//anaconda/lib/python3.6/site-packages/urllib3/connectionpool.py\", line 600, in urlopen\n",
      "    chunked=chunked)\n",
      "  File \"//anaconda/lib/python3.6/site-packages/urllib3/connectionpool.py\", line 354, in _make_request\n",
      "    conn.request(method, url, **httplib_request_kw)\n",
      "  File \"//anaconda/lib/python3.6/http/client.py\", line 1254, in request\n",
      "    self._send_request(method, url, body, headers, encode_chunked)\n",
      "  File \"//anaconda/lib/python3.6/http/client.py\", line 1300, in _send_request\n",
      "    self.endheaders(body, encode_chunked=encode_chunked)\n",
      "  File \"//anaconda/lib/python3.6/http/client.py\", line 1249, in endheaders\n",
      "    self._send_output(message_body, encode_chunked=encode_chunked)\n",
      "  File \"//anaconda/lib/python3.6/http/client.py\", line 1036, in _send_output\n",
      "    self.send(msg)\n",
      "  File \"//anaconda/lib/python3.6/http/client.py\", line 974, in send\n",
      "    self.connect()\n",
      "  File \"//anaconda/lib/python3.6/site-packages/urllib3/connection.py\", line 181, in connect\n",
      "    conn = self._new_conn()\n",
      "  File \"//anaconda/lib/python3.6/site-packages/urllib3/connection.py\", line 168, in _new_conn\n",
      "    self, \"Failed to establish a new connection: %s\" % e)\n",
      "urllib3.exceptions.NewConnectionError: <urllib3.connection.HTTPConnection object at 0x1203caa58>: Failed to establish a new connection: [Errno 60] Operation timed out\n",
      "\n",
      "During handling of the above exception, another exception occurred:\n",
      "\n",
      "Traceback (most recent call last):\n",
      "  File \"//anaconda/lib/python3.6/site-packages/requests/adapters.py\", line 449, in send\n",
      "    timeout=timeout\n",
      "  File \"//anaconda/lib/python3.6/site-packages/urllib3/connectionpool.py\", line 638, in urlopen\n",
      "    _stacktrace=sys.exc_info()[2])\n",
      "  File \"//anaconda/lib/python3.6/site-packages/urllib3/util/retry.py\", line 399, in increment\n",
      "    raise MaxRetryError(_pool, url, error or ResponseError(cause))\n",
      "urllib3.exceptions.MaxRetryError: HTTPConnectionPool(host='clerk.house.gov', port=80): Max retries exceeded with url: /evs/2005/roll641.xml (Caused by NewConnectionError('<urllib3.connection.HTTPConnection object at 0x1203caa58>: Failed to establish a new connection: [Errno 60] Operation timed out',))\n",
      "\n",
      "During handling of the above exception, another exception occurred:\n",
      "\n",
      "Traceback (most recent call last):\n",
      "  File \"<ipython-input-8-530adc215787>\", line 7, in house_rollcall_individual_parallel\n",
      "    obj.roll_call_single_to_psql(year, rollcall)\n",
      "  File \"/Users/benellis/Projects/congress/congress/etl/house_votes.py\", line 183, in roll_call_single_to_psql\n",
      "    df = self.roll_call_single(year, roll)\n",
      "  File \"/Users/benellis/Projects/congress/congress/etl/house_votes.py\", line 137, in roll_call_single\n",
      "    data = requests.get(url)\n",
      "  File \"//anaconda/lib/python3.6/site-packages/requests/api.py\", line 75, in get\n",
      "    return request('get', url, params=params, **kwargs)\n",
      "  File \"//anaconda/lib/python3.6/site-packages/requests/api.py\", line 60, in request\n",
      "    return session.request(method=method, url=url, **kwargs)\n",
      "  File \"//anaconda/lib/python3.6/site-packages/requests/sessions.py\", line 533, in request\n",
      "    resp = self.send(prep, **send_kwargs)\n",
      "  File \"//anaconda/lib/python3.6/site-packages/requests/sessions.py\", line 646, in send\n",
      "    r = adapter.send(request, **kwargs)\n",
      "  File \"//anaconda/lib/python3.6/site-packages/requests/adapters.py\", line 516, in send\n",
      "    raise ConnectionError(e, request=request)\n",
      "requests.exceptions.ConnectionError: HTTPConnectionPool(host='clerk.house.gov', port=80): Max retries exceeded with url: /evs/2005/roll641.xml (Caused by NewConnectionError('<urllib3.connection.HTTPConnection object at 0x1203caa58>: Failed to establish a new connection: [Errno 60] Operation timed out',))\n"
     ]
    },
    {
     "name": "stdout",
     "output_type": "stream",
     "text": [
      "http://clerk.house.gov/evs/2005/roll640.xml\n"
     ]
    },
    {
     "name": "stderr",
     "output_type": "stream",
     "text": [
      "Traceback (most recent call last):\n",
      "  File \"//anaconda/lib/python3.6/site-packages/urllib3/connection.py\", line 159, in _new_conn\n",
      "    (self._dns_host, self.port), self.timeout, **extra_kw)\n",
      "  File \"//anaconda/lib/python3.6/site-packages/urllib3/util/connection.py\", line 80, in create_connection\n",
      "    raise err\n",
      "  File \"//anaconda/lib/python3.6/site-packages/urllib3/util/connection.py\", line 70, in create_connection\n",
      "    sock.connect(sa)\n",
      "TimeoutError: [Errno 60] Operation timed out\n",
      "\n",
      "During handling of the above exception, another exception occurred:\n",
      "\n",
      "Traceback (most recent call last):\n",
      "  File \"//anaconda/lib/python3.6/site-packages/urllib3/connectionpool.py\", line 600, in urlopen\n",
      "    chunked=chunked)\n",
      "  File \"//anaconda/lib/python3.6/site-packages/urllib3/connectionpool.py\", line 354, in _make_request\n",
      "    conn.request(method, url, **httplib_request_kw)\n",
      "  File \"//anaconda/lib/python3.6/http/client.py\", line 1254, in request\n",
      "    self._send_request(method, url, body, headers, encode_chunked)\n",
      "  File \"//anaconda/lib/python3.6/http/client.py\", line 1300, in _send_request\n",
      "    self.endheaders(body, encode_chunked=encode_chunked)\n",
      "  File \"//anaconda/lib/python3.6/http/client.py\", line 1249, in endheaders\n",
      "    self._send_output(message_body, encode_chunked=encode_chunked)\n",
      "  File \"//anaconda/lib/python3.6/http/client.py\", line 1036, in _send_output\n",
      "    self.send(msg)\n",
      "  File \"//anaconda/lib/python3.6/http/client.py\", line 974, in send\n",
      "    self.connect()\n",
      "  File \"//anaconda/lib/python3.6/site-packages/urllib3/connection.py\", line 181, in connect\n",
      "    conn = self._new_conn()\n",
      "  File \"//anaconda/lib/python3.6/site-packages/urllib3/connection.py\", line 168, in _new_conn\n",
      "    self, \"Failed to establish a new connection: %s\" % e)\n",
      "urllib3.exceptions.NewConnectionError: <urllib3.connection.HTTPConnection object at 0x10c26c400>: Failed to establish a new connection: [Errno 60] Operation timed out\n",
      "\n",
      "During handling of the above exception, another exception occurred:\n",
      "\n",
      "Traceback (most recent call last):\n",
      "  File \"//anaconda/lib/python3.6/site-packages/requests/adapters.py\", line 449, in send\n",
      "    timeout=timeout\n",
      "  File \"//anaconda/lib/python3.6/site-packages/urllib3/connectionpool.py\", line 638, in urlopen\n",
      "    _stacktrace=sys.exc_info()[2])\n",
      "  File \"//anaconda/lib/python3.6/site-packages/urllib3/util/retry.py\", line 399, in increment\n",
      "    raise MaxRetryError(_pool, url, error or ResponseError(cause))\n",
      "urllib3.exceptions.MaxRetryError: HTTPConnectionPool(host='clerk.house.gov', port=80): Max retries exceeded with url: /evs/2003/roll600.xml (Caused by NewConnectionError('<urllib3.connection.HTTPConnection object at 0x10c26c400>: Failed to establish a new connection: [Errno 60] Operation timed out',))\n",
      "\n",
      "During handling of the above exception, another exception occurred:\n",
      "\n",
      "Traceback (most recent call last):\n",
      "  File \"<ipython-input-8-530adc215787>\", line 7, in house_rollcall_individual_parallel\n",
      "    obj.roll_call_single_to_psql(year, rollcall)\n",
      "  File \"/Users/benellis/Projects/congress/congress/etl/house_votes.py\", line 183, in roll_call_single_to_psql\n",
      "    df = self.roll_call_single(year, roll)\n",
      "  File \"/Users/benellis/Projects/congress/congress/etl/house_votes.py\", line 137, in roll_call_single\n",
      "    data = requests.get(url)\n",
      "  File \"//anaconda/lib/python3.6/site-packages/requests/api.py\", line 75, in get\n",
      "    return request('get', url, params=params, **kwargs)\n",
      "  File \"//anaconda/lib/python3.6/site-packages/requests/api.py\", line 60, in request\n",
      "    return session.request(method=method, url=url, **kwargs)\n",
      "  File \"//anaconda/lib/python3.6/site-packages/requests/sessions.py\", line 533, in request\n",
      "    resp = self.send(prep, **send_kwargs)\n",
      "  File \"//anaconda/lib/python3.6/site-packages/requests/sessions.py\", line 646, in send\n",
      "    r = adapter.send(request, **kwargs)\n",
      "  File \"//anaconda/lib/python3.6/site-packages/requests/adapters.py\", line 516, in send\n",
      "    raise ConnectionError(e, request=request)\n",
      "requests.exceptions.ConnectionError: HTTPConnectionPool(host='clerk.house.gov', port=80): Max retries exceeded with url: /evs/2003/roll600.xml (Caused by NewConnectionError('<urllib3.connection.HTTPConnection object at 0x10c26c400>: Failed to establish a new connection: [Errno 60] Operation timed out',))\n"
     ]
    },
    {
     "name": "stdout",
     "output_type": "stream",
     "text": [
      "http://clerk.house.gov/evs/2004/roll099.xml\n",
      "http://clerk.house.gov/evs/2008/roll460.xml\n",
      "http://clerk.house.gov/evs/2007/roll816.xml\n",
      "http://clerk.house.gov/evs/2005/roll639.xml\n",
      "http://clerk.house.gov/evs/2004/roll098.xml\n",
      "http://clerk.house.gov/evs/2007/roll815.xml\n",
      "http://clerk.house.gov/evs/2005/roll638.xml\n",
      "http://clerk.house.gov/evs/2004/roll097.xml\n",
      "http://clerk.house.gov/evs/2007/roll814.xml\n"
     ]
    },
    {
     "name": "stderr",
     "output_type": "stream",
     "text": [
      "Traceback (most recent call last):\n",
      "  File \"//anaconda/lib/python3.6/site-packages/urllib3/connection.py\", line 159, in _new_conn\n",
      "    (self._dns_host, self.port), self.timeout, **extra_kw)\n",
      "  File \"//anaconda/lib/python3.6/site-packages/urllib3/util/connection.py\", line 80, in create_connection\n",
      "    raise err\n",
      "  File \"//anaconda/lib/python3.6/site-packages/urllib3/util/connection.py\", line 70, in create_connection\n",
      "    sock.connect(sa)\n",
      "TimeoutError: [Errno 60] Operation timed out\n",
      "\n",
      "During handling of the above exception, another exception occurred:\n",
      "\n",
      "Traceback (most recent call last):\n",
      "  File \"//anaconda/lib/python3.6/site-packages/urllib3/connectionpool.py\", line 600, in urlopen\n",
      "    chunked=chunked)\n",
      "  File \"//anaconda/lib/python3.6/site-packages/urllib3/connectionpool.py\", line 354, in _make_request\n",
      "    conn.request(method, url, **httplib_request_kw)\n",
      "  File \"//anaconda/lib/python3.6/http/client.py\", line 1254, in request\n",
      "    self._send_request(method, url, body, headers, encode_chunked)\n",
      "  File \"//anaconda/lib/python3.6/http/client.py\", line 1300, in _send_request\n",
      "    self.endheaders(body, encode_chunked=encode_chunked)\n",
      "  File \"//anaconda/lib/python3.6/http/client.py\", line 1249, in endheaders\n",
      "    self._send_output(message_body, encode_chunked=encode_chunked)\n",
      "  File \"//anaconda/lib/python3.6/http/client.py\", line 1036, in _send_output\n",
      "    self.send(msg)\n",
      "  File \"//anaconda/lib/python3.6/http/client.py\", line 974, in send\n",
      "    self.connect()\n",
      "  File \"//anaconda/lib/python3.6/site-packages/urllib3/connection.py\", line 181, in connect\n",
      "    conn = self._new_conn()\n",
      "  File \"//anaconda/lib/python3.6/site-packages/urllib3/connection.py\", line 168, in _new_conn\n",
      "    self, \"Failed to establish a new connection: %s\" % e)\n",
      "urllib3.exceptions.NewConnectionError: <urllib3.connection.HTTPConnection object at 0x120558b00>: Failed to establish a new connection: [Errno 60] Operation timed out\n",
      "\n",
      "During handling of the above exception, another exception occurred:\n",
      "\n",
      "Traceback (most recent call last):\n",
      "  File \"//anaconda/lib/python3.6/site-packages/requests/adapters.py\", line 449, in send\n",
      "    timeout=timeout\n",
      "  File \"//anaconda/lib/python3.6/site-packages/urllib3/connectionpool.py\", line 638, in urlopen\n",
      "    _stacktrace=sys.exc_info()[2])\n",
      "  File \"//anaconda/lib/python3.6/site-packages/urllib3/util/retry.py\", line 399, in increment\n",
      "    raise MaxRetryError(_pool, url, error or ResponseError(cause))\n",
      "urllib3.exceptions.MaxRetryError: HTTPConnectionPool(host='clerk.house.gov', port=80): Max retries exceeded with url: /evs/2008/roll460.xml (Caused by NewConnectionError('<urllib3.connection.HTTPConnection object at 0x120558b00>: Failed to establish a new connection: [Errno 60] Operation timed out',))\n",
      "\n",
      "During handling of the above exception, another exception occurred:\n",
      "\n",
      "Traceback (most recent call last):\n",
      "  File \"<ipython-input-8-530adc215787>\", line 7, in house_rollcall_individual_parallel\n",
      "    obj.roll_call_single_to_psql(year, rollcall)\n",
      "  File \"/Users/benellis/Projects/congress/congress/etl/house_votes.py\", line 183, in roll_call_single_to_psql\n",
      "    df = self.roll_call_single(year, roll)\n",
      "  File \"/Users/benellis/Projects/congress/congress/etl/house_votes.py\", line 137, in roll_call_single\n",
      "    data = requests.get(url)\n",
      "  File \"//anaconda/lib/python3.6/site-packages/requests/api.py\", line 75, in get\n",
      "    return request('get', url, params=params, **kwargs)\n",
      "  File \"//anaconda/lib/python3.6/site-packages/requests/api.py\", line 60, in request\n",
      "    return session.request(method=method, url=url, **kwargs)\n",
      "  File \"//anaconda/lib/python3.6/site-packages/requests/sessions.py\", line 533, in request\n",
      "    resp = self.send(prep, **send_kwargs)\n",
      "  File \"//anaconda/lib/python3.6/site-packages/requests/sessions.py\", line 646, in send\n",
      "    r = adapter.send(request, **kwargs)\n",
      "  File \"//anaconda/lib/python3.6/site-packages/requests/adapters.py\", line 516, in send\n",
      "    raise ConnectionError(e, request=request)\n",
      "requests.exceptions.ConnectionError: HTTPConnectionPool(host='clerk.house.gov', port=80): Max retries exceeded with url: /evs/2008/roll460.xml (Caused by NewConnectionError('<urllib3.connection.HTTPConnection object at 0x120558b00>: Failed to establish a new connection: [Errno 60] Operation timed out',))\n"
     ]
    },
    {
     "name": "stdout",
     "output_type": "stream",
     "text": [
      "http://clerk.house.gov/evs/2008/roll459.xml\n",
      "http://clerk.house.gov/evs/2007/roll813.xml\n",
      "http://clerk.house.gov/evs/2008/roll458.xml\n"
     ]
    },
    {
     "name": "stderr",
     "output_type": "stream",
     "text": [
      "Traceback (most recent call last):\n",
      "  File \"//anaconda/lib/python3.6/site-packages/urllib3/connection.py\", line 159, in _new_conn\n",
      "    (self._dns_host, self.port), self.timeout, **extra_kw)\n",
      "  File \"//anaconda/lib/python3.6/site-packages/urllib3/util/connection.py\", line 80, in create_connection\n",
      "    raise err\n",
      "  File \"//anaconda/lib/python3.6/site-packages/urllib3/util/connection.py\", line 70, in create_connection\n",
      "    sock.connect(sa)\n",
      "TimeoutError: [Errno 60] Operation timed out\n",
      "\n",
      "During handling of the above exception, another exception occurred:\n",
      "\n",
      "Traceback (most recent call last):\n",
      "  File \"//anaconda/lib/python3.6/site-packages/urllib3/connectionpool.py\", line 600, in urlopen\n",
      "    chunked=chunked)\n",
      "  File \"//anaconda/lib/python3.6/site-packages/urllib3/connectionpool.py\", line 354, in _make_request\n",
      "    conn.request(method, url, **httplib_request_kw)\n",
      "  File \"//anaconda/lib/python3.6/http/client.py\", line 1254, in request\n",
      "    self._send_request(method, url, body, headers, encode_chunked)\n",
      "  File \"//anaconda/lib/python3.6/http/client.py\", line 1300, in _send_request\n",
      "    self.endheaders(body, encode_chunked=encode_chunked)\n",
      "  File \"//anaconda/lib/python3.6/http/client.py\", line 1249, in endheaders\n",
      "    self._send_output(message_body, encode_chunked=encode_chunked)\n",
      "  File \"//anaconda/lib/python3.6/http/client.py\", line 1036, in _send_output\n",
      "    self.send(msg)\n",
      "  File \"//anaconda/lib/python3.6/http/client.py\", line 974, in send\n",
      "    self.connect()\n",
      "  File \"//anaconda/lib/python3.6/site-packages/urllib3/connection.py\", line 181, in connect\n",
      "    conn = self._new_conn()\n",
      "  File \"//anaconda/lib/python3.6/site-packages/urllib3/connection.py\", line 168, in _new_conn\n",
      "    self, \"Failed to establish a new connection: %s\" % e)\n",
      "urllib3.exceptions.NewConnectionError: <urllib3.connection.HTTPConnection object at 0x11f68c6a0>: Failed to establish a new connection: [Errno 60] Operation timed out\n",
      "\n",
      "During handling of the above exception, another exception occurred:\n",
      "\n",
      "Traceback (most recent call last):\n",
      "  File \"//anaconda/lib/python3.6/site-packages/requests/adapters.py\", line 449, in send\n",
      "    timeout=timeout\n",
      "  File \"//anaconda/lib/python3.6/site-packages/urllib3/connectionpool.py\", line 638, in urlopen\n",
      "    _stacktrace=sys.exc_info()[2])\n",
      "  File \"//anaconda/lib/python3.6/site-packages/urllib3/util/retry.py\", line 399, in increment\n",
      "    raise MaxRetryError(_pool, url, error or ResponseError(cause))\n",
      "urllib3.exceptions.MaxRetryError: HTTPConnectionPool(host='clerk.house.gov', port=80): Max retries exceeded with url: /evs/2005/roll638.xml (Caused by NewConnectionError('<urllib3.connection.HTTPConnection object at 0x11f68c6a0>: Failed to establish a new connection: [Errno 60] Operation timed out',))\n",
      "\n",
      "During handling of the above exception, another exception occurred:\n",
      "\n",
      "Traceback (most recent call last):\n",
      "  File \"<ipython-input-8-530adc215787>\", line 7, in house_rollcall_individual_parallel\n",
      "    obj.roll_call_single_to_psql(year, rollcall)\n",
      "  File \"/Users/benellis/Projects/congress/congress/etl/house_votes.py\", line 183, in roll_call_single_to_psql\n",
      "    df = self.roll_call_single(year, roll)\n",
      "  File \"/Users/benellis/Projects/congress/congress/etl/house_votes.py\", line 137, in roll_call_single\n",
      "    data = requests.get(url)\n",
      "  File \"//anaconda/lib/python3.6/site-packages/requests/api.py\", line 75, in get\n",
      "    return request('get', url, params=params, **kwargs)\n",
      "  File \"//anaconda/lib/python3.6/site-packages/requests/api.py\", line 60, in request\n",
      "    return session.request(method=method, url=url, **kwargs)\n",
      "  File \"//anaconda/lib/python3.6/site-packages/requests/sessions.py\", line 533, in request\n",
      "    resp = self.send(prep, **send_kwargs)\n",
      "  File \"//anaconda/lib/python3.6/site-packages/requests/sessions.py\", line 646, in send\n",
      "    r = adapter.send(request, **kwargs)\n",
      "  File \"//anaconda/lib/python3.6/site-packages/requests/adapters.py\", line 516, in send\n",
      "    raise ConnectionError(e, request=request)\n",
      "requests.exceptions.ConnectionError: HTTPConnectionPool(host='clerk.house.gov', port=80): Max retries exceeded with url: /evs/2005/roll638.xml (Caused by NewConnectionError('<urllib3.connection.HTTPConnection object at 0x11f68c6a0>: Failed to establish a new connection: [Errno 60] Operation timed out',))\n"
     ]
    },
    {
     "name": "stdout",
     "output_type": "stream",
     "text": [
      "http://clerk.house.gov/evs/2005/roll637.xml\n"
     ]
    },
    {
     "name": "stderr",
     "output_type": "stream",
     "text": [
      "Traceback (most recent call last):\n",
      "  File \"//anaconda/lib/python3.6/site-packages/urllib3/connection.py\", line 159, in _new_conn\n",
      "    (self._dns_host, self.port), self.timeout, **extra_kw)\n",
      "  File \"//anaconda/lib/python3.6/site-packages/urllib3/util/connection.py\", line 80, in create_connection\n",
      "    raise err\n",
      "  File \"//anaconda/lib/python3.6/site-packages/urllib3/util/connection.py\", line 70, in create_connection\n",
      "    sock.connect(sa)\n",
      "TimeoutError: [Errno 60] Operation timed out\n",
      "\n",
      "During handling of the above exception, another exception occurred:\n",
      "\n",
      "Traceback (most recent call last):\n",
      "  File \"//anaconda/lib/python3.6/site-packages/urllib3/connectionpool.py\", line 600, in urlopen\n",
      "    chunked=chunked)\n",
      "  File \"//anaconda/lib/python3.6/site-packages/urllib3/connectionpool.py\", line 354, in _make_request\n",
      "    conn.request(method, url, **httplib_request_kw)\n",
      "  File \"//anaconda/lib/python3.6/http/client.py\", line 1254, in request\n",
      "    self._send_request(method, url, body, headers, encode_chunked)\n",
      "  File \"//anaconda/lib/python3.6/http/client.py\", line 1300, in _send_request\n",
      "    self.endheaders(body, encode_chunked=encode_chunked)\n",
      "  File \"//anaconda/lib/python3.6/http/client.py\", line 1249, in endheaders\n",
      "    self._send_output(message_body, encode_chunked=encode_chunked)\n",
      "  File \"//anaconda/lib/python3.6/http/client.py\", line 1036, in _send_output\n",
      "    self.send(msg)\n",
      "  File \"//anaconda/lib/python3.6/http/client.py\", line 974, in send\n",
      "    self.connect()\n",
      "  File \"//anaconda/lib/python3.6/site-packages/urllib3/connection.py\", line 181, in connect\n",
      "    conn = self._new_conn()\n",
      "  File \"//anaconda/lib/python3.6/site-packages/urllib3/connection.py\", line 168, in _new_conn\n",
      "    self, \"Failed to establish a new connection: %s\" % e)\n",
      "urllib3.exceptions.NewConnectionError: <urllib3.connection.HTTPConnection object at 0x11eb9ac18>: Failed to establish a new connection: [Errno 60] Operation timed out\n",
      "\n",
      "During handling of the above exception, another exception occurred:\n",
      "\n",
      "Traceback (most recent call last):\n",
      "  File \"//anaconda/lib/python3.6/site-packages/requests/adapters.py\", line 449, in send\n",
      "    timeout=timeout\n",
      "  File \"//anaconda/lib/python3.6/site-packages/urllib3/connectionpool.py\", line 638, in urlopen\n",
      "    _stacktrace=sys.exc_info()[2])\n",
      "  File \"//anaconda/lib/python3.6/site-packages/urllib3/util/retry.py\", line 399, in increment\n",
      "    raise MaxRetryError(_pool, url, error or ResponseError(cause))\n",
      "urllib3.exceptions.MaxRetryError: HTTPConnectionPool(host='clerk.house.gov', port=80): Max retries exceeded with url: /evs/2004/roll097.xml (Caused by NewConnectionError('<urllib3.connection.HTTPConnection object at 0x11eb9ac18>: Failed to establish a new connection: [Errno 60] Operation timed out',))\n",
      "\n",
      "During handling of the above exception, another exception occurred:\n",
      "\n",
      "Traceback (most recent call last):\n",
      "  File \"<ipython-input-8-530adc215787>\", line 7, in house_rollcall_individual_parallel\n",
      "    obj.roll_call_single_to_psql(year, rollcall)\n",
      "  File \"/Users/benellis/Projects/congress/congress/etl/house_votes.py\", line 183, in roll_call_single_to_psql\n",
      "    df = self.roll_call_single(year, roll)\n",
      "  File \"/Users/benellis/Projects/congress/congress/etl/house_votes.py\", line 137, in roll_call_single\n",
      "    data = requests.get(url)\n",
      "  File \"//anaconda/lib/python3.6/site-packages/requests/api.py\", line 75, in get\n",
      "    return request('get', url, params=params, **kwargs)\n",
      "  File \"//anaconda/lib/python3.6/site-packages/requests/api.py\", line 60, in request\n",
      "    return session.request(method=method, url=url, **kwargs)\n",
      "  File \"//anaconda/lib/python3.6/site-packages/requests/sessions.py\", line 533, in request\n",
      "    resp = self.send(prep, **send_kwargs)\n",
      "  File \"//anaconda/lib/python3.6/site-packages/requests/sessions.py\", line 646, in send\n",
      "    r = adapter.send(request, **kwargs)\n",
      "  File \"//anaconda/lib/python3.6/site-packages/requests/adapters.py\", line 516, in send\n",
      "    raise ConnectionError(e, request=request)\n",
      "requests.exceptions.ConnectionError: HTTPConnectionPool(host='clerk.house.gov', port=80): Max retries exceeded with url: /evs/2004/roll097.xml (Caused by NewConnectionError('<urllib3.connection.HTTPConnection object at 0x11eb9ac18>: Failed to establish a new connection: [Errno 60] Operation timed out',))\n"
     ]
    },
    {
     "name": "stdout",
     "output_type": "stream",
     "text": [
      "http://clerk.house.gov/evs/2004/roll095.xml\n",
      "http://clerk.house.gov/evs/2005/roll636.xml\n",
      "http://clerk.house.gov/evs/2004/roll094.xml\n"
     ]
    },
    {
     "name": "stderr",
     "output_type": "stream",
     "text": [
      "Traceback (most recent call last):\n",
      "  File \"//anaconda/lib/python3.6/site-packages/urllib3/connection.py\", line 159, in _new_conn\n",
      "    (self._dns_host, self.port), self.timeout, **extra_kw)\n",
      "  File \"//anaconda/lib/python3.6/site-packages/urllib3/util/connection.py\", line 80, in create_connection\n",
      "    raise err\n",
      "  File \"//anaconda/lib/python3.6/site-packages/urllib3/util/connection.py\", line 70, in create_connection\n",
      "    sock.connect(sa)\n",
      "TimeoutError: [Errno 60] Operation timed out\n",
      "\n",
      "During handling of the above exception, another exception occurred:\n",
      "\n",
      "Traceback (most recent call last):\n",
      "  File \"//anaconda/lib/python3.6/site-packages/urllib3/connectionpool.py\", line 600, in urlopen\n",
      "    chunked=chunked)\n",
      "  File \"//anaconda/lib/python3.6/site-packages/urllib3/connectionpool.py\", line 354, in _make_request\n",
      "    conn.request(method, url, **httplib_request_kw)\n",
      "  File \"//anaconda/lib/python3.6/http/client.py\", line 1254, in request\n",
      "    self._send_request(method, url, body, headers, encode_chunked)\n",
      "  File \"//anaconda/lib/python3.6/http/client.py\", line 1300, in _send_request\n",
      "    self.endheaders(body, encode_chunked=encode_chunked)\n",
      "  File \"//anaconda/lib/python3.6/http/client.py\", line 1249, in endheaders\n",
      "    self._send_output(message_body, encode_chunked=encode_chunked)\n",
      "  File \"//anaconda/lib/python3.6/http/client.py\", line 1036, in _send_output\n",
      "    self.send(msg)\n",
      "  File \"//anaconda/lib/python3.6/http/client.py\", line 974, in send\n",
      "    self.connect()\n",
      "  File \"//anaconda/lib/python3.6/site-packages/urllib3/connection.py\", line 181, in connect\n",
      "    conn = self._new_conn()\n",
      "  File \"//anaconda/lib/python3.6/site-packages/urllib3/connection.py\", line 168, in _new_conn\n",
      "    self, \"Failed to establish a new connection: %s\" % e)\n",
      "urllib3.exceptions.NewConnectionError: <urllib3.connection.HTTPConnection object at 0x11fda9898>: Failed to establish a new connection: [Errno 60] Operation timed out\n",
      "\n",
      "During handling of the above exception, another exception occurred:\n",
      "\n",
      "Traceback (most recent call last):\n",
      "  File \"//anaconda/lib/python3.6/site-packages/requests/adapters.py\", line 449, in send\n",
      "    timeout=timeout\n",
      "  File \"//anaconda/lib/python3.6/site-packages/urllib3/connectionpool.py\", line 638, in urlopen\n",
      "    _stacktrace=sys.exc_info()[2])\n",
      "  File \"//anaconda/lib/python3.6/site-packages/urllib3/util/retry.py\", line 399, in increment\n",
      "    raise MaxRetryError(_pool, url, error or ResponseError(cause))\n",
      "urllib3.exceptions.MaxRetryError: HTTPConnectionPool(host='clerk.house.gov', port=80): Max retries exceeded with url: /evs/2007/roll813.xml (Caused by NewConnectionError('<urllib3.connection.HTTPConnection object at 0x11fda9898>: Failed to establish a new connection: [Errno 60] Operation timed out',))\n",
      "\n",
      "During handling of the above exception, another exception occurred:\n",
      "\n",
      "Traceback (most recent call last):\n",
      "  File \"<ipython-input-8-530adc215787>\", line 7, in house_rollcall_individual_parallel\n",
      "    obj.roll_call_single_to_psql(year, rollcall)\n",
      "  File \"/Users/benellis/Projects/congress/congress/etl/house_votes.py\", line 183, in roll_call_single_to_psql\n",
      "    df = self.roll_call_single(year, roll)\n",
      "  File \"/Users/benellis/Projects/congress/congress/etl/house_votes.py\", line 137, in roll_call_single\n",
      "    data = requests.get(url)\n",
      "  File \"//anaconda/lib/python3.6/site-packages/requests/api.py\", line 75, in get\n",
      "    return request('get', url, params=params, **kwargs)\n",
      "  File \"//anaconda/lib/python3.6/site-packages/requests/api.py\", line 60, in request\n",
      "    return session.request(method=method, url=url, **kwargs)\n",
      "  File \"//anaconda/lib/python3.6/site-packages/requests/sessions.py\", line 533, in request\n",
      "    resp = self.send(prep, **send_kwargs)\n",
      "  File \"//anaconda/lib/python3.6/site-packages/requests/sessions.py\", line 646, in send\n",
      "    r = adapter.send(request, **kwargs)\n",
      "  File \"//anaconda/lib/python3.6/site-packages/requests/adapters.py\", line 516, in send\n",
      "    raise ConnectionError(e, request=request)\n",
      "requests.exceptions.ConnectionError: HTTPConnectionPool(host='clerk.house.gov', port=80): Max retries exceeded with url: /evs/2007/roll813.xml (Caused by NewConnectionError('<urllib3.connection.HTTPConnection object at 0x11fda9898>: Failed to establish a new connection: [Errno 60] Operation timed out',))\n"
     ]
    },
    {
     "name": "stdout",
     "output_type": "stream",
     "text": [
      "http://clerk.house.gov/evs/2007/roll812.xml\n"
     ]
    },
    {
     "name": "stderr",
     "output_type": "stream",
     "text": [
      "Traceback (most recent call last):\n",
      "  File \"<ipython-input-8-530adc215787>\", line 7, in house_rollcall_individual_parallel\n",
      "    obj.roll_call_single_to_psql(year, rollcall)\n",
      "  File \"/Users/benellis/Projects/congress/congress/etl/house_votes.py\", line 183, in roll_call_single_to_psql\n",
      "    df = self.roll_call_single(year, roll)\n",
      "  File \"/Users/benellis/Projects/congress/congress/etl/house_votes.py\", line 142, in roll_call_single\n",
      "    chamber = soup.find('chamber').text\n",
      "AttributeError: 'NoneType' object has no attribute 'text'\n"
     ]
    },
    {
     "name": "stdout",
     "output_type": "stream",
     "text": [
      "http://clerk.house.gov/evs/2007/roll811.xml\n"
     ]
    },
    {
     "name": "stderr",
     "output_type": "stream",
     "text": [
      "Traceback (most recent call last):\n",
      "  File \"//anaconda/lib/python3.6/site-packages/urllib3/connection.py\", line 159, in _new_conn\n",
      "    (self._dns_host, self.port), self.timeout, **extra_kw)\n",
      "  File \"//anaconda/lib/python3.6/site-packages/urllib3/util/connection.py\", line 80, in create_connection\n",
      "    raise err\n",
      "  File \"//anaconda/lib/python3.6/site-packages/urllib3/util/connection.py\", line 70, in create_connection\n",
      "    sock.connect(sa)\n",
      "TimeoutError: [Errno 60] Operation timed out\n",
      "\n",
      "During handling of the above exception, another exception occurred:\n",
      "\n",
      "Traceback (most recent call last):\n",
      "  File \"//anaconda/lib/python3.6/site-packages/urllib3/connectionpool.py\", line 600, in urlopen\n",
      "    chunked=chunked)\n",
      "  File \"//anaconda/lib/python3.6/site-packages/urllib3/connectionpool.py\", line 354, in _make_request\n",
      "    conn.request(method, url, **httplib_request_kw)\n",
      "  File \"//anaconda/lib/python3.6/http/client.py\", line 1254, in request\n",
      "    self._send_request(method, url, body, headers, encode_chunked)\n",
      "  File \"//anaconda/lib/python3.6/http/client.py\", line 1300, in _send_request\n",
      "    self.endheaders(body, encode_chunked=encode_chunked)\n",
      "  File \"//anaconda/lib/python3.6/http/client.py\", line 1249, in endheaders\n",
      "    self._send_output(message_body, encode_chunked=encode_chunked)\n",
      "  File \"//anaconda/lib/python3.6/http/client.py\", line 1036, in _send_output\n",
      "    self.send(msg)\n",
      "  File \"//anaconda/lib/python3.6/http/client.py\", line 974, in send\n",
      "    self.connect()\n",
      "  File \"//anaconda/lib/python3.6/site-packages/urllib3/connection.py\", line 181, in connect\n",
      "    conn = self._new_conn()\n",
      "  File \"//anaconda/lib/python3.6/site-packages/urllib3/connection.py\", line 168, in _new_conn\n",
      "    self, \"Failed to establish a new connection: %s\" % e)\n",
      "urllib3.exceptions.NewConnectionError: <urllib3.connection.HTTPConnection object at 0x11fcdfc50>: Failed to establish a new connection: [Errno 60] Operation timed out\n",
      "\n",
      "During handling of the above exception, another exception occurred:\n",
      "\n",
      "Traceback (most recent call last):\n",
      "  File \"//anaconda/lib/python3.6/site-packages/requests/adapters.py\", line 449, in send\n",
      "    timeout=timeout\n",
      "  File \"//anaconda/lib/python3.6/site-packages/urllib3/connectionpool.py\", line 638, in urlopen\n",
      "    _stacktrace=sys.exc_info()[2])\n",
      "  File \"//anaconda/lib/python3.6/site-packages/urllib3/util/retry.py\", line 399, in increment\n",
      "    raise MaxRetryError(_pool, url, error or ResponseError(cause))\n",
      "urllib3.exceptions.MaxRetryError: HTTPConnectionPool(host='clerk.house.gov', port=80): Max retries exceeded with url: /evs/2008/roll458.xml (Caused by NewConnectionError('<urllib3.connection.HTTPConnection object at 0x11fcdfc50>: Failed to establish a new connection: [Errno 60] Operation timed out',))\n",
      "\n",
      "During handling of the above exception, another exception occurred:\n",
      "\n",
      "Traceback (most recent call last):\n",
      "  File \"<ipython-input-8-530adc215787>\", line 7, in house_rollcall_individual_parallel\n",
      "    obj.roll_call_single_to_psql(year, rollcall)\n",
      "  File \"/Users/benellis/Projects/congress/congress/etl/house_votes.py\", line 183, in roll_call_single_to_psql\n",
      "    df = self.roll_call_single(year, roll)\n",
      "  File \"/Users/benellis/Projects/congress/congress/etl/house_votes.py\", line 137, in roll_call_single\n",
      "    data = requests.get(url)\n",
      "  File \"//anaconda/lib/python3.6/site-packages/requests/api.py\", line 75, in get\n",
      "    return request('get', url, params=params, **kwargs)\n",
      "  File \"//anaconda/lib/python3.6/site-packages/requests/api.py\", line 60, in request\n",
      "    return session.request(method=method, url=url, **kwargs)\n",
      "  File \"//anaconda/lib/python3.6/site-packages/requests/sessions.py\", line 533, in request\n",
      "    resp = self.send(prep, **send_kwargs)\n",
      "  File \"//anaconda/lib/python3.6/site-packages/requests/sessions.py\", line 646, in send\n",
      "    r = adapter.send(request, **kwargs)\n",
      "  File \"//anaconda/lib/python3.6/site-packages/requests/adapters.py\", line 516, in send\n",
      "    raise ConnectionError(e, request=request)\n",
      "requests.exceptions.ConnectionError: HTTPConnectionPool(host='clerk.house.gov', port=80): Max retries exceeded with url: /evs/2008/roll458.xml (Caused by NewConnectionError('<urllib3.connection.HTTPConnection object at 0x11fcdfc50>: Failed to establish a new connection: [Errno 60] Operation timed out',))\n"
     ]
    },
    {
     "name": "stdout",
     "output_type": "stream",
     "text": [
      "http://clerk.house.gov/evs/2008/roll457.xml\n"
     ]
    },
    {
     "name": "stderr",
     "output_type": "stream",
     "text": [
      "Traceback (most recent call last):\n",
      "  File \"<ipython-input-8-530adc215787>\", line 7, in house_rollcall_individual_parallel\n",
      "    obj.roll_call_single_to_psql(year, rollcall)\n",
      "  File \"/Users/benellis/Projects/congress/congress/etl/house_votes.py\", line 183, in roll_call_single_to_psql\n",
      "    df = self.roll_call_single(year, roll)\n",
      "  File \"/Users/benellis/Projects/congress/congress/etl/house_votes.py\", line 142, in roll_call_single\n",
      "    chamber = soup.find('chamber').text\n",
      "AttributeError: 'NoneType' object has no attribute 'text'\n"
     ]
    },
    {
     "name": "stdout",
     "output_type": "stream",
     "text": [
      "http://clerk.house.gov/evs/2007/roll810.xml\n",
      "http://clerk.house.gov/evs/2008/roll456.xml\n"
     ]
    },
    {
     "name": "stderr",
     "output_type": "stream",
     "text": [
      "Traceback (most recent call last):\n",
      "  File \"//anaconda/lib/python3.6/site-packages/urllib3/connection.py\", line 159, in _new_conn\n",
      "    (self._dns_host, self.port), self.timeout, **extra_kw)\n",
      "  File \"//anaconda/lib/python3.6/site-packages/urllib3/util/connection.py\", line 80, in create_connection\n",
      "    raise err\n",
      "  File \"//anaconda/lib/python3.6/site-packages/urllib3/util/connection.py\", line 70, in create_connection\n",
      "    sock.connect(sa)\n",
      "TimeoutError: [Errno 60] Operation timed out\n",
      "\n",
      "During handling of the above exception, another exception occurred:\n",
      "\n",
      "Traceback (most recent call last):\n",
      "  File \"//anaconda/lib/python3.6/site-packages/urllib3/connectionpool.py\", line 600, in urlopen\n",
      "    chunked=chunked)\n",
      "  File \"//anaconda/lib/python3.6/site-packages/urllib3/connectionpool.py\", line 354, in _make_request\n",
      "    conn.request(method, url, **httplib_request_kw)\n",
      "  File \"//anaconda/lib/python3.6/http/client.py\", line 1254, in request\n",
      "    self._send_request(method, url, body, headers, encode_chunked)\n",
      "  File \"//anaconda/lib/python3.6/http/client.py\", line 1300, in _send_request\n",
      "    self.endheaders(body, encode_chunked=encode_chunked)\n",
      "  File \"//anaconda/lib/python3.6/http/client.py\", line 1249, in endheaders\n",
      "    self._send_output(message_body, encode_chunked=encode_chunked)\n",
      "  File \"//anaconda/lib/python3.6/http/client.py\", line 1036, in _send_output\n",
      "    self.send(msg)\n",
      "  File \"//anaconda/lib/python3.6/http/client.py\", line 974, in send\n",
      "    self.connect()\n",
      "  File \"//anaconda/lib/python3.6/site-packages/urllib3/connection.py\", line 181, in connect\n",
      "    conn = self._new_conn()\n",
      "  File \"//anaconda/lib/python3.6/site-packages/urllib3/connection.py\", line 168, in _new_conn\n",
      "    self, \"Failed to establish a new connection: %s\" % e)\n",
      "urllib3.exceptions.NewConnectionError: <urllib3.connection.HTTPConnection object at 0x10b4c00f0>: Failed to establish a new connection: [Errno 60] Operation timed out\n",
      "\n",
      "During handling of the above exception, another exception occurred:\n",
      "\n",
      "Traceback (most recent call last):\n",
      "  File \"//anaconda/lib/python3.6/site-packages/requests/adapters.py\", line 449, in send\n",
      "    timeout=timeout\n",
      "  File \"//anaconda/lib/python3.6/site-packages/urllib3/connectionpool.py\", line 638, in urlopen\n",
      "    _stacktrace=sys.exc_info()[2])\n",
      "  File \"//anaconda/lib/python3.6/site-packages/urllib3/util/retry.py\", line 399, in increment\n",
      "    raise MaxRetryError(_pool, url, error or ResponseError(cause))\n",
      "urllib3.exceptions.MaxRetryError: HTTPConnectionPool(host='clerk.house.gov', port=80): Max retries exceeded with url: /evs/2005/roll636.xml (Caused by NewConnectionError('<urllib3.connection.HTTPConnection object at 0x10b4c00f0>: Failed to establish a new connection: [Errno 60] Operation timed out',))\n",
      "\n",
      "During handling of the above exception, another exception occurred:\n",
      "\n",
      "Traceback (most recent call last):\n",
      "  File \"<ipython-input-8-530adc215787>\", line 7, in house_rollcall_individual_parallel\n",
      "    obj.roll_call_single_to_psql(year, rollcall)\n",
      "  File \"/Users/benellis/Projects/congress/congress/etl/house_votes.py\", line 183, in roll_call_single_to_psql\n",
      "    df = self.roll_call_single(year, roll)\n",
      "  File \"/Users/benellis/Projects/congress/congress/etl/house_votes.py\", line 137, in roll_call_single\n",
      "    data = requests.get(url)\n",
      "  File \"//anaconda/lib/python3.6/site-packages/requests/api.py\", line 75, in get\n",
      "    return request('get', url, params=params, **kwargs)\n",
      "  File \"//anaconda/lib/python3.6/site-packages/requests/api.py\", line 60, in request\n",
      "    return session.request(method=method, url=url, **kwargs)\n",
      "  File \"//anaconda/lib/python3.6/site-packages/requests/sessions.py\", line 533, in request\n",
      "    resp = self.send(prep, **send_kwargs)\n",
      "  File \"//anaconda/lib/python3.6/site-packages/requests/sessions.py\", line 646, in send\n",
      "    r = adapter.send(request, **kwargs)\n",
      "  File \"//anaconda/lib/python3.6/site-packages/requests/adapters.py\", line 516, in send\n",
      "    raise ConnectionError(e, request=request)\n",
      "requests.exceptions.ConnectionError: HTTPConnectionPool(host='clerk.house.gov', port=80): Max retries exceeded with url: /evs/2005/roll636.xml (Caused by NewConnectionError('<urllib3.connection.HTTPConnection object at 0x10b4c00f0>: Failed to establish a new connection: [Errno 60] Operation timed out',))\n"
     ]
    },
    {
     "name": "stdout",
     "output_type": "stream",
     "text": [
      "http://clerk.house.gov/evs/2005/roll635.xml\n"
     ]
    },
    {
     "name": "stderr",
     "output_type": "stream",
     "text": [
      "Traceback (most recent call last):\n",
      "  File \"//anaconda/lib/python3.6/site-packages/urllib3/connection.py\", line 159, in _new_conn\n",
      "    (self._dns_host, self.port), self.timeout, **extra_kw)\n",
      "  File \"//anaconda/lib/python3.6/site-packages/urllib3/util/connection.py\", line 80, in create_connection\n",
      "    raise err\n",
      "  File \"//anaconda/lib/python3.6/site-packages/urllib3/util/connection.py\", line 70, in create_connection\n",
      "    sock.connect(sa)\n",
      "TimeoutError: [Errno 60] Operation timed out\n",
      "\n",
      "During handling of the above exception, another exception occurred:\n",
      "\n",
      "Traceback (most recent call last):\n",
      "  File \"//anaconda/lib/python3.6/site-packages/urllib3/connectionpool.py\", line 600, in urlopen\n",
      "    chunked=chunked)\n",
      "  File \"//anaconda/lib/python3.6/site-packages/urllib3/connectionpool.py\", line 354, in _make_request\n",
      "    conn.request(method, url, **httplib_request_kw)\n",
      "  File \"//anaconda/lib/python3.6/http/client.py\", line 1254, in request\n",
      "    self._send_request(method, url, body, headers, encode_chunked)\n",
      "  File \"//anaconda/lib/python3.6/http/client.py\", line 1300, in _send_request\n",
      "    self.endheaders(body, encode_chunked=encode_chunked)\n",
      "  File \"//anaconda/lib/python3.6/http/client.py\", line 1249, in endheaders\n",
      "    self._send_output(message_body, encode_chunked=encode_chunked)\n",
      "  File \"//anaconda/lib/python3.6/http/client.py\", line 1036, in _send_output\n",
      "    self.send(msg)\n",
      "  File \"//anaconda/lib/python3.6/http/client.py\", line 974, in send\n",
      "    self.connect()\n",
      "  File \"//anaconda/lib/python3.6/site-packages/urllib3/connection.py\", line 181, in connect\n",
      "    conn = self._new_conn()\n",
      "  File \"//anaconda/lib/python3.6/site-packages/urllib3/connection.py\", line 168, in _new_conn\n",
      "    self, \"Failed to establish a new connection: %s\" % e)\n",
      "urllib3.exceptions.NewConnectionError: <urllib3.connection.HTTPConnection object at 0x120178908>: Failed to establish a new connection: [Errno 60] Operation timed out\n",
      "\n",
      "During handling of the above exception, another exception occurred:\n",
      "\n",
      "Traceback (most recent call last):\n",
      "  File \"//anaconda/lib/python3.6/site-packages/requests/adapters.py\", line 449, in send\n",
      "    timeout=timeout\n",
      "  File \"//anaconda/lib/python3.6/site-packages/urllib3/connectionpool.py\", line 638, in urlopen\n",
      "    _stacktrace=sys.exc_info()[2])\n",
      "  File \"//anaconda/lib/python3.6/site-packages/urllib3/util/retry.py\", line 399, in increment\n",
      "    raise MaxRetryError(_pool, url, error or ResponseError(cause))\n",
      "urllib3.exceptions.MaxRetryError: HTTPConnectionPool(host='clerk.house.gov', port=80): Max retries exceeded with url: /evs/2004/roll094.xml (Caused by NewConnectionError('<urllib3.connection.HTTPConnection object at 0x120178908>: Failed to establish a new connection: [Errno 60] Operation timed out',))\n",
      "\n",
      "During handling of the above exception, another exception occurred:\n",
      "\n",
      "Traceback (most recent call last):\n",
      "  File \"<ipython-input-8-530adc215787>\", line 7, in house_rollcall_individual_parallel\n",
      "    obj.roll_call_single_to_psql(year, rollcall)\n",
      "  File \"/Users/benellis/Projects/congress/congress/etl/house_votes.py\", line 183, in roll_call_single_to_psql\n",
      "    df = self.roll_call_single(year, roll)\n",
      "  File \"/Users/benellis/Projects/congress/congress/etl/house_votes.py\", line 137, in roll_call_single\n",
      "    data = requests.get(url)\n",
      "  File \"//anaconda/lib/python3.6/site-packages/requests/api.py\", line 75, in get\n",
      "    return request('get', url, params=params, **kwargs)\n",
      "  File \"//anaconda/lib/python3.6/site-packages/requests/api.py\", line 60, in request\n",
      "    return session.request(method=method, url=url, **kwargs)\n",
      "  File \"//anaconda/lib/python3.6/site-packages/requests/sessions.py\", line 533, in request\n",
      "    resp = self.send(prep, **send_kwargs)\n",
      "  File \"//anaconda/lib/python3.6/site-packages/requests/sessions.py\", line 646, in send\n",
      "    r = adapter.send(request, **kwargs)\n",
      "  File \"//anaconda/lib/python3.6/site-packages/requests/adapters.py\", line 516, in send\n",
      "    raise ConnectionError(e, request=request)\n",
      "requests.exceptions.ConnectionError: HTTPConnectionPool(host='clerk.house.gov', port=80): Max retries exceeded with url: /evs/2004/roll094.xml (Caused by NewConnectionError('<urllib3.connection.HTTPConnection object at 0x120178908>: Failed to establish a new connection: [Errno 60] Operation timed out',))\n"
     ]
    },
    {
     "name": "stdout",
     "output_type": "stream",
     "text": [
      "http://clerk.house.gov/evs/2004/roll093.xml\n",
      "http://clerk.house.gov/evs/2008/roll455.xml\n",
      "http://clerk.house.gov/evs/2005/roll634.xml\n"
     ]
    },
    {
     "name": "stderr",
     "output_type": "stream",
     "text": [
      "Traceback (most recent call last):\n",
      "  File \"//anaconda/lib/python3.6/site-packages/urllib3/connection.py\", line 159, in _new_conn\n",
      "    (self._dns_host, self.port), self.timeout, **extra_kw)\n",
      "  File \"//anaconda/lib/python3.6/site-packages/urllib3/util/connection.py\", line 80, in create_connection\n",
      "    raise err\n",
      "  File \"//anaconda/lib/python3.6/site-packages/urllib3/util/connection.py\", line 70, in create_connection\n",
      "    sock.connect(sa)\n",
      "TimeoutError: [Errno 60] Operation timed out\n",
      "\n",
      "During handling of the above exception, another exception occurred:\n",
      "\n",
      "Traceback (most recent call last):\n",
      "  File \"//anaconda/lib/python3.6/site-packages/urllib3/connectionpool.py\", line 600, in urlopen\n",
      "    chunked=chunked)\n",
      "  File \"//anaconda/lib/python3.6/site-packages/urllib3/connectionpool.py\", line 354, in _make_request\n",
      "    conn.request(method, url, **httplib_request_kw)\n",
      "  File \"//anaconda/lib/python3.6/http/client.py\", line 1254, in request\n",
      "    self._send_request(method, url, body, headers, encode_chunked)\n",
      "  File \"//anaconda/lib/python3.6/http/client.py\", line 1300, in _send_request\n",
      "    self.endheaders(body, encode_chunked=encode_chunked)\n",
      "  File \"//anaconda/lib/python3.6/http/client.py\", line 1249, in endheaders\n",
      "    self._send_output(message_body, encode_chunked=encode_chunked)\n",
      "  File \"//anaconda/lib/python3.6/http/client.py\", line 1036, in _send_output\n",
      "    self.send(msg)\n",
      "  File \"//anaconda/lib/python3.6/http/client.py\", line 974, in send\n",
      "    self.connect()\n",
      "  File \"//anaconda/lib/python3.6/site-packages/urllib3/connection.py\", line 181, in connect\n",
      "    conn = self._new_conn()\n",
      "  File \"//anaconda/lib/python3.6/site-packages/urllib3/connection.py\", line 168, in _new_conn\n",
      "    self, \"Failed to establish a new connection: %s\" % e)\n",
      "urllib3.exceptions.NewConnectionError: <urllib3.connection.HTTPConnection object at 0x120022240>: Failed to establish a new connection: [Errno 60] Operation timed out\n",
      "\n",
      "During handling of the above exception, another exception occurred:\n",
      "\n",
      "Traceback (most recent call last):\n",
      "  File \"//anaconda/lib/python3.6/site-packages/requests/adapters.py\", line 449, in send\n",
      "    timeout=timeout\n",
      "  File \"//anaconda/lib/python3.6/site-packages/urllib3/connectionpool.py\", line 638, in urlopen\n",
      "    _stacktrace=sys.exc_info()[2])\n",
      "  File \"//anaconda/lib/python3.6/site-packages/urllib3/util/retry.py\", line 399, in increment\n",
      "    raise MaxRetryError(_pool, url, error or ResponseError(cause))\n",
      "urllib3.exceptions.MaxRetryError: HTTPConnectionPool(host='clerk.house.gov', port=80): Max retries exceeded with url: /evs/2007/roll810.xml (Caused by NewConnectionError('<urllib3.connection.HTTPConnection object at 0x120022240>: Failed to establish a new connection: [Errno 60] Operation timed out',))\n",
      "\n",
      "During handling of the above exception, another exception occurred:\n",
      "\n",
      "Traceback (most recent call last):\n",
      "  File \"<ipython-input-8-530adc215787>\", line 7, in house_rollcall_individual_parallel\n",
      "    obj.roll_call_single_to_psql(year, rollcall)\n",
      "  File \"/Users/benellis/Projects/congress/congress/etl/house_votes.py\", line 183, in roll_call_single_to_psql\n",
      "    df = self.roll_call_single(year, roll)\n",
      "  File \"/Users/benellis/Projects/congress/congress/etl/house_votes.py\", line 137, in roll_call_single\n",
      "    data = requests.get(url)\n",
      "  File \"//anaconda/lib/python3.6/site-packages/requests/api.py\", line 75, in get\n",
      "    return request('get', url, params=params, **kwargs)\n",
      "  File \"//anaconda/lib/python3.6/site-packages/requests/api.py\", line 60, in request\n",
      "    return session.request(method=method, url=url, **kwargs)\n",
      "  File \"//anaconda/lib/python3.6/site-packages/requests/sessions.py\", line 533, in request\n",
      "    resp = self.send(prep, **send_kwargs)\n",
      "  File \"//anaconda/lib/python3.6/site-packages/requests/sessions.py\", line 646, in send\n",
      "    r = adapter.send(request, **kwargs)\n",
      "  File \"//anaconda/lib/python3.6/site-packages/requests/adapters.py\", line 516, in send\n",
      "    raise ConnectionError(e, request=request)\n",
      "requests.exceptions.ConnectionError: HTTPConnectionPool(host='clerk.house.gov', port=80): Max retries exceeded with url: /evs/2007/roll810.xml (Caused by NewConnectionError('<urllib3.connection.HTTPConnection object at 0x120022240>: Failed to establish a new connection: [Errno 60] Operation timed out',))\n"
     ]
    },
    {
     "name": "stdout",
     "output_type": "stream",
     "text": [
      "http://clerk.house.gov/evs/2007/roll809.xml\n",
      "http://clerk.house.gov/evs/2008/roll454.xml\n",
      "http://clerk.house.gov/evs/2005/roll633.xml\n"
     ]
    },
    {
     "name": "stderr",
     "output_type": "stream",
     "text": [
      "Traceback (most recent call last):\n",
      "  File \"//anaconda/lib/python3.6/site-packages/urllib3/connection.py\", line 159, in _new_conn\n",
      "    (self._dns_host, self.port), self.timeout, **extra_kw)\n",
      "  File \"//anaconda/lib/python3.6/site-packages/urllib3/util/connection.py\", line 80, in create_connection\n",
      "    raise err\n",
      "  File \"//anaconda/lib/python3.6/site-packages/urllib3/util/connection.py\", line 70, in create_connection\n",
      "    sock.connect(sa)\n",
      "TimeoutError: [Errno 60] Operation timed out\n",
      "\n",
      "During handling of the above exception, another exception occurred:\n",
      "\n",
      "Traceback (most recent call last):\n",
      "  File \"//anaconda/lib/python3.6/site-packages/urllib3/connectionpool.py\", line 600, in urlopen\n",
      "    chunked=chunked)\n",
      "  File \"//anaconda/lib/python3.6/site-packages/urllib3/connectionpool.py\", line 354, in _make_request\n",
      "    conn.request(method, url, **httplib_request_kw)\n",
      "  File \"//anaconda/lib/python3.6/http/client.py\", line 1254, in request\n",
      "    self._send_request(method, url, body, headers, encode_chunked)\n",
      "  File \"//anaconda/lib/python3.6/http/client.py\", line 1300, in _send_request\n",
      "    self.endheaders(body, encode_chunked=encode_chunked)\n",
      "  File \"//anaconda/lib/python3.6/http/client.py\", line 1249, in endheaders\n",
      "    self._send_output(message_body, encode_chunked=encode_chunked)\n",
      "  File \"//anaconda/lib/python3.6/http/client.py\", line 1036, in _send_output\n",
      "    self.send(msg)\n",
      "  File \"//anaconda/lib/python3.6/http/client.py\", line 974, in send\n",
      "    self.connect()\n",
      "  File \"//anaconda/lib/python3.6/site-packages/urllib3/connection.py\", line 181, in connect\n",
      "    conn = self._new_conn()\n",
      "  File \"//anaconda/lib/python3.6/site-packages/urllib3/connection.py\", line 168, in _new_conn\n",
      "    self, \"Failed to establish a new connection: %s\" % e)\n",
      "urllib3.exceptions.NewConnectionError: <urllib3.connection.HTTPConnection object at 0x120178898>: Failed to establish a new connection: [Errno 60] Operation timed out\n",
      "\n",
      "During handling of the above exception, another exception occurred:\n",
      "\n",
      "Traceback (most recent call last):\n",
      "  File \"//anaconda/lib/python3.6/site-packages/requests/adapters.py\", line 449, in send\n",
      "    timeout=timeout\n",
      "  File \"//anaconda/lib/python3.6/site-packages/urllib3/connectionpool.py\", line 638, in urlopen\n",
      "    _stacktrace=sys.exc_info()[2])\n",
      "  File \"//anaconda/lib/python3.6/site-packages/urllib3/util/retry.py\", line 399, in increment\n",
      "    raise MaxRetryError(_pool, url, error or ResponseError(cause))\n",
      "urllib3.exceptions.MaxRetryError: HTTPConnectionPool(host='clerk.house.gov', port=80): Max retries exceeded with url: /evs/2004/roll093.xml (Caused by NewConnectionError('<urllib3.connection.HTTPConnection object at 0x120178898>: Failed to establish a new connection: [Errno 60] Operation timed out',))\n",
      "\n",
      "During handling of the above exception, another exception occurred:\n",
      "\n",
      "Traceback (most recent call last):\n",
      "  File \"<ipython-input-8-530adc215787>\", line 7, in house_rollcall_individual_parallel\n",
      "    obj.roll_call_single_to_psql(year, rollcall)\n",
      "  File \"/Users/benellis/Projects/congress/congress/etl/house_votes.py\", line 183, in roll_call_single_to_psql\n",
      "    df = self.roll_call_single(year, roll)\n",
      "  File \"/Users/benellis/Projects/congress/congress/etl/house_votes.py\", line 137, in roll_call_single\n",
      "    data = requests.get(url)\n",
      "  File \"//anaconda/lib/python3.6/site-packages/requests/api.py\", line 75, in get\n",
      "    return request('get', url, params=params, **kwargs)\n",
      "  File \"//anaconda/lib/python3.6/site-packages/requests/api.py\", line 60, in request\n",
      "    return session.request(method=method, url=url, **kwargs)\n",
      "  File \"//anaconda/lib/python3.6/site-packages/requests/sessions.py\", line 533, in request\n",
      "    resp = self.send(prep, **send_kwargs)\n",
      "  File \"//anaconda/lib/python3.6/site-packages/requests/sessions.py\", line 646, in send\n",
      "    r = adapter.send(request, **kwargs)\n",
      "  File \"//anaconda/lib/python3.6/site-packages/requests/adapters.py\", line 516, in send\n",
      "    raise ConnectionError(e, request=request)\n",
      "requests.exceptions.ConnectionError: HTTPConnectionPool(host='clerk.house.gov', port=80): Max retries exceeded with url: /evs/2004/roll093.xml (Caused by NewConnectionError('<urllib3.connection.HTTPConnection object at 0x120178898>: Failed to establish a new connection: [Errno 60] Operation timed out',))\n"
     ]
    },
    {
     "name": "stdout",
     "output_type": "stream",
     "text": [
      "http://clerk.house.gov/evs/2004/roll092.xml\n",
      "http://clerk.house.gov/evs/2005/roll632.xml\n"
     ]
    },
    {
     "name": "stderr",
     "output_type": "stream",
     "text": [
      "Process ForkPoolWorker-4:\n",
      "Process ForkPoolWorker-2:\n",
      "Process ForkPoolWorker-3:\n",
      "Process ForkPoolWorker-1:\n",
      "Traceback (most recent call last):\n",
      "Traceback (most recent call last):\n",
      "Traceback (most recent call last):\n",
      "Traceback (most recent call last):\n",
      "  File \"//anaconda/lib/python3.6/multiprocessing/process.py\", line 258, in _bootstrap\n",
      "    self.run()\n",
      "  File \"//anaconda/lib/python3.6/multiprocessing/process.py\", line 258, in _bootstrap\n",
      "    self.run()\n",
      "  File \"//anaconda/lib/python3.6/multiprocessing/process.py\", line 258, in _bootstrap\n",
      "    self.run()\n",
      "  File \"//anaconda/lib/python3.6/multiprocessing/process.py\", line 258, in _bootstrap\n",
      "    self.run()\n",
      "  File \"//anaconda/lib/python3.6/multiprocessing/process.py\", line 93, in run\n",
      "    self._target(*self._args, **self._kwargs)\n",
      "  File \"//anaconda/lib/python3.6/multiprocessing/process.py\", line 93, in run\n",
      "    self._target(*self._args, **self._kwargs)\n",
      "  File \"//anaconda/lib/python3.6/multiprocessing/process.py\", line 93, in run\n",
      "    self._target(*self._args, **self._kwargs)\n",
      "ERROR:root:Internal Python error in the inspect module.\n",
      "Below is the traceback from this internal error.\n",
      "\n"
     ]
    },
    {
     "name": "stdout",
     "output_type": "stream",
     "text": [
      "Traceback (most recent call last):\n",
      "  File \"//anaconda/lib/python3.6/site-packages/IPython/core/interactiveshell.py\", line 3326, in run_code\n",
      "    exec(code_obj, self.user_global_ns, self.user_ns)\n",
      "  File \"<ipython-input-9-8beea928bca2>\", line 2, in <module>\n",
      "    pool.starmap(house_rollcall_individual_parallel, [(i, j) for i, j in zip(df['year'].values, df['rollcall'].values)])\n",
      "  File \"//anaconda/lib/python3.6/multiprocessing/pool.py\", line 274, in starmap\n",
      "    return self._map_async(func, iterable, starmapstar, chunksize).get()\n",
      "  File \"//anaconda/lib/python3.6/multiprocessing/pool.py\", line 638, in get\n",
      "    self.wait(timeout)\n",
      "  File \"//anaconda/lib/python3.6/multiprocessing/pool.py\", line 635, in wait\n",
      "    self._event.wait(timeout)\n",
      "  File \"//anaconda/lib/python3.6/threading.py\", line 551, in wait\n",
      "    signaled = self._cond.wait(timeout)\n",
      "  File \"//anaconda/lib/python3.6/threading.py\", line 295, in wait\n",
      "    waiter.acquire()\n",
      "KeyboardInterrupt\n",
      "\n",
      "During handling of the above exception, another exception occurred:\n",
      "\n",
      "Traceback (most recent call last):\n",
      "  File \"//anaconda/lib/python3.6/site-packages/IPython/core/interactiveshell.py\", line 2040, in showtraceback\n",
      "    stb = value._render_traceback_()\n",
      "AttributeError: 'KeyboardInterrupt' object has no attribute '_render_traceback_'\n",
      "\n",
      "During handling of the above exception, another exception occurred:\n",
      "\n",
      "Traceback (most recent call last):\n",
      "  File \"//anaconda/lib/python3.6/site-packages/IPython/core/ultratb.py\", line 1101, in get_records\n",
      "    return _fixed_getinnerframes(etb, number_of_lines_of_context, tb_offset)\n",
      "  File \"//anaconda/lib/python3.6/site-packages/IPython/core/ultratb.py\", line 319, in wrapped\n",
      "    return f(*args, **kwargs)\n",
      "  File \"//anaconda/lib/python3.6/site-packages/IPython/core/ultratb.py\", line 353, in _fixed_getinnerframes\n",
      "    records = fix_frame_records_filenames(inspect.getinnerframes(etb, context))\n",
      "  File \"//anaconda/lib/python3.6/inspect.py\", line 1490, in getinnerframes\n",
      "    frameinfo = (tb.tb_frame,) + getframeinfo(tb, context)\n",
      "  File \"//anaconda/lib/python3.6/inspect.py\", line 1448, in getframeinfo\n",
      "    filename = getsourcefile(frame) or getfile(frame)\n",
      "  File \"//anaconda/lib/python3.6/inspect.py\", line 696, in getsourcefile\n",
      "    if getattr(getmodule(object, filename), '__loader__', None) is not None:\n",
      "  File \"//anaconda/lib/python3.6/inspect.py\", line 739, in getmodule\n",
      "    f = getabsfile(module)\n",
      "  File \"//anaconda/lib/python3.6/inspect.py\", line 708, in getabsfile\n",
      "    _filename = getsourcefile(object) or getfile(object)\n",
      "  File \"//anaconda/lib/python3.6/inspect.py\", line 693, in getsourcefile\n",
      "    if os.path.exists(filename):\n",
      "  File \"//anaconda/lib/python3.6/genericpath.py\", line 19, in exists\n",
      "    os.stat(path)\n",
      "KeyboardInterrupt\n"
     ]
    },
    {
     "ename": "KeyboardInterrupt",
     "evalue": "",
     "output_type": "error",
     "traceback": [
      "\u001b[0;31m---------------------------------------------------------------------------\u001b[0m"
     ]
    }
   ],
   "source": [
    "with mp.Pool() as pool:\n",
    "    pool.starmap(house_rollcall_individual_parallel, [(i, j) for i, j in zip(df['year'].values, df['rollcall'].values)])"
   ]
  },
  {
   "cell_type": "raw",
   "metadata": {
    "ExecuteTime": {
     "end_time": "2020-05-15T05:12:24.401095Z",
     "start_time": "2020-05-15T04:44:28.519403Z"
    }
   },
   "source": [
    "for idx, row in df.iterrows():\n",
    "    if int(row['year']) <= 2002:\n",
    "        continue\n",
    "    print(row['year'], row['rollcall'])\n",
    "    obj.roll_call_single_to_psql(row['year'], row['rollcall'])"
   ]
  },
  {
   "cell_type": "code",
   "execution_count": null,
   "metadata": {
    "ExecuteTime": {
     "end_time": "2020-05-15T05:13:05.575279Z",
     "start_time": "2020-05-15T05:13:05.248886Z"
    }
   },
   "outputs": [],
   "source": [
    "obj.roll_call_single(2002, 20)"
   ]
  },
  {
   "cell_type": "code",
   "execution_count": null,
   "metadata": {
    "ExecuteTime": {
     "end_time": "2020-05-15T04:38:07.063098Z",
     "start_time": "2020-05-15T04:38:06.399819Z"
    }
   },
   "outputs": [],
   "source": [
    "r = requests.get('http://clerk.house.gov/evs/2000/roll099.xml')"
   ]
  },
  {
   "cell_type": "code",
   "execution_count": null,
   "metadata": {
    "ExecuteTime": {
     "end_time": "2020-05-15T04:38:07.069667Z",
     "start_time": "2020-05-15T04:38:07.065765Z"
    }
   },
   "outputs": [],
   "source": [
    "from bs4 import BeautifulSoup"
   ]
  },
  {
   "cell_type": "code",
   "execution_count": null,
   "metadata": {
    "ExecuteTime": {
     "end_time": "2020-05-15T04:38:07.270722Z",
     "start_time": "2020-05-15T04:38:07.207024Z"
    }
   },
   "outputs": [],
   "source": [
    "soup = BeautifulSoup(r.text)"
   ]
  },
  {
   "cell_type": "code",
   "execution_count": null,
   "metadata": {
    "ExecuteTime": {
     "end_time": "2020-05-15T04:38:07.709231Z",
     "start_time": "2020-05-15T04:38:07.669257Z"
    }
   },
   "outputs": [],
   "source": [
    "soup.find_all('recorded-vote')"
   ]
  },
  {
   "cell_type": "code",
   "execution_count": null,
   "metadata": {},
   "outputs": [],
   "source": []
  },
  {
   "cell_type": "raw",
   "metadata": {
    "ExecuteTime": {
     "end_time": "2020-05-14T22:22:15.924079Z",
     "start_time": "2020-05-14T22:22:12.489626Z"
    }
   },
   "source": [
    "obj.roll_call_single_to_psql(2010, 2)"
   ]
  },
  {
   "cell_type": "code",
   "execution_count": null,
   "metadata": {
    "ExecuteTime": {
     "end_time": "2020-05-12T03:13:59.461015Z",
     "start_time": "2020-05-12T03:13:59.453908Z"
    }
   },
   "outputs": [],
   "source": [
    "from congress.etl import senate_votes"
   ]
  },
  {
   "cell_type": "code",
   "execution_count": null,
   "metadata": {
    "ExecuteTime": {
     "end_time": "2020-05-12T03:14:42.541065Z",
     "start_time": "2020-05-12T03:14:41.078356Z"
    }
   },
   "outputs": [],
   "source": [
    "obj = senate_votes.SenateVotes2DB()\n",
    "c = obj.roll_call_summary(101)"
   ]
  },
  {
   "cell_type": "code",
   "execution_count": null,
   "metadata": {
    "ExecuteTime": {
     "end_time": "2020-05-12T03:15:51.246481Z",
     "start_time": "2020-05-12T03:15:51.226825Z"
    }
   },
   "outputs": [],
   "source": [
    "c"
   ]
  },
  {
   "cell_type": "code",
   "execution_count": null,
   "metadata": {
    "ExecuteTime": {
     "end_time": "2020-05-14T04:32:39.268976Z",
     "start_time": "2020-05-14T04:32:38.769980Z"
    }
   },
   "outputs": [],
   "source": [
    "obj.roll_call_single(101, 1, 280)"
   ]
  }
 ],
 "metadata": {
  "kernelspec": {
   "display_name": "Python 3",
   "language": "python",
   "name": "python3"
  },
  "language_info": {
   "codemirror_mode": {
    "name": "ipython",
    "version": 3
   },
   "file_extension": ".py",
   "mimetype": "text/x-python",
   "name": "python",
   "nbconvert_exporter": "python",
   "pygments_lexer": "ipython3",
   "version": "3.6.9"
  },
  "toc": {
   "colors": {
    "hover_highlight": "#DAA520",
    "navigate_num": "#000000",
    "navigate_text": "#333333",
    "running_highlight": "#FF0000",
    "selected_highlight": "#FFD700",
    "sidebar_border": "#EEEEEE",
    "wrapper_background": "#FFFFFF"
   },
   "moveMenuLeft": true,
   "nav_menu": {
    "height": "11.9922px",
    "width": "251.992px"
   },
   "navigate_menu": true,
   "number_sections": true,
   "sideBar": true,
   "threshold": 4,
   "toc_cell": false,
   "toc_section_display": "block",
   "toc_window_display": false,
   "widenNotebook": false
  }
 },
 "nbformat": 4,
 "nbformat_minor": 2
}
